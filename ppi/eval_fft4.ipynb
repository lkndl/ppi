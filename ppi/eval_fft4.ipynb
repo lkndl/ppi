{
 "cells": [
  {
   "cell_type": "markdown",
   "source": [
    "# Eval the models trained on our dataset\n",
    "`publish` them first so we don't have to worry about the model class."
   ],
   "metadata": {
    "collapsed": false
   }
  },
  {
   "cell_type": "code",
   "execution_count": 1,
   "outputs": [],
   "source": [
    "import sys\n",
    "from pathlib import Path\n",
    "from ppi.main import publish"
   ],
   "metadata": {
    "collapsed": false
   }
  },
  {
   "cell_type": "code",
   "execution_count": 2,
   "outputs": [],
   "source": [
    "model_dir = Path('/home/quirin/PYTHON/ppi/runs/full/fft4')"
   ],
   "metadata": {
    "collapsed": false
   }
  },
  {
   "cell_type": "code",
   "execution_count": 3,
   "outputs": [
    {
     "name": "stderr",
     "output_type": "stream",
     "text": [
      "100%|██████████| 3/3 [00:00<00:00,  7.61it/s]\n"
     ]
    }
   ],
   "source": [
    "publish(['/home/quirin/PYTHON/ppi/ppi/out/f9'])"
   ],
   "metadata": {
    "collapsed": false
   }
  },
  {
   "cell_type": "code",
   "execution_count": 4,
   "outputs": [
    {
     "name": "stderr",
     "output_type": "stream",
     "text": [
      "100%|██████████| 46/46 [00:06<00:00,  7.19it/s]\n"
     ]
    }
   ],
   "source": [
    "publish([model_dir])"
   ],
   "metadata": {
    "collapsed": false
   }
  },
  {
   "cell_type": "code",
   "execution_count": 5,
   "outputs": [
    {
     "name": "stderr",
     "output_type": "stream",
     "text": [
      "100%|██████████| 86/86 [00:10<00:00,  8.09it/s]\n"
     ]
    }
   ],
   "source": [
    "publish([model_dir.with_stem('chimera')])"
   ],
   "metadata": {
    "collapsed": false
   }
  },
  {
   "cell_type": "code",
   "execution_count": 6,
   "outputs": [
    {
     "name": "stderr",
     "output_type": "stream",
     "text": [
      "100%|██████████| 1/1 [00:00<00:00,  7.92it/s]\n"
     ]
    }
   ],
   "source": [
    "publish([model_dir.parent / 'fft3/chk_eval_339682.tar'])"
   ],
   "metadata": {
    "collapsed": false
   }
  },
  {
   "cell_type": "markdown",
   "source": [
    "on the server\n",
    ">ppi publish --model /mnt/project/kaindl/ppi/runs/full/chimera\n",
    ">ppi publish --model /mnt/project/kaindl/ppi/runs/full/fft4\n",
    ">ppi publish --model /mnt/project/kaindl/ppi/runs/full/fft3/chk_eval_339682.tar"
   ],
   "metadata": {
    "collapsed": false
   }
  },
  {
   "cell_type": "markdown",
   "source": [
    "## Fetch some results"
   ],
   "metadata": {
    "collapsed": false
   }
  },
  {
   "cell_type": "code",
   "execution_count": 11,
   "outputs": [],
   "source": [
    "# download the full runs except for the large tboard folder and all checkpoints\n",
    "!rsync -i -zar --bwlimit=51200 --exclude=\"*.log\" --exclude=\"*.tar\" --exclude=\"tboard\" -e ssh \"kaindl@rostssh:/mnt/project/kaindl/ppi/runs/full\" \"/home/quirin/PYTHON/ppi/runs\"  --dry-run"
   ],
   "metadata": {
    "collapsed": false
   }
  },
  {
   "cell_type": "code",
   "execution_count": null,
   "outputs": [],
   "source": [
    "# download the full folders\n",
    "!rsync -i -zar --bwlimit=51200 --exclude=\"*.log\" -e ssh \"kaindl@rostssh:/mnt/project/kaindl/ppi/runs/full/fft4\" \"/home/quirin/PYTHON/ppi/runs/full\" --dry-run\n",
    "!rsync -i -zar --bwlimit=51200 --exclude=\"*.log\" -e ssh \"kaindl@rostssh:/mnt/project/kaindl/ppi/runs/full/chimera\" \"/home/quirin/PYTHON/ppi/runs/full\" --dry-run\n",
    "'done'"
   ],
   "metadata": {
    "collapsed": false
   }
  },
  {
   "cell_type": "code",
   "execution_count": 188,
   "outputs": [
    {
     "name": "stdout",
     "output_type": "stream",
     "text": [
      "mkdir: cannot create directory ‘/home/quirin/PYTHON/ppi/runs/full/tboard/’: File exists\r\n",
      "cd+++++++++ fft4/\r\n",
      ">f+++++++++ fft4/events.out.tfevents.1658704450.lsf-server-2.lan.rostlab.org.73091.0\r\n",
      ">f+++++++++ fft4/events.out.tfevents.1659054233.lsf-server-2.lan.rostlab.org.6806.0\r\n",
      ">f+++++++++ fft4/events.out.tfevents.1659616797.lsf-server-2.lan.rostlab.org.44755.0\r\n",
      ">f+++++++++ fft4/events.out.tfevents.1659651279.lsf-server-2.lan.rostlab.org.80797.0\r\n",
      ">f+++++++++ fft4/events.out.tfevents.1659795176.lsf-server-2.lan.rostlab.org.36664.0\r\n",
      ">f+++++++++ fft4/events.out.tfevents.1659828462.lsf-server-2.lan.rostlab.org.60944.0\r\n",
      ">f+++++++++ fft4/events.out.tfevents.1660164732.lsf-server-2.lan.rostlab.org.77270.0\r\n",
      ">f+++++++++ fft4/events.out.tfevents.1669993659.lsf-server-2.lan.rostlab.org.43893.0\r\n",
      ">f+++++++++ fft4/events.out.tfevents.1669995173.lsf-server-2.lan.rostlab.org.45522.0\r\n",
      ">f+++++++++ fft4/events.out.tfevents.1670005222.lsf-server-2.lan.rostlab.org.56540.0\r\n",
      ">f+++++++++ fft4/events.out.tfevents.1670006875.lsf-server-2.lan.rostlab.org.58333.0\r\n",
      ">f+++++++++ fft4/events.out.tfevents.1670015610.lsf-server-2.lan.rostlab.org.66601.0\r\n",
      ">f+++++++++ fft4/events.out.tfevents.1670015805.lsf-server-2.lan.rostlab.org.66931.0\r\n",
      ">f+++++++++ fft4/events.out.tfevents.1670017343.lsf-server-2.lan.rostlab.org.75022.0\r\n",
      ">f+++++++++ fft4/events.out.tfevents.1670017501.lsf-server-2.lan.rostlab.org.75533.0\r\n",
      ">f+++++++++ fft4/events.out.tfevents.1670017667.lsf-server-2.lan.rostlab.org.77177.0\r\n",
      ">f+++++++++ fft4/events.out.tfevents.1670017927.lsf-server-2.lan.rostlab.org.77633.0\r\n",
      ">f+++++++++ fft4/events.out.tfevents.1670020938.lsf-server-2.lan.rostlab.org.81341.0\r\n",
      "cd+++++++++ fft4/acc_val_C1/\r\n",
      ">f+++++++++ fft4/acc_val_C1/events.out.tfevents.1658724882.lsf-server-2.lan.rostlab.org.73091.3\r\n",
      ">f+++++++++ fft4/acc_val_C1/events.out.tfevents.1659062994.lsf-server-2.lan.rostlab.org.6806.3\r\n",
      ">f+++++++++ fft4/acc_val_C1/events.out.tfevents.1659623232.lsf-server-2.lan.rostlab.org.44755.3\r\n",
      ">f+++++++++ fft4/acc_val_C1/events.out.tfevents.1659658021.lsf-server-2.lan.rostlab.org.80797.3\r\n",
      ">f+++++++++ fft4/acc_val_C1/events.out.tfevents.1659799302.lsf-server-2.lan.rostlab.org.36664.3\r\n",
      ">f+++++++++ fft4/acc_val_C1/events.out.tfevents.1659832821.lsf-server-2.lan.rostlab.org.60944.3\r\n",
      ">f+++++++++ fft4/acc_val_C1/events.out.tfevents.1660171137.lsf-server-2.lan.rostlab.org.77270.3\r\n",
      ">f+++++++++ fft4/acc_val_C1/events.out.tfevents.1670020033.lsf-server-2.lan.rostlab.org.77633.3\r\n",
      ">f+++++++++ fft4/acc_val_C1/events.out.tfevents.1670023380.lsf-server-2.lan.rostlab.org.81341.3\r\n",
      "cd+++++++++ fft4/acc_val_C2/\r\n",
      ">f+++++++++ fft4/acc_val_C2/events.out.tfevents.1658724882.lsf-server-2.lan.rostlab.org.73091.4\r\n",
      ">f+++++++++ fft4/acc_val_C2/events.out.tfevents.1659062994.lsf-server-2.lan.rostlab.org.6806.4\r\n",
      ">f+++++++++ fft4/acc_val_C2/events.out.tfevents.1659623232.lsf-server-2.lan.rostlab.org.44755.4\r\n",
      ">f+++++++++ fft4/acc_val_C2/events.out.tfevents.1659658021.lsf-server-2.lan.rostlab.org.80797.4\r\n",
      ">f+++++++++ fft4/acc_val_C2/events.out.tfevents.1659799302.lsf-server-2.lan.rostlab.org.36664.4\r\n",
      ">f+++++++++ fft4/acc_val_C2/events.out.tfevents.1659832821.lsf-server-2.lan.rostlab.org.60944.4\r\n",
      ">f+++++++++ fft4/acc_val_C2/events.out.tfevents.1660171137.lsf-server-2.lan.rostlab.org.77270.4\r\n",
      ">f+++++++++ fft4/acc_val_C2/events.out.tfevents.1670020033.lsf-server-2.lan.rostlab.org.77633.4\r\n",
      ">f+++++++++ fft4/acc_val_C2/events.out.tfevents.1670023380.lsf-server-2.lan.rostlab.org.81341.4\r\n",
      "cd+++++++++ fft4/acc_val_C3/\r\n",
      ">f+++++++++ fft4/acc_val_C3/events.out.tfevents.1658724882.lsf-server-2.lan.rostlab.org.73091.5\r\n",
      ">f+++++++++ fft4/acc_val_C3/events.out.tfevents.1659062994.lsf-server-2.lan.rostlab.org.6806.5\r\n",
      ">f+++++++++ fft4/acc_val_C3/events.out.tfevents.1659623232.lsf-server-2.lan.rostlab.org.44755.5\r\n",
      ">f+++++++++ fft4/acc_val_C3/events.out.tfevents.1659658021.lsf-server-2.lan.rostlab.org.80797.5\r\n",
      ">f+++++++++ fft4/acc_val_C3/events.out.tfevents.1659799302.lsf-server-2.lan.rostlab.org.36664.5\r\n",
      ">f+++++++++ fft4/acc_val_C3/events.out.tfevents.1659832821.lsf-server-2.lan.rostlab.org.60944.5\r\n",
      ">f+++++++++ fft4/acc_val_C3/events.out.tfevents.1660171137.lsf-server-2.lan.rostlab.org.77270.5\r\n",
      ">f+++++++++ fft4/acc_val_C3/events.out.tfevents.1670020033.lsf-server-2.lan.rostlab.org.77633.5\r\n",
      ">f+++++++++ fft4/acc_val_C3/events.out.tfevents.1670023380.lsf-server-2.lan.rostlab.org.81341.5\r\n",
      "cd+++++++++ fft4/aupr_val_C1/\r\n",
      ">f+++++++++ fft4/aupr_val_C1/events.out.tfevents.1658724882.lsf-server-2.lan.rostlab.org.73091.15\r\n",
      ">f+++++++++ fft4/aupr_val_C1/events.out.tfevents.1659062994.lsf-server-2.lan.rostlab.org.6806.15\r\n",
      ">f+++++++++ fft4/aupr_val_C1/events.out.tfevents.1659623232.lsf-server-2.lan.rostlab.org.44755.15\r\n",
      ">f+++++++++ fft4/aupr_val_C1/events.out.tfevents.1659658021.lsf-server-2.lan.rostlab.org.80797.15\r\n",
      ">f+++++++++ fft4/aupr_val_C1/events.out.tfevents.1659799303.lsf-server-2.lan.rostlab.org.36664.15\r\n",
      ">f+++++++++ fft4/aupr_val_C1/events.out.tfevents.1659832821.lsf-server-2.lan.rostlab.org.60944.15\r\n",
      ">f+++++++++ fft4/aupr_val_C1/events.out.tfevents.1660171138.lsf-server-2.lan.rostlab.org.77270.15\r\n",
      ">f+++++++++ fft4/aupr_val_C1/events.out.tfevents.1670020033.lsf-server-2.lan.rostlab.org.77633.15\r\n",
      ">f+++++++++ fft4/aupr_val_C1/events.out.tfevents.1670023381.lsf-server-2.lan.rostlab.org.81341.15\r\n",
      "cd+++++++++ fft4/aupr_val_C2/\r\n",
      ">f+++++++++ fft4/aupr_val_C2/events.out.tfevents.1658724882.lsf-server-2.lan.rostlab.org.73091.16\r\n",
      ">f+++++++++ fft4/aupr_val_C2/events.out.tfevents.1659062994.lsf-server-2.lan.rostlab.org.6806.16\r\n",
      ">f+++++++++ fft4/aupr_val_C2/events.out.tfevents.1659623232.lsf-server-2.lan.rostlab.org.44755.16\r\n",
      ">f+++++++++ fft4/aupr_val_C2/events.out.tfevents.1659658021.lsf-server-2.lan.rostlab.org.80797.16\r\n",
      ">f+++++++++ fft4/aupr_val_C2/events.out.tfevents.1659799303.lsf-server-2.lan.rostlab.org.36664.16\r\n",
      ">f+++++++++ fft4/aupr_val_C2/events.out.tfevents.1659832821.lsf-server-2.lan.rostlab.org.60944.16\r\n",
      ">f+++++++++ fft4/aupr_val_C2/events.out.tfevents.1660171138.lsf-server-2.lan.rostlab.org.77270.16\r\n",
      ">f+++++++++ fft4/aupr_val_C2/events.out.tfevents.1670020033.lsf-server-2.lan.rostlab.org.77633.16\r\n",
      ">f+++++++++ fft4/aupr_val_C2/events.out.tfevents.1670023381.lsf-server-2.lan.rostlab.org.81341.16\r\n",
      "cd+++++++++ fft4/aupr_val_C3/\r\n",
      ">f+++++++++ fft4/aupr_val_C3/events.out.tfevents.1658724882.lsf-server-2.lan.rostlab.org.73091.17\r\n",
      ">f+++++++++ fft4/aupr_val_C3/events.out.tfevents.1659062994.lsf-server-2.lan.rostlab.org.6806.17\r\n",
      ">f+++++++++ fft4/aupr_val_C3/events.out.tfevents.1659623232.lsf-server-2.lan.rostlab.org.44755.17\r\n",
      ">f+++++++++ fft4/aupr_val_C3/events.out.tfevents.1659658021.lsf-server-2.lan.rostlab.org.80797.17\r\n",
      ">f+++++++++ fft4/aupr_val_C3/events.out.tfevents.1659799303.lsf-server-2.lan.rostlab.org.36664.17\r\n",
      ">f+++++++++ fft4/aupr_val_C3/events.out.tfevents.1659832821.lsf-server-2.lan.rostlab.org.60944.17\r\n",
      ">f+++++++++ fft4/aupr_val_C3/events.out.tfevents.1660171138.lsf-server-2.lan.rostlab.org.77270.17\r\n",
      ">f+++++++++ fft4/aupr_val_C3/events.out.tfevents.1670020033.lsf-server-2.lan.rostlab.org.77633.17\r\n",
      ">f+++++++++ fft4/aupr_val_C3/events.out.tfevents.1670023381.lsf-server-2.lan.rostlab.org.81341.17\r\n",
      "cd+++++++++ fft4/f1_val_C1/\r\n",
      ">f+++++++++ fft4/f1_val_C1/events.out.tfevents.1658724882.lsf-server-2.lan.rostlab.org.73091.12\r\n",
      ">f+++++++++ fft4/f1_val_C1/events.out.tfevents.1659062994.lsf-server-2.lan.rostlab.org.6806.12\r\n",
      ">f+++++++++ fft4/f1_val_C1/events.out.tfevents.1659623232.lsf-server-2.lan.rostlab.org.44755.12\r\n",
      ">f+++++++++ fft4/f1_val_C1/events.out.tfevents.1659658021.lsf-server-2.lan.rostlab.org.80797.12\r\n",
      ">f+++++++++ fft4/f1_val_C1/events.out.tfevents.1659799303.lsf-server-2.lan.rostlab.org.36664.12\r\n",
      ">f+++++++++ fft4/f1_val_C1/events.out.tfevents.1659832821.lsf-server-2.lan.rostlab.org.60944.12\r\n",
      ">f+++++++++ fft4/f1_val_C1/events.out.tfevents.1660171138.lsf-server-2.lan.rostlab.org.77270.12\r\n",
      ">f+++++++++ fft4/f1_val_C1/events.out.tfevents.1670020033.lsf-server-2.lan.rostlab.org.77633.12\r\n",
      ">f+++++++++ fft4/f1_val_C1/events.out.tfevents.1670023381.lsf-server-2.lan.rostlab.org.81341.12\r\n",
      "cd+++++++++ fft4/f1_val_C2/\r\n",
      ">f+++++++++ fft4/f1_val_C2/events.out.tfevents.1658724882.lsf-server-2.lan.rostlab.org.73091.13\r\n",
      ">f+++++++++ fft4/f1_val_C2/events.out.tfevents.1659062994.lsf-server-2.lan.rostlab.org.6806.13\r\n",
      ">f+++++++++ fft4/f1_val_C2/events.out.tfevents.1659623232.lsf-server-2.lan.rostlab.org.44755.13\r\n",
      ">f+++++++++ fft4/f1_val_C2/events.out.tfevents.1659658021.lsf-server-2.lan.rostlab.org.80797.13\r\n",
      ">f+++++++++ fft4/f1_val_C2/events.out.tfevents.1659799303.lsf-server-2.lan.rostlab.org.36664.13\r\n",
      ">f+++++++++ fft4/f1_val_C2/events.out.tfevents.1659832821.lsf-server-2.lan.rostlab.org.60944.13\r\n",
      ">f+++++++++ fft4/f1_val_C2/events.out.tfevents.1660171138.lsf-server-2.lan.rostlab.org.77270.13\r\n",
      ">f+++++++++ fft4/f1_val_C2/events.out.tfevents.1670020033.lsf-server-2.lan.rostlab.org.77633.13\r\n",
      ">f+++++++++ fft4/f1_val_C2/events.out.tfevents.1670023381.lsf-server-2.lan.rostlab.org.81341.13\r\n",
      "cd+++++++++ fft4/f1_val_C3/\r\n",
      ">f+++++++++ fft4/f1_val_C3/events.out.tfevents.1658724882.lsf-server-2.lan.rostlab.org.73091.14\r\n",
      ">f+++++++++ fft4/f1_val_C3/events.out.tfevents.1659062994.lsf-server-2.lan.rostlab.org.6806.14\r\n",
      ">f+++++++++ fft4/f1_val_C3/events.out.tfevents.1659623232.lsf-server-2.lan.rostlab.org.44755.14\r\n",
      ">f+++++++++ fft4/f1_val_C3/events.out.tfevents.1659658021.lsf-server-2.lan.rostlab.org.80797.14\r\n",
      ">f+++++++++ fft4/f1_val_C3/events.out.tfevents.1659799303.lsf-server-2.lan.rostlab.org.36664.14\r\n",
      ">f+++++++++ fft4/f1_val_C3/events.out.tfevents.1659832821.lsf-server-2.lan.rostlab.org.60944.14\r\n",
      ">f+++++++++ fft4/f1_val_C3/events.out.tfevents.1660171138.lsf-server-2.lan.rostlab.org.77270.14\r\n",
      ">f+++++++++ fft4/f1_val_C3/events.out.tfevents.1670020033.lsf-server-2.lan.rostlab.org.77633.14\r\n",
      ">f+++++++++ fft4/f1_val_C3/events.out.tfevents.1670023381.lsf-server-2.lan.rostlab.org.81341.14\r\n",
      "cd+++++++++ fft4/loss_val_C1/\r\n",
      ">f+++++++++ fft4/loss_val_C1/events.out.tfevents.1658724882.lsf-server-2.lan.rostlab.org.73091.18\r\n",
      ">f+++++++++ fft4/loss_val_C1/events.out.tfevents.1659062994.lsf-server-2.lan.rostlab.org.6806.18\r\n",
      ">f+++++++++ fft4/loss_val_C1/events.out.tfevents.1659623232.lsf-server-2.lan.rostlab.org.44755.18\r\n",
      ">f+++++++++ fft4/loss_val_C1/events.out.tfevents.1659658021.lsf-server-2.lan.rostlab.org.80797.18\r\n",
      ">f+++++++++ fft4/loss_val_C1/events.out.tfevents.1659799303.lsf-server-2.lan.rostlab.org.36664.18\r\n",
      ">f+++++++++ fft4/loss_val_C1/events.out.tfevents.1659832821.lsf-server-2.lan.rostlab.org.60944.18\r\n",
      ">f+++++++++ fft4/loss_val_C1/events.out.tfevents.1660171138.lsf-server-2.lan.rostlab.org.77270.18\r\n",
      ">f+++++++++ fft4/loss_val_C1/events.out.tfevents.1670020033.lsf-server-2.lan.rostlab.org.77633.21\r\n",
      ">f+++++++++ fft4/loss_val_C1/events.out.tfevents.1670023381.lsf-server-2.lan.rostlab.org.81341.21\r\n",
      "cd+++++++++ fft4/loss_val_C2/\r\n",
      ">f+++++++++ fft4/loss_val_C2/events.out.tfevents.1658724882.lsf-server-2.lan.rostlab.org.73091.19\r\n",
      ">f+++++++++ fft4/loss_val_C2/events.out.tfevents.1659062994.lsf-server-2.lan.rostlab.org.6806.19\r\n",
      ">f+++++++++ fft4/loss_val_C2/events.out.tfevents.1659623232.lsf-server-2.lan.rostlab.org.44755.19\r\n",
      ">f+++++++++ fft4/loss_val_C2/events.out.tfevents.1659658021.lsf-server-2.lan.rostlab.org.80797.19\r\n",
      ">f+++++++++ fft4/loss_val_C2/events.out.tfevents.1659799303.lsf-server-2.lan.rostlab.org.36664.19\r\n",
      ">f+++++++++ fft4/loss_val_C2/events.out.tfevents.1659832821.lsf-server-2.lan.rostlab.org.60944.19\r\n",
      ">f+++++++++ fft4/loss_val_C2/events.out.tfevents.1660171138.lsf-server-2.lan.rostlab.org.77270.19\r\n",
      ">f+++++++++ fft4/loss_val_C2/events.out.tfevents.1670020033.lsf-server-2.lan.rostlab.org.77633.22\r\n",
      ">f+++++++++ fft4/loss_val_C2/events.out.tfevents.1670023381.lsf-server-2.lan.rostlab.org.81341.22\r\n",
      "cd+++++++++ fft4/loss_val_C3/\r\n",
      ">f+++++++++ fft4/loss_val_C3/events.out.tfevents.1658724882.lsf-server-2.lan.rostlab.org.73091.20\r\n",
      ">f+++++++++ fft4/loss_val_C3/events.out.tfevents.1659062994.lsf-server-2.lan.rostlab.org.6806.20\r\n",
      ">f+++++++++ fft4/loss_val_C3/events.out.tfevents.1659623232.lsf-server-2.lan.rostlab.org.44755.20\r\n",
      ">f+++++++++ fft4/loss_val_C3/events.out.tfevents.1659658021.lsf-server-2.lan.rostlab.org.80797.20\r\n",
      ">f+++++++++ fft4/loss_val_C3/events.out.tfevents.1659799303.lsf-server-2.lan.rostlab.org.36664.20\r\n",
      ">f+++++++++ fft4/loss_val_C3/events.out.tfevents.1659832821.lsf-server-2.lan.rostlab.org.60944.20\r\n",
      ">f+++++++++ fft4/loss_val_C3/events.out.tfevents.1660171138.lsf-server-2.lan.rostlab.org.77270.20\r\n",
      ">f+++++++++ fft4/loss_val_C3/events.out.tfevents.1670020033.lsf-server-2.lan.rostlab.org.77633.23\r\n",
      ">f+++++++++ fft4/loss_val_C3/events.out.tfevents.1670023381.lsf-server-2.lan.rostlab.org.81341.23\r\n",
      "cd+++++++++ fft4/mcc_val_C1/\r\n",
      ">f+++++++++ fft4/mcc_val_C1/events.out.tfevents.1658724882.lsf-server-2.lan.rostlab.org.73091.21\r\n",
      ">f+++++++++ fft4/mcc_val_C1/events.out.tfevents.1659062994.lsf-server-2.lan.rostlab.org.6806.21\r\n",
      ">f+++++++++ fft4/mcc_val_C1/events.out.tfevents.1659623232.lsf-server-2.lan.rostlab.org.44755.21\r\n",
      ">f+++++++++ fft4/mcc_val_C1/events.out.tfevents.1659658021.lsf-server-2.lan.rostlab.org.80797.21\r\n",
      ">f+++++++++ fft4/mcc_val_C1/events.out.tfevents.1659799303.lsf-server-2.lan.rostlab.org.36664.21\r\n",
      ">f+++++++++ fft4/mcc_val_C1/events.out.tfevents.1659832821.lsf-server-2.lan.rostlab.org.60944.21\r\n",
      ">f+++++++++ fft4/mcc_val_C1/events.out.tfevents.1660171138.lsf-server-2.lan.rostlab.org.77270.21\r\n",
      ">f+++++++++ fft4/mcc_val_C1/events.out.tfevents.1670020033.lsf-server-2.lan.rostlab.org.77633.18\r\n",
      ">f+++++++++ fft4/mcc_val_C1/events.out.tfevents.1670023381.lsf-server-2.lan.rostlab.org.81341.18\r\n",
      "cd+++++++++ fft4/mcc_val_C2/\r\n",
      ">f+++++++++ fft4/mcc_val_C2/events.out.tfevents.1658724882.lsf-server-2.lan.rostlab.org.73091.22\r\n",
      ">f+++++++++ fft4/mcc_val_C2/events.out.tfevents.1659062994.lsf-server-2.lan.rostlab.org.6806.22\r\n",
      ">f+++++++++ fft4/mcc_val_C2/events.out.tfevents.1659623232.lsf-server-2.lan.rostlab.org.44755.22\r\n",
      ">f+++++++++ fft4/mcc_val_C2/events.out.tfevents.1659658022.lsf-server-2.lan.rostlab.org.80797.22\r\n",
      ">f+++++++++ fft4/mcc_val_C2/events.out.tfevents.1659799303.lsf-server-2.lan.rostlab.org.36664.22\r\n",
      ">f+++++++++ fft4/mcc_val_C2/events.out.tfevents.1659832821.lsf-server-2.lan.rostlab.org.60944.22\r\n",
      ">f+++++++++ fft4/mcc_val_C2/events.out.tfevents.1660171138.lsf-server-2.lan.rostlab.org.77270.22\r\n",
      ">f+++++++++ fft4/mcc_val_C2/events.out.tfevents.1670020033.lsf-server-2.lan.rostlab.org.77633.19\r\n",
      ">f+++++++++ fft4/mcc_val_C2/events.out.tfevents.1670023381.lsf-server-2.lan.rostlab.org.81341.19\r\n",
      "cd+++++++++ fft4/mcc_val_C3/\r\n",
      ">f+++++++++ fft4/mcc_val_C3/events.out.tfevents.1658724882.lsf-server-2.lan.rostlab.org.73091.23\r\n",
      ">f+++++++++ fft4/mcc_val_C3/events.out.tfevents.1659062994.lsf-server-2.lan.rostlab.org.6806.23\r\n",
      ">f+++++++++ fft4/mcc_val_C3/events.out.tfevents.1659623232.lsf-server-2.lan.rostlab.org.44755.23\r\n",
      ">f+++++++++ fft4/mcc_val_C3/events.out.tfevents.1659658022.lsf-server-2.lan.rostlab.org.80797.23\r\n",
      ">f+++++++++ fft4/mcc_val_C3/events.out.tfevents.1659799303.lsf-server-2.lan.rostlab.org.36664.23\r\n",
      ">f+++++++++ fft4/mcc_val_C3/events.out.tfevents.1659832821.lsf-server-2.lan.rostlab.org.60944.23\r\n",
      ">f+++++++++ fft4/mcc_val_C3/events.out.tfevents.1660171138.lsf-server-2.lan.rostlab.org.77270.23\r\n",
      ">f+++++++++ fft4/mcc_val_C3/events.out.tfevents.1670020033.lsf-server-2.lan.rostlab.org.77633.20\r\n",
      ">f+++++++++ fft4/mcc_val_C3/events.out.tfevents.1670023381.lsf-server-2.lan.rostlab.org.81341.20\r\n",
      "cd+++++++++ fft4/p_hat_batch_0/\r\n",
      ">f+++++++++ fft4/p_hat_batch_0/events.out.tfevents.1658710845.lsf-server-2.lan.rostlab.org.73091.1\r\n",
      ">f+++++++++ fft4/p_hat_batch_0/events.out.tfevents.1659061257.lsf-server-2.lan.rostlab.org.6806.1\r\n",
      ">f+++++++++ fft4/p_hat_batch_0/events.out.tfevents.1659621262.lsf-server-2.lan.rostlab.org.44755.1\r\n",
      ">f+++++++++ fft4/p_hat_batch_0/events.out.tfevents.1659656145.lsf-server-2.lan.rostlab.org.80797.1\r\n",
      ">f+++++++++ fft4/p_hat_batch_0/events.out.tfevents.1659798503.lsf-server-2.lan.rostlab.org.36664.1\r\n",
      ">f+++++++++ fft4/p_hat_batch_0/events.out.tfevents.1659831997.lsf-server-2.lan.rostlab.org.60944.1\r\n",
      ">f+++++++++ fft4/p_hat_batch_0/events.out.tfevents.1660170346.lsf-server-2.lan.rostlab.org.77270.1\r\n",
      ">f+++++++++ fft4/p_hat_batch_0/events.out.tfevents.1670019137.lsf-server-2.lan.rostlab.org.77633.1\r\n",
      ">f+++++++++ fft4/p_hat_batch_0/events.out.tfevents.1670022505.lsf-server-2.lan.rostlab.org.81341.1\r\n",
      "cd+++++++++ fft4/p_hat_batch_1/\r\n",
      ">f+++++++++ fft4/p_hat_batch_1/events.out.tfevents.1658710845.lsf-server-2.lan.rostlab.org.73091.2\r\n",
      ">f+++++++++ fft4/p_hat_batch_1/events.out.tfevents.1659061257.lsf-server-2.lan.rostlab.org.6806.2\r\n",
      ">f+++++++++ fft4/p_hat_batch_1/events.out.tfevents.1659621262.lsf-server-2.lan.rostlab.org.44755.2\r\n",
      ">f+++++++++ fft4/p_hat_batch_1/events.out.tfevents.1659656145.lsf-server-2.lan.rostlab.org.80797.2\r\n",
      ">f+++++++++ fft4/p_hat_batch_1/events.out.tfevents.1659798503.lsf-server-2.lan.rostlab.org.36664.2\r\n",
      ">f+++++++++ fft4/p_hat_batch_1/events.out.tfevents.1659831997.lsf-server-2.lan.rostlab.org.60944.2\r\n",
      ">f+++++++++ fft4/p_hat_batch_1/events.out.tfevents.1660170346.lsf-server-2.lan.rostlab.org.77270.2\r\n",
      ">f+++++++++ fft4/p_hat_batch_1/events.out.tfevents.1670019138.lsf-server-2.lan.rostlab.org.77633.2\r\n",
      ">f+++++++++ fft4/p_hat_batch_1/events.out.tfevents.1670022505.lsf-server-2.lan.rostlab.org.81341.2\r\n",
      "cd+++++++++ fft4/p_hat_epoch_0/\r\n",
      ">f+++++++++ fft4/p_hat_epoch_0/events.out.tfevents.1659223933.lsf-server-2.lan.rostlab.org.6806.30\r\n",
      ">f+++++++++ fft4/p_hat_epoch_0/events.out.tfevents.1660048020.lsf-server-2.lan.rostlab.org.60944.30\r\n",
      ">f+++++++++ fft4/p_hat_epoch_0/events.out.tfevents.1660290049.lsf-server-2.lan.rostlab.org.77270.30\r\n",
      "cd+++++++++ fft4/p_hat_epoch_1/\r\n",
      ">f+++++++++ fft4/p_hat_epoch_1/events.out.tfevents.1659223933.lsf-server-2.lan.rostlab.org.6806.31\r\n",
      ">f+++++++++ fft4/p_hat_epoch_1/events.out.tfevents.1660048020.lsf-server-2.lan.rostlab.org.60944.31\r\n",
      ">f+++++++++ fft4/p_hat_epoch_1/events.out.tfevents.1660290049.lsf-server-2.lan.rostlab.org.77270.31\r\n",
      "cd+++++++++ fft4/p_hat_val_C1_0/\r\n",
      ">f+++++++++ fft4/p_hat_val_C1_0/events.out.tfevents.1658724882.lsf-server-2.lan.rostlab.org.73091.24\r\n",
      ">f+++++++++ fft4/p_hat_val_C1_0/events.out.tfevents.1659062994.lsf-server-2.lan.rostlab.org.6806.24\r\n",
      ">f+++++++++ fft4/p_hat_val_C1_0/events.out.tfevents.1659623232.lsf-server-2.lan.rostlab.org.44755.24\r\n",
      ">f+++++++++ fft4/p_hat_val_C1_0/events.out.tfevents.1659658022.lsf-server-2.lan.rostlab.org.80797.24\r\n",
      ">f+++++++++ fft4/p_hat_val_C1_0/events.out.tfevents.1659799303.lsf-server-2.lan.rostlab.org.36664.24\r\n",
      ">f+++++++++ fft4/p_hat_val_C1_0/events.out.tfevents.1659832821.lsf-server-2.lan.rostlab.org.60944.24\r\n",
      ">f+++++++++ fft4/p_hat_val_C1_0/events.out.tfevents.1660171138.lsf-server-2.lan.rostlab.org.77270.24\r\n",
      ">f+++++++++ fft4/p_hat_val_C1_0/events.out.tfevents.1670020033.lsf-server-2.lan.rostlab.org.77633.24\r\n",
      ">f+++++++++ fft4/p_hat_val_C1_0/events.out.tfevents.1670023381.lsf-server-2.lan.rostlab.org.81341.24\r\n",
      "cd+++++++++ fft4/p_hat_val_C1_1/\r\n",
      ">f+++++++++ fft4/p_hat_val_C1_1/events.out.tfevents.1658724882.lsf-server-2.lan.rostlab.org.73091.25\r\n",
      ">f+++++++++ fft4/p_hat_val_C1_1/events.out.tfevents.1659062994.lsf-server-2.lan.rostlab.org.6806.25\r\n",
      ">f+++++++++ fft4/p_hat_val_C1_1/events.out.tfevents.1659623232.lsf-server-2.lan.rostlab.org.44755.25\r\n",
      ">f+++++++++ fft4/p_hat_val_C1_1/events.out.tfevents.1659658022.lsf-server-2.lan.rostlab.org.80797.25\r\n",
      ">f+++++++++ fft4/p_hat_val_C1_1/events.out.tfevents.1659799303.lsf-server-2.lan.rostlab.org.36664.25\r\n",
      ">f+++++++++ fft4/p_hat_val_C1_1/events.out.tfevents.1659832821.lsf-server-2.lan.rostlab.org.60944.25\r\n",
      ">f+++++++++ fft4/p_hat_val_C1_1/events.out.tfevents.1660171138.lsf-server-2.lan.rostlab.org.77270.25\r\n",
      ">f+++++++++ fft4/p_hat_val_C1_1/events.out.tfevents.1670020033.lsf-server-2.lan.rostlab.org.77633.25\r\n",
      ">f+++++++++ fft4/p_hat_val_C1_1/events.out.tfevents.1670023381.lsf-server-2.lan.rostlab.org.81341.25\r\n",
      "cd+++++++++ fft4/p_hat_val_C2_0/\r\n",
      ">f+++++++++ fft4/p_hat_val_C2_0/events.out.tfevents.1658724882.lsf-server-2.lan.rostlab.org.73091.26\r\n",
      ">f+++++++++ fft4/p_hat_val_C2_0/events.out.tfevents.1659062994.lsf-server-2.lan.rostlab.org.6806.26\r\n",
      ">f+++++++++ fft4/p_hat_val_C2_0/events.out.tfevents.1659623232.lsf-server-2.lan.rostlab.org.44755.26\r\n",
      ">f+++++++++ fft4/p_hat_val_C2_0/events.out.tfevents.1659658022.lsf-server-2.lan.rostlab.org.80797.26\r\n",
      ">f+++++++++ fft4/p_hat_val_C2_0/events.out.tfevents.1659799303.lsf-server-2.lan.rostlab.org.36664.26\r\n",
      ">f+++++++++ fft4/p_hat_val_C2_0/events.out.tfevents.1659832821.lsf-server-2.lan.rostlab.org.60944.26\r\n",
      ">f+++++++++ fft4/p_hat_val_C2_0/events.out.tfevents.1660171138.lsf-server-2.lan.rostlab.org.77270.26\r\n",
      ">f+++++++++ fft4/p_hat_val_C2_0/events.out.tfevents.1670020033.lsf-server-2.lan.rostlab.org.77633.26\r\n",
      ">f+++++++++ fft4/p_hat_val_C2_0/events.out.tfevents.1670023381.lsf-server-2.lan.rostlab.org.81341.26\r\n",
      "cd+++++++++ fft4/p_hat_val_C2_1/\r\n",
      ">f+++++++++ fft4/p_hat_val_C2_1/events.out.tfevents.1658724882.lsf-server-2.lan.rostlab.org.73091.27\r\n",
      ">f+++++++++ fft4/p_hat_val_C2_1/events.out.tfevents.1659062994.lsf-server-2.lan.rostlab.org.6806.27\r\n",
      ">f+++++++++ fft4/p_hat_val_C2_1/events.out.tfevents.1659623232.lsf-server-2.lan.rostlab.org.44755.27\r\n",
      ">f+++++++++ fft4/p_hat_val_C2_1/events.out.tfevents.1659658022.lsf-server-2.lan.rostlab.org.80797.27\r\n",
      ">f+++++++++ fft4/p_hat_val_C2_1/events.out.tfevents.1659799303.lsf-server-2.lan.rostlab.org.36664.27\r\n",
      ">f+++++++++ fft4/p_hat_val_C2_1/events.out.tfevents.1659832821.lsf-server-2.lan.rostlab.org.60944.27\r\n",
      ">f+++++++++ fft4/p_hat_val_C2_1/events.out.tfevents.1660171138.lsf-server-2.lan.rostlab.org.77270.27\r\n",
      ">f+++++++++ fft4/p_hat_val_C2_1/events.out.tfevents.1670020033.lsf-server-2.lan.rostlab.org.77633.27\r\n",
      ">f+++++++++ fft4/p_hat_val_C2_1/events.out.tfevents.1670023381.lsf-server-2.lan.rostlab.org.81341.27\r\n",
      "cd+++++++++ fft4/p_hat_val_C3_0/\r\n",
      ">f+++++++++ fft4/p_hat_val_C3_0/events.out.tfevents.1658724882.lsf-server-2.lan.rostlab.org.73091.28\r\n",
      ">f+++++++++ fft4/p_hat_val_C3_0/events.out.tfevents.1659062994.lsf-server-2.lan.rostlab.org.6806.28\r\n",
      ">f+++++++++ fft4/p_hat_val_C3_0/events.out.tfevents.1659623232.lsf-server-2.lan.rostlab.org.44755.28\r\n",
      ">f+++++++++ fft4/p_hat_val_C3_0/events.out.tfevents.1659658022.lsf-server-2.lan.rostlab.org.80797.28\r\n",
      ">f+++++++++ fft4/p_hat_val_C3_0/events.out.tfevents.1659799303.lsf-server-2.lan.rostlab.org.36664.28\r\n",
      ">f+++++++++ fft4/p_hat_val_C3_0/events.out.tfevents.1659832821.lsf-server-2.lan.rostlab.org.60944.28\r\n",
      ">f+++++++++ fft4/p_hat_val_C3_0/events.out.tfevents.1660171138.lsf-server-2.lan.rostlab.org.77270.28\r\n",
      ">f+++++++++ fft4/p_hat_val_C3_0/events.out.tfevents.1670020033.lsf-server-2.lan.rostlab.org.77633.28\r\n",
      ">f+++++++++ fft4/p_hat_val_C3_0/events.out.tfevents.1670023381.lsf-server-2.lan.rostlab.org.81341.28\r\n",
      "cd+++++++++ fft4/p_hat_val_C3_1/\r\n",
      ">f+++++++++ fft4/p_hat_val_C3_1/events.out.tfevents.1658724882.lsf-server-2.lan.rostlab.org.73091.29\r\n",
      ">f+++++++++ fft4/p_hat_val_C3_1/events.out.tfevents.1659062994.lsf-server-2.lan.rostlab.org.6806.29\r\n",
      ">f+++++++++ fft4/p_hat_val_C3_1/events.out.tfevents.1659623232.lsf-server-2.lan.rostlab.org.44755.29\r\n",
      ">f+++++++++ fft4/p_hat_val_C3_1/events.out.tfevents.1659658022.lsf-server-2.lan.rostlab.org.80797.29\r\n",
      ">f+++++++++ fft4/p_hat_val_C3_1/events.out.tfevents.1659799303.lsf-server-2.lan.rostlab.org.36664.29\r\n",
      ">f+++++++++ fft4/p_hat_val_C3_1/events.out.tfevents.1659832821.lsf-server-2.lan.rostlab.org.60944.29\r\n",
      ">f+++++++++ fft4/p_hat_val_C3_1/events.out.tfevents.1660171138.lsf-server-2.lan.rostlab.org.77270.29\r\n",
      ">f+++++++++ fft4/p_hat_val_C3_1/events.out.tfevents.1670020033.lsf-server-2.lan.rostlab.org.77633.29\r\n",
      ">f+++++++++ fft4/p_hat_val_C3_1/events.out.tfevents.1670023381.lsf-server-2.lan.rostlab.org.81341.29\r\n",
      "cd+++++++++ fft4/pr_val_C1/\r\n",
      ">f+++++++++ fft4/pr_val_C1/events.out.tfevents.1658724882.lsf-server-2.lan.rostlab.org.73091.6\r\n",
      ">f+++++++++ fft4/pr_val_C1/events.out.tfevents.1659062994.lsf-server-2.lan.rostlab.org.6806.6\r\n",
      ">f+++++++++ fft4/pr_val_C1/events.out.tfevents.1659623232.lsf-server-2.lan.rostlab.org.44755.6\r\n",
      ">f+++++++++ fft4/pr_val_C1/events.out.tfevents.1659658021.lsf-server-2.lan.rostlab.org.80797.6\r\n",
      ">f+++++++++ fft4/pr_val_C1/events.out.tfevents.1659799303.lsf-server-2.lan.rostlab.org.36664.6\r\n",
      ">f+++++++++ fft4/pr_val_C1/events.out.tfevents.1659832821.lsf-server-2.lan.rostlab.org.60944.6\r\n",
      ">f+++++++++ fft4/pr_val_C1/events.out.tfevents.1660171137.lsf-server-2.lan.rostlab.org.77270.6\r\n",
      ">f+++++++++ fft4/pr_val_C1/events.out.tfevents.1670020033.lsf-server-2.lan.rostlab.org.77633.6\r\n",
      ">f+++++++++ fft4/pr_val_C1/events.out.tfevents.1670023380.lsf-server-2.lan.rostlab.org.81341.6\r\n",
      "cd+++++++++ fft4/pr_val_C2/\r\n",
      ">f+++++++++ fft4/pr_val_C2/events.out.tfevents.1658724882.lsf-server-2.lan.rostlab.org.73091.7\r\n",
      ">f+++++++++ fft4/pr_val_C2/events.out.tfevents.1659062994.lsf-server-2.lan.rostlab.org.6806.7\r\n",
      ">f+++++++++ fft4/pr_val_C2/events.out.tfevents.1659623232.lsf-server-2.lan.rostlab.org.44755.7\r\n",
      ">f+++++++++ fft4/pr_val_C2/events.out.tfevents.1659658021.lsf-server-2.lan.rostlab.org.80797.7\r\n",
      ">f+++++++++ fft4/pr_val_C2/events.out.tfevents.1659799303.lsf-server-2.lan.rostlab.org.36664.7\r\n",
      ">f+++++++++ fft4/pr_val_C2/events.out.tfevents.1659832821.lsf-server-2.lan.rostlab.org.60944.7\r\n",
      ">f+++++++++ fft4/pr_val_C2/events.out.tfevents.1660171138.lsf-server-2.lan.rostlab.org.77270.7\r\n",
      ">f+++++++++ fft4/pr_val_C2/events.out.tfevents.1670020033.lsf-server-2.lan.rostlab.org.77633.7\r\n",
      ">f+++++++++ fft4/pr_val_C2/events.out.tfevents.1670023380.lsf-server-2.lan.rostlab.org.81341.7\r\n",
      "cd+++++++++ fft4/pr_val_C3/\r\n",
      ">f+++++++++ fft4/pr_val_C3/events.out.tfevents.1658724882.lsf-server-2.lan.rostlab.org.73091.8\r\n",
      ">f+++++++++ fft4/pr_val_C3/events.out.tfevents.1659062994.lsf-server-2.lan.rostlab.org.6806.8\r\n",
      ">f+++++++++ fft4/pr_val_C3/events.out.tfevents.1659623232.lsf-server-2.lan.rostlab.org.44755.8\r\n",
      ">f+++++++++ fft4/pr_val_C3/events.out.tfevents.1659658021.lsf-server-2.lan.rostlab.org.80797.8\r\n",
      ">f+++++++++ fft4/pr_val_C3/events.out.tfevents.1659799303.lsf-server-2.lan.rostlab.org.36664.8\r\n",
      ">f+++++++++ fft4/pr_val_C3/events.out.tfevents.1659832821.lsf-server-2.lan.rostlab.org.60944.8\r\n",
      ">f+++++++++ fft4/pr_val_C3/events.out.tfevents.1660171138.lsf-server-2.lan.rostlab.org.77270.8\r\n",
      ">f+++++++++ fft4/pr_val_C3/events.out.tfevents.1670020033.lsf-server-2.lan.rostlab.org.77633.8\r\n",
      ">f+++++++++ fft4/pr_val_C3/events.out.tfevents.1670023380.lsf-server-2.lan.rostlab.org.81341.8\r\n",
      "cd+++++++++ fft4/re_val_C1/\r\n",
      ">f+++++++++ fft4/re_val_C1/events.out.tfevents.1658724882.lsf-server-2.lan.rostlab.org.73091.9\r\n",
      ">f+++++++++ fft4/re_val_C1/events.out.tfevents.1659062994.lsf-server-2.lan.rostlab.org.6806.9\r\n",
      ">f+++++++++ fft4/re_val_C1/events.out.tfevents.1659623232.lsf-server-2.lan.rostlab.org.44755.9\r\n",
      ">f+++++++++ fft4/re_val_C1/events.out.tfevents.1659658021.lsf-server-2.lan.rostlab.org.80797.9\r\n",
      ">f+++++++++ fft4/re_val_C1/events.out.tfevents.1659799303.lsf-server-2.lan.rostlab.org.36664.9\r\n",
      ">f+++++++++ fft4/re_val_C1/events.out.tfevents.1659832821.lsf-server-2.lan.rostlab.org.60944.9\r\n",
      ">f+++++++++ fft4/re_val_C1/events.out.tfevents.1660171138.lsf-server-2.lan.rostlab.org.77270.9\r\n",
      ">f+++++++++ fft4/re_val_C1/events.out.tfevents.1670020033.lsf-server-2.lan.rostlab.org.77633.9\r\n",
      ">f+++++++++ fft4/re_val_C1/events.out.tfevents.1670023380.lsf-server-2.lan.rostlab.org.81341.9\r\n",
      "cd+++++++++ fft4/re_val_C2/\r\n",
      ">f+++++++++ fft4/re_val_C2/events.out.tfevents.1658724882.lsf-server-2.lan.rostlab.org.73091.10\r\n",
      ">f+++++++++ fft4/re_val_C2/events.out.tfevents.1659062994.lsf-server-2.lan.rostlab.org.6806.10\r\n",
      ">f+++++++++ fft4/re_val_C2/events.out.tfevents.1659623232.lsf-server-2.lan.rostlab.org.44755.10\r\n",
      ">f+++++++++ fft4/re_val_C2/events.out.tfevents.1659658021.lsf-server-2.lan.rostlab.org.80797.10\r\n",
      ">f+++++++++ fft4/re_val_C2/events.out.tfevents.1659799303.lsf-server-2.lan.rostlab.org.36664.10\r\n",
      ">f+++++++++ fft4/re_val_C2/events.out.tfevents.1659832821.lsf-server-2.lan.rostlab.org.60944.10\r\n",
      ">f+++++++++ fft4/re_val_C2/events.out.tfevents.1660171138.lsf-server-2.lan.rostlab.org.77270.10\r\n",
      ">f+++++++++ fft4/re_val_C2/events.out.tfevents.1670020033.lsf-server-2.lan.rostlab.org.77633.10\r\n",
      ">f+++++++++ fft4/re_val_C2/events.out.tfevents.1670023381.lsf-server-2.lan.rostlab.org.81341.10\r\n",
      "cd+++++++++ fft4/re_val_C3/\r\n",
      ">f+++++++++ fft4/re_val_C3/events.out.tfevents.1658724882.lsf-server-2.lan.rostlab.org.73091.11\r\n",
      ">f+++++++++ fft4/re_val_C3/events.out.tfevents.1659062994.lsf-server-2.lan.rostlab.org.6806.11\r\n",
      ">f+++++++++ fft4/re_val_C3/events.out.tfevents.1659623232.lsf-server-2.lan.rostlab.org.44755.11\r\n",
      ">f+++++++++ fft4/re_val_C3/events.out.tfevents.1659658021.lsf-server-2.lan.rostlab.org.80797.11\r\n",
      ">f+++++++++ fft4/re_val_C3/events.out.tfevents.1659799303.lsf-server-2.lan.rostlab.org.36664.11\r\n",
      ">f+++++++++ fft4/re_val_C3/events.out.tfevents.1659832821.lsf-server-2.lan.rostlab.org.60944.11\r\n",
      ">f+++++++++ fft4/re_val_C3/events.out.tfevents.1660171138.lsf-server-2.lan.rostlab.org.77270.11\r\n",
      ">f+++++++++ fft4/re_val_C3/events.out.tfevents.1670020033.lsf-server-2.lan.rostlab.org.77633.11\r\n",
      ">f+++++++++ fft4/re_val_C3/events.out.tfevents.1670023381.lsf-server-2.lan.rostlab.org.81341.11\r\n",
      "cd+++++++++ chimera/\r\n",
      ">f+++++++++ chimera/events.out.tfevents.1660423673.lsf-server-2.lan.rostlab.org.79582.0\r\n",
      ">f+++++++++ chimera/events.out.tfevents.1660775236.lsf-server-2.lan.rostlab.org.14969.0\r\n",
      "cd+++++++++ chimera/acc_val_C1/\r\n",
      ">f+++++++++ chimera/acc_val_C1/events.out.tfevents.1660430477.lsf-server-2.lan.rostlab.org.79582.3\r\n",
      ">f+++++++++ chimera/acc_val_C1/events.out.tfevents.1660777340.lsf-server-2.lan.rostlab.org.14969.3\r\n",
      "cd+++++++++ chimera/acc_val_C2/\r\n",
      ">f+++++++++ chimera/acc_val_C2/events.out.tfevents.1660430477.lsf-server-2.lan.rostlab.org.79582.4\r\n",
      ">f+++++++++ chimera/acc_val_C2/events.out.tfevents.1660777340.lsf-server-2.lan.rostlab.org.14969.4\r\n",
      "cd+++++++++ chimera/acc_val_C3/\r\n",
      ">f+++++++++ chimera/acc_val_C3/events.out.tfevents.1660430477.lsf-server-2.lan.rostlab.org.79582.5\r\n",
      ">f+++++++++ chimera/acc_val_C3/events.out.tfevents.1660777340.lsf-server-2.lan.rostlab.org.14969.5\r\n",
      "cd+++++++++ chimera/aupr_val_C1/\r\n",
      ">f+++++++++ chimera/aupr_val_C1/events.out.tfevents.1660430477.lsf-server-2.lan.rostlab.org.79582.15\r\n",
      ">f+++++++++ chimera/aupr_val_C1/events.out.tfevents.1660777341.lsf-server-2.lan.rostlab.org.14969.15\r\n",
      "cd+++++++++ chimera/aupr_val_C2/\r\n",
      ">f+++++++++ chimera/aupr_val_C2/events.out.tfevents.1660430477.lsf-server-2.lan.rostlab.org.79582.16\r\n",
      ">f+++++++++ chimera/aupr_val_C2/events.out.tfevents.1660777341.lsf-server-2.lan.rostlab.org.14969.16\r\n",
      "cd+++++++++ chimera/aupr_val_C3/\r\n",
      ">f+++++++++ chimera/aupr_val_C3/events.out.tfevents.1660430477.lsf-server-2.lan.rostlab.org.79582.17\r\n",
      ">f+++++++++ chimera/aupr_val_C3/events.out.tfevents.1660777341.lsf-server-2.lan.rostlab.org.14969.17\r\n",
      "cd+++++++++ chimera/f1_val_C1/\r\n",
      ">f+++++++++ chimera/f1_val_C1/events.out.tfevents.1660430477.lsf-server-2.lan.rostlab.org.79582.12\r\n",
      ">f+++++++++ chimera/f1_val_C1/events.out.tfevents.1660777341.lsf-server-2.lan.rostlab.org.14969.12\r\n",
      "cd+++++++++ chimera/f1_val_C2/\r\n",
      ">f+++++++++ chimera/f1_val_C2/events.out.tfevents.1660430477.lsf-server-2.lan.rostlab.org.79582.13\r\n",
      ">f+++++++++ chimera/f1_val_C2/events.out.tfevents.1660777341.lsf-server-2.lan.rostlab.org.14969.13\r\n",
      "cd+++++++++ chimera/f1_val_C3/\r\n",
      ">f+++++++++ chimera/f1_val_C3/events.out.tfevents.1660430477.lsf-server-2.lan.rostlab.org.79582.14\r\n",
      ">f+++++++++ chimera/f1_val_C3/events.out.tfevents.1660777341.lsf-server-2.lan.rostlab.org.14969.14\r\n",
      "cd+++++++++ chimera/loss_val_C1/\r\n",
      ">f+++++++++ chimera/loss_val_C1/events.out.tfevents.1660430477.lsf-server-2.lan.rostlab.org.79582.18\r\n",
      ">f+++++++++ chimera/loss_val_C1/events.out.tfevents.1660777341.lsf-server-2.lan.rostlab.org.14969.18\r\n",
      "cd+++++++++ chimera/loss_val_C2/\r\n",
      ">f+++++++++ chimera/loss_val_C2/events.out.tfevents.1660430477.lsf-server-2.lan.rostlab.org.79582.19\r\n",
      ">f+++++++++ chimera/loss_val_C2/events.out.tfevents.1660777341.lsf-server-2.lan.rostlab.org.14969.19\r\n",
      "cd+++++++++ chimera/loss_val_C3/\r\n",
      ">f+++++++++ chimera/loss_val_C3/events.out.tfevents.1660430477.lsf-server-2.lan.rostlab.org.79582.20\r\n",
      ">f+++++++++ chimera/loss_val_C3/events.out.tfevents.1660777341.lsf-server-2.lan.rostlab.org.14969.20\r\n",
      "cd+++++++++ chimera/mcc_val_C1/\r\n",
      ">f+++++++++ chimera/mcc_val_C1/events.out.tfevents.1660430477.lsf-server-2.lan.rostlab.org.79582.21\r\n",
      ">f+++++++++ chimera/mcc_val_C1/events.out.tfevents.1660777341.lsf-server-2.lan.rostlab.org.14969.21\r\n",
      "cd+++++++++ chimera/mcc_val_C2/\r\n",
      ">f+++++++++ chimera/mcc_val_C2/events.out.tfevents.1660430477.lsf-server-2.lan.rostlab.org.79582.22\r\n",
      ">f+++++++++ chimera/mcc_val_C2/events.out.tfevents.1660777341.lsf-server-2.lan.rostlab.org.14969.22\r\n",
      "cd+++++++++ chimera/mcc_val_C3/\r\n",
      ">f+++++++++ chimera/mcc_val_C3/events.out.tfevents.1660430477.lsf-server-2.lan.rostlab.org.79582.23\r\n",
      ">f+++++++++ chimera/mcc_val_C3/events.out.tfevents.1660777341.lsf-server-2.lan.rostlab.org.14969.23\r\n",
      "cd+++++++++ chimera/p_hat_batch_0/\r\n",
      ">f+++++++++ chimera/p_hat_batch_0/events.out.tfevents.1660429858.lsf-server-2.lan.rostlab.org.79582.1\r\n",
      ">f+++++++++ chimera/p_hat_batch_0/events.out.tfevents.1660776719.lsf-server-2.lan.rostlab.org.14969.1\r\n",
      "cd+++++++++ chimera/p_hat_batch_1/\r\n",
      ">f+++++++++ chimera/p_hat_batch_1/events.out.tfevents.1660429858.lsf-server-2.lan.rostlab.org.79582.2\r\n",
      ">f+++++++++ chimera/p_hat_batch_1/events.out.tfevents.1660776719.lsf-server-2.lan.rostlab.org.14969.2\r\n",
      "cd+++++++++ chimera/p_hat_epoch_0/\r\n",
      ">f+++++++++ chimera/p_hat_epoch_0/events.out.tfevents.1660593353.lsf-server-2.lan.rostlab.org.79582.30\r\n",
      ">f+++++++++ chimera/p_hat_epoch_0/events.out.tfevents.1660942526.lsf-server-2.lan.rostlab.org.14969.30\r\n",
      "cd+++++++++ chimera/p_hat_epoch_1/\r\n",
      ">f+++++++++ chimera/p_hat_epoch_1/events.out.tfevents.1660593353.lsf-server-2.lan.rostlab.org.79582.31\r\n",
      ">f+++++++++ chimera/p_hat_epoch_1/events.out.tfevents.1660942526.lsf-server-2.lan.rostlab.org.14969.31\r\n",
      "cd+++++++++ chimera/p_hat_val_C1_0/\r\n",
      ">f+++++++++ chimera/p_hat_val_C1_0/events.out.tfevents.1660430477.lsf-server-2.lan.rostlab.org.79582.24\r\n",
      ">f+++++++++ chimera/p_hat_val_C1_0/events.out.tfevents.1660777341.lsf-server-2.lan.rostlab.org.14969.24\r\n",
      "cd+++++++++ chimera/p_hat_val_C1_1/\r\n",
      ">f+++++++++ chimera/p_hat_val_C1_1/events.out.tfevents.1660430477.lsf-server-2.lan.rostlab.org.79582.25\r\n",
      ">f+++++++++ chimera/p_hat_val_C1_1/events.out.tfevents.1660777341.lsf-server-2.lan.rostlab.org.14969.25\r\n",
      "cd+++++++++ chimera/p_hat_val_C2_0/\r\n",
      ">f+++++++++ chimera/p_hat_val_C2_0/events.out.tfevents.1660430477.lsf-server-2.lan.rostlab.org.79582.26\r\n",
      ">f+++++++++ chimera/p_hat_val_C2_0/events.out.tfevents.1660777341.lsf-server-2.lan.rostlab.org.14969.26\r\n",
      "cd+++++++++ chimera/p_hat_val_C2_1/\r\n",
      ">f+++++++++ chimera/p_hat_val_C2_1/events.out.tfevents.1660430477.lsf-server-2.lan.rostlab.org.79582.27\r\n",
      ">f+++++++++ chimera/p_hat_val_C2_1/events.out.tfevents.1660777341.lsf-server-2.lan.rostlab.org.14969.27\r\n",
      "cd+++++++++ chimera/p_hat_val_C3_0/\r\n",
      ">f+++++++++ chimera/p_hat_val_C3_0/events.out.tfevents.1660430477.lsf-server-2.lan.rostlab.org.79582.28\r\n",
      ">f+++++++++ chimera/p_hat_val_C3_0/events.out.tfevents.1660777341.lsf-server-2.lan.rostlab.org.14969.28\r\n",
      "cd+++++++++ chimera/p_hat_val_C3_1/\r\n",
      ">f+++++++++ chimera/p_hat_val_C3_1/events.out.tfevents.1660430477.lsf-server-2.lan.rostlab.org.79582.29\r\n",
      ">f+++++++++ chimera/p_hat_val_C3_1/events.out.tfevents.1660777341.lsf-server-2.lan.rostlab.org.14969.29\r\n",
      "cd+++++++++ chimera/pr_val_C1/\r\n",
      ">f+++++++++ chimera/pr_val_C1/events.out.tfevents.1660430477.lsf-server-2.lan.rostlab.org.79582.6\r\n",
      ">f+++++++++ chimera/pr_val_C1/events.out.tfevents.1660777341.lsf-server-2.lan.rostlab.org.14969.6\r\n",
      "cd+++++++++ chimera/pr_val_C2/\r\n",
      ">f+++++++++ chimera/pr_val_C2/events.out.tfevents.1660430477.lsf-server-2.lan.rostlab.org.79582.7\r\n",
      ">f+++++++++ chimera/pr_val_C2/events.out.tfevents.1660777341.lsf-server-2.lan.rostlab.org.14969.7\r\n",
      "cd+++++++++ chimera/pr_val_C3/\r\n",
      ">f+++++++++ chimera/pr_val_C3/events.out.tfevents.1660430477.lsf-server-2.lan.rostlab.org.79582.8\r\n",
      ">f+++++++++ chimera/pr_val_C3/events.out.tfevents.1660777341.lsf-server-2.lan.rostlab.org.14969.8\r\n",
      "cd+++++++++ chimera/re_val_C1/\r\n",
      ">f+++++++++ chimera/re_val_C1/events.out.tfevents.1660430477.lsf-server-2.lan.rostlab.org.79582.9\r\n",
      ">f+++++++++ chimera/re_val_C1/events.out.tfevents.1660777341.lsf-server-2.lan.rostlab.org.14969.9\r\n",
      "cd+++++++++ chimera/re_val_C2/\r\n",
      ">f+++++++++ chimera/re_val_C2/events.out.tfevents.1660430477.lsf-server-2.lan.rostlab.org.79582.10\r\n",
      ">f+++++++++ chimera/re_val_C2/events.out.tfevents.1660777341.lsf-server-2.lan.rostlab.org.14969.10\r\n",
      "cd+++++++++ chimera/re_val_C3/\r\n",
      ">f+++++++++ chimera/re_val_C3/events.out.tfevents.1660430477.lsf-server-2.lan.rostlab.org.79582.11\r\n",
      ">f+++++++++ chimera/re_val_C3/events.out.tfevents.1660777341.lsf-server-2.lan.rostlab.org.14969.11\r\n"
     ]
    },
    {
     "data": {
      "text/plain": "'done'"
     },
     "execution_count": 188,
     "metadata": {},
     "output_type": "execute_result"
    }
   ],
   "source": [
    "# and the tensorboard\n",
    "!mkdir \"/home/quirin/PYTHON/ppi/runs/full/tboard/\"\n",
    "!rsync -i -zar --bwlimit=51200 --exclude=\"*.log\" -e ssh \"kaindl@rostssh:/mnt/project/kaindl/ppi/runs/full/tboard/fft4\" \"/home/quirin/PYTHON/ppi/runs/full/tboard\" --dry-run\n",
    "!rsync -i -zar --bwlimit=51200 --exclude=\"*.log\" -e ssh \"kaindl@rostssh:/mnt/project/kaindl/ppi/runs/full/tboard/chimera\" \"/home/quirin/PYTHON/ppi/runs/full/tboard\" --dry-run\n",
    "'done'"
   ],
   "metadata": {
    "collapsed": false
   }
  },
  {
   "cell_type": "code",
   "execution_count": null,
   "outputs": [],
   "source": [],
   "metadata": {
    "collapsed": false
   }
  },
  {
   "cell_type": "markdown",
   "source": [
    "## Resume FFT4 xD"
   ],
   "metadata": {
    "collapsed": false
   }
  },
  {
   "cell_type": "markdown",
   "source": [
    "```yaml\n",
    "\n",
    "io:\n",
    "    outputOverwriteFile: /mnt/project/kaindl/ppi/runs/full/fft42_stdout.log\n",
    "    errorOverwriteFile:  /mnt/project/kaindl/ppi/runs/full/fft42_stderr.log\n",
    "    cwd: /mnt/project/kaindl/ppi/runs/full\n",
    "limit:\n",
    "    coreLimit: 80\n",
    "    runtimeLimit: 336:00\n",
    "    memLimit: 160GB!\n",
    "resource:\n",
    "    gpu: num=1/task:mode=shared:gmem=42G:j_exclusive=yes:gpack=yes\n",
    "    # gpu: num=1:mode=exclusive_process:gmem=32G:j_exclusive=yes\n",
    "    machines: lsf-server-2\n",
    "\n",
    "notify:\n",
    "    notifyJobDone: \"\"\n",
    "    notifyJobExit:\n",
    "\n",
    "properties:\n",
    "    queueName: mid-end-normal\n",
    "    jobName:   kaindl_fft42\n",
    "command: >\n",
    "  ppi resume\n",
    "  --config fft4/config_fft4.json\n",
    "  --checkpoint fft4/chk_3.tar\n",
    "  --epochs 20\n",
    "  --ppi-weight 10\n",
    "  --name fft4\n",
    "```"
   ],
   "metadata": {
    "collapsed": false
   }
  },
  {
   "cell_type": "markdown",
   "source": [
    "```shell\n",
    "/mnt/project/kaindl/ppi/embed_data$ t5_utils extract-keys apid_huri.h5\n",
    "```"
   ],
   "metadata": {
    "collapsed": false
   }
  },
  {
   "cell_type": "code",
   "execution_count": 37,
   "outputs": [],
   "source": [
    "from Bio import SeqIO\n",
    "from tqdm import tqdm\n",
    "from ppi_utils.general import to_fasta"
   ],
   "metadata": {
    "collapsed": false
   }
  },
  {
   "cell_type": "code",
   "execution_count": 36,
   "outputs": [],
   "source": [
    "proj_root = Path('/home/quirin/PYTHON/ppi/')"
   ],
   "metadata": {
    "collapsed": false
   }
  },
  {
   "cell_type": "code",
   "execution_count": 48,
   "outputs": [
    {
     "name": "stdout",
     "output_type": "stream",
     "text": [
      ">f.st...... apid_huri_h5.keys\r\n",
      "cc460ffa696d1cda84cdcd9448c8a246d7a569d6a61419666a1ea9513daf9ed5  /home/quirin/PYTHON/ppi/embed_data/apid_huri_h5.keys\r\n"
     ]
    }
   ],
   "source": [
    "# extract the sequences we have to newly embed\n",
    "!rsync -i -zar --bwlimit=51200 --exclude=\"*.log\" -e ssh \"kaindl@rostssh:/mnt/project/kaindl/ppi/embed_data/apid_huri_h5.keys\" \"/home/quirin/PYTHON/ppi/embed_data\"\n",
    "!sha256sum \"/home/quirin/PYTHON/ppi/embed_data/apid_huri_h5.keys\""
   ],
   "metadata": {
    "collapsed": false
   }
  },
  {
   "cell_type": "code",
   "execution_count": 51,
   "outputs": [
    {
     "data": {
      "text/plain": "['CRC-000037AE195F7A9D',\n 'CRC-000140D8BB91126A',\n 'CRC-0004FA7836A741E8',\n 'CRC-00050C5A816D1B06',\n 'CRC-00053DA2C582D0E6',\n 'CRC-000624825E507385',\n 'CRC-0008B4CC2EF971CA',\n 'CRC-00094EB0FBCA0E43',\n 'CRC-00097529ECAB0123',\n 'CRC-00099A7E52B3FC46']"
     },
     "execution_count": 51,
     "metadata": {},
     "output_type": "execute_result"
    }
   ],
   "source": [
    "with (proj_root / 'embed_data/apid_huri_h5.keys').open('r') as file:\n",
    "    crcs = set(l.strip() for l in file)\n",
    "sorted(crcs)[:10]"
   ],
   "metadata": {
    "collapsed": false
   }
  },
  {
   "cell_type": "code",
   "execution_count": 52,
   "outputs": [
    {
     "name": "stderr",
     "output_type": "stream",
     "text": [
      "100%|██████████| 3/3 [00:00<00:00,  9.27it/s]\n"
     ]
    },
    {
     "data": {
      "text/plain": "153"
     },
     "execution_count": 52,
     "metadata": {},
     "output_type": "execute_result"
    }
   ],
   "source": [
    "dd = proj_root / 'ppi_data/v2/10:1_full'\n",
    "seqs = dict()\n",
    "for fasta in tqdm(set(dd.glob('*.fasta'))):\n",
    "    seqs |= {r.id: str(r.seq) for r in SeqIO.parse(fasta, 'fasta')\n",
    "             if r.id not in crcs}\n",
    "len(seqs)"
   ],
   "metadata": {
    "collapsed": false
   }
  },
  {
   "cell_type": "code",
   "execution_count": 53,
   "outputs": [
    {
     "data": {
      "text/plain": "62005"
     },
     "execution_count": 53,
     "metadata": {},
     "output_type": "execute_result"
    }
   ],
   "source": [
    "len(crcs)"
   ],
   "metadata": {
    "collapsed": false
   }
  },
  {
   "cell_type": "code",
   "execution_count": 55,
   "outputs": [
    {
     "name": "stdout",
     "output_type": "stream",
     "text": [
      "7fa617b1702f012f62bfc339be713cd71e30fc4f719d6e03d33f9eed13e0cfe5  /home/quirin/PYTHON/ppi/embed_data/missing.fasta\r\n"
     ]
    }
   ],
   "source": [
    "# write a fasta with the missing, unique cleaned-up original IDs\n",
    "missing_fasta = proj_root / 'embed_data/missing.fasta'\n",
    "with open(missing_fasta, 'w') as fasta:\n",
    "    for _id in sorted(seqs.keys()):\n",
    "        to_fasta(_id, seqs[_id], fasta)\n",
    "!sha256sum $missing_fasta"
   ],
   "metadata": {
    "collapsed": false
   }
  },
  {
   "cell_type": "markdown",
   "source": [
    "make embeddings\n",
    "\n",
    "```shell\n",
    "cd /mnt/project/kaindl/ppi/embed_data\n",
    "ppi embed --fasta missing.fasta --h5-file apid_huri.h5\n",
    "```\n"
   ],
   "metadata": {
    "collapsed": false
   }
  },
  {
   "cell_type": "code",
   "execution_count": null,
   "outputs": [],
   "source": [],
   "metadata": {
    "collapsed": false
   }
  },
  {
   "cell_type": "markdown",
   "source": [
    "## Pick a checkpoint"
   ],
   "metadata": {
    "collapsed": false
   }
  },
  {
   "cell_type": "markdown",
   "source": [
    "| model   |   step |   date | time  | exact            |\n",
    "|---------|-------:|-------:|-------|------------------|\n",
    "| fft3    | 339.7K |  1 Aug | 21:56 | chk_eval_339682  |\n",
    "| fft4    |   435K |  4 Aug | 20:19 | chk_eval_435242  |\n",
    "| fft4    |   817K | 11 Aug | 22:08 | chk_eval_817385  |\n",
    "| chimera | 1.295M | 18 Aug | 05:30 | chk_eval_1295109 |\n",
    "| chimera | 1.698M | 21 Aug | 20:09 | chk_7            |"
   ],
   "metadata": {
    "collapsed": false
   }
  },
  {
   "cell_type": "code",
   "execution_count": 6,
   "outputs": [
    {
     "name": "stderr",
     "output_type": "stream",
     "text": [
      "100%|██████████| 1/1 [00:00<00:00,  3.00it/s]\n"
     ]
    }
   ],
   "source": [
    "publish([model_dir.parent / 'fft3/chk_eval_339682.tar'])"
   ],
   "metadata": {
    "collapsed": false
   }
  },
  {
   "cell_type": "code",
   "execution_count": 40,
   "outputs": [],
   "source": [
    "checkpoints = ['fft3/chk_eval_339682.pt',\n",
    "               'fft4/chk_eval_435242.pt',\n",
    "               'fft4/chk_eval_817385.pt',\n",
    "               'chimera/chk_eval_1295109.pt',\n",
    "               'chimera/chk_7.pt']"
   ],
   "metadata": {
    "collapsed": false
   }
  },
  {
   "cell_type": "code",
   "execution_count": null,
   "outputs": [],
   "source": [],
   "metadata": {
    "collapsed": false
   }
  },
  {
   "cell_type": "markdown",
   "source": [
    "## Re-plot the train progress"
   ],
   "metadata": {
    "collapsed": false
   }
  },
  {
   "cell_type": "code",
   "execution_count": 3,
   "outputs": [],
   "source": [
    "from pathlib import Path\n",
    "import pandas as pd\n",
    "import matplotlib as mpl\n",
    "import seaborn as sns\n",
    "import matplotlib.pyplot as plt\n",
    "from math import floor, ceil\n",
    "\n",
    "from t5.t5_utils import save"
   ],
   "metadata": {
    "collapsed": false
   }
  },
  {
   "cell_type": "code",
   "execution_count": 4,
   "outputs": [
    {
     "data": {
      "text/plain": "      Wall time   Step     Value cclass\n0  1.658725e+09  10616  0.099867     C1\n1  1.658739e+09  21231  0.103036     C1\n2  1.658753e+09  31846  0.106607     C1\n3  1.658767e+09  42461  0.110471     C1\n4  1.658781e+09  53076  0.112800     C1",
      "text/html": "<div>\n<style scoped>\n    .dataframe tbody tr th:only-of-type {\n        vertical-align: middle;\n    }\n\n    .dataframe tbody tr th {\n        vertical-align: top;\n    }\n\n    .dataframe thead th {\n        text-align: right;\n    }\n</style>\n<table border=\"1\" class=\"dataframe\">\n  <thead>\n    <tr style=\"text-align: right;\">\n      <th></th>\n      <th>Wall time</th>\n      <th>Step</th>\n      <th>Value</th>\n      <th>cclass</th>\n    </tr>\n  </thead>\n  <tbody>\n    <tr>\n      <th>0</th>\n      <td>1.658725e+09</td>\n      <td>10616</td>\n      <td>0.099867</td>\n      <td>C1</td>\n    </tr>\n    <tr>\n      <th>1</th>\n      <td>1.658739e+09</td>\n      <td>21231</td>\n      <td>0.103036</td>\n      <td>C1</td>\n    </tr>\n    <tr>\n      <th>2</th>\n      <td>1.658753e+09</td>\n      <td>31846</td>\n      <td>0.106607</td>\n      <td>C1</td>\n    </tr>\n    <tr>\n      <th>3</th>\n      <td>1.658767e+09</td>\n      <td>42461</td>\n      <td>0.110471</td>\n      <td>C1</td>\n    </tr>\n    <tr>\n      <th>4</th>\n      <td>1.658781e+09</td>\n      <td>53076</td>\n      <td>0.112800</td>\n      <td>C1</td>\n    </tr>\n  </tbody>\n</table>\n</div>"
     },
     "execution_count": 4,
     "metadata": {},
     "output_type": "execute_result"
    }
   ],
   "source": [
    "wd = Path('/home/quirin/PYTHON/ppi/eval')\n",
    "\n",
    "dfs = list()\n",
    "for csv in wd.glob('run-*.csv'):\n",
    "    df = pd.read_csv(csv, header=0)\n",
    "    df['cclass'] = csv.stem[csv.stem.find('-tag') - 2:][:2]\n",
    "    dfs.append(df)\n",
    "df = pd.concat(dfs)\n",
    "df.head()"
   ],
   "metadata": {
    "collapsed": false
   }
  },
  {
   "cell_type": "code",
   "execution_count": 5,
   "outputs": [
    {
     "data": {
      "text/plain": "(849230, 849248)"
     },
     "execution_count": 5,
     "metadata": {},
     "output_type": "execute_result"
    }
   ],
   "source": [
    "df = df.loc[df['Wall time'] < 1.661e9].copy()\n",
    "df.Step.max(), floor(1592342 * 2 / 15) * 4"
   ],
   "metadata": {
    "collapsed": false
   }
  },
  {
   "cell_type": "code",
   "execution_count": 6,
   "outputs": [],
   "source": [
    "df['epoch'] = df.Step / df.Step.max() * 4\n",
    "df = df.rename(columns=dict(Value='AUPR'))"
   ],
   "metadata": {
    "collapsed": false
   }
  },
  {
   "cell_type": "code",
   "execution_count": 7,
   "outputs": [],
   "source": [
    "sns.set_theme(style='ticks')\n",
    "pal = dict(C0='#828282', C1='#D81B60', C2='#1E88E5', C3='#FFC107')"
   ],
   "metadata": {
    "collapsed": false
   }
  },
  {
   "cell_type": "code",
   "execution_count": 8,
   "outputs": [
    {
     "data": {
      "text/plain": "<Figure size 575.5x500 with 1 Axes>",
      "image/png": "[encoded data removed]"
     },
     "metadata": {},
     "output_type": "display_data"
    }
   ],
   "source": [
    "fig = sns.relplot(\n",
    "    data=df,\n",
    "    # kind='line',\n",
    "    x='Wall time',\n",
    "    y='AUPR',\n",
    "    hue='cclass',\n",
    "    palette=pal,\n",
    "    lw=4,\n",
    "\n",
    ")"
   ],
   "metadata": {
    "collapsed": false
   }
  },
  {
   "cell_type": "code",
   "execution_count": 12,
   "outputs": [
    {
     "data": {
      "text/plain": "<Figure size 575.5x500 with 1 Axes>",
      "image/png": "[encoded data removed]"
     },
     "metadata": {
      "needs_background": "light"
     },
     "output_type": "display_data"
    }
   ],
   "source": [
    "with mpl.rc_context({'figure.facecolor': 'none'}):\n",
    "    fig = sns.relplot(\n",
    "        data=df,\n",
    "        kind='line',\n",
    "        x='epoch',\n",
    "        y='AUPR',\n",
    "        hue='cclass',\n",
    "        palette=pal,\n",
    "        lw=2,\n",
    "\n",
    "    )\n",
    "ax = fig.axes.flatten()[0]\n",
    "ax.axhline(1 / 11, c='.5', lw=.6)\n",
    "ax.set(box_aspect=1, xlim=(0, 4), xticks=range(5))\n",
    "plt.setp(ax.get_xticklines(), visible=False)\n",
    "fig.despine(top=False, right=False)\n",
    "fig.tight_layout()\n",
    "sns.move_legend(fig, 'upper left',  bbox_to_anchor=(.16, .92), title=None)\n",
    "save(fig, 'tb_aupr_curves_fft4', pdf=True)"
   ],
   "metadata": {
    "collapsed": false
   }
  },
  {
   "cell_type": "code",
   "execution_count": 137,
   "outputs": [
    {
     "data": {
      "text/plain": "<Figure size 575.5x500 with 1 Axes>",
      "image/png": "[encoded data removed]"
     },
     "metadata": {
      "needs_background": "light"
     },
     "output_type": "display_data"
    }
   ],
   "source": [
    "\n",
    "with mpl.rc_context({'figure.facecolor': 'none'}):\n",
    "    # fig = sns.relplot(\n",
    "    #     data=df,\n",
    "    #     # kind='line',\n",
    "    #     x='epoch',\n",
    "    #     y='AUPR',\n",
    "    #     hue='cclass',\n",
    "    #     palette=pal,\n",
    "    #     lw=4,\n",
    "    #\n",
    "    # )\n",
    "    #\n",
    "    # ax = fig.axes.flatten()[0]\n",
    "\n",
    "    fig = sns.lmplot(\n",
    "        data=df,\n",
    "        x='epoch',\n",
    "        y='AUPR',\n",
    "        hue='cclass',\n",
    "        palette=pal,\n",
    "        # lowess=True,\n",
    "        order=32,\n",
    "        ci=None,\n",
    "        # ax=ax,\n",
    "        scatter_kws={'s': 4},\n",
    "        height=5,\n",
    "    )\n",
    "\n",
    "ax = fig.axes.flatten()[0]\n",
    "ax.set(box_aspect=1, xlim=(0, 4))\n",
    "\n",
    "ax.axhline(1 / 11, c='.5', lw=.6)\n",
    "ax.set(box_aspect=1 / 1.618, xlim=(0, 4), xticks=range(5))\n",
    "plt.setp(ax.get_xticklines(), visible=False)\n",
    "\n",
    "fig.despine(top=False, right=False)\n",
    "fig.tight_layout()\n",
    "sns.move_legend(fig, 'center right',  #bbox_to_anchor=(1, .9),\n",
    "                title=None)"
   ],
   "metadata": {
    "collapsed": false
   }
  },
  {
   "cell_type": "code",
   "execution_count": 139,
   "outputs": [
    {
     "data": {
      "text/plain": "849248.5333333333"
     },
     "execution_count": 139,
     "metadata": {},
     "output_type": "execute_result"
    }
   ],
   "source": [
    "1592341 / 15 * 2 * 4"
   ],
   "metadata": {
    "collapsed": false
   }
  },
  {
   "cell_type": "code",
   "execution_count": 146,
   "outputs": [
    {
     "data": {
      "text/plain": "849249"
     },
     "execution_count": 146,
     "metadata": {},
     "output_type": "execute_result"
    }
   ],
   "source": [
    "ceil(1592341 / 15 * 2 * 4)"
   ],
   "metadata": {
    "collapsed": false
   }
  },
  {
   "cell_type": "code",
   "execution_count": null,
   "outputs": [],
   "source": [],
   "metadata": {
    "collapsed": false
   }
  },
  {
   "cell_type": "code",
   "execution_count": null,
   "outputs": [],
   "source": [],
   "metadata": {
    "collapsed": false
   }
  },
  {
   "cell_type": "code",
   "execution_count": null,
   "outputs": [],
   "source": [
    "sns.set_theme(style='ticks')\n",
    "\n",
    "with mpl.rc_context({'figure.facecolor': 'none'}):\n",
    "    fig = sns.relplot(data=prs,\n",
    "                      kind='line',\n",
    "                      x='recall', y='precision',\n",
    "                      color='#004D40',\n",
    "                      # hue='species',\n",
    "                      # palette={'human': '#004D40',\n",
    "                      #          'train_counts': '#FFC107',\n",
    "                      #          'proj_attention': '#DC267F',\n",
    "                      #          },\n",
    "                      # ax=ax,\n",
    "                      height=2.8, aspect=1,\n",
    "                      errorbar=None,\n",
    "                      drawstyle='steps-post',  #linewidth=2.5,\n",
    "                      )\n",
    "\n",
    "    t = [0, .25, .5, .75, 1]\n",
    "    tl = ['0', '.25', '.5', '.75', '1']\n",
    "\n",
    "    fig.set(xlabel='recall', ylabel='precision',\n",
    "            box_aspect=1,\n",
    "            xticks=t, yticks=t,\n",
    "            xticklabels=tl, yticklabels=tl)\n",
    "    fig.tight_layout()\n",
    "\n",
    "fig.despine(top=False, right=False)"
   ],
   "metadata": {
    "collapsed": false
   }
  },
  {
   "cell_type": "code",
   "execution_count": null,
   "outputs": [],
   "source": [],
   "metadata": {
    "collapsed": false
   }
  },
  {
   "cell_type": "code",
   "execution_count": null,
   "outputs": [],
   "source": [],
   "metadata": {
    "collapsed": false
   }
  }
 ],
 "metadata": {
  "kernelspec": {
   "display_name": "Python 3",
   "language": "python",
   "name": "python3"
  },
  "language_info": {
   "codemirror_mode": {
    "name": "ipython",
    "version": 2
   },
   "file_extension": ".py",
   "mimetype": "text/x-python",
   "name": "python",
   "nbconvert_exporter": "python",
   "pygments_lexer": "ipython2",
   "version": "2.7.6"
  }
 },
 "nbformat": 4,
 "nbformat_minor": 0
}
