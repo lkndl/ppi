{
 "cells": [
  {
   "cell_type": "code",
   "execution_count": 35,
   "outputs": [],
   "source": [
    "from Bio import SeqIO\n",
    "import pandas as pd\n",
    "from pathlib import Path\n",
    "\n",
    "from ppi_utils.general import to_fasta"
   ],
   "metadata": {
    "collapsed": false
   }
  },
  {
   "cell_type": "code",
   "execution_count": 36,
   "outputs": [
    {
     "data": {
      "text/plain": "(PosixPath('/home/quirin/PYTHON/ppi/ppi_data/v2'), True)"
     },
     "execution_count": 36,
     "metadata": {},
     "output_type": "execute_result"
    }
   ],
   "source": [
    "ppi_dir = Path('.').resolve().parents[1] / 'ppi' / 'ppi_data' / 'v2'\n",
    "ppi_dir, ppi_dir.is_dir()"
   ],
   "metadata": {
    "collapsed": false
   }
  },
  {
   "cell_type": "code",
   "execution_count": 37,
   "outputs": [
    {
     "data": {
      "text/plain": "                 hash_A                hash_B  species  label  cclass\n0  CRC-001576EA78C61C85  CRC-045C9C9CAE0FD639     9606      1       3\n1  CRC-001576EA78C61C85  CRC-12E45FF6696080F8     9606      1       3\n2  CRC-001576EA78C61C85  CRC-2743716544288776     9606      1       3\n3  CRC-001576EA78C61C85  CRC-2EDBC7981868EB12     9606      1       3\n4  CRC-001576EA78C61C85  CRC-40897D5AF9B186A9     9606      1       3",
      "text/html": "<div>\n<style scoped>\n    .dataframe tbody tr th:only-of-type {\n        vertical-align: middle;\n    }\n\n    .dataframe tbody tr th {\n        vertical-align: top;\n    }\n\n    .dataframe thead th {\n        text-align: right;\n    }\n</style>\n<table border=\"1\" class=\"dataframe\">\n  <thead>\n    <tr style=\"text-align: right;\">\n      <th></th>\n      <th>hash_A</th>\n      <th>hash_B</th>\n      <th>species</th>\n      <th>label</th>\n      <th>cclass</th>\n    </tr>\n  </thead>\n  <tbody>\n    <tr>\n      <th>0</th>\n      <td>CRC-001576EA78C61C85</td>\n      <td>CRC-045C9C9CAE0FD639</td>\n      <td>9606</td>\n      <td>1</td>\n      <td>3</td>\n    </tr>\n    <tr>\n      <th>1</th>\n      <td>CRC-001576EA78C61C85</td>\n      <td>CRC-12E45FF6696080F8</td>\n      <td>9606</td>\n      <td>1</td>\n      <td>3</td>\n    </tr>\n    <tr>\n      <th>2</th>\n      <td>CRC-001576EA78C61C85</td>\n      <td>CRC-2743716544288776</td>\n      <td>9606</td>\n      <td>1</td>\n      <td>3</td>\n    </tr>\n    <tr>\n      <th>3</th>\n      <td>CRC-001576EA78C61C85</td>\n      <td>CRC-2EDBC7981868EB12</td>\n      <td>9606</td>\n      <td>1</td>\n      <td>3</td>\n    </tr>\n    <tr>\n      <th>4</th>\n      <td>CRC-001576EA78C61C85</td>\n      <td>CRC-40897D5AF9B186A9</td>\n      <td>9606</td>\n      <td>1</td>\n      <td>3</td>\n    </tr>\n  </tbody>\n</table>\n</div>"
     },
     "execution_count": 37,
     "metadata": {},
     "output_type": "execute_result"
    }
   ],
   "source": [
    "pairs = pd.read_csv(ppi_dir / '1:1_small' / 'huri_test.tsv', sep='\\t')\n",
    "pairs.head()"
   ],
   "metadata": {
    "collapsed": false
   }
  },
  {
   "cell_type": "code",
   "execution_count": 38,
   "outputs": [
    {
     "data": {
      "text/plain": "('CRC-001576EA78C61C85',\n 'MSFKREGDDWSQLNVLKKRRVGDLLASYIPEDEALMLRDGRFACAICPHRPVLDTLAMLTAHRAGKKHLSSLQLFYGKKQPGKERKQNPKHQNELRREETKAEAPLLTQTRLITQSALHRAPHYNSCCRRKYRPEAPGPSVSLSPMPPSEVKLQSGKISREPEPAAGPQAEESATVSAPAPMSPTRRRALDHYLTLRSSGWIPDGRGRWVKDENVEFDSDEEEPPDLPLD')"
     },
     "execution_count": 38,
     "metadata": {},
     "output_type": "execute_result"
    }
   ],
   "source": [
    "fasta = {r.id: str(r.seq) for r in SeqIO.parse(ppi_dir / '1:1_small' / 'huri_test.fasta', 'fasta')}\n",
    "next(iter(fasta.items()))"
   ],
   "metadata": {
    "collapsed": false
   }
  },
  {
   "cell_type": "code",
   "execution_count": 45,
   "outputs": [],
   "source": [
    "def to_ppi_line(_ida, _idb) -> str:\n",
    "    return f'>{ida}_{idb}\\n{fasta[ida]}:{fasta[idb]}\\n'"
   ],
   "metadata": {
    "collapsed": false
   }
  },
  {
   "cell_type": "code",
   "execution_count": 39,
   "outputs": [],
   "source": [
    "with (ppi_dir / '1:1_small' / 'huri_1332.fasta').open('w') as out_fasta:\n",
    "    for _, (ida, idb) in pairs.iloc[:, [0, 1]].T.items():\n",
    "        to_fasta(f'{ida}_{idb}', f'{fasta[ida]}:{fasta[idb]}', out_fasta)"
   ],
   "metadata": {
    "collapsed": false
   }
  },
  {
   "cell_type": "code",
   "execution_count": 41,
   "outputs": [
    {
     "name": "stdout",
     "output_type": "stream",
     "text": [
      ">CRC-001576EA78C61C85_CRC-045C9C9CAE0FD639\r\n",
      "MSFKREGDDWSQLNVLKKRRVGDLLASYIPEDEALMLRDGRFACAICPHRPVLDTLAMLT\r\n",
      "AHRAGKKHLSSLQLFYGKKQPGKERKQNPKHQNELRREETKAEAPLLTQTRLITQSALHR\r\n",
      "APHYNSCCRRKYRPEAPGPSVSLSPMPPSEVKLQSGKISREPEPAAGPQAEESATVSAPA\r\n",
      "PMSPTRRRALDHYLTLRSSGWIPDGRGRWVKDENVEFDSDEEEPPDLPLD:MAPRSRRRR\r\n",
      "HKKPPSSVAPIIMAPTTIVTPVPLTPSKPGPSIDTLGFFSLDDNVPGLSQLILQKLNMKS\r\n",
      "YEEYKLVVDGGTPVSGFGFRCPQEMFQRMEDTFRFCAHCRALPSGLSDSKVLRHCKRCRN\r\n",
      "VYYCGPECQKSDWPAHRRVCQELRLVAVDRLMEWLLVTGDFVLPSGPWPWPPEAVQDWDS\r\n",
      "WFSMKGLHLDATLDAVLVSHAVTTLWASVGRPRPDPDVLQGSLKRLLTDVLSRPLTLGLG\r\n",
      "LRALGIDVRRTGGSTVHVVGASHVETFLTRPGDYDELGYMFPGHLGLRVVMVGVDVATGF\r\n",
      "SQSTSTSPLEPGTIQLSAHRGLYHDFWEEQVETGQTHHPDLVAAFHPGFHSSPDLMEAWL\r\n",
      "PTLLLLRDYKIPTLITVYSHQELVSSLQILVELDTHITAFGSNPFMSLKPEQVYSSPNKQ\r\n",
      "PVYCSAYYIMFLGSSCQLDNRQLEEKVDGGI\r\n",
      ">CRC-001576EA78C61C85_CRC-12E45FF6696080F8\r\n",
      "MSFKREGDDWSQLNVLKKRRVGDLLASYIPEDEALMLRDGRFACAICPHRPVLDTLAMLT\r\n",
      "AHRAGKKHLSSLQLFYGKKQPGKERKQNPKHQNELRREETKAEAPLLTQTRLITQSALHR\r\n",
      "APHYNSCCRRKYRPEAPGPSVSLSPMPPSEVKLQSGKISREPEPAAGPQAEESATVSAPA\r\n",
      "PMSPTRRRALDHYLTLRSSGWIPDGRGRWVKDENVEFDSDEEEPPDLPLD:MAGRSLTSK\r\n",
      "AEPTAGAVDRAEKAGGQDTSSQKIEDLMEMVQKLQKVGSLEPRVEVLINRINEVQQAKKK\r\n",
      "ANKDLGEARTICEALQKELDSLHGEKVHLKEILSKKQETLRILRLHCQEKESEAHRKHTM\r\n",
      "LQECKERISALNLQIEEEKNKQRQLRLAFEEQLEDLMGQHKDLWDFHMPERLAKEICALD\r\n",
      "SSKEQLLKEEKLVKATLEDVKHQLCSLCGAEGPSTLDEGLFLRSQEAAATVQLFQEEHRK\r\n",
      "AEELLAAAAQRHQQLQQKCQQQQQKRQRLKEELEKHGMQVPAQAQSTQEEEAGPGDVASP\r\n",
      "KPLKGERPGAAHQAGPDVLIGQEDTLHPDLSPRGFQEIKELF\r\n",
      ">CRC-001576EA78C61C85_CRC-2743716544288776\r\n",
      "MSFKREGDDWSQLNVLKKRRVGDLLASYIPEDEALMLRDGRFACAICPHRPVLDTLAMLT\r\n",
      "AHRAGKKHLSSLQLFYGKKQPGKERKQNPKHQNELRREETKAEAPLLTQTRLITQSALHR\r\n",
      "APHYNSCCRRKYRPEAPGPSVSLSPMPPSEVKLQSGKISREPEPAAGPQAEESATVSAPA\r\n",
      "PMSPTRRRALDHYLTLRSSGWIPDGRGRWVKDENVEFDSDEEEPPDLPLD:MGAHLVRRY\r\n",
      "LGDASVEPDPLQMPTFPPDYGFPERKEREMVATQQEMMDAQLRLQLRDYCAHHLIRLLKC\r\n",
      "KRDSFPNFLACKQERHDWDYCEHRDYVMRMKEFERERRLLQRKKRREKKAAELAKGQGPG\r\n",
      "EVDPKVAL\r\n",
      ">CRC-001576EA78C61C85_CRC-2EDBC7981868EB12\r\n",
      "MSFKREGDDWSQLNVLKKRRVGDLLASYIPEDEALMLRDGRFACAICPHRPVLDTLAMLT\r\n",
      "AHRAGKKHLSSLQLFYGKKQPGKERKQNPKHQNELRREETKAEAPLLTQTRLITQSALHR\r\n",
      "APHYNSCCRRKYRPEAPGPSVSLSPMPPSEVKLQSGKISREPEPAAGPQAEESATVSAPA\r\n",
      "PMSPTRRRALDHYLTLRSSGWIPDGRGRWVKDENVEFDSDEEEPPDLPLD:MAPKKKGKK\r\n",
      "GKAKGTPIVDGLAPEDMSKEQVEEHVSRIREELDREREERNYFQLERDKIHTFWEITRRQ\r\n",
      "LEEKKAELRNKDREMEEAEERHQVEIKVYKQKVKHLLYEHQNNLTEMKAEGTVVMKLAQK\r\n",
      "EHRIQESVLRKDMRALKVELKEQELASEVVVKNLRLKHTEEITRMRNDFERQVREIEAKY\r\n"
     ]
    }
   ],
   "source": [
    "!head -n 40 $ppi_dir/1:1_small/huri_1332.fasta"
   ],
   "metadata": {
    "collapsed": false
   }
  },
  {
   "cell_type": "code",
   "execution_count": 46,
   "outputs": [],
   "source": [
    "with (ppi_dir / '1:1_small' / 'huri_1332_nolinebreaks.fasta').open('w') as out_fasta:\n",
    "    for _, (ida, idb) in pairs.iloc[:, [0, 1]].T.items():\n",
    "        out_fasta.write(to_ppi_line(ida, idb))"
   ],
   "metadata": {
    "collapsed": false
   }
  },
  {
   "cell_type": "code",
   "execution_count": 47,
   "outputs": [
    {
     "name": "stdout",
     "output_type": "stream",
     "text": [
      ">CRC-001576EA78C61C85_CRC-045C9C9CAE0FD639\r\n",
      "MSFKREGDDWSQLNVLKKRRVGDLLASYIPEDEALMLRDGRFACAICPHRPVLDTLAMLTAHRAGKKHLSSLQLFYGKKQPGKERKQNPKHQNELRREETKAEAPLLTQTRLITQSALHRAPHYNSCCRRKYRPEAPGPSVSLSPMPPSEVKLQSGKISREPEPAAGPQAEESATVSAPAPMSPTRRRALDHYLTLRSSGWIPDGRGRWVKDENVEFDSDEEEPPDLPLD:MAPRSRRRRHKKPPSSVAPIIMAPTTIVTPVPLTPSKPGPSIDTLGFFSLDDNVPGLSQLILQKLNMKSYEEYKLVVDGGTPVSGFGFRCPQEMFQRMEDTFRFCAHCRALPSGLSDSKVLRHCKRCRNVYYCGPECQKSDWPAHRRVCQELRLVAVDRLMEWLLVTGDFVLPSGPWPWPPEAVQDWDSWFSMKGLHLDATLDAVLVSHAVTTLWASVGRPRPDPDVLQGSLKRLLTDVLSRPLTLGLGLRALGIDVRRTGGSTVHVVGASHVETFLTRPGDYDELGYMFPGHLGLRVVMVGVDVATGFSQSTSTSPLEPGTIQLSAHRGLYHDFWEEQVETGQTHHPDLVAAFHPGFHSSPDLMEAWLPTLLLLRDYKIPTLITVYSHQELVSSLQILVELDTHITAFGSNPFMSLKPEQVYSSPNKQPVYCSAYYIMFLGSSCQLDNRQLEEKVDGGI\r\n",
      ">CRC-001576EA78C61C85_CRC-12E45FF6696080F8\r\n",
      "MSFKREGDDWSQLNVLKKRRVGDLLASYIPEDEALMLRDGRFACAICPHRPVLDTLAMLTAHRAGKKHLSSLQLFYGKKQPGKERKQNPKHQNELRREETKAEAPLLTQTRLITQSALHRAPHYNSCCRRKYRPEAPGPSVSLSPMPPSEVKLQSGKISREPEPAAGPQAEESATVSAPAPMSPTRRRALDHYLTLRSSGWIPDGRGRWVKDENVEFDSDEEEPPDLPLD:MAGRSLTSKAEPTAGAVDRAEKAGGQDTSSQKIEDLMEMVQKLQKVGSLEPRVEVLINRINEVQQAKKKANKDLGEARTICEALQKELDSLHGEKVHLKEILSKKQETLRILRLHCQEKESEAHRKHTMLQECKERISALNLQIEEEKNKQRQLRLAFEEQLEDLMGQHKDLWDFHMPERLAKEICALDSSKEQLLKEEKLVKATLEDVKHQLCSLCGAEGPSTLDEGLFLRSQEAAATVQLFQEEHRKAEELLAAAAQRHQQLQQKCQQQQQKRQRLKEELEKHGMQVPAQAQSTQEEEAGPGDVASPKPLKGERPGAAHQAGPDVLIGQEDTLHPDLSPRGFQEIKELF\r\n"
     ]
    }
   ],
   "source": [
    "!head -n 4 $ppi_dir/1:1_small/huri_1332_nolinebreaks.fasta"
   ],
   "metadata": {
    "collapsed": false
   }
  },
  {
   "cell_type": "code",
   "execution_count": null,
   "outputs": [],
   "source": [],
   "metadata": {
    "collapsed": false
   }
  }
 ],
 "metadata": {
  "kernelspec": {
   "display_name": "Python 3",
   "language": "python",
   "name": "python3"
  },
  "language_info": {
   "codemirror_mode": {
    "name": "ipython",
    "version": 2
   },
   "file_extension": ".py",
   "mimetype": "text/x-python",
   "name": "python",
   "nbconvert_exporter": "python",
   "pygments_lexer": "ipython2",
   "version": "2.7.6"
  }
 },
 "nbformat": 4,
 "nbformat_minor": 0
}
