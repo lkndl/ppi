{
 "cells": [
  {
   "cell_type": "markdown",
   "source": [
    "# Generate a PPi train + validation set from [APID](http://cicblade.dep.usal.es:8080/APID/init.action) and a Y2H test set from [HuRI](http://www.interactome-atlas.org/download)\n",
    "## prep"
   ],
   "metadata": {
    "collapsed": false
   }
  },
  {
   "cell_type": "markdown",
   "source": [
    "- March 2021 version of [APID](http://cicblade.dep.usal.es:8080/APID/init.action)\n",
    "- interactomes for the 35 organisms listed as \"with more than 500 interactions\" only\n",
    "- some organism datasets will be dropped later, so not fetching smaller sets is ok\n",
    "- binary interactomes -> Level 2 -> `Q1` suffix\n",
    "- not using *H. sapiens* for training -> `9606_*Q1.txt`\n"
   ],
   "metadata": {
    "collapsed": false
   }
  },
  {
   "cell_type": "markdown",
   "source": [
    "first number is number of IDs, second is number of PPIs\n",
    "\n",
    "| APID     |              ISI |            noISI |      loss |\n",
    "|---------:|:----------------:|:----------------:|:---------:|\n",
    "| w/ Human | 67'240 : 319'429 | 61'429 : 296'653 | .09 : .07 |\n",
    "| no Human | 55'014 : 179'349 | 45'026 : 161'598 | .18 : .10 |\n",
    "|     loss |    .18 : .44     |    .27 : .46     | .33 : .49 |"
   ],
   "metadata": {
    "collapsed": false
   }
  },
  {
   "cell_type": "code",
   "execution_count": 1,
   "outputs": [],
   "source": [
    "from __future__ import annotations\n",
    "\n",
    "import os\n",
    "import sys\n",
    "import shutil\n",
    "import importlib\n",
    "\n",
    "import numpy as np\n",
    "from tqdm import tqdm\n",
    "from pathlib import Path\n",
    "from dataclasses import dataclass, field\n",
    "\n",
    "import pandas as pd\n",
    "from dataclass_wizard import JSONWizard"
   ],
   "metadata": {
    "collapsed": false,
    "pycharm": {
     "name": "#%%\n"
    }
   }
  },
  {
   "cell_type": "code",
   "execution_count": 2,
   "outputs": [
    {
     "name": "stdout",
     "output_type": "stream",
     "text": [
      "/home/quirin/anaconda3/envs/ppi/bin/python\r\n",
      "/home/quirin/PYTHON/ppi/data/ppi_dataset/template\r\n"
     ]
    }
   ],
   "source": [
    "!which python\n",
    "!pwd"
   ],
   "metadata": {
    "collapsed": false,
    "pycharm": {
     "name": "#%%\n"
    }
   }
  },
  {
   "cell_type": "code",
   "execution_count": 3,
   "outputs": [],
   "source": [
    "# assert False, 'don\\'t run'\n",
    "# !mv apid.zip ../apid.zip\n",
    "# !mv hi_union.psi ../hi_union.psi\n",
    "# !ln ../apid.zip apid.zip\n",
    "# !ln ../hi_union.psi hi_union.psi"
   ],
   "metadata": {
    "collapsed": false,
    "pycharm": {
     "name": "#%%\n"
    }
   }
  },
  {
   "cell_type": "code",
   "execution_count": 3,
   "outputs": [],
   "source": [
    "cwd = Path.cwd()\n",
    "package_root = str(cwd.parents[2])\n",
    "if package_root not in sys.path:\n",
    "    sys.path.append(package_root)"
   ],
   "metadata": {
    "collapsed": false,
    "pycharm": {
     "name": "#%%\n"
    }
   }
  },
  {
   "cell_type": "code",
   "execution_count": 4,
   "outputs": [
    {
     "name": "stdout",
     "output_type": "stream",
     "text": [
      "/home/quirin/PYTHON/ppi/data/ppi_dataset/results/7062\r\n"
     ]
    }
   ],
   "source": [
    "session = '7062'\n",
    "session_dir = cwd.parent / 'results' / session\n",
    "\n",
    "shutil.copytree(cwd, session_dir,\n",
    "                symlinks=True, dirs_exist_ok=True)\n",
    "os.chdir(session_dir.resolve())\n",
    "!pwd"
   ],
   "metadata": {
    "collapsed": false,
    "pycharm": {
     "name": "#%%\n"
    }
   }
  },
  {
   "cell_type": "code",
   "execution_count": 5,
   "outputs": [],
   "source": [
    "from data.utils import api, extract, general, pairs, plot, reduce, proteome\n",
    "\n",
    "from data.utils.api import *\n",
    "from data.utils.extract import *\n",
    "from data.utils.general import *\n",
    "from data.utils.pairs import *\n",
    "from data.utils.plot import *\n",
    "from data.utils.reduce import *\n",
    "from data.utils.proteome import *"
   ],
   "metadata": {
    "collapsed": false,
    "pycharm": {
     "name": "#%%\n"
    }
   }
  },
  {
   "cell_type": "code",
   "execution_count": 6,
   "outputs": [],
   "source": [
    "\n",
    "@dataclass\n",
    "class Config(JSONWizard):\n",
    "    class _(JSONWizard.Meta):\n",
    "        key_transform_with_dump = 'SNAKE'\n",
    "\n",
    "    keep_human: bool = False\n",
    "    keep_interspecies: bool = False\n",
    "    accept_homodimers: bool = False\n",
    "    remote_rostclust: bool = True\n",
    "    add_proteomes: bool = True\n",
    "\n",
    "    ap: Path = Path('apid')\n",
    "    hp: Path = Path('huri')\n",
    "    qp: Path = None\n",
    "    pp: Path = Path('swissprot')\n",
    "\n",
    "    min_seq_len: int = 50\n",
    "    max_seq_len: int = 1500\n",
    "\n",
    "    psi_path = Path('hi_union.psi')\n",
    "    hval_config: dict = field(default_factory=dict)\n",
    "    hval_config_path: Path = Path('hval_config.json')\n",
    "\n",
    "    seed: int = 42\n",
    "    ratio: float = 10.0\n",
    "    strategy: SamplingStrategy = SamplingStrategy.BALANCED\n",
    "\n",
    "    val_set_size: float = .1\n",
    "    val_species: Set[str] = field(default_factory=set)\n",
    "    train_species: Set[str] = field(default_factory=set)\n",
    "\n",
    "    val_raw_fasta: Path = ap / 'apid_validation_raw.fasta'\n",
    "    val_raw_tsv: Path = ap / 'apid_validation_raw.tsv'\n",
    "    val_rr_fasta: Path = ap / 'apid_validation_rr.fasta'\n",
    "    val_rr_tsv: Path = ap / 'apid_validation_rr.tsv'\n",
    "    val_c3_fasta: Path = ap / 'apid_validation_c3.fasta'\n",
    "    val_fasta: Path = Path('apid_validation.fasta')\n",
    "    val_tsv: Path = Path('apid_validation.tsv')\n",
    "\n",
    "    test_raw_fasta: Path = hp / 'huri_test_raw.fasta'\n",
    "    test_raw_tsv: Path = hp / 'huri_test_raw.tsv'\n",
    "    test_rr_fasta: Path = hp / 'huri_test_rr.fasta'\n",
    "    test_rr_tsv: Path = hp / 'huri_test_rr.tsv'\n",
    "    test_c3_fasta: Path = hp / 'huri_test_c3.fasta'\n",
    "    test_fasta: Path = Path('huri_test.fasta')\n",
    "    test_tsv: Path = Path('huri_test.tsv')\n",
    "\n",
    "    train_tsv: Path = Path('apid_train.tsv')\n",
    "    train_fasta: Path = Path('apid_train.fasta')\n",
    "    train_raw_fasta: Path = ap / 'apid_train_raw.fasta'\n",
    "    train_raw_tsv: Path = ap / 'apid_train_raw.tsv'\n",
    "\n",
    "    train_proteome: Path = Path('train_proteome.json')\n",
    "    val_proteome: Path = Path('val_proteome.json')\n",
    "    test_proteome: Path = Path('test_proteome.json')\n",
    "\n",
    "    # results\n",
    "    weird_species: set[int] = field(default_factory=set)\n",
    "    train_bias: str = None\n",
    "    train_seqs: int = None\n",
    "    train_size: int = None\n",
    "    test_seqs: int = None\n",
    "    val_seqs: int = None\n",
    "    val_bias: str = None\n",
    "    val_size: int = None\n",
    "    val_sizes: str = None\n",
    "    test_bias: float = None\n",
    "    test_size: int = None\n",
    "    test_sizes: str = None\n",
    "\n",
    "\n",
    "val_species = {10377, 37296, 9031, 8355, 9913, 7955, 39947, 10116}\n",
    "hval_config = dict(shortAlignmentLen=50,\n",
    "                   longSeqLen=180,\n",
    "                   reduceRandomAlign=False,\n",
    "                   clusterThreshold=20)\n",
    "\n",
    "c = Config(hval_config=hval_config, val_species=val_species)"
   ],
   "metadata": {
    "collapsed": false,
    "pycharm": {
     "name": "#%%\n"
    }
   }
  },
  {
   "cell_type": "code",
   "execution_count": 7,
   "outputs": [
    {
     "data": {
      "text/plain": "(True, PosixPath('/home/k/kaindll/ppi/data/ppi_dataset/results/7062'))"
     },
     "execution_count": 7,
     "metadata": {},
     "output_type": "execute_result"
    }
   ],
   "source": [
    "remote = Path('/home/k/kaindll') / Path(*session_dir.parts[4:])\n",
    "\n",
    "\n",
    "def push():\n",
    "    if c.remote_rostclust:\n",
    "        !rsync -zar --size-only -e ssh \".\" \"kaindll@lapislazuli:{remote}\"\n",
    "\n",
    "\n",
    "def pull():\n",
    "    if c.remote_rostclust:\n",
    "        !rsync -zar --size-only -e ssh \"kaindll@lapislazuli:{remote}/\" \".\"\n",
    "\n",
    "\n",
    "c.remote_rostclust, remote"
   ],
   "metadata": {
    "collapsed": false,
    "pycharm": {
     "name": "#%%\n"
    }
   }
  },
  {
   "cell_type": "code",
   "execution_count": 8,
   "outputs": [],
   "source": [
    "importlib.reload(api)\n",
    "importlib.reload(extract)\n",
    "importlib.reload(general)\n",
    "importlib.reload(pairs)\n",
    "importlib.reload(plot)\n",
    "importlib.reload(reduce)\n",
    "importlib.reload(proteome)\n",
    "\n",
    "from data.utils.api import *\n",
    "from data.utils.extract import *\n",
    "from data.utils.general import *\n",
    "from data.utils.pairs import *\n",
    "from data.utils.plot import *\n",
    "from data.utils.reduce import *\n",
    "from data.utils.proteome import *"
   ],
   "metadata": {
    "collapsed": false,
    "pycharm": {
     "name": "#%%\n"
    }
   }
  },
  {
   "cell_type": "markdown",
   "source": [
    "## Toy example\n",
    "#### bias of negative dataset"
   ],
   "metadata": {
    "collapsed": false
   }
  },
  {
   "cell_type": "code",
   "execution_count": null,
   "outputs": [],
   "source": [
    "# demonstrate sampling strategies: toy PPI table example\n",
    "raw = '''A\\tB\\nA\\tC\\nC\\tF\\nA\\tE\\nK\\tL\\nC\\tK\\nB\\tG\\nG\\tM\\nA\\tO\\nE\\tO\\nI\\tJ\\nJ\\tK\\nI\\tK'''\n",
    "ppis = ppis_from_string(raw)\n",
    "ppi_dict = dict()\n",
    "ppis"
   ],
   "metadata": {
    "collapsed": false,
    "pycharm": {
     "name": "#%%\n"
    }
   }
  },
  {
   "cell_type": "code",
   "execution_count": null,
   "outputs": [],
   "source": [
    "ppi_dict['balanced'], *_ = find_negative_pairs(ppis, ratio=1.5, seed=42,\n",
    "                                               strategy=SamplingStrategy.BALANCED)\n",
    "# balanced sampling tries to conserve the distribution of degrees -> high-bias dataset"
   ],
   "metadata": {
    "collapsed": false,
    "pycharm": {
     "name": "#%%\n"
    }
   }
  },
  {
   "cell_type": "code",
   "execution_count": null,
   "outputs": [],
   "source": [
    "ppi_dict['random'], *_ = find_negative_pairs(ppis, ratio=1.5, seed=42,\n",
    "                                             strategy=SamplingStrategy.RANDOM)\n",
    "# random sampling gives a nearly un-biased dataset"
   ],
   "metadata": {
    "collapsed": false,
    "pycharm": {
     "name": "#%%\n"
    }
   }
  },
  {
   "cell_type": "code",
   "execution_count": null,
   "outputs": [],
   "source": [
    "ppi_dict['complement'], *_ = find_negative_pairs(ppis, ratio=10, seed=42,\n",
    "                                                 strategy=SamplingStrategy.BALANCED)\n",
    "# sampling the entire network complement will perfectly invert the degree distribution"
   ],
   "metadata": {
    "collapsed": false,
    "pycharm": {
     "name": "#%%\n"
    }
   }
  },
  {
   "cell_type": "markdown",
   "source": [
    "#### strategies visualized\n",
    "It becomes apparent that the combination of graph size and density is important, and that random or balanced sampling generate different sets of negatives."
   ],
   "metadata": {
    "collapsed": false
   }
  },
  {
   "cell_type": "code",
   "execution_count": null,
   "outputs": [],
   "source": [
    "_ = draw_toy_ppis(ppis, ppi_dict)"
   ],
   "metadata": {
    "collapsed": false,
    "pycharm": {
     "name": "#%%\n"
    }
   }
  },
  {
   "cell_type": "markdown",
   "source": [
    "#### with homodimers"
   ],
   "metadata": {
    "collapsed": false
   }
  },
  {
   "cell_type": "code",
   "execution_count": null,
   "outputs": [],
   "source": [
    "# added F-F\n",
    "raw = '''A\\tB\\nA\\tC\\nC\\tF\\nA\\tE\\nK\\tL\\nC\\tK\\nB\\tG\\nG\\tM\\nA\\tO\\nE\\tO\\nI\\tJ\\nJ\\tK\\nI\\tK\\nF\\tF'''\n",
    "ppis = ppis_from_string(raw)"
   ],
   "metadata": {
    "collapsed": false,
    "pycharm": {
     "name": "#%%\n"
    }
   }
  },
  {
   "cell_type": "code",
   "execution_count": null,
   "outputs": [],
   "source": [
    "ppi_dict = dict()\n",
    "ppi_dict['balanced'], *_ = find_negative_pairs(ppis, ratio=1.5, seed=42,\n",
    "                                               strategy=SamplingStrategy.BALANCED)\n",
    "ppi_dict['random'], *_ = find_negative_pairs(ppis, ratio=1.5, seed=42,\n",
    "                                             strategy=SamplingStrategy.RANDOM)\n",
    "ppi_dict['complement'], *_ = find_negative_pairs(ppis, ratio=10, seed=42,\n",
    "                                                 strategy=SamplingStrategy.BALANCED)\n",
    "_ = draw_toy_ppis(ppis, ppi_dict)"
   ],
   "metadata": {
    "collapsed": false,
    "pycharm": {
     "name": "#%%\n"
    }
   }
  },
  {
   "cell_type": "markdown",
   "source": [
    "#### input homodimers, but not allowed as negatives"
   ],
   "metadata": {
    "collapsed": false
   }
  },
  {
   "cell_type": "code",
   "execution_count": null,
   "outputs": [],
   "source": [
    "ppi_dict = dict()\n",
    "ppi_dict['balanced'], *_ = find_negative_pairs(ppis, ratio=1.5, seed=42,\n",
    "                                               strategy=SamplingStrategy.BALANCED,\n",
    "                                               accept_homodimers=False)\n",
    "ppi_dict['random'], *_ = find_negative_pairs(ppis, ratio=1.5, seed=42,\n",
    "                                             strategy=SamplingStrategy.RANDOM,\n",
    "                                             accept_homodimers=False)\n",
    "ppi_dict['complement'], *_ = find_negative_pairs(ppis, ratio=10, seed=42,\n",
    "                                                 strategy=SamplingStrategy.BALANCED,\n",
    "                                                 accept_homodimers=False)\n",
    "_ = draw_toy_ppis(ppis, ppi_dict)"
   ],
   "metadata": {
    "collapsed": false,
    "pycharm": {
     "name": "#%%\n"
    }
   }
  },
  {
   "cell_type": "markdown",
   "source": [
    "## Train set: APID\n",
    "#### extract from `<taxid>*_Q1.txt` files"
   ],
   "metadata": {
    "collapsed": false
   }
  },
  {
   "cell_type": "code",
   "execution_count": 9,
   "outputs": [
    {
     "data": {
      "text/plain": "PosixPath('apid_q1')"
     },
     "execution_count": 9,
     "metadata": {},
     "output_type": "execute_result"
    }
   ],
   "source": [
    "c.qp = unzip_apid(zip_path='apid.zip', keep_human=c.keep_human,\n",
    "                  keep_interspecies=c.keep_interspecies)\n",
    "c.qp"
   ],
   "metadata": {
    "collapsed": false,
    "pycharm": {
     "name": "#%%\n"
    }
   }
  },
  {
   "cell_type": "code",
   "execution_count": 10,
   "outputs": [
    {
     "data": {
      "text/plain": "45026"
     },
     "execution_count": 10,
     "metadata": {},
     "output_type": "execute_result"
    }
   ],
   "source": [
    "uniprot_ids = extract_apid_uniprot_ids(c.qp)\n",
    "len(uniprot_ids)"
   ],
   "metadata": {
    "collapsed": false,
    "pycharm": {
     "name": "#%%\n"
    }
   }
  },
  {
   "cell_type": "code",
   "execution_count": 11,
   "outputs": [
    {
     "data": {
      "text/plain": "161598"
     },
     "execution_count": 11,
     "metadata": {},
     "output_type": "execute_result"
    }
   ],
   "source": [
    "ppis = extract_apid_ppis(c.qp)\n",
    "len(ppis)"
   ],
   "metadata": {
    "collapsed": false,
    "pycharm": {
     "name": "#%%\n"
    }
   }
  },
  {
   "cell_type": "code",
   "execution_count": 12,
   "outputs": [
    {
     "data": {
      "text/plain": "  UniprotID_A UniprotID_B  species\n0      Q28645      Q8SQG9     9986\n1      P00489      Q00756     9986\n2      B6CAM1      P42532     9986\n3      P07293      P13806     9986\n4      P07293      P19517     9986",
      "text/html": "<div>\n<style scoped>\n    .dataframe tbody tr th:only-of-type {\n        vertical-align: middle;\n    }\n\n    .dataframe tbody tr th {\n        vertical-align: top;\n    }\n\n    .dataframe thead th {\n        text-align: right;\n    }\n</style>\n<table border=\"1\" class=\"dataframe\">\n  <thead>\n    <tr style=\"text-align: right;\">\n      <th></th>\n      <th>UniprotID_A</th>\n      <th>UniprotID_B</th>\n      <th>species</th>\n    </tr>\n  </thead>\n  <tbody>\n    <tr>\n      <th>0</th>\n      <td>Q28645</td>\n      <td>Q8SQG9</td>\n      <td>9986</td>\n    </tr>\n    <tr>\n      <th>1</th>\n      <td>P00489</td>\n      <td>Q00756</td>\n      <td>9986</td>\n    </tr>\n    <tr>\n      <th>2</th>\n      <td>B6CAM1</td>\n      <td>P42532</td>\n      <td>9986</td>\n    </tr>\n    <tr>\n      <th>3</th>\n      <td>P07293</td>\n      <td>P13806</td>\n      <td>9986</td>\n    </tr>\n    <tr>\n      <th>4</th>\n      <td>P07293</td>\n      <td>P19517</td>\n      <td>9986</td>\n    </tr>\n  </tbody>\n</table>\n</div>"
     },
     "execution_count": 12,
     "metadata": {},
     "output_type": "execute_result"
    }
   ],
   "source": [
    "ppis.head()"
   ],
   "metadata": {
    "collapsed": false,
    "pycharm": {
     "name": "#%%\n"
    }
   }
  },
  {
   "cell_type": "markdown",
   "source": [
    "#### interspecies interactions\n",
    "Check if there are PPIs (based on UniProt IDs) that occur in several species. We use APID `noISI` data per default, so the exclusion of this data is not implemented."
   ],
   "metadata": {
    "collapsed": false
   }
  },
  {
   "cell_type": "code",
   "execution_count": 13,
   "outputs": [
    {
     "data": {
      "text/plain": "Empty DataFrame\nColumns: [UniprotID_A, UniprotID_B, species]\nIndex: []",
      "text/html": "<div>\n<style scoped>\n    .dataframe tbody tr th:only-of-type {\n        vertical-align: middle;\n    }\n\n    .dataframe tbody tr th {\n        vertical-align: top;\n    }\n\n    .dataframe thead th {\n        text-align: right;\n    }\n</style>\n<table border=\"1\" class=\"dataframe\">\n  <thead>\n    <tr style=\"text-align: right;\">\n      <th></th>\n      <th>UniprotID_A</th>\n      <th>UniprotID_B</th>\n      <th>species</th>\n    </tr>\n  </thead>\n  <tbody>\n  </tbody>\n</table>\n</div>"
     },
     "execution_count": 13,
     "metadata": {},
     "output_type": "execute_result"
    }
   ],
   "source": [
    "find_multi_species_ppis = lambda ppi_df: pd.concat(\n",
    "    [df for i, df in ppi_df.groupby(\n",
    "        ['UniprotID_A', 'UniprotID_B']) if len(df) > 1]\n",
    "    + [ppi_df.loc[ppi_df.species == 'is there a marsupilami?']])\n",
    "\n",
    "find_multi_species_ppis(ppis)"
   ],
   "metadata": {
    "collapsed": false,
    "pycharm": {
     "name": "#%%\n"
    }
   }
  },
  {
   "cell_type": "code",
   "execution_count": 14,
   "outputs": [
    {
     "data": {
      "text/plain": "  UniprotID_A UniprotID_B      species\n1      P00489      Q00756         9986\n1      P00489      Q00756  marsupilami\n0      Q28645      Q8SQG9         9986\n0      Q28645      Q8SQG9  marsupilami",
      "text/html": "<div>\n<style scoped>\n    .dataframe tbody tr th:only-of-type {\n        vertical-align: middle;\n    }\n\n    .dataframe tbody tr th {\n        vertical-align: top;\n    }\n\n    .dataframe thead th {\n        text-align: right;\n    }\n</style>\n<table border=\"1\" class=\"dataframe\">\n  <thead>\n    <tr style=\"text-align: right;\">\n      <th></th>\n      <th>UniprotID_A</th>\n      <th>UniprotID_B</th>\n      <th>species</th>\n    </tr>\n  </thead>\n  <tbody>\n    <tr>\n      <th>1</th>\n      <td>P00489</td>\n      <td>Q00756</td>\n      <td>9986</td>\n    </tr>\n    <tr>\n      <th>1</th>\n      <td>P00489</td>\n      <td>Q00756</td>\n      <td>marsupilami</td>\n    </tr>\n    <tr>\n      <th>0</th>\n      <td>Q28645</td>\n      <td>Q8SQG9</td>\n      <td>9986</td>\n    </tr>\n    <tr>\n      <th>0</th>\n      <td>Q28645</td>\n      <td>Q8SQG9</td>\n      <td>marsupilami</td>\n    </tr>\n  </tbody>\n</table>\n</div>"
     },
     "execution_count": 14,
     "metadata": {},
     "output_type": "execute_result"
    }
   ],
   "source": [
    "# proof that actually worked: add some dummy data\n",
    "for i in [0, 1]:\n",
    "    s = ppis.iloc[i].copy()\n",
    "    s.species = 'marsupilami'\n",
    "    ppis = pd.concat([ppis, pd.DataFrame(s).T], axis=0)\n",
    "\n",
    "marsu = find_multi_species_ppis(ppis)\n",
    "\n",
    "# drop the dummy data\n",
    "ppis = ppis.loc[ppis.species != 'marsupilami']\n",
    "marsu"
   ],
   "metadata": {
    "collapsed": false,
    "pycharm": {
     "name": "#%%\n"
    }
   }
  },
  {
   "cell_type": "markdown",
   "source": [
    "or more generally protein IDs that occur in several species:"
   ],
   "metadata": {
    "collapsed": false
   }
  },
  {
   "cell_type": "code",
   "execution_count": 15,
   "outputs": [
    {
     "data": {
      "text/plain": "Empty DataFrame\nColumns: [UniprotID, species]\nIndex: []",
      "text/html": "<div>\n<style scoped>\n    .dataframe tbody tr th:only-of-type {\n        vertical-align: middle;\n    }\n\n    .dataframe tbody tr th {\n        vertical-align: top;\n    }\n\n    .dataframe thead th {\n        text-align: right;\n    }\n</style>\n<table border=\"1\" class=\"dataframe\">\n  <thead>\n    <tr style=\"text-align: right;\">\n      <th></th>\n      <th>UniprotID</th>\n      <th>species</th>\n    </tr>\n  </thead>\n  <tbody>\n  </tbody>\n</table>\n</div>"
     },
     "execution_count": 15,
     "metadata": {},
     "output_type": "execute_result"
    }
   ],
   "source": [
    "find_multi_species_proteins(ppis)"
   ],
   "metadata": {
    "collapsed": false,
    "pycharm": {
     "name": "#%%\n"
    }
   }
  },
  {
   "cell_type": "markdown",
   "source": [
    "#### species lookup"
   ],
   "metadata": {
    "collapsed": false
   }
  },
  {
   "cell_type": "code",
   "execution_count": 16,
   "outputs": [
    {
     "name": "stderr",
     "output_type": "stream",
     "text": [
      "100%|██████████| 31/31 [00:12<00:00,  2.55it/s]\n"
     ]
    },
    {
     "data": {
      "text/plain": "    species                                               name  \\\n0       632                                    Yersinia pestis   \n1      1392                                 Bacillus anthracis   \n2      3702                               Arabidopsis thaliana   \n3      6239                             Caenorhabditis elegans   \n4      7227                            Drosophila melanogaster   \n5      7955                                        Danio rerio   \n6      8355                                     Xenopus laevis   \n7      9031                                      Gallus gallus   \n8      9913                                         Bos taurus   \n9      9986                              Oryctolagus cuniculus   \n10    10090                                       Mus musculus   \n11    10116                                  Rattus norvegicus   \n12    10299                 Human alphaherpesvirus 1 strain 17   \n13    10377                   Human herpesvirus 4 strain B95-8   \n14    11706                                    HIV-1 M:B_HXB2R   \n15    36329                          Plasmodium falciparum 3D7   \n16    37296                           Human gammaherpesvirus 8   \n17    39947                        Oryza sativa Japonica Group   \n18    83333                              Escherichia coli K-12   \n19    85962                          Helicobacter pylori 26695   \n20   192222  Campylobacter jejuni subsp. jejuni NCTC 11168 ...   \n21   224308         Bacillus subtilis subsp. subtilis str. 168   \n22   237561                            Candida albicans SC5314   \n23   243276    Treponema pallidum subsp. pallidum str. Nichols   \n24   272634                         Mycoplasma pneumoniae M129   \n25   284812                    Schizosaccharomyces pombe 972h-   \n26   333760                       Human papillomavirus type 16   \n27   559292                     Saccharomyces cerevisiae S288C   \n28   868565                    Human herpesvirus 8 strain GK18   \n29  1111708          Synechocystis sp. PCC 6803 substr. Kazusa   \n30  2697049    Severe acute respiratory syndrome coronavirus 2   \n\n    species\b\b\b\b\b\b\bn_ppis  \n0                      6  \n1                      4  \n2                  44723  \n3                  15257  \n4                  35493  \n5                    124  \n6                     49  \n7                     40  \n8                    117  \n9                     10  \n10                  4848  \n11                   880  \n12                    16  \n13                    16  \n14                     3  \n15                  2728  \n16                    47  \n17                   263  \n18                  3084  \n19                  2305  \n20                 11446  \n21                  1388  \n22                    44  \n23                  3545  \n24                     6  \n25                  3816  \n26                     2  \n27                 28175  \n28                     1  \n29                  3148  \n30                    14  ",
      "text/html": "<div>\n<style scoped>\n    .dataframe tbody tr th:only-of-type {\n        vertical-align: middle;\n    }\n\n    .dataframe tbody tr th {\n        vertical-align: top;\n    }\n\n    .dataframe thead th {\n        text-align: right;\n    }\n</style>\n<table border=\"1\" class=\"dataframe\">\n  <thead>\n    <tr style=\"text-align: right;\">\n      <th></th>\n      <th>species</th>\n      <th>name</th>\n      <th>species\b\b\b\b\b\b\bn_ppis</th>\n    </tr>\n  </thead>\n  <tbody>\n    <tr>\n      <th>0</th>\n      <td>632</td>\n      <td>Yersinia pestis</td>\n      <td>6</td>\n    </tr>\n    <tr>\n      <th>1</th>\n      <td>1392</td>\n      <td>Bacillus anthracis</td>\n      <td>4</td>\n    </tr>\n    <tr>\n      <th>2</th>\n      <td>3702</td>\n      <td>Arabidopsis thaliana</td>\n      <td>44723</td>\n    </tr>\n    <tr>\n      <th>3</th>\n      <td>6239</td>\n      <td>Caenorhabditis elegans</td>\n      <td>15257</td>\n    </tr>\n    <tr>\n      <th>4</th>\n      <td>7227</td>\n      <td>Drosophila melanogaster</td>\n      <td>35493</td>\n    </tr>\n    <tr>\n      <th>5</th>\n      <td>7955</td>\n      <td>Danio rerio</td>\n      <td>124</td>\n    </tr>\n    <tr>\n      <th>6</th>\n      <td>8355</td>\n      <td>Xenopus laevis</td>\n      <td>49</td>\n    </tr>\n    <tr>\n      <th>7</th>\n      <td>9031</td>\n      <td>Gallus gallus</td>\n      <td>40</td>\n    </tr>\n    <tr>\n      <th>8</th>\n      <td>9913</td>\n      <td>Bos taurus</td>\n      <td>117</td>\n    </tr>\n    <tr>\n      <th>9</th>\n      <td>9986</td>\n      <td>Oryctolagus cuniculus</td>\n      <td>10</td>\n    </tr>\n    <tr>\n      <th>10</th>\n      <td>10090</td>\n      <td>Mus musculus</td>\n      <td>4848</td>\n    </tr>\n    <tr>\n      <th>11</th>\n      <td>10116</td>\n      <td>Rattus norvegicus</td>\n      <td>880</td>\n    </tr>\n    <tr>\n      <th>12</th>\n      <td>10299</td>\n      <td>Human alphaherpesvirus 1 strain 17</td>\n      <td>16</td>\n    </tr>\n    <tr>\n      <th>13</th>\n      <td>10377</td>\n      <td>Human herpesvirus 4 strain B95-8</td>\n      <td>16</td>\n    </tr>\n    <tr>\n      <th>14</th>\n      <td>11706</td>\n      <td>HIV-1 M:B_HXB2R</td>\n      <td>3</td>\n    </tr>\n    <tr>\n      <th>15</th>\n      <td>36329</td>\n      <td>Plasmodium falciparum 3D7</td>\n      <td>2728</td>\n    </tr>\n    <tr>\n      <th>16</th>\n      <td>37296</td>\n      <td>Human gammaherpesvirus 8</td>\n      <td>47</td>\n    </tr>\n    <tr>\n      <th>17</th>\n      <td>39947</td>\n      <td>Oryza sativa Japonica Group</td>\n      <td>263</td>\n    </tr>\n    <tr>\n      <th>18</th>\n      <td>83333</td>\n      <td>Escherichia coli K-12</td>\n      <td>3084</td>\n    </tr>\n    <tr>\n      <th>19</th>\n      <td>85962</td>\n      <td>Helicobacter pylori 26695</td>\n      <td>2305</td>\n    </tr>\n    <tr>\n      <th>20</th>\n      <td>192222</td>\n      <td>Campylobacter jejuni subsp. jejuni NCTC 11168 ...</td>\n      <td>11446</td>\n    </tr>\n    <tr>\n      <th>21</th>\n      <td>224308</td>\n      <td>Bacillus subtilis subsp. subtilis str. 168</td>\n      <td>1388</td>\n    </tr>\n    <tr>\n      <th>22</th>\n      <td>237561</td>\n      <td>Candida albicans SC5314</td>\n      <td>44</td>\n    </tr>\n    <tr>\n      <th>23</th>\n      <td>243276</td>\n      <td>Treponema pallidum subsp. pallidum str. Nichols</td>\n      <td>3545</td>\n    </tr>\n    <tr>\n      <th>24</th>\n      <td>272634</td>\n      <td>Mycoplasma pneumoniae M129</td>\n      <td>6</td>\n    </tr>\n    <tr>\n      <th>25</th>\n      <td>284812</td>\n      <td>Schizosaccharomyces pombe 972h-</td>\n      <td>3816</td>\n    </tr>\n    <tr>\n      <th>26</th>\n      <td>333760</td>\n      <td>Human papillomavirus type 16</td>\n      <td>2</td>\n    </tr>\n    <tr>\n      <th>27</th>\n      <td>559292</td>\n      <td>Saccharomyces cerevisiae S288C</td>\n      <td>28175</td>\n    </tr>\n    <tr>\n      <th>28</th>\n      <td>868565</td>\n      <td>Human herpesvirus 8 strain GK18</td>\n      <td>1</td>\n    </tr>\n    <tr>\n      <th>29</th>\n      <td>1111708</td>\n      <td>Synechocystis sp. PCC 6803 substr. Kazusa</td>\n      <td>3148</td>\n    </tr>\n    <tr>\n      <th>30</th>\n      <td>2697049</td>\n      <td>Severe acute respiratory syndrome coronavirus 2</td>\n      <td>14</td>\n    </tr>\n  </tbody>\n</table>\n</div>"
     },
     "execution_count": 16,
     "metadata": {},
     "output_type": "execute_result"
    }
   ],
   "source": [
    "# pick a charismatic animal for validation!\n",
    "taxonomy = fetch_taxonomic_info(ppis.species)\n",
    "taxonomy"
   ],
   "metadata": {
    "collapsed": false,
    "pycharm": {
     "name": "#%%\n"
    }
   }
  },
  {
   "cell_type": "markdown",
   "source": [
    "#### download sequences"
   ],
   "metadata": {
    "collapsed": false
   }
  },
  {
   "cell_type": "code",
   "execution_count": null,
   "outputs": [],
   "source": [
    "# skip if re-running this w/o changes above or deleting files\n",
    "_ = uniprot_api_fetch(uniprot_ids, c.ap / 'apid')"
   ],
   "metadata": {
    "collapsed": false,
    "pycharm": {
     "name": "#%%\n"
    }
   }
  },
  {
   "cell_type": "markdown",
   "source": [
    "#### download proteomes"
   ],
   "metadata": {
    "collapsed": false
   }
  },
  {
   "cell_type": "code",
   "execution_count": null,
   "outputs": [],
   "source": [
    "# skip if re-running this w/o changes above or deleting files\n",
    "if c.add_proteomes:\n",
    "    fetch_proteomes(set(taxonomy.species) | {9606}, c.pp)"
   ],
   "metadata": {
    "collapsed": false,
    "pycharm": {
     "name": "#%%\n"
    }
   }
  },
  {
   "cell_type": "markdown",
   "source": [
    "#### map IDs to seq hashes"
   ],
   "metadata": {
    "collapsed": false
   }
  },
  {
   "cell_type": "code",
   "execution_count": 17,
   "outputs": [
    {
     "data": {
      "text/plain": "                 hash_A                hash_B  species\n0  CRC-E9B8AE168CDFB8C5  CRC-F496FAD64156BCED     9986\n1  CRC-1CD9FB8F47890226  CRC-9884F06FDD3AE9D3     9986\n2  CRC-148C462A8653A3E5  CRC-6E3725560658481B     9986\n3  CRC-047B10D1946B0796  CRC-B00DE7F3C877B618     9986\n4  CRC-047B10D1946B0796  CRC-629420640A7457CC     9986",
      "text/html": "<div>\n<style scoped>\n    .dataframe tbody tr th:only-of-type {\n        vertical-align: middle;\n    }\n\n    .dataframe tbody tr th {\n        vertical-align: top;\n    }\n\n    .dataframe thead th {\n        text-align: right;\n    }\n</style>\n<table border=\"1\" class=\"dataframe\">\n  <thead>\n    <tr style=\"text-align: right;\">\n      <th></th>\n      <th>hash_A</th>\n      <th>hash_B</th>\n      <th>species</th>\n    </tr>\n  </thead>\n  <tbody>\n    <tr>\n      <th>0</th>\n      <td>CRC-E9B8AE168CDFB8C5</td>\n      <td>CRC-F496FAD64156BCED</td>\n      <td>9986</td>\n    </tr>\n    <tr>\n      <th>1</th>\n      <td>CRC-1CD9FB8F47890226</td>\n      <td>CRC-9884F06FDD3AE9D3</td>\n      <td>9986</td>\n    </tr>\n    <tr>\n      <th>2</th>\n      <td>CRC-148C462A8653A3E5</td>\n      <td>CRC-6E3725560658481B</td>\n      <td>9986</td>\n    </tr>\n    <tr>\n      <th>3</th>\n      <td>CRC-047B10D1946B0796</td>\n      <td>CRC-B00DE7F3C877B618</td>\n      <td>9986</td>\n    </tr>\n    <tr>\n      <th>4</th>\n      <td>CRC-047B10D1946B0796</td>\n      <td>CRC-629420640A7457CC</td>\n      <td>9986</td>\n    </tr>\n  </tbody>\n</table>\n</div>"
     },
     "execution_count": 17,
     "metadata": {},
     "output_type": "execute_result"
    }
   ],
   "source": [
    "hash_ppis = ppis_to_hashes(ppis, c.ap / 'apid.json').drop_duplicates()\n",
    "hash_ppis.head()"
   ],
   "metadata": {
    "collapsed": false,
    "pycharm": {
     "name": "#%%\n"
    }
   }
  },
  {
   "cell_type": "code",
   "execution_count": 18,
   "outputs": [
    {
     "data": {
      "text/plain": "1030"
     },
     "execution_count": 18,
     "metadata": {},
     "output_type": "execute_result"
    }
   ],
   "source": [
    "len(ppis) - len(hash_ppis)"
   ],
   "metadata": {
    "collapsed": false,
    "pycharm": {
     "name": "#%%\n"
    }
   }
  },
  {
   "cell_type": "code",
   "execution_count": 19,
   "outputs": [
    {
     "data": {
      "text/plain": "44707"
     },
     "execution_count": 19,
     "metadata": {},
     "output_type": "execute_result"
    }
   ],
   "source": [
    "fasta = SeqIO.to_dict(SeqIO.parse(c.ap / 'apid.hash.fasta', 'fasta'))\n",
    "len(fasta)"
   ],
   "metadata": {
    "collapsed": false,
    "pycharm": {
     "name": "#%%\n"
    }
   }
  },
  {
   "cell_type": "markdown",
   "source": [
    "#### filter by seq length"
   ],
   "metadata": {
    "collapsed": false
   }
  },
  {
   "cell_type": "code",
   "execution_count": 20,
   "outputs": [
    {
     "data": {
      "text/plain": "(50, 1500)"
     },
     "execution_count": 20,
     "metadata": {},
     "output_type": "execute_result"
    }
   ],
   "source": [
    "c.min_seq_len, c.max_seq_len"
   ],
   "metadata": {
    "collapsed": false,
    "pycharm": {
     "name": "#%%\n"
    }
   }
  },
  {
   "cell_type": "code",
   "execution_count": 21,
   "outputs": [
    {
     "name": "stdout",
     "output_type": "stream",
     "text": [
      "dropped 9425/160568 PPIs from length filtering\n",
      "dropped 0/42505 table IDs and 0/151143 rows, and 2202/44707 sequence IDs\n"
     ]
    },
    {
     "data": {
      "text/plain": "(44707, 42505)"
     },
     "execution_count": 21,
     "metadata": {},
     "output_type": "execute_result"
    },
    {
     "data": {
      "text/plain": "<Figure size 1600x560 with 3 Axes>",
      "image/png": "[encoded data removed]"
     },
     "metadata": {},
     "output_type": "display_data"
    }
   ],
   "source": [
    "_hash_ppis, _fasta, fig = filter_ppis_and_fasta_by_len(\n",
    "    hash_ppis, fasta, c.min_seq_len, c.max_seq_len)\n",
    "len(fasta), len(_fasta)"
   ],
   "metadata": {
    "collapsed": false,
    "pycharm": {
     "name": "#%%\n"
    }
   }
  },
  {
   "cell_type": "markdown",
   "source": [
    "continue if these limits were ok, or change/set the values for\n",
    "`cfg.min_seq_len, cfg.max_seq_len` and re-run the filtering cell"
   ],
   "metadata": {
    "collapsed": false
   }
  },
  {
   "cell_type": "code",
   "execution_count": 22,
   "outputs": [],
   "source": [
    "hash_ppis = _hash_ppis\n",
    "fasta = _fasta"
   ],
   "metadata": {
    "collapsed": false,
    "pycharm": {
     "name": "#%%\n"
    }
   }
  },
  {
   "cell_type": "code",
   "execution_count": null,
   "outputs": [],
   "source": [
    "# skip if re-running this w/o changes above or deleting files\n",
    "if c.add_proteomes:\n",
    "    filter_proteomes_by_len(c.pp, c.min_seq_len, c.max_seq_len)"
   ],
   "metadata": {
    "collapsed": false,
    "pycharm": {
     "name": "#%%\n"
    }
   }
  },
  {
   "cell_type": "markdown",
   "source": [
    "#### homodimer share\n",
    "Overall count, share, overall PPI count"
   ],
   "metadata": {
    "collapsed": false
   }
  },
  {
   "cell_type": "code",
   "execution_count": 23,
   "outputs": [
    {
     "data": {
      "text/plain": "(False, 4249, 0.0281, 151143)"
     },
     "execution_count": 23,
     "metadata": {},
     "output_type": "execute_result"
    },
    {
     "data": {
      "text/plain": "<Figure size 1600x600 with 1 Axes>",
      "image/png": "[encoded data removed]"
     },
     "metadata": {},
     "output_type": "display_data"
    }
   ],
   "source": [
    "_ = plot_homodimer_share(hash_ppis)\n",
    "c.accept_homodimers, *count_homodimers(hash_ppis),"
   ],
   "metadata": {
    "collapsed": false,
    "pycharm": {
     "name": "#%%\n"
    }
   }
  },
  {
   "cell_type": "code",
   "execution_count": 24,
   "outputs": [
    {
     "name": "stdout",
     "output_type": "stream",
     "text": [
      "dropped 0/42053 table IDs and 0/146894 rows, and 452/42505 sequence IDs\n"
     ]
    },
    {
     "data": {
      "text/plain": "(146894, 42053)"
     },
     "execution_count": 24,
     "metadata": {},
     "output_type": "execute_result"
    }
   ],
   "source": [
    "if not c.accept_homodimers:\n",
    "    hash_ppis = drop_homodimers(hash_ppis)\n",
    "    hash_ppis, fasta = shrink_both_ways(hash_ppis, fasta)\n",
    "len(hash_ppis), len(fasta)"
   ],
   "metadata": {
    "collapsed": false,
    "pycharm": {
     "name": "#%%\n"
    }
   }
  },
  {
   "cell_type": "markdown",
   "source": [
    "## Validation set: APID\n",
    "#### val: select species/proteins\n",
    "Either by sampling a subset of proteins and selecting the PPIs or picking the ones for one or more particular species"
   ],
   "metadata": {
    "collapsed": false
   }
  },
  {
   "cell_type": "code",
   "execution_count": 25,
   "outputs": [
    {
     "data": {
      "text/plain": "(0.1, {7955, 8355, 9031, 9913, 10116, 10377, 37296, 39947})"
     },
     "execution_count": 25,
     "metadata": {},
     "output_type": "execute_result"
    }
   ],
   "source": [
    "c.val_set_size, c.val_species"
   ],
   "metadata": {
    "collapsed": false,
    "pycharm": {
     "name": "#%%\n"
    }
   }
  },
  {
   "cell_type": "code",
   "execution_count": 26,
   "outputs": [
    {
     "data": {
      "text/plain": "(145635, 0.9914291938404564, 1151, 0.00783558212044059)"
     },
     "execution_count": 26,
     "metadata": {},
     "output_type": "execute_result"
    }
   ],
   "source": [
    "hash_ppis['label'] = 1\n",
    "if c.val_species is not None:\n",
    "    train, val = make_validation_species(hash_ppis, c.val_species)\n",
    "else:\n",
    "    # if the set becomes too large, try another seed!\n",
    "    # With this approach, PPIs *will* be lost\n",
    "    train, val = make_validation_split(hash_ppis, c.val_set_size, c.seed)\n",
    "    c.val_species = set(val.species)\n",
    "c.train_species = set(train.species)\n",
    "len(train), len(train) / len(hash_ppis), len(val), len(val) / len(hash_ppis)"
   ],
   "metadata": {
    "collapsed": false,
    "pycharm": {
     "name": "#%%\n"
    }
   }
  },
  {
   "cell_type": "code",
   "execution_count": 27,
   "outputs": [
    {
     "data": {
      "text/plain": "                 hash_A                hash_B  species  minlen  maxlen  label\n0  CRC-62DAFEF75EB3549C  CRC-AA7025623F66321F    39947     602     660      1\n1  CRC-739F14BA1BB5E0EA  CRC-78DB44C421A4C708    39947     249     262      1\n2  CRC-483507B10661DF95  CRC-C233BD8328987CAE    39947     260     499      1\n3  CRC-483507B10661DF95  CRC-F4094830FEF61600    39947     260     264      1\n4  CRC-483507B10661DF95  CRC-617E676075DCE87E    39947     179     260      1",
      "text/html": "<div>\n<style scoped>\n    .dataframe tbody tr th:only-of-type {\n        vertical-align: middle;\n    }\n\n    .dataframe tbody tr th {\n        vertical-align: top;\n    }\n\n    .dataframe thead th {\n        text-align: right;\n    }\n</style>\n<table border=\"1\" class=\"dataframe\">\n  <thead>\n    <tr style=\"text-align: right;\">\n      <th></th>\n      <th>hash_A</th>\n      <th>hash_B</th>\n      <th>species</th>\n      <th>minlen</th>\n      <th>maxlen</th>\n      <th>label</th>\n    </tr>\n  </thead>\n  <tbody>\n    <tr>\n      <th>0</th>\n      <td>CRC-62DAFEF75EB3549C</td>\n      <td>CRC-AA7025623F66321F</td>\n      <td>39947</td>\n      <td>602</td>\n      <td>660</td>\n      <td>1</td>\n    </tr>\n    <tr>\n      <th>1</th>\n      <td>CRC-739F14BA1BB5E0EA</td>\n      <td>CRC-78DB44C421A4C708</td>\n      <td>39947</td>\n      <td>249</td>\n      <td>262</td>\n      <td>1</td>\n    </tr>\n    <tr>\n      <th>2</th>\n      <td>CRC-483507B10661DF95</td>\n      <td>CRC-C233BD8328987CAE</td>\n      <td>39947</td>\n      <td>260</td>\n      <td>499</td>\n      <td>1</td>\n    </tr>\n    <tr>\n      <th>3</th>\n      <td>CRC-483507B10661DF95</td>\n      <td>CRC-F4094830FEF61600</td>\n      <td>39947</td>\n      <td>260</td>\n      <td>264</td>\n      <td>1</td>\n    </tr>\n    <tr>\n      <th>4</th>\n      <td>CRC-483507B10661DF95</td>\n      <td>CRC-617E676075DCE87E</td>\n      <td>39947</td>\n      <td>179</td>\n      <td>260</td>\n      <td>1</td>\n    </tr>\n  </tbody>\n</table>\n</div>"
     },
     "execution_count": 27,
     "metadata": {},
     "output_type": "execute_result"
    }
   ],
   "source": [
    "val.head()"
   ],
   "metadata": {
    "collapsed": false,
    "pycharm": {
     "name": "#%%\n"
    }
   }
  },
  {
   "cell_type": "code",
   "execution_count": 28,
   "outputs": [
    {
     "data": {
      "text/plain": "(array([39947, 10377,  9913, 10116,  8355, 37296,  7955,  9031]),\n array([   9986,   10090,  192222,  243276,    3702,    1392,   85962,\n          36329,  224308,   83333,   10299,     632,  333760,    7227,\n           6239,  559292, 2697049,  284812,  237561, 1111708]))"
     },
     "execution_count": 28,
     "metadata": {},
     "output_type": "execute_result"
    }
   ],
   "source": [
    "val.species.unique(), train.species.unique()"
   ],
   "metadata": {
    "collapsed": false,
    "pycharm": {
     "name": "#%%\n"
    }
   }
  },
  {
   "cell_type": "markdown",
   "source": [
    "Separate the validation set sequences from the ones remaining as train set"
   ],
   "metadata": {
    "collapsed": false
   }
  },
  {
   "cell_type": "markdown",
   "source": [
    "#### train: save seqs + positives\n"
   ],
   "metadata": {
    "collapsed": false
   }
  },
  {
   "cell_type": "code",
   "execution_count": 29,
   "outputs": [
    {
     "name": "stdout",
     "output_type": "stream",
     "text": [
      "dropped 0/40833 table IDs and 0/145635 rows, and 1220/42053 sequence IDs\n"
     ]
    },
    {
     "data": {
      "text/plain": "(40833, 42053)"
     },
     "execution_count": 29,
     "metadata": {},
     "output_type": "execute_result"
    }
   ],
   "source": [
    "_, train_seqs = shrink_both_ways(train.copy(), fasta.copy())\n",
    "c.train_seqs = len(train_seqs)\n",
    "len(train_seqs), len(fasta)"
   ],
   "metadata": {
    "collapsed": false,
    "pycharm": {
     "name": "#%%\n"
    }
   }
  },
  {
   "cell_type": "code",
   "execution_count": 30,
   "outputs": [
    {
     "data": {
      "text/plain": "(PosixPath('apid/apid_train_raw.fasta'), PosixPath('apid/apid_train_raw.tsv'))"
     },
     "execution_count": 30,
     "metadata": {},
     "output_type": "execute_result"
    }
   ],
   "source": [
    "_ = SeqIO.write(values_sorted_by_key(train_seqs), c.train_raw_fasta, 'fasta')\n",
    "train.to_csv(c.train_raw_tsv, sep='\\t', header=True, index=False)\n",
    "c.train_raw_fasta, c.train_raw_tsv"
   ],
   "metadata": {
    "collapsed": false,
    "pycharm": {
     "name": "#%%\n"
    }
   }
  },
  {
   "cell_type": "markdown",
   "source": [
    "#### val: save seqs + positives"
   ],
   "metadata": {
    "collapsed": false
   }
  },
  {
   "cell_type": "code",
   "execution_count": 31,
   "outputs": [
    {
     "name": "stdout",
     "output_type": "stream",
     "text": [
      "dropped 0/1197 table IDs and 0/1151 rows, and 40856/42053 sequence IDs\n"
     ]
    },
    {
     "data": {
      "text/plain": "(1197, 42053)"
     },
     "execution_count": 31,
     "metadata": {},
     "output_type": "execute_result"
    }
   ],
   "source": [
    "_, val_seqs = shrink_both_ways(val.copy(), fasta.copy())\n",
    "len(val_seqs), len(fasta)"
   ],
   "metadata": {
    "collapsed": false,
    "pycharm": {
     "name": "#%%\n"
    }
   }
  },
  {
   "cell_type": "code",
   "execution_count": 32,
   "outputs": [
    {
     "data": {
      "text/plain": "(PosixPath('apid/apid_validation_raw.fasta'),\n PosixPath('apid/apid_validation_raw.tsv'))"
     },
     "execution_count": 32,
     "metadata": {},
     "output_type": "execute_result"
    }
   ],
   "source": [
    "_ = SeqIO.write(values_sorted_by_key(val_seqs), c.val_raw_fasta, 'fasta')\n",
    "val.to_csv(c.val_raw_tsv, sep='\\t', header=True, index=False)\n",
    "c.val_raw_fasta, c.val_raw_tsv"
   ],
   "metadata": {
    "collapsed": false,
    "pycharm": {
     "name": "#%%\n"
    }
   }
  },
  {
   "cell_type": "markdown",
   "source": [
    "Mind that the TSVs will contain only positives! Sample negatives only after most of the `uniqueprot`-shebang."
   ],
   "metadata": {
    "collapsed": false
   }
  },
  {
   "cell_type": "markdown",
   "source": [
    "## Test set: HuRI\n",
    "#### download and extract PPIs"
   ],
   "metadata": {
    "collapsed": false
   }
  },
  {
   "cell_type": "code",
   "execution_count": 33,
   "outputs": [
    {
     "data": {
      "text/plain": "PosixPath('hi_union.psi')"
     },
     "execution_count": 33,
     "metadata": {},
     "output_type": "execute_result"
    }
   ],
   "source": [
    "c.psi_path"
   ],
   "metadata": {
    "collapsed": false,
    "pycharm": {
     "name": "#%%\n"
    }
   }
  },
  {
   "cell_type": "code",
   "execution_count": 34,
   "outputs": [
    {
     "name": "stdout",
     "output_type": "stream",
     "text": [
      "already downloaded and SHA256 checks out\n"
     ]
    },
    {
     "data": {
      "text/plain": "PosixPath('hi_union.psi')"
     },
     "execution_count": 34,
     "metadata": {},
     "output_type": "execute_result"
    }
   ],
   "source": [
    "# it's somehow a lot faster to download this from a browser!\n",
    "# or run !wget \"http://www.interactome-atlas.org/data/HI-union.psi\" -O \"hi_union.psi\"\n",
    "download_y2h_interactome(c.psi_path)"
   ],
   "metadata": {
    "collapsed": false,
    "pycharm": {
     "name": "#%%\n"
    }
   }
  },
  {
   "cell_type": "code",
   "execution_count": 37,
   "outputs": [
    {
     "data": {
      "text/plain": "97888"
     },
     "execution_count": 37,
     "metadata": {},
     "output_type": "execute_result"
    }
   ],
   "source": [
    "huri_ppis, huri_seq_ids = extract_huri_ppis(c.psi_path)\n",
    "len(huri_ppis)"
   ],
   "metadata": {
    "collapsed": false,
    "pycharm": {
     "name": "#%%\n"
    }
   }
  },
  {
   "cell_type": "code",
   "execution_count": 38,
   "outputs": [
    {
     "name": "stdout",
     "output_type": "stream",
     "text": [
      "loading from huri/huri.fasta and huri/huri.json\n"
     ]
    },
    {
     "data": {
      "text/plain": "9119"
     },
     "execution_count": 38,
     "metadata": {},
     "output_type": "execute_result"
    }
   ],
   "source": [
    "huri_seqs, _ = fetch_huri_seqs(huri_seq_ids, c.hp / 'huri')\n",
    "len(huri_seqs)"
   ],
   "metadata": {
    "collapsed": false,
    "pycharm": {
     "name": "#%%\n"
    }
   }
  },
  {
   "cell_type": "markdown",
   "source": [
    "#### map + filter PPIs"
   ],
   "metadata": {
    "collapsed": false
   }
  },
  {
   "cell_type": "code",
   "execution_count": 39,
   "outputs": [
    {
     "name": "stdout",
     "output_type": "stream",
     "text": [
      "{9606}\n"
     ]
    },
    {
     "data": {
      "text/plain": "                 0           1  species\n0           P0DP25  A0A087WXN0     9606\n1         Q68D86-1    Q9HD26-2     9606\n2           Q13515      Q9UJW9     9606\n3           P30049    Q05519-2     9606\n4  ENSP00000462298      P43220     9606",
      "text/html": "<div>\n<style scoped>\n    .dataframe tbody tr th:only-of-type {\n        vertical-align: middle;\n    }\n\n    .dataframe tbody tr th {\n        vertical-align: top;\n    }\n\n    .dataframe thead th {\n        text-align: right;\n    }\n</style>\n<table border=\"1\" class=\"dataframe\">\n  <thead>\n    <tr style=\"text-align: right;\">\n      <th></th>\n      <th>0</th>\n      <th>1</th>\n      <th>species</th>\n    </tr>\n  </thead>\n  <tbody>\n    <tr>\n      <th>0</th>\n      <td>P0DP25</td>\n      <td>A0A087WXN0</td>\n      <td>9606</td>\n    </tr>\n    <tr>\n      <th>1</th>\n      <td>Q68D86-1</td>\n      <td>Q9HD26-2</td>\n      <td>9606</td>\n    </tr>\n    <tr>\n      <th>2</th>\n      <td>Q13515</td>\n      <td>Q9UJW9</td>\n      <td>9606</td>\n    </tr>\n    <tr>\n      <th>3</th>\n      <td>P30049</td>\n      <td>Q05519-2</td>\n      <td>9606</td>\n    </tr>\n    <tr>\n      <th>4</th>\n      <td>ENSP00000462298</td>\n      <td>P43220</td>\n      <td>9606</td>\n    </tr>\n  </tbody>\n</table>\n</div>"
     },
     "execution_count": 39,
     "metadata": {},
     "output_type": "execute_result"
    }
   ],
   "source": [
    "print(set(huri_ppis.species))  # only human, but keep the label\n",
    "huri_ppis.head()"
   ],
   "metadata": {
    "collapsed": false,
    "pycharm": {
     "name": "#%%\n"
    }
   }
  },
  {
   "cell_type": "code",
   "execution_count": 40,
   "outputs": [
    {
     "data": {
      "text/plain": "(97888, 35329, 62559)"
     },
     "execution_count": 40,
     "metadata": {},
     "output_type": "execute_result"
    }
   ],
   "source": [
    "# some 35K protein IDs point to the same sequence\n",
    "huri_hash_ppis = ppis_to_hashes(huri_ppis, c.hp / 'huri.json')\n",
    "len(huri_ppis), len(huri_ppis) - len(huri_hash_ppis), len(huri_hash_ppis)"
   ],
   "metadata": {
    "collapsed": false,
    "pycharm": {
     "name": "#%%\n"
    }
   }
  },
  {
   "cell_type": "code",
   "execution_count": 41,
   "outputs": [
    {
     "data": {
      "text/plain": "61208"
     },
     "execution_count": 41,
     "metadata": {},
     "output_type": "execute_result"
    }
   ],
   "source": [
    "# make sure we don't test on sequences that we trained on; A LOT more checks later\n",
    "huri_hash_ppis = remove_ids_from(huri_hash_ppis, black_list_fasta=c.train_raw_fasta)\n",
    "len(huri_hash_ppis)"
   ],
   "metadata": {
    "collapsed": false,
    "pycharm": {
     "name": "#%%\n"
    }
   }
  },
  {
   "cell_type": "code",
   "execution_count": 42,
   "outputs": [
    {
     "data": {
      "text/plain": "(752, 0.0123, 61208, False)"
     },
     "execution_count": 42,
     "metadata": {},
     "output_type": "execute_result"
    }
   ],
   "source": [
    "*count_homodimers(huri_hash_ppis), c.accept_homodimers"
   ],
   "metadata": {
    "collapsed": false,
    "pycharm": {
     "name": "#%%\n"
    }
   }
  },
  {
   "cell_type": "code",
   "execution_count": 43,
   "outputs": [
    {
     "name": "stdout",
     "output_type": "stream",
     "text": [
      "dropped 0/8953 table IDs and 0/60456 rows, and 166/9119 sequence IDs\n"
     ]
    },
    {
     "data": {
      "text/plain": "(60456, 8953)"
     },
     "execution_count": 43,
     "metadata": {},
     "output_type": "execute_result"
    }
   ],
   "source": [
    "if not c.accept_homodimers:\n",
    "    huri_hash_ppis = drop_homodimers(huri_hash_ppis)\n",
    "    huri_hash_ppis, huri_seqs = shrink_both_ways(huri_hash_ppis, huri_seqs)\n",
    "len(huri_hash_ppis), len(huri_seqs)"
   ],
   "metadata": {
    "collapsed": false,
    "pycharm": {
     "name": "#%%\n"
    }
   }
  },
  {
   "cell_type": "code",
   "execution_count": 44,
   "outputs": [
    {
     "name": "stdout",
     "output_type": "stream",
     "text": [
      "dropped 1205/60456 PPIs from length filtering\n",
      "dropped 0/8773 table IDs and 0/59251 rows, and 180/8953 sequence IDs\n"
     ]
    },
    {
     "data": {
      "text/plain": "(8953, 8773)"
     },
     "execution_count": 44,
     "metadata": {},
     "output_type": "execute_result"
    },
    {
     "data": {
      "text/plain": "<Figure size 1600x560 with 3 Axes>",
      "image/png": "[encoded data removed]"
     },
     "metadata": {},
     "output_type": "display_data"
    }
   ],
   "source": [
    "_huri_hash_ppis, _huri_seqs, fig = filter_ppis_and_fasta_by_len(\n",
    "    huri_hash_ppis, huri_seqs, c.min_seq_len, c.max_seq_len)\n",
    "len(huri_seqs), len(_huri_seqs)"
   ],
   "metadata": {
    "collapsed": false,
    "pycharm": {
     "name": "#%%\n"
    }
   }
  },
  {
   "cell_type": "markdown",
   "source": [
    "#### test: save seqs + positives"
   ],
   "metadata": {
    "collapsed": false
   }
  },
  {
   "cell_type": "code",
   "execution_count": 45,
   "outputs": [],
   "source": [
    "huri_hash_ppis = _huri_hash_ppis\n",
    "huri_seqs = _huri_seqs"
   ],
   "metadata": {
    "collapsed": false,
    "pycharm": {
     "name": "#%%\n"
    }
   }
  },
  {
   "cell_type": "code",
   "execution_count": 46,
   "outputs": [
    {
     "data": {
      "text/plain": "(PosixPath('huri/huri_test_raw.fasta'), PosixPath('huri/huri_test_raw.tsv'))"
     },
     "execution_count": 46,
     "metadata": {},
     "output_type": "execute_result"
    }
   ],
   "source": [
    "_ = SeqIO.write(huri_seqs.values(), c.test_raw_fasta, 'fasta')\n",
    "huri_hash_ppis.to_csv(c.test_raw_tsv, sep='\\t', header=True, index=False)\n",
    "c.test_raw_fasta, c.test_raw_tsv"
   ],
   "metadata": {
    "collapsed": false,
    "pycharm": {
     "name": "#%%\n"
    }
   }
  },
  {
   "cell_type": "markdown",
   "source": [
    "## Test + validation: redundancy-reduce\n",
    "\n",
    "Use [rostclust](https://git.rostlab.org/bernhoferm/mmseqs2-uniqueprot/-/tree/F_typer_app) to create non-redundant `test` and `validation` sets. <br> Don't run the next cells in the wrong order, and don't forget to copy the files back and forth if you are running `rostclust` elsewhere! <br>In particular, copy files after `shrink_files_both_ways`."
   ],
   "metadata": {
    "collapsed": false
   }
  },
  {
   "cell_type": "code",
   "execution_count": 47,
   "outputs": [
    {
     "data": {
      "text/plain": "{'shortAlignmentLen': 50,\n 'longSeqLen': 180,\n 'reduceRandomAlign': False,\n 'clusterThreshold': 20}"
     },
     "execution_count": 47,
     "metadata": {},
     "output_type": "execute_result"
    }
   ],
   "source": [
    "c.hval_config"
   ],
   "metadata": {
    "collapsed": false,
    "pycharm": {
     "name": "#%%\n"
    }
   }
  },
  {
   "cell_type": "markdown",
   "source": [
    "The flag below allows me to test this notebook without the MMseqs2 runs. Leave `remote_rostclust` at `True` and copy the two result files to this folder; or run `rostclust uniqueprot[2D]` now and here."
   ],
   "metadata": {
    "collapsed": false
   }
  },
  {
   "cell_type": "code",
   "execution_count": 53,
   "outputs": [
    {
     "data": {
      "text/plain": "True"
     },
     "execution_count": 53,
     "metadata": {},
     "output_type": "execute_result"
    }
   ],
   "source": [
    "c.remote_rostclust"
   ],
   "metadata": {
    "collapsed": false,
    "pycharm": {
     "name": "#%%\n"
    }
   }
  },
  {
   "cell_type": "code",
   "execution_count": 53,
   "outputs": [],
   "source": [
    "push()"
   ],
   "metadata": {
    "collapsed": false,
    "pycharm": {
     "name": "#%%\n"
    }
   }
  },
  {
   "cell_type": "code",
   "execution_count": null,
   "outputs": [],
   "source": [
    "# redundancy-reduce the test set\n",
    "run_uniqueprot(c.test_raw_fasta, c.test_rr_fasta, c.hval_config, pretend=c.remote_rostclust)"
   ],
   "metadata": {
    "collapsed": false,
    "pycharm": {
     "name": "#%%\n"
    }
   }
  },
  {
   "cell_type": "code",
   "execution_count": null,
   "outputs": [],
   "source": [
    "# and validation\n",
    "run_uniqueprot(c.val_raw_fasta, c.val_rr_fasta, c.hval_config, pretend=c.remote_rostclust)"
   ],
   "metadata": {
    "collapsed": false,
    "pycharm": {
     "name": "#%%\n"
    }
   }
  },
  {
   "cell_type": "code",
   "execution_count": 57,
   "outputs": [],
   "source": [
    "pull()"
   ],
   "metadata": {
    "collapsed": false,
    "pycharm": {
     "name": "#%%\n"
    }
   }
  },
  {
   "cell_type": "code",
   "execution_count": 62,
   "outputs": [],
   "source": [
    "fastalen = lambda _file: len([r.id for r in SeqIO.parse(_file, 'fasta')])"
   ],
   "metadata": {
    "collapsed": false,
    "pycharm": {
     "name": "#%%\n"
    }
   }
  },
  {
   "cell_type": "code",
   "execution_count": 59,
   "outputs": [
    {
     "name": "stdout",
     "output_type": "stream",
     "text": [
      "dropped 2864/8773 table IDs and 36101/59251 rows, and 771/5909 sequence IDs\n",
      "dropped 364/1197 table IDs and 634/1151 rows, and 191/833 sequence IDs\n"
     ]
    }
   ],
   "source": [
    "# also drop PPIs accordingly\n",
    "assert c.test_rr_fasta.is_file()\n",
    "shrink_files_both_ways(c.test_raw_tsv, c.test_rr_fasta,\n",
    "                       new_tsv_name=c.test_rr_tsv,\n",
    "                       new_fasta_name=c.test_fasta)\n",
    "c.test_seqs = fastalen(c.test_fasta)\n",
    "assert c.val_rr_fasta.is_file()\n",
    "shrink_files_both_ways(c.val_raw_tsv, c.val_rr_fasta,\n",
    "                       new_tsv_name=c.val_rr_tsv,\n",
    "                       new_fasta_name=c.val_fasta)\n",
    "c.val_seqs = fastalen(c.val_fasta)"
   ],
   "metadata": {
    "collapsed": false,
    "pycharm": {
     "name": "#%%\n"
    }
   }
  },
  {
   "cell_type": "code",
   "execution_count": 60,
   "outputs": [],
   "source": [
    "push()"
   ],
   "metadata": {
    "collapsed": false,
    "pycharm": {
     "name": "#%%\n"
    }
   }
  },
  {
   "cell_type": "markdown",
   "source": [
    "## Prepare proteomes"
   ],
   "metadata": {
    "collapsed": false
   }
  },
  {
   "cell_type": "code",
   "execution_count": 63,
   "outputs": [],
   "source": [
    "if not c.add_proteomes:\n",
    "    raise NotImplementedError('Please manually skip ahead!')"
   ],
   "metadata": {
    "collapsed": false,
    "pycharm": {
     "name": "#%%\n"
    }
   }
  },
  {
   "cell_type": "markdown",
   "source": [
    "#### run separately: faster\n",
    "Separately clustering the proteomes against the test/validation set and then redundancy-reducing each one is faster and might lead to a more balanced combined proteome set that is better fit to sample from than merging all proteomes first and then running the two steps on huge files."
   ],
   "metadata": {
    "collapsed": false
   }
  },
  {
   "cell_type": "markdown",
   "source": [
    "#### train: cluster against val\n",
    "Mind that `train_species` and `val_species` may overlap! We deal with that later."
   ],
   "metadata": {
    "collapsed": false
   }
  },
  {
   "cell_type": "code",
   "execution_count": null,
   "outputs": [],
   "source": [
    "rr_pattern_proteomes(c.train_species,\n",
    "                     proteome_dir=c.pp, pattern='{sp}.fasta', prefix='val',\n",
    "                     ref_fasta=c.val_fasta,\n",
    "                     hval_config=hval_config, pretend=c.remote_rostclust)"
   ],
   "metadata": {
    "collapsed": false,
    "pycharm": {
     "name": "#%%\n"
    }
   }
  },
  {
   "cell_type": "markdown",
   "source": [
    "#### train: cluster against test"
   ],
   "metadata": {
    "collapsed": false
   }
  },
  {
   "cell_type": "code",
   "execution_count": null,
   "outputs": [],
   "source": [
    "rr_pattern_proteomes(c.train_species,\n",
    "                     proteome_dir=c.pp, pattern='{sp}_nr_val.fasta',\n",
    "                     prefix='valtest', ref_fasta=c.test_fasta,\n",
    "                     hval_config=hval_config, pretend=c.remote_rostclust)"
   ],
   "metadata": {
    "collapsed": false,
    "pycharm": {
     "name": "#%%\n"
    }
   }
  },
  {
   "cell_type": "code",
   "execution_count": null,
   "outputs": [],
   "source": [
    "pull()"
   ],
   "metadata": {
    "collapsed": false,
    "pycharm": {
     "name": "#%%\n"
    }
   }
  },
  {
   "cell_type": "markdown",
   "source": [
    "These `_nr_valtest.fasta` proteomes are now ready to be used as negatives for the train set!"
   ],
   "metadata": {
    "collapsed": false
   }
  },
  {
   "cell_type": "markdown",
   "source": [
    "#### val: cluster against val"
   ],
   "metadata": {
    "collapsed": false
   }
  },
  {
   "cell_type": "code",
   "execution_count": null,
   "outputs": [],
   "source": [
    "rr_pattern_proteomes(c.val_species, c.pp, '{sp}.fasta', 'val',\n",
    "                     ref_fasta=c.val_fasta,\n",
    "                     hval_config=hval_config, pretend=c.remote_rostclust)"
   ],
   "metadata": {
    "collapsed": false,
    "pycharm": {
     "name": "#%%\n"
    }
   }
  },
  {
   "cell_type": "markdown",
   "source": [
    "#### val: redundancy-reduce"
   ],
   "metadata": {
    "collapsed": false
   }
  },
  {
   "cell_type": "code",
   "execution_count": null,
   "outputs": [],
   "source": [
    "rr_pattern_proteomes(c.val_species, c.pp, '{sp}_nr_val.fasta', 'val',\n",
    "                     hval_config=hval_config, pretend=c.remote_rostclust)"
   ],
   "metadata": {
    "collapsed": false,
    "pycharm": {
     "name": "#%%\n"
    }
   }
  },
  {
   "cell_type": "markdown",
   "source": [
    "#### val: merge"
   ],
   "metadata": {
    "collapsed": false
   }
  },
  {
   "cell_type": "code",
   "execution_count": null,
   "outputs": [],
   "source": [
    "pull()"
   ],
   "metadata": {
    "collapsed": false,
    "pycharm": {
     "name": "#%%\n"
    }
   }
  },
  {
   "cell_type": "code",
   "execution_count": 70,
   "outputs": [],
   "source": [
    "val_concat = c.pp / 'val_proteome_concat.fasta'\n",
    "merge_pattern_proteomes(c.val_species, val_concat, c.pp, '{sp}_rr_val.fasta')"
   ],
   "metadata": {
    "collapsed": false,
    "pycharm": {
     "name": "#%%\n"
    }
   }
  },
  {
   "cell_type": "code",
   "execution_count": null,
   "outputs": [],
   "source": [
    "push()"
   ],
   "metadata": {
    "collapsed": false,
    "pycharm": {
     "name": "#%%\n"
    }
   }
  },
  {
   "cell_type": "markdown",
   "source": [
    "#### val: redundancy-reduce merged set"
   ],
   "metadata": {
    "collapsed": false
   }
  },
  {
   "cell_type": "code",
   "execution_count": 71,
   "outputs": [
    {
     "data": {
      "text/plain": "'rostclust uniqueprot --hval-config-path hval_config.json swissprot/val_proteome_concat.fasta swissprot/val_proteome_concat_rr.fasta'"
     },
     "execution_count": 71,
     "metadata": {},
     "output_type": "execute_result"
    }
   ],
   "source": [
    "val_concat_rr = val_concat.with_stem(val_concat.stem + '_rr')\n",
    "run_uniqueprot(val_concat, val_concat_rr, hval_config, c.remote_rostclust)"
   ],
   "metadata": {
    "collapsed": false,
    "pycharm": {
     "name": "#%%\n"
    }
   }
  },
  {
   "cell_type": "markdown",
   "source": [
    "#### test: cluster against test"
   ],
   "metadata": {
    "collapsed": false
   }
  },
  {
   "cell_type": "code",
   "execution_count": null,
   "outputs": [],
   "source": [
    "run_uniqueprot2D(c.pp / '9606.fasta', c.test_fasta, c.pp / '9606_nr_test.fasta',\n",
    "                 hval_config=hval_config, pretend=c.remote_rostclust)"
   ],
   "metadata": {
    "collapsed": false,
    "pycharm": {
     "name": "#%%\n"
    }
   }
  },
  {
   "cell_type": "markdown",
   "source": [
    "#### test: redundancy-reduce"
   ],
   "metadata": {
    "collapsed": false
   }
  },
  {
   "cell_type": "code",
   "execution_count": null,
   "outputs": [],
   "source": [
    "run_uniqueprot(c.pp / '9606_nr_test.fasta', c.pp / '9606_rr_test.fasta',\n",
    "               hval_config=hval_config, pretend=c.remote_rostclust)"
   ],
   "metadata": {
    "collapsed": false,
    "pycharm": {
     "name": "#%%\n"
    }
   }
  },
  {
   "cell_type": "markdown",
   "source": [
    "The `proteomes/9606_rr_test.fasta` can be used as test set negatives directly; as this is a single-species set there is no combined set that needs redundancy reduction."
   ],
   "metadata": {
    "collapsed": false
   }
  },
  {
   "cell_type": "markdown",
   "source": [
    "#### collate train/val/test proteomes\n",
    "Create per-species dicts of potential negative interaction partners. Doing this once to save some `pull` calls."
   ],
   "metadata": {
    "collapsed": false
   }
  },
  {
   "cell_type": "code",
   "execution_count": null,
   "outputs": [],
   "source": [
    "pull()"
   ],
   "metadata": {
    "collapsed": false,
    "pycharm": {
     "name": "#%%\n"
    }
   }
  },
  {
   "cell_type": "code",
   "execution_count": 86,
   "outputs": [
    {
     "name": "stderr",
     "output_type": "stream",
     "text": [
      "100%|██████████| 20/20 [00:33<00:00,  1.69s/it, batch=2.7e+6] \n"
     ]
    }
   ],
   "source": [
    "train_proteome = read_hash_proteomes(c.train_species, c.pp, '{sp}_nr_valtest.fasta')\n",
    "with c.train_proteome.open('w') as json_file:\n",
    "    json.dump(train_proteome, json_file, indent=2)"
   ],
   "metadata": {
    "collapsed": false,
    "pycharm": {
     "name": "#%%\n"
    }
   }
  },
  {
   "cell_type": "code",
   "execution_count": 74,
   "outputs": [
    {
     "name": "stderr",
     "output_type": "stream",
     "text": [
      "44912it [00:06, 7252.66it/s] \n"
     ]
    }
   ],
   "source": [
    "val_proteome = parse_val_proteome(val_concat_rr)\n",
    "with c.val_proteome.open('w') as json_file:\n",
    "    json.dump(val_proteome, json_file, indent=2)"
   ],
   "metadata": {
    "collapsed": false,
    "pycharm": {
     "name": "#%%\n"
    }
   }
  },
  {
   "cell_type": "code",
   "execution_count": 75,
   "outputs": [
    {
     "name": "stderr",
     "output_type": "stream",
     "text": [
      "100%|██████████| 1/1 [00:01<00:00,  1.63s/it, batch=9606]\n"
     ]
    }
   ],
   "source": [
    "test_proteome = read_hash_proteomes({9606}, c.pp, '{sp}_rr_test.fasta')\n",
    "with c.test_proteome.open('w') as json_file:\n",
    "    json.dump(test_proteome, json_file, indent=2)"
   ],
   "metadata": {
    "collapsed": false,
    "pycharm": {
     "name": "#%%\n"
    }
   }
  },
  {
   "cell_type": "code",
   "execution_count": 77,
   "outputs": [],
   "source": [
    "push()"
   ],
   "metadata": {
    "collapsed": false,
    "pycharm": {
     "name": "#%%\n"
    }
   }
  },
  {
   "cell_type": "markdown",
   "source": [
    "## Generate negatives\n",
    "Negatives are sampled *per species*. Mind that the test set is human-only!\n",
    "Re-write with proteomes, but without C123 labels."
   ],
   "metadata": {
    "collapsed": false
   }
  },
  {
   "cell_type": "markdown",
   "source": [
    "#### APID train: generate negatives"
   ],
   "metadata": {
    "collapsed": false
   }
  },
  {
   "cell_type": "code",
   "execution_count": 48,
   "outputs": [],
   "source": [
    "# sanity check if there are any proteins in test that\n",
    "# were already in train. re: \"do not add back in identical ones\"\n",
    "assert not ({r.id for r in SeqIO.parse(c.train_raw_fasta, 'fasta')} & {\n",
    "    r.id for r in SeqIO.parse(c.test_fasta, 'fasta')})"
   ],
   "metadata": {
    "collapsed": false,
    "pycharm": {
     "name": "#%%\n"
    }
   }
  },
  {
   "cell_type": "code",
   "execution_count": 49,
   "outputs": [
    {
     "data": {
      "text/plain": "(10.0, 42, <SamplingStrategy.BALANCED: 1>)"
     },
     "execution_count": 49,
     "metadata": {},
     "output_type": "execute_result"
    }
   ],
   "source": [
    "c.ratio, c.seed, c.strategy"
   ],
   "metadata": {
    "collapsed": false,
    "pycharm": {
     "name": "#%%\n"
    }
   }
  },
  {
   "cell_type": "code",
   "execution_count": 50,
   "outputs": [],
   "source": [
    "train_proteome = {int(k): v for k, v in json.load(c.train_proteome.open('r')).items()}"
   ],
   "metadata": {
    "collapsed": false,
    "pycharm": {
     "name": "#%%\n"
    }
   }
  },
  {
   "cell_type": "code",
   "execution_count": 51,
   "outputs": [
    {
     "data": {
      "text/plain": "                    hash_A                hash_B  species  minlen  maxlen  \\\n0     CRC-E9B8AE168CDFB8C5  CRC-F496FAD64156BCED     9986     316     551   \n1     CRC-1CD9FB8F47890226  CRC-9884F06FDD3AE9D3     9986     843    1109   \n7     CRC-5BE12DBB6C90FFCF  CRC-81FED9E732A0F902     9986     160     182   \n0     CRC-97F4A4FE4B248DDF  CRC-99C22E64412B6236    10090     217     579   \n1     CRC-D5C9B7275C34BCE0  CRC-F6B25929100CC1D9    10090     216     437   \n...                    ...                   ...      ...     ...     ...   \n3143  CRC-7D2801E515DB444B  CRC-B0AF566AA258F13E  1111708     345     492   \n3144  CRC-4D10C738AF2F32B1  CRC-B0AF566AA258F13E  1111708     345     583   \n3145  CRC-75F8E28EB5EA9515  CRC-B0AF566AA258F13E  1111708     345     473   \n3146  CRC-67BBA62136E36D63  CRC-B0AF566AA258F13E  1111708     345     898   \n3147  CRC-1A749046371EF73A  CRC-B0AF566AA258F13E  1111708     345     759   \n\n      label  \n0         1  \n1         1  \n7         1  \n0         1  \n1         1  \n...     ...  \n3143      1  \n3144      1  \n3145      1  \n3146      1  \n3147      1  \n\n[145635 rows x 6 columns]",
      "text/html": "<div>\n<style scoped>\n    .dataframe tbody tr th:only-of-type {\n        vertical-align: middle;\n    }\n\n    .dataframe tbody tr th {\n        vertical-align: top;\n    }\n\n    .dataframe thead th {\n        text-align: right;\n    }\n</style>\n<table border=\"1\" class=\"dataframe\">\n  <thead>\n    <tr style=\"text-align: right;\">\n      <th></th>\n      <th>hash_A</th>\n      <th>hash_B</th>\n      <th>species</th>\n      <th>minlen</th>\n      <th>maxlen</th>\n      <th>label</th>\n    </tr>\n  </thead>\n  <tbody>\n    <tr>\n      <th>0</th>\n      <td>CRC-E9B8AE168CDFB8C5</td>\n      <td>CRC-F496FAD64156BCED</td>\n      <td>9986</td>\n      <td>316</td>\n      <td>551</td>\n      <td>1</td>\n    </tr>\n    <tr>\n      <th>1</th>\n      <td>CRC-1CD9FB8F47890226</td>\n      <td>CRC-9884F06FDD3AE9D3</td>\n      <td>9986</td>\n      <td>843</td>\n      <td>1109</td>\n      <td>1</td>\n    </tr>\n    <tr>\n      <th>7</th>\n      <td>CRC-5BE12DBB6C90FFCF</td>\n      <td>CRC-81FED9E732A0F902</td>\n      <td>9986</td>\n      <td>160</td>\n      <td>182</td>\n      <td>1</td>\n    </tr>\n    <tr>\n      <th>0</th>\n      <td>CRC-97F4A4FE4B248DDF</td>\n      <td>CRC-99C22E64412B6236</td>\n      <td>10090</td>\n      <td>217</td>\n      <td>579</td>\n      <td>1</td>\n    </tr>\n    <tr>\n      <th>1</th>\n      <td>CRC-D5C9B7275C34BCE0</td>\n      <td>CRC-F6B25929100CC1D9</td>\n      <td>10090</td>\n      <td>216</td>\n      <td>437</td>\n      <td>1</td>\n    </tr>\n    <tr>\n      <th>...</th>\n      <td>...</td>\n      <td>...</td>\n      <td>...</td>\n      <td>...</td>\n      <td>...</td>\n      <td>...</td>\n    </tr>\n    <tr>\n      <th>3143</th>\n      <td>CRC-7D2801E515DB444B</td>\n      <td>CRC-B0AF566AA258F13E</td>\n      <td>1111708</td>\n      <td>345</td>\n      <td>492</td>\n      <td>1</td>\n    </tr>\n    <tr>\n      <th>3144</th>\n      <td>CRC-4D10C738AF2F32B1</td>\n      <td>CRC-B0AF566AA258F13E</td>\n      <td>1111708</td>\n      <td>345</td>\n      <td>583</td>\n      <td>1</td>\n    </tr>\n    <tr>\n      <th>3145</th>\n      <td>CRC-75F8E28EB5EA9515</td>\n      <td>CRC-B0AF566AA258F13E</td>\n      <td>1111708</td>\n      <td>345</td>\n      <td>473</td>\n      <td>1</td>\n    </tr>\n    <tr>\n      <th>3146</th>\n      <td>CRC-67BBA62136E36D63</td>\n      <td>CRC-B0AF566AA258F13E</td>\n      <td>1111708</td>\n      <td>345</td>\n      <td>898</td>\n      <td>1</td>\n    </tr>\n    <tr>\n      <th>3147</th>\n      <td>CRC-1A749046371EF73A</td>\n      <td>CRC-B0AF566AA258F13E</td>\n      <td>1111708</td>\n      <td>345</td>\n      <td>759</td>\n      <td>1</td>\n    </tr>\n  </tbody>\n</table>\n<p>145635 rows × 6 columns</p>\n</div>"
     },
     "execution_count": 51,
     "metadata": {},
     "output_type": "execute_result"
    }
   ],
   "source": [
    "train"
   ],
   "metadata": {
    "collapsed": false,
    "pycharm": {
     "name": "#%%\n"
    }
   }
  },
  {
   "cell_type": "code",
   "execution_count": 52,
   "outputs": [
    {
     "data": {
      "text/plain": "3702       42794\n7227       31832\n559292     25498\n6239       13694\n192222     10863\n10090       4186\n284812      3302\n243276      3294\n1111708     2944\n83333       2707\n85962       2068\n224308      1247\n36329       1156\n237561        26\n10299         10\n632            5\n2697049        3\n9986           3\n1392           2\n333760         1\nName: species, dtype: int64"
     },
     "execution_count": 52,
     "metadata": {},
     "output_type": "execute_result"
    }
   ],
   "source": [
    "train.species.value_counts()"
   ],
   "metadata": {
    "collapsed": false,
    "pycharm": {
     "name": "#%%\n"
    }
   }
  },
  {
   "cell_type": "code",
   "execution_count": 53,
   "outputs": [],
   "source": [
    "importlib.reload(api)\n",
    "importlib.reload(extract)\n",
    "importlib.reload(general)\n",
    "importlib.reload(pairs)\n",
    "importlib.reload(plot)\n",
    "importlib.reload(reduce)\n",
    "importlib.reload(proteome)\n",
    "\n",
    "from data.utils.api import *\n",
    "from data.utils.extract import *\n",
    "from data.utils.general import *\n",
    "from data.utils.pairs import *\n",
    "from data.utils.plot import *\n",
    "from data.utils.reduce import *\n",
    "from data.utils.proteome import *"
   ],
   "metadata": {
    "collapsed": false,
    "pycharm": {
     "name": "#%%\n"
    }
   }
  },
  {
   "cell_type": "code",
   "execution_count": 54,
   "outputs": [
    {
     "name": "stdout",
     "output_type": "stream",
     "text": [
      "237561: 26 positives, aim for 260 negatives\n"
     ]
    },
    {
     "name": "stderr",
     "output_type": "stream",
     "text": [
      "237561: 550it [00:00, 6228.11it/s]             \n"
     ]
    },
    {
     "name": "stdout",
     "output_type": "stream",
     "text": [
      "245/260 in-network negatives\n",
      "need 19 extra proteines; select 19 from 5164 available SwissProt proteins. Try to create 29 interactions, ideally 10.0 per protein.\n",
      "got 274 negatives with bias 0.997\n"
     ]
    },
    {
     "data": {
      "text/plain": "<Figure size 600x400 with 1 Axes>",
      "image/png": "[encoded data removed]"
     },
     "metadata": {},
     "output_type": "display_data"
    }
   ],
   "source": [
    "with mpl.rc_context({'figure.dpi': 100}):\n",
    "    train_ppis, train_negs, train_bias, _ = make_train_negatives(\n",
    "        train.loc[train.species == 237561].copy(),\n",
    "        strategy=c.strategy, ratio=c.ratio, seed=c.seed,\n",
    "        accept_homodimers=c.accept_homodimers, proteome=train_proteome)"
   ],
   "metadata": {
    "collapsed": false,
    "pycharm": {
     "name": "#%%\n"
    }
   }
  },
  {
   "cell_type": "code",
   "execution_count": 55,
   "outputs": [
    {
     "data": {
      "text/plain": "                  hash_A                hash_B  label\n0   CRC-063BD314C9755686  CRC-3F7DA56CCBAABA1F      0\n1   CRC-063BD314C9755686  CRC-51C7E74B0AD30AAB      0\n2   CRC-063BD314C9755686  CRC-55DAF24C27F4CA0A      0\n3   CRC-063BD314C9755686  CRC-5EDFBB9B834E3478      0\n4   CRC-063BD314C9755686  CRC-6C1209F89BD7A8F5      0\n..                   ...                   ...    ...\n24  CRC-8256A2F177F761A0  CRC-1E86DAF57EDC7292      0\n25  CRC-8256A2F177F761A0  CRC-81518A20CFBB7463      0\n26  CRC-8256A2F177F761A0  CRC-3D6E67538522ADCF      0\n27  CRC-8256A2F177F761A0  CRC-4F4B23405ED56BED      0\n28  CRC-230A832F5FF95210  CRC-81518A20CFBB7463      0\n\n[274 rows x 3 columns]",
      "text/html": "<div>\n<style scoped>\n    .dataframe tbody tr th:only-of-type {\n        vertical-align: middle;\n    }\n\n    .dataframe tbody tr th {\n        vertical-align: top;\n    }\n\n    .dataframe thead th {\n        text-align: right;\n    }\n</style>\n<table border=\"1\" class=\"dataframe\">\n  <thead>\n    <tr style=\"text-align: right;\">\n      <th></th>\n      <th>hash_A</th>\n      <th>hash_B</th>\n      <th>label</th>\n    </tr>\n  </thead>\n  <tbody>\n    <tr>\n      <th>0</th>\n      <td>CRC-063BD314C9755686</td>\n      <td>CRC-3F7DA56CCBAABA1F</td>\n      <td>0</td>\n    </tr>\n    <tr>\n      <th>1</th>\n      <td>CRC-063BD314C9755686</td>\n      <td>CRC-51C7E74B0AD30AAB</td>\n      <td>0</td>\n    </tr>\n    <tr>\n      <th>2</th>\n      <td>CRC-063BD314C9755686</td>\n      <td>CRC-55DAF24C27F4CA0A</td>\n      <td>0</td>\n    </tr>\n    <tr>\n      <th>3</th>\n      <td>CRC-063BD314C9755686</td>\n      <td>CRC-5EDFBB9B834E3478</td>\n      <td>0</td>\n    </tr>\n    <tr>\n      <th>4</th>\n      <td>CRC-063BD314C9755686</td>\n      <td>CRC-6C1209F89BD7A8F5</td>\n      <td>0</td>\n    </tr>\n    <tr>\n      <th>...</th>\n      <td>...</td>\n      <td>...</td>\n      <td>...</td>\n    </tr>\n    <tr>\n      <th>24</th>\n      <td>CRC-8256A2F177F761A0</td>\n      <td>CRC-1E86DAF57EDC7292</td>\n      <td>0</td>\n    </tr>\n    <tr>\n      <th>25</th>\n      <td>CRC-8256A2F177F761A0</td>\n      <td>CRC-81518A20CFBB7463</td>\n      <td>0</td>\n    </tr>\n    <tr>\n      <th>26</th>\n      <td>CRC-8256A2F177F761A0</td>\n      <td>CRC-3D6E67538522ADCF</td>\n      <td>0</td>\n    </tr>\n    <tr>\n      <th>27</th>\n      <td>CRC-8256A2F177F761A0</td>\n      <td>CRC-4F4B23405ED56BED</td>\n      <td>0</td>\n    </tr>\n    <tr>\n      <th>28</th>\n      <td>CRC-230A832F5FF95210</td>\n      <td>CRC-81518A20CFBB7463</td>\n      <td>0</td>\n    </tr>\n  </tbody>\n</table>\n<p>274 rows × 3 columns</p>\n</div>"
     },
     "execution_count": 55,
     "metadata": {},
     "output_type": "execute_result"
    }
   ],
   "source": [
    "train_negs"
   ],
   "metadata": {
    "collapsed": false,
    "pycharm": {
     "name": "#%%\n"
    }
   }
  },
  {
   "cell_type": "code",
   "execution_count": null,
   "outputs": [],
   "source": [],
   "metadata": {
    "collapsed": false,
    "pycharm": {
     "name": "#%%\n"
    }
   }
  },
  {
   "cell_type": "code",
   "execution_count": 573,
   "outputs": [],
   "source": [
    "sp = 237561\n",
    "\n",
    "true_ppis = train.loc[train.species == sp].copy()\n",
    "strategy = SamplingStrategy.BALANCED\n",
    "ratio = 10.0\n",
    "seed = c.seed\n",
    "sus_ppis = None\n",
    "accept_homodimers = True  # c.accept_homodimers\n",
    "sp_proteome = {sp: train_proteome[sp].copy()}"
   ],
   "metadata": {
    "collapsed": false,
    "pycharm": {
     "name": "#%%\n"
    }
   }
  },
  {
   "cell_type": "code",
   "execution_count": 574,
   "outputs": [
    {
     "data": {
      "text/plain": "26"
     },
     "execution_count": 574,
     "metadata": {},
     "output_type": "execute_result"
    }
   ],
   "source": [
    "# map protein IDs to their sorting index\n",
    "uniq_true = {_id: idx for idx, _id in enumerate(\n",
    "    np.unique(true_ppis.iloc[:, [0, 1]]))}\n",
    "uniq_neg = {idx: _id for _id, idx in uniq_true.items()}\n",
    "indexize = np.vectorize(uniq_true.get)\n",
    "unindex = np.vectorize(uniq_neg.get)\n",
    "idx_ppis = indexize(true_ppis.iloc[:, [0, 1]])\n",
    "\n",
    "if sus_ppis is not None:\n",
    "    idx_ppis = np.vstack((idx_ppis, indexize(sus_ppis.iloc[:, [0, 1]])))\n",
    "\n",
    "# np.unique returns sorted values, so this works out\n",
    "proteins, counts = np.unique(true_ppis.iloc[:, [0, 1]], return_counts=True)\n",
    "n = len(proteins)\n",
    "vertices = np.array(range(n))\n",
    "indices = np.array(range(n + 1))\n",
    "len(idx_ppis)"
   ],
   "metadata": {
    "collapsed": false,
    "pycharm": {
     "name": "#%%\n"
    }
   }
  },
  {
   "cell_type": "code",
   "execution_count": 575,
   "outputs": [
    {
     "data": {
      "text/plain": "520"
     },
     "execution_count": 575,
     "metadata": {},
     "output_type": "execute_result"
    }
   ],
   "source": [
    "sp = true_ppis.species[0]\n",
    "\n",
    "rng = np.random.default_rng(seed=seed)\n",
    "\n",
    "wants = np.floor(counts * ratio).astype(int)\n",
    "if strategy.value != 1:\n",
    "    wants = np.full_like(wants, np.floor(sum(counts) * ratio / n)).astype(int)\n",
    "\n",
    "# make sure that wants is an integer vector and its sum as close to the target as possible\n",
    "idcs = list(rng.choice(vertices, size=n, replace=True, p=counts / sum(counts)))\n",
    "while np.round(sum(counts) * ratio) > sum(wants):\n",
    "    idx = idcs.pop(0)\n",
    "    wants[idx] += 1\n",
    "\n",
    "wants = np.append(wants, 0)\n",
    "limit = sum(wants)\n",
    "limit"
   ],
   "metadata": {
    "collapsed": false,
    "pycharm": {
     "name": "#%%\n"
    }
   }
  },
  {
   "cell_type": "code",
   "execution_count": 576,
   "outputs": [],
   "source": [
    "# initialize the matrix\n",
    "mat = np.zeros((n + 1, n + 1), dtype=int)\n",
    "if not accept_homodimers:\n",
    "    np.fill_diagonal(mat, 1)\n",
    "    mat[-1, -1] = 0\n",
    "mat[idx_ppis[:, 0], idx_ppis[:, 1]] = 1\n",
    "mat[idx_ppis[:, 1], idx_ppis[:, 0]] = 1"
   ],
   "metadata": {
    "collapsed": false,
    "pycharm": {
     "name": "#%%\n"
    }
   }
  },
  {
   "cell_type": "code",
   "execution_count": 577,
   "outputs": [
    {
     "name": "stderr",
     "output_type": "stream",
     "text": [
      "237561: 548it [00:00, 8162.04it/s]             \n"
     ]
    }
   ],
   "source": [
    "with tqdm(total=limit, position=0, desc=str(sp)) as pbar:\n",
    "    while np.sum(wants[:n]):\n",
    "        x = rng.choice(vertices, size=1, replace=True, p=wants[:n] / sum(wants[:n]))[0]\n",
    "        wants[x] -= 1\n",
    "        wants[-1] = max(0, 2 * wants[x] - (mat[x, :n] == 0) @ wants[:n])\n",
    "        p_proteome = np.append((mat[x, :n] == 0) * wants[:n], wants[n])\n",
    "        if not np.sum(p_proteome):\n",
    "            p_proteome[-1] = 1\n",
    "        y = rng.choice(indices, size=1, p=p_proteome / sum(p_proteome))[0]\n",
    "        mat[y, x] -= 1  # tolerant against y=n\n",
    "        if x != y:\n",
    "            mat[x, y] -= 1\n",
    "        wants[y] -= 1  # y=n will ignore this\n",
    "        pbar.update(2)"
   ],
   "metadata": {
    "collapsed": false,
    "pycharm": {
     "name": "#%%\n"
    }
   }
  },
  {
   "cell_type": "code",
   "execution_count": 578,
   "outputs": [
    {
     "data": {
      "text/plain": "-18"
     },
     "execution_count": 578,
     "metadata": {},
     "output_type": "execute_result"
    }
   ],
   "source": [
    "np.min(mat)"
   ],
   "metadata": {
    "collapsed": false,
    "pycharm": {
     "name": "#%%\n"
    }
   }
  },
  {
   "cell_type": "code",
   "execution_count": 579,
   "outputs": [
    {
     "data": {
      "text/plain": "<Figure size 384x256 with 1 Axes>",
      "image/png": "[encoded data removed]"
     },
     "metadata": {},
     "output_type": "display_data"
    }
   ],
   "source": [
    "with mpl.rc_context({'figure.dpi': 64}):\n",
    "    fig, ax = plt.subplots()\n",
    "    cmap = mpl.colors.ListedColormap(-(np.min(mat) + 1) * ['#6B0E30']\n",
    "                                     + ['#D81B60', '#FFFFFF', '#1E88E5'])\n",
    "    heat = sns.heatmap(mat,  # annot=True, linewidth=.2,\n",
    "                       ax=ax, cmap=cmap, cbar=False)\n",
    "    ax.set(box_aspect=1, xticks=[], yticks=[])"
   ],
   "metadata": {
    "collapsed": false,
    "pycharm": {
     "name": "#%%\n"
    }
   }
  },
  {
   "cell_type": "code",
   "execution_count": 580,
   "outputs": [
    {
     "data": {
      "text/plain": "(41, 41)"
     },
     "execution_count": 580,
     "metadata": {},
     "output_type": "execute_result"
    }
   ],
   "source": [
    "mat.shape"
   ],
   "metadata": {
    "collapsed": false,
    "pycharm": {
     "name": "#%%\n"
    }
   }
  },
  {
   "cell_type": "code",
   "execution_count": 581,
   "outputs": [
    {
     "data": {
      "text/plain": "                        0                     1\n0    CRC-063BD314C9755686  CRC-230A832F5FF95210\n1    CRC-063BD314C9755686  CRC-4A824993A13ECBF9\n2    CRC-063BD314C9755686  CRC-51C7E74B0AD30AAB\n3    CRC-063BD314C9755686  CRC-5EDFBB9B834E3478\n4    CRC-063BD314C9755686  CRC-68E22227601A1060\n..                    ...                   ...\n241  CRC-D5281A9D3D2FB08C  CRC-EC070EC9E6501B52\n242  CRC-D70EE099BE07C734  CRC-DFCAEB7AF84BD281\n243  CRC-D70EE099BE07C734  CRC-EC070EC9E6501B52\n244  CRC-E8C3527C172C69E9  CRC-FE6EAED0B3EACB97\n245  CRC-FE6EAED0B3EACB97  CRC-FE6EAED0B3EACB97\n\n[246 rows x 2 columns]",
      "text/html": "<div>\n<style scoped>\n    .dataframe tbody tr th:only-of-type {\n        vertical-align: middle;\n    }\n\n    .dataframe tbody tr th {\n        vertical-align: top;\n    }\n\n    .dataframe thead th {\n        text-align: right;\n    }\n</style>\n<table border=\"1\" class=\"dataframe\">\n  <thead>\n    <tr style=\"text-align: right;\">\n      <th></th>\n      <th>0</th>\n      <th>1</th>\n    </tr>\n  </thead>\n  <tbody>\n    <tr>\n      <th>0</th>\n      <td>CRC-063BD314C9755686</td>\n      <td>CRC-230A832F5FF95210</td>\n    </tr>\n    <tr>\n      <th>1</th>\n      <td>CRC-063BD314C9755686</td>\n      <td>CRC-4A824993A13ECBF9</td>\n    </tr>\n    <tr>\n      <th>2</th>\n      <td>CRC-063BD314C9755686</td>\n      <td>CRC-51C7E74B0AD30AAB</td>\n    </tr>\n    <tr>\n      <th>3</th>\n      <td>CRC-063BD314C9755686</td>\n      <td>CRC-5EDFBB9B834E3478</td>\n    </tr>\n    <tr>\n      <th>4</th>\n      <td>CRC-063BD314C9755686</td>\n      <td>CRC-68E22227601A1060</td>\n    </tr>\n    <tr>\n      <th>...</th>\n      <td>...</td>\n      <td>...</td>\n    </tr>\n    <tr>\n      <th>241</th>\n      <td>CRC-D5281A9D3D2FB08C</td>\n      <td>CRC-EC070EC9E6501B52</td>\n    </tr>\n    <tr>\n      <th>242</th>\n      <td>CRC-D70EE099BE07C734</td>\n      <td>CRC-DFCAEB7AF84BD281</td>\n    </tr>\n    <tr>\n      <th>243</th>\n      <td>CRC-D70EE099BE07C734</td>\n      <td>CRC-EC070EC9E6501B52</td>\n    </tr>\n    <tr>\n      <th>244</th>\n      <td>CRC-E8C3527C172C69E9</td>\n      <td>CRC-FE6EAED0B3EACB97</td>\n    </tr>\n    <tr>\n      <th>245</th>\n      <td>CRC-FE6EAED0B3EACB97</td>\n      <td>CRC-FE6EAED0B3EACB97</td>\n    </tr>\n  </tbody>\n</table>\n<p>246 rows × 2 columns</p>\n</div>"
     },
     "execution_count": 581,
     "metadata": {},
     "output_type": "execute_result"
    }
   ],
   "source": [
    "negs = np.vstack(np.nonzero(np.triu(mat, k=0) < 0)).T\n",
    "negs = negs[(negs[:, 0] < n) & (negs[:, 1] < n)]  # filter out the last col\n",
    "negatives = pd.DataFrame(unindex(negs))\n",
    "negatives"
   ],
   "metadata": {
    "collapsed": false,
    "pycharm": {
     "name": "#%%\n"
    }
   }
  },
  {
   "cell_type": "code",
   "execution_count": 536,
   "outputs": [
    {
     "data": {
      "text/plain": "array([[16,  5],\n       [19,  1]])"
     },
     "execution_count": 536,
     "metadata": {},
     "output_type": "execute_result"
    }
   ],
   "source": [
    "elem, idcs, _ = np.unique(mat[:, n], return_counts=True, return_index=True)\n",
    "extra = np.vstack((idcs, -elem)).T\n",
    "extra = extra[extra[:, 1] > 0]\n",
    "extra"
   ],
   "metadata": {
    "collapsed": false,
    "pycharm": {
     "name": "#%%\n"
    }
   }
  },
  {
   "cell_type": "code",
   "execution_count": 537,
   "outputs": [
    {
     "data": {
      "text/plain": "(237561,\n 5,\n 5,\n 5164,\n 6,\n 7,\n 1,\n array([[16,  5],\n        [19,  1]]))"
     },
     "execution_count": 537,
     "metadata": {},
     "output_type": "execute_result"
    }
   ],
   "source": [
    "min_extra = np.max(extra[:, 1])\n",
    "extra_interactions = np.sum(extra[:, 1])\n",
    "avg_extra = np.ceil(extra_interactions / ratio).astype(int)\n",
    "available = len(sp_proteome[sp])\n",
    "n_extra = min(available, max(min_extra, avg_extra))\n",
    "sp, min_extra, n_extra, available, extra_interactions, ratio, avg_extra, extra"
   ],
   "metadata": {
    "collapsed": false,
    "pycharm": {
     "name": "#%%\n"
    }
   }
  },
  {
   "cell_type": "code",
   "execution_count": 538,
   "outputs": [
    {
     "data": {
      "text/plain": "['CRC-0380AE0B287D5A50',\n 'CRC-33D150DD0728A8BF',\n 'CRC-ED1A9DEF584D1EE9',\n 'CRC-19F128C4B36401A7',\n 'CRC-E01ADA817515B2FD']"
     },
     "execution_count": 538,
     "metadata": {},
     "output_type": "execute_result"
    }
   ],
   "source": [
    "extra_proteins = list(rng.choice(list(sp_proteome[sp].keys()), size=n_extra, replace=False))\n",
    "extra_proteins"
   ],
   "metadata": {
    "collapsed": false,
    "pycharm": {
     "name": "#%%\n"
    }
   }
  },
  {
   "cell_type": "code",
   "execution_count": 539,
   "outputs": [
    {
     "data": {
      "text/plain": "                      0                     1\n0  CRC-777B4535B22EA81F  CRC-0380AE0B287D5A50\n1  CRC-777B4535B22EA81F  CRC-19F128C4B36401A7\n2  CRC-777B4535B22EA81F  CRC-E01ADA817515B2FD\n3  CRC-777B4535B22EA81F  CRC-33D150DD0728A8BF\n4  CRC-777B4535B22EA81F  CRC-ED1A9DEF584D1EE9\n5  CRC-8256A2F177F761A0  CRC-E01ADA817515B2FD",
      "text/html": "<div>\n<style scoped>\n    .dataframe tbody tr th:only-of-type {\n        vertical-align: middle;\n    }\n\n    .dataframe tbody tr th {\n        vertical-align: top;\n    }\n\n    .dataframe thead th {\n        text-align: right;\n    }\n</style>\n<table border=\"1\" class=\"dataframe\">\n  <thead>\n    <tr style=\"text-align: right;\">\n      <th></th>\n      <th>0</th>\n      <th>1</th>\n    </tr>\n  </thead>\n  <tbody>\n    <tr>\n      <th>0</th>\n      <td>CRC-777B4535B22EA81F</td>\n      <td>CRC-0380AE0B287D5A50</td>\n    </tr>\n    <tr>\n      <th>1</th>\n      <td>CRC-777B4535B22EA81F</td>\n      <td>CRC-19F128C4B36401A7</td>\n    </tr>\n    <tr>\n      <th>2</th>\n      <td>CRC-777B4535B22EA81F</td>\n      <td>CRC-E01ADA817515B2FD</td>\n    </tr>\n    <tr>\n      <th>3</th>\n      <td>CRC-777B4535B22EA81F</td>\n      <td>CRC-33D150DD0728A8BF</td>\n    </tr>\n    <tr>\n      <th>4</th>\n      <td>CRC-777B4535B22EA81F</td>\n      <td>CRC-ED1A9DEF584D1EE9</td>\n    </tr>\n    <tr>\n      <th>5</th>\n      <td>CRC-8256A2F177F761A0</td>\n      <td>CRC-E01ADA817515B2FD</td>\n    </tr>\n  </tbody>\n</table>\n</div>"
     },
     "execution_count": 539,
     "metadata": {},
     "output_type": "execute_result"
    }
   ],
   "source": [
    "extra_pairs = list()\n",
    "for p_idx, n_partners in extra:\n",
    "    p = uniq_neg[p_idx]\n",
    "    partners = rng.choice(extra_proteins, size=min(n_partners, len(extra_proteins)), replace=False)\n",
    "    extra_pairs.extend([(p, partner) for partner in partners])\n",
    "extras = pd.DataFrame(extra_pairs)\n",
    "extras"
   ],
   "metadata": {
    "collapsed": false,
    "pycharm": {
     "name": "#%%\n"
    }
   }
  },
  {
   "cell_type": "code",
   "execution_count": 540,
   "outputs": [
    {
     "data": {
      "text/plain": "{'CRC-0380AE0B287D5A50',\n 'CRC-19F128C4B36401A7',\n 'CRC-33D150DD0728A8BF',\n 'CRC-E01ADA817515B2FD',\n 'CRC-ED1A9DEF584D1EE9'}"
     },
     "execution_count": 540,
     "metadata": {},
     "output_type": "execute_result"
    }
   ],
   "source": [
    "extra_crcs = set(extras.iloc[:, 1])\n",
    "extra_crcs"
   ],
   "metadata": {
    "collapsed": false,
    "pycharm": {
     "name": "#%%\n"
    }
   }
  },
  {
   "cell_type": "code",
   "execution_count": 541,
   "outputs": [
    {
     "data": {
      "text/plain": "                       0                     1\n0   CRC-063BD314C9755686  CRC-4A824993A13ECBF9\n1   CRC-063BD314C9755686  CRC-5EDFBB9B834E3478\n2   CRC-063BD314C9755686  CRC-68E22227601A1060\n3   CRC-063BD314C9755686  CRC-777B4535B22EA81F\n4   CRC-063BD314C9755686  CRC-7A9CF033CDEF170A\n..                   ...                   ...\n1   CRC-777B4535B22EA81F  CRC-19F128C4B36401A7\n2   CRC-777B4535B22EA81F  CRC-E01ADA817515B2FD\n3   CRC-777B4535B22EA81F  CRC-33D150DD0728A8BF\n4   CRC-777B4535B22EA81F  CRC-ED1A9DEF584D1EE9\n5   CRC-8256A2F177F761A0  CRC-E01ADA817515B2FD\n\n[185 rows x 2 columns]",
      "text/html": "<div>\n<style scoped>\n    .dataframe tbody tr th:only-of-type {\n        vertical-align: middle;\n    }\n\n    .dataframe tbody tr th {\n        vertical-align: top;\n    }\n\n    .dataframe thead th {\n        text-align: right;\n    }\n</style>\n<table border=\"1\" class=\"dataframe\">\n  <thead>\n    <tr style=\"text-align: right;\">\n      <th></th>\n      <th>0</th>\n      <th>1</th>\n    </tr>\n  </thead>\n  <tbody>\n    <tr>\n      <th>0</th>\n      <td>CRC-063BD314C9755686</td>\n      <td>CRC-4A824993A13ECBF9</td>\n    </tr>\n    <tr>\n      <th>1</th>\n      <td>CRC-063BD314C9755686</td>\n      <td>CRC-5EDFBB9B834E3478</td>\n    </tr>\n    <tr>\n      <th>2</th>\n      <td>CRC-063BD314C9755686</td>\n      <td>CRC-68E22227601A1060</td>\n    </tr>\n    <tr>\n      <th>3</th>\n      <td>CRC-063BD314C9755686</td>\n      <td>CRC-777B4535B22EA81F</td>\n    </tr>\n    <tr>\n      <th>4</th>\n      <td>CRC-063BD314C9755686</td>\n      <td>CRC-7A9CF033CDEF170A</td>\n    </tr>\n    <tr>\n      <th>...</th>\n      <td>...</td>\n      <td>...</td>\n    </tr>\n    <tr>\n      <th>1</th>\n      <td>CRC-777B4535B22EA81F</td>\n      <td>CRC-19F128C4B36401A7</td>\n    </tr>\n    <tr>\n      <th>2</th>\n      <td>CRC-777B4535B22EA81F</td>\n      <td>CRC-E01ADA817515B2FD</td>\n    </tr>\n    <tr>\n      <th>3</th>\n      <td>CRC-777B4535B22EA81F</td>\n      <td>CRC-33D150DD0728A8BF</td>\n    </tr>\n    <tr>\n      <th>4</th>\n      <td>CRC-777B4535B22EA81F</td>\n      <td>CRC-ED1A9DEF584D1EE9</td>\n    </tr>\n    <tr>\n      <th>5</th>\n      <td>CRC-8256A2F177F761A0</td>\n      <td>CRC-E01ADA817515B2FD</td>\n    </tr>\n  </tbody>\n</table>\n<p>185 rows × 2 columns</p>\n</div>"
     },
     "execution_count": 541,
     "metadata": {},
     "output_type": "execute_result"
    }
   ],
   "source": [
    "negatives = pd.concat((negatives, extras))\n",
    "negatives"
   ],
   "metadata": {
    "collapsed": false,
    "pycharm": {
     "name": "#%%\n"
    }
   }
  },
  {
   "cell_type": "code",
   "execution_count": null,
   "outputs": [],
   "source": [],
   "metadata": {
    "collapsed": false,
    "pycharm": {
     "name": "#%%\n"
    }
   }
  },
  {
   "cell_type": "code",
   "execution_count": null,
   "outputs": [],
   "source": [],
   "metadata": {
    "collapsed": false,
    "pycharm": {
     "name": "#%%\n"
    }
   }
  },
  {
   "cell_type": "code",
   "execution_count": null,
   "outputs": [],
   "source": [],
   "metadata": {
    "collapsed": false,
    "pycharm": {
     "name": "#%%\n"
    }
   }
  },
  {
   "cell_type": "code",
   "execution_count": 86,
   "outputs": [],
   "source": [
    "while np.sum(wants[:n]):\n",
    "    break"
   ],
   "metadata": {
    "collapsed": false,
    "pycharm": {
     "name": "#%%\n"
    }
   }
  },
  {
   "cell_type": "code",
   "execution_count": 77,
   "outputs": [
    {
     "data": {
      "text/plain": "4"
     },
     "execution_count": 77,
     "metadata": {},
     "output_type": "execute_result"
    }
   ],
   "source": [
    "x = rng.choice(vertices, size=1, replace=True, p=wants[:n] / sum(wants[:n]))[0]\n",
    "x"
   ],
   "metadata": {
    "collapsed": false,
    "pycharm": {
     "name": "#%%\n"
    }
   }
  },
  {
   "cell_type": "code",
   "execution_count": 78,
   "outputs": [
    {
     "data": {
      "text/plain": "(4, array([3, 3, 3, 3, 2, 3, 6, 3, 3, 0]))"
     },
     "execution_count": 78,
     "metadata": {},
     "output_type": "execute_result"
    }
   ],
   "source": [
    "wants[x] -= 1\n",
    "wants[-1] = max(0, 2 * wants[x] - (mat[x, :n] == 0) @ wants[:n])\n",
    "x, wants"
   ],
   "metadata": {
    "collapsed": false,
    "pycharm": {
     "name": "#%%\n"
    }
   }
  },
  {
   "cell_type": "code",
   "execution_count": 84,
   "outputs": [
    {
     "data": {
      "text/plain": "(4, array([3, 3, 3, 3, 0, 3, 0, 3, 3, 0]))"
     },
     "execution_count": 84,
     "metadata": {},
     "output_type": "execute_result"
    }
   ],
   "source": [
    "p_proteome = np.append((mat[x, :n] == 0) * wants[:n], wants[n])\n",
    "x, p_proteome"
   ],
   "metadata": {
    "collapsed": false,
    "pycharm": {
     "name": "#%%\n"
    }
   }
  },
  {
   "cell_type": "code",
   "execution_count": 85,
   "outputs": [
    {
     "data": {
      "text/plain": "2"
     },
     "execution_count": 85,
     "metadata": {},
     "output_type": "execute_result"
    }
   ],
   "source": [
    "if not np.sum(p_proteome):\n",
    "    p_proteome[-1] = 1\n",
    "y = rng.choice(indices, size=1, p=p_proteome / sum(p_proteome))[0]\n",
    "y"
   ],
   "metadata": {
    "collapsed": false,
    "pycharm": {
     "name": "#%%\n"
    }
   }
  },
  {
   "cell_type": "code",
   "execution_count": null,
   "outputs": [],
   "source": [],
   "metadata": {
    "collapsed": false,
    "pycharm": {
     "name": "#%%\n"
    }
   }
  },
  {
   "cell_type": "code",
   "execution_count": null,
   "outputs": [],
   "source": [],
   "metadata": {
    "collapsed": false,
    "pycharm": {
     "name": "#%%\n"
    }
   }
  },
  {
   "cell_type": "code",
   "execution_count": null,
   "outputs": [],
   "source": [],
   "metadata": {
    "collapsed": false,
    "pycharm": {
     "name": "#%%\n"
    }
   }
  },
  {
   "cell_type": "code",
   "execution_count": null,
   "outputs": [],
   "source": [],
   "metadata": {
    "collapsed": false,
    "pycharm": {
     "name": "#%%\n"
    }
   }
  },
  {
   "cell_type": "code",
   "execution_count": null,
   "outputs": [],
   "source": [],
   "metadata": {
    "collapsed": false,
    "pycharm": {
     "name": "#%%\n"
    }
   }
  },
  {
   "cell_type": "code",
   "execution_count": null,
   "outputs": [],
   "source": [],
   "metadata": {
    "collapsed": false,
    "pycharm": {
     "name": "#%%\n"
    }
   }
  },
  {
   "cell_type": "code",
   "execution_count": null,
   "outputs": [],
   "source": [
    "train_ppis, train_negs, train_bias, _ = make_train_negatives(\n",
    "    train, strategy=c.strategy, ratio=c.ratio, seed=c.seed,\n",
    "    accept_homodimers=c.accept_homodimers, proteome=train_proteome)"
   ],
   "metadata": {
    "collapsed": false,
    "pycharm": {
     "name": "#%%\n"
    }
   }
  },
  {
   "cell_type": "code",
   "execution_count": null,
   "outputs": [],
   "source": [
    "train_bias"
   ],
   "metadata": {
    "collapsed": false,
    "pycharm": {
     "name": "#%%\n"
    }
   }
  },
  {
   "cell_type": "code",
   "execution_count": 83,
   "outputs": [
    {
     "data": {
      "text/plain": "                    hash_A                hash_B  species  minlen  maxlen  \\\n0     CRC-022360ED7772EB60  CRC-511C305E5DE86727     7227     425     760   \n1     CRC-089B43434CA818C3  CRC-C645CF3B10C6701A     7227     248    1464   \n2     CRC-089B43434CA818C3  CRC-2C1562208547DA9C     7227     262    1464   \n3     CRC-089B43434CA818C3  CRC-3C69AD351E36B7DC     7227     679    1464   \n4     CRC-87F4DBB26CFE4E42  CRC-BD49C813DDB2A77D     7227     445     805   \n...                    ...                   ...      ...     ...     ...   \n2704  CRC-A28833BCAF4F9D04  CRC-F16DC0BE1E8862C6    36329     874    1426   \n2710  CRC-78CF3EE38425D91A  CRC-B57B45443196D52F    36329     262    1140   \n2712  CRC-3DE86F4BCC20BAD6  CRC-F5D0C31C3816B0D9    36329     483     743   \n2723  CRC-78CF3EE38425D91A  CRC-85237FF035B94039    36329     262     435   \n2727  CRC-9B81CEBB3D51FEC5  CRC-9CE0B7C29FEFEFC6    36329     116     304   \n\n      label  \n0         1  \n1         1  \n2         1  \n3         1  \n4         1  \n...     ...  \n2704      1  \n2710      1  \n2712      1  \n2723      1  \n2727      1  \n\n[145635 rows x 6 columns]",
      "text/html": "<div>\n<style scoped>\n    .dataframe tbody tr th:only-of-type {\n        vertical-align: middle;\n    }\n\n    .dataframe tbody tr th {\n        vertical-align: top;\n    }\n\n    .dataframe thead th {\n        text-align: right;\n    }\n</style>\n<table border=\"1\" class=\"dataframe\">\n  <thead>\n    <tr style=\"text-align: right;\">\n      <th></th>\n      <th>hash_A</th>\n      <th>hash_B</th>\n      <th>species</th>\n      <th>minlen</th>\n      <th>maxlen</th>\n      <th>label</th>\n    </tr>\n  </thead>\n  <tbody>\n    <tr>\n      <th>0</th>\n      <td>CRC-022360ED7772EB60</td>\n      <td>CRC-511C305E5DE86727</td>\n      <td>7227</td>\n      <td>425</td>\n      <td>760</td>\n      <td>1</td>\n    </tr>\n    <tr>\n      <th>1</th>\n      <td>CRC-089B43434CA818C3</td>\n      <td>CRC-C645CF3B10C6701A</td>\n      <td>7227</td>\n      <td>248</td>\n      <td>1464</td>\n      <td>1</td>\n    </tr>\n    <tr>\n      <th>2</th>\n      <td>CRC-089B43434CA818C3</td>\n      <td>CRC-2C1562208547DA9C</td>\n      <td>7227</td>\n      <td>262</td>\n      <td>1464</td>\n      <td>1</td>\n    </tr>\n    <tr>\n      <th>3</th>\n      <td>CRC-089B43434CA818C3</td>\n      <td>CRC-3C69AD351E36B7DC</td>\n      <td>7227</td>\n      <td>679</td>\n      <td>1464</td>\n      <td>1</td>\n    </tr>\n    <tr>\n      <th>4</th>\n      <td>CRC-87F4DBB26CFE4E42</td>\n      <td>CRC-BD49C813DDB2A77D</td>\n      <td>7227</td>\n      <td>445</td>\n      <td>805</td>\n      <td>1</td>\n    </tr>\n    <tr>\n      <th>...</th>\n      <td>...</td>\n      <td>...</td>\n      <td>...</td>\n      <td>...</td>\n      <td>...</td>\n      <td>...</td>\n    </tr>\n    <tr>\n      <th>2704</th>\n      <td>CRC-A28833BCAF4F9D04</td>\n      <td>CRC-F16DC0BE1E8862C6</td>\n      <td>36329</td>\n      <td>874</td>\n      <td>1426</td>\n      <td>1</td>\n    </tr>\n    <tr>\n      <th>2710</th>\n      <td>CRC-78CF3EE38425D91A</td>\n      <td>CRC-B57B45443196D52F</td>\n      <td>36329</td>\n      <td>262</td>\n      <td>1140</td>\n      <td>1</td>\n    </tr>\n    <tr>\n      <th>2712</th>\n      <td>CRC-3DE86F4BCC20BAD6</td>\n      <td>CRC-F5D0C31C3816B0D9</td>\n      <td>36329</td>\n      <td>483</td>\n      <td>743</td>\n      <td>1</td>\n    </tr>\n    <tr>\n      <th>2723</th>\n      <td>CRC-78CF3EE38425D91A</td>\n      <td>CRC-85237FF035B94039</td>\n      <td>36329</td>\n      <td>262</td>\n      <td>435</td>\n      <td>1</td>\n    </tr>\n    <tr>\n      <th>2727</th>\n      <td>CRC-9B81CEBB3D51FEC5</td>\n      <td>CRC-9CE0B7C29FEFEFC6</td>\n      <td>36329</td>\n      <td>116</td>\n      <td>304</td>\n      <td>1</td>\n    </tr>\n  </tbody>\n</table>\n<p>145635 rows × 6 columns</p>\n</div>"
     },
     "execution_count": 83,
     "metadata": {},
     "output_type": "execute_result"
    }
   ],
   "source": [
    "train"
   ],
   "metadata": {
    "collapsed": false,
    "pycharm": {
     "name": "#%%\n"
    }
   }
  },
  {
   "cell_type": "code",
   "execution_count": null,
   "outputs": [],
   "source": [],
   "metadata": {
    "collapsed": false,
    "pycharm": {
     "name": "#%%\n"
    }
   }
  },
  {
   "cell_type": "code",
   "execution_count": null,
   "outputs": [],
   "source": [],
   "metadata": {
    "collapsed": false,
    "pycharm": {
     "name": "#%%\n"
    }
   }
  },
  {
   "cell_type": "code",
   "execution_count": null,
   "outputs": [],
   "source": [
    "for p in [c.val_rr_tsv, c.val_c3_fasta, c.val_fasta]:\n",
    "    assert p.is_file(), f'missing {p}'"
   ],
   "metadata": {
    "collapsed": false,
    "pycharm": {
     "name": "#%%\n"
    }
   }
  },
  {
   "cell_type": "code",
   "execution_count": null,
   "outputs": [],
   "source": [
    "val_ppis, val_negatives, val_bias = make_test_negatives(\n",
    "    c.val_rr_tsv, c.val_c3_fasta, c.val_fasta, c.strategy,\n",
    "    c.ratio, c.seed, c.accept_homodimers, c.test_proteome)\n",
    "c.val_bias = str(val_bias) if type(val_bias) == np.float64 else val_bias.to_json()\n",
    "val_negatives.head()"
   ],
   "metadata": {
    "collapsed": false,
    "pycharm": {
     "name": "#%%\n"
    }
   }
  },
  {
   "cell_type": "code",
   "execution_count": null,
   "outputs": [],
   "source": [
    "val_ppis.head()"
   ],
   "metadata": {
    "collapsed": false,
    "pycharm": {
     "name": "#%%\n"
    }
   }
  },
  {
   "cell_type": "code",
   "execution_count": null,
   "outputs": [],
   "source": [],
   "metadata": {
    "collapsed": false,
    "pycharm": {
     "name": "#%%\n"
    }
   }
  },
  {
   "cell_type": "code",
   "execution_count": null,
   "outputs": [],
   "source": [],
   "metadata": {
    "collapsed": false,
    "pycharm": {
     "name": "#%%\n"
    }
   }
  },
  {
   "cell_type": "code",
   "execution_count": null,
   "outputs": [],
   "source": [],
   "metadata": {
    "collapsed": false,
    "pycharm": {
     "name": "#%%\n"
    }
   }
  },
  {
   "cell_type": "markdown",
   "source": [
    "## Test + validation: get C123 classes\n",
    "\n",
    "#### cluster against train\n",
    "First, cluster the `HuRI` test set against the `APID` train set to get **C1-3** labels for the final test PPIs. Then, cluster the `APID` validation set against the `APID` train set, which gives us **C1-3** labels for the validation set."
   ],
   "metadata": {
    "collapsed": false
   }
  },
  {
   "cell_type": "code",
   "execution_count": null,
   "outputs": [],
   "source": [
    "push()"
   ],
   "metadata": {
    "collapsed": false,
    "pycharm": {
     "name": "#%%\n"
    }
   }
  },
  {
   "cell_type": "code",
   "execution_count": null,
   "outputs": [],
   "source": [
    "run_uniqueprot2D(c.test_fasta, c.train_raw_fasta, c.test_c3_fasta,\n",
    "                 hval_config=c.hval_config, pretend=c.remote_rostclust)"
   ],
   "metadata": {
    "collapsed": false,
    "pycharm": {
     "name": "#%%\n"
    }
   }
  },
  {
   "cell_type": "code",
   "execution_count": null,
   "outputs": [],
   "source": [
    "run_uniqueprot2D(c.val_fasta, c.train_raw_fasta, c.val_c3_fasta,\n",
    "                 hval_config=c.hval_config, pretend=c.remote_rostclust)"
   ],
   "metadata": {
    "collapsed": false,
    "pycharm": {
     "name": "#%%\n"
    }
   }
  },
  {
   "cell_type": "code",
   "execution_count": null,
   "outputs": [],
   "source": [
    "pull()"
   ],
   "metadata": {
    "collapsed": false,
    "pycharm": {
     "name": "#%%\n"
    }
   }
  },
  {
   "cell_type": "code",
   "execution_count": null,
   "outputs": [],
   "source": [
    "assert c.test_c3_fasta.is_file()\n",
    "assert c.val_c3_fasta.is_file()"
   ],
   "metadata": {
    "collapsed": false,
    "pycharm": {
     "name": "#%%\n"
    }
   }
  },
  {
   "cell_type": "markdown",
   "source": [
    "#### generate class labels"
   ],
   "metadata": {
    "collapsed": false
   }
  },
  {
   "cell_type": "code",
   "execution_count": null,
   "outputs": [],
   "source": [],
   "metadata": {
    "collapsed": false,
    "pycharm": {
     "name": "#%%\n"
    }
   }
  },
  {
   "cell_type": "code",
   "execution_count": null,
   "outputs": [],
   "source": [],
   "metadata": {
    "collapsed": false,
    "pycharm": {
     "name": "#%%\n"
    }
   }
  },
  {
   "cell_type": "code",
   "execution_count": 160,
   "outputs": [
    {
     "ename": "NameError",
     "evalue": "name 'train' is not defined",
     "output_type": "error",
     "traceback": [
      "\u001B[0;31m---------------------------------------------------------------------------\u001B[0m",
      "\u001B[0;31mNameError\u001B[0m                                 Traceback (most recent call last)",
      "Input \u001B[0;32mIn [160]\u001B[0m, in \u001B[0;36m<cell line: 1>\u001B[0;34m()\u001B[0m\n\u001B[0;32m----> 1\u001B[0m \u001B[43mtrain\u001B[49m\n",
      "\u001B[0;31mNameError\u001B[0m: name 'train' is not defined"
     ]
    }
   ],
   "source": [
    "train"
   ],
   "metadata": {
    "collapsed": false,
    "pycharm": {
     "name": "#%%\n"
    }
   }
  },
  {
   "cell_type": "code",
   "execution_count": null,
   "outputs": [],
   "source": [],
   "metadata": {
    "collapsed": false,
    "pycharm": {
     "name": "#%%\n"
    }
   }
  },
  {
   "cell_type": "markdown",
   "source": [
    "## Train set: negatives"
   ],
   "metadata": {
    "collapsed": false
   }
  },
  {
   "cell_type": "code",
   "execution_count": null,
   "outputs": [],
   "source": [
    "c.ratio, c.seed, c.strategy"
   ],
   "metadata": {
    "collapsed": false,
    "pycharm": {
     "name": "#%%\n"
    }
   }
  },
  {
   "cell_type": "code",
   "execution_count": null,
   "outputs": [],
   "source": [
    "train_ppis, train_negs, train_bias = make_train_negatives(\n",
    "    hash_ppis, ratio=c.ratio, seed=c.seed, strategy=c.strategy,\n",
    "    accept_homodimers=c.accept_homodimers, proteome=c.train_proteome)"
   ],
   "metadata": {
    "collapsed": false,
    "pycharm": {
     "name": "#%%\n"
    }
   }
  },
  {
   "cell_type": "code",
   "execution_count": null,
   "outputs": [],
   "source": [
    "train_bias"
   ],
   "metadata": {
    "collapsed": false,
    "pycharm": {
     "name": "#%%\n"
    }
   }
  },
  {
   "cell_type": "markdown",
   "source": [
    "#### species without negatives or a constant Pearson/Spearman"
   ],
   "metadata": {
    "collapsed": false
   }
  },
  {
   "cell_type": "code",
   "execution_count": null,
   "outputs": [],
   "source": [
    "train_bias.loc[train_bias.bias.isna()]"
   ],
   "metadata": {
    "collapsed": false,
    "pycharm": {
     "name": "#%%\n"
    }
   }
  },
  {
   "cell_type": "code",
   "execution_count": null,
   "outputs": [],
   "source": [
    "weird_species = set(train_bias.loc[train_bias.bias.isna(), 'species'])\n",
    "train_ppis.loc[train_ppis['species'].isin(weird_species)]"
   ],
   "metadata": {
    "collapsed": false,
    "pycharm": {
     "name": "#%%\n"
    }
   }
  },
  {
   "cell_type": "code",
   "execution_count": null,
   "outputs": [],
   "source": [
    "train_negs.loc[train_negs['species'].isin(weird_species)]"
   ],
   "metadata": {
    "collapsed": false,
    "pycharm": {
     "name": "#%%\n"
    }
   }
  },
  {
   "cell_type": "markdown",
   "source": [
    "This is very little data that we can safely drop. For curiosity's sake:"
   ],
   "metadata": {
    "collapsed": false
   }
  },
  {
   "cell_type": "code",
   "execution_count": null,
   "outputs": [],
   "source": [
    "taxonomy.loc[taxonomy.species.isin(weird_species)]"
   ],
   "metadata": {
    "collapsed": false,
    "pycharm": {
     "name": "#%%\n"
    }
   }
  },
  {
   "cell_type": "markdown",
   "source": [
    "It's actually ok to just drop these organisms at this point - no need to backpropagate this farther up."
   ],
   "metadata": {
    "collapsed": false
   }
  },
  {
   "cell_type": "code",
   "execution_count": null,
   "outputs": [],
   "source": [
    "# # actually drop the data here\n",
    "# train_ppis, train_negs, train_bias = [df.loc[~df.species.isin(weird_species)]\n",
    "#                                       for df in (train_ppis, train_negs, train_bias)]\n",
    "# c.weird_species = weird_species\n",
    "# len(train_ppis)"
   ],
   "metadata": {
    "collapsed": false,
    "pycharm": {
     "name": "#%%\n"
    }
   }
  },
  {
   "cell_type": "markdown",
   "source": [
    "#### set size and bias\n",
    "This is *before* the extraction of the validation set and therefore preliminary."
   ],
   "metadata": {
    "collapsed": false
   }
  },
  {
   "cell_type": "code",
   "execution_count": null,
   "outputs": [],
   "source": [
    "_ = plot_bias(train_ppis, train_negs, train_bias, c.ratio)"
   ],
   "metadata": {
    "collapsed": false,
    "pycharm": {
     "name": "#%%\n"
    }
   }
  },
  {
   "cell_type": "code",
   "execution_count": null,
   "outputs": [],
   "source": [
    "with mpl.rc_context({'figure.dpi': 100}):\n",
    "    _ = plot_ratio_degree(train_ppis, train_negs, c.ratio)"
   ],
   "metadata": {
    "collapsed": false,
    "pycharm": {
     "name": "#%%\n"
    }
   }
  },
  {
   "cell_type": "code",
   "execution_count": null,
   "outputs": [],
   "source": [
    "importlib.reload(api)\n",
    "importlib.reload(extract)\n",
    "importlib.reload(general)\n",
    "importlib.reload(pairs)\n",
    "importlib.reload(plot)\n",
    "importlib.reload(reduce)\n",
    "importlib.reload(proteome)\n",
    "\n",
    "from data.utils.api import *\n",
    "from data.utils.extract import *\n",
    "from data.utils.general import *\n",
    "from data.utils.pairs import *\n",
    "from data.utils.plot import *\n",
    "from data.utils.reduce import *\n",
    "from data.utils.proteome import *"
   ],
   "metadata": {
    "collapsed": false,
    "pycharm": {
     "name": "#%%\n"
    }
   }
  },
  {
   "cell_type": "code",
   "execution_count": null,
   "outputs": [],
   "source": [
    "train_proteins = set(np.unique(train.iloc[:, [0, 1]]))\n",
    "_train_negs = train_negs.loc[(train_negs.hash_A.isin(train_proteins))\n",
    "                             & (train_negs.hash_B.isin(train_proteins))]\n",
    "len(_train_negs), len(train_negs), len(_train_negs) / len(train_negs)"
   ],
   "metadata": {
    "collapsed": false,
    "pycharm": {
     "name": "#%%\n"
    }
   }
  },
  {
   "cell_type": "code",
   "execution_count": null,
   "outputs": [],
   "source": [
    "estimate_bias(train, _train_negs, corrtype=CorrelationType.SPEARMAN)"
   ],
   "metadata": {
    "collapsed": false,
    "pycharm": {
     "name": "#%%\n"
    }
   }
  },
  {
   "cell_type": "code",
   "execution_count": null,
   "outputs": [],
   "source": [
    "estimate_bias(train, _train_negs, corrtype=CorrelationType.PEARSON)"
   ],
   "metadata": {
    "collapsed": false,
    "pycharm": {
     "name": "#%%\n"
    }
   }
  },
  {
   "cell_type": "code",
   "execution_count": null,
   "outputs": [],
   "source": [
    "fig = plot_bias(train, _train_negs, train_bias, c.ratio)\n",
    "fig.savefig('train_bias_0_og.png', transparent=False)"
   ],
   "metadata": {
    "collapsed": false,
    "pycharm": {
     "name": "#%%\n"
    }
   }
  },
  {
   "cell_type": "code",
   "execution_count": null,
   "outputs": [],
   "source": [
    "t_ppis, t_negs, t_bias = make_train_negatives(train, c.strategy, c.ratio, c.seed, c.accept_homodimers, c.train_proteome)"
   ],
   "metadata": {
    "collapsed": false,
    "pycharm": {
     "name": "#%%\n"
    }
   }
  },
  {
   "cell_type": "code",
   "execution_count": null,
   "outputs": [],
   "source": [
    "# drop na data\n",
    "t_ppis = t_ppis.loc[~t_ppis.species.isin(t_bias.loc[t_bias.bias.isna()].species)]"
   ],
   "metadata": {
    "collapsed": false,
    "pycharm": {
     "name": "#%%\n"
    }
   }
  },
  {
   "cell_type": "code",
   "execution_count": null,
   "outputs": [],
   "source": [
    "fig = plot_bias(t_ppis, t_negs, t_bias, c.ratio)\n",
    "fig.savefig('train_bias_1_resample.png', transparent=False)"
   ],
   "metadata": {
    "collapsed": false,
    "pycharm": {
     "name": "#%%\n"
    }
   }
  },
  {
   "cell_type": "code",
   "execution_count": null,
   "outputs": [],
   "source": [
    "# pick one!\n",
    "picked_idx = 1\n",
    "train_all = [pd.concat((train, _train_negs)), pd.concat((t_ppis, t_negs))][picked_idx]\n",
    "c.train_bias = [train_bias.to_json(), t_bias.to_json()][picked_idx]\n",
    "len(train_all)"
   ],
   "metadata": {
    "collapsed": false,
    "pycharm": {
     "name": "#%%\n"
    }
   }
  },
  {
   "cell_type": "markdown",
   "source": [
    "Separate the validation set sequences from the ones remaining as train set"
   ],
   "metadata": {
    "collapsed": false
   }
  },
  {
   "cell_type": "code",
   "execution_count": null,
   "outputs": [],
   "source": [
    "_, train_seqs = shrink_both_ways(train_all.copy(), fasta.copy())\n",
    "c.train_seqs = len(train_seqs)\n",
    "len(train_seqs), len(fasta)"
   ],
   "metadata": {
    "collapsed": false,
    "pycharm": {
     "name": "#%%\n"
    }
   }
  },
  {
   "cell_type": "markdown",
   "source": [
    "#### train: save\n"
   ],
   "metadata": {
    "collapsed": false
   }
  },
  {
   "cell_type": "code",
   "execution_count": null,
   "outputs": [],
   "source": [
    "_ = SeqIO.write(values_sorted_by_key(train_seqs), c.train_fasta, 'fasta')\n",
    "train_all.to_csv(c.train_tsv, sep='\\t', header=True, index=False)\n",
    "c.train_size = len(train_all)\n",
    "c.train_fasta, c.train_tsv"
   ],
   "metadata": {
    "collapsed": false,
    "pycharm": {
     "name": "#%%\n"
    }
   }
  },
  {
   "cell_type": "markdown",
   "source": [
    "#### val: save"
   ],
   "metadata": {
    "collapsed": false
   }
  },
  {
   "cell_type": "code",
   "execution_count": null,
   "outputs": [],
   "source": [
    "_, val_seqs = shrink_both_ways(val.copy(), fasta.copy())\n",
    "len(val_seqs), len(fasta)"
   ],
   "metadata": {
    "collapsed": false,
    "pycharm": {
     "name": "#%%\n"
    }
   }
  },
  {
   "cell_type": "markdown",
   "source": [
    "Mind that the TSV will contain only positives! Sample negatives only after the whole `uniqueprot`-shebang."
   ],
   "metadata": {
    "collapsed": false
   }
  },
  {
   "cell_type": "code",
   "execution_count": null,
   "outputs": [],
   "source": [
    "_ = SeqIO.write(values_sorted_by_key(val_seqs), c.val_raw_fasta, 'fasta')\n",
    "val.to_csv(c.val_raw_tsv, sep='\\t', header=True, index=False)\n",
    "c.val_raw_fasta, c.val_raw_tsv"
   ],
   "metadata": {
    "collapsed": false,
    "pycharm": {
     "name": "#%%\n"
    }
   }
  },
  {
   "cell_type": "markdown",
   "source": [
    "## Generate negatives\n",
    "\n",
    "Negatives are sampled *per species*. Mind that the test set is human-only!\n",
    "Also, identify and assign **C1/C2/C3** class labels at this point."
   ],
   "metadata": {
    "collapsed": false
   }
  },
  {
   "cell_type": "code",
   "execution_count": null,
   "outputs": [],
   "source": [
    "c.ratio, c.seed, c.strategy"
   ],
   "metadata": {
    "collapsed": false,
    "pycharm": {
     "name": "#%%\n"
    }
   }
  },
  {
   "cell_type": "markdown",
   "source": [
    "#### APID val: generate & classify"
   ],
   "metadata": {
    "collapsed": false
   }
  },
  {
   "cell_type": "code",
   "execution_count": null,
   "outputs": [],
   "source": [
    "# sanity check if there are any proteins in test that\n",
    "# were already in train. re: \"do not add back in identical ones\"\n",
    "assert not ({r.id for r in SeqIO.parse(c.train_fasta, 'fasta')} & {\n",
    "    r.id for r in SeqIO.parse(c.test_fasta, 'fasta')})"
   ],
   "metadata": {
    "collapsed": false,
    "pycharm": {
     "name": "#%%\n"
    }
   }
  },
  {
   "cell_type": "code",
   "execution_count": null,
   "outputs": [],
   "source": [
    "for p in [c.val_rr_tsv, c.val_c3_fasta, c.val_fasta]:\n",
    "    assert p.is_file(), f'missing {p}'"
   ],
   "metadata": {
    "collapsed": false,
    "pycharm": {
     "name": "#%%\n"
    }
   }
  },
  {
   "cell_type": "code",
   "execution_count": null,
   "outputs": [],
   "source": [
    "val_ppis, val_negatives, val_bias = make_test_negatives(\n",
    "    c.val_rr_tsv, c.val_c3_fasta, c.val_fasta, c.strategy,\n",
    "    c.ratio, c.seed, c.accept_homodimers, c.test_proteome)\n",
    "c.val_bias = str(val_bias) if type(val_bias) == np.float64 else val_bias.to_json()\n",
    "val_negatives.head()"
   ],
   "metadata": {
    "collapsed": false,
    "pycharm": {
     "name": "#%%\n"
    }
   }
  },
  {
   "cell_type": "code",
   "execution_count": null,
   "outputs": [],
   "source": [
    "val_ppis.head()"
   ],
   "metadata": {
    "collapsed": false,
    "pycharm": {
     "name": "#%%\n"
    }
   }
  },
  {
   "cell_type": "code",
   "execution_count": null,
   "outputs": [],
   "source": [
    "if type(val_bias) != np.float64:\n",
    "    fig = plot_bias(val_ppis, val_negatives, val_bias, c.ratio)\n",
    "fig.savefig('val_bias.png', transparent=False)"
   ],
   "metadata": {
    "collapsed": false,
    "pycharm": {
     "name": "#%%\n"
    }
   }
  },
  {
   "cell_type": "code",
   "execution_count": null,
   "outputs": [],
   "source": [
    "val_all = pd.concat([val_ppis, val_negatives])\n",
    "c.val_size = len(val_all)\n",
    "len(val_all)"
   ],
   "metadata": {
    "collapsed": false,
    "pycharm": {
     "name": "#%%\n"
    }
   }
  },
  {
   "cell_type": "code",
   "execution_count": null,
   "outputs": [],
   "source": [
    "with mpl.rc_context({'figure.dpi': 100}):\n",
    "    fig = plot_c_classes(val_all)\n",
    "c.val_sizes = val_all[['cclass', 'label']].value_counts().to_json()\n",
    "fig.savefig('val_cclasses.png', transparent=False)"
   ],
   "metadata": {
    "collapsed": false,
    "pycharm": {
     "name": "#%%\n"
    }
   }
  },
  {
   "cell_type": "code",
   "execution_count": null,
   "outputs": [],
   "source": [
    "# have a direct look at the (ranked) degrees, but only for some species\n",
    "n_degrees_per_sp = fetch_degrees(val_all).groupby('species')[\n",
    "    'x'].size().sort_values(ascending=False)\n",
    "# pick two larger and two smaller species sets\n",
    "sps = list(n_degrees_per_sp.index)[:2] + list(n_degrees_per_sp.index)[-5:-3]\n",
    "print(sps)\n",
    "n_degrees_per_sp"
   ],
   "metadata": {
    "collapsed": false,
    "pycharm": {
     "name": "#%%\n"
    }
   }
  },
  {
   "cell_type": "code",
   "execution_count": null,
   "outputs": [],
   "source": [
    "with mpl.rc_context({'figure.dpi': 72 if len(sps) > 2 else 200}):\n",
    "    # can't unFUBAR the axis limits ...\n",
    "    fig = plot_test_degrees(val_all.loc[val_all.species.isin(sps)], c.ratio, flip=False)\n",
    "fig.savefig('val_degrees.png', transparent=False)"
   ],
   "metadata": {
    "collapsed": false,
    "pycharm": {
     "name": "#%%\n"
    }
   }
  },
  {
   "cell_type": "markdown",
   "source": [
    "#### APID val: save TSV\n",
    "The `FASTA` was finalized already, right after the redundancy reduction and before clustering against `train`."
   ],
   "metadata": {
    "collapsed": false
   }
  },
  {
   "cell_type": "code",
   "execution_count": null,
   "outputs": [],
   "source": [
    "val_all.to_csv(c.val_tsv, sep='\\t', header=True, index=False)\n",
    "c.val_tsv"
   ],
   "metadata": {
    "collapsed": false,
    "pycharm": {
     "name": "#%%\n"
    }
   }
  },
  {
   "cell_type": "markdown",
   "source": [
    "#### HuRI test: generate & classify"
   ],
   "metadata": {
    "collapsed": false
   }
  },
  {
   "cell_type": "code",
   "execution_count": null,
   "outputs": [],
   "source": [
    "for p in [c.test_rr_tsv, c.test_c3_fasta, c.test_fasta]:\n",
    "    assert p.is_file(), f'missing {p}'"
   ],
   "metadata": {
    "collapsed": false,
    "pycharm": {
     "name": "#%%\n"
    }
   }
  },
  {
   "cell_type": "code",
   "execution_count": null,
   "outputs": [],
   "source": [
    "test_ppis, test_negatives, test_bias = make_test_negatives(\n",
    "    c.test_rr_tsv, c.test_c3_fasta, c.test_fasta, c.strategy,\n",
    "    c.ratio, c.seed, c.accept_homodimers, c.test_proteome)\n",
    "c.test_bias = test_bias\n",
    "test_negatives.head()"
   ],
   "metadata": {
    "collapsed": false,
    "pycharm": {
     "name": "#%%\n"
    }
   }
  },
  {
   "cell_type": "code",
   "execution_count": null,
   "outputs": [],
   "source": [
    "test_ppis.head()"
   ],
   "metadata": {
    "collapsed": false,
    "pycharm": {
     "name": "#%%\n"
    }
   }
  },
  {
   "cell_type": "code",
   "execution_count": null,
   "outputs": [],
   "source": [
    "test_all = pd.concat([test_ppis, test_negatives])\n",
    "c.test_size = len(test_all)\n",
    "len(test_all)"
   ],
   "metadata": {
    "collapsed": false,
    "pycharm": {
     "name": "#%%\n"
    }
   }
  },
  {
   "cell_type": "code",
   "execution_count": null,
   "outputs": [],
   "source": [
    "with mpl.rc_context({'figure.dpi': 100}):\n",
    "    fig = plot_c_classes(test_all)\n",
    "c.test_sizes = test_all[['cclass', 'label']].value_counts().to_json()\n",
    "fig.savefig('test_cclasses.png', transparent=False)"
   ],
   "metadata": {
    "collapsed": false,
    "pycharm": {
     "name": "#%%\n"
    }
   }
  },
  {
   "cell_type": "code",
   "execution_count": null,
   "outputs": [],
   "source": [
    "fig = plot_test_degrees(test_all, c.ratio)\n",
    "fig.savefig('test_degrees.png', transparent=False)"
   ],
   "metadata": {
    "collapsed": false,
    "pycharm": {
     "name": "#%%\n"
    }
   }
  },
  {
   "cell_type": "markdown",
   "source": [
    "#### HuRI test: save TSV"
   ],
   "metadata": {
    "collapsed": false
   }
  },
  {
   "cell_type": "code",
   "execution_count": null,
   "outputs": [],
   "source": [
    "test_all.to_csv(c.test_tsv, sep='\\t', header=True, index=False)\n",
    "c.test_tsv"
   ],
   "metadata": {
    "collapsed": false,
    "pycharm": {
     "name": "#%%\n"
    }
   }
  },
  {
   "cell_type": "markdown",
   "source": [
    "---"
   ],
   "metadata": {
    "collapsed": false
   }
  },
  {
   "cell_type": "code",
   "execution_count": null,
   "outputs": [],
   "source": [
    "with Path(f'cfg.json').open('w') as json_file:\n",
    "    json_file.write(c.to_json(indent=2))\n",
    "print(c.to_json(indent=2))"
   ],
   "metadata": {
    "collapsed": false,
    "pycharm": {
     "name": "#%%\n"
    }
   }
  }
 ],
 "metadata": {
  "kernelspec": {
   "display_name": "Python 3",
   "language": "python",
   "name": "python3"
  },
  "language_info": {
   "codemirror_mode": {
    "name": "ipython",
    "version": 3
   },
   "file_extension": ".py",
   "mimetype": "text/x-python",
   "name": "python",
   "nbconvert_exporter": "python",
   "pygments_lexer": "ipython3",
   "version": "3.9.7"
  }
 },
 "nbformat": 4,
 "nbformat_minor": 4
}