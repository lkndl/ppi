{
 "cells": [
  {
   "cell_type": "markdown",
   "source": [
    "# Download SwissProt proteomes"
   ],
   "metadata": {
    "collapsed": false
   }
  },
  {
   "cell_type": "code",
   "execution_count": 22,
   "outputs": [],
   "source": [
    "import requests\n",
    "\n",
    "import pandas as pd\n",
    "\n",
    "from io import StringIO\n",
    "from pathlib import Path\n",
    "from tqdm import tqdm"
   ],
   "metadata": {
    "collapsed": false,
    "pycharm": {
     "name": "#%%\n"
    }
   }
  },
  {
   "cell_type": "code",
   "execution_count": 1,
   "outputs": [
    {
     "data": {
      "text/plain": "31"
     },
     "execution_count": 1,
     "metadata": {},
     "output_type": "execute_result"
    }
   ],
   "source": [
    "# this fell from the sky!\n",
    "apid_species = {632, 1392, 3702, 6239, 7227, 7955, 8355, 9031, 9913, 9986, 10090, 10116, 10299, 10377, 11706, 36329, 37296, 39947, 83333, 85962, 192222, 224308, 237561, 243276, 272634, 284812, 333760, 559292, 868565, 1111708, 2697049}\n",
    "len(apid_species)"
   ],
   "metadata": {
    "collapsed": false,
    "pycharm": {
     "name": "#%%\n"
    }
   }
  },
  {
   "cell_type": "markdown",
   "source": [
    "Query [UniProt proteomes](https://www.uniprot.org/proteomes/) for reference proteomes using our species identifiers"
   ],
   "metadata": {
    "collapsed": false
   }
  },
  {
   "cell_type": "code",
   "execution_count": 7,
   "metadata": {
    "collapsed": true
   },
   "outputs": [],
   "source": [
    "url = 'https://www.uniprot.org/proteomes/?fil=reference:yes&format=tab&query=' + '+OR+'.join(\n",
    "    f'organism:{sp}' for sp in apid_species)"
   ]
  },
  {
   "cell_type": "code",
   "execution_count": 18,
   "outputs": [
    {
     "data": {
      "text/plain": "    Proteome ID                                           Organism  \\\n0   UP000001570       Bacillus subtilis (strain 168) (Strain: 168)   \n1   UP000001940        Caenorhabditis elegans (Strain: Bristol N2)   \n2   UP000000589            Mus musculus (Mouse) (Strain: C57BL/6J)   \n3   UP000009294  Human herpesvirus 1 (strain 17) (HHV-1) (Human...   \n4   UP000000808  Mycoplasma pneumoniae (strain ATCC 29342 / M12...   \n5   UP000186698   Xenopus laevis (African clawed frog) (Strain: J)   \n6   UP000000811  Treponema pallidum (strain Nichols) (Strain: N...   \n7   UP000001450  Plasmodium falciparum (isolate 3D7) (Strain: I...   \n8   UP000002311  Saccharomyces cerevisiae (strain ATCC 204508 /...   \n9   UP000059680  Oryza sativa subsp. japonica (Rice) (Strain: c...   \n10  UP000009136             Bos taurus (Bovine) (Strain: Hereford)   \n11  UP000000559  Candida albicans (strain SC5314 / ATCC MYA-287...   \n12  UP000000799  Campylobacter jejuni subsp. jejuni serotype O:...   \n13  UP000000815  Yersinia pestis (Strain: CO-92 / Biovar Orient...   \n14  UP000000625  Escherichia coli (strain K12) (Strain: K12 / M...   \n15  UP000002485  Schizosaccharomyces pombe (strain 972 / ATCC 2...   \n16  UP000000942  Human herpesvirus 8 type P (isolate GK18) (HHV...   \n17  UP000000429  Helicobacter pylori (strain ATCC 700392 / 2669...   \n18  UP000000437  Danio rerio (Zebrafish) (Brachydanio rerio) (S...   \n19  UP000006548  Arabidopsis thaliana (Mouse-ear cress) (Strain...   \n20  UP000000803  Drosophila melanogaster (Fruit fly) (Strain: B...   \n21  UP000001425  Synechocystis sp. (strain PCC 6803 / Kazusa) (...   \n22  UP000464024  Severe acute respiratory syndrome coronavirus ...   \n23  UP000153037  Epstein-Barr virus (strain B95-8) (HHV-4) (Hum...   \n24  UP000000539  Gallus gallus (Chicken) (Strain: Red jungle fowl)   \n25  UP000000594         Bacillus anthracis (Strain: Ames ancestor)   \n26  UP000001811  Oryctolagus cuniculus (Rabbit) (Strain: Thorbe...   \n27  UP000002241  Human immunodeficiency virus type 1 group M su...   \n28  UP000002494     Rattus norvegicus (Rat) (Strain: Brown Norway)   \n29  UP000009251                       Human papillomavirus type 16   \n\n    Organism ID  Protein count  \\\n0        224308           4260   \n1          6239          26548   \n2         10090          55315   \n3         10299             73   \n4        272634            686   \n5          8355          44571   \n6        243276           1027   \n7         36329           5376   \n8        559292           6062   \n9         39947          48900   \n10         9913          37510   \n11       237561           6035   \n12       192222           1623   \n13          632           3909   \n14        83333           4448   \n15       284812           5122   \n16       868565             85   \n17        85962           1554   \n18         7955          46841   \n19         3702          39328   \n20         7227          22084   \n21      1111708           3507   \n22      2697049             17   \n23        10377             92   \n24         9031          27535   \n25         1392           5493   \n26         9986          41459   \n27        11706              9   \n28        10116          29923   \n29       333760              9   \n\n                                             BUSCO  \\\n0      C:99.3%[S:99.1%,D:0.2%],F:0.2%,M:0.4%,n:450   \n1         C:100%[S:74.7%,D:25.2%],F:0%,M:0%,n:3131   \n2   C:99.7%[S:50.8%,D:48.9%],F:0.1%,M:0.3%,n:13798   \n3                                              NaN   \n4        C:96.6%[S:96.6%,D:0%],F:1.1%,M:2.3%,n:174   \n5      C:94.7%[S:46%,D:48.8%],F:1.1%,M:4.2%,n:5310   \n6            C:91%[S:91%,D:0%],F:1.2%,M:7.8%,n:345   \n7         C:99.1%[S:98%,D:1.1%],F:0%,M:0.9%,n:3642   \n8     C:99.6%[S:97.4%,D:2.2%],F:0.1%,M:0.3%,n:2137   \n9      C:84.4%[S:78.1%,D:6.3%],F:5%,M:10.6%,n:4896   \n10  C:97.1%[S:54.4%,D:42.7%],F:0.9%,M:2.1%,n:13335   \n11    C:98.8%[S:98.4%,D:0.5%],F:0.7%,M:0.5%,n:2137   \n12             C:100%[S:100%,D:0%],F:0%,M:0%,n:628   \n13       C:99.8%[S:99.5%,D:0.2%],F:0%,M:0.2%,n:440   \n14          C:100%[S:99.3%,D:0.7%],F:0%,M:0%,n:440   \n15     C:81.8%[S:79%,D:2.8%],F:1.4%,M:16.8%,n:1706   \n16                                             NaN   \n17       C:99.5%[S:99.5%,D:0%],F:0.3%,M:0.2%,n:628   \n18     C:95.5%[S:53%,D:42.5%],F:1.7%,M:2.8%,n:3640   \n19        C:100%[S:64.3%,D:35.7%],F:0%,M:0%,n:4596   \n20        C:100%[S:41.8%,D:58.2%],F:0%,M:0%,n:3285   \n21     C:96.2%[S:95.9%,D:0.3%],F:0.9%,M:2.9%,n:788   \n22                                             NaN   \n23                                             NaN   \n24     C:95.1%[S:59.5%,D:35.6%],F:2%,M:2.9%,n:8338   \n25     C:99.1%[S:98.2%,D:0.9%],F:0.2%,M:0.7%,n:450   \n26   C:85%[S:45.4%,D:39.6%],F:2.2%,M:12.8%,n:13798   \n27                                             NaN   \n28  C:96.9%[S:74.4%,D:22.5%],F:0.9%,M:2.1%,n:13798   \n29                                             NaN   \n\n                               CPD Genome representation (RefSeq)  \n0                         Standard                           full  \n1    Close to standard (low value)                           full  \n2   Close to standard (high value)                           full  \n3   Close to standard (high value)                           full  \n4                         Standard                           full  \n5                          Unknown                           full  \n6                         Standard                           full  \n7                         Standard                           full  \n8             Outlier (high value)                           full  \n9             Outlier (high value)                           full  \n10                        Standard                           full  \n11                        Standard                           full  \n12   Close to standard (low value)                           full  \n13  Close to standard (high value)                           full  \n14                        Standard                           full  \n15                         Unknown                           full  \n16  Close to standard (high value)                           full  \n17                        Standard                           full  \n18  Close to standard (high value)                           full  \n19            Outlier (high value)                           full  \n20            Outlier (high value)                           full  \n21  Close to standard (high value)                           full  \n22                        Standard                           full  \n23  Close to standard (high value)                           full  \n24            Outlier (high value)                           full  \n25                        Standard                           full  \n26                        Standard                           full  \n27                        Standard                           full  \n28                        Standard                           full  \n29                        Standard                           full  ",
      "text/html": "<div>\n<style scoped>\n    .dataframe tbody tr th:only-of-type {\n        vertical-align: middle;\n    }\n\n    .dataframe tbody tr th {\n        vertical-align: top;\n    }\n\n    .dataframe thead th {\n        text-align: right;\n    }\n</style>\n<table border=\"1\" class=\"dataframe\">\n  <thead>\n    <tr style=\"text-align: right;\">\n      <th></th>\n      <th>Proteome ID</th>\n      <th>Organism</th>\n      <th>Organism ID</th>\n      <th>Protein count</th>\n      <th>BUSCO</th>\n      <th>CPD</th>\n      <th>Genome representation (RefSeq)</th>\n    </tr>\n  </thead>\n  <tbody>\n    <tr>\n      <th>0</th>\n      <td>UP000001570</td>\n      <td>Bacillus subtilis (strain 168) (Strain: 168)</td>\n      <td>224308</td>\n      <td>4260</td>\n      <td>C:99.3%[S:99.1%,D:0.2%],F:0.2%,M:0.4%,n:450</td>\n      <td>Standard</td>\n      <td>full</td>\n    </tr>\n    <tr>\n      <th>1</th>\n      <td>UP000001940</td>\n      <td>Caenorhabditis elegans (Strain: Bristol N2)</td>\n      <td>6239</td>\n      <td>26548</td>\n      <td>C:100%[S:74.7%,D:25.2%],F:0%,M:0%,n:3131</td>\n      <td>Close to standard (low value)</td>\n      <td>full</td>\n    </tr>\n    <tr>\n      <th>2</th>\n      <td>UP000000589</td>\n      <td>Mus musculus (Mouse) (Strain: C57BL/6J)</td>\n      <td>10090</td>\n      <td>55315</td>\n      <td>C:99.7%[S:50.8%,D:48.9%],F:0.1%,M:0.3%,n:13798</td>\n      <td>Close to standard (high value)</td>\n      <td>full</td>\n    </tr>\n    <tr>\n      <th>3</th>\n      <td>UP000009294</td>\n      <td>Human herpesvirus 1 (strain 17) (HHV-1) (Human...</td>\n      <td>10299</td>\n      <td>73</td>\n      <td>NaN</td>\n      <td>Close to standard (high value)</td>\n      <td>full</td>\n    </tr>\n    <tr>\n      <th>4</th>\n      <td>UP000000808</td>\n      <td>Mycoplasma pneumoniae (strain ATCC 29342 / M12...</td>\n      <td>272634</td>\n      <td>686</td>\n      <td>C:96.6%[S:96.6%,D:0%],F:1.1%,M:2.3%,n:174</td>\n      <td>Standard</td>\n      <td>full</td>\n    </tr>\n    <tr>\n      <th>5</th>\n      <td>UP000186698</td>\n      <td>Xenopus laevis (African clawed frog) (Strain: J)</td>\n      <td>8355</td>\n      <td>44571</td>\n      <td>C:94.7%[S:46%,D:48.8%],F:1.1%,M:4.2%,n:5310</td>\n      <td>Unknown</td>\n      <td>full</td>\n    </tr>\n    <tr>\n      <th>6</th>\n      <td>UP000000811</td>\n      <td>Treponema pallidum (strain Nichols) (Strain: N...</td>\n      <td>243276</td>\n      <td>1027</td>\n      <td>C:91%[S:91%,D:0%],F:1.2%,M:7.8%,n:345</td>\n      <td>Standard</td>\n      <td>full</td>\n    </tr>\n    <tr>\n      <th>7</th>\n      <td>UP000001450</td>\n      <td>Plasmodium falciparum (isolate 3D7) (Strain: I...</td>\n      <td>36329</td>\n      <td>5376</td>\n      <td>C:99.1%[S:98%,D:1.1%],F:0%,M:0.9%,n:3642</td>\n      <td>Standard</td>\n      <td>full</td>\n    </tr>\n    <tr>\n      <th>8</th>\n      <td>UP000002311</td>\n      <td>Saccharomyces cerevisiae (strain ATCC 204508 /...</td>\n      <td>559292</td>\n      <td>6062</td>\n      <td>C:99.6%[S:97.4%,D:2.2%],F:0.1%,M:0.3%,n:2137</td>\n      <td>Outlier (high value)</td>\n      <td>full</td>\n    </tr>\n    <tr>\n      <th>9</th>\n      <td>UP000059680</td>\n      <td>Oryza sativa subsp. japonica (Rice) (Strain: c...</td>\n      <td>39947</td>\n      <td>48900</td>\n      <td>C:84.4%[S:78.1%,D:6.3%],F:5%,M:10.6%,n:4896</td>\n      <td>Outlier (high value)</td>\n      <td>full</td>\n    </tr>\n    <tr>\n      <th>10</th>\n      <td>UP000009136</td>\n      <td>Bos taurus (Bovine) (Strain: Hereford)</td>\n      <td>9913</td>\n      <td>37510</td>\n      <td>C:97.1%[S:54.4%,D:42.7%],F:0.9%,M:2.1%,n:13335</td>\n      <td>Standard</td>\n      <td>full</td>\n    </tr>\n    <tr>\n      <th>11</th>\n      <td>UP000000559</td>\n      <td>Candida albicans (strain SC5314 / ATCC MYA-287...</td>\n      <td>237561</td>\n      <td>6035</td>\n      <td>C:98.8%[S:98.4%,D:0.5%],F:0.7%,M:0.5%,n:2137</td>\n      <td>Standard</td>\n      <td>full</td>\n    </tr>\n    <tr>\n      <th>12</th>\n      <td>UP000000799</td>\n      <td>Campylobacter jejuni subsp. jejuni serotype O:...</td>\n      <td>192222</td>\n      <td>1623</td>\n      <td>C:100%[S:100%,D:0%],F:0%,M:0%,n:628</td>\n      <td>Close to standard (low value)</td>\n      <td>full</td>\n    </tr>\n    <tr>\n      <th>13</th>\n      <td>UP000000815</td>\n      <td>Yersinia pestis (Strain: CO-92 / Biovar Orient...</td>\n      <td>632</td>\n      <td>3909</td>\n      <td>C:99.8%[S:99.5%,D:0.2%],F:0%,M:0.2%,n:440</td>\n      <td>Close to standard (high value)</td>\n      <td>full</td>\n    </tr>\n    <tr>\n      <th>14</th>\n      <td>UP000000625</td>\n      <td>Escherichia coli (strain K12) (Strain: K12 / M...</td>\n      <td>83333</td>\n      <td>4448</td>\n      <td>C:100%[S:99.3%,D:0.7%],F:0%,M:0%,n:440</td>\n      <td>Standard</td>\n      <td>full</td>\n    </tr>\n    <tr>\n      <th>15</th>\n      <td>UP000002485</td>\n      <td>Schizosaccharomyces pombe (strain 972 / ATCC 2...</td>\n      <td>284812</td>\n      <td>5122</td>\n      <td>C:81.8%[S:79%,D:2.8%],F:1.4%,M:16.8%,n:1706</td>\n      <td>Unknown</td>\n      <td>full</td>\n    </tr>\n    <tr>\n      <th>16</th>\n      <td>UP000000942</td>\n      <td>Human herpesvirus 8 type P (isolate GK18) (HHV...</td>\n      <td>868565</td>\n      <td>85</td>\n      <td>NaN</td>\n      <td>Close to standard (high value)</td>\n      <td>full</td>\n    </tr>\n    <tr>\n      <th>17</th>\n      <td>UP000000429</td>\n      <td>Helicobacter pylori (strain ATCC 700392 / 2669...</td>\n      <td>85962</td>\n      <td>1554</td>\n      <td>C:99.5%[S:99.5%,D:0%],F:0.3%,M:0.2%,n:628</td>\n      <td>Standard</td>\n      <td>full</td>\n    </tr>\n    <tr>\n      <th>18</th>\n      <td>UP000000437</td>\n      <td>Danio rerio (Zebrafish) (Brachydanio rerio) (S...</td>\n      <td>7955</td>\n      <td>46841</td>\n      <td>C:95.5%[S:53%,D:42.5%],F:1.7%,M:2.8%,n:3640</td>\n      <td>Close to standard (high value)</td>\n      <td>full</td>\n    </tr>\n    <tr>\n      <th>19</th>\n      <td>UP000006548</td>\n      <td>Arabidopsis thaliana (Mouse-ear cress) (Strain...</td>\n      <td>3702</td>\n      <td>39328</td>\n      <td>C:100%[S:64.3%,D:35.7%],F:0%,M:0%,n:4596</td>\n      <td>Outlier (high value)</td>\n      <td>full</td>\n    </tr>\n    <tr>\n      <th>20</th>\n      <td>UP000000803</td>\n      <td>Drosophila melanogaster (Fruit fly) (Strain: B...</td>\n      <td>7227</td>\n      <td>22084</td>\n      <td>C:100%[S:41.8%,D:58.2%],F:0%,M:0%,n:3285</td>\n      <td>Outlier (high value)</td>\n      <td>full</td>\n    </tr>\n    <tr>\n      <th>21</th>\n      <td>UP000001425</td>\n      <td>Synechocystis sp. (strain PCC 6803 / Kazusa) (...</td>\n      <td>1111708</td>\n      <td>3507</td>\n      <td>C:96.2%[S:95.9%,D:0.3%],F:0.9%,M:2.9%,n:788</td>\n      <td>Close to standard (high value)</td>\n      <td>full</td>\n    </tr>\n    <tr>\n      <th>22</th>\n      <td>UP000464024</td>\n      <td>Severe acute respiratory syndrome coronavirus ...</td>\n      <td>2697049</td>\n      <td>17</td>\n      <td>NaN</td>\n      <td>Standard</td>\n      <td>full</td>\n    </tr>\n    <tr>\n      <th>23</th>\n      <td>UP000153037</td>\n      <td>Epstein-Barr virus (strain B95-8) (HHV-4) (Hum...</td>\n      <td>10377</td>\n      <td>92</td>\n      <td>NaN</td>\n      <td>Close to standard (high value)</td>\n      <td>full</td>\n    </tr>\n    <tr>\n      <th>24</th>\n      <td>UP000000539</td>\n      <td>Gallus gallus (Chicken) (Strain: Red jungle fowl)</td>\n      <td>9031</td>\n      <td>27535</td>\n      <td>C:95.1%[S:59.5%,D:35.6%],F:2%,M:2.9%,n:8338</td>\n      <td>Outlier (high value)</td>\n      <td>full</td>\n    </tr>\n    <tr>\n      <th>25</th>\n      <td>UP000000594</td>\n      <td>Bacillus anthracis (Strain: Ames ancestor)</td>\n      <td>1392</td>\n      <td>5493</td>\n      <td>C:99.1%[S:98.2%,D:0.9%],F:0.2%,M:0.7%,n:450</td>\n      <td>Standard</td>\n      <td>full</td>\n    </tr>\n    <tr>\n      <th>26</th>\n      <td>UP000001811</td>\n      <td>Oryctolagus cuniculus (Rabbit) (Strain: Thorbe...</td>\n      <td>9986</td>\n      <td>41459</td>\n      <td>C:85%[S:45.4%,D:39.6%],F:2.2%,M:12.8%,n:13798</td>\n      <td>Standard</td>\n      <td>full</td>\n    </tr>\n    <tr>\n      <th>27</th>\n      <td>UP000002241</td>\n      <td>Human immunodeficiency virus type 1 group M su...</td>\n      <td>11706</td>\n      <td>9</td>\n      <td>NaN</td>\n      <td>Standard</td>\n      <td>full</td>\n    </tr>\n    <tr>\n      <th>28</th>\n      <td>UP000002494</td>\n      <td>Rattus norvegicus (Rat) (Strain: Brown Norway)</td>\n      <td>10116</td>\n      <td>29923</td>\n      <td>C:96.9%[S:74.4%,D:22.5%],F:0.9%,M:2.1%,n:13798</td>\n      <td>Standard</td>\n      <td>full</td>\n    </tr>\n    <tr>\n      <th>29</th>\n      <td>UP000009251</td>\n      <td>Human papillomavirus type 16</td>\n      <td>333760</td>\n      <td>9</td>\n      <td>NaN</td>\n      <td>Standard</td>\n      <td>full</td>\n    </tr>\n  </tbody>\n</table>\n</div>"
     },
     "execution_count": 18,
     "metadata": {},
     "output_type": "execute_result"
    }
   ],
   "source": [
    "r = requests.get(url)\n",
    "tab = pd.read_csv(StringIO(r.text), sep='\\t')\n",
    "assert len(tab['Proteome ID']) == len(tab)\n",
    "tab"
   ],
   "metadata": {
    "collapsed": false,
    "pycharm": {
     "name": "#%%\n"
    }
   }
  },
  {
   "cell_type": "code",
   "execution_count": 15,
   "outputs": [
    {
     "data": {
      "text/plain": "{37296}"
     },
     "execution_count": 15,
     "metadata": {},
     "output_type": "execute_result"
    }
   ],
   "source": [
    "# find missing species\n",
    "apid_species - set(tab['Organism ID'])"
   ],
   "metadata": {
    "collapsed": false,
    "pycharm": {
     "name": "#%%\n"
    }
   }
  },
  {
   "cell_type": "markdown",
   "source": [
    "Manual lookup turned up [UP000097197](https://www.uniprot.org/proteomes/UP000097197); and of course [UP000005640](https://www.uniprot.org/proteomes/UP000005640) for Human"
   ],
   "metadata": {
    "collapsed": false,
    "pycharm": {
     "name": "#%% md\n"
    }
   }
  },
  {
   "cell_type": "code",
   "execution_count": 40,
   "outputs": [],
   "source": [
    "proteome_dir = Path.cwd().parent / 'proteomes'\n",
    "proteome_dir.mkdir(exist_ok=True, parents=True)\n",
    "proteome_url = 'https://www.uniprot.org/uniprot/?format=fasta&query=proteome:'"
   ],
   "metadata": {
    "collapsed": false,
    "pycharm": {
     "name": "#%%\n"
    }
   }
  },
  {
   "cell_type": "markdown",
   "source": [
    "Downloading doesn't even take 10min and it's only 320MB overall."
   ],
   "metadata": {
    "collapsed": false
   }
  },
  {
   "cell_type": "code",
   "execution_count": 38,
   "outputs": [
    {
     "name": "stderr",
     "output_type": "stream",
     "text": [
      "100%|██████████| 30/30 [07:57<00:00, 15.92s/it, batch=Human papillomavirus type 16]                         \n"
     ]
    }
   ],
   "source": [
    "with tqdm(tab.iterrows(), total=len(tab)) as pbar:\n",
    "    for i, proteome in pbar:\n",
    "        pbar.set_postfix(batch=proteome['Organism'].split('(')[0].strip())\n",
    "        r = requests.get(proteome_url + proteome['Proteome ID'], stream=True)\n",
    "        with (proteome_dir / f'{proteome[\"Organism ID\"]}.fasta').open('wb') as fd:\n",
    "            for chunk in r.iter_content(chunk_size=1024 * 128):\n",
    "                fd.write(chunk)"
   ],
   "metadata": {
    "collapsed": false,
    "pycharm": {
     "name": "#%%\n"
    }
   }
  },
  {
   "cell_type": "markdown",
   "source": [
    "Dann noch `apid.fasta` aus `6082/apid_sequences` dazu kopiert und ab geht die Post"
   ],
   "metadata": {
    "collapsed": false
   }
  },
  {
   "cell_type": "markdown",
   "source": [
    "`nrapid.py`\n",
    "\n",
    "```python\n",
    "# !/usr/bin/env python3\n",
    "\n",
    "import sys\n",
    "\n",
    "from pathlib import Path\n",
    "from tqdm import tqdm\n",
    "\n",
    "wd = Path(__file__).resolve().parent\n",
    "package_root = wd.parents[1]\n",
    "if package_root not in sys.path:\n",
    "    sys.path.append(str(package_root))\n",
    "\n",
    "from data.utils.general import run_uniqueprot2D\n",
    "\n",
    "proteomes = {f for f in wd.rglob('*.fasta') if f.stem.isnumeric()}\n",
    "assert len(proteomes) == 32, f'wrong number of FASTA files found: {len(proteomes)}, should be 32'\n",
    "\n",
    "hval_config = dict(shortAlignmentLen=50,\n",
    "                   longSeqLen=180,\n",
    "                   reduceRandomAlign=False,\n",
    "                   clusterThreshold=20)\n",
    "\n",
    "with tqdm(proteomes) as pbar:\n",
    "    for p in pbar:\n",
    "        pbar.set_postfix(batch=p.stem)\n",
    "        run_uniqueprot2D(input_file=p, database_file=wd / 'apid.fasta',\n",
    "                         output_file=wd / f'{p.stem}_nrapid.fasta',\n",
    "                         hval_config=hval_config)\n",
    "```\n",
    "\n",
    "`nrapid.yml`\n",
    "\n",
    "```yaml\n",
    "# For more options, check out:\n",
    "# https://www.ibm.com/support/knowledgecenter/en/SSWRJV_10.1.0/lsf_command_ref/bsub.yaml.1.html\n",
    "io:\n",
    "    outputOverwriteFile: /mnt/project/kaindl/ppi/data/proteomes/stdout.log\n",
    "    errorOverwriteFile:  /mnt/project/kaindl/ppi/data/proteomes/stderr.log\n",
    "    cwd: /mnt/project/kaindl/ppi/data/proteomes\n",
    "limit:\n",
    "    coreLimit: 40\n",
    "    # in hh:mm\n",
    "    runtimeLimit: 16:00\n",
    "    # Limit the execution to 8GB of CPU RAM\n",
    "    memLimit: 100GB!\n",
    "resource:\n",
    "    # GPU options\n",
    "    # shared job up to 43GB of GPU RAM\n",
    "    # IMPORTANT: limits are not strictly enforced\n",
    "    # make sure you allocate as much as you will maximally need!\n",
    "    # Failing to do so may result in your or someone elses job failing.\n",
    "\n",
    "    # gpu: num=1/task:mode=shared:gmem=4G:j_exclusive=no:gpack=yes\n",
    "\n",
    "    # If job>43GB, ask for exclusive GPU use\n",
    "    # this MUST be limited to 2 exclusive use jobs per user!\n",
    "    #gpu: num=1:mode=exclusive_process:gmem=40G:j_exclusive=yes\n",
    "\n",
    "    machines: lsf-server-2\n",
    "\n",
    "properties:\n",
    "    queueName: mid-end-normal\n",
    "    jobName: kaindl_proteomes_clust\n",
    "command: python /mnt/project/kaindl/ppi/data/proteomes/nrapid.py\n",
    "```"
   ],
   "metadata": {
    "collapsed": false,
    "pycharm": {
     "name": "#%% md\n"
    }
   }
  },
  {
   "cell_type": "code",
   "execution_count": null,
   "outputs": [],
   "source": [],
   "metadata": {
    "collapsed": false,
    "pycharm": {
     "name": "#%%\n"
    }
   }
  }
 ],
 "metadata": {
  "kernelspec": {
   "display_name": "Python 3",
   "language": "python",
   "name": "python3"
  },
  "language_info": {
   "codemirror_mode": {
    "name": "ipython",
    "version": 2
   },
   "file_extension": ".py",
   "mimetype": "text/x-python",
   "name": "python",
   "nbconvert_exporter": "python",
   "pygments_lexer": "ipython2",
   "version": "2.7.6"
  }
 },
 "nbformat": 4,
 "nbformat_minor": 0
}