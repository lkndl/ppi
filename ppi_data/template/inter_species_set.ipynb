{
 "cells": [
  {
   "cell_type": "markdown",
   "source": [
    "# Generate an inter-species test set from [APID](http://cicblade.dep.usal.es:8080/APID/init.action)\n",
    "#### boilerplate"
   ],
   "metadata": {
    "collapsed": false
   }
  },
  {
   "cell_type": "code",
   "execution_count": 1,
   "outputs": [],
   "source": [
    "from __future__ import annotations\n",
    "\n",
    "import os\n",
    "import sys\n",
    "import shutil\n",
    "import importlib\n",
    "\n",
    "from pathlib import Path\n",
    "\n",
    "from dataclasses import field\n",
    "from itertools import product\n",
    "from typing import Callable\n",
    "\n",
    "import numpy as np\n",
    "import pandas as pd\n",
    "import requests\n",
    "from dataclass_wizard import JSONWizard"
   ],
   "metadata": {
    "collapsed": false
   }
  },
  {
   "cell_type": "markdown",
   "source": [
    "Mess around with paths because I'm running this a few times on different systems."
   ],
   "metadata": {
    "collapsed": false
   }
  },
  {
   "cell_type": "code",
   "execution_count": 4,
   "outputs": [
    {
     "name": "stdout",
     "output_type": "stream",
     "text": [
      "/home/quirin/mambaforge/envs/ppi/bin/python\r\n",
      "/home/quirin/PYTHON/ppi/ppi_data/template\r\n"
     ]
    }
   ],
   "source": [
    "!which python\n",
    "!pwd"
   ],
   "metadata": {
    "collapsed": false
   }
  },
  {
   "cell_type": "code",
   "execution_count": 5,
   "outputs": [
    {
     "data": {
      "text/plain": "'/home/quirin/PYTHON/ppi'"
     },
     "execution_count": 5,
     "metadata": {},
     "output_type": "execute_result"
    }
   ],
   "source": [
    "if 'kaindl' in str(cwd := Path.cwd()):\n",
    "    cwd = Path('/home/k/kaindll/ppi/ppi_data/template')\n",
    "package_root = str(cwd.parents[1])\n",
    "if package_root not in sys.path:\n",
    "    sys.path.append(package_root)\n",
    "package_root"
   ],
   "metadata": {
    "collapsed": false
   }
  },
  {
   "cell_type": "code",
   "execution_count": 6,
   "outputs": [
    {
     "name": "stdout",
     "output_type": "stream",
     "text": [
      "/home/quirin/PYTHON/ppi/ppi_data/results/7082\r\n"
     ]
    }
   ],
   "source": [
    "session = '7082'\n",
    "session_dir = cwd.parent / 'results' / session\n",
    "\n",
    "assert session_dir.is_dir(), 'use on a previously generated dataset!'\n",
    "os.chdir(session_dir.resolve())\n",
    "!pwd"
   ],
   "metadata": {
    "collapsed": false
   }
  },
  {
   "cell_type": "code",
   "execution_count": 7,
   "outputs": [],
   "source": [
    "from ppi_utils.cfg import Config, SamplingStrategy\n",
    "from ppi_utils import api, extract, general, pairs, plot, reduce, proteome\n",
    "\n",
    "from ppi_utils.api import *\n",
    "from ppi_utils.extract import *\n",
    "from ppi_utils.general import *\n",
    "from ppi_utils.pairs import *\n",
    "from ppi_utils.plot import *\n",
    "from ppi_utils.reduce import *\n",
    "from ppi_utils.proteome import *"
   ],
   "metadata": {
    "collapsed": false
   }
  },
  {
   "cell_type": "markdown",
   "source": [
    "#### config\n",
    "These are the somewhat relevant settings. Have a look!"
   ],
   "metadata": {
    "collapsed": false
   }
  },
  {
   "cell_type": "code",
   "execution_count": 8,
   "outputs": [],
   "source": [
    "\n",
    "@dataclass\n",
    "class Params(JSONWizard):\n",
    "    class _(JSONWizard.Meta):\n",
    "        key_transform_with_dump = 'SNAKE'\n",
    "\n",
    "    keep_human: bool = False\n",
    "    keep_interspecies: bool = False\n",
    "    accept_homodimers: bool = False\n",
    "    add_proteomes: bool = True\n",
    "    slurm: bool = all(shutil.which(t) for t in ('snakemake', 'sbatch'))\n",
    "    slurm_node_limit: int = 15\n",
    "    rostclust: bool = shutil.which('rostclust')\n",
    "\n",
    "    min_seq_len: int = 50\n",
    "    max_seq_len: int = 1500\n",
    "\n",
    "    seed: int = 42\n",
    "    ratio: float = 10.0\n",
    "    strategy: SamplingStrategy = SamplingStrategy.BALANCED\n",
    "\n",
    "    val_set_size: float = .1\n",
    "    val_species: set[str] = field(default_factory=set)\n",
    "\n",
    "\n",
    "hval_config = dict(shortAlignmentLen=50,\n",
    "                   longSeqLen=180,\n",
    "                   reduceRandomAlign=False,\n",
    "                   clusterThreshold=20)\n",
    "\n",
    "train_species = set()  # select only this subset\n",
    "val_species = set()\n",
    "test_species = set()\n",
    "params = Params()"
   ],
   "metadata": {
    "collapsed": false
   }
  },
  {
   "cell_type": "markdown",
   "source": [
    "The detour below is meant to keep the class definition above short, and the `Config` class importable from other modules."
   ],
   "metadata": {
    "collapsed": false
   }
  },
  {
   "cell_type": "code",
   "execution_count": 9,
   "outputs": [],
   "source": [
    "c = Config(\n",
    "    **params.to_dict() | dict(\n",
    "        hval_config=hval_config,\n",
    "        train_species=train_species,\n",
    "        val_species=val_species,\n",
    "        test_species=test_species,\n",
    "        cwd=session_dir, strategy=params.strategy\n",
    "    ))"
   ],
   "metadata": {
    "collapsed": false
   }
  },
  {
   "cell_type": "markdown",
   "source": [
    "#### importlib\n",
    "For development, it's nice to be able to edit the imported modules."
   ],
   "metadata": {
    "collapsed": false
   }
  },
  {
   "cell_type": "code",
   "execution_count": 10,
   "outputs": [],
   "source": [
    "importlib.reload(api)\n",
    "importlib.reload(extract)\n",
    "importlib.reload(general)\n",
    "importlib.reload(pairs)\n",
    "importlib.reload(plot)\n",
    "importlib.reload(reduce)\n",
    "importlib.reload(proteome)\n",
    "\n",
    "from ppi_utils.api import *\n",
    "from ppi_utils.extract import *\n",
    "from ppi_utils.general import *\n",
    "from ppi_utils.pairs import *\n",
    "from ppi_utils.plot import *\n",
    "from ppi_utils.reduce import *\n",
    "from ppi_utils.proteome import *"
   ],
   "metadata": {
    "collapsed": false
   }
  },
  {
   "cell_type": "code",
   "execution_count": 11,
   "outputs": [
    {
     "data": {
      "text/plain": "PosixPath('apid_isp/proteomes')"
     },
     "execution_count": 11,
     "metadata": {},
     "output_type": "execute_result"
    }
   ],
   "source": [
    "# maybe fix this!\n",
    "c.pp = c.ip / 'proteomes'\n",
    "c.pp.mkdir(parents=True, exist_ok=True)\n",
    "c.pp"
   ],
   "metadata": {
    "collapsed": false
   }
  },
  {
   "cell_type": "markdown",
   "source": [
    "#### Create inter-species set\n",
    "\n",
    "#### plot the size of the inter-species sets\n",
    "First, re-read the interactomes *with* human; and *with vs. without* interspecies"
   ],
   "metadata": {
    "collapsed": false
   }
  },
  {
   "cell_type": "code",
   "execution_count": 12,
   "outputs": [
    {
     "data": {
      "text/plain": "PosixPath('apid_isp/noISI/apid_q1')"
     },
     "execution_count": 12,
     "metadata": {},
     "output_type": "execute_result"
    }
   ],
   "source": [
    "ip_noisi = unzip_apid(zip_path='apid.zip', work_dir=c.ip / 'noISI',\n",
    "                      keep_human=True, keep_interspecies=False)\n",
    "ip_noisi"
   ],
   "metadata": {
    "collapsed": false
   }
  },
  {
   "cell_type": "code",
   "execution_count": 13,
   "outputs": [
    {
     "data": {
      "text/plain": "61429"
     },
     "execution_count": 13,
     "metadata": {},
     "output_type": "execute_result"
    }
   ],
   "source": [
    "noisi_ids = extract_apid_uniprot_ids(ip_noisi)\n",
    "len(noisi_ids)"
   ],
   "metadata": {
    "collapsed": false
   }
  },
  {
   "cell_type": "code",
   "execution_count": 14,
   "outputs": [
    {
     "data": {
      "text/plain": "296653"
     },
     "execution_count": 14,
     "metadata": {},
     "output_type": "execute_result"
    }
   ],
   "source": [
    "noisi_ppis = extract_apid_ppis(ip_noisi)\n",
    "len(noisi_ppis)"
   ],
   "metadata": {
    "collapsed": false
   }
  },
  {
   "cell_type": "code",
   "execution_count": 15,
   "outputs": [
    {
     "data": {
      "text/plain": "(67240, 35)"
     },
     "execution_count": 15,
     "metadata": {},
     "output_type": "execute_result"
    }
   ],
   "source": [
    "ipo = unzip_apid(zip_path='apid.zip', work_dir=c.ip / 'ISI',\n",
    "                 keep_human=True, keep_interspecies=True)\n",
    "isp_ids = extract_apid_uniprot_ids(ipo)\n",
    "isp_ppis = extract_apid_ppis(ipo)\n",
    "len(isp_ids), len(isp_ppis.species.unique())"
   ],
   "metadata": {
    "collapsed": false
   }
  },
  {
   "cell_type": "code",
   "execution_count": 16,
   "outputs": [
    {
     "name": "stderr",
     "output_type": "stream",
     "text": [
      "100%|██████████| 35/35 [00:17<00:00,  1.99it/s]\n"
     ]
    },
    {
     "data": {
      "text/plain": "    species                                              name  n_ppis\n34  2697049                                        SARS-CoV 2      26\n27   272634                        Mycoplasma pneumoniae M129      35\n25   237561                           Candida albicans SC5314      49\n13    10299                Human alphaherpesvirus 1 strain 17      59\n10     9986                             Oryctolagus cuniculus      79\n32   868565                   Human herpesvirus 8 strain GK18      85\n15    10600                      Human papillomavirus type 6b      92\n18    37296                          Human gammaherpesvirus 8      98\n16    11706                                   HIV-1 M:B_HXB2R     101\n6      8355                                    Xenopus laevis     116\n7      9031                                     Gallus gallus     136\n5      7955                                       Danio rerio     137\n30   333761                      Human papillomavirus type 18     144\n14    10377                  Human herpesvirus 4 strain B95-8     332\n19    39947                       Oryza sativa Japonica Group     365\n29   333760                      Human papillomavirus type 16     369\n9      9913                                        Bos taurus     578\n24   224308        Bacillus subtilis subsp. subtilis str. 168    1403\n22   177416  Francisella tularensis subsp. tularensis SCHU S4    1650\n12    10116                                 Rattus norvegicus    2051\n21    85962                         Helicobacter pylori 26695    2412\n17    36329                         Plasmodium falciparum 3D7    2741\n1      1392                                Bacillus anthracis    3005\n33  1111708         Synechocystis sp. PCC 6803 substr. Kazusa    3155\n20    83333                             Escherichia coli K-12    3231\n26   243276   Treponema pallidum subsp. pallidum str. Nichols    3642\n28   284812                   Schizosaccharomyces pombe 972h-    3868\n0       632                                   Yersinia pestis    4124\n11    10090                                      Mus musculus    7860\n23   192222                              Campylobacter jejuni   11928\n3      6239                            Caenorhabditis elegans   15287\n31   559292                    Saccharomyces cerevisiae S288C   30168\n4      7227                           Drosophila melanogaster   35650\n2      3702                              Arabidopsis thaliana   45267\n8      9606                                      Homo sapiens  154955",
      "text/html": "<div>\n<style scoped>\n    .dataframe tbody tr th:only-of-type {\n        vertical-align: middle;\n    }\n\n    .dataframe tbody tr th {\n        vertical-align: top;\n    }\n\n    .dataframe thead th {\n        text-align: right;\n    }\n</style>\n<table border=\"1\" class=\"dataframe\">\n  <thead>\n    <tr style=\"text-align: right;\">\n      <th></th>\n      <th>species</th>\n      <th>name</th>\n      <th>n_ppis</th>\n    </tr>\n  </thead>\n  <tbody>\n    <tr>\n      <th>34</th>\n      <td>2697049</td>\n      <td>SARS-CoV 2</td>\n      <td>26</td>\n    </tr>\n    <tr>\n      <th>27</th>\n      <td>272634</td>\n      <td>Mycoplasma pneumoniae M129</td>\n      <td>35</td>\n    </tr>\n    <tr>\n      <th>25</th>\n      <td>237561</td>\n      <td>Candida albicans SC5314</td>\n      <td>49</td>\n    </tr>\n    <tr>\n      <th>13</th>\n      <td>10299</td>\n      <td>Human alphaherpesvirus 1 strain 17</td>\n      <td>59</td>\n    </tr>\n    <tr>\n      <th>10</th>\n      <td>9986</td>\n      <td>Oryctolagus cuniculus</td>\n      <td>79</td>\n    </tr>\n    <tr>\n      <th>32</th>\n      <td>868565</td>\n      <td>Human herpesvirus 8 strain GK18</td>\n      <td>85</td>\n    </tr>\n    <tr>\n      <th>15</th>\n      <td>10600</td>\n      <td>Human papillomavirus type 6b</td>\n      <td>92</td>\n    </tr>\n    <tr>\n      <th>18</th>\n      <td>37296</td>\n      <td>Human gammaherpesvirus 8</td>\n      <td>98</td>\n    </tr>\n    <tr>\n      <th>16</th>\n      <td>11706</td>\n      <td>HIV-1 M:B_HXB2R</td>\n      <td>101</td>\n    </tr>\n    <tr>\n      <th>6</th>\n      <td>8355</td>\n      <td>Xenopus laevis</td>\n      <td>116</td>\n    </tr>\n    <tr>\n      <th>7</th>\n      <td>9031</td>\n      <td>Gallus gallus</td>\n      <td>136</td>\n    </tr>\n    <tr>\n      <th>5</th>\n      <td>7955</td>\n      <td>Danio rerio</td>\n      <td>137</td>\n    </tr>\n    <tr>\n      <th>30</th>\n      <td>333761</td>\n      <td>Human papillomavirus type 18</td>\n      <td>144</td>\n    </tr>\n    <tr>\n      <th>14</th>\n      <td>10377</td>\n      <td>Human herpesvirus 4 strain B95-8</td>\n      <td>332</td>\n    </tr>\n    <tr>\n      <th>19</th>\n      <td>39947</td>\n      <td>Oryza sativa Japonica Group</td>\n      <td>365</td>\n    </tr>\n    <tr>\n      <th>29</th>\n      <td>333760</td>\n      <td>Human papillomavirus type 16</td>\n      <td>369</td>\n    </tr>\n    <tr>\n      <th>9</th>\n      <td>9913</td>\n      <td>Bos taurus</td>\n      <td>578</td>\n    </tr>\n    <tr>\n      <th>24</th>\n      <td>224308</td>\n      <td>Bacillus subtilis subsp. subtilis str. 168</td>\n      <td>1403</td>\n    </tr>\n    <tr>\n      <th>22</th>\n      <td>177416</td>\n      <td>Francisella tularensis subsp. tularensis SCHU S4</td>\n      <td>1650</td>\n    </tr>\n    <tr>\n      <th>12</th>\n      <td>10116</td>\n      <td>Rattus norvegicus</td>\n      <td>2051</td>\n    </tr>\n    <tr>\n      <th>21</th>\n      <td>85962</td>\n      <td>Helicobacter pylori 26695</td>\n      <td>2412</td>\n    </tr>\n    <tr>\n      <th>17</th>\n      <td>36329</td>\n      <td>Plasmodium falciparum 3D7</td>\n      <td>2741</td>\n    </tr>\n    <tr>\n      <th>1</th>\n      <td>1392</td>\n      <td>Bacillus anthracis</td>\n      <td>3005</td>\n    </tr>\n    <tr>\n      <th>33</th>\n      <td>1111708</td>\n      <td>Synechocystis sp. PCC 6803 substr. Kazusa</td>\n      <td>3155</td>\n    </tr>\n    <tr>\n      <th>20</th>\n      <td>83333</td>\n      <td>Escherichia coli K-12</td>\n      <td>3231</td>\n    </tr>\n    <tr>\n      <th>26</th>\n      <td>243276</td>\n      <td>Treponema pallidum subsp. pallidum str. Nichols</td>\n      <td>3642</td>\n    </tr>\n    <tr>\n      <th>28</th>\n      <td>284812</td>\n      <td>Schizosaccharomyces pombe 972h-</td>\n      <td>3868</td>\n    </tr>\n    <tr>\n      <th>0</th>\n      <td>632</td>\n      <td>Yersinia pestis</td>\n      <td>4124</td>\n    </tr>\n    <tr>\n      <th>11</th>\n      <td>10090</td>\n      <td>Mus musculus</td>\n      <td>7860</td>\n    </tr>\n    <tr>\n      <th>23</th>\n      <td>192222</td>\n      <td>Campylobacter jejuni</td>\n      <td>11928</td>\n    </tr>\n    <tr>\n      <th>3</th>\n      <td>6239</td>\n      <td>Caenorhabditis elegans</td>\n      <td>15287</td>\n    </tr>\n    <tr>\n      <th>31</th>\n      <td>559292</td>\n      <td>Saccharomyces cerevisiae S288C</td>\n      <td>30168</td>\n    </tr>\n    <tr>\n      <th>4</th>\n      <td>7227</td>\n      <td>Drosophila melanogaster</td>\n      <td>35650</td>\n    </tr>\n    <tr>\n      <th>2</th>\n      <td>3702</td>\n      <td>Arabidopsis thaliana</td>\n      <td>45267</td>\n    </tr>\n    <tr>\n      <th>8</th>\n      <td>9606</td>\n      <td>Homo sapiens</td>\n      <td>154955</td>\n    </tr>\n  </tbody>\n</table>\n</div>"
     },
     "execution_count": 16,
     "metadata": {},
     "output_type": "execute_result"
    }
   ],
   "source": [
    "taxonomy = fetch_taxonomic_info(isp_ppis.species).sort_values(by='n_ppis')\n",
    "taxonomy.loc[taxonomy.name.str.startswith('Campylob'),\n",
    "             'name'] = 'Campylobacter jejuni'\n",
    "taxonomy.loc[taxonomy.name.str.startswith('Sever'),\n",
    "             'name'] = 'SARS-CoV 2'\n",
    "taxonomy"
   ],
   "metadata": {
    "collapsed": false
   }
  },
  {
   "cell_type": "code",
   "execution_count": 17,
   "outputs": [],
   "source": [
    "(taxonomy[['species', 'name']].sort_values(by='species')\n",
    " .to_csv('taxonomy.tsv', sep='\\t', index=False))"
   ],
   "metadata": {
    "collapsed": false
   }
  },
  {
   "cell_type": "code",
   "execution_count": 18,
   "outputs": [
    {
     "data": {
      "text/plain": "<Figure size 800x300 with 1 Axes>",
      "image/png": "[encoded data removed]"
     },
     "metadata": {
      "needs_background": "light"
     },
     "output_type": "display_data"
    }
   ],
   "source": [
    "fig, dq2 = plot_interspecies_loss(noisi_ppis, isp_ppis, taxonomy)\n",
    "# fig.savefig('inter_species_share_new.svg')"
   ],
   "metadata": {
    "collapsed": false
   }
  },
  {
   "cell_type": "code",
   "execution_count": 19,
   "outputs": [
    {
     "data": {
      "text/plain": "32"
     },
     "execution_count": 19,
     "metadata": {},
     "output_type": "execute_result"
    }
   ],
   "source": [
    "# focus on the species from main APID dataset\n",
    "c.test_species = {int(p.stem.split('_')[0]) for p in glob_types(\n",
    "    c.cwd / 'apid_q1', ['_noISI_Q1.txt', '_noISI_Q1.txt.bak'])} | {9606}\n",
    "len(c.test_species)"
   ],
   "metadata": {
    "collapsed": false
   }
  },
  {
   "cell_type": "markdown",
   "source": [
    "#### download all sequences"
   ],
   "metadata": {
    "collapsed": false
   }
  },
  {
   "cell_type": "code",
   "execution_count": 15,
   "outputs": [
    {
     "data": {
      "text/plain": "67240"
     },
     "execution_count": 15,
     "metadata": {},
     "output_type": "execute_result"
    }
   ],
   "source": [
    "uniprot_ids = noisi_ids | isp_ids\n",
    "len(uniprot_ids)"
   ],
   "metadata": {
    "collapsed": false
   }
  },
  {
   "cell_type": "code",
   "execution_count": 54,
   "outputs": [
    {
     "name": "stdout",
     "output_type": "stream",
     "text": [
      "jobId: ba1db81f0c038f69c129e473889b81bc98a430fa\n",
      "apid: query + tab ...b'{\"results\":[{\"from\":\"A0A021WW32\",\"to\":\"A0A021WW32\"},{\"from\":\"A0A023PXA5\",\"to\":\"A0A023PXA5\"},{\"from\":\"A0A023PYF7\",\"to\":\"A0A023PYF7\"},{\"from\":\"A0A024A2C9\",\"to\":\"A0A024A2C9\"},{\"from\":\"A0A024R0Y4\",\"to\":\n",
      " 67242:0\n",
      "apid: fasta ...API FASTA: ae28923e7e3ccb15e7acb119e868410cec879cded04b5a8e6e68b993544592cb\n"
     ]
    },
    {
     "name": "stderr",
     "output_type": "stream",
     "text": [
      "hash FASTA: 67011it [00:18, 3563.83it/s]\n",
      "fetch UniParc: 100%|███████████████████████████████| 231/231 [03:03<00:00,  1.26it/s]\n",
      "fetch isoforms/archive: 100%|████████████████████████| 89/89 [06:16<00:00,  4.23s/it]\n"
     ]
    }
   ],
   "source": [
    "# skip if re-running this w/o changes above or deleting files\n",
    "id_hash_lookup = uniprot_api_fetch(uniprot_ids, c.ip / 'apid' / 'apid')"
   ],
   "metadata": {
    "collapsed": false
   }
  },
  {
   "cell_type": "code",
   "execution_count": 16,
   "outputs": [
    {
     "data": {
      "text/plain": "67240"
     },
     "execution_count": 16,
     "metadata": {},
     "output_type": "execute_result"
    }
   ],
   "source": [
    "with (c.ip / 'apid' / 'apid.json').open('r') as json_file:\n",
    "    id_hash_lookup = json.load(json_file)\n",
    "len(id_hash_lookup)"
   ],
   "metadata": {
    "collapsed": false
   }
  },
  {
   "cell_type": "markdown",
   "source": [
    "#### extract second species\n",
    "When downloading sequences, the original descriptive headers from an intermediate FASTA were extracted as a TSV. This table contains `OX=` information almost everywhere by default, and we added this information for UniParc entries."
   ],
   "metadata": {
    "collapsed": false
   }
  },
  {
   "cell_type": "code",
   "execution_count": 17,
   "outputs": [
    {
     "data": {
      "text/plain": "     From      To              crc_hash source  \\\n0  P61247  P61247  CRC-000037AE195F7A9D  query   \n1  Q9FG13  Q9FG13  CRC-000140D8BB91126A  query   \n2  Q9BSF4  Q9BSF4  CRC-000324A28C9F2902  query   \n3  Q0PAI7  Q0PAI7  CRC-0004FA7836A741E8  query   \n4  Q12193  Q12193  CRC-0004FB11FB8C8068  query   \n\n                                         description      ox  \n0  sp|P61247|RS3A_HUMAN 40S ribosomal protein S3a...    9606  \n1  sp|Q9FG13|CXE15_ARATH Probable carboxylesteras...    3702  \n2  sp|Q9BSF4|TIM29_HUMAN Mitochondrial import inn...    9606  \n3  tr|Q0PAI7|Q0PAI7_CAMJE Putative membrane prote...  192222  \n4  sp|Q12193|YB12B_YEAST Transposon Ty1-BR Gag-Po...  559292  ",
      "text/html": "<div>\n<style scoped>\n    .dataframe tbody tr th:only-of-type {\n        vertical-align: middle;\n    }\n\n    .dataframe tbody tr th {\n        vertical-align: top;\n    }\n\n    .dataframe thead th {\n        text-align: right;\n    }\n</style>\n<table border=\"1\" class=\"dataframe\">\n  <thead>\n    <tr style=\"text-align: right;\">\n      <th></th>\n      <th>From</th>\n      <th>To</th>\n      <th>crc_hash</th>\n      <th>source</th>\n      <th>description</th>\n      <th>ox</th>\n    </tr>\n  </thead>\n  <tbody>\n    <tr>\n      <th>0</th>\n      <td>P61247</td>\n      <td>P61247</td>\n      <td>CRC-000037AE195F7A9D</td>\n      <td>query</td>\n      <td>sp|P61247|RS3A_HUMAN 40S ribosomal protein S3a...</td>\n      <td>9606</td>\n    </tr>\n    <tr>\n      <th>1</th>\n      <td>Q9FG13</td>\n      <td>Q9FG13</td>\n      <td>CRC-000140D8BB91126A</td>\n      <td>query</td>\n      <td>sp|Q9FG13|CXE15_ARATH Probable carboxylesteras...</td>\n      <td>3702</td>\n    </tr>\n    <tr>\n      <th>2</th>\n      <td>Q9BSF4</td>\n      <td>Q9BSF4</td>\n      <td>CRC-000324A28C9F2902</td>\n      <td>query</td>\n      <td>sp|Q9BSF4|TIM29_HUMAN Mitochondrial import inn...</td>\n      <td>9606</td>\n    </tr>\n    <tr>\n      <th>3</th>\n      <td>Q0PAI7</td>\n      <td>Q0PAI7</td>\n      <td>CRC-0004FA7836A741E8</td>\n      <td>query</td>\n      <td>tr|Q0PAI7|Q0PAI7_CAMJE Putative membrane prote...</td>\n      <td>192222</td>\n    </tr>\n    <tr>\n      <th>4</th>\n      <td>Q12193</td>\n      <td>Q12193</td>\n      <td>CRC-0004FB11FB8C8068</td>\n      <td>query</td>\n      <td>sp|Q12193|YB12B_YEAST Transposon Ty1-BR Gag-Po...</td>\n      <td>559292</td>\n    </tr>\n  </tbody>\n</table>\n</div>"
     },
     "execution_count": 17,
     "metadata": {},
     "output_type": "execute_result"
    }
   ],
   "source": [
    "upmp = pd.read_csv(c.ip / 'apid' / 'apid.tsv', sep='\\t', header=0)\n",
    "upmp['ox'] = upmp.description.str.extract('.*OX=(\\d+).*').astype(int)\n",
    "upmp.head()"
   ],
   "metadata": {
    "collapsed": false
   }
  },
  {
   "cell_type": "code",
   "execution_count": 18,
   "outputs": [
    {
     "data": {
      "text/plain": "Empty DataFrame\nColumns: [From, To, crc_hash, source, description, ox]\nIndex: []",
      "text/html": "<div>\n<style scoped>\n    .dataframe tbody tr th:only-of-type {\n        vertical-align: middle;\n    }\n\n    .dataframe tbody tr th {\n        vertical-align: top;\n    }\n\n    .dataframe thead th {\n        text-align: right;\n    }\n</style>\n<table border=\"1\" class=\"dataframe\">\n  <thead>\n    <tr style=\"text-align: right;\">\n      <th></th>\n      <th>From</th>\n      <th>To</th>\n      <th>crc_hash</th>\n      <th>source</th>\n      <th>description</th>\n      <th>ox</th>\n    </tr>\n  </thead>\n  <tbody>\n  </tbody>\n</table>\n</div>"
     },
     "execution_count": 18,
     "metadata": {},
     "output_type": "execute_result"
    }
   ],
   "source": [
    "upmp.loc[upmp.ox.isna()]  # all records have a taxon ID!"
   ],
   "metadata": {
    "collapsed": false
   }
  },
  {
   "cell_type": "code",
   "execution_count": 19,
   "outputs": [
    {
     "data": {
      "text/plain": "(67242, 67240)"
     },
     "execution_count": 19,
     "metadata": {},
     "output_type": "execute_result"
    }
   ],
   "source": [
    "len(upmp), len(uniprot_ids)"
   ],
   "metadata": {
    "collapsed": false
   }
  },
  {
   "cell_type": "markdown",
   "source": [
    "There are two additional lines!"
   ],
   "metadata": {
    "collapsed": false
   }
  },
  {
   "cell_type": "code",
   "execution_count": 20,
   "outputs": [
    {
     "data": {
      "text/plain": "        From\nQ8ML70     2\nQ9SN96     2",
      "text/html": "<div>\n<style scoped>\n    .dataframe tbody tr th:only-of-type {\n        vertical-align: middle;\n    }\n\n    .dataframe tbody tr th {\n        vertical-align: top;\n    }\n\n    .dataframe thead th {\n        text-align: right;\n    }\n</style>\n<table border=\"1\" class=\"dataframe\">\n  <thead>\n    <tr style=\"text-align: right;\">\n      <th></th>\n      <th>From</th>\n    </tr>\n  </thead>\n  <tbody>\n    <tr>\n      <th>Q8ML70</th>\n      <td>2</td>\n    </tr>\n    <tr>\n      <th>Q9SN96</th>\n      <td>2</td>\n    </tr>\n  </tbody>\n</table>\n</div>"
     },
     "execution_count": 20,
     "metadata": {},
     "output_type": "execute_result"
    }
   ],
   "source": [
    "vcs = pd.DataFrame(upmp.From.value_counts())\n",
    "vcs.loc[vcs.From > 1]"
   ],
   "metadata": {
    "collapsed": false
   }
  },
  {
   "cell_type": "markdown",
   "source": [
    "These are de-merged entries, but they actually have the same sequence."
   ],
   "metadata": {
    "collapsed": false
   }
  },
  {
   "cell_type": "code",
   "execution_count": 21,
   "outputs": [
    {
     "data": {
      "text/plain": "         From      To              crc_hash source  \\\n25234  Q8ML70  C0HLZ9  CRC-6080064ABCC1CC3D  query   \n25235  Q8ML70  C0HM00  CRC-6080064ABCC1CC3D  query   \n39454  Q9SN96  P0DO44  CRC-96CEA6088EEBAA32  query   \n39455  Q9SN96  P0DO45  CRC-96CEA6088EEBAA32  query   \n\n                                             description    ox  \n25234  sp|C0HLZ9|BARA1_DROME Baramicin A1 OS=Drosophi...  7227  \n25235  sp|C0HM00|BARA2_DROME Baramicin A2 OS=Drosophi...  7227  \n39454  sp|P0DO44|ATP6A_ARATH ATP synthase small subun...  3702  \n39455  sp|P0DO45|ATP6B_ARATH ATP synthase small subun...  3702  ",
      "text/html": "<div>\n<style scoped>\n    .dataframe tbody tr th:only-of-type {\n        vertical-align: middle;\n    }\n\n    .dataframe tbody tr th {\n        vertical-align: top;\n    }\n\n    .dataframe thead th {\n        text-align: right;\n    }\n</style>\n<table border=\"1\" class=\"dataframe\">\n  <thead>\n    <tr style=\"text-align: right;\">\n      <th></th>\n      <th>From</th>\n      <th>To</th>\n      <th>crc_hash</th>\n      <th>source</th>\n      <th>description</th>\n      <th>ox</th>\n    </tr>\n  </thead>\n  <tbody>\n    <tr>\n      <th>25234</th>\n      <td>Q8ML70</td>\n      <td>C0HLZ9</td>\n      <td>CRC-6080064ABCC1CC3D</td>\n      <td>query</td>\n      <td>sp|C0HLZ9|BARA1_DROME Baramicin A1 OS=Drosophi...</td>\n      <td>7227</td>\n    </tr>\n    <tr>\n      <th>25235</th>\n      <td>Q8ML70</td>\n      <td>C0HM00</td>\n      <td>CRC-6080064ABCC1CC3D</td>\n      <td>query</td>\n      <td>sp|C0HM00|BARA2_DROME Baramicin A2 OS=Drosophi...</td>\n      <td>7227</td>\n    </tr>\n    <tr>\n      <th>39454</th>\n      <td>Q9SN96</td>\n      <td>P0DO44</td>\n      <td>CRC-96CEA6088EEBAA32</td>\n      <td>query</td>\n      <td>sp|P0DO44|ATP6A_ARATH ATP synthase small subun...</td>\n      <td>3702</td>\n    </tr>\n    <tr>\n      <th>39455</th>\n      <td>Q9SN96</td>\n      <td>P0DO45</td>\n      <td>CRC-96CEA6088EEBAA32</td>\n      <td>query</td>\n      <td>sp|P0DO45|ATP6B_ARATH ATP synthase small subun...</td>\n      <td>3702</td>\n    </tr>\n  </tbody>\n</table>\n</div>"
     },
     "execution_count": 21,
     "metadata": {},
     "output_type": "execute_result"
    }
   ],
   "source": [
    "upmp.loc[upmp.From.isin(vcs.loc[vcs.From > 1].index)]"
   ],
   "metadata": {
    "collapsed": false
   }
  },
  {
   "cell_type": "markdown",
   "source": [
    "Maybe check if the associated organism has changed somewhere? Answer: Secondary accession numbers arise when entries are *merged*. This pre-supposes that they belong to the same organism!"
   ],
   "metadata": {
    "collapsed": false
   }
  },
  {
   "cell_type": "code",
   "execution_count": 22,
   "outputs": [
    {
     "data": {
      "text/plain": "         From          To              crc_hash source  \\\n290    D3YT24      Q19336  CRC-010FA1B1CE076FF8  query   \n308    Q8VYG7      F4K6B8  CRC-011FD4BC2B74DCBA  query   \n4643   Q8VCD0      P35918  CRC-11859F8A58A33A39  query   \n5053   Q09636      Q4JFH9  CRC-1307E916ECFB95E5  query   \n5054   Q4JFI0      Q4JFH9  CRC-1307E916ECFB95E5  query   \n...       ...         ...                   ...    ...   \n56899  H2KY85      H2KY84  CRC-D8EF18E9C64C97E4  query   \n58311  Q65XX0      H2KY86  CRC-DE32173B3E42F773  query   \n59093  Q9LZG3  A0A1I9LQ12  CRC-E0F58B9B008C14DA  query   \n60081  G5EGU6      G5EGB2  CRC-E48DFFA50437E78F  query   \n63938  Q7F2P0      Q7F1Q9  CRC-F33E61D1C989419F  query   \n\n                                             description     ox  \n290    sp|Q19336|PCGF3_CAEEL Polycomb group RING fing...   6239  \n308    sp|F4K6B8|RGI4_ARATH Leucine-rich repeat recep...   3702  \n4643   sp|P35918|VGFR2_MOUSE Vascular endothelial gro...  10090  \n5053   sp|Q4JFH9|CRH2_CAEEL CREB homolog crh-2 OS=Cae...   6239  \n5054   sp|Q4JFH9|CRH2_CAEEL CREB homolog crh-2 OS=Cae...   6239  \n...                                                  ...    ...  \n56899  sp|H2KY84|CMTA1_CAEEL Calmodulin-binding trans...   6239  \n58311  sp|H2KY86|HELQ_CAEEL Helicase POLQ-like OS=Cae...   6239  \n59093  sp|A0A1I9LQ12|O3L2_ARATH Protein OXIDATIVE STR...   3702  \n60081  sp|G5EGB2|LIN29_CAEEL Zinc finger transcriptio...   6239  \n63938  tr|Q7F1Q9|Q7F1Q9_ORYSJ Os01g0382000 protein OS...  39947  \n\n[72 rows x 6 columns]",
      "text/html": "<div>\n<style scoped>\n    .dataframe tbody tr th:only-of-type {\n        vertical-align: middle;\n    }\n\n    .dataframe tbody tr th {\n        vertical-align: top;\n    }\n\n    .dataframe thead th {\n        text-align: right;\n    }\n</style>\n<table border=\"1\" class=\"dataframe\">\n  <thead>\n    <tr style=\"text-align: right;\">\n      <th></th>\n      <th>From</th>\n      <th>To</th>\n      <th>crc_hash</th>\n      <th>source</th>\n      <th>description</th>\n      <th>ox</th>\n    </tr>\n  </thead>\n  <tbody>\n    <tr>\n      <th>290</th>\n      <td>D3YT24</td>\n      <td>Q19336</td>\n      <td>CRC-010FA1B1CE076FF8</td>\n      <td>query</td>\n      <td>sp|Q19336|PCGF3_CAEEL Polycomb group RING fing...</td>\n      <td>6239</td>\n    </tr>\n    <tr>\n      <th>308</th>\n      <td>Q8VYG7</td>\n      <td>F4K6B8</td>\n      <td>CRC-011FD4BC2B74DCBA</td>\n      <td>query</td>\n      <td>sp|F4K6B8|RGI4_ARATH Leucine-rich repeat recep...</td>\n      <td>3702</td>\n    </tr>\n    <tr>\n      <th>4643</th>\n      <td>Q8VCD0</td>\n      <td>P35918</td>\n      <td>CRC-11859F8A58A33A39</td>\n      <td>query</td>\n      <td>sp|P35918|VGFR2_MOUSE Vascular endothelial gro...</td>\n      <td>10090</td>\n    </tr>\n    <tr>\n      <th>5053</th>\n      <td>Q09636</td>\n      <td>Q4JFH9</td>\n      <td>CRC-1307E916ECFB95E5</td>\n      <td>query</td>\n      <td>sp|Q4JFH9|CRH2_CAEEL CREB homolog crh-2 OS=Cae...</td>\n      <td>6239</td>\n    </tr>\n    <tr>\n      <th>5054</th>\n      <td>Q4JFI0</td>\n      <td>Q4JFH9</td>\n      <td>CRC-1307E916ECFB95E5</td>\n      <td>query</td>\n      <td>sp|Q4JFH9|CRH2_CAEEL CREB homolog crh-2 OS=Cae...</td>\n      <td>6239</td>\n    </tr>\n    <tr>\n      <th>...</th>\n      <td>...</td>\n      <td>...</td>\n      <td>...</td>\n      <td>...</td>\n      <td>...</td>\n      <td>...</td>\n    </tr>\n    <tr>\n      <th>56899</th>\n      <td>H2KY85</td>\n      <td>H2KY84</td>\n      <td>CRC-D8EF18E9C64C97E4</td>\n      <td>query</td>\n      <td>sp|H2KY84|CMTA1_CAEEL Calmodulin-binding trans...</td>\n      <td>6239</td>\n    </tr>\n    <tr>\n      <th>58311</th>\n      <td>Q65XX0</td>\n      <td>H2KY86</td>\n      <td>CRC-DE32173B3E42F773</td>\n      <td>query</td>\n      <td>sp|H2KY86|HELQ_CAEEL Helicase POLQ-like OS=Cae...</td>\n      <td>6239</td>\n    </tr>\n    <tr>\n      <th>59093</th>\n      <td>Q9LZG3</td>\n      <td>A0A1I9LQ12</td>\n      <td>CRC-E0F58B9B008C14DA</td>\n      <td>query</td>\n      <td>sp|A0A1I9LQ12|O3L2_ARATH Protein OXIDATIVE STR...</td>\n      <td>3702</td>\n    </tr>\n    <tr>\n      <th>60081</th>\n      <td>G5EGU6</td>\n      <td>G5EGB2</td>\n      <td>CRC-E48DFFA50437E78F</td>\n      <td>query</td>\n      <td>sp|G5EGB2|LIN29_CAEEL Zinc finger transcriptio...</td>\n      <td>6239</td>\n    </tr>\n    <tr>\n      <th>63938</th>\n      <td>Q7F2P0</td>\n      <td>Q7F1Q9</td>\n      <td>CRC-F33E61D1C989419F</td>\n      <td>query</td>\n      <td>tr|Q7F1Q9|Q7F1Q9_ORYSJ Os01g0382000 protein OS...</td>\n      <td>39947</td>\n    </tr>\n  </tbody>\n</table>\n<p>72 rows × 6 columns</p>\n</div>"
     },
     "execution_count": 22,
     "metadata": {},
     "output_type": "execute_result"
    }
   ],
   "source": [
    "upmp.loc[upmp.From != upmp.To].sort_values(by='crc_hash')"
   ],
   "metadata": {
    "collapsed": false
   }
  },
  {
   "cell_type": "code",
   "execution_count": 23,
   "outputs": [
    {
     "data": {
      "text/plain": "array(['query'], dtype=object)"
     },
     "execution_count": 23,
     "metadata": {},
     "output_type": "execute_result"
    }
   ],
   "source": [
    "upmp.loc[upmp.From != upmp.To, 'source'].unique()"
   ],
   "metadata": {
    "collapsed": false
   }
  },
  {
   "cell_type": "code",
   "execution_count": 24,
   "outputs": [],
   "source": [
    "# make a species lookup\n",
    "ox = upmp[['From', 'ox']].set_index('From').to_dict()['ox']"
   ],
   "metadata": {
    "collapsed": false
   }
  },
  {
   "cell_type": "code",
   "execution_count": 25,
   "outputs": [
    {
     "data": {
      "text/plain": "      UniprotID_A UniprotID_B  species  species_A  species_B\n26105  A0A087WVE9      Q13137     9606       9598       9606\n26106  A0A087WVE9      Q01850     9606       9598       9606\n26107  A0A087WVE9      Q6P2R3     9606       9598       9606\n26108  A0A087WVE9      Q96MT8     9606       9598       9606\n26109  A0A087WVE9      Q13363     9606       9598       9606\n...           ...         ...      ...        ...        ...\n2537       C0H4E8      Q8IHN6    36329    1036723      36329\n2538       C0H4E8      Q8I2W4    36329    1036723      36329\n2620       Q8I398      Q8IK79    36329      36329       5843\n2624       Q8I2V4      Q8IK80    36329      36329       5843\n2647       Q8I0U8      Q8I5Y4    36329      36329    1036723\n\n[90 rows x 5 columns]",
      "text/html": "<div>\n<style scoped>\n    .dataframe tbody tr th:only-of-type {\n        vertical-align: middle;\n    }\n\n    .dataframe tbody tr th {\n        vertical-align: top;\n    }\n\n    .dataframe thead th {\n        text-align: right;\n    }\n</style>\n<table border=\"1\" class=\"dataframe\">\n  <thead>\n    <tr style=\"text-align: right;\">\n      <th></th>\n      <th>UniprotID_A</th>\n      <th>UniprotID_B</th>\n      <th>species</th>\n      <th>species_A</th>\n      <th>species_B</th>\n    </tr>\n  </thead>\n  <tbody>\n    <tr>\n      <th>26105</th>\n      <td>A0A087WVE9</td>\n      <td>Q13137</td>\n      <td>9606</td>\n      <td>9598</td>\n      <td>9606</td>\n    </tr>\n    <tr>\n      <th>26106</th>\n      <td>A0A087WVE9</td>\n      <td>Q01850</td>\n      <td>9606</td>\n      <td>9598</td>\n      <td>9606</td>\n    </tr>\n    <tr>\n      <th>26107</th>\n      <td>A0A087WVE9</td>\n      <td>Q6P2R3</td>\n      <td>9606</td>\n      <td>9598</td>\n      <td>9606</td>\n    </tr>\n    <tr>\n      <th>26108</th>\n      <td>A0A087WVE9</td>\n      <td>Q96MT8</td>\n      <td>9606</td>\n      <td>9598</td>\n      <td>9606</td>\n    </tr>\n    <tr>\n      <th>26109</th>\n      <td>A0A087WVE9</td>\n      <td>Q13363</td>\n      <td>9606</td>\n      <td>9598</td>\n      <td>9606</td>\n    </tr>\n    <tr>\n      <th>...</th>\n      <td>...</td>\n      <td>...</td>\n      <td>...</td>\n      <td>...</td>\n      <td>...</td>\n    </tr>\n    <tr>\n      <th>2537</th>\n      <td>C0H4E8</td>\n      <td>Q8IHN6</td>\n      <td>36329</td>\n      <td>1036723</td>\n      <td>36329</td>\n    </tr>\n    <tr>\n      <th>2538</th>\n      <td>C0H4E8</td>\n      <td>Q8I2W4</td>\n      <td>36329</td>\n      <td>1036723</td>\n      <td>36329</td>\n    </tr>\n    <tr>\n      <th>2620</th>\n      <td>Q8I398</td>\n      <td>Q8IK79</td>\n      <td>36329</td>\n      <td>36329</td>\n      <td>5843</td>\n    </tr>\n    <tr>\n      <th>2624</th>\n      <td>Q8I2V4</td>\n      <td>Q8IK80</td>\n      <td>36329</td>\n      <td>36329</td>\n      <td>5843</td>\n    </tr>\n    <tr>\n      <th>2647</th>\n      <td>Q8I0U8</td>\n      <td>Q8I5Y4</td>\n      <td>36329</td>\n      <td>36329</td>\n      <td>1036723</td>\n    </tr>\n  </tbody>\n</table>\n<p>90 rows × 5 columns</p>\n</div>"
     },
     "execution_count": 25,
     "metadata": {},
     "output_type": "execute_result"
    }
   ],
   "source": [
    "for ppis in [noisi_ppis, isp_ppis]:\n",
    "    for ch in 'AB':\n",
    "        ppis[f'species_{ch}'] = ppis[f'UniprotID_{ch}'].apply(ox.get)\n",
    "noisi_ppis.loc[(noisi_ppis.species_A != noisi_ppis.species_B) | (noisi_ppis.species_B != noisi_ppis.species)]"
   ],
   "metadata": {
    "collapsed": false
   }
  },
  {
   "cell_type": "markdown",
   "source": [
    "This is interesting to see! But still it's just a few."
   ],
   "metadata": {
    "collapsed": false
   }
  },
  {
   "cell_type": "code",
   "execution_count": 26,
   "outputs": [
    {
     "data": {
      "text/plain": "         species\nalias           \n9598        9606\n5843       36329\n36329      36329\n1036725    36329\n137071     36329\n1036723    36329\n9606        9606",
      "text/html": "<div>\n<style scoped>\n    .dataframe tbody tr th:only-of-type {\n        vertical-align: middle;\n    }\n\n    .dataframe tbody tr th {\n        vertical-align: top;\n    }\n\n    .dataframe thead th {\n        text-align: right;\n    }\n</style>\n<table border=\"1\" class=\"dataframe\">\n  <thead>\n    <tr style=\"text-align: right;\">\n      <th></th>\n      <th>species</th>\n    </tr>\n    <tr>\n      <th>alias</th>\n      <th></th>\n    </tr>\n  </thead>\n  <tbody>\n    <tr>\n      <th>9598</th>\n      <td>9606</td>\n    </tr>\n    <tr>\n      <th>5843</th>\n      <td>36329</td>\n    </tr>\n    <tr>\n      <th>36329</th>\n      <td>36329</td>\n    </tr>\n    <tr>\n      <th>1036725</th>\n      <td>36329</td>\n    </tr>\n    <tr>\n      <th>137071</th>\n      <td>36329</td>\n    </tr>\n    <tr>\n      <th>1036723</th>\n      <td>36329</td>\n    </tr>\n    <tr>\n      <th>9606</th>\n      <td>9606</td>\n    </tr>\n  </tbody>\n</table>\n</div>"
     },
     "execution_count": 26,
     "metadata": {},
     "output_type": "execute_result"
    }
   ],
   "source": [
    "(noisi_ppis.loc[(noisi_ppis.species_A != noisi_ppis.species_B),\n",
    "                ['species', 'species_A', 'species_B']]\n",
    " .melt(id_vars='species', value_name='alias')[['species', 'alias']]\n",
    " .drop_duplicates().set_index('alias'))"
   ],
   "metadata": {
    "collapsed": false
   }
  },
  {
   "cell_type": "code",
   "execution_count": 27,
   "outputs": [
    {
     "data": {
      "text/plain": "{9598: 9606,\n 5843: 36329,\n 36329: 36329,\n 1036725: 36329,\n 137071: 36329,\n 1036723: 36329,\n 9606: 9606}"
     },
     "execution_count": 27,
     "metadata": {},
     "output_type": "execute_result"
    }
   ],
   "source": [
    "aliases = (noisi_ppis.loc[(noisi_ppis.species_A != noisi_ppis.species_B),\n",
    "                          ['species', 'species_A', 'species_B']]\n",
    "    .melt(id_vars='species', value_name='alias')[['species', 'alias']]\n",
    "    .drop_duplicates().set_index('alias').to_dict()['species'])\n",
    "# if 9598 in aliases and aliases[9598] == 9606:\n",
    "#     aliases.pop(9598)\n",
    "aliases"
   ],
   "metadata": {
    "collapsed": false
   }
  },
  {
   "cell_type": "markdown",
   "source": [
    "A check shows that those are in fact mostly varieties of Plasmodium, and some monkeys.\n",
    "Let's use those as aliases!\n",
    "\n",
    "    5843    Plasmodium falciparum NF54\n",
    "    137071  Plasmodium falciparum HB3\n",
    "    1036723 Plasmodium falciparum Vietnam Oak-Knoll (FVO)\n",
    "    1036725 Plasmodium falciparum Tanzania (2000708)\n",
    "    9598    chimp\n",
    "    60711   meerkat"
   ],
   "metadata": {
    "collapsed": false
   }
  },
  {
   "cell_type": "code",
   "execution_count": 28,
   "outputs": [],
   "source": [
    "for ppis in [noisi_ppis, isp_ppis]:\n",
    "    for ch in 'AB':\n",
    "        ppis[f'species_{ch}'] = ppis[f'species_{ch}'].apply(lambda sp: aliases.get(sp, sp))"
   ],
   "metadata": {
    "collapsed": false
   }
  },
  {
   "cell_type": "markdown",
   "source": [
    "Now isolating the inter-species PPIs is super easy:"
   ],
   "metadata": {
    "collapsed": false
   }
  },
  {
   "cell_type": "code",
   "execution_count": 29,
   "outputs": [
    {
     "data": {
      "text/plain": "    UniprotID_A UniprotID_B  species_A  species_B\n131      A0JLQ5      Q5NGX7       9606     177416\n143      A0JNV7      Q5NFY7       9606     177416\n144      A0JNW5      Q8ZAF0       9606        632\n161      A0PJD3      Q81WU4       9606       1392\n162  A0A6L7HKA9      A0PJD3       1392       9606\n..          ...         ...        ...        ...\n96       P04585      Q09472      11706       9606\n97       P04608      Q9P1T7      11706       9606\n98       P04591      Q9P253      11706       9606\n99       P04591      Q7Z3U7      11706       9606\n100      P04601      Q8WUM4      11706       9606\n\n[38544 rows x 4 columns]",
      "text/html": "<div>\n<style scoped>\n    .dataframe tbody tr th:only-of-type {\n        vertical-align: middle;\n    }\n\n    .dataframe tbody tr th {\n        vertical-align: top;\n    }\n\n    .dataframe thead th {\n        text-align: right;\n    }\n</style>\n<table border=\"1\" class=\"dataframe\">\n  <thead>\n    <tr style=\"text-align: right;\">\n      <th></th>\n      <th>UniprotID_A</th>\n      <th>UniprotID_B</th>\n      <th>species_A</th>\n      <th>species_B</th>\n    </tr>\n  </thead>\n  <tbody>\n    <tr>\n      <th>131</th>\n      <td>A0JLQ5</td>\n      <td>Q5NGX7</td>\n      <td>9606</td>\n      <td>177416</td>\n    </tr>\n    <tr>\n      <th>143</th>\n      <td>A0JNV7</td>\n      <td>Q5NFY7</td>\n      <td>9606</td>\n      <td>177416</td>\n    </tr>\n    <tr>\n      <th>144</th>\n      <td>A0JNW5</td>\n      <td>Q8ZAF0</td>\n      <td>9606</td>\n      <td>632</td>\n    </tr>\n    <tr>\n      <th>161</th>\n      <td>A0PJD3</td>\n      <td>Q81WU4</td>\n      <td>9606</td>\n      <td>1392</td>\n    </tr>\n    <tr>\n      <th>162</th>\n      <td>A0A6L7HKA9</td>\n      <td>A0PJD3</td>\n      <td>1392</td>\n      <td>9606</td>\n    </tr>\n    <tr>\n      <th>...</th>\n      <td>...</td>\n      <td>...</td>\n      <td>...</td>\n      <td>...</td>\n    </tr>\n    <tr>\n      <th>96</th>\n      <td>P04585</td>\n      <td>Q09472</td>\n      <td>11706</td>\n      <td>9606</td>\n    </tr>\n    <tr>\n      <th>97</th>\n      <td>P04608</td>\n      <td>Q9P1T7</td>\n      <td>11706</td>\n      <td>9606</td>\n    </tr>\n    <tr>\n      <th>98</th>\n      <td>P04591</td>\n      <td>Q9P253</td>\n      <td>11706</td>\n      <td>9606</td>\n    </tr>\n    <tr>\n      <th>99</th>\n      <td>P04591</td>\n      <td>Q7Z3U7</td>\n      <td>11706</td>\n      <td>9606</td>\n    </tr>\n    <tr>\n      <th>100</th>\n      <td>P04601</td>\n      <td>Q8WUM4</td>\n      <td>11706</td>\n      <td>9606</td>\n    </tr>\n  </tbody>\n</table>\n<p>38544 rows × 4 columns</p>\n</div>"
     },
     "execution_count": 29,
     "metadata": {},
     "output_type": "execute_result"
    }
   ],
   "source": [
    "inter_ppis = (isp_ppis.loc[isp_ppis.species_A != isp_ppis.species_B]\n",
    "              .copy().drop('species', axis=1, errors='ignore'))\n",
    "intra_ppis = noisi_ppis.copy().drop(['species_A', 'species_B'], axis=1, errors='ignore')\n",
    "inter_ppis  # 38544"
   ],
   "metadata": {
    "collapsed": false
   }
  },
  {
   "cell_type": "code",
   "execution_count": 30,
   "outputs": [
    {
     "data": {
      "text/plain": "(296653, 296654)"
     },
     "execution_count": 30,
     "metadata": {},
     "output_type": "execute_result"
    }
   ],
   "source": [
    "len(noisi_ppis), len(isp_ppis.loc[isp_ppis.species_A == isp_ppis.species_B])"
   ],
   "metadata": {
    "collapsed": false
   }
  },
  {
   "cell_type": "code",
   "execution_count": 31,
   "outputs": [
    {
     "name": "stdout",
     "output_type": "stream",
     "text": [
      "296654\n"
     ]
    },
    {
     "data": {
      "text/plain": "  UniprotID_A UniprotID_B  species_x  species_A_x  species_B_x  species_y  \\\n0      B7Z2Y1      Q14160       9606         9606         9606       9606   \n1      Q14155      Q14160       9606         9606         9606       9606   \n2      Q14160      Q7Z628       9606         9606         9606       9606   \n3      P22460      Q14160       9606         9606         9606       9606   \n4      Q14160      Q96DN2       9606         9606         9606       9606   \n\n   species_A_y  species_B_y _merge  \n0         9606         9606   both  \n1         9606         9606   both  \n2         9606         9606   both  \n3         9606         9606   both  \n4         9606         9606   both  ",
      "text/html": "<div>\n<style scoped>\n    .dataframe tbody tr th:only-of-type {\n        vertical-align: middle;\n    }\n\n    .dataframe tbody tr th {\n        vertical-align: top;\n    }\n\n    .dataframe thead th {\n        text-align: right;\n    }\n</style>\n<table border=\"1\" class=\"dataframe\">\n  <thead>\n    <tr style=\"text-align: right;\">\n      <th></th>\n      <th>UniprotID_A</th>\n      <th>UniprotID_B</th>\n      <th>species_x</th>\n      <th>species_A_x</th>\n      <th>species_B_x</th>\n      <th>species_y</th>\n      <th>species_A_y</th>\n      <th>species_B_y</th>\n      <th>_merge</th>\n    </tr>\n  </thead>\n  <tbody>\n    <tr>\n      <th>0</th>\n      <td>B7Z2Y1</td>\n      <td>Q14160</td>\n      <td>9606</td>\n      <td>9606</td>\n      <td>9606</td>\n      <td>9606</td>\n      <td>9606</td>\n      <td>9606</td>\n      <td>both</td>\n    </tr>\n    <tr>\n      <th>1</th>\n      <td>Q14155</td>\n      <td>Q14160</td>\n      <td>9606</td>\n      <td>9606</td>\n      <td>9606</td>\n      <td>9606</td>\n      <td>9606</td>\n      <td>9606</td>\n      <td>both</td>\n    </tr>\n    <tr>\n      <th>2</th>\n      <td>Q14160</td>\n      <td>Q7Z628</td>\n      <td>9606</td>\n      <td>9606</td>\n      <td>9606</td>\n      <td>9606</td>\n      <td>9606</td>\n      <td>9606</td>\n      <td>both</td>\n    </tr>\n    <tr>\n      <th>3</th>\n      <td>P22460</td>\n      <td>Q14160</td>\n      <td>9606</td>\n      <td>9606</td>\n      <td>9606</td>\n      <td>9606</td>\n      <td>9606</td>\n      <td>9606</td>\n      <td>both</td>\n    </tr>\n    <tr>\n      <th>4</th>\n      <td>Q14160</td>\n      <td>Q96DN2</td>\n      <td>9606</td>\n      <td>9606</td>\n      <td>9606</td>\n      <td>9606</td>\n      <td>9606</td>\n      <td>9606</td>\n      <td>both</td>\n    </tr>\n  </tbody>\n</table>\n</div>"
     },
     "execution_count": 31,
     "metadata": {},
     "output_type": "execute_result"
    }
   ],
   "source": [
    "joined = noisi_ppis.merge(isp_ppis.loc[isp_ppis.species_A == isp_ppis.species_B],\n",
    "                          how='outer',\n",
    "                          on=['UniprotID_A', 'UniprotID_B'], indicator=True).convert_dtypes()\n",
    "print(len(joined))\n",
    "joined.head()"
   ],
   "metadata": {
    "collapsed": false
   }
  },
  {
   "cell_type": "code",
   "execution_count": 32,
   "outputs": [
    {
     "data": {
      "text/plain": "       UniprotID_A UniprotID_B  species_x  species_A_x  species_B_x  \\\n296653      H2QD90      P63000       <NA>         <NA>         <NA>   \n\n        species_y  species_A_y  species_B_y      _merge  \n296653       9606         9606         9606  right_only  ",
      "text/html": "<div>\n<style scoped>\n    .dataframe tbody tr th:only-of-type {\n        vertical-align: middle;\n    }\n\n    .dataframe tbody tr th {\n        vertical-align: top;\n    }\n\n    .dataframe thead th {\n        text-align: right;\n    }\n</style>\n<table border=\"1\" class=\"dataframe\">\n  <thead>\n    <tr style=\"text-align: right;\">\n      <th></th>\n      <th>UniprotID_A</th>\n      <th>UniprotID_B</th>\n      <th>species_x</th>\n      <th>species_A_x</th>\n      <th>species_B_x</th>\n      <th>species_y</th>\n      <th>species_A_y</th>\n      <th>species_B_y</th>\n      <th>_merge</th>\n    </tr>\n  </thead>\n  <tbody>\n    <tr>\n      <th>296653</th>\n      <td>H2QD90</td>\n      <td>P63000</td>\n      <td>&lt;NA&gt;</td>\n      <td>&lt;NA&gt;</td>\n      <td>&lt;NA&gt;</td>\n      <td>9606</td>\n      <td>9606</td>\n      <td>9606</td>\n      <td>right_only</td>\n    </tr>\n  </tbody>\n</table>\n</div>"
     },
     "execution_count": 32,
     "metadata": {},
     "output_type": "execute_result"
    }
   ],
   "source": [
    "joined.loc[joined._merge != 'both']"
   ],
   "metadata": {
    "collapsed": false
   }
  },
  {
   "cell_type": "code",
   "execution_count": 33,
   "outputs": [
    {
     "name": "stdout",
     "output_type": "stream",
     "text": [
      "2229268\tP63000\tRAC1_HUMAN\tRAC1\tH2QD90\tH2QD90_PANTR\tARHGAP27\t1\t1\t1\t0\t1\r\n"
     ]
    }
   ],
   "source": [
    "!grep \"P63000\" \"apid_isp/ISI/apid_q1/9606_Q1.txt\" | grep \"H2Q\""
   ],
   "metadata": {
    "collapsed": false
   }
  },
  {
   "cell_type": "code",
   "execution_count": 34,
   "outputs": [],
   "source": [
    "!grep \"P63000\" \"apid_isp/noISI/apid_q1/9606_noISI_Q1.txt\" | grep \"H2Q\""
   ],
   "metadata": {
    "collapsed": false
   }
  },
  {
   "cell_type": "markdown",
   "source": [
    "So aliasing got this one wrong. No matter!"
   ],
   "metadata": {
    "collapsed": false
   }
  },
  {
   "cell_type": "code",
   "execution_count": 33,
   "outputs": [
    {
     "data": {
      "text/plain": "22775"
     },
     "execution_count": 33,
     "metadata": {},
     "output_type": "execute_result"
    }
   ],
   "source": [
    "len(inter_ppis.drop_duplicates())"
   ],
   "metadata": {
    "collapsed": false
   }
  },
  {
   "cell_type": "code",
   "execution_count": 34,
   "outputs": [
    {
     "data": {
      "text/plain": "22775"
     },
     "execution_count": 34,
     "metadata": {},
     "output_type": "execute_result"
    }
   ],
   "source": [
    "# order the species and drop duplicates\n",
    "ab = lambda ab: [a + b for a, b in product(['UniprotID_', 'species_'], ab)]\n",
    "inter_ppis.loc[inter_ppis.species_A > inter_ppis.species_B, ab('AB')] = inter_ppis.loc[\n",
    "    inter_ppis.species_A > inter_ppis.species_B, ab('BA')].values\n",
    "inter_ppis = inter_ppis.drop_duplicates().convert_dtypes()\n",
    "len(inter_ppis)  # 22775"
   ],
   "metadata": {
    "collapsed": false
   }
  },
  {
   "cell_type": "markdown",
   "source": [
    "Dropping duplicates before re-ordering would have directly resulted in 22775 records as well - This is due to records only always appearing in the same direction across multiple files from APID (both `Q1`s)!"
   ],
   "metadata": {
    "collapsed": false
   }
  },
  {
   "cell_type": "markdown",
   "source": [
    "#### limit to reasonable 32 spp"
   ],
   "metadata": {
    "collapsed": false
   }
  },
  {
   "cell_type": "code",
   "execution_count": 35,
   "outputs": [
    {
     "data": {
      "text/plain": "13713"
     },
     "execution_count": 35,
     "metadata": {},
     "output_type": "execute_result"
    }
   ],
   "source": [
    "# limit to reasonable species\n",
    "inter_ppis = inter_ppis.loc[(inter_ppis.species_A.isin(c.test_species))\n",
    "                            & (inter_ppis.species_B.isin(c.test_species))]\n",
    "len(inter_ppis)  # 13713"
   ],
   "metadata": {
    "collapsed": false
   }
  },
  {
   "cell_type": "code",
   "execution_count": 36,
   "outputs": [
    {
     "data": {
      "text/plain": "                     hash_A                hash_B  species_A  species_B\n0      CRC-00053DA2C582D0E6  CRC-9F206A319B7E3DD8       1392       9606\n1      CRC-0008E21D66E8CFEC  CRC-58C50DEBDE83D5F3       9606      10116\n2      CRC-0008E21D66E8CFEC  CRC-B74C3858C20EF82C       9606      11706\n3      CRC-000E386A13F6E3E9  CRC-0B0C581E2454631E        632       9606\n4      CRC-000E386A13F6E3E9  CRC-EC228BD0C9E643F1        632       9606\n...                     ...                   ...        ...        ...\n13695  CRC-FFC2D74E485E2B61  CRC-E173C872D195F028        632       9606\n13696  CRC-FFC2D74E485E2B61  CRC-F36EE9FBF64DF162        632       9606\n13697  CRC-FFD857F4C11BC0DB  CRC-A3C2B941BECDB178       9606      10090\n13698  CRC-FFE545D1BEC87892  CRC-E69F1357D72E94F4       9606      10377\n13699  CRC-FFEF4D2E378A44FA  CRC-7958E91A64A4B68B       1392       9606\n\n[13700 rows x 4 columns]",
      "text/html": "<div>\n<style scoped>\n    .dataframe tbody tr th:only-of-type {\n        vertical-align: middle;\n    }\n\n    .dataframe tbody tr th {\n        vertical-align: top;\n    }\n\n    .dataframe thead th {\n        text-align: right;\n    }\n</style>\n<table border=\"1\" class=\"dataframe\">\n  <thead>\n    <tr style=\"text-align: right;\">\n      <th></th>\n      <th>hash_A</th>\n      <th>hash_B</th>\n      <th>species_A</th>\n      <th>species_B</th>\n    </tr>\n  </thead>\n  <tbody>\n    <tr>\n      <th>0</th>\n      <td>CRC-00053DA2C582D0E6</td>\n      <td>CRC-9F206A319B7E3DD8</td>\n      <td>1392</td>\n      <td>9606</td>\n    </tr>\n    <tr>\n      <th>1</th>\n      <td>CRC-0008E21D66E8CFEC</td>\n      <td>CRC-58C50DEBDE83D5F3</td>\n      <td>9606</td>\n      <td>10116</td>\n    </tr>\n    <tr>\n      <th>2</th>\n      <td>CRC-0008E21D66E8CFEC</td>\n      <td>CRC-B74C3858C20EF82C</td>\n      <td>9606</td>\n      <td>11706</td>\n    </tr>\n    <tr>\n      <th>3</th>\n      <td>CRC-000E386A13F6E3E9</td>\n      <td>CRC-0B0C581E2454631E</td>\n      <td>632</td>\n      <td>9606</td>\n    </tr>\n    <tr>\n      <th>4</th>\n      <td>CRC-000E386A13F6E3E9</td>\n      <td>CRC-EC228BD0C9E643F1</td>\n      <td>632</td>\n      <td>9606</td>\n    </tr>\n    <tr>\n      <th>...</th>\n      <td>...</td>\n      <td>...</td>\n      <td>...</td>\n      <td>...</td>\n    </tr>\n    <tr>\n      <th>13695</th>\n      <td>CRC-FFC2D74E485E2B61</td>\n      <td>CRC-E173C872D195F028</td>\n      <td>632</td>\n      <td>9606</td>\n    </tr>\n    <tr>\n      <th>13696</th>\n      <td>CRC-FFC2D74E485E2B61</td>\n      <td>CRC-F36EE9FBF64DF162</td>\n      <td>632</td>\n      <td>9606</td>\n    </tr>\n    <tr>\n      <th>13697</th>\n      <td>CRC-FFD857F4C11BC0DB</td>\n      <td>CRC-A3C2B941BECDB178</td>\n      <td>9606</td>\n      <td>10090</td>\n    </tr>\n    <tr>\n      <th>13698</th>\n      <td>CRC-FFE545D1BEC87892</td>\n      <td>CRC-E69F1357D72E94F4</td>\n      <td>9606</td>\n      <td>10377</td>\n    </tr>\n    <tr>\n      <th>13699</th>\n      <td>CRC-FFEF4D2E378A44FA</td>\n      <td>CRC-7958E91A64A4B68B</td>\n      <td>1392</td>\n      <td>9606</td>\n    </tr>\n  </tbody>\n</table>\n<p>13700 rows × 4 columns</p>\n</div>"
     },
     "execution_count": 36,
     "metadata": {},
     "output_type": "execute_result"
    }
   ],
   "source": [
    "# map IDs to seq hashes\n",
    "hash_isp_ppis = ppis_to_hashes(inter_ppis, c.ip / 'apid' / 'apid.json',\n",
    "                               horizontal_sort=False, dedup=True)\n",
    "hash_isp_ppis  # 13700"
   ],
   "metadata": {
    "collapsed": false
   }
  },
  {
   "cell_type": "code",
   "execution_count": 37,
   "outputs": [
    {
     "data": {
      "text/plain": "                     hash_A                hash_B  species_A  species_B\n10200  CRC-C33CDD2C1B13C397  CRC-C33CDD2C1B13C397       9606      10090",
      "text/html": "<div>\n<style scoped>\n    .dataframe tbody tr th:only-of-type {\n        vertical-align: middle;\n    }\n\n    .dataframe tbody tr th {\n        vertical-align: top;\n    }\n\n    .dataframe thead th {\n        text-align: right;\n    }\n</style>\n<table border=\"1\" class=\"dataframe\">\n  <thead>\n    <tr style=\"text-align: right;\">\n      <th></th>\n      <th>hash_A</th>\n      <th>hash_B</th>\n      <th>species_A</th>\n      <th>species_B</th>\n    </tr>\n  </thead>\n  <tbody>\n    <tr>\n      <th>10200</th>\n      <td>CRC-C33CDD2C1B13C397</td>\n      <td>CRC-C33CDD2C1B13C397</td>\n      <td>9606</td>\n      <td>10090</td>\n    </tr>\n  </tbody>\n</table>\n</div>"
     },
     "execution_count": 37,
     "metadata": {},
     "output_type": "execute_result"
    }
   ],
   "source": [
    "hash_isp_ppis.loc[hash_isp_ppis.hash_A == hash_isp_ppis.hash_B]\n",
    "# oh for f*'s sake"
   ],
   "metadata": {
    "collapsed": false
   }
  },
  {
   "cell_type": "code",
   "execution_count": 38,
   "outputs": [],
   "source": [
    "hash_isp_ppis = drop_homodimers(hash_isp_ppis)"
   ],
   "metadata": {
    "collapsed": false
   }
  },
  {
   "cell_type": "code",
   "execution_count": 39,
   "outputs": [
    {
     "data": {
      "text/plain": "9606       12926\n632         3959\n1392        2989\n10090       2452\n559292      1934\n10116       1130\n333760       367\n9913         348\n3702         255\n10377        223\n7227         141\n11706         96\n9031          88\n868565        77\n8355          66\n9986          63\n39947         55\n284812        45\n10299         35\n6239          29\n272634        29\n37296         26\n83333         18\n7955          12\n2697049       12\n36329         11\n237561         5\n224308         4\n85962          2\n1111708        1\nName: value, dtype: int64"
     },
     "execution_count": 39,
     "metadata": {},
     "output_type": "execute_result"
    }
   ],
   "source": [
    "d1 = hash_isp_ppis[['species_A', 'species_B']].melt()['value'].value_counts()\n",
    "d1"
   ],
   "metadata": {
    "collapsed": false
   }
  },
  {
   "cell_type": "code",
   "execution_count": 40,
   "outputs": [
    {
     "data": {
      "text/plain": "species_A  species_B\n632        9606         3959\n1392       9606         2988\n9606       10090        2074\n           559292       1788\n           10116         836\n                        ... \n6239       9913            1\n1392       8355            1\n3702       10090           1\n           1111708         1\n10090      11706           1\nLength: 90, dtype: int64"
     },
     "execution_count": 40,
     "metadata": {},
     "output_type": "execute_result"
    }
   ],
   "source": [
    "d2 = hash_isp_ppis[['species_A', 'species_B']].value_counts()\n",
    "d2"
   ],
   "metadata": {
    "collapsed": false
   }
  },
  {
   "cell_type": "markdown",
   "source": [
    "#### read and filter sequences"
   ],
   "metadata": {
    "collapsed": false
   }
  },
  {
   "cell_type": "code",
   "execution_count": 41,
   "outputs": [
    {
     "data": {
      "text/plain": "10063"
     },
     "execution_count": 41,
     "metadata": {},
     "output_type": "execute_result"
    }
   ],
   "source": [
    "inter_hashes = set(np.unique(hash_isp_ppis.iloc[:, [0, 1]]))\n",
    "len(inter_hashes)  # 14313(?) for all, 10063 w/o"
   ],
   "metadata": {
    "collapsed": false
   }
  },
  {
   "cell_type": "code",
   "execution_count": 42,
   "outputs": [
    {
     "data": {
      "text/plain": "10063"
     },
     "execution_count": 42,
     "metadata": {},
     "output_type": "execute_result"
    }
   ],
   "source": [
    "fasta = SeqIO.to_dict(SeqIO.parse(c.ip / 'apid' / 'apid.hash.fasta', 'fasta'))\n",
    "fasta = {k: v for k, v in fasta.items() if k in inter_hashes}\n",
    "len(fasta)"
   ],
   "metadata": {
    "collapsed": false
   }
  },
  {
   "cell_type": "code",
   "execution_count": 43,
   "outputs": [
    {
     "name": "stdout",
     "output_type": "stream",
     "text": [
      "dropped 1718/13699 PPIs from length filtering\n",
      "dropped 0/9122 table IDs and 0/11981 rows, and 941/10063 sequence IDs\n"
     ]
    },
    {
     "data": {
      "text/plain": "<Figure size 576x201.6 with 3 Axes>",
      "image/png": "[encoded data removed]"
     },
     "metadata": {
      "needs_background": "light"
     },
     "output_type": "display_data"
    }
   ],
   "source": [
    "hash_isp_ppis, fasta, _ = filter_ppis_and_fasta_by_len(\n",
    "    hash_isp_ppis.copy(), fasta, c.min_seq_len, c.max_seq_len)"
   ],
   "metadata": {
    "collapsed": false
   }
  },
  {
   "cell_type": "code",
   "execution_count": 44,
   "outputs": [
    {
     "data": {
      "text/plain": "(11981, 9122)"
     },
     "execution_count": 44,
     "metadata": {},
     "output_type": "execute_result"
    }
   ],
   "source": [
    "len(hash_isp_ppis), len(fasta)"
   ],
   "metadata": {
    "collapsed": false
   }
  },
  {
   "cell_type": "code",
   "execution_count": 88,
   "outputs": [
    {
     "data": {
      "text/plain": "(PosixPath('apid_isp/apid_interspecies_raw.fasta'),\n PosixPath('apid_isp/apid_interspecies_raw.tsv'))"
     },
     "execution_count": 88,
     "metadata": {},
     "output_type": "execute_result"
    }
   ],
   "source": [
    "_ = SeqIO.write(values_sorted_by_key(fasta), c.isp_raw_fasta, 'fasta')\n",
    "hash_isp_ppis.to_csv(c.isp_raw_tsv, sep='\\t', header=True, index=False)\n",
    "c.isp_raw_fasta, c.isp_raw_tsv"
   ],
   "metadata": {
    "collapsed": false
   }
  },
  {
   "cell_type": "markdown",
   "source": [
    "#### cluster the positives"
   ],
   "metadata": {
    "collapsed": false
   }
  },
  {
   "cell_type": "code",
   "execution_count": 89,
   "outputs": [
    {
     "name": "stdout",
     "output_type": "stream",
     "text": [
      "\u001B[94mrostclust uniqueprot2d --hval-config-path hval_config.json apid_isp/apid_interspecies_raw.fasta apid_validation.fasta apid_isp/apid_interspecies_nr_val.fasta\u001B[0m\n",
      "using temporary directory apid_isp/apid_interspecies_rawb7g494tz\n",
      "generate alignments: 100%|██████████| 4/4 [02:55<00:00, 43.90s/it]\n",
      "extract hvals from alignments: 100%|██████████| 4/4 [00:00<00:00,  5.96it/s]\n",
      "\u001B[94m 6847/9122::4357 \u001B[0mnon-redundant in apid_isp/apid_interspecies_raw.fasta against apid_validation.fasta written to apid_isp/apid_interspecies_nr_val.fasta\n"
     ]
    }
   ],
   "source": [
    "# cluster against val\n",
    "run_uniqueprot2D(c.isp_raw_fasta, c.val_fasta, c.isp_nr_fasta,\n",
    "                 c.hval_config_path, not c.rostclust)"
   ],
   "metadata": {
    "collapsed": false
   }
  },
  {
   "cell_type": "code",
   "execution_count": 90,
   "outputs": [
    {
     "name": "stdout",
     "output_type": "stream",
     "text": [
      "\u001B[94mrostclust uniqueprot --hval-config-path hval_config.json apid_isp/apid_interspecies_nr_val.fasta apid_isp/apid_interspecies_rr_val.fasta\u001B[0m\n",
      "using temporary directory apid_isp/apid_interspecies_nr_valtvqxw4rn\n",
      "generate alignments: 100%|██████████| 3/3 [03:29<00:00, 69.85s/it]\n",
      "extract hvals from alignments: 100%|██████████| 3/3 [00:01<00:00,  1.81it/s]\n",
      "\u001B[94m 5032/6847 \u001B[0mnon-redundant in apid_isp/apid_interspecies_nr_val.fasta written to apid_isp/apid_interspecies_rr_val.fasta\n"
     ]
    }
   ],
   "source": [
    "# red-reduce\n",
    "run_uniqueprot(c.isp_nr_fasta, c.isp_rr_fasta,\n",
    "               c.hval_config_path, not c.rostclust)"
   ],
   "metadata": {
    "collapsed": false
   }
  },
  {
   "cell_type": "code",
   "execution_count": 91,
   "outputs": [
    {
     "name": "stdout",
     "output_type": "stream",
     "text": [
      "dropped 4090/9122 table IDs and 8557/11981 rows, and 1758/5032 sequence IDs\n"
     ]
    }
   ],
   "source": [
    "# shrink\n",
    "shrink_files_both_ways(c.isp_raw_tsv, c.isp_rr_fasta, c.isp_rr_tsv, c.isp_rr_fasta)"
   ],
   "metadata": {
    "collapsed": false
   }
  },
  {
   "cell_type": "code",
   "execution_count": 45,
   "outputs": [
    {
     "data": {
      "text/plain": "                    hash_A                hash_B  species_A  species_B  \\\n0     CRC-00053DA2C582D0E6  CRC-9F206A319B7E3DD8       1392       9606   \n1     CRC-001576EA78C61C85  CRC-9BD612534CD2C9EB       9606     333760   \n2     CRC-003F04A89D9D9298  CRC-5B57ABE4DF6E396E        632       9606   \n3     CRC-004D9CE1FF661B75  CRC-2BD0B32F33D454DA       1392       9606   \n4     CRC-0054C7CD3E6A8446  CRC-9BD612534CD2C9EB       9606     333760   \n...                    ...                   ...        ...        ...   \n3419  CRC-FF13DDD5EBE47754  CRC-A5409FAF1594854C       9606     559292   \n3420  CRC-FF6AE6EBC632C805  CRC-1D09F2E0987F003B       1392       9606   \n3421  CRC-FF6AE6EBC632C805  CRC-D33F31EDAEA77D2A       1392       9606   \n3422  CRC-FF7DA1DD115285DD  CRC-2F8D1C7169A7817E        632       9606   \n3423  CRC-FFC005B07CD5ABFC  CRC-13C0C905F585D23F       9606      10090   \n\n      minlen  maxlen  \n0        245    1429  \n1         98     230  \n2        622     800  \n3        798     891  \n4         98     119  \n...      ...     ...  \n3419     357     381  \n3420      88     829  \n3421      88     256  \n3422     155     375  \n3423     205    1471  \n\n[3424 rows x 6 columns]",
      "text/html": "<div>\n<style scoped>\n    .dataframe tbody tr th:only-of-type {\n        vertical-align: middle;\n    }\n\n    .dataframe tbody tr th {\n        vertical-align: top;\n    }\n\n    .dataframe thead th {\n        text-align: right;\n    }\n</style>\n<table border=\"1\" class=\"dataframe\">\n  <thead>\n    <tr style=\"text-align: right;\">\n      <th></th>\n      <th>hash_A</th>\n      <th>hash_B</th>\n      <th>species_A</th>\n      <th>species_B</th>\n      <th>minlen</th>\n      <th>maxlen</th>\n    </tr>\n  </thead>\n  <tbody>\n    <tr>\n      <th>0</th>\n      <td>CRC-00053DA2C582D0E6</td>\n      <td>CRC-9F206A319B7E3DD8</td>\n      <td>1392</td>\n      <td>9606</td>\n      <td>245</td>\n      <td>1429</td>\n    </tr>\n    <tr>\n      <th>1</th>\n      <td>CRC-001576EA78C61C85</td>\n      <td>CRC-9BD612534CD2C9EB</td>\n      <td>9606</td>\n      <td>333760</td>\n      <td>98</td>\n      <td>230</td>\n    </tr>\n    <tr>\n      <th>2</th>\n      <td>CRC-003F04A89D9D9298</td>\n      <td>CRC-5B57ABE4DF6E396E</td>\n      <td>632</td>\n      <td>9606</td>\n      <td>622</td>\n      <td>800</td>\n    </tr>\n    <tr>\n      <th>3</th>\n      <td>CRC-004D9CE1FF661B75</td>\n      <td>CRC-2BD0B32F33D454DA</td>\n      <td>1392</td>\n      <td>9606</td>\n      <td>798</td>\n      <td>891</td>\n    </tr>\n    <tr>\n      <th>4</th>\n      <td>CRC-0054C7CD3E6A8446</td>\n      <td>CRC-9BD612534CD2C9EB</td>\n      <td>9606</td>\n      <td>333760</td>\n      <td>98</td>\n      <td>119</td>\n    </tr>\n    <tr>\n      <th>...</th>\n      <td>...</td>\n      <td>...</td>\n      <td>...</td>\n      <td>...</td>\n      <td>...</td>\n      <td>...</td>\n    </tr>\n    <tr>\n      <th>3419</th>\n      <td>CRC-FF13DDD5EBE47754</td>\n      <td>CRC-A5409FAF1594854C</td>\n      <td>9606</td>\n      <td>559292</td>\n      <td>357</td>\n      <td>381</td>\n    </tr>\n    <tr>\n      <th>3420</th>\n      <td>CRC-FF6AE6EBC632C805</td>\n      <td>CRC-1D09F2E0987F003B</td>\n      <td>1392</td>\n      <td>9606</td>\n      <td>88</td>\n      <td>829</td>\n    </tr>\n    <tr>\n      <th>3421</th>\n      <td>CRC-FF6AE6EBC632C805</td>\n      <td>CRC-D33F31EDAEA77D2A</td>\n      <td>1392</td>\n      <td>9606</td>\n      <td>88</td>\n      <td>256</td>\n    </tr>\n    <tr>\n      <th>3422</th>\n      <td>CRC-FF7DA1DD115285DD</td>\n      <td>CRC-2F8D1C7169A7817E</td>\n      <td>632</td>\n      <td>9606</td>\n      <td>155</td>\n      <td>375</td>\n    </tr>\n    <tr>\n      <th>3423</th>\n      <td>CRC-FFC005B07CD5ABFC</td>\n      <td>CRC-13C0C905F585D23F</td>\n      <td>9606</td>\n      <td>10090</td>\n      <td>205</td>\n      <td>1471</td>\n    </tr>\n  </tbody>\n</table>\n<p>3424 rows × 6 columns</p>\n</div>"
     },
     "execution_count": 45,
     "metadata": {},
     "output_type": "execute_result"
    }
   ],
   "source": [
    "isp = pd.read_csv(c.isp_rr_tsv, sep='\\t', header=0)\n",
    "isp  # 3424"
   ],
   "metadata": {
    "collapsed": false
   }
  },
  {
   "cell_type": "code",
   "execution_count": 46,
   "outputs": [
    {
     "data": {
      "text/plain": "24"
     },
     "execution_count": 46,
     "metadata": {},
     "output_type": "execute_result"
    }
   ],
   "source": [
    "c.test_species = set(np.unique(isp[['species_A', 'species_B']]))\n",
    "len(c.test_species)"
   ],
   "metadata": {
    "collapsed": false
   }
  },
  {
   "cell_type": "code",
   "execution_count": 47,
   "outputs": [
    {
     "data": {
      "text/plain": "9606       3380\n632        1391\n559292      756\n1392        682\n10090       214\n333760      179\n10377        81\n11706        40\n10116        27\n3702         16\n7227         12\n10299        12\n9986         10\n9913          9\n6239          8\n284812        6\n272634        6\n9031          5\n2697049       4\n8355          3\n37296         3\n83333         2\n7955          1\n1111708       1\nName: value, dtype: int64"
     },
     "execution_count": 47,
     "metadata": {},
     "output_type": "execute_result"
    }
   ],
   "source": [
    "isp[['species_A', 'species_B']].melt()['value'].value_counts()"
   ],
   "metadata": {
    "collapsed": false
   }
  },
  {
   "cell_type": "code",
   "execution_count": 48,
   "outputs": [
    {
     "data": {
      "text/plain": "Empty DataFrame\nColumns: [hash_A, hash_B, species_A, species_B, minlen, maxlen]\nIndex: []",
      "text/html": "<div>\n<style scoped>\n    .dataframe tbody tr th:only-of-type {\n        vertical-align: middle;\n    }\n\n    .dataframe tbody tr th {\n        vertical-align: top;\n    }\n\n    .dataframe thead th {\n        text-align: right;\n    }\n</style>\n<table border=\"1\" class=\"dataframe\">\n  <thead>\n    <tr style=\"text-align: right;\">\n      <th></th>\n      <th>hash_A</th>\n      <th>hash_B</th>\n      <th>species_A</th>\n      <th>species_B</th>\n      <th>minlen</th>\n      <th>maxlen</th>\n    </tr>\n  </thead>\n  <tbody>\n  </tbody>\n</table>\n</div>"
     },
     "execution_count": 48,
     "metadata": {},
     "output_type": "execute_result"
    }
   ],
   "source": [
    "isp.loc[isp.species_B == 7955]"
   ],
   "metadata": {
    "collapsed": false
   }
  },
  {
   "cell_type": "markdown",
   "source": [
    "What's the most interacting pair, and do they interact with each other?"
   ],
   "metadata": {
    "collapsed": false
   }
  },
  {
   "cell_type": "code",
   "execution_count": 73,
   "outputs": [
    {
     "data": {
      "text/plain": "CRC-A65F7CDF9F6711AF    47\nCRC-D79B425F5AE582C8     9\nCRC-55A1A0D1AF80F6AB     8\nCRC-63BCAA6573DA562A     8\nCRC-6F7C8EE3D9DF781D     8\n                        ..\nCRC-731279066F631DC0     1\nCRC-721835A51974483D     1\nCRC-7175CBE253F58F76     1\nCRC-7106F95CBE1E4F15     1\nCRC-FF7DA1DD115285DD     1\nName: hash_A, Length: 672, dtype: int64"
     },
     "execution_count": 73,
     "metadata": {},
     "output_type": "execute_result"
    }
   ],
   "source": [
    "pest = isp.loc[(isp.species_A == 632) & (isp.species_B == 9606)].copy()\n",
    "pest.hash_A.value_counts()"
   ],
   "metadata": {
    "collapsed": false
   }
  },
  {
   "cell_type": "code",
   "execution_count": 74,
   "outputs": [
    {
     "data": {
      "text/plain": "CRC-2A7C8FF86A10D1A8    73\nCRC-27A13F252D5FB91D    21\nCRC-E9D72220E3E7B7D5    18\nCRC-58F672EDCD57CCD8    16\nCRC-8659505783FBF50B    15\n                        ..\nCRC-2ED33035AFA85F4B     1\nCRC-2909333CBD68F5C7     1\nCRC-0FCFBC5D814B5242     1\nCRC-1535D1B7C83E0355     1\nCRC-4031A3DC18A33646     1\nName: hash_B, Length: 848, dtype: int64"
     },
     "execution_count": 74,
     "metadata": {},
     "output_type": "execute_result"
    }
   ],
   "source": [
    "pest.hash_B.value_counts()"
   ],
   "metadata": {
    "collapsed": false
   }
  },
  {
   "cell_type": "code",
   "execution_count": 76,
   "outputs": [
    {
     "data": {
      "text/plain": "Q7ARD3        95\nP17778        36\nA0A2S9PFE9    25\nP68587        22\nA0A0H2W3W7    18\n              ..\nQ0WDR5         1\nQ9ZC29         1\nA0A2S9PME1     1\nQ56974         1\nQ8CLD0         1\nName: UniprotID_A, Length: 1200, dtype: Int64"
     },
     "execution_count": 76,
     "metadata": {},
     "output_type": "execute_result"
    }
   ],
   "source": [
    "pest2 = inter_ppis.loc[(inter_ppis.species_A == 632)\n",
    "                      & (inter_ppis.species_B == 9606)].copy().drop_duplicates()\n",
    "pest2.UniprotID_A.value_counts()"
   ],
   "metadata": {
    "collapsed": false
   }
  },
  {
   "cell_type": "code",
   "execution_count": 77,
   "outputs": [
    {
     "data": {
      "text/plain": "P19838    99\nQ9NY15    35\nQ9GZM7    28\nP04233    28\nP04275    26\n          ..\nQ6PIY7     1\nQ6PJI9     1\nQ6PJT7     1\nQ6UWE0     1\nQ9Y6X2     1\nName: UniprotID_B, Length: 2077, dtype: Int64"
     },
     "execution_count": 77,
     "metadata": {},
     "output_type": "execute_result"
    }
   ],
   "source": [
    "pest2.UniprotID_B.value_counts()"
   ],
   "metadata": {
    "collapsed": false
   }
  },
  {
   "cell_type": "code",
   "execution_count": 78,
   "outputs": [
    {
     "data": {
      "text/plain": "{'P19838', 'Q7ARD3'}"
     },
     "execution_count": 78,
     "metadata": {},
     "output_type": "execute_result"
    }
   ],
   "source": [
    "{k for k, v in id_hash_lookup.items() if v in {'CRC-A65F7CDF9F6711AF', 'CRC-2A7C8FF86A10D1A8'}}"
   ],
   "metadata": {
    "collapsed": false
   }
  },
  {
   "cell_type": "markdown",
   "source": [
    "The most frequent interactors (both from UniProtIDs and hashes) for *Y. pestis* and *H. sapiens* are `Q7ARD3 = CRC-A65F7CDF9F6711AF` and `P19838 = CRC-2A7C8FF86A10D1A8`, and they do indeed interact:"
   ],
   "metadata": {
    "collapsed": false
   }
  },
  {
   "cell_type": "code",
   "execution_count": 79,
   "outputs": [
    {
     "data": {
      "text/plain": "                    hash_A                hash_B  species_A  species_B  \\\n2306  CRC-A65F7CDF9F6711AF  CRC-2A7C8FF86A10D1A8        632       9606   \n\n      minlen  maxlen  \n2306      71     968  ",
      "text/html": "<div>\n<style scoped>\n    .dataframe tbody tr th:only-of-type {\n        vertical-align: middle;\n    }\n\n    .dataframe tbody tr th {\n        vertical-align: top;\n    }\n\n    .dataframe thead th {\n        text-align: right;\n    }\n</style>\n<table border=\"1\" class=\"dataframe\">\n  <thead>\n    <tr style=\"text-align: right;\">\n      <th></th>\n      <th>hash_A</th>\n      <th>hash_B</th>\n      <th>species_A</th>\n      <th>species_B</th>\n      <th>minlen</th>\n      <th>maxlen</th>\n    </tr>\n  </thead>\n  <tbody>\n    <tr>\n      <th>2306</th>\n      <td>CRC-A65F7CDF9F6711AF</td>\n      <td>CRC-2A7C8FF86A10D1A8</td>\n      <td>632</td>\n      <td>9606</td>\n      <td>71</td>\n      <td>968</td>\n    </tr>\n  </tbody>\n</table>\n</div>"
     },
     "execution_count": 79,
     "metadata": {},
     "output_type": "execute_result"
    }
   ],
   "source": [
    "isp.loc[(isp.hash_A == 'CRC-A65F7CDF9F6711AF') & (isp.hash_B == 'CRC-2A7C8FF86A10D1A8')]"
   ],
   "metadata": {
    "collapsed": false
   }
  },
  {
   "cell_type": "markdown",
   "source": [
    "#### prep extra negative candidates\n",
    "Use APID proteins that do not have inter-species interactions as donors of extra negatives. Potentially supplement with SwissProt. The fact that they do not have positives does not matter, because this will become a **test** set."
   ],
   "metadata": {
    "collapsed": false
   }
  },
  {
   "cell_type": "code",
   "execution_count": 85,
   "outputs": [],
   "source": [
    "crc_to_sp = write_json({v: ox[k] for k, v in id_hash_lookup.items()}, c.ip / 'crc_to_sp.json')"
   ],
   "metadata": {
    "collapsed": false
   }
  },
  {
   "cell_type": "code",
   "execution_count": 83,
   "outputs": [
    {
     "data": {
      "text/plain": "48262"
     },
     "execution_count": 83,
     "metadata": {},
     "output_type": "execute_result"
    }
   ],
   "source": [
    "# filter out isp proteins and sequences of wrong length from all proteins in our dataset\n",
    "non_isp_seqs = {k: v for k, v in SeqIO.to_dict(SeqIO.parse(\n",
    "    c.ip / 'apid' / 'apid.hash.fasta', 'fasta')).items()\n",
    "                if k not in fasta.keys()\n",
    "                and c.min_seq_len <= len(v) <= c.max_seq_len\n",
    "                and crc_to_sp[k] in c.test_species}\n",
    "len(non_isp_seqs)"
   ],
   "metadata": {
    "collapsed": false
   }
  },
  {
   "cell_type": "code",
   "execution_count": 101,
   "outputs": [],
   "source": [
    "# write all the non-isp proteins to a single FASTA\n",
    "_ = SeqIO.write(values_sorted_by_key(non_isp_seqs),\n",
    "                c.pp / 'apid_non_interspecies_raw.fasta', 'fasta')"
   ],
   "metadata": {
    "collapsed": false
   }
  },
  {
   "cell_type": "code",
   "execution_count": 102,
   "outputs": [
    {
     "name": "stdout",
     "output_type": "stream",
     "text": [
      "\u001B[94mrostclust uniqueprot2d --hval-config-path hval_config.json apid_isp/proteomes/apid_non_interspecies_raw.fasta apid_validation.fasta apid_isp/proteomes/apid_non_interspecies_nr_val.fasta\u001B[0m\n",
      "using temporary directory apid_isp/proteomes/apid_non_interspecies_rawlgpcx0mj\n",
      "generate alignments: 100%|██████████| 20/20 [13:21<00:00, 40.06s/it]\n",
      "extract hvals from alignments: 100%|██████████| 20/20 [00:02<00:00,  8.90it/s]\n",
      "\u001B[94m 41566/48262::4357 \u001B[0mnon-redundant in apid_isp/proteomes/apid_non_interspecies_raw.fasta against apid_validation.fasta written to apid_isp/proteomes/apid_non_interspecies_nr_val.fasta\n"
     ]
    }
   ],
   "source": [
    "# cluster against val\n",
    "run_uniqueprot2D(c.pp / 'apid_non_interspecies_raw.fasta',\n",
    "                 c.val_fasta, c.pp / 'apid_non_interspecies_nr_val.fasta',\n",
    "                 c.hval_config_path, not c.rostclust)"
   ],
   "metadata": {
    "collapsed": false
   }
  },
  {
   "cell_type": "code",
   "execution_count": 103,
   "outputs": [
    {
     "name": "stdout",
     "output_type": "stream",
     "text": [
      "\u001B[94mrostclust uniqueprot2d --hval-config-path hval_config.json apid_isp/proteomes/apid_non_interspecies_nr_val.fasta apid_isp/apid_interspecies_rr_val.fasta apid_isp/proteomes/apid_non_interspecies_nr_val_isp.fasta\u001B[0m\n",
      "using temporary directory apid_isp/proteomes/apid_non_interspecies_nr_vald3xhhova\n",
      "generate alignments: 100%|██████████| 17/17 [11:37<00:00, 41.06s/it]\n",
      "extract hvals from alignments: 100%|██████████| 17/17 [00:02<00:00,  6.80it/s]\n",
      "\u001B[94m 35922/41566::3274 \u001B[0mnon-redundant in apid_isp/proteomes/apid_non_interspecies_nr_val.fasta against apid_isp/apid_interspecies_rr_val.fasta written to apid_isp/proteomes/apid_non_interspecies_nr_val_isp.fasta\n"
     ]
    }
   ],
   "source": [
    "# cluster against the positives\n",
    "run_uniqueprot2D(c.pp / 'apid_non_interspecies_nr_val.fasta', c.isp_rr_fasta,\n",
    "                 c.pp / 'apid_non_interspecies_nr_val_isp.fasta',\n",
    "                 c.hval_config_path, not c.rostclust)"
   ],
   "metadata": {
    "collapsed": false
   }
  },
  {
   "cell_type": "code",
   "execution_count": 104,
   "outputs": [
    {
     "name": "stdout",
     "output_type": "stream",
     "text": [
      "\u001B[94mrostclust uniqueprot --hval-config-path hval_config.json apid_isp/proteomes/apid_non_interspecies_nr_val_isp.fasta apid_isp/proteomes/apid_non_interspecies_rr_val_isp.fasta\u001B[0m\n",
      "using temporary directory apid_isp/proteomes/apid_non_interspecies_nr_val_ispuimdu15i\n",
      "generate alignments: 100%|██████████| 15/15 [38:26<00:00, 153.76s/it]\n",
      "extract hvals from alignments: 100%|██████████| 15/15 [00:20<00:00,  1.38s/it]\n",
      "\u001B[94m 22632/35922 \u001B[0mnon-redundant in apid_isp/proteomes/apid_non_interspecies_nr_val_isp.fasta written to apid_isp/proteomes/apid_non_interspecies_rr_val_isp.fasta\n"
     ]
    }
   ],
   "source": [
    "# red-reduce\n",
    "run_uniqueprot(c.pp / 'apid_non_interspecies_nr_val_isp.fasta',\n",
    "               c.pp / 'apid_non_interspecies_rr_val_isp.fasta',\n",
    "               c.hval_config_path, not c.rostclust)"
   ],
   "metadata": {
    "collapsed": false
   }
  },
  {
   "cell_type": "code",
   "execution_count": 105,
   "outputs": [],
   "source": [
    "assert (c.pp / 'apid_non_interspecies_rr_val_isp.fasta').is_file()"
   ],
   "metadata": {
    "collapsed": false
   }
  },
  {
   "cell_type": "code",
   "execution_count": 106,
   "outputs": [],
   "source": [
    "# read the proteins back to memory, divy up by species\n",
    "apid_proteome = {int(sp): dict() for sp in c.test_species}\n",
    "for _id, seqrecord in SeqIO.to_dict(SeqIO.parse(\n",
    "        c.pp / 'apid_non_interspecies_rr_val_isp.fasta', 'fasta')).items():\n",
    "    sp = crc_to_sp[_id]\n",
    "    if sp not in apid_proteome:\n",
    "        continue\n",
    "    apid_proteome[sp][_id] = {'seq': str(seqrecord.seq),\n",
    "                              'source': 'apid',\n",
    "                              'id': _id}\n",
    "# dump immediately\n",
    "_ = write_json(apid_proteome, c.pp / 'apid_proteome.json')"
   ],
   "metadata": {
    "collapsed": false
   }
  },
  {
   "cell_type": "code",
   "execution_count": 107,
   "outputs": [
    {
     "name": "stderr",
     "output_type": "stream",
     "text": [
      "100%|██████████████████████████████████████████████| 279/279 [00:16<00:00, 16.62it/s]\n"
     ]
    }
   ],
   "source": [
    "# do not skip this step!\n",
    "sp_path = Path('swissprot')\n",
    "spp = filter_proteomes(sp_path, c.min_seq_len, c.max_seq_len,\n",
    "                       [c.pp / 'apid_non_interspecies_raw.fasta', c.isp_raw_fasta])\n",
    "assert not c.test_species - spp"
   ],
   "metadata": {
    "collapsed": false
   }
  },
  {
   "cell_type": "markdown",
   "source": [
    "#### snakemake"
   ],
   "metadata": {
    "collapsed": false
   }
  },
  {
   "cell_type": "code",
   "execution_count": 108,
   "outputs": [
    {
     "data": {
      "text/plain": "24"
     },
     "execution_count": 108,
     "metadata": {},
     "output_type": "execute_result"
    }
   ],
   "source": [
    "len(c.test_species)"
   ],
   "metadata": {
    "collapsed": false
   }
  },
  {
   "cell_type": "code",
   "execution_count": 131,
   "outputs": [
    {
     "data": {
      "text/plain": "'/home/k/kaindll/ppi'"
     },
     "execution_count": 131,
     "metadata": {},
     "output_type": "execute_result"
    }
   ],
   "source": [
    "package_root"
   ],
   "metadata": {
    "collapsed": false
   }
  },
  {
   "cell_type": "code",
   "execution_count": 132,
   "outputs": [],
   "source": [
    "cc = c.to_dict() | dict(pkg_root=package_root,\n",
    "                        pp='swissprot',\n",
    "                        isp_proteins=str(c.pp / 'apid_non_interspecies_rr_val_isp.fasta'),\n",
    "                        # nodes=c.slurm_node_limit,\n",
    "                        # dryrun=True,\n",
    "                        # cluster=f'sbatch -p All -N 1'\n",
    "                        )\n",
    "cc['test_species'] = [int(j) for j in cc['test_species']]"
   ],
   "metadata": {
    "collapsed": false
   }
  },
  {
   "cell_type": "code",
   "execution_count": 133,
   "outputs": [],
   "source": [
    "with Path('snakemake_config.json').open('w') as json_file:\n",
    "    json.dump(cc, json_file, indent=2)"
   ],
   "metadata": {
    "collapsed": false
   }
  },
  {
   "cell_type": "code",
   "execution_count": 130,
   "outputs": [
    {
     "name": "stdout",
     "output_type": "stream",
     "text": [
      "\u001B[33mBuilding DAG of jobs...\u001B[0m\r\n",
      "\u001B[33mUsing shell: /bin/bash\u001B[0m\r\n",
      "\u001B[33mProvided cluster nodes: 15\u001B[0m\r\n",
      "\u001B[33mJob stats:\r\n",
      "job                             count    min threads    max threads\r\n",
      "----------------------------  -------  -------------  -------------\r\n",
      "all_isp                             1              1              1\r\n",
      "cluster_against_isp                18              1              1\r\n",
      "cluster_against_isp_proteins       18              1              1\r\n",
      "cluster_against_val                18              1              1\r\n",
      "red_reduce                         18              1              1\r\n",
      "request_isp                         1              1              1\r\n",
      "total                              74              1              1\r\n",
      "\u001B[0m\r\n",
      "\u001B[33mSelect jobs to execute...\u001B[0m\r\n",
      "\u001B[32m\u001B[0m\r\n",
      "\u001B[32m[Wed Jun  8 07:33:49 2022]\u001B[0m\r\n",
      "\u001B[32mrule cluster_against_val:\r\n",
      "    input: swissprot/272634.fasta\r\n",
      "    output: swissprot/272634_nr_val.fasta\r\n",
      "    jobid: 97\r\n",
      "    reason: Updated input files: swissprot/272634.fasta\r\n",
      "    wildcards: species=272634\r\n",
      "    resources: mem_mb=1000, disk_mb=1000, tmpdir=/tmp/user/31049\u001B[0m\r\n",
      "\u001B[32m\u001B[0m\r\n",
      "\u001B[33mSubmitted job 97 with external jobid 'Submitted batch job 391024'.\u001B[0m\r\n",
      "\u001B[32m\u001B[0m\r\n",
      "\u001B[32m[Wed Jun  8 07:33:49 2022]\u001B[0m\r\n",
      "\u001B[32mrule cluster_against_val:\r\n",
      "    input: swissprot/9606.fasta\r\n",
      "    output: swissprot/9606_nr_val.fasta\r\n",
      "    jobid: 17\r\n",
      "    reason: Updated input files: swissprot/9606.fasta\r\n",
      "    wildcards: species=9606\r\n",
      "    resources: mem_mb=1000, disk_mb=1000, tmpdir=/tmp/user/31049\u001B[0m\r\n",
      "\u001B[32m\u001B[0m\r\n",
      "\u001B[33mSubmitted job 17 with external jobid 'Submitted batch job 391025'.\u001B[0m\r\n",
      "\u001B[32m\u001B[0m\r\n",
      "\u001B[32m[Wed Jun  8 07:33:49 2022]\u001B[0m\r\n",
      "\u001B[32mrule cluster_against_val:\r\n",
      "    input: swissprot/6239.fasta\r\n",
      "    output: swissprot/6239_nr_val.fasta\r\n",
      "    jobid: 77\r\n",
      "    reason: Updated input files: swissprot/6239.fasta\r\n",
      "    wildcards: species=6239\r\n",
      "    resources: mem_mb=1000, disk_mb=1000, tmpdir=/tmp/user/31049\u001B[0m\r\n",
      "\u001B[32m\u001B[0m\r\n",
      "\u001B[33mSubmitted job 77 with external jobid 'Submitted batch job 391026'.\u001B[0m\r\n",
      "\u001B[32m\u001B[0m\r\n",
      "\u001B[32m[Wed Jun  8 07:33:49 2022]\u001B[0m\r\n",
      "\u001B[32mrule cluster_against_val:\r\n",
      "    input: swissprot/9913.fasta\r\n",
      "    output: swissprot/9913_nr_val.fasta\r\n",
      "    jobid: 45\r\n",
      "    reason: Updated input files: swissprot/9913.fasta\r\n",
      "    wildcards: species=9913\r\n",
      "    resources: mem_mb=1000, disk_mb=1000, tmpdir=/tmp/user/31049\u001B[0m\r\n",
      "\u001B[32m\u001B[0m\r\n",
      "\u001B[33mSubmitted job 45 with external jobid 'Submitted batch job 391027'.\u001B[0m\r\n",
      "\u001B[32m\u001B[0m\r\n",
      "\u001B[32m[Wed Jun  8 07:33:50 2022]\u001B[0m\r\n",
      "\u001B[32mrule cluster_against_val:\r\n",
      "    input: swissprot/10090.fasta\r\n",
      "    output: swissprot/10090_nr_val.fasta\r\n",
      "    jobid: 81\r\n",
      "    reason: Updated input files: swissprot/10090.fasta\r\n",
      "    wildcards: species=10090\r\n",
      "    resources: mem_mb=1000, disk_mb=1000, tmpdir=/tmp/user/31049\u001B[0m\r\n",
      "\u001B[32m\u001B[0m\r\n",
      "\u001B[33mSubmitted job 81 with external jobid 'Submitted batch job 391028'.\u001B[0m\r\n",
      "\u001B[32m\u001B[0m\r\n",
      "\u001B[32m[Wed Jun  8 07:33:50 2022]\u001B[0m\r\n",
      "\u001B[32mrule cluster_against_val:\r\n",
      "    input: swissprot/1111708.fasta\r\n",
      "    output: swissprot/1111708_nr_val.fasta\r\n",
      "    jobid: 33\r\n",
      "    reason: Updated input files: swissprot/1111708.fasta\r\n",
      "    wildcards: species=1111708\r\n",
      "    resources: mem_mb=1000, disk_mb=1000, tmpdir=/tmp/user/31049\u001B[0m\r\n",
      "\u001B[32m\u001B[0m\r\n",
      "\u001B[33mSubmitted job 33 with external jobid 'Submitted batch job 391029'.\u001B[0m\r\n",
      "\u001B[32m\u001B[0m\r\n",
      "\u001B[32m[Wed Jun  8 07:33:50 2022]\u001B[0m\r\n",
      "\u001B[32mrule cluster_against_val:\r\n",
      "    input: swissprot/7227.fasta\r\n",
      "    output: swissprot/7227_nr_val.fasta\r\n",
      "    jobid: 53\r\n",
      "    reason: Updated input files: swissprot/7227.fasta\r\n",
      "    wildcards: species=7227\r\n",
      "    resources: mem_mb=1000, disk_mb=1000, tmpdir=/tmp/user/31049\u001B[0m\r\n",
      "\u001B[32m\u001B[0m\r\n",
      "\u001B[33mSubmitted job 53 with external jobid 'Submitted batch job 391030'.\u001B[0m\r\n",
      "\u001B[32m\u001B[0m\r\n",
      "\u001B[32m[Wed Jun  8 07:33:50 2022]\u001B[0m\r\n",
      "\u001B[32mrule cluster_against_val:\r\n",
      "    input: swissprot/284812.fasta\r\n",
      "    output: swissprot/284812_nr_val.fasta\r\n",
      "    jobid: 25\r\n",
      "    reason: Updated input files: swissprot/284812.fasta\r\n",
      "    wildcards: species=284812\r\n",
      "    resources: mem_mb=1000, disk_mb=1000, tmpdir=/tmp/user/31049\u001B[0m\r\n",
      "\u001B[32m\u001B[0m\r\n",
      "\u001B[33mSubmitted job 25 with external jobid 'Submitted batch job 391031'.\u001B[0m\r\n",
      "\u001B[32m\u001B[0m\r\n",
      "\u001B[32m[Wed Jun  8 07:33:50 2022]\u001B[0m\r\n",
      "\u001B[32mrule cluster_against_val:\r\n",
      "    input: swissprot/1392.fasta\r\n",
      "    output: swissprot/1392_nr_val.fasta\r\n",
      "    jobid: 85\r\n",
      "    reason: Updated input files: swissprot/1392.fasta\r\n",
      "    wildcards: species=1392\r\n",
      "    resources: mem_mb=1000, disk_mb=1000, tmpdir=/tmp/user/31049\u001B[0m\r\n",
      "\u001B[32m\u001B[0m\r\n",
      "\u001B[33mSubmitted job 85 with external jobid 'Submitted batch job 391032'.\u001B[0m\r\n",
      "\u001B[32m\u001B[0m\r\n",
      "\u001B[32m[Wed Jun  8 07:33:50 2022]\u001B[0m\r\n",
      "\u001B[32mrule cluster_against_val:\r\n",
      "    input: swissprot/9031.fasta\r\n",
      "    output: swissprot/9031_nr_val.fasta\r\n",
      "    jobid: 69\r\n",
      "    reason: Updated input files: swissprot/9031.fasta\r\n",
      "    wildcards: species=9031\r\n",
      "    resources: mem_mb=1000, disk_mb=1000, tmpdir=/tmp/user/31049\u001B[0m\r\n",
      "\u001B[32m\u001B[0m\r\n",
      "\u001B[33mSubmitted job 69 with external jobid 'Submitted batch job 391033'.\u001B[0m\r\n",
      "\u001B[32m\u001B[0m\r\n",
      "\u001B[32m[Wed Jun  8 07:33:50 2022]\u001B[0m\r\n",
      "\u001B[32mrule cluster_against_val:\r\n",
      "    input: swissprot/7955.fasta\r\n",
      "    output: swissprot/7955_nr_val.fasta\r\n",
      "    jobid: 29\r\n",
      "    reason: Updated input files: swissprot/7955.fasta\r\n",
      "    wildcards: species=7955\r\n",
      "    resources: mem_mb=1000, disk_mb=1000, tmpdir=/tmp/user/31049\u001B[0m\r\n",
      "\u001B[32m\u001B[0m\r\n",
      "\u001B[33mSubmitted job 29 with external jobid 'Submitted batch job 391034'.\u001B[0m\r\n",
      "\u001B[32m\u001B[0m\r\n",
      "\u001B[32m[Wed Jun  8 07:33:50 2022]\u001B[0m\r\n",
      "\u001B[32mrule cluster_against_val:\r\n",
      "    input: swissprot/3702.fasta\r\n",
      "    output: swissprot/3702_nr_val.fasta\r\n",
      "    jobid: 89\r\n",
      "    reason: Updated input files: swissprot/3702.fasta\r\n",
      "    wildcards: species=3702\r\n",
      "    resources: mem_mb=1000, disk_mb=1000, tmpdir=/tmp/user/31049\u001B[0m\r\n",
      "\u001B[32m\u001B[0m\r\n",
      "\u001B[33mSubmitted job 89 with external jobid 'Submitted batch job 391035'.\u001B[0m\r\n",
      "\u001B[32m\u001B[0m\r\n",
      "\u001B[32m[Wed Jun  8 07:33:51 2022]\u001B[0m\r\n",
      "\u001B[32mrule cluster_against_val:\r\n",
      "    input: swissprot/632.fasta\r\n",
      "    output: swissprot/632_nr_val.fasta\r\n",
      "    jobid: 93\r\n",
      "    reason: Updated input files: swissprot/632.fasta\r\n",
      "    wildcards: species=632\r\n",
      "    resources: mem_mb=1000, disk_mb=1000, tmpdir=/tmp/user/31049\u001B[0m\r\n",
      "\u001B[32m\u001B[0m\r\n",
      "\u001B[33mSubmitted job 93 with external jobid 'Submitted batch job 391036'.\u001B[0m\r\n",
      "\u001B[32m\u001B[0m\r\n",
      "\u001B[32m[Wed Jun  8 07:33:51 2022]\u001B[0m\r\n",
      "\u001B[32mrule cluster_against_val:\r\n",
      "    input: swissprot/9986.fasta\r\n",
      "    output: swissprot/9986_nr_val.fasta\r\n",
      "    jobid: 5\r\n",
      "    reason: Updated input files: swissprot/9986.fasta\r\n",
      "    wildcards: species=9986\r\n",
      "    resources: mem_mb=1000, disk_mb=1000, tmpdir=/tmp/user/31049\u001B[0m\r\n",
      "\u001B[32m\u001B[0m\r\n",
      "\u001B[33mSubmitted job 5 with external jobid 'Submitted batch job 391037'.\u001B[0m\r\n",
      "\u001B[32m\u001B[0m\r\n",
      "\u001B[32m[Wed Jun  8 07:33:51 2022]\u001B[0m\r\n",
      "\u001B[32mrule cluster_against_val:\r\n",
      "    input: swissprot/8355.fasta\r\n",
      "    output: swissprot/8355_nr_val.fasta\r\n",
      "    jobid: 37\r\n",
      "    reason: Updated input files: swissprot/8355.fasta\r\n",
      "    wildcards: species=8355\r\n",
      "    resources: mem_mb=1000, disk_mb=1000, tmpdir=/tmp/user/31049\u001B[0m\r\n",
      "\u001B[32m\u001B[0m\r\n",
      "\u001B[33mSubmitted job 37 with external jobid 'Submitted batch job 391038'.\u001B[0m\r\n"
     ]
    }
   ],
   "source": [
    "!snakemake -n all_isp --configfile snakemake_config.json --cluster \"sbatch -p All -N 1\" --jobs $c.slurm_node_limit"
   ],
   "metadata": {
    "collapsed": false
   }
  },
  {
   "cell_type": "code",
   "execution_count": null,
   "outputs": [],
   "source": [
    "!snakemake all_isp --configfile snakemake_config.json --cluster \"sbatch -p All -N 1\" --jobs 14"
   ],
   "metadata": {
    "collapsed": false
   }
  },
  {
   "cell_type": "code",
   "execution_count": null,
   "outputs": [],
   "source": [
    "!snakemake all_isp --configfile snakemake_config.json --cluster \"sbatch -p All -N 2\" --jobs 8"
   ],
   "metadata": {
    "collapsed": false
   }
  },
  {
   "cell_type": "code",
   "execution_count": null,
   "outputs": [],
   "source": [
    "!snakemake all_isp --configfile snakemake_config.json --cluster \"sbatch -p All -N 2\" --jobs 4"
   ],
   "metadata": {
    "collapsed": false
   }
  },
  {
   "cell_type": "code",
   "execution_count": null,
   "outputs": [],
   "source": [
    "!snakemake all_isp --configfile snakemake_config.json --cluster \"sbatch -p All -N 2\" --jobs 4"
   ],
   "metadata": {
    "collapsed": false
   }
  },
  {
   "cell_type": "raw",
   "source": [
    "import snakemake\n",
    "\n",
    "snakemake.snakemake(snakefile='Snakefile',\n",
    "                    targets=['all_isp'],\n",
    "                    dryrun=True,\n",
    "                    config=c.to_dict() | dict(\n",
    "                        pkg_root=package_root, pp='swissprot',\n",
    "                        isp_proteins=c.pp / 'apid_non_interspecies_rr_val_isp.fasta'),\n",
    "                    nodes=c.slurm_node_limit,\n",
    "                    cluster=f'sbatch -p All -N 1')"
   ],
   "metadata": {
    "collapsed": false
   }
  },
  {
   "cell_type": "code",
   "execution_count": 118,
   "outputs": [],
   "source": [],
   "metadata": {
    "collapsed": false
   }
  },
  {
   "cell_type": "markdown",
   "source": [
    "Actually draw from a combined SwissProt/APID proteome, rather than sample from the APID/HuRI proteins first (as many as necessary), then fill up with SwissProt."
   ],
   "metadata": {
    "collapsed": false
   }
  },
  {
   "cell_type": "code",
   "execution_count": 20,
   "outputs": [
    {
     "name": "stderr",
     "output_type": "stream",
     "text": [
      "100%|██████████████████████████████████| 24/24 [00:12<00:00,  1.94it/s, batch=2.7e+6]\n"
     ]
    },
    {
     "data": {
      "text/plain": "dict_keys([632, 1392, 3702, 6239, 7227, 7955, 8355, 9031, 9606, 9913, 9986, 10090, 10116, 10299, 10377, 11706, 37296, 83333, 272634, 284812, 333760, 559292, 1111708, 2697049])"
     },
     "execution_count": 20,
     "metadata": {},
     "output_type": "execute_result"
    }
   ],
   "source": [
    "# concat the set\n",
    "sp_path = Path('swissprot')\n",
    "sp_proteome = write_json(read_hash_proteomes(\n",
    "    c.test_species, sp_path, '{sp}_rr_val_isp_proteins.fasta'),\n",
    "    c.pp / 'sp_proteome_raw.json')\n",
    "sp_proteome.keys()"
   ],
   "metadata": {
    "collapsed": false
   }
  },
  {
   "cell_type": "code",
   "execution_count": 93,
   "outputs": [],
   "source": [
    "# write a FASTA crc:seq\n",
    "crc_to_sp = json.load(Path(c.ip / 'crc_to_sp.json').open('r'))\n",
    "with (c.pp / 'sp_proteome_raw.fasta').open('w') as out_fasta:\n",
    "    for sp, d in sp_proteome.items():\n",
    "        for crc_hash, v in d.items():\n",
    "            to_fasta(crc_hash, v['seq'], out_fasta)\n",
    "            crc_to_sp[crc_hash] = sp"
   ],
   "metadata": {
    "collapsed": false
   }
  },
  {
   "cell_type": "code",
   "execution_count": 94,
   "outputs": [
    {
     "data": {
      "text/plain": "'rostclust uniqueprot --hval-config-path hval_config.json apid_isp/proteomes/sp_proteome_raw.fasta apid_isp/proteomes/sp_proteome_rr.fasta'"
     },
     "execution_count": 94,
     "metadata": {},
     "output_type": "execute_result"
    }
   ],
   "source": [
    "# red-reduce\n",
    "run_uniqueprot(c.pp / 'sp_proteome_raw.fasta',\n",
    "               c.pp / 'sp_proteome_rr.fasta',\n",
    "               c.hval_config_path, not c.rostclust)\n",
    "# 53855/73197"
   ],
   "metadata": {
    "collapsed": false
   }
  },
  {
   "cell_type": "code",
   "execution_count": 440,
   "outputs": [],
   "source": [
    "# read the SwissProt proteins back to memory, divy up by species\n",
    "assert (c.pp / 'sp_proteome_rr.fasta').is_file()\n",
    "sp_proteome = {int(sp): dict() for sp in c.test_species}\n",
    "for _id, seqrecord in SeqIO.to_dict(SeqIO.parse(\n",
    "        c.pp / 'sp_proteome_rr.fasta', 'fasta')).items():\n",
    "    sp = crc_to_sp[_id]\n",
    "    if sp not in sp_proteome:\n",
    "        continue\n",
    "    sp_proteome[sp][_id] = {'seq': str(seqrecord.seq),\n",
    "                            'source': 'swissprot',\n",
    "                            'id': _id}\n",
    "# dump immediately\n",
    "_ = write_json(sp_proteome, c.pp / 'sp_proteome_rr.json')"
   ],
   "metadata": {
    "collapsed": false
   }
  },
  {
   "cell_type": "code",
   "execution_count": 441,
   "outputs": [],
   "source": [
    "# check that again\n",
    "assert set(apid_proteome) == c.test_species == set(sp_proteome)"
   ],
   "metadata": {
    "collapsed": false
   }
  },
  {
   "cell_type": "markdown",
   "source": [
    "Now we have two per-species proteome dicts - one with sequences from APID, the other one from SwissProt. **Finally** ready to sample negatives!\n",
    "\n",
    "#### generate negatives"
   ],
   "metadata": {
    "collapsed": false
   }
  },
  {
   "cell_type": "code",
   "execution_count": 48,
   "outputs": [
    {
     "data": {
      "text/plain": "                 hash_A                hash_B  species_A  species_B  minlen  \\\n0  CRC-00053DA2C582D0E6  CRC-9F206A319B7E3DD8       1392       9606     245   \n1  CRC-001576EA78C61C85  CRC-9BD612534CD2C9EB       9606     333760      98   \n2  CRC-003F04A89D9D9298  CRC-5B57ABE4DF6E396E        632       9606     622   \n3  CRC-004D9CE1FF661B75  CRC-2BD0B32F33D454DA       1392       9606     798   \n4  CRC-0054C7CD3E6A8446  CRC-9BD612534CD2C9EB       9606     333760      98   \n\n   maxlen  \n0    1429  \n1     230  \n2     800  \n3     891  \n4     119  ",
      "text/html": "<div>\n<style scoped>\n    .dataframe tbody tr th:only-of-type {\n        vertical-align: middle;\n    }\n\n    .dataframe tbody tr th {\n        vertical-align: top;\n    }\n\n    .dataframe thead th {\n        text-align: right;\n    }\n</style>\n<table border=\"1\" class=\"dataframe\">\n  <thead>\n    <tr style=\"text-align: right;\">\n      <th></th>\n      <th>hash_A</th>\n      <th>hash_B</th>\n      <th>species_A</th>\n      <th>species_B</th>\n      <th>minlen</th>\n      <th>maxlen</th>\n    </tr>\n  </thead>\n  <tbody>\n    <tr>\n      <th>0</th>\n      <td>CRC-00053DA2C582D0E6</td>\n      <td>CRC-9F206A319B7E3DD8</td>\n      <td>1392</td>\n      <td>9606</td>\n      <td>245</td>\n      <td>1429</td>\n    </tr>\n    <tr>\n      <th>1</th>\n      <td>CRC-001576EA78C61C85</td>\n      <td>CRC-9BD612534CD2C9EB</td>\n      <td>9606</td>\n      <td>333760</td>\n      <td>98</td>\n      <td>230</td>\n    </tr>\n    <tr>\n      <th>2</th>\n      <td>CRC-003F04A89D9D9298</td>\n      <td>CRC-5B57ABE4DF6E396E</td>\n      <td>632</td>\n      <td>9606</td>\n      <td>622</td>\n      <td>800</td>\n    </tr>\n    <tr>\n      <th>3</th>\n      <td>CRC-004D9CE1FF661B75</td>\n      <td>CRC-2BD0B32F33D454DA</td>\n      <td>1392</td>\n      <td>9606</td>\n      <td>798</td>\n      <td>891</td>\n    </tr>\n    <tr>\n      <th>4</th>\n      <td>CRC-0054C7CD3E6A8446</td>\n      <td>CRC-9BD612534CD2C9EB</td>\n      <td>9606</td>\n      <td>333760</td>\n      <td>98</td>\n      <td>119</td>\n    </tr>\n  </tbody>\n</table>\n</div>"
     },
     "execution_count": 48,
     "metadata": {},
     "output_type": "execute_result"
    }
   ],
   "source": [
    "# these are the PPIs, 3424 of them\n",
    "isp = pd.read_csv(c.isp_rr_tsv, sep='\\t', header=0)\n",
    "c.test_species = set(isp.species_A) | set(isp.species_B)\n",
    "isp.head()"
   ],
   "metadata": {
    "collapsed": false
   }
  },
  {
   "cell_type": "code",
   "execution_count": 49,
   "outputs": [
    {
     "data": {
      "text/plain": "                    hash_A                hash_B  species_A  species_B  \\\n0     CRC-00053DA2C582D0E6  CRC-9F206A319B7E3DD8       1392       9606   \n1     CRC-001576EA78C61C85  CRC-9BD612534CD2C9EB       9606     333760   \n2     CRC-003F04A89D9D9298  CRC-5B57ABE4DF6E396E        632       9606   \n3     CRC-004D9CE1FF661B75  CRC-2BD0B32F33D454DA       1392       9606   \n4     CRC-0054C7CD3E6A8446  CRC-9BD612534CD2C9EB       9606     333760   \n...                    ...                   ...        ...        ...   \n3419  CRC-FF13DDD5EBE47754  CRC-A5409FAF1594854C       9606     559292   \n3420  CRC-FF6AE6EBC632C805  CRC-1D09F2E0987F003B       1392       9606   \n3421  CRC-FF6AE6EBC632C805  CRC-D33F31EDAEA77D2A       1392       9606   \n3422  CRC-FF7DA1DD115285DD  CRC-2F8D1C7169A7817E        632       9606   \n3423  CRC-FFC005B07CD5ABFC  CRC-13C0C905F585D23F       9606      10090   \n\n         source_A     source_B  label  \n0     interactome  interactome      1  \n1     interactome  interactome      1  \n2     interactome  interactome      1  \n3     interactome  interactome      1  \n4     interactome  interactome      1  \n...           ...          ...    ...  \n3419  interactome  interactome      1  \n3420  interactome  interactome      1  \n3421  interactome  interactome      1  \n3422  interactome  interactome      1  \n3423  interactome  interactome      1  \n\n[3424 rows x 7 columns]",
      "text/html": "<div>\n<style scoped>\n    .dataframe tbody tr th:only-of-type {\n        vertical-align: middle;\n    }\n\n    .dataframe tbody tr th {\n        vertical-align: top;\n    }\n\n    .dataframe thead th {\n        text-align: right;\n    }\n</style>\n<table border=\"1\" class=\"dataframe\">\n  <thead>\n    <tr style=\"text-align: right;\">\n      <th></th>\n      <th>hash_A</th>\n      <th>hash_B</th>\n      <th>species_A</th>\n      <th>species_B</th>\n      <th>source_A</th>\n      <th>source_B</th>\n      <th>label</th>\n    </tr>\n  </thead>\n  <tbody>\n    <tr>\n      <th>0</th>\n      <td>CRC-00053DA2C582D0E6</td>\n      <td>CRC-9F206A319B7E3DD8</td>\n      <td>1392</td>\n      <td>9606</td>\n      <td>interactome</td>\n      <td>interactome</td>\n      <td>1</td>\n    </tr>\n    <tr>\n      <th>1</th>\n      <td>CRC-001576EA78C61C85</td>\n      <td>CRC-9BD612534CD2C9EB</td>\n      <td>9606</td>\n      <td>333760</td>\n      <td>interactome</td>\n      <td>interactome</td>\n      <td>1</td>\n    </tr>\n    <tr>\n      <th>2</th>\n      <td>CRC-003F04A89D9D9298</td>\n      <td>CRC-5B57ABE4DF6E396E</td>\n      <td>632</td>\n      <td>9606</td>\n      <td>interactome</td>\n      <td>interactome</td>\n      <td>1</td>\n    </tr>\n    <tr>\n      <th>3</th>\n      <td>CRC-004D9CE1FF661B75</td>\n      <td>CRC-2BD0B32F33D454DA</td>\n      <td>1392</td>\n      <td>9606</td>\n      <td>interactome</td>\n      <td>interactome</td>\n      <td>1</td>\n    </tr>\n    <tr>\n      <th>4</th>\n      <td>CRC-0054C7CD3E6A8446</td>\n      <td>CRC-9BD612534CD2C9EB</td>\n      <td>9606</td>\n      <td>333760</td>\n      <td>interactome</td>\n      <td>interactome</td>\n      <td>1</td>\n    </tr>\n    <tr>\n      <th>...</th>\n      <td>...</td>\n      <td>...</td>\n      <td>...</td>\n      <td>...</td>\n      <td>...</td>\n      <td>...</td>\n      <td>...</td>\n    </tr>\n    <tr>\n      <th>3419</th>\n      <td>CRC-FF13DDD5EBE47754</td>\n      <td>CRC-A5409FAF1594854C</td>\n      <td>9606</td>\n      <td>559292</td>\n      <td>interactome</td>\n      <td>interactome</td>\n      <td>1</td>\n    </tr>\n    <tr>\n      <th>3420</th>\n      <td>CRC-FF6AE6EBC632C805</td>\n      <td>CRC-1D09F2E0987F003B</td>\n      <td>1392</td>\n      <td>9606</td>\n      <td>interactome</td>\n      <td>interactome</td>\n      <td>1</td>\n    </tr>\n    <tr>\n      <th>3421</th>\n      <td>CRC-FF6AE6EBC632C805</td>\n      <td>CRC-D33F31EDAEA77D2A</td>\n      <td>1392</td>\n      <td>9606</td>\n      <td>interactome</td>\n      <td>interactome</td>\n      <td>1</td>\n    </tr>\n    <tr>\n      <th>3422</th>\n      <td>CRC-FF7DA1DD115285DD</td>\n      <td>CRC-2F8D1C7169A7817E</td>\n      <td>632</td>\n      <td>9606</td>\n      <td>interactome</td>\n      <td>interactome</td>\n      <td>1</td>\n    </tr>\n    <tr>\n      <th>3423</th>\n      <td>CRC-FFC005B07CD5ABFC</td>\n      <td>CRC-13C0C905F585D23F</td>\n      <td>9606</td>\n      <td>10090</td>\n      <td>interactome</td>\n      <td>interactome</td>\n      <td>1</td>\n    </tr>\n  </tbody>\n</table>\n<p>3424 rows × 7 columns</p>\n</div>"
     },
     "execution_count": 49,
     "metadata": {},
     "output_type": "execute_result"
    }
   ],
   "source": [
    "isp = isp.drop(labels=['minlen', 'maxlen'], axis=1, errors='ignore')\n",
    "isp[['source_A', 'source_B', 'label']] = ['interactome', 'interactome', 1]\n",
    "isp"
   ],
   "metadata": {
    "collapsed": false
   }
  },
  {
   "cell_type": "code",
   "execution_count": 50,
   "outputs": [],
   "source": [
    "fasta = SeqIO.to_dict(SeqIO.parse(c.isp_rr_fasta, 'fasta'))\n",
    "assert len(fasta) == len(np.unique(isp.iloc[:, [0, 1]]))"
   ],
   "metadata": {
    "collapsed": false
   }
  },
  {
   "cell_type": "code",
   "execution_count": 51,
   "outputs": [],
   "source": [
    "sp_proteome = read_json(c.pp / 'sp_proteome_rr.json')\n",
    "apid_proteome = read_json(c.pp / 'apid_proteome.json')\n",
    "assert set(apid_proteome) == c.test_species == set(sp_proteome)"
   ],
   "metadata": {
    "collapsed": false
   }
  },
  {
   "cell_type": "code",
   "execution_count": 52,
   "outputs": [],
   "source": [
    "combined_proteome = dict()\n",
    "for sp in c.test_species:\n",
    "    d = dict()\n",
    "    d.update(apid_proteome[sp])\n",
    "    d.update(sp_proteome[sp])\n",
    "    combined_proteome[sp] = d"
   ],
   "metadata": {
    "collapsed": false
   }
  },
  {
   "cell_type": "code",
   "execution_count": 53,
   "outputs": [
    {
     "data": {
      "text/plain": "{'apid', 'swissprot'}"
     },
     "execution_count": 53,
     "metadata": {},
     "output_type": "execute_result"
    }
   ],
   "source": [
    "{v['source'] for v in combined_proteome[9606].values()}"
   ],
   "metadata": {
    "collapsed": false
   }
  },
  {
   "cell_type": "code",
   "execution_count": 54,
   "outputs": [],
   "source": [
    "def make_interspecies_negatives(\n",
    "        _isp_ppis: pd.DataFrame,\n",
    "        _proteome: dict[int, dict[str, dict[str, Union[str, Seq]]]],\n",
    "        cfg: Config, verbose: bool = True) -> tuple[\n",
    "    pd.DataFrame, pd.DataFrame, pd.DataFrame, dict[tuple[int, int], Figure]]:\n",
    "    all_negatives = list()\n",
    "    all_missing = list()\n",
    "    all_biases = list()\n",
    "    figs = dict()\n",
    "\n",
    "    for (sp_a, sp_b), ab_ppis in _isp_ppis.groupby(['species_A', 'species_B']):\n",
    "        # create a new rng for each sp reproducibly, not depending on sp order\n",
    "        rng = np.random.default_rng(seed=cfg.seed + sp_a + sp_b)\n",
    "        ab_negs = list()\n",
    "\n",
    "        @dataclass\n",
    "        class Axis:\n",
    "            name: str\n",
    "            species: str\n",
    "            proteins: np.ndarray\n",
    "            counts: np.ndarray\n",
    "            wants: np.ndarray\n",
    "            n: int = -1\n",
    "            ideal_median: int = -1\n",
    "            _d: dict[int, str] = None\n",
    "\n",
    "            def forward(self, srs: pd.Series) -> np.ndarray:\n",
    "                return srs.apply({_id: _idx for _idx, _id in\n",
    "                                  enumerate(self.proteins)}.get).values\n",
    "\n",
    "            def reverse(self, ar: Union[int, np.ndarray]) -> Union[str, np.ndarray]:\n",
    "                if type(ar) == np.ndarray:\n",
    "                    return np.array([self._d.get(r) for r in ar])\n",
    "                else:\n",
    "                    return self._d[ar]\n",
    "\n",
    "            def __post_init__(self):\n",
    "                self.n = len(self.proteins)\n",
    "                self.ideal_median = int(np.median(self.wants) + np.median(self.counts))\n",
    "                self._d = dict(enumerate(self.proteins))\n",
    "\n",
    "        axes = list()\n",
    "        for i, (a_or_b, sp) in enumerate(zip('AB', [sp_a, sp_b])):\n",
    "            # np.unique returns sorted values, so use this for indexing as well\n",
    "            proteins, counts = np.unique(ab_ppis[f'hash_{a_or_b}'], return_counts=True)\n",
    "            n = len(proteins)\n",
    "\n",
    "            wants = np.floor(counts * cfg.ratio).astype(int)\n",
    "            if cfg.strategy.value != 1:\n",
    "                wants = np.full_like(wants, np.floor(sum(counts) * cfg.ratio / n)).astype(int)\n",
    "\n",
    "            # make sure that `wants` is an integer vector and its sum as close to the target as possible\n",
    "            idcs = list(rng.choice(n, size=n, replace=True, p=counts / sum(counts)))\n",
    "            while np.round(sum(counts) * cfg.ratio) > sum(wants):\n",
    "                idx = idcs.pop(0)\n",
    "                wants[idx] += 1\n",
    "\n",
    "            wants = np.append(wants, 0)\n",
    "            limit = sum(wants)\n",
    "\n",
    "            axes.append(Axis(a_or_b, sp, proteins, counts, wants))\n",
    "\n",
    "        axis_a, axis_b = axes\n",
    "        # initialize the matrix, but this one is not symmetric\n",
    "        mat = np.zeros((axis_a.n + 1, axis_b.n + 1), dtype=int)\n",
    "        # map protein IDs to their sorting index, and fill the array\n",
    "        mat[axis_a.forward(ab_ppis.hash_A), axis_b.forward(ab_ppis.hash_B)] = 1\n",
    "\n",
    "        with tqdm(total=limit, position=0, desc=f'{sp_a}-{sp_b}', disable=False) as pbar:\n",
    "            a_sum = np.sum(axis_a.wants[:axis_a.n])\n",
    "            b_sum = np.sum(axis_b.wants[:axis_b.n])\n",
    "\n",
    "            while a_sum or b_sum:\n",
    "                # pick the first axis randomly, but without ever discarding it\n",
    "                wants1, wants2, n1, n2 = axis_a.wants, axis_b.wants, axis_a.n, axis_b.n\n",
    "                flip = rng.choice(2, p=[a_sum / (a_sum + b_sum), b_sum / (a_sum + b_sum)])\n",
    "                if flip:\n",
    "                    # if either sum is zero, this will always flip in the right direction\n",
    "                    wants1, wants2 = wants2, wants1\n",
    "                    n1, n2 = n2, n1\n",
    "                # This coordinate will never be an extra protein\n",
    "                assert np.sum(wants1[:n1])\n",
    "                # pick a random row (now assuming this is axis_a = y)\n",
    "                y = rng.choice(n1, p=wants1[:n1] / sum(wants1[:n1]))\n",
    "                # decrement the row target sum, which will still never be < 0\n",
    "                wants1[y] -= 1\n",
    "                # calculate the likelihood for selecting an extra protein along the other axis:\n",
    "                mask = (mat[:axis_a.n, y] == 0) if flip else (mat[y, :axis_b.n] == 0)\n",
    "                # depending on how many crosses are missing in this row, how many *must* be extras?\n",
    "                wants2[n2] = max(0, wants1[y] - mask @ wants2[:n2])\n",
    "                # just mask the wants vector here\n",
    "                p_proteome = np.append(mask * wants2[:n2], wants2[n2])\n",
    "                # if the row is fulfilled, a cross still *must* be made\n",
    "                if not np.sum(p_proteome):\n",
    "                    p_proteome[-1] = 1\n",
    "                # pick the other coordinate (the column)\n",
    "                x = rng.choice(n2 + 1, p=p_proteome / sum(p_proteome))\n",
    "                wants2[x] -= 1\n",
    "                if flip:\n",
    "                    x, y = y, x\n",
    "                mat[y, x] -= 1\n",
    "\n",
    "                a_sum = np.sum(axis_a.wants[:axis_a.n])\n",
    "                b_sum = np.sum(axis_b.wants[:axis_b.n])\n",
    "                pbar.update(1)\n",
    "\n",
    "        if verbose:\n",
    "            fig, ax = plt.subplots()\n",
    "            cmap = mpl.colors.ListedColormap(-(np.min(mat) + 1) * ['#6B0E30']\n",
    "                                             + ['#D81B60', '#FFFFFF', '#1E88E5'])\n",
    "            heat = sns.heatmap(mat,  # annot=True, linewidth=.2,\n",
    "                               ax=ax, cmap=cmap, cbar=False)\n",
    "            ax.set(box_aspect=max(.2, min(5, mat.shape[0] / mat.shape[1])),\n",
    "                   xticks=[], yticks=[], title=f'{sp_a} : {sp_b}')\n",
    "            figs[(sp_a, sp_b)] = fig\n",
    "        else:\n",
    "            fig = None\n",
    "\n",
    "        def expand_on(df):\n",
    "            df.columns = ['hash_A', 'hash_B']\n",
    "            df['species_A'] = sp_a\n",
    "            df['species_B'] = sp_b\n",
    "            sd = dict(source='interactome')\n",
    "            df['source_A'] = df.hash_A.apply(lambda crc: _proteome[sp_a].get(crc, sd)['source'])\n",
    "            df['source_B'] = [_proteome[sp_b].get(crc, sd)['source'] for crc in df.hash_B]\n",
    "            df['label'] = 0\n",
    "            return df\n",
    "\n",
    "        # extract negative edges\n",
    "        negs = np.vstack(np.nonzero(mat < 0)).T\n",
    "        # filter out the last column + row\n",
    "        negs = negs[(negs[:, 0] < axis_a.n) & (negs[:, 1] < axis_b.n)]\n",
    "        # convert back to crc64 hashes\n",
    "        negatives = expand_on(pd.DataFrame((axis_a.reverse(negs[:, 0]),\n",
    "                                            axis_b.reverse(negs[:, 1]))).T)\n",
    "        ab_negs.append(negatives)\n",
    "        all_negatives.append(negatives)\n",
    "        if verbose or not len(negatives):\n",
    "            tqdm.write(f'{sp_a}-{sp_b}: {len(negatives)}/{limit} interactome negatives')\n",
    "\n",
    "        # look up the indices of potential extra/proteome negatives\n",
    "        right = np.flatnonzero(mat[:, axis_b.n])\n",
    "        right = np.vstack((right, -mat[right, axis_b.n])).T\n",
    "        bottom = np.flatnonzero(mat[axis_a.n, :])\n",
    "        bottom = np.vstack((bottom, -mat[axis_a.n, bottom])).T\n",
    "\n",
    "        for row, flip in zip([right, bottom], [False, True]):\n",
    "            axis_a, axis_b = axes[::-1] if flip else axes\n",
    "            if len(row) and _proteome[axis_b.species]:\n",
    "                nn, missing = find_proteome_negative_pairs(\n",
    "                    row, set(_proteome[axis_b.species]) - set(axis_b.proteins),\n",
    "                    axis_b.species, cfg.seed,\n",
    "                    axis_a.reverse, axis_b.ideal_median, verbose, True)\n",
    "                nn = expand_on(pd.DataFrame(nn[[1, 0]].values) if flip else nn)\n",
    "                all_negatives.append(nn)\n",
    "                ab_negs.append(nn)\n",
    "                all_missing.append((sp_a, sp_b, missing, flip))\n",
    "\n",
    "        all_biases.append((sp_a, sp_b, estimate_bias(ab_ppis, pd.concat(ab_negs))[0]))\n",
    "    all_missing = pd.DataFrame(all_missing, columns=[\n",
    "        'species_A', 'species_B', 'missing', 'flip'])\n",
    "    all_biases = pd.DataFrame(all_biases, columns=[\n",
    "        'species_A', 'species_B', 'bias'])\n",
    "    return all_negatives, all_missing, all_biases, figs"
   ],
   "metadata": {
    "collapsed": false
   }
  },
  {
   "cell_type": "code",
   "execution_count": 55,
   "outputs": [
    {
     "name": "stderr",
     "output_type": "stream",
     "text": [
      "632-9606: 14093it [00:03, 3671.70it/s]                                               \n",
      "1392-9606: 6869it [00:01, 4858.34it/s]                                               \n",
      "3702-9606: 90it [00:00, 7507.26it/s]                                                 \n",
      "3702-10299: 20it [00:00, 6697.49it/s]                                                \n"
     ]
    },
    {
     "name": "stdout",
     "output_type": "stream",
     "text": [
      "3702-10299: 0/10 interactome negatives\n"
     ]
    },
    {
     "name": "stderr",
     "output_type": "stream",
     "text": [
      "3702-559292: 133it [00:00, 6040.20it/s]                                              \n",
      "3702-1111708: 20it [00:00, 6557.19it/s]                                              \n"
     ]
    },
    {
     "name": "stdout",
     "output_type": "stream",
     "text": [
      "3702-1111708: 0/10 interactome negatives\n"
     ]
    },
    {
     "name": "stderr",
     "output_type": "stream",
     "text": [
      "6239-9606: 90it [00:00, 7502.63it/s]                                                 \n",
      "6239-559292: 57it [00:00, 7336.97it/s]                                               \n",
      "7227-9606: 80it [00:00, 7467.33it/s]                                                 \n",
      "7227-10090: 68it [00:00, 6333.13it/s]                                                \n",
      "7227-10116: 38it [00:00, 6864.95it/s]                                                \n",
      "7227-559292: 20it [00:00, 5750.35it/s]                                               \n"
     ]
    },
    {
     "name": "stdout",
     "output_type": "stream",
     "text": [
      "7227-559292: 0/10 interactome negatives\n"
     ]
    },
    {
     "name": "stderr",
     "output_type": "stream",
     "text": [
      "7955-9606: 20it [00:00, 6567.45it/s]                                                 \n"
     ]
    },
    {
     "name": "stdout",
     "output_type": "stream",
     "text": [
      "7955-9606: 0/10 interactome negatives\n"
     ]
    },
    {
     "name": "stderr",
     "output_type": "stream",
     "text": [
      "8355-9606: 57it [00:00, 6985.60it/s]                                                 \n",
      "9031-9606: 57it [00:00, 7115.76it/s]                                                 \n",
      "9031-10090: 20it [00:00, 6227.62it/s]                                                \n"
     ]
    },
    {
     "name": "stdout",
     "output_type": "stream",
     "text": [
      "9031-10090: 0/10 interactome negatives\n"
     ]
    },
    {
     "name": "stderr",
     "output_type": "stream",
     "text": [
      "9031-83333: 20it [00:00, 6432.00it/s]                                                \n"
     ]
    },
    {
     "name": "stdout",
     "output_type": "stream",
     "text": [
      "9031-83333: 0/10 interactome negatives\n"
     ]
    },
    {
     "name": "stderr",
     "output_type": "stream",
     "text": [
      "9606-9913: 96it [00:00, 7390.84it/s]                                                 \n",
      "9606-9986: 133it [00:00, 7348.15it/s]                                                \n",
      "9606-10090: 2187it [00:00, 6334.09it/s]                                              \n",
      "9606-10116: 175it [00:00, 5137.81it/s]                                               \n",
      "9606-10299: 161it [00:00, 7383.93it/s]                                               \n",
      "9606-10377: 951it [00:00, 6993.91it/s]                                               \n",
      "9606-11706: 662it [00:00, 7484.01it/s]                                               \n",
      "9606-37296: 57it [00:00, 7242.51it/s]                                                \n",
      "9606-272634: 114it [00:00, 7514.31it/s]                                              \n",
      "9606-284812: 57it [00:00, 6852.46it/s]                                               \n",
      "9606-333760: 3185it [00:00, 6854.42it/s]                                             \n",
      "9606-559292: 8122it [00:01, 5394.46it/s]                                             \n",
      "9606-2697049: 60it [00:00, 7288.53it/s]                                              \n"
     ]
    },
    {
     "name": "stdout",
     "output_type": "stream",
     "text": [
      "9606-2697049: 0/30 interactome negatives\n"
     ]
    },
    {
     "name": "stderr",
     "output_type": "stream",
     "text": [
      "9913-10090: 38it [00:00, 7074.28it/s]                                                \n",
      "9913-10116: 20it [00:00, 6559.75it/s]                                                \n"
     ]
    },
    {
     "name": "stdout",
     "output_type": "stream",
     "text": [
      "9913-10116: 0/10 interactome negatives\n"
     ]
    },
    {
     "name": "stderr",
     "output_type": "stream",
     "text": [
      "9986-10090: 40it [00:00, 7142.89it/s]                                                \n"
     ]
    },
    {
     "name": "stdout",
     "output_type": "stream",
     "text": [
      "9986-10090: 0/20 interactome negatives\n"
     ]
    },
    {
     "name": "stderr",
     "output_type": "stream",
     "text": [
      "10090-10116: 102it [00:00, 7467.73it/s]                                              \n",
      "10090-10377: 38it [00:00, 7241.09it/s]                                               \n",
      "10090-559292: 38it [00:00, 7255.59it/s]                                              \n",
      "10090-2697049: 20it [00:00, 6783.06it/s]                                             \n"
     ]
    },
    {
     "name": "stdout",
     "output_type": "stream",
     "text": [
      "10090-2697049: 0/10 interactome negatives\n"
     ]
    },
    {
     "name": "stderr",
     "output_type": "stream",
     "text": [
      "10116-83333: 20it [00:00, 6462.72it/s]                                               \n"
     ]
    },
    {
     "name": "stdout",
     "output_type": "stream",
     "text": [
      "10116-83333: 0/10 interactome negatives\n"
     ]
    },
    {
     "name": "stderr",
     "output_type": "stream",
     "text": [
      "10377-559292: 20it [00:00, 6636.03it/s]                                              \n"
     ]
    },
    {
     "name": "stdout",
     "output_type": "stream",
     "text": [
      "10377-559292: 0/10 interactome negatives\n"
     ]
    },
    {
     "name": "stderr",
     "output_type": "stream",
     "text": [
      "284812-559292: 54it [00:00, 7410.43it/s]                                             \n"
     ]
    }
   ],
   "source": [
    "c.ratio = 10.0\n",
    "isp_negatives, missing, isp_bias, figs = make_interspecies_negatives(\n",
    "    isp,\n",
    "    # isp.loc[(isp.species_A == 632) & (isp.species_B == 9606)],\n",
    "    # isp.loc[(isp.species_A == 9606) & (isp.species_B == 10090)],\n",
    "    combined_proteome, c, verbose=False)"
   ],
   "metadata": {
    "collapsed": false
   }
  },
  {
   "cell_type": "code",
   "execution_count": 59,
   "outputs": [
    {
     "data": {
      "text/plain": "                    hash_A                hash_B  species_A  species_B  \\\n2     CRC-003F04A89D9D9298  CRC-5B57ABE4DF6E396E        632       9606   \n21    CRC-024C480A68F78570  CRC-EC228BD0C9E643F1        632       9606   \n22    CRC-02E75A6009F646CF  CRC-07F735690D669778        632       9606   \n23    CRC-02E75A6009F646CF  CRC-57BFB99907652745        632       9606   \n24    CRC-02E75A6009F646CF  CRC-AB47827778694064        632       9606   \n...                    ...                   ...        ...        ...   \n3415  CRC-FEB1772E2B16D53F  CRC-04209B8159A5738C        632       9606   \n3416  CRC-FEB1772E2B16D53F  CRC-4031A3DC18A33646        632       9606   \n3417  CRC-FEB1772E2B16D53F  CRC-9F206A319B7E3DD8        632       9606   \n3418  CRC-FECEF9E13AD116A7  CRC-51B65E7C94E458D7        632       9606   \n3422  CRC-FF7DA1DD115285DD  CRC-2F8D1C7169A7817E        632       9606   \n\n         source_A     source_B  label  \n2     interactome  interactome      1  \n21    interactome  interactome      1  \n22    interactome  interactome      1  \n23    interactome  interactome      1  \n24    interactome  interactome      1  \n...           ...          ...    ...  \n3415  interactome  interactome      1  \n3416  interactome  interactome      1  \n3417  interactome  interactome      1  \n3418  interactome  interactome      1  \n3422  interactome  interactome      1  \n\n[1391 rows x 7 columns]",
      "text/html": "<div>\n<style scoped>\n    .dataframe tbody tr th:only-of-type {\n        vertical-align: middle;\n    }\n\n    .dataframe tbody tr th {\n        vertical-align: top;\n    }\n\n    .dataframe thead th {\n        text-align: right;\n    }\n</style>\n<table border=\"1\" class=\"dataframe\">\n  <thead>\n    <tr style=\"text-align: right;\">\n      <th></th>\n      <th>hash_A</th>\n      <th>hash_B</th>\n      <th>species_A</th>\n      <th>species_B</th>\n      <th>source_A</th>\n      <th>source_B</th>\n      <th>label</th>\n    </tr>\n  </thead>\n  <tbody>\n    <tr>\n      <th>2</th>\n      <td>CRC-003F04A89D9D9298</td>\n      <td>CRC-5B57ABE4DF6E396E</td>\n      <td>632</td>\n      <td>9606</td>\n      <td>interactome</td>\n      <td>interactome</td>\n      <td>1</td>\n    </tr>\n    <tr>\n      <th>21</th>\n      <td>CRC-024C480A68F78570</td>\n      <td>CRC-EC228BD0C9E643F1</td>\n      <td>632</td>\n      <td>9606</td>\n      <td>interactome</td>\n      <td>interactome</td>\n      <td>1</td>\n    </tr>\n    <tr>\n      <th>22</th>\n      <td>CRC-02E75A6009F646CF</td>\n      <td>CRC-07F735690D669778</td>\n      <td>632</td>\n      <td>9606</td>\n      <td>interactome</td>\n      <td>interactome</td>\n      <td>1</td>\n    </tr>\n    <tr>\n      <th>23</th>\n      <td>CRC-02E75A6009F646CF</td>\n      <td>CRC-57BFB99907652745</td>\n      <td>632</td>\n      <td>9606</td>\n      <td>interactome</td>\n      <td>interactome</td>\n      <td>1</td>\n    </tr>\n    <tr>\n      <th>24</th>\n      <td>CRC-02E75A6009F646CF</td>\n      <td>CRC-AB47827778694064</td>\n      <td>632</td>\n      <td>9606</td>\n      <td>interactome</td>\n      <td>interactome</td>\n      <td>1</td>\n    </tr>\n    <tr>\n      <th>...</th>\n      <td>...</td>\n      <td>...</td>\n      <td>...</td>\n      <td>...</td>\n      <td>...</td>\n      <td>...</td>\n      <td>...</td>\n    </tr>\n    <tr>\n      <th>3415</th>\n      <td>CRC-FEB1772E2B16D53F</td>\n      <td>CRC-04209B8159A5738C</td>\n      <td>632</td>\n      <td>9606</td>\n      <td>interactome</td>\n      <td>interactome</td>\n      <td>1</td>\n    </tr>\n    <tr>\n      <th>3416</th>\n      <td>CRC-FEB1772E2B16D53F</td>\n      <td>CRC-4031A3DC18A33646</td>\n      <td>632</td>\n      <td>9606</td>\n      <td>interactome</td>\n      <td>interactome</td>\n      <td>1</td>\n    </tr>\n    <tr>\n      <th>3417</th>\n      <td>CRC-FEB1772E2B16D53F</td>\n      <td>CRC-9F206A319B7E3DD8</td>\n      <td>632</td>\n      <td>9606</td>\n      <td>interactome</td>\n      <td>interactome</td>\n      <td>1</td>\n    </tr>\n    <tr>\n      <th>3418</th>\n      <td>CRC-FECEF9E13AD116A7</td>\n      <td>CRC-51B65E7C94E458D7</td>\n      <td>632</td>\n      <td>9606</td>\n      <td>interactome</td>\n      <td>interactome</td>\n      <td>1</td>\n    </tr>\n    <tr>\n      <th>3422</th>\n      <td>CRC-FF7DA1DD115285DD</td>\n      <td>CRC-2F8D1C7169A7817E</td>\n      <td>632</td>\n      <td>9606</td>\n      <td>interactome</td>\n      <td>interactome</td>\n      <td>1</td>\n    </tr>\n  </tbody>\n</table>\n<p>1391 rows × 7 columns</p>\n</div>"
     },
     "execution_count": 59,
     "metadata": {},
     "output_type": "execute_result"
    }
   ],
   "source": [
    "isp.loc[(isp.species_A == 632) & (isp.species_B == 9606)]"
   ],
   "metadata": {
    "collapsed": false
   }
  },
  {
   "cell_type": "code",
   "execution_count": 168,
   "outputs": [
    {
     "name": "stderr",
     "output_type": "stream",
     "text": [
      "632-9606: 14093it [00:03, 3633.51it/s]                                               \n"
     ]
    },
    {
     "name": "stdout",
     "output_type": "stream",
     "text": [
      "632-9606: 13727/13910 interactome negatives\n",
      "9606: need 32 extra proteins for 129 hubs; select 32 from 9990 additional proteins. Try to create 183 interactions, ideally 11 per protein.\n",
      "proteome interactions:\n",
      "   count  mean   std  min   25%  50%  75%   max\n",
      "0   32.0  5.72  2.02  2.0  4.75  5.5  7.0  11.0\n",
      "632: need 183 extra proteins for 1 hubs; select 183 from 1848 additional proteins. Try to create 183 interactions, ideally 22 per protein.\n",
      "proteome interactions:\n",
      "   count  mean  std  min  25%  50%  75%  max\n",
      "0  183.0   1.0  0.0  1.0  1.0  1.0  1.0  1.0\n"
     ]
    },
    {
     "data": {
      "text/plain": "<Figure size 640x480 with 1 Axes>",
      "image/png": "[encoded data removed]"
     },
     "metadata": {},
     "output_type": "display_data"
    }
   ],
   "source": [
    "negs_632, missing_632, bias_632, figs = make_interspecies_negatives(\n",
    "    isp.loc[(isp.species_A == 632) & (isp.species_B == 9606)],\n",
    "    combined_proteome, c, verbose=True)"
   ],
   "metadata": {
    "collapsed": false
   }
  },
  {
   "cell_type": "code",
   "execution_count": 164,
   "outputs": [
    {
     "data": {
      "text/plain": "PosixPath('apid_isp')"
     },
     "execution_count": 164,
     "metadata": {},
     "output_type": "execute_result"
    }
   ],
   "source": [
    "fig = list(figs.values())[0]\n",
    "fig.savefig(c.ip / '632:9606.png')\n",
    "c.ip"
   ],
   "metadata": {
    "collapsed": false
   }
  },
  {
   "cell_type": "code",
   "execution_count": 169,
   "outputs": [
    {
     "data": {
      "text/plain": "[                     hash_A                hash_B  species_A  species_B  \\\n 0      CRC-003F04A89D9D9298  CRC-0D976CAF6EAC7A15        632       9606   \n 1      CRC-003F04A89D9D9298  CRC-19372E897BC63609        632       9606   \n 2      CRC-003F04A89D9D9298  CRC-22DCD8CF022FEF09        632       9606   \n 3      CRC-003F04A89D9D9298  CRC-2A7C8FF86A10D1A8        632       9606   \n 4      CRC-003F04A89D9D9298  CRC-358F2B8745DB9D32        632       9606   \n ...                     ...                   ...        ...        ...   \n 13722  CRC-FF7DA1DD115285DD  CRC-5F9C132B6E81DFDD        632       9606   \n 13723  CRC-FF7DA1DD115285DD  CRC-7774BBC0911DA1C2        632       9606   \n 13724  CRC-FF7DA1DD115285DD  CRC-7CE51C0F35DDBC3C        632       9606   \n 13725  CRC-FF7DA1DD115285DD  CRC-C206C80827F49681        632       9606   \n 13726  CRC-FF7DA1DD115285DD  CRC-D8FC889A20AF732F        632       9606   \n \n           source_A     source_B  label  \n 0      interactome  interactome      0  \n 1      interactome  interactome      0  \n 2      interactome  interactome      0  \n 3      interactome  interactome      0  \n 4      interactome  interactome      0  \n ...            ...          ...    ...  \n 13722  interactome  interactome      0  \n 13723  interactome  interactome      0  \n 13724  interactome  interactome      0  \n 13725  interactome  interactome      0  \n 13726  interactome  interactome      0  \n \n [13727 rows x 7 columns],\n                    hash_A                hash_B  species_A  species_B  \\\n 0    CRC-02E75A6009F646CF  CRC-882052D9411DA7B1        632       9606   \n 1    CRC-042B6C7C53CF51FC  CRC-882052D9411DA7B1        632       9606   \n 2    CRC-0707D8122878FC2B  CRC-40C0F6D248C650AE        632       9606   \n 3    CRC-07BCA59BB4FDAA9D  CRC-50D8D72F26D227E3        632       9606   \n 4    CRC-0AE4DD9F50F5A4EB  CRC-13B25B3B1F4F8548        632       9606   \n ..                    ...                   ...        ...        ...   \n 178  CRC-F80AAD13399E6045  CRC-40C0F6D248C650AE        632       9606   \n 179  CRC-F8DEADCE85F87EB5  CRC-7062F33544448479        632       9606   \n 180  CRC-FAF33C1F2110033F  CRC-9E93E9E60E1697C5        632       9606   \n 181  CRC-FCCF112AE6AFB72A  CRC-B012F1A2784917B2        632       9606   \n 182  CRC-FD99882396EA9B92  CRC-A5549AC3973FABC9        632       9606   \n \n         source_A   source_B  label  \n 0    interactome       apid      0  \n 1    interactome       apid      0  \n 2    interactome  swissprot      0  \n 3    interactome       apid      0  \n 4    interactome  swissprot      0  \n ..           ...        ...    ...  \n 178  interactome  swissprot      0  \n 179  interactome       apid      0  \n 180  interactome       apid      0  \n 181  interactome  swissprot      0  \n 182  interactome       apid      0  \n \n [183 rows x 7 columns],\n                    hash_A                hash_B  species_A  species_B  \\\n 0    CRC-059C9724BA450386  CRC-2A7C8FF86A10D1A8        632       9606   \n 1    CRC-018B366A1983D3C0  CRC-2A7C8FF86A10D1A8        632       9606   \n 2    CRC-DC67F49289B3E8F1  CRC-2A7C8FF86A10D1A8        632       9606   \n 3    CRC-CF7D774FD5668B9A  CRC-2A7C8FF86A10D1A8        632       9606   \n 4    CRC-57843CFF3DD9009D  CRC-2A7C8FF86A10D1A8        632       9606   \n ..                    ...                   ...        ...        ...   \n 178  CRC-A0B363D58202C3F8  CRC-2A7C8FF86A10D1A8        632       9606   \n 179  CRC-934AFD83D6273345  CRC-2A7C8FF86A10D1A8        632       9606   \n 180  CRC-89853B6C27AC60FE  CRC-2A7C8FF86A10D1A8        632       9606   \n 181  CRC-A032A0DF974481D4  CRC-2A7C8FF86A10D1A8        632       9606   \n 182  CRC-22EC85110AC16C48  CRC-2A7C8FF86A10D1A8        632       9606   \n \n       source_A     source_B  label  \n 0    swissprot  interactome      0  \n 1    swissprot  interactome      0  \n 2    swissprot  interactome      0  \n 3    swissprot  interactome      0  \n 4    swissprot  interactome      0  \n ..         ...          ...    ...  \n 178  swissprot  interactome      0  \n 179  swissprot  interactome      0  \n 180  swissprot  interactome      0  \n 181  swissprot  interactome      0  \n 182  swissprot  interactome      0  \n \n [183 rows x 7 columns]]"
     },
     "execution_count": 169,
     "metadata": {},
     "output_type": "execute_result"
    }
   ],
   "source": [
    "negs_632"
   ],
   "metadata": {
    "collapsed": false
   }
  },
  {
   "cell_type": "code",
   "execution_count": 57,
   "outputs": [
    {
     "data": {
      "text/plain": "    species_A  species_B      bias\n0         632       9606  0.999457\n1        1392       9606  0.999672\n2        3702       9606  0.954662\n3        3702      10299  1.000000\n4        3702     559292  0.984202\n5        3702    1111708  1.000000\n6        6239       9606  0.957198\n7        6239     559292  0.979337\n8        7227       9606  1.000000\n9        7227      10090  1.000000\n10       7227      10116  1.000000\n11       7227     559292  1.000000\n12       7955       9606  1.000000\n13       8355       9606  0.979337\n14       9031       9606  0.979337\n15       9031      10090  1.000000\n16       9031      83333  1.000000\n17       9606       9913  0.931631\n18       9606       9986  0.984256\n19       9606      10090  0.998458\n20       9606      10116  0.995196\n21       9606      10299  0.982983\n22       9606      10377  0.988398\n23       9606      11706  0.946787\n24       9606      37296  0.979337\n25       9606     272634  0.988974\n26       9606     284812  0.979337\n27       9606     333760  0.963079\n28       9606     559292  0.998635\n29       9606    2697049  0.983651\n30       9913      10090  1.000000\n31       9913      10116  1.000000\n32       9986      10090  0.992189\n33      10090      10116  0.942519\n34      10090      10377  1.000000\n35      10090     559292  1.000000\n36      10090    2697049  1.000000\n37      10116      83333  1.000000\n38      10377     559292  1.000000\n39     284812     559292  1.000000",
      "text/html": "<div>\n<style scoped>\n    .dataframe tbody tr th:only-of-type {\n        vertical-align: middle;\n    }\n\n    .dataframe tbody tr th {\n        vertical-align: top;\n    }\n\n    .dataframe thead th {\n        text-align: right;\n    }\n</style>\n<table border=\"1\" class=\"dataframe\">\n  <thead>\n    <tr style=\"text-align: right;\">\n      <th></th>\n      <th>species_A</th>\n      <th>species_B</th>\n      <th>bias</th>\n    </tr>\n  </thead>\n  <tbody>\n    <tr>\n      <th>0</th>\n      <td>632</td>\n      <td>9606</td>\n      <td>0.999457</td>\n    </tr>\n    <tr>\n      <th>1</th>\n      <td>1392</td>\n      <td>9606</td>\n      <td>0.999672</td>\n    </tr>\n    <tr>\n      <th>2</th>\n      <td>3702</td>\n      <td>9606</td>\n      <td>0.954662</td>\n    </tr>\n    <tr>\n      <th>3</th>\n      <td>3702</td>\n      <td>10299</td>\n      <td>1.000000</td>\n    </tr>\n    <tr>\n      <th>4</th>\n      <td>3702</td>\n      <td>559292</td>\n      <td>0.984202</td>\n    </tr>\n    <tr>\n      <th>5</th>\n      <td>3702</td>\n      <td>1111708</td>\n      <td>1.000000</td>\n    </tr>\n    <tr>\n      <th>6</th>\n      <td>6239</td>\n      <td>9606</td>\n      <td>0.957198</td>\n    </tr>\n    <tr>\n      <th>7</th>\n      <td>6239</td>\n      <td>559292</td>\n      <td>0.979337</td>\n    </tr>\n    <tr>\n      <th>8</th>\n      <td>7227</td>\n      <td>9606</td>\n      <td>1.000000</td>\n    </tr>\n    <tr>\n      <th>9</th>\n      <td>7227</td>\n      <td>10090</td>\n      <td>1.000000</td>\n    </tr>\n    <tr>\n      <th>10</th>\n      <td>7227</td>\n      <td>10116</td>\n      <td>1.000000</td>\n    </tr>\n    <tr>\n      <th>11</th>\n      <td>7227</td>\n      <td>559292</td>\n      <td>1.000000</td>\n    </tr>\n    <tr>\n      <th>12</th>\n      <td>7955</td>\n      <td>9606</td>\n      <td>1.000000</td>\n    </tr>\n    <tr>\n      <th>13</th>\n      <td>8355</td>\n      <td>9606</td>\n      <td>0.979337</td>\n    </tr>\n    <tr>\n      <th>14</th>\n      <td>9031</td>\n      <td>9606</td>\n      <td>0.979337</td>\n    </tr>\n    <tr>\n      <th>15</th>\n      <td>9031</td>\n      <td>10090</td>\n      <td>1.000000</td>\n    </tr>\n    <tr>\n      <th>16</th>\n      <td>9031</td>\n      <td>83333</td>\n      <td>1.000000</td>\n    </tr>\n    <tr>\n      <th>17</th>\n      <td>9606</td>\n      <td>9913</td>\n      <td>0.931631</td>\n    </tr>\n    <tr>\n      <th>18</th>\n      <td>9606</td>\n      <td>9986</td>\n      <td>0.984256</td>\n    </tr>\n    <tr>\n      <th>19</th>\n      <td>9606</td>\n      <td>10090</td>\n      <td>0.998458</td>\n    </tr>\n    <tr>\n      <th>20</th>\n      <td>9606</td>\n      <td>10116</td>\n      <td>0.995196</td>\n    </tr>\n    <tr>\n      <th>21</th>\n      <td>9606</td>\n      <td>10299</td>\n      <td>0.982983</td>\n    </tr>\n    <tr>\n      <th>22</th>\n      <td>9606</td>\n      <td>10377</td>\n      <td>0.988398</td>\n    </tr>\n    <tr>\n      <th>23</th>\n      <td>9606</td>\n      <td>11706</td>\n      <td>0.946787</td>\n    </tr>\n    <tr>\n      <th>24</th>\n      <td>9606</td>\n      <td>37296</td>\n      <td>0.979337</td>\n    </tr>\n    <tr>\n      <th>25</th>\n      <td>9606</td>\n      <td>272634</td>\n      <td>0.988974</td>\n    </tr>\n    <tr>\n      <th>26</th>\n      <td>9606</td>\n      <td>284812</td>\n      <td>0.979337</td>\n    </tr>\n    <tr>\n      <th>27</th>\n      <td>9606</td>\n      <td>333760</td>\n      <td>0.963079</td>\n    </tr>\n    <tr>\n      <th>28</th>\n      <td>9606</td>\n      <td>559292</td>\n      <td>0.998635</td>\n    </tr>\n    <tr>\n      <th>29</th>\n      <td>9606</td>\n      <td>2697049</td>\n      <td>0.983651</td>\n    </tr>\n    <tr>\n      <th>30</th>\n      <td>9913</td>\n      <td>10090</td>\n      <td>1.000000</td>\n    </tr>\n    <tr>\n      <th>31</th>\n      <td>9913</td>\n      <td>10116</td>\n      <td>1.000000</td>\n    </tr>\n    <tr>\n      <th>32</th>\n      <td>9986</td>\n      <td>10090</td>\n      <td>0.992189</td>\n    </tr>\n    <tr>\n      <th>33</th>\n      <td>10090</td>\n      <td>10116</td>\n      <td>0.942519</td>\n    </tr>\n    <tr>\n      <th>34</th>\n      <td>10090</td>\n      <td>10377</td>\n      <td>1.000000</td>\n    </tr>\n    <tr>\n      <th>35</th>\n      <td>10090</td>\n      <td>559292</td>\n      <td>1.000000</td>\n    </tr>\n    <tr>\n      <th>36</th>\n      <td>10090</td>\n      <td>2697049</td>\n      <td>1.000000</td>\n    </tr>\n    <tr>\n      <th>37</th>\n      <td>10116</td>\n      <td>83333</td>\n      <td>1.000000</td>\n    </tr>\n    <tr>\n      <th>38</th>\n      <td>10377</td>\n      <td>559292</td>\n      <td>1.000000</td>\n    </tr>\n    <tr>\n      <th>39</th>\n      <td>284812</td>\n      <td>559292</td>\n      <td>1.000000</td>\n    </tr>\n  </tbody>\n</table>\n</div>"
     },
     "execution_count": 57,
     "metadata": {},
     "output_type": "execute_result"
    }
   ],
   "source": [
    "isp_bias"
   ],
   "metadata": {
    "collapsed": false
   }
  },
  {
   "cell_type": "code",
   "execution_count": 58,
   "outputs": [
    {
     "data": {
      "text/plain": "    species_A  species_B  missing   flip\n46       9606      11706      145  False\n54       9606     333760      909  False",
      "text/html": "<div>\n<style scoped>\n    .dataframe tbody tr th:only-of-type {\n        vertical-align: middle;\n    }\n\n    .dataframe tbody tr th {\n        vertical-align: top;\n    }\n\n    .dataframe thead th {\n        text-align: right;\n    }\n</style>\n<table border=\"1\" class=\"dataframe\">\n  <thead>\n    <tr style=\"text-align: right;\">\n      <th></th>\n      <th>species_A</th>\n      <th>species_B</th>\n      <th>missing</th>\n      <th>flip</th>\n    </tr>\n  </thead>\n  <tbody>\n    <tr>\n      <th>46</th>\n      <td>9606</td>\n      <td>11706</td>\n      <td>145</td>\n      <td>False</td>\n    </tr>\n    <tr>\n      <th>54</th>\n      <td>9606</td>\n      <td>333760</td>\n      <td>909</td>\n      <td>False</td>\n    </tr>\n  </tbody>\n</table>\n</div>"
     },
     "execution_count": 58,
     "metadata": {},
     "output_type": "execute_result"
    }
   ],
   "source": [
    "missing.loc[missing.missing > 0]"
   ],
   "metadata": {
    "collapsed": false
   }
  },
  {
   "cell_type": "code",
   "execution_count": 59,
   "outputs": [
    {
     "data": {
      "text/plain": "                  hash_A                hash_B  species_A  species_B  \\\n0   CRC-003F04A89D9D9298  CRC-0D976CAF6EAC7A15        632       9606   \n1   CRC-003F04A89D9D9298  CRC-19372E897BC63609        632       9606   \n2   CRC-003F04A89D9D9298  CRC-22DCD8CF022FEF09        632       9606   \n3   CRC-003F04A89D9D9298  CRC-2A7C8FF86A10D1A8        632       9606   \n4   CRC-003F04A89D9D9298  CRC-358F2B8745DB9D32        632       9606   \n..                   ...                   ...        ...        ...   \n19  CRC-1523145F2EEBCE41  CRC-F3C58B1BB986442D     284812     559292   \n20  CRC-5661166AEB7C6C7A  CRC-F3C58B1BB986442D     284812     559292   \n21  CRC-F488C398D2550275  CRC-F3C58B1BB986442D     284812     559292   \n22  CRC-06395BE71B775DAD  CRC-F3C58B1BB986442D     284812     559292   \n23  CRC-373ECBEF439C3708  CRC-F3C58B1BB986442D     284812     559292   \n\n       source_A     source_B  label  \n0   interactome  interactome      0  \n1   interactome  interactome      0  \n2   interactome  interactome      0  \n3   interactome  interactome      0  \n4   interactome  interactome      0  \n..          ...          ...    ...  \n19    swissprot  interactome      0  \n20         apid  interactome      0  \n21         apid  interactome      0  \n22         apid  interactome      0  \n23    swissprot  interactome      0  \n\n[37048 rows x 7 columns]",
      "text/html": "<div>\n<style scoped>\n    .dataframe tbody tr th:only-of-type {\n        vertical-align: middle;\n    }\n\n    .dataframe tbody tr th {\n        vertical-align: top;\n    }\n\n    .dataframe thead th {\n        text-align: right;\n    }\n</style>\n<table border=\"1\" class=\"dataframe\">\n  <thead>\n    <tr style=\"text-align: right;\">\n      <th></th>\n      <th>hash_A</th>\n      <th>hash_B</th>\n      <th>species_A</th>\n      <th>species_B</th>\n      <th>source_A</th>\n      <th>source_B</th>\n      <th>label</th>\n    </tr>\n  </thead>\n  <tbody>\n    <tr>\n      <th>0</th>\n      <td>CRC-003F04A89D9D9298</td>\n      <td>CRC-0D976CAF6EAC7A15</td>\n      <td>632</td>\n      <td>9606</td>\n      <td>interactome</td>\n      <td>interactome</td>\n      <td>0</td>\n    </tr>\n    <tr>\n      <th>1</th>\n      <td>CRC-003F04A89D9D9298</td>\n      <td>CRC-19372E897BC63609</td>\n      <td>632</td>\n      <td>9606</td>\n      <td>interactome</td>\n      <td>interactome</td>\n      <td>0</td>\n    </tr>\n    <tr>\n      <th>2</th>\n      <td>CRC-003F04A89D9D9298</td>\n      <td>CRC-22DCD8CF022FEF09</td>\n      <td>632</td>\n      <td>9606</td>\n      <td>interactome</td>\n      <td>interactome</td>\n      <td>0</td>\n    </tr>\n    <tr>\n      <th>3</th>\n      <td>CRC-003F04A89D9D9298</td>\n      <td>CRC-2A7C8FF86A10D1A8</td>\n      <td>632</td>\n      <td>9606</td>\n      <td>interactome</td>\n      <td>interactome</td>\n      <td>0</td>\n    </tr>\n    <tr>\n      <th>4</th>\n      <td>CRC-003F04A89D9D9298</td>\n      <td>CRC-358F2B8745DB9D32</td>\n      <td>632</td>\n      <td>9606</td>\n      <td>interactome</td>\n      <td>interactome</td>\n      <td>0</td>\n    </tr>\n    <tr>\n      <th>...</th>\n      <td>...</td>\n      <td>...</td>\n      <td>...</td>\n      <td>...</td>\n      <td>...</td>\n      <td>...</td>\n      <td>...</td>\n    </tr>\n    <tr>\n      <th>19</th>\n      <td>CRC-1523145F2EEBCE41</td>\n      <td>CRC-F3C58B1BB986442D</td>\n      <td>284812</td>\n      <td>559292</td>\n      <td>swissprot</td>\n      <td>interactome</td>\n      <td>0</td>\n    </tr>\n    <tr>\n      <th>20</th>\n      <td>CRC-5661166AEB7C6C7A</td>\n      <td>CRC-F3C58B1BB986442D</td>\n      <td>284812</td>\n      <td>559292</td>\n      <td>apid</td>\n      <td>interactome</td>\n      <td>0</td>\n    </tr>\n    <tr>\n      <th>21</th>\n      <td>CRC-F488C398D2550275</td>\n      <td>CRC-F3C58B1BB986442D</td>\n      <td>284812</td>\n      <td>559292</td>\n      <td>apid</td>\n      <td>interactome</td>\n      <td>0</td>\n    </tr>\n    <tr>\n      <th>22</th>\n      <td>CRC-06395BE71B775DAD</td>\n      <td>CRC-F3C58B1BB986442D</td>\n      <td>284812</td>\n      <td>559292</td>\n      <td>apid</td>\n      <td>interactome</td>\n      <td>0</td>\n    </tr>\n    <tr>\n      <th>23</th>\n      <td>CRC-373ECBEF439C3708</td>\n      <td>CRC-F3C58B1BB986442D</td>\n      <td>284812</td>\n      <td>559292</td>\n      <td>swissprot</td>\n      <td>interactome</td>\n      <td>0</td>\n    </tr>\n  </tbody>\n</table>\n<p>37048 rows × 7 columns</p>\n</div>"
     },
     "execution_count": 59,
     "metadata": {},
     "output_type": "execute_result"
    }
   ],
   "source": [
    "isp_negs = pd.concat(isp_negatives)\n",
    "isp_negs"
   ],
   "metadata": {
    "collapsed": false
   }
  },
  {
   "cell_type": "markdown",
   "source": [
    "#### bias"
   ],
   "metadata": {
    "collapsed": false
   }
  },
  {
   "cell_type": "code",
   "execution_count": 60,
   "outputs": [],
   "source": [
    "_isp = isp.copy()\n",
    "_isp['species'] = _isp.species_A.astype(str) + '0' + _isp.species_B.astype(str)\n",
    "_isp = _isp[['hash_A', 'hash_B', 'species', 'label']]\n",
    "_isp_negs = isp_negs.copy()\n",
    "_isp_negs['species'] = _isp_negs.species_A.astype(str) + '0' + _isp_negs.species_B.astype(str)\n",
    "_isp_negs = _isp_negs[['hash_A', 'hash_B', 'species', 'label']]\n",
    "_isp_bias = isp_bias.copy()\n",
    "_isp_bias['species'] = _isp_bias.species_A.astype(str) + '0' + _isp_bias.species_B.astype(str)\n",
    "_isp_bias = _isp_bias[['species', 'bias']]"
   ],
   "metadata": {
    "collapsed": false
   }
  },
  {
   "cell_type": "code",
   "execution_count": 61,
   "outputs": [
    {
     "data": {
      "text/plain": "<Figure size 500x400 with 1 Axes>",
      "image/png": "[encoded data removed]"
     },
     "metadata": {
      "needs_background": "light"
     },
     "output_type": "display_data"
    }
   ],
   "source": [
    "with mpl.rc_context({'figure.dpi': 100}):\n",
    "    fig = plot_bias(_isp, _isp_negs, _isp_bias, c.ratio)\n",
    "fig.savefig(c.ip / f'isp_bias.png', dpi=300, transparent=False)\n",
    "fig.savefig(c.ip / f'isp_bias.svg')"
   ],
   "metadata": {
    "collapsed": false
   }
  },
  {
   "cell_type": "markdown",
   "source": [
    "#### degrees"
   ],
   "metadata": {
    "collapsed": false
   }
  },
  {
   "cell_type": "code",
   "execution_count": 152,
   "outputs": [
    {
     "name": "stderr",
     "output_type": "stream",
     "text": [
      "/home/k/kaindll/mambaforge/envs/ppi/lib/python3.10/site-packages/seaborn/categorical.py:376: UserWarning: Attempting to set identical bottom == top == -0.5 results in singular transformations; automatically expanding.\n",
      "  ax.set_ylim(-.5, len(self.plot_data) - .5, auto=None)\n"
     ]
    },
    {
     "data": {
      "text/plain": "<Figure size 500x500 with 3 Axes>",
      "image/png": "[encoded data removed]"
     },
     "metadata": {},
     "output_type": "display_data"
    },
    {
     "ename": "ValueError",
     "evalue": "Data has no positive values, and therefore can not be log-scaled.",
     "output_type": "error",
     "traceback": [
      "\u001B[0;31m---------------------------------------------------------------------------\u001B[0m",
      "\u001B[0;31mValueError\u001B[0m                                Traceback (most recent call last)",
      "File \u001B[0;32m~/mambaforge/envs/ppi/lib/python3.10/site-packages/matplotlib_inline/backend_inline.py:43\u001B[0m, in \u001B[0;36mshow\u001B[0;34m(close, block)\u001B[0m\n\u001B[1;32m     39\u001B[0m \u001B[38;5;28;01mtry\u001B[39;00m:\n\u001B[1;32m     40\u001B[0m     \u001B[38;5;28;01mfor\u001B[39;00m figure_manager \u001B[38;5;129;01min\u001B[39;00m Gcf\u001B[38;5;241m.\u001B[39mget_all_fig_managers():\n\u001B[1;32m     41\u001B[0m         display(\n\u001B[1;32m     42\u001B[0m             figure_manager\u001B[38;5;241m.\u001B[39mcanvas\u001B[38;5;241m.\u001B[39mfigure,\n\u001B[0;32m---> 43\u001B[0m             metadata\u001B[38;5;241m=\u001B[39m\u001B[43m_fetch_figure_metadata\u001B[49m\u001B[43m(\u001B[49m\u001B[43mfigure_manager\u001B[49m\u001B[38;5;241;43m.\u001B[39;49m\u001B[43mcanvas\u001B[49m\u001B[38;5;241;43m.\u001B[39;49m\u001B[43mfigure\u001B[49m\u001B[43m)\u001B[49m\n\u001B[1;32m     44\u001B[0m         )\n\u001B[1;32m     45\u001B[0m \u001B[38;5;28;01mfinally\u001B[39;00m:\n\u001B[1;32m     46\u001B[0m     show\u001B[38;5;241m.\u001B[39m_to_draw \u001B[38;5;241m=\u001B[39m []\n",
      "File \u001B[0;32m~/mambaforge/envs/ppi/lib/python3.10/site-packages/matplotlib_inline/backend_inline.py:231\u001B[0m, in \u001B[0;36m_fetch_figure_metadata\u001B[0;34m(fig)\u001B[0m\n\u001B[1;32m    228\u001B[0m \u001B[38;5;66;03m# determine if a background is needed for legibility\u001B[39;00m\n\u001B[1;32m    229\u001B[0m \u001B[38;5;28;01mif\u001B[39;00m _is_transparent(fig\u001B[38;5;241m.\u001B[39mget_facecolor()):\n\u001B[1;32m    230\u001B[0m     \u001B[38;5;66;03m# the background is transparent\u001B[39;00m\n\u001B[0;32m--> 231\u001B[0m     ticksLight \u001B[38;5;241m=\u001B[39m _is_light([label\u001B[38;5;241m.\u001B[39mget_color()\n\u001B[1;32m    232\u001B[0m                             \u001B[38;5;28;01mfor\u001B[39;00m axes \u001B[38;5;129;01min\u001B[39;00m fig\u001B[38;5;241m.\u001B[39maxes\n\u001B[1;32m    233\u001B[0m                             \u001B[38;5;28;01mfor\u001B[39;00m axis \u001B[38;5;129;01min\u001B[39;00m (axes\u001B[38;5;241m.\u001B[39mxaxis, axes\u001B[38;5;241m.\u001B[39myaxis)\n\u001B[1;32m    234\u001B[0m                             \u001B[38;5;28;01mfor\u001B[39;00m label \u001B[38;5;129;01min\u001B[39;00m axis\u001B[38;5;241m.\u001B[39mget_ticklabels()])\n\u001B[1;32m    235\u001B[0m     \u001B[38;5;28;01mif\u001B[39;00m ticksLight\u001B[38;5;241m.\u001B[39msize \u001B[38;5;129;01mand\u001B[39;00m (ticksLight \u001B[38;5;241m==\u001B[39m ticksLight[\u001B[38;5;241m0\u001B[39m])\u001B[38;5;241m.\u001B[39mall():\n\u001B[1;32m    236\u001B[0m         \u001B[38;5;66;03m# there are one or more tick labels, all with the same lightness\u001B[39;00m\n\u001B[1;32m    237\u001B[0m         \u001B[38;5;28;01mreturn\u001B[39;00m {\u001B[38;5;124m'\u001B[39m\u001B[38;5;124mneeds_background\u001B[39m\u001B[38;5;124m'\u001B[39m: \u001B[38;5;124m'\u001B[39m\u001B[38;5;124mdark\u001B[39m\u001B[38;5;124m'\u001B[39m \u001B[38;5;28;01mif\u001B[39;00m ticksLight[\u001B[38;5;241m0\u001B[39m] \u001B[38;5;28;01melse\u001B[39;00m \u001B[38;5;124m'\u001B[39m\u001B[38;5;124mlight\u001B[39m\u001B[38;5;124m'\u001B[39m}\n",
      "File \u001B[0;32m~/mambaforge/envs/ppi/lib/python3.10/site-packages/matplotlib_inline/backend_inline.py:234\u001B[0m, in \u001B[0;36m<listcomp>\u001B[0;34m(.0)\u001B[0m\n\u001B[1;32m    228\u001B[0m \u001B[38;5;66;03m# determine if a background is needed for legibility\u001B[39;00m\n\u001B[1;32m    229\u001B[0m \u001B[38;5;28;01mif\u001B[39;00m _is_transparent(fig\u001B[38;5;241m.\u001B[39mget_facecolor()):\n\u001B[1;32m    230\u001B[0m     \u001B[38;5;66;03m# the background is transparent\u001B[39;00m\n\u001B[1;32m    231\u001B[0m     ticksLight \u001B[38;5;241m=\u001B[39m _is_light([label\u001B[38;5;241m.\u001B[39mget_color()\n\u001B[1;32m    232\u001B[0m                             \u001B[38;5;28;01mfor\u001B[39;00m axes \u001B[38;5;129;01min\u001B[39;00m fig\u001B[38;5;241m.\u001B[39maxes\n\u001B[1;32m    233\u001B[0m                             \u001B[38;5;28;01mfor\u001B[39;00m axis \u001B[38;5;129;01min\u001B[39;00m (axes\u001B[38;5;241m.\u001B[39mxaxis, axes\u001B[38;5;241m.\u001B[39myaxis)\n\u001B[0;32m--> 234\u001B[0m                             \u001B[38;5;28;01mfor\u001B[39;00m label \u001B[38;5;129;01min\u001B[39;00m \u001B[43maxis\u001B[49m\u001B[38;5;241;43m.\u001B[39;49m\u001B[43mget_ticklabels\u001B[49m\u001B[43m(\u001B[49m\u001B[43m)\u001B[49m])\n\u001B[1;32m    235\u001B[0m     \u001B[38;5;28;01mif\u001B[39;00m ticksLight\u001B[38;5;241m.\u001B[39msize \u001B[38;5;129;01mand\u001B[39;00m (ticksLight \u001B[38;5;241m==\u001B[39m ticksLight[\u001B[38;5;241m0\u001B[39m])\u001B[38;5;241m.\u001B[39mall():\n\u001B[1;32m    236\u001B[0m         \u001B[38;5;66;03m# there are one or more tick labels, all with the same lightness\u001B[39;00m\n\u001B[1;32m    237\u001B[0m         \u001B[38;5;28;01mreturn\u001B[39;00m {\u001B[38;5;124m'\u001B[39m\u001B[38;5;124mneeds_background\u001B[39m\u001B[38;5;124m'\u001B[39m: \u001B[38;5;124m'\u001B[39m\u001B[38;5;124mdark\u001B[39m\u001B[38;5;124m'\u001B[39m \u001B[38;5;28;01mif\u001B[39;00m ticksLight[\u001B[38;5;241m0\u001B[39m] \u001B[38;5;28;01melse\u001B[39;00m \u001B[38;5;124m'\u001B[39m\u001B[38;5;124mlight\u001B[39m\u001B[38;5;124m'\u001B[39m}\n",
      "File \u001B[0;32m~/mambaforge/envs/ppi/lib/python3.10/site-packages/matplotlib/axis.py:1249\u001B[0m, in \u001B[0;36mAxis.get_ticklabels\u001B[0;34m(self, minor, which)\u001B[0m\n\u001B[1;32m   1247\u001B[0m \u001B[38;5;28;01mif\u001B[39;00m minor:\n\u001B[1;32m   1248\u001B[0m     \u001B[38;5;28;01mreturn\u001B[39;00m \u001B[38;5;28mself\u001B[39m\u001B[38;5;241m.\u001B[39mget_minorticklabels()\n\u001B[0;32m-> 1249\u001B[0m \u001B[38;5;28;01mreturn\u001B[39;00m \u001B[38;5;28;43mself\u001B[39;49m\u001B[38;5;241;43m.\u001B[39;49m\u001B[43mget_majorticklabels\u001B[49m\u001B[43m(\u001B[49m\u001B[43m)\u001B[49m\n",
      "File \u001B[0;32m~/mambaforge/envs/ppi/lib/python3.10/site-packages/matplotlib/axis.py:1201\u001B[0m, in \u001B[0;36mAxis.get_majorticklabels\u001B[0;34m(self)\u001B[0m\n\u001B[1;32m   1199\u001B[0m \u001B[38;5;28;01mdef\u001B[39;00m \u001B[38;5;21mget_majorticklabels\u001B[39m(\u001B[38;5;28mself\u001B[39m):\n\u001B[1;32m   1200\u001B[0m     \u001B[38;5;124;03m\"\"\"Return this Axis' major tick labels, as a list of `~.text.Text`.\"\"\"\u001B[39;00m\n\u001B[0;32m-> 1201\u001B[0m     ticks \u001B[38;5;241m=\u001B[39m \u001B[38;5;28;43mself\u001B[39;49m\u001B[38;5;241;43m.\u001B[39;49m\u001B[43mget_major_ticks\u001B[49m\u001B[43m(\u001B[49m\u001B[43m)\u001B[49m\n\u001B[1;32m   1202\u001B[0m     labels1 \u001B[38;5;241m=\u001B[39m [tick\u001B[38;5;241m.\u001B[39mlabel1 \u001B[38;5;28;01mfor\u001B[39;00m tick \u001B[38;5;129;01min\u001B[39;00m ticks \u001B[38;5;28;01mif\u001B[39;00m tick\u001B[38;5;241m.\u001B[39mlabel1\u001B[38;5;241m.\u001B[39mget_visible()]\n\u001B[1;32m   1203\u001B[0m     labels2 \u001B[38;5;241m=\u001B[39m [tick\u001B[38;5;241m.\u001B[39mlabel2 \u001B[38;5;28;01mfor\u001B[39;00m tick \u001B[38;5;129;01min\u001B[39;00m ticks \u001B[38;5;28;01mif\u001B[39;00m tick\u001B[38;5;241m.\u001B[39mlabel2\u001B[38;5;241m.\u001B[39mget_visible()]\n",
      "File \u001B[0;32m~/mambaforge/envs/ppi/lib/python3.10/site-packages/matplotlib/axis.py:1371\u001B[0m, in \u001B[0;36mAxis.get_major_ticks\u001B[0;34m(self, numticks)\u001B[0m\n\u001B[1;32m   1369\u001B[0m \u001B[38;5;124mr\u001B[39m\u001B[38;5;124;03m\"\"\"Return the list of major `.Tick`\\s.\"\"\"\u001B[39;00m\n\u001B[1;32m   1370\u001B[0m \u001B[38;5;28;01mif\u001B[39;00m numticks \u001B[38;5;129;01mis\u001B[39;00m \u001B[38;5;28;01mNone\u001B[39;00m:\n\u001B[0;32m-> 1371\u001B[0m     numticks \u001B[38;5;241m=\u001B[39m \u001B[38;5;28mlen\u001B[39m(\u001B[38;5;28;43mself\u001B[39;49m\u001B[38;5;241;43m.\u001B[39;49m\u001B[43mget_majorticklocs\u001B[49m\u001B[43m(\u001B[49m\u001B[43m)\u001B[49m)\n\u001B[1;32m   1373\u001B[0m \u001B[38;5;28;01mwhile\u001B[39;00m \u001B[38;5;28mlen\u001B[39m(\u001B[38;5;28mself\u001B[39m\u001B[38;5;241m.\u001B[39mmajorTicks) \u001B[38;5;241m<\u001B[39m numticks:\n\u001B[1;32m   1374\u001B[0m     \u001B[38;5;66;03m# Update the new tick label properties from the old.\u001B[39;00m\n\u001B[1;32m   1375\u001B[0m     tick \u001B[38;5;241m=\u001B[39m \u001B[38;5;28mself\u001B[39m\u001B[38;5;241m.\u001B[39m_get_tick(major\u001B[38;5;241m=\u001B[39m\u001B[38;5;28;01mTrue\u001B[39;00m)\n",
      "File \u001B[0;32m~/mambaforge/envs/ppi/lib/python3.10/site-packages/matplotlib/axis.py:1277\u001B[0m, in \u001B[0;36mAxis.get_majorticklocs\u001B[0;34m(self)\u001B[0m\n\u001B[1;32m   1275\u001B[0m \u001B[38;5;28;01mdef\u001B[39;00m \u001B[38;5;21mget_majorticklocs\u001B[39m(\u001B[38;5;28mself\u001B[39m):\n\u001B[1;32m   1276\u001B[0m     \u001B[38;5;124;03m\"\"\"Return this Axis' major tick locations in data coordinates.\"\"\"\u001B[39;00m\n\u001B[0;32m-> 1277\u001B[0m     \u001B[38;5;28;01mreturn\u001B[39;00m \u001B[38;5;28;43mself\u001B[39;49m\u001B[38;5;241;43m.\u001B[39;49m\u001B[43mmajor\u001B[49m\u001B[38;5;241;43m.\u001B[39;49m\u001B[43mlocator\u001B[49m\u001B[43m(\u001B[49m\u001B[43m)\u001B[49m\n",
      "File \u001B[0;32m~/mambaforge/envs/ppi/lib/python3.10/site-packages/matplotlib/ticker.py:2293\u001B[0m, in \u001B[0;36mLogLocator.__call__\u001B[0;34m(self)\u001B[0m\n\u001B[1;32m   2291\u001B[0m \u001B[38;5;124;03m\"\"\"Return the locations of the ticks.\"\"\"\u001B[39;00m\n\u001B[1;32m   2292\u001B[0m vmin, vmax \u001B[38;5;241m=\u001B[39m \u001B[38;5;28mself\u001B[39m\u001B[38;5;241m.\u001B[39maxis\u001B[38;5;241m.\u001B[39mget_view_interval()\n\u001B[0;32m-> 2293\u001B[0m \u001B[38;5;28;01mreturn\u001B[39;00m \u001B[38;5;28;43mself\u001B[39;49m\u001B[38;5;241;43m.\u001B[39;49m\u001B[43mtick_values\u001B[49m\u001B[43m(\u001B[49m\u001B[43mvmin\u001B[49m\u001B[43m,\u001B[49m\u001B[43m \u001B[49m\u001B[43mvmax\u001B[49m\u001B[43m)\u001B[49m\n",
      "File \u001B[0;32m~/mambaforge/envs/ppi/lib/python3.10/site-packages/matplotlib/ticker.py:2318\u001B[0m, in \u001B[0;36mLogLocator.tick_values\u001B[0;34m(self, vmin, vmax)\u001B[0m\n\u001B[1;32m   2315\u001B[0m         vmin \u001B[38;5;241m=\u001B[39m \u001B[38;5;28mself\u001B[39m\u001B[38;5;241m.\u001B[39maxis\u001B[38;5;241m.\u001B[39mget_minpos()\n\u001B[1;32m   2317\u001B[0m     \u001B[38;5;28;01mif\u001B[39;00m vmin \u001B[38;5;241m<\u001B[39m\u001B[38;5;241m=\u001B[39m \u001B[38;5;241m0.0\u001B[39m \u001B[38;5;129;01mor\u001B[39;00m \u001B[38;5;129;01mnot\u001B[39;00m np\u001B[38;5;241m.\u001B[39misfinite(vmin):\n\u001B[0;32m-> 2318\u001B[0m         \u001B[38;5;28;01mraise\u001B[39;00m \u001B[38;5;167;01mValueError\u001B[39;00m(\n\u001B[1;32m   2319\u001B[0m             \u001B[38;5;124m\"\u001B[39m\u001B[38;5;124mData has no positive values, and therefore can not be \u001B[39m\u001B[38;5;124m\"\u001B[39m\n\u001B[1;32m   2320\u001B[0m             \u001B[38;5;124m\"\u001B[39m\u001B[38;5;124mlog-scaled.\u001B[39m\u001B[38;5;124m\"\u001B[39m)\n\u001B[1;32m   2322\u001B[0m _log\u001B[38;5;241m.\u001B[39mdebug(\u001B[38;5;124m'\u001B[39m\u001B[38;5;124mvmin \u001B[39m\u001B[38;5;132;01m%s\u001B[39;00m\u001B[38;5;124m vmax \u001B[39m\u001B[38;5;132;01m%s\u001B[39;00m\u001B[38;5;124m'\u001B[39m, vmin, vmax)\n\u001B[1;32m   2324\u001B[0m \u001B[38;5;28;01mif\u001B[39;00m vmax \u001B[38;5;241m<\u001B[39m vmin:\n",
      "\u001B[0;31mValueError\u001B[0m: Data has no positive values, and therefore can not be log-scaled."
     ]
    }
   ],
   "source": [
    "with mpl.rc_context({'figure.dpi': 100}):\n",
    "    fig, fig2, tdf, tnsp = plot_ratio_degree(\n",
    "        _isp, _isp_negs, c.ratio, taxonomy)"
   ],
   "metadata": {
    "collapsed": false
   }
  },
  {
   "cell_type": "markdown",
   "source": [
    "#### save"
   ],
   "metadata": {
    "collapsed": false
   }
  },
  {
   "cell_type": "code",
   "execution_count": 117,
   "outputs": [
    {
     "data": {
      "text/plain": "                  hash_A                hash_B  species_A  species_B  \\\n0   CRC-00053DA2C582D0E6  CRC-9F206A319B7E3DD8       1392       9606   \n1   CRC-001576EA78C61C85  CRC-9BD612534CD2C9EB       9606     333760   \n2   CRC-003F04A89D9D9298  CRC-5B57ABE4DF6E396E        632       9606   \n3   CRC-004D9CE1FF661B75  CRC-2BD0B32F33D454DA       1392       9606   \n4   CRC-0054C7CD3E6A8446  CRC-9BD612534CD2C9EB       9606     333760   \n..                   ...                   ...        ...        ...   \n19  CRC-1523145F2EEBCE41  CRC-F3C58B1BB986442D     284812     559292   \n20  CRC-5661166AEB7C6C7A  CRC-F3C58B1BB986442D     284812     559292   \n21  CRC-F488C398D2550275  CRC-F3C58B1BB986442D     284812     559292   \n22  CRC-06395BE71B775DAD  CRC-F3C58B1BB986442D     284812     559292   \n23  CRC-373ECBEF439C3708  CRC-F3C58B1BB986442D     284812     559292   \n\n       source_A     source_B  label  \n0   interactome  interactome      1  \n1   interactome  interactome      1  \n2   interactome  interactome      1  \n3   interactome  interactome      1  \n4   interactome  interactome      1  \n..          ...          ...    ...  \n19    swissprot  interactome      0  \n20         apid  interactome      0  \n21         apid  interactome      0  \n22         apid  interactome      0  \n23    swissprot  interactome      0  \n\n[40472 rows x 7 columns]",
      "text/html": "<div>\n<style scoped>\n    .dataframe tbody tr th:only-of-type {\n        vertical-align: middle;\n    }\n\n    .dataframe tbody tr th {\n        vertical-align: top;\n    }\n\n    .dataframe thead th {\n        text-align: right;\n    }\n</style>\n<table border=\"1\" class=\"dataframe\">\n  <thead>\n    <tr style=\"text-align: right;\">\n      <th></th>\n      <th>hash_A</th>\n      <th>hash_B</th>\n      <th>species_A</th>\n      <th>species_B</th>\n      <th>source_A</th>\n      <th>source_B</th>\n      <th>label</th>\n    </tr>\n  </thead>\n  <tbody>\n    <tr>\n      <th>0</th>\n      <td>CRC-00053DA2C582D0E6</td>\n      <td>CRC-9F206A319B7E3DD8</td>\n      <td>1392</td>\n      <td>9606</td>\n      <td>interactome</td>\n      <td>interactome</td>\n      <td>1</td>\n    </tr>\n    <tr>\n      <th>1</th>\n      <td>CRC-001576EA78C61C85</td>\n      <td>CRC-9BD612534CD2C9EB</td>\n      <td>9606</td>\n      <td>333760</td>\n      <td>interactome</td>\n      <td>interactome</td>\n      <td>1</td>\n    </tr>\n    <tr>\n      <th>2</th>\n      <td>CRC-003F04A89D9D9298</td>\n      <td>CRC-5B57ABE4DF6E396E</td>\n      <td>632</td>\n      <td>9606</td>\n      <td>interactome</td>\n      <td>interactome</td>\n      <td>1</td>\n    </tr>\n    <tr>\n      <th>3</th>\n      <td>CRC-004D9CE1FF661B75</td>\n      <td>CRC-2BD0B32F33D454DA</td>\n      <td>1392</td>\n      <td>9606</td>\n      <td>interactome</td>\n      <td>interactome</td>\n      <td>1</td>\n    </tr>\n    <tr>\n      <th>4</th>\n      <td>CRC-0054C7CD3E6A8446</td>\n      <td>CRC-9BD612534CD2C9EB</td>\n      <td>9606</td>\n      <td>333760</td>\n      <td>interactome</td>\n      <td>interactome</td>\n      <td>1</td>\n    </tr>\n    <tr>\n      <th>...</th>\n      <td>...</td>\n      <td>...</td>\n      <td>...</td>\n      <td>...</td>\n      <td>...</td>\n      <td>...</td>\n      <td>...</td>\n    </tr>\n    <tr>\n      <th>19</th>\n      <td>CRC-1523145F2EEBCE41</td>\n      <td>CRC-F3C58B1BB986442D</td>\n      <td>284812</td>\n      <td>559292</td>\n      <td>swissprot</td>\n      <td>interactome</td>\n      <td>0</td>\n    </tr>\n    <tr>\n      <th>20</th>\n      <td>CRC-5661166AEB7C6C7A</td>\n      <td>CRC-F3C58B1BB986442D</td>\n      <td>284812</td>\n      <td>559292</td>\n      <td>apid</td>\n      <td>interactome</td>\n      <td>0</td>\n    </tr>\n    <tr>\n      <th>21</th>\n      <td>CRC-F488C398D2550275</td>\n      <td>CRC-F3C58B1BB986442D</td>\n      <td>284812</td>\n      <td>559292</td>\n      <td>apid</td>\n      <td>interactome</td>\n      <td>0</td>\n    </tr>\n    <tr>\n      <th>22</th>\n      <td>CRC-06395BE71B775DAD</td>\n      <td>CRC-F3C58B1BB986442D</td>\n      <td>284812</td>\n      <td>559292</td>\n      <td>apid</td>\n      <td>interactome</td>\n      <td>0</td>\n    </tr>\n    <tr>\n      <th>23</th>\n      <td>CRC-373ECBEF439C3708</td>\n      <td>CRC-F3C58B1BB986442D</td>\n      <td>284812</td>\n      <td>559292</td>\n      <td>swissprot</td>\n      <td>interactome</td>\n      <td>0</td>\n    </tr>\n  </tbody>\n</table>\n<p>40472 rows × 7 columns</p>\n</div>"
     },
     "execution_count": 117,
     "metadata": {},
     "output_type": "execute_result"
    }
   ],
   "source": [
    "isp_pairs = pd.concat((isp, *isp_negatives))\n",
    "isp_pairs.to_csv(c.isp_tsv, sep='\\t', header=True, index=False)\n",
    "isp_pairs"
   ],
   "metadata": {
    "collapsed": false
   }
  },
  {
   "cell_type": "code",
   "execution_count": 85,
   "outputs": [],
   "source": [
    "apid_fasta = dict()\n",
    "sp_fasta = dict()\n",
    "\n",
    "for s, _fasta in zip(['apid', 'swissprot'], [apid_fasta, sp_fasta]):\n",
    "    for char in 'AB':\n",
    "        for j, crc, sp in isp_pairs.loc[isp_pairs[f'source_{char}'] == s,\n",
    "                                      [f'hash_{char}', f'species_{char}']].itertuples():\n",
    "            _fasta[crc] = combined_proteome[sp][crc]"
   ],
   "metadata": {
    "collapsed": false
   }
  },
  {
   "cell_type": "code",
   "execution_count": 90,
   "outputs": [
    {
     "data": {
      "text/plain": "(1629, 1018)"
     },
     "execution_count": 90,
     "metadata": {},
     "output_type": "execute_result"
    }
   ],
   "source": [
    "len(sp_fasta), len(apid_fasta)"
   ],
   "metadata": {
    "collapsed": false
   }
  },
  {
   "cell_type": "code",
   "execution_count": 103,
   "outputs": [
    {
     "data": {
      "text/plain": "SeqRecord(seq=Seq('MRVDGREKTELRHIHIHTNYLKHPEGSVLIEVGDTKVICSATIEERVPPFMRGE...HIE'), id='CRC-00053DA2C582D0E6', name='CRC-00053DA2C582D0E6', description='CRC-00053DA2C582D0E6', dbxrefs=[])"
     },
     "execution_count": 103,
     "metadata": {},
     "output_type": "execute_result"
    }
   ],
   "source": [
    "fasta['CRC-00053DA2C582D0E6']"
   ],
   "metadata": {
    "collapsed": false
   }
  },
  {
   "cell_type": "code",
   "execution_count": 104,
   "outputs": [
    {
     "data": {
      "text/plain": "'apid_isp/apid_interspecies.fasta'"
     },
     "execution_count": 104,
     "metadata": {},
     "output_type": "execute_result"
    }
   ],
   "source": [
    "# all protein sequences, from all three sources\n",
    "with c.isp_fasta.open('w') as out_fasta:\n",
    "    for v in values_sorted_by_key({\n",
    "        **{r.id: {'seq': str(r.seq), 'id': r.id} for r in fasta.values()},\n",
    "        **apid_fasta, **sp_fasta}):\n",
    "        to_fasta(v['id'], v['seq'], out_fasta)\n",
    "out_fasta.name"
   ],
   "metadata": {
    "collapsed": false
   }
  },
  {
   "cell_type": "code",
   "execution_count": 105,
   "outputs": [
    {
     "data": {
      "text/plain": "'apid_isp/proteomes/apid_negatives.fasta'"
     },
     "execution_count": 105,
     "metadata": {},
     "output_type": "execute_result"
    }
   ],
   "source": [
    "# the extra APID proteins used as negatives\n",
    "with (c.pp / 'apid_negatives.fasta').open('w') as out_fasta:\n",
    "    for v in values_sorted_by_key(apid_fasta):\n",
    "        to_fasta(v['id'], v['seq'], out_fasta)\n",
    "out_fasta.name"
   ],
   "metadata": {
    "collapsed": false
   }
  },
  {
   "cell_type": "code",
   "execution_count": 106,
   "outputs": [
    {
     "data": {
      "text/plain": "'apid_isp/proteomes/sp_negatives.fasta'"
     },
     "execution_count": 106,
     "metadata": {},
     "output_type": "execute_result"
    }
   ],
   "source": [
    "# the SwissProt negatives\n",
    "with (c.pp / 'sp_negatives.fasta').open('w') as out_fasta:\n",
    "    for v in values_sorted_by_key(sp_fasta):\n",
    "        to_fasta(v['id'], v['seq'], out_fasta)\n",
    "out_fasta.name"
   ],
   "metadata": {
    "collapsed": false
   }
  },
  {
   "cell_type": "code",
   "execution_count": 115,
   "outputs": [
    {
     "data": {
      "text/plain": "True"
     },
     "execution_count": 115,
     "metadata": {},
     "output_type": "execute_result"
    }
   ],
   "source": [
    "k = !grep -c \">\" $c.isp_fasta\n",
    "int(k[0]) == len(np.unique(isp_pairs[['hash_A', 'hash_B']]))"
   ],
   "metadata": {
    "collapsed": false
   }
  },
  {
   "cell_type": "markdown",
   "source": [
    "#### assign C123 labels"
   ],
   "metadata": {
    "collapsed": false
   }
  },
  {
   "cell_type": "code",
   "execution_count": 118,
   "outputs": [
    {
     "name": "stdout",
     "output_type": "stream",
     "text": [
      "\u001B[94mrostclust uniqueprot2d --hval-config-path hval_config.json apid_isp/apid_interspecies.fasta apid_train.fasta apid_isp/apid_interspecies_c3.fasta\u001B[0m\n",
      "using temporary directory apid_isp/apid_interspeciesf9eotd8i\n",
      "generate alignments: 100%|██████████| 3/3 [06:27<00:00, 129.22s/it]\n",
      "extract hvals from alignments: 100%|██████████| 3/3 [00:02<00:00,  1.04it/s]\n",
      "\u001B[94m 3332/5921::44698 \u001B[0mnon-redundant in apid_isp/apid_interspecies.fasta against apid_train.fasta written to apid_isp/apid_interspecies_c3.fasta\n"
     ]
    }
   ],
   "source": [
    "# cluster against train\n",
    "run_uniqueprot2D(c.isp_fasta, c.train_fasta, c.isp_c3_fasta,\n",
    "                 c.hval_config_path, not c.rostclust)"
   ],
   "metadata": {
    "collapsed": false
   }
  },
  {
   "cell_type": "code",
   "execution_count": 128,
   "outputs": [
    {
     "data": {
      "text/plain": "                     hash_A                hash_B  species_A  species_B  \\\n0      CRC-00053DA2C582D0E6  CRC-9F206A319B7E3DD8       1392       9606   \n1      CRC-001576EA78C61C85  CRC-9BD612534CD2C9EB       9606     333760   \n2      CRC-003F04A89D9D9298  CRC-5B57ABE4DF6E396E        632       9606   \n3      CRC-004D9CE1FF661B75  CRC-2BD0B32F33D454DA       1392       9606   \n4      CRC-0054C7CD3E6A8446  CRC-9BD612534CD2C9EB       9606     333760   \n...                     ...                   ...        ...        ...   \n40467  CRC-1523145F2EEBCE41  CRC-F3C58B1BB986442D     284812     559292   \n40468  CRC-5661166AEB7C6C7A  CRC-F3C58B1BB986442D     284812     559292   \n40469  CRC-F488C398D2550275  CRC-F3C58B1BB986442D     284812     559292   \n40470  CRC-06395BE71B775DAD  CRC-F3C58B1BB986442D     284812     559292   \n40471  CRC-373ECBEF439C3708  CRC-F3C58B1BB986442D     284812     559292   \n\n          source_A     source_B  label  cclass  \n0      interactome  interactome      1       2  \n1      interactome  interactome      1       2  \n2      interactome  interactome      1       2  \n3      interactome  interactome      1       2  \n4      interactome  interactome      1       2  \n...            ...          ...    ...     ...  \n40467    swissprot  interactome      0       1  \n40468         apid  interactome      0       2  \n40469         apid  interactome      0       1  \n40470         apid  interactome      0       1  \n40471    swissprot  interactome      0       1  \n\n[40472 rows x 8 columns]",
      "text/html": "<div>\n<style scoped>\n    .dataframe tbody tr th:only-of-type {\n        vertical-align: middle;\n    }\n\n    .dataframe tbody tr th {\n        vertical-align: top;\n    }\n\n    .dataframe thead th {\n        text-align: right;\n    }\n</style>\n<table border=\"1\" class=\"dataframe\">\n  <thead>\n    <tr style=\"text-align: right;\">\n      <th></th>\n      <th>hash_A</th>\n      <th>hash_B</th>\n      <th>species_A</th>\n      <th>species_B</th>\n      <th>source_A</th>\n      <th>source_B</th>\n      <th>label</th>\n      <th>cclass</th>\n    </tr>\n  </thead>\n  <tbody>\n    <tr>\n      <th>0</th>\n      <td>CRC-00053DA2C582D0E6</td>\n      <td>CRC-9F206A319B7E3DD8</td>\n      <td>1392</td>\n      <td>9606</td>\n      <td>interactome</td>\n      <td>interactome</td>\n      <td>1</td>\n      <td>2</td>\n    </tr>\n    <tr>\n      <th>1</th>\n      <td>CRC-001576EA78C61C85</td>\n      <td>CRC-9BD612534CD2C9EB</td>\n      <td>9606</td>\n      <td>333760</td>\n      <td>interactome</td>\n      <td>interactome</td>\n      <td>1</td>\n      <td>2</td>\n    </tr>\n    <tr>\n      <th>2</th>\n      <td>CRC-003F04A89D9D9298</td>\n      <td>CRC-5B57ABE4DF6E396E</td>\n      <td>632</td>\n      <td>9606</td>\n      <td>interactome</td>\n      <td>interactome</td>\n      <td>1</td>\n      <td>2</td>\n    </tr>\n    <tr>\n      <th>3</th>\n      <td>CRC-004D9CE1FF661B75</td>\n      <td>CRC-2BD0B32F33D454DA</td>\n      <td>1392</td>\n      <td>9606</td>\n      <td>interactome</td>\n      <td>interactome</td>\n      <td>1</td>\n      <td>2</td>\n    </tr>\n    <tr>\n      <th>4</th>\n      <td>CRC-0054C7CD3E6A8446</td>\n      <td>CRC-9BD612534CD2C9EB</td>\n      <td>9606</td>\n      <td>333760</td>\n      <td>interactome</td>\n      <td>interactome</td>\n      <td>1</td>\n      <td>2</td>\n    </tr>\n    <tr>\n      <th>...</th>\n      <td>...</td>\n      <td>...</td>\n      <td>...</td>\n      <td>...</td>\n      <td>...</td>\n      <td>...</td>\n      <td>...</td>\n      <td>...</td>\n    </tr>\n    <tr>\n      <th>40467</th>\n      <td>CRC-1523145F2EEBCE41</td>\n      <td>CRC-F3C58B1BB986442D</td>\n      <td>284812</td>\n      <td>559292</td>\n      <td>swissprot</td>\n      <td>interactome</td>\n      <td>0</td>\n      <td>1</td>\n    </tr>\n    <tr>\n      <th>40468</th>\n      <td>CRC-5661166AEB7C6C7A</td>\n      <td>CRC-F3C58B1BB986442D</td>\n      <td>284812</td>\n      <td>559292</td>\n      <td>apid</td>\n      <td>interactome</td>\n      <td>0</td>\n      <td>2</td>\n    </tr>\n    <tr>\n      <th>40469</th>\n      <td>CRC-F488C398D2550275</td>\n      <td>CRC-F3C58B1BB986442D</td>\n      <td>284812</td>\n      <td>559292</td>\n      <td>apid</td>\n      <td>interactome</td>\n      <td>0</td>\n      <td>1</td>\n    </tr>\n    <tr>\n      <th>40470</th>\n      <td>CRC-06395BE71B775DAD</td>\n      <td>CRC-F3C58B1BB986442D</td>\n      <td>284812</td>\n      <td>559292</td>\n      <td>apid</td>\n      <td>interactome</td>\n      <td>0</td>\n      <td>1</td>\n    </tr>\n    <tr>\n      <th>40471</th>\n      <td>CRC-373ECBEF439C3708</td>\n      <td>CRC-F3C58B1BB986442D</td>\n      <td>284812</td>\n      <td>559292</td>\n      <td>swissprot</td>\n      <td>interactome</td>\n      <td>0</td>\n      <td>1</td>\n    </tr>\n  </tbody>\n</table>\n<p>40472 rows × 8 columns</p>\n</div>"
     },
     "execution_count": 128,
     "metadata": {},
     "output_type": "execute_result"
    }
   ],
   "source": [
    "isp_pairs = make_c_classes(c.isp_tsv, c.isp_c3_fasta, c.isp_fasta)\n",
    "isp_pairs"
   ],
   "metadata": {
    "collapsed": false
   }
  },
  {
   "cell_type": "code",
   "execution_count": 129,
   "outputs": [
    {
     "data": {
      "text/plain": "PosixPath('apid_isp/apid_interspecies.tsv')"
     },
     "execution_count": 129,
     "metadata": {},
     "output_type": "execute_result"
    }
   ],
   "source": [
    "isp_pairs.to_csv(c.isp_tsv, sep='\\t', header=True, index=False)\n",
    "c.isp_tsv"
   ],
   "metadata": {
    "collapsed": false
   }
  },
  {
   "cell_type": "code",
   "execution_count": 130,
   "outputs": [
    {
     "data": {
      "text/plain": "<Figure size 512x384 with 1 Axes>",
      "image/png": "[encoded data removed]"
     },
     "metadata": {},
     "output_type": "display_data"
    }
   ],
   "source": [
    "with mpl.rc_context({'figure.dpi': 128}):\n",
    "    fig, c.isp_sizes = plot_c_classes(isp_pairs)\n",
    "fig.savefig(c.ip / f'isp_cclasses_{len(spp)}sp.png', dpi=300, transparent=False)\n",
    "fig.savefig(c.ip / f'isp_cclasses_{len(spp)}sp.svg')"
   ],
   "metadata": {
    "collapsed": false
   }
  },
  {
   "cell_type": "code",
   "execution_count": 131,
   "outputs": [
    {
     "data": {
      "text/plain": "{1: 1126, 2: 1735, 3: 563}"
     },
     "execution_count": 131,
     "metadata": {},
     "output_type": "execute_result"
    }
   ],
   "source": [
    "c.isp_sizes"
   ],
   "metadata": {
    "collapsed": false
   }
  },
  {
   "cell_type": "code",
   "execution_count": 133,
   "outputs": [
    {
     "name": "stdout",
     "output_type": "stream",
     "text": [
      "{\n",
      "  \"keep_human\": false,\n",
      "  \"keep_interspecies\": false,\n",
      "  \"accept_homodimers\": false,\n",
      "  \"add_proteomes\": true,\n",
      "  \"slurm\": true,\n",
      "  \"slurm_node_limit\": 15,\n",
      "  \"rostclust\": \"/home/k/kaindll/mambaforge/envs/ppi/bin/rostclust\",\n",
      "  \"cwd\": \"/home/k/kaindll/ppi/data/ppi_dataset/results/7082\",\n",
      "  \"ap\": \"apid\",\n",
      "  \"hp\": \"huri\",\n",
      "  \"qp\": \"apid_q1\",\n",
      "  \"pp\": \"apid_isp/proteomes\",\n",
      "  \"ip\": \"apid_isp\",\n",
      "  \"dp\": \"homodimers\",\n",
      "  \"min_seq_len\": 50,\n",
      "  \"max_seq_len\": 1500,\n",
      "  \"hval_config\": {\n",
      "    \"shortAlignmentLen\": 50,\n",
      "    \"longSeqLen\": 180,\n",
      "    \"reduceRandomAlign\": false,\n",
      "    \"clusterThreshold\": 20\n",
      "  },\n",
      "  \"hval_config_path\": \"hval_config.json\",\n",
      "  \"seed\": 42,\n",
      "  \"ratio\": 10.0,\n",
      "  \"strategy\": 1,\n",
      "  \"val_set_size\": 0.1,\n",
      "  \"val_species\": [],\n",
      "  \"train_species\": [],\n",
      "  \"test_species\": [\n",
      "    333760,\n",
      "    9986,\n",
      "    10116,\n",
      "    83333,\n",
      "    9606,\n",
      "    9031,\n",
      "    10377,\n",
      "    284812,\n",
      "    11706,\n",
      "    7955,\n",
      "    2697049,\n",
      "    1111708,\n",
      "    6239,\n",
      "    8355,\n",
      "    10299,\n",
      "    10090,\n",
      "    1392,\n",
      "    37296,\n",
      "    3702,\n",
      "    632,\n",
      "    9913,\n",
      "    272634,\n",
      "    7227,\n",
      "    559292\n",
      "  ],\n",
      "  \"val_raw_fasta\": \"apid/apid_validation_raw.fasta\",\n",
      "  \"val_raw_tsv\": \"apid/apid_validation_raw.tsv\",\n",
      "  \"val_rr_fasta\": \"apid/apid_validation_rr.fasta\",\n",
      "  \"val_rr_tsv\": \"apid/apid_validation_rr.tsv\",\n",
      "  \"val_c3_fasta\": \"apid/apid_validation_c3.fasta\",\n",
      "  \"val_fasta\": \"apid_validation.fasta\",\n",
      "  \"val_tsv\": \"apid_validation.tsv\",\n",
      "  \"test_raw_fasta\": \"huri/huri_test_raw.fasta\",\n",
      "  \"test_raw_tsv\": \"huri/huri_test_raw.tsv\",\n",
      "  \"test_nr_fasta\": \"huri/huri_test_nr.fasta\",\n",
      "  \"test_rr_fasta\": \"huri/huri_test_rr.fasta\",\n",
      "  \"test_rr_tsv\": \"huri/huri_test_rr.tsv\",\n",
      "  \"test_c3_fasta\": \"huri/huri_test_c3.fasta\",\n",
      "  \"test_fasta\": \"huri_test.fasta\",\n",
      "  \"test_tsv\": \"huri_test.tsv\",\n",
      "  \"train_tsv\": \"apid_train.tsv\",\n",
      "  \"train_fasta\": \"apid_train.fasta\",\n",
      "  \"train_raw_fasta\": \"apid/apid_train_raw.fasta\",\n",
      "  \"train_raw_tsv\": \"apid/apid_train_raw.tsv\",\n",
      "  \"train_proteome\": \"train_proteome.json\",\n",
      "  \"val_proteome\": \"val_proteome.json\",\n",
      "  \"test_proteome\": \"test_proteome.json\",\n",
      "  \"weird_species\": [],\n",
      "  \"train_bias\": null,\n",
      "  \"train_seqs\": null,\n",
      "  \"train_extra\": null,\n",
      "  \"train_size\": null,\n",
      "  \"test_seqs\": null,\n",
      "  \"test_extra\": null,\n",
      "  \"val_seqs\": null,\n",
      "  \"val_extra\": null,\n",
      "  \"val_bias\": null,\n",
      "  \"val_size\": null,\n",
      "  \"val_sizes\": {},\n",
      "  \"test_bias\": null,\n",
      "  \"test_size\": null,\n",
      "  \"test_sizes\": {},\n",
      "  \"isp_sizes\": {\n",
      "    \"1\": \"1126\",\n",
      "    \"2\": \"1735\",\n",
      "    \"3\": \"563\"\n",
      "  },\n",
      "  \"isp_raw_fasta\": \"apid_isp/apid_interspecies_raw.fasta\",\n",
      "  \"isp_raw_tsv\": \"apid_isp/apid_interspecies_raw.tsv\",\n",
      "  \"isp_nr_fasta\": \"apid_isp/apid_interspecies_nr_val.fasta\",\n",
      "  \"isp_rr_fasta\": \"apid_isp/apid_interspecies_rr_val.fasta\",\n",
      "  \"isp_rr_tsv\": \"apid_isp/apid_interspecies_rr_val.tsv\",\n",
      "  \"isp_c3_fasta\": \"apid_isp/apid_interspecies_c3.fasta\",\n",
      "  \"isp_fasta\": \"apid_isp/apid_interspecies.fasta\",\n",
      "  \"isp_tsv\": \"apid_isp/apid_interspecies.tsv\",\n",
      "  \"hd_raw_fasta\": \"homodimers/homodimer_raw.fasta\",\n",
      "  \"hd_raw_tsv\": \"homodimers/homodimer_raw.tsv\",\n",
      "  \"hd_nr_fasta\": \"homodimers/homodimer_nr_val.fasta\",\n",
      "  \"hd_rr_fasta\": \"homodimers/homodimer_rr_val.fasta\",\n",
      "  \"hd_rr_tsv\": \"homodimers/homodimer_rr_val.tsv\",\n",
      "  \"hd_c3_fasta\": \"homodimers/homodimer_c3.fasta\",\n",
      "  \"hd_fasta\": \"homodimers/homodimer.fasta\",\n",
      "  \"hd_tsv\": \"homodimers/homodimer.tsv\"\n",
      "}\n"
     ]
    }
   ],
   "source": [
    "with (c.ip / 'cfg.json').open('w') as json_file:\n",
    "    json_file.write(c.to_json(indent=2))\n",
    "print(c.to_json(indent=2))"
   ],
   "metadata": {
    "collapsed": false
   }
  },
  {
   "cell_type": "code",
   "execution_count": null,
   "outputs": [],
   "source": [],
   "metadata": {
    "collapsed": false
   }
  }
 ],
 "metadata": {
  "kernelspec": {
   "display_name": "Python 3",
   "language": "python",
   "name": "python3"
  },
  "language_info": {
   "codemirror_mode": {
    "name": "ipython",
    "version": 2
   },
   "file_extension": ".py",
   "mimetype": "text/x-python",
   "name": "python",
   "nbconvert_exporter": "python",
   "pygments_lexer": "ipython2",
   "version": "2.7.6"
  }
 },
 "nbformat": 4,
 "nbformat_minor": 0
}
