{
 "cells": [
  {
   "cell_type": "markdown",
   "metadata": {},
   "source": [
    "# Generate a PPi train + validation set from [APID](http://cicblade.dep.usal.es:8080/APID/init.action) and a Y2H test set from [HuRI](http://www.interactome-atlas.org/download)\n",
    "\n",
    "`small size, 1:1, 31/10/22, seed 72`"
   ]
  },
  {
   "cell_type": "code",
   "execution_count": 1,
   "metadata": {
    "collapsed": false,
    "jupyter": {
     "outputs_hidden": false
    }
   },
   "outputs": [],
   "source": [
    "from __future__ import annotations\n",
    "\n",
    "import os\n",
    "import sys\n",
    "import shutil\n",
    "import importlib\n",
    "\n",
    "from pathlib import Path\n",
    "\n",
    "from dataclasses import dataclass, field\n",
    "\n",
    "import numpy as np\n",
    "from dataclass_wizard import JSONWizard"
   ]
  },
  {
   "cell_type": "code",
   "execution_count": 2,
   "metadata": {
    "collapsed": false,
    "jupyter": {
     "outputs_hidden": false
    }
   },
   "outputs": [
    {
     "name": "stdout",
     "output_type": "stream",
     "text": [
      "/home/k/kaindll/mambaforge/envs/ppi/bin/python\r\n",
      "/home/k/kaindll\r\n"
     ]
    }
   ],
   "source": [
    "!which python\n",
    "!pwd"
   ]
  },
  {
   "cell_type": "code",
   "execution_count": 3,
   "metadata": {
    "collapsed": false,
    "jupyter": {
     "outputs_hidden": false
    }
   },
   "outputs": [],
   "source": [
    "if 'kaindl' in str(cwd := Path.cwd()):\n",
    "    cwd = Path('/home/k/kaindll/ppi/ppi_data/template')"
   ]
  },
  {
   "cell_type": "code",
   "execution_count": 4,
   "metadata": {
    "collapsed": false,
    "jupyter": {
     "outputs_hidden": false
    }
   },
   "outputs": [
    {
     "name": "stdout",
     "output_type": "stream",
     "text": [
      "/home/k/kaindll/ppi/ppi_data/results/8003\r\n"
     ]
    }
   ],
   "source": [
    "session = '8003'\n",
    "session_dir = cwd.parent / 'results' / session\n",
    "\n",
    "if not session_dir.is_dir():\n",
    "    shutil.copytree(cwd, session_dir, symlinks=False,\n",
    "                    ignore=shutil.ignore_patterns('*.ipynb', '*.png'),\n",
    "                    dirs_exist_ok=True)\n",
    "os.chdir(session_dir.resolve())\n",
    "!pwd"
   ]
  },
  {
   "cell_type": "code",
   "execution_count": 5,
   "metadata": {
    "collapsed": false,
    "jupyter": {
     "outputs_hidden": false
    }
   },
   "outputs": [],
   "source": [
    "from ppi_utils.cfg import Config, SamplingStrategy\n",
    "from ppi_utils import api, extract, general, pairs, plot, reduce, proteome\n",
    "\n",
    "from ppi_utils.api import *\n",
    "from ppi_utils.extract import *\n",
    "from ppi_utils.general import *\n",
    "from ppi_utils.pairs import *\n",
    "from ppi_utils.plot import *\n",
    "from ppi_utils.reduce import *\n",
    "from ppi_utils.proteome import *"
   ]
  },
  {
   "cell_type": "code",
   "execution_count": 103,
   "metadata": {
    "collapsed": false,
    "jupyter": {
     "outputs_hidden": false
    }
   },
   "outputs": [],
   "source": [
    "\n",
    "@dataclass\n",
    "class Params(JSONWizard):\n",
    "    class _(JSONWizard.Meta):\n",
    "        key_transform_with_dump = 'SNAKE'\n",
    "\n",
    "    keep_human: bool = False\n",
    "    keep_interspecies: bool = False\n",
    "    accept_homodimers: bool = False\n",
    "    add_proteomes: bool = True\n",
    "    slurm: bool = all(shutil.which(t) for t in ('snakemake', 'sbatch'))\n",
    "    slurm_node_limit: int = 15\n",
    "    rostclust: bool = shutil.which('rostclust')\n",
    "\n",
    "    min_seq_len: int = 50\n",
    "    max_seq_len: int = 1000\n",
    "\n",
    "    seed: int = 72\n",
    "    ratio: float = 1.0\n",
    "    strategy: SamplingStrategy = SamplingStrategy.BALANCED\n",
    "\n",
    "    val_set_size: float = .1\n",
    "    val_species: set[str] = field(default_factory=set)\n",
    "\n",
    "\n",
    "hval_config = dict(shortAlignmentLen=50,\n",
    "                   longSeqLen=180,\n",
    "                   reduceRandomAlign=False,\n",
    "                   clusterThreshold=20)\n",
    "\n",
    "# val_species = {10116, 9913, 9031, 868565, 10299}\n",
    "# train_species = {7955, 36329, 83333, 10090, 85962}\n",
    "val_species = {7955, 9913, 9031, 868565, 10299, 39947, 10377, 224308}\n",
    "train_species = {10116, 36329, 83333, 10090, 37296, 85962, 284812, 243276}\n",
    "\n",
    "params = Params()"
   ]
  },
  {
   "cell_type": "code",
   "execution_count": 104,
   "metadata": {
    "collapsed": false,
    "jupyter": {
     "outputs_hidden": false
    }
   },
   "outputs": [],
   "source": [
    "c = Config(\n",
    "    **params.to_dict() | dict(\n",
    "        hval_config=hval_config, val_species=val_species,\n",
    "        train_species=train_species,\n",
    "        cwd=session_dir, strategy=params.strategy\n",
    "    ))"
   ]
  },
  {
   "cell_type": "raw",
   "source": [
    "c.legacy = True"
   ],
   "metadata": {
    "collapsed": false
   }
  },
  {
   "cell_type": "markdown",
   "metadata": {},
   "source": [
    "## Train set: APID\n",
    "#### extract from `<taxid>*_Q1.txt` files"
   ]
  },
  {
   "cell_type": "code",
   "execution_count": 105,
   "metadata": {
    "collapsed": false,
    "jupyter": {
     "outputs_hidden": false
    }
   },
   "outputs": [
    {
     "data": {
      "text/plain": "PosixPath('apid_q1')"
     },
     "execution_count": 105,
     "metadata": {},
     "output_type": "execute_result"
    }
   ],
   "source": [
    "c.qp = unzip_apid(zip_path='apid.zip', keep_human=c.keep_human,\n",
    "                  keep_interspecies=c.keep_interspecies)\n",
    "c.qp"
   ]
  },
  {
   "cell_type": "code",
   "execution_count": 106,
   "metadata": {
    "collapsed": false,
    "jupyter": {
     "outputs_hidden": false
    }
   },
   "outputs": [
    {
     "data": {
      "text/plain": "45026"
     },
     "execution_count": 106,
     "metadata": {},
     "output_type": "execute_result"
    }
   ],
   "source": [
    "uniprot_ids = extract_apid_uniprot_ids(c.qp)\n",
    "len(uniprot_ids)"
   ]
  },
  {
   "cell_type": "code",
   "execution_count": 107,
   "metadata": {
    "collapsed": false,
    "jupyter": {
     "outputs_hidden": false
    }
   },
   "outputs": [
    {
     "data": {
      "text/plain": "161598"
     },
     "execution_count": 107,
     "metadata": {},
     "output_type": "execute_result"
    }
   ],
   "source": [
    "ppis = extract_apid_ppis(c.qp)\n",
    "len(ppis)"
   ]
  },
  {
   "cell_type": "code",
   "execution_count": 108,
   "metadata": {
    "collapsed": false,
    "jupyter": {
     "outputs_hidden": false
    }
   },
   "outputs": [
    {
     "data": {
      "text/plain": "  UniprotID_A UniprotID_B  species\n0      P77434      P77434    83333\n1      P09980      P09980    83333\n2      P28304      P28304    83333\n3      P00894      P00894    83333\n4      P00861      P0AE88    83333",
      "text/html": "<div>\n<style scoped>\n    .dataframe tbody tr th:only-of-type {\n        vertical-align: middle;\n    }\n\n    .dataframe tbody tr th {\n        vertical-align: top;\n    }\n\n    .dataframe thead th {\n        text-align: right;\n    }\n</style>\n<table border=\"1\" class=\"dataframe\">\n  <thead>\n    <tr style=\"text-align: right;\">\n      <th></th>\n      <th>UniprotID_A</th>\n      <th>UniprotID_B</th>\n      <th>species</th>\n    </tr>\n  </thead>\n  <tbody>\n    <tr>\n      <th>0</th>\n      <td>P77434</td>\n      <td>P77434</td>\n      <td>83333</td>\n    </tr>\n    <tr>\n      <th>1</th>\n      <td>P09980</td>\n      <td>P09980</td>\n      <td>83333</td>\n    </tr>\n    <tr>\n      <th>2</th>\n      <td>P28304</td>\n      <td>P28304</td>\n      <td>83333</td>\n    </tr>\n    <tr>\n      <th>3</th>\n      <td>P00894</td>\n      <td>P00894</td>\n      <td>83333</td>\n    </tr>\n    <tr>\n      <th>4</th>\n      <td>P00861</td>\n      <td>P0AE88</td>\n      <td>83333</td>\n    </tr>\n  </tbody>\n</table>\n</div>"
     },
     "execution_count": 108,
     "metadata": {},
     "output_type": "execute_result"
    }
   ],
   "source": [
    "ppis.head()"
   ]
  },
  {
   "cell_type": "markdown",
   "source": [
    "#### select small subset"
   ],
   "metadata": {
    "collapsed": false
   }
  },
  {
   "cell_type": "code",
   "execution_count": 109,
   "outputs": [
    {
     "data": {
      "text/plain": "(23218, 12099)"
     },
     "execution_count": 109,
     "metadata": {},
     "output_type": "execute_result"
    }
   ],
   "source": [
    "if c.train_species:\n",
    "    ppis = ppis.loc[ppis.species.isin(c.train_species | c.val_species)]\n",
    "    uniprot_ids = set(np.unique(ppis.iloc[:, [0, 1]]))\n",
    "len(ppis), len(uniprot_ids)"
   ],
   "metadata": {
    "collapsed": false
   }
  },
  {
   "cell_type": "code",
   "execution_count": 110,
   "metadata": {
    "collapsed": false,
    "jupyter": {
     "outputs_hidden": false
    }
   },
   "outputs": [
    {
     "data": {
      "text/plain": "Empty DataFrame\nColumns: [UniprotID_A, UniprotID_B, species]\nIndex: []",
      "text/html": "<div>\n<style scoped>\n    .dataframe tbody tr th:only-of-type {\n        vertical-align: middle;\n    }\n\n    .dataframe tbody tr th {\n        vertical-align: top;\n    }\n\n    .dataframe thead th {\n        text-align: right;\n    }\n</style>\n<table border=\"1\" class=\"dataframe\">\n  <thead>\n    <tr style=\"text-align: right;\">\n      <th></th>\n      <th>UniprotID_A</th>\n      <th>UniprotID_B</th>\n      <th>species</th>\n    </tr>\n  </thead>\n  <tbody>\n  </tbody>\n</table>\n</div>"
     },
     "execution_count": 110,
     "metadata": {},
     "output_type": "execute_result"
    }
   ],
   "source": [
    "find_multi_species_ppis(ppis)"
   ]
  },
  {
   "cell_type": "code",
   "execution_count": 111,
   "metadata": {
    "collapsed": false,
    "jupyter": {
     "outputs_hidden": false
    }
   },
   "outputs": [
    {
     "data": {
      "text/plain": "Empty DataFrame\nColumns: [UniprotID, species]\nIndex: []",
      "text/html": "<div>\n<style scoped>\n    .dataframe tbody tr th:only-of-type {\n        vertical-align: middle;\n    }\n\n    .dataframe tbody tr th {\n        vertical-align: top;\n    }\n\n    .dataframe thead th {\n        text-align: right;\n    }\n</style>\n<table border=\"1\" class=\"dataframe\">\n  <thead>\n    <tr style=\"text-align: right;\">\n      <th></th>\n      <th>UniprotID</th>\n      <th>species</th>\n    </tr>\n  </thead>\n  <tbody>\n  </tbody>\n</table>\n</div>"
     },
     "execution_count": 111,
     "metadata": {},
     "output_type": "execute_result"
    }
   ],
   "source": [
    "find_multi_species_proteins(ppis)"
   ]
  },
  {
   "cell_type": "markdown",
   "metadata": {},
   "source": [
    "#### download sequences\n",
    "Try a second time after a few minutes"
   ]
  },
  {
   "cell_type": "code",
   "execution_count": 15,
   "metadata": {
    "collapsed": false,
    "jupyter": {
     "outputs_hidden": false
    }
   },
   "outputs": [
    {
     "name": "stdout",
     "output_type": "stream",
     "text": [
      "jobId: 2a2db46353dacee4c11c601d8b16b1df9d260e6c\n",
      "apid: query + tab ... 45028:0\n",
      "apid: fasta ...API FASTA: bcf6f287e082af32e206aa5f8a1225926088299c876b5ecfb33a15ad6cf6bb17\n"
     ]
    },
    {
     "name": "stderr",
     "output_type": "stream",
     "text": [
      "hash FASTA: 44893it [00:10, 4151.55it/s]\n",
      "fetch UniParc: 100%|███████████████████████████████| 135/135 [00:24<00:00,  5.58it/s]\n",
      "fetch isoforms/archive: 100%|████████████████████████| 80/80 [01:03<00:00,  1.26it/s]\n"
     ]
    }
   ],
   "source": [
    "# skip if re-running this w/o changes above or deleting files\n",
    "_ = uniprot_api_fetch(uniprot_ids, c.ap / 'apid')"
   ]
  },
  {
   "cell_type": "markdown",
   "metadata": {},
   "source": [
    "#### map IDs to seq hashes"
   ]
  },
  {
   "cell_type": "code",
   "execution_count": 112,
   "metadata": {
    "collapsed": false,
    "jupyter": {
     "outputs_hidden": false
    }
   },
   "outputs": [
    {
     "data": {
      "text/plain": "                    hash_A                hash_B  species\n1049  CRC-00097529ECAB0123  CRC-6C00626711C8012D    10090\n122   CRC-000BC5DD420D0669  CRC-2808F51BBD3A8B6E     7955\n184   CRC-0011BA5214873CAF  CRC-303501D8DA2E2440    39947\n513   CRC-0014B58B77D0127B  CRC-915DCA04EF0B2902    10116\n149   CRC-001980A1CC7646D7  CRC-A4E40D2CC1DE8F65   284812",
      "text/html": "<div>\n<style scoped>\n    .dataframe tbody tr th:only-of-type {\n        vertical-align: middle;\n    }\n\n    .dataframe tbody tr th {\n        vertical-align: top;\n    }\n\n    .dataframe thead th {\n        text-align: right;\n    }\n</style>\n<table border=\"1\" class=\"dataframe\">\n  <thead>\n    <tr style=\"text-align: right;\">\n      <th></th>\n      <th>hash_A</th>\n      <th>hash_B</th>\n      <th>species</th>\n    </tr>\n  </thead>\n  <tbody>\n    <tr>\n      <th>1049</th>\n      <td>CRC-00097529ECAB0123</td>\n      <td>CRC-6C00626711C8012D</td>\n      <td>10090</td>\n    </tr>\n    <tr>\n      <th>122</th>\n      <td>CRC-000BC5DD420D0669</td>\n      <td>CRC-2808F51BBD3A8B6E</td>\n      <td>7955</td>\n    </tr>\n    <tr>\n      <th>184</th>\n      <td>CRC-0011BA5214873CAF</td>\n      <td>CRC-303501D8DA2E2440</td>\n      <td>39947</td>\n    </tr>\n    <tr>\n      <th>513</th>\n      <td>CRC-0014B58B77D0127B</td>\n      <td>CRC-915DCA04EF0B2902</td>\n      <td>10116</td>\n    </tr>\n    <tr>\n      <th>149</th>\n      <td>CRC-001980A1CC7646D7</td>\n      <td>CRC-A4E40D2CC1DE8F65</td>\n      <td>284812</td>\n    </tr>\n  </tbody>\n</table>\n</div>"
     },
     "execution_count": 112,
     "metadata": {},
     "output_type": "execute_result"
    }
   ],
   "source": [
    "hash_ppis = ppis_to_hashes(ppis, c.ap / 'apid.json').drop_duplicates()\n",
    "hash_ppis.head()"
   ]
  },
  {
   "cell_type": "code",
   "execution_count": 113,
   "metadata": {
    "collapsed": false,
    "jupyter": {
     "outputs_hidden": false
    }
   },
   "outputs": [
    {
     "data": {
      "text/plain": "146"
     },
     "execution_count": 113,
     "metadata": {},
     "output_type": "execute_result"
    }
   ],
   "source": [
    "len(ppis) - len(hash_ppis)"
   ]
  },
  {
   "cell_type": "code",
   "execution_count": 114,
   "metadata": {
    "collapsed": false,
    "jupyter": {
     "outputs_hidden": false
    }
   },
   "outputs": [
    {
     "data": {
      "text/plain": "44697"
     },
     "execution_count": 114,
     "metadata": {},
     "output_type": "execute_result"
    }
   ],
   "source": [
    "fasta = SeqIO.to_dict(SeqIO.parse(c.ap / 'apid.hash.fasta', 'fasta'))\n",
    "len(fasta)"
   ]
  },
  {
   "cell_type": "markdown",
   "metadata": {},
   "source": [
    "#### filter by seq length"
   ]
  },
  {
   "cell_type": "code",
   "execution_count": 115,
   "metadata": {
    "collapsed": false,
    "jupyter": {
     "outputs_hidden": false
    }
   },
   "outputs": [
    {
     "data": {
      "text/plain": "(50, 1000)"
     },
     "execution_count": 115,
     "metadata": {},
     "output_type": "execute_result"
    }
   ],
   "source": [
    "c.min_seq_len, c.max_seq_len"
   ]
  },
  {
   "cell_type": "code",
   "execution_count": 116,
   "metadata": {
    "collapsed": false,
    "jupyter": {
     "outputs_hidden": false
    }
   },
   "outputs": [
    {
     "name": "stdout",
     "output_type": "stream",
     "text": [
      "dropped 4639/23072 PPIs from length filtering\n",
      "dropped 0/9918 table IDs and 0/18433 rows, and 34779/44697 sequence IDs\n"
     ]
    },
    {
     "data": {
      "text/plain": "(44697, 9918)"
     },
     "execution_count": 116,
     "metadata": {},
     "output_type": "execute_result"
    },
    {
     "data": {
      "text/plain": "<Figure size 800x280 with 3 Axes>",
      "image/png": "[encoded data removed]"
     },
     "metadata": {
      "needs_background": "light"
     },
     "output_type": "display_data"
    }
   ],
   "source": [
    "_hash_ppis, _fasta, _ = filter_ppis_and_fasta_by_len(\n",
    "    hash_ppis, fasta, c.min_seq_len, c.max_seq_len)\n",
    "len(fasta), len(_fasta)"
   ]
  },
  {
   "cell_type": "markdown",
   "metadata": {},
   "source": [
    "continue if these limits were ok, or change/set the values for\n",
    "`cfg.min_seq_len, cfg.max_seq_len` and re-run the filtering cell"
   ]
  },
  {
   "cell_type": "code",
   "execution_count": 117,
   "metadata": {
    "collapsed": false,
    "jupyter": {
     "outputs_hidden": false
    }
   },
   "outputs": [],
   "source": [
    "hash_ppis = _hash_ppis\n",
    "fasta = _fasta"
   ]
  },
  {
   "cell_type": "markdown",
   "metadata": {},
   "source": [
    "#### homodimer share\n",
    "Overall count, share, overall PPI count"
   ]
  },
  {
   "cell_type": "code",
   "execution_count": 118,
   "metadata": {
    "collapsed": false,
    "jupyter": {
     "outputs_hidden": false
    }
   },
   "outputs": [
    {
     "data": {
      "text/plain": "(False, 1284, 0.0697, 18433)"
     },
     "execution_count": 118,
     "metadata": {},
     "output_type": "execute_result"
    },
    {
     "data": {
      "text/plain": "<Figure size 800x300 with 1 Axes>",
      "image/png": "[encoded data removed]"
     },
     "metadata": {
      "needs_background": "light"
     },
     "output_type": "display_data"
    }
   ],
   "source": [
    "_ = plot_homodimer_share(hash_ppis)\n",
    "c.accept_homodimers, *count_homodimers(hash_ppis),"
   ]
  },
  {
   "cell_type": "code",
   "execution_count": 119,
   "metadata": {
    "collapsed": false,
    "jupyter": {
     "outputs_hidden": false
    }
   },
   "outputs": [
    {
     "name": "stdout",
     "output_type": "stream",
     "text": [
      "dropped 0/9615 table IDs and 0/17149 rows, and 303/9918 sequence IDs\n"
     ]
    },
    {
     "data": {
      "text/plain": "(17149, 9615)"
     },
     "execution_count": 119,
     "metadata": {},
     "output_type": "execute_result"
    }
   ],
   "source": [
    "if not c.accept_homodimers:\n",
    "    hash_ppis = drop_homodimers(hash_ppis)\n",
    "hash_ppis, fasta = shrink_both_ways(hash_ppis, fasta)\n",
    "len(hash_ppis), len(fasta)"
   ]
  },
  {
   "cell_type": "markdown",
   "source": [
    "#### degree distributions\n",
    "Look at some of those. In the next step, we will try to identify interactions between hubs and proteins that occur only once; and remove those PPIs. This will shrink the set of proteins and the degree of the hub; and we'll need less SwissProt proteins for it."
   ],
   "metadata": {
    "collapsed": false
   }
  },
  {
   "cell_type": "code",
   "execution_count": 120,
   "outputs": [
    {
     "data": {
      "text/plain": "<Figure size 343.25x240 with 1 Axes>",
      "image/png": "[encoded data removed]"
     },
     "metadata": {
      "needs_background": "light"
     },
     "output_type": "display_data"
    }
   ],
   "source": [
    "with mpl.rc_context({'figure.dpi': 100}):\n",
    "    fg = plot_degree_distribution(hash_ppis.loc[hash_ppis.species.isin(\n",
    "        [7955, 10116, 284812])].copy(), 2.4)\n",
    "    fg._legend.remove()\n",
    "    for sfx in ['svg', 'png']:\n",
    "        fg.savefig(f'degree_distrs.{sfx}', dpi=300)"
   ],
   "metadata": {
    "collapsed": false
   }
  },
  {
   "cell_type": "code",
   "execution_count": 121,
   "outputs": [
    {
     "data": {
      "text/plain": "<Figure size 343.25x240 with 1 Axes>",
      "image/png": "[encoded data removed]"
     },
     "metadata": {
      "needs_background": "light"
     },
     "output_type": "display_data"
    }
   ],
   "source": [
    "with mpl.rc_context({'figure.dpi': 100}):\n",
    "    fg = plot_degree_distribution(hash_ppis)\n",
    "    fg._legend.remove()"
   ],
   "metadata": {
    "collapsed": false
   }
  },
  {
   "cell_type": "markdown",
   "source": [
    "#### remove proteins that only interact with an über-hub?\n",
    "so that we need less extra proteins. Either directly remove hubs and hope that also drops a lot of proteins that interact only with them; or directly remove proteins that only interact with hubs.\n",
    "\n",
    "First squint at numbers a bit: At what percentage do overkill-hubs start?"
   ],
   "metadata": {
    "collapsed": false
   }
  },
  {
   "cell_type": "code",
   "execution_count": 122,
   "outputs": [
    {
     "data": {
      "text/plain": "          count      mean        std  min  50%   90%    95%    98%    max\nspecies                                                                  \n7955       67.0  1.582090   2.368667  1.0  1.0   2.0   3.00   3.68   20.0\n9031       46.0  1.260870   0.534781  1.0  1.0   2.0   2.00   3.00    3.0\n9913       94.0  2.042553   2.144836  1.0  1.0   5.0   7.00   8.14   12.0\n10090    2631.0  2.676549   6.749672  1.0  1.0   5.0   8.00  14.00  285.0\n10116     557.0  1.996409   6.085718  1.0  1.0   3.0   5.00   7.00  141.0\n10299       8.0  1.250000   0.707107  1.0  1.0   1.6   2.30   2.72    3.0\n10377      15.0  1.866667   1.302013  1.0  1.0   3.6   4.30   4.72    5.0\n36329     536.0  2.466418   2.621049  1.0  1.0   5.0   7.00  12.30   24.0\n37296      18.0  3.333333   2.656845  1.0  3.0   6.0   6.75   9.30   11.0\n39947     244.0  1.975410   2.096295  1.0  1.0   4.0   6.00  10.00   14.0\n83333    1547.0  3.384615   4.768113  1.0  2.0   7.0  10.00  16.00   64.0\n85962     921.0  4.323561   5.491256  1.0  2.0  10.0  14.00  20.00   55.0\n224308    579.0  3.837651  10.734185  1.0  1.0   8.0  14.00  29.44  214.0\n243276    676.0  9.606509  20.543696  1.0  3.5  21.0  32.00  67.00  269.0\n284812   1727.0  3.446439  11.268934  1.0  2.0   5.0   9.00  17.00  345.0",
      "text/html": "<div>\n<style scoped>\n    .dataframe tbody tr th:only-of-type {\n        vertical-align: middle;\n    }\n\n    .dataframe tbody tr th {\n        vertical-align: top;\n    }\n\n    .dataframe thead th {\n        text-align: right;\n    }\n</style>\n<table border=\"1\" class=\"dataframe\">\n  <thead>\n    <tr style=\"text-align: right;\">\n      <th></th>\n      <th>count</th>\n      <th>mean</th>\n      <th>std</th>\n      <th>min</th>\n      <th>50%</th>\n      <th>90%</th>\n      <th>95%</th>\n      <th>98%</th>\n      <th>max</th>\n    </tr>\n    <tr>\n      <th>species</th>\n      <th></th>\n      <th></th>\n      <th></th>\n      <th></th>\n      <th></th>\n      <th></th>\n      <th></th>\n      <th></th>\n      <th></th>\n    </tr>\n  </thead>\n  <tbody>\n    <tr>\n      <th>7955</th>\n      <td>67.0</td>\n      <td>1.582090</td>\n      <td>2.368667</td>\n      <td>1.0</td>\n      <td>1.0</td>\n      <td>2.0</td>\n      <td>3.00</td>\n      <td>3.68</td>\n      <td>20.0</td>\n    </tr>\n    <tr>\n      <th>9031</th>\n      <td>46.0</td>\n      <td>1.260870</td>\n      <td>0.534781</td>\n      <td>1.0</td>\n      <td>1.0</td>\n      <td>2.0</td>\n      <td>2.00</td>\n      <td>3.00</td>\n      <td>3.0</td>\n    </tr>\n    <tr>\n      <th>9913</th>\n      <td>94.0</td>\n      <td>2.042553</td>\n      <td>2.144836</td>\n      <td>1.0</td>\n      <td>1.0</td>\n      <td>5.0</td>\n      <td>7.00</td>\n      <td>8.14</td>\n      <td>12.0</td>\n    </tr>\n    <tr>\n      <th>10090</th>\n      <td>2631.0</td>\n      <td>2.676549</td>\n      <td>6.749672</td>\n      <td>1.0</td>\n      <td>1.0</td>\n      <td>5.0</td>\n      <td>8.00</td>\n      <td>14.00</td>\n      <td>285.0</td>\n    </tr>\n    <tr>\n      <th>10116</th>\n      <td>557.0</td>\n      <td>1.996409</td>\n      <td>6.085718</td>\n      <td>1.0</td>\n      <td>1.0</td>\n      <td>3.0</td>\n      <td>5.00</td>\n      <td>7.00</td>\n      <td>141.0</td>\n    </tr>\n    <tr>\n      <th>10299</th>\n      <td>8.0</td>\n      <td>1.250000</td>\n      <td>0.707107</td>\n      <td>1.0</td>\n      <td>1.0</td>\n      <td>1.6</td>\n      <td>2.30</td>\n      <td>2.72</td>\n      <td>3.0</td>\n    </tr>\n    <tr>\n      <th>10377</th>\n      <td>15.0</td>\n      <td>1.866667</td>\n      <td>1.302013</td>\n      <td>1.0</td>\n      <td>1.0</td>\n      <td>3.6</td>\n      <td>4.30</td>\n      <td>4.72</td>\n      <td>5.0</td>\n    </tr>\n    <tr>\n      <th>36329</th>\n      <td>536.0</td>\n      <td>2.466418</td>\n      <td>2.621049</td>\n      <td>1.0</td>\n      <td>1.0</td>\n      <td>5.0</td>\n      <td>7.00</td>\n      <td>12.30</td>\n      <td>24.0</td>\n    </tr>\n    <tr>\n      <th>37296</th>\n      <td>18.0</td>\n      <td>3.333333</td>\n      <td>2.656845</td>\n      <td>1.0</td>\n      <td>3.0</td>\n      <td>6.0</td>\n      <td>6.75</td>\n      <td>9.30</td>\n      <td>11.0</td>\n    </tr>\n    <tr>\n      <th>39947</th>\n      <td>244.0</td>\n      <td>1.975410</td>\n      <td>2.096295</td>\n      <td>1.0</td>\n      <td>1.0</td>\n      <td>4.0</td>\n      <td>6.00</td>\n      <td>10.00</td>\n      <td>14.0</td>\n    </tr>\n    <tr>\n      <th>83333</th>\n      <td>1547.0</td>\n      <td>3.384615</td>\n      <td>4.768113</td>\n      <td>1.0</td>\n      <td>2.0</td>\n      <td>7.0</td>\n      <td>10.00</td>\n      <td>16.00</td>\n      <td>64.0</td>\n    </tr>\n    <tr>\n      <th>85962</th>\n      <td>921.0</td>\n      <td>4.323561</td>\n      <td>5.491256</td>\n      <td>1.0</td>\n      <td>2.0</td>\n      <td>10.0</td>\n      <td>14.00</td>\n      <td>20.00</td>\n      <td>55.0</td>\n    </tr>\n    <tr>\n      <th>224308</th>\n      <td>579.0</td>\n      <td>3.837651</td>\n      <td>10.734185</td>\n      <td>1.0</td>\n      <td>1.0</td>\n      <td>8.0</td>\n      <td>14.00</td>\n      <td>29.44</td>\n      <td>214.0</td>\n    </tr>\n    <tr>\n      <th>243276</th>\n      <td>676.0</td>\n      <td>9.606509</td>\n      <td>20.543696</td>\n      <td>1.0</td>\n      <td>3.5</td>\n      <td>21.0</td>\n      <td>32.00</td>\n      <td>67.00</td>\n      <td>269.0</td>\n    </tr>\n    <tr>\n      <th>284812</th>\n      <td>1727.0</td>\n      <td>3.446439</td>\n      <td>11.268934</td>\n      <td>1.0</td>\n      <td>2.0</td>\n      <td>5.0</td>\n      <td>9.00</td>\n      <td>17.00</td>\n      <td>345.0</td>\n    </tr>\n  </tbody>\n</table>\n</div>"
     },
     "execution_count": 122,
     "metadata": {},
     "output_type": "execute_result"
    }
   ],
   "source": [
    "fetch_degrees(hash_ppis).groupby('species')['degree'].describe(percentiles=[.9, .95, .98])"
   ],
   "metadata": {
    "collapsed": false
   }
  },
  {
   "cell_type": "markdown",
   "source": [
    "Fetch the node degrees and protein numbers"
   ],
   "metadata": {
    "collapsed": false
   }
  },
  {
   "cell_type": "code",
   "execution_count": 123,
   "outputs": [
    {
     "data": {
      "text/plain": "                    hash_A                hash_B  species  minlen  maxlen  \\\n1049  CRC-00097529ECAB0123  CRC-6C00626711C8012D    10090     247     770   \n122   CRC-000BC5DD420D0669  CRC-2808F51BBD3A8B6E     7955     264     363   \n184   CRC-0011BA5214873CAF  CRC-303501D8DA2E2440    39947     133     282   \n513   CRC-0014B58B77D0127B  CRC-915DCA04EF0B2902    10116     573     752   \n149   CRC-001980A1CC7646D7  CRC-A4E40D2CC1DE8F65   284812     305     838   \n\n      degree_0  degree_1  n_seqs  \n1049         1        12    2631  \n122          1         1      67  \n184          1         3     244  \n513          1       141     557  \n149          1         2    1727  ",
      "text/html": "<div>\n<style scoped>\n    .dataframe tbody tr th:only-of-type {\n        vertical-align: middle;\n    }\n\n    .dataframe tbody tr th {\n        vertical-align: top;\n    }\n\n    .dataframe thead th {\n        text-align: right;\n    }\n</style>\n<table border=\"1\" class=\"dataframe\">\n  <thead>\n    <tr style=\"text-align: right;\">\n      <th></th>\n      <th>hash_A</th>\n      <th>hash_B</th>\n      <th>species</th>\n      <th>minlen</th>\n      <th>maxlen</th>\n      <th>degree_0</th>\n      <th>degree_1</th>\n      <th>n_seqs</th>\n    </tr>\n  </thead>\n  <tbody>\n    <tr>\n      <th>1049</th>\n      <td>CRC-00097529ECAB0123</td>\n      <td>CRC-6C00626711C8012D</td>\n      <td>10090</td>\n      <td>247</td>\n      <td>770</td>\n      <td>1</td>\n      <td>12</td>\n      <td>2631</td>\n    </tr>\n    <tr>\n      <th>122</th>\n      <td>CRC-000BC5DD420D0669</td>\n      <td>CRC-2808F51BBD3A8B6E</td>\n      <td>7955</td>\n      <td>264</td>\n      <td>363</td>\n      <td>1</td>\n      <td>1</td>\n      <td>67</td>\n    </tr>\n    <tr>\n      <th>184</th>\n      <td>CRC-0011BA5214873CAF</td>\n      <td>CRC-303501D8DA2E2440</td>\n      <td>39947</td>\n      <td>133</td>\n      <td>282</td>\n      <td>1</td>\n      <td>3</td>\n      <td>244</td>\n    </tr>\n    <tr>\n      <th>513</th>\n      <td>CRC-0014B58B77D0127B</td>\n      <td>CRC-915DCA04EF0B2902</td>\n      <td>10116</td>\n      <td>573</td>\n      <td>752</td>\n      <td>1</td>\n      <td>141</td>\n      <td>557</td>\n    </tr>\n    <tr>\n      <th>149</th>\n      <td>CRC-001980A1CC7646D7</td>\n      <td>CRC-A4E40D2CC1DE8F65</td>\n      <td>284812</td>\n      <td>305</td>\n      <td>838</td>\n      <td>1</td>\n      <td>2</td>\n      <td>1727</td>\n    </tr>\n  </tbody>\n</table>\n</div>"
     },
     "execution_count": 123,
     "metadata": {},
     "output_type": "execute_result"
    }
   ],
   "source": [
    "ppi_dgs = fetch_degrees(hash_ppis, as_dict=True)\n",
    "p_dgs = fetch_n_proteins(hash_ppis).to_dict()\n",
    "for ch, num in zip('AB', '01'):\n",
    "    hash_ppis[f'degree_{num}'] = hash_ppis[f'hash_{ch}'].apply(ppi_dgs.get)\n",
    "\n",
    "# sort the two columns of degrees\n",
    "hash_ppis[['degree_0', 'degree_1']] = np.sort(\n",
    "    hash_ppis[['degree_0', 'degree_1']], axis=1)\n",
    "hash_ppis['n_seqs'] = hash_ppis.species.apply(p_dgs.get)\n",
    "hash_ppis.head()"
   ],
   "metadata": {
    "collapsed": false
   }
  },
  {
   "cell_type": "code",
   "execution_count": 124,
   "outputs": [
    {
     "data": {
      "text/plain": "(2, 17149, 'of pairs will drop ...')"
     },
     "execution_count": 124,
     "metadata": {},
     "output_type": "execute_result"
    }
   ],
   "source": [
    "# find the pairs\n",
    "greedy = 2\n",
    "dppis = hash_ppis.loc[(hash_ppis.degree_0 == 1) & (hash_ppis.degree_1 >= hash_ppis.n_seqs / c.ratio / greedy)].copy()\n",
    "len(dppis), len(hash_ppis), 'of pairs will drop ...'"
   ],
   "metadata": {
    "collapsed": false
   }
  },
  {
   "cell_type": "code",
   "execution_count": 125,
   "outputs": [
    {
     "name": "stdout",
     "output_type": "stream",
     "text": [
      "dropped 0/9598 table IDs and 0/17126 rows, and 17/9615 sequence IDs\n"
     ]
    },
    {
     "data": {
      "text/plain": "(17126, 17149, 9598, 9615)"
     },
     "execution_count": 125,
     "metadata": {},
     "output_type": "execute_result"
    }
   ],
   "source": [
    "_hash_ppis = hash_ppis.iloc[~hash_ppis.index.isin(dppis.index)].copy()\n",
    "_hash_ppis, _fasta = shrink_both_ways(_hash_ppis, fasta.copy())\n",
    "len(_hash_ppis), len(hash_ppis), len(_fasta), len(fasta)"
   ],
   "metadata": {
    "collapsed": false
   }
  },
  {
   "cell_type": "code",
   "execution_count": 126,
   "outputs": [
    {
     "data": {
      "text/plain": "<Figure size 343.25x240 with 1 Axes>",
      "image/png": "[encoded data removed]"
     },
     "metadata": {
      "needs_background": "light"
     },
     "output_type": "display_data"
    },
    {
     "data": {
      "text/plain": "<Figure size 343.25x240 with 1 Axes>",
      "image/png": "[encoded data removed]"
     },
     "metadata": {
      "needs_background": "light"
     },
     "output_type": "display_data"
    }
   ],
   "source": [
    "with mpl.rc_context({'figure.dpi': 100}):\n",
    "    fg = plot_degree_distribution(_hash_ppis, 2.4)\n",
    "    fg._legend.remove()\n",
    "    # the og one\n",
    "    fg = plot_degree_distribution(hash_ppis, 2.4)\n",
    "    fg._legend.remove()"
   ],
   "metadata": {
    "collapsed": false
   }
  },
  {
   "cell_type": "code",
   "execution_count": 127,
   "outputs": [],
   "source": [
    "if True:  # This is used now! of course off by default\n",
    "    hash_ppis = _hash_ppis\n",
    "    fasta = _fasta"
   ],
   "metadata": {
    "collapsed": false
   }
  },
  {
   "cell_type": "markdown",
   "metadata": {},
   "source": [
    "#### species lookup"
   ]
  },
  {
   "cell_type": "code",
   "execution_count": 128,
   "metadata": {
    "collapsed": false,
    "jupyter": {
     "outputs_hidden": false
    }
   },
   "outputs": [
    {
     "name": "stderr",
     "output_type": "stream",
     "text": [
      "100%|███████████████████████████████████████████| 16/16 [00:03<00:00,  5.22it/s]\n"
     ]
    },
    {
     "data": {
      "text/plain": "    species                                             name  n_ppis  set_name\n6     10299               Human alphaherpesvirus 1 strain 17       5  validate\n7     10377                 Human herpesvirus 4 strain B95-8      14  validate\n1      9031                                    Gallus gallus      28  validate\n9     37296                         Human gammaherpesvirus 8      28     train\n0      7955                                      Danio rerio      51  validate\n3      9913                                       Bos taurus      94  validate\n10    39947                      Oryza sativa Japonica Group     239  validate\n5     10116                                Rattus norvegicus     554     train\n8     36329                        Plasmodium falciparum 3D7     660     train\n13   224308       Bacillus subtilis subsp. subtilis str. 168    1109  validate\n12    85962                        Helicobacter pylori 26695    1989     train\n11    83333                            Escherichia coli K-12    2616     train\n15   284812                  Schizosaccharomyces pombe 972h-    2974     train\n14   243276  Treponema pallidum subsp. pallidum str. Nichols    3245     train\n4     10090                                     Mus musculus    3520     train\n2      9606                                     Homo sapiens   59251      test",
      "text/html": "<div>\n<style scoped>\n    .dataframe tbody tr th:only-of-type {\n        vertical-align: middle;\n    }\n\n    .dataframe tbody tr th {\n        vertical-align: top;\n    }\n\n    .dataframe thead th {\n        text-align: right;\n    }\n</style>\n<table border=\"1\" class=\"dataframe\">\n  <thead>\n    <tr style=\"text-align: right;\">\n      <th></th>\n      <th>species</th>\n      <th>name</th>\n      <th>n_ppis</th>\n      <th>set_name</th>\n    </tr>\n  </thead>\n  <tbody>\n    <tr>\n      <th>6</th>\n      <td>10299</td>\n      <td>Human alphaherpesvirus 1 strain 17</td>\n      <td>5</td>\n      <td>validate</td>\n    </tr>\n    <tr>\n      <th>7</th>\n      <td>10377</td>\n      <td>Human herpesvirus 4 strain B95-8</td>\n      <td>14</td>\n      <td>validate</td>\n    </tr>\n    <tr>\n      <th>1</th>\n      <td>9031</td>\n      <td>Gallus gallus</td>\n      <td>28</td>\n      <td>validate</td>\n    </tr>\n    <tr>\n      <th>9</th>\n      <td>37296</td>\n      <td>Human gammaherpesvirus 8</td>\n      <td>28</td>\n      <td>train</td>\n    </tr>\n    <tr>\n      <th>0</th>\n      <td>7955</td>\n      <td>Danio rerio</td>\n      <td>51</td>\n      <td>validate</td>\n    </tr>\n    <tr>\n      <th>3</th>\n      <td>9913</td>\n      <td>Bos taurus</td>\n      <td>94</td>\n      <td>validate</td>\n    </tr>\n    <tr>\n      <th>10</th>\n      <td>39947</td>\n      <td>Oryza sativa Japonica Group</td>\n      <td>239</td>\n      <td>validate</td>\n    </tr>\n    <tr>\n      <th>5</th>\n      <td>10116</td>\n      <td>Rattus norvegicus</td>\n      <td>554</td>\n      <td>train</td>\n    </tr>\n    <tr>\n      <th>8</th>\n      <td>36329</td>\n      <td>Plasmodium falciparum 3D7</td>\n      <td>660</td>\n      <td>train</td>\n    </tr>\n    <tr>\n      <th>13</th>\n      <td>224308</td>\n      <td>Bacillus subtilis subsp. subtilis str. 168</td>\n      <td>1109</td>\n      <td>validate</td>\n    </tr>\n    <tr>\n      <th>12</th>\n      <td>85962</td>\n      <td>Helicobacter pylori 26695</td>\n      <td>1989</td>\n      <td>train</td>\n    </tr>\n    <tr>\n      <th>11</th>\n      <td>83333</td>\n      <td>Escherichia coli K-12</td>\n      <td>2616</td>\n      <td>train</td>\n    </tr>\n    <tr>\n      <th>15</th>\n      <td>284812</td>\n      <td>Schizosaccharomyces pombe 972h-</td>\n      <td>2974</td>\n      <td>train</td>\n    </tr>\n    <tr>\n      <th>14</th>\n      <td>243276</td>\n      <td>Treponema pallidum subsp. pallidum str. Nichols</td>\n      <td>3245</td>\n      <td>train</td>\n    </tr>\n    <tr>\n      <th>4</th>\n      <td>10090</td>\n      <td>Mus musculus</td>\n      <td>3520</td>\n      <td>train</td>\n    </tr>\n    <tr>\n      <th>2</th>\n      <td>9606</td>\n      <td>Homo sapiens</td>\n      <td>59251</td>\n      <td>test</td>\n    </tr>\n  </tbody>\n</table>\n</div>"
     },
     "execution_count": 128,
     "metadata": {},
     "output_type": "execute_result"
    }
   ],
   "source": [
    "taxonomy = fetch_taxonomic_info(pd.concat((\n",
    "    hash_ppis.species, pd.Series([9606] * 59251))\n",
    ").rename('species')).sort_values(by='n_ppis')\n",
    "taxonomy['set_name'] = ''\n",
    "taxonomy.loc[~taxonomy.species.isin(c.val_species | {9606}), 'set_name'] += '_train'\n",
    "taxonomy.loc[taxonomy.species.isin(c.val_species), 'set_name'] += '_validate'\n",
    "taxonomy.loc[taxonomy.species == 9606, 'set_name'] = 'test'\n",
    "taxonomy.set_name = taxonomy.set_name.str.lstrip('_')\n",
    "taxonomy.loc[taxonomy.name.str.startswith('Campylob'), 'name'] = 'Campylobacter jejuni'\n",
    "taxonomy.loc[taxonomy.name.str.startswith('Sever'), 'name'] = 'SARS-CoV 2'\n",
    "taxonomy"
   ]
  },
  {
   "cell_type": "code",
   "execution_count": 129,
   "outputs": [],
   "source": [
    "importlib.reload(api)\n",
    "importlib.reload(extract)\n",
    "importlib.reload(general)\n",
    "importlib.reload(pairs)\n",
    "importlib.reload(plot)\n",
    "importlib.reload(reduce)\n",
    "importlib.reload(proteome)\n",
    "\n",
    "from ppi_utils.api import *\n",
    "from ppi_utils.extract import *\n",
    "from ppi_utils.general import *\n",
    "from ppi_utils.pairs import *\n",
    "from ppi_utils.plot import *\n",
    "from ppi_utils.reduce import *\n",
    "from ppi_utils.proteome import *"
   ],
   "metadata": {
    "collapsed": false
   }
  },
  {
   "cell_type": "code",
   "execution_count": 130,
   "outputs": [
    {
     "data": {
      "text/plain": "<Figure size 817.236x355.556 with 1 Axes>",
      "image/png": "[encoded data removed]"
     },
     "metadata": {},
     "output_type": "display_data"
    }
   ],
   "source": [
    "fi = plot_interactome_sizes(taxonomy, h=4.5)\n",
    "for sfx in ['svg', 'png']:\n",
    "    fi.savefig(f'interactome_sizes.{sfx}', dpi=300)"
   ],
   "metadata": {
    "collapsed": false
   }
  },
  {
   "cell_type": "markdown",
   "metadata": {},
   "source": [
    "#### download proteomes"
   ]
  },
  {
   "cell_type": "code",
   "execution_count": 168,
   "metadata": {
    "collapsed": false,
    "jupyter": {
     "outputs_hidden": false
    }
   },
   "outputs": [
    {
     "name": "stderr",
     "output_type": "stream",
     "text": [
      "100%|██████████████████████| 16/16 [02:47<00:00, 10.46s/it, batch=Gallus gallus]\n"
     ]
    }
   ],
   "source": [
    "# skip if re-running this w/o changes above or deleting files\n",
    "if c.add_proteomes:\n",
    "    fetch_proteomes(set(taxonomy.species) | {9606}, c.pp)"
   ]
  },
  {
   "cell_type": "markdown",
   "metadata": {},
   "source": [
    "## Validation set: APID\n",
    "#### val: select species/proteins\n",
    "Either by sampling a subset of proteins and selecting the PPIs or picking the ones for one or more particular species"
   ]
  },
  {
   "cell_type": "code",
   "execution_count": 131,
   "metadata": {
    "collapsed": false,
    "jupyter": {
     "outputs_hidden": false
    }
   },
   "outputs": [
    {
     "data": {
      "text/plain": "(0.1, {7955, 9031, 9913, 10299, 10377, 39947, 224308, 868565})"
     },
     "execution_count": 131,
     "metadata": {},
     "output_type": "execute_result"
    }
   ],
   "source": [
    "c.val_set_size, c.val_species"
   ]
  },
  {
   "cell_type": "code",
   "execution_count": 132,
   "metadata": {
    "collapsed": false,
    "jupyter": {
     "outputs_hidden": false
    }
   },
   "outputs": [
    {
     "data": {
      "text/plain": "    species                                        name  n_ppis  set_name\n6     10299          Human alphaherpesvirus 1 strain 17       5  validate\n7     10377            Human herpesvirus 4 strain B95-8      14  validate\n1      9031                               Gallus gallus      28  validate\n0      7955                                 Danio rerio      51  validate\n3      9913                                  Bos taurus      94  validate\n10    39947                 Oryza sativa Japonica Group     239  validate\n13   224308  Bacillus subtilis subsp. subtilis str. 168    1109  validate",
      "text/html": "<div>\n<style scoped>\n    .dataframe tbody tr th:only-of-type {\n        vertical-align: middle;\n    }\n\n    .dataframe tbody tr th {\n        vertical-align: top;\n    }\n\n    .dataframe thead th {\n        text-align: right;\n    }\n</style>\n<table border=\"1\" class=\"dataframe\">\n  <thead>\n    <tr style=\"text-align: right;\">\n      <th></th>\n      <th>species</th>\n      <th>name</th>\n      <th>n_ppis</th>\n      <th>set_name</th>\n    </tr>\n  </thead>\n  <tbody>\n    <tr>\n      <th>6</th>\n      <td>10299</td>\n      <td>Human alphaherpesvirus 1 strain 17</td>\n      <td>5</td>\n      <td>validate</td>\n    </tr>\n    <tr>\n      <th>7</th>\n      <td>10377</td>\n      <td>Human herpesvirus 4 strain B95-8</td>\n      <td>14</td>\n      <td>validate</td>\n    </tr>\n    <tr>\n      <th>1</th>\n      <td>9031</td>\n      <td>Gallus gallus</td>\n      <td>28</td>\n      <td>validate</td>\n    </tr>\n    <tr>\n      <th>0</th>\n      <td>7955</td>\n      <td>Danio rerio</td>\n      <td>51</td>\n      <td>validate</td>\n    </tr>\n    <tr>\n      <th>3</th>\n      <td>9913</td>\n      <td>Bos taurus</td>\n      <td>94</td>\n      <td>validate</td>\n    </tr>\n    <tr>\n      <th>10</th>\n      <td>39947</td>\n      <td>Oryza sativa Japonica Group</td>\n      <td>239</td>\n      <td>validate</td>\n    </tr>\n    <tr>\n      <th>13</th>\n      <td>224308</td>\n      <td>Bacillus subtilis subsp. subtilis str. 168</td>\n      <td>1109</td>\n      <td>validate</td>\n    </tr>\n  </tbody>\n</table>\n</div>"
     },
     "execution_count": 132,
     "metadata": {},
     "output_type": "execute_result"
    }
   ],
   "source": [
    "taxonomy.loc[taxonomy.species.isin(c.val_species)]"
   ]
  },
  {
   "cell_type": "code",
   "execution_count": 133,
   "metadata": {},
   "outputs": [
    {
     "data": {
      "text/plain": "(15586, 0.9100782436062128, 1532, 0.08945463038654677)"
     },
     "execution_count": 133,
     "metadata": {},
     "output_type": "execute_result"
    }
   ],
   "source": [
    "hash_ppis['label'] = 1\n",
    "if c.val_species is not None:\n",
    "    train, val = make_validation_species(hash_ppis, c.val_species)\n",
    "else:\n",
    "    # if the set becomes too large, try another seed!\n",
    "    # With this approach, PPIs *will* be lost\n",
    "    train, val = make_validation_split(hash_ppis, c.val_set_size, c.seed)\n",
    "c.val_species = set(val.species)\n",
    "c.train_species = set(train.species)\n",
    "len(train), len(train) / len(hash_ppis), len(val), len(val) / len(hash_ppis)"
   ]
  },
  {
   "cell_type": "code",
   "execution_count": 134,
   "metadata": {
    "collapsed": false,
    "jupyter": {
     "outputs_hidden": false
    }
   },
   "outputs": [
    {
     "data": {
      "text/plain": "                    hash_A                hash_B  species  minlen  maxlen  \\\n122   CRC-000BC5DD420D0669  CRC-2808F51BBD3A8B6E     7955     264     363   \n184   CRC-0011BA5214873CAF  CRC-303501D8DA2E2440    39947     133     282   \n1139  CRC-0038A2491FC5A50F  CRC-62AD6CA7294E1FAA   224308     218     334   \n942   CRC-0038A2491FC5A50F  CRC-7C00301A62188306   224308     196     218   \n113   CRC-00610BF36473BB97  CRC-161E9B04CFC5A1D7     9913     542     556   \n\n      degree_0  degree_1  n_seqs  label  \n122          1         1      67      1  \n184          1         3     244      1  \n1139         2       214     579      1  \n942          2        19     579      1  \n113          2         7      94      1  ",
      "text/html": "<div>\n<style scoped>\n    .dataframe tbody tr th:only-of-type {\n        vertical-align: middle;\n    }\n\n    .dataframe tbody tr th {\n        vertical-align: top;\n    }\n\n    .dataframe thead th {\n        text-align: right;\n    }\n</style>\n<table border=\"1\" class=\"dataframe\">\n  <thead>\n    <tr style=\"text-align: right;\">\n      <th></th>\n      <th>hash_A</th>\n      <th>hash_B</th>\n      <th>species</th>\n      <th>minlen</th>\n      <th>maxlen</th>\n      <th>degree_0</th>\n      <th>degree_1</th>\n      <th>n_seqs</th>\n      <th>label</th>\n    </tr>\n  </thead>\n  <tbody>\n    <tr>\n      <th>122</th>\n      <td>CRC-000BC5DD420D0669</td>\n      <td>CRC-2808F51BBD3A8B6E</td>\n      <td>7955</td>\n      <td>264</td>\n      <td>363</td>\n      <td>1</td>\n      <td>1</td>\n      <td>67</td>\n      <td>1</td>\n    </tr>\n    <tr>\n      <th>184</th>\n      <td>CRC-0011BA5214873CAF</td>\n      <td>CRC-303501D8DA2E2440</td>\n      <td>39947</td>\n      <td>133</td>\n      <td>282</td>\n      <td>1</td>\n      <td>3</td>\n      <td>244</td>\n      <td>1</td>\n    </tr>\n    <tr>\n      <th>1139</th>\n      <td>CRC-0038A2491FC5A50F</td>\n      <td>CRC-62AD6CA7294E1FAA</td>\n      <td>224308</td>\n      <td>218</td>\n      <td>334</td>\n      <td>2</td>\n      <td>214</td>\n      <td>579</td>\n      <td>1</td>\n    </tr>\n    <tr>\n      <th>942</th>\n      <td>CRC-0038A2491FC5A50F</td>\n      <td>CRC-7C00301A62188306</td>\n      <td>224308</td>\n      <td>196</td>\n      <td>218</td>\n      <td>2</td>\n      <td>19</td>\n      <td>579</td>\n      <td>1</td>\n    </tr>\n    <tr>\n      <th>113</th>\n      <td>CRC-00610BF36473BB97</td>\n      <td>CRC-161E9B04CFC5A1D7</td>\n      <td>9913</td>\n      <td>542</td>\n      <td>556</td>\n      <td>2</td>\n      <td>7</td>\n      <td>94</td>\n      <td>1</td>\n    </tr>\n  </tbody>\n</table>\n</div>"
     },
     "execution_count": 134,
     "metadata": {},
     "output_type": "execute_result"
    }
   ],
   "source": [
    "val.head()"
   ]
  },
  {
   "cell_type": "code",
   "execution_count": 135,
   "metadata": {
    "collapsed": false,
    "jupyter": {
     "outputs_hidden": false
    }
   },
   "outputs": [
    {
     "data": {
      "text/plain": "(array([  7955,  39947, 224308,   9913,   9031,  10377,  10299]),\n array([ 10090,  10116, 284812,  83333,  36329, 243276,  85962,  37296]))"
     },
     "execution_count": 135,
     "metadata": {},
     "output_type": "execute_result"
    }
   ],
   "source": [
    "val.species.unique(), train.species.unique()"
   ]
  },
  {
   "cell_type": "markdown",
   "metadata": {},
   "source": [
    "Separate the validation set sequences from the ones remaining as train set"
   ]
  },
  {
   "cell_type": "markdown",
   "metadata": {},
   "source": [
    "#### train: save seqs + positives\n"
   ]
  },
  {
   "cell_type": "code",
   "execution_count": 136,
   "metadata": {
    "collapsed": false,
    "jupyter": {
     "outputs_hidden": false
    }
   },
   "outputs": [
    {
     "name": "stdout",
     "output_type": "stream",
     "text": [
      "dropped 0/8565 table IDs and 0/15586 rows, and 1033/9598 sequence IDs\n"
     ]
    },
    {
     "data": {
      "text/plain": "(8565, 9598)"
     },
     "execution_count": 136,
     "metadata": {},
     "output_type": "execute_result"
    }
   ],
   "source": [
    "_, train_seqs = shrink_both_ways(train.copy(), fasta.copy())\n",
    "c.train_seqs = len(train_seqs)\n",
    "len(train_seqs), len(fasta)"
   ]
  },
  {
   "cell_type": "code",
   "execution_count": 137,
   "metadata": {
    "collapsed": false,
    "jupyter": {
     "outputs_hidden": false
    }
   },
   "outputs": [
    {
     "data": {
      "text/plain": "(PosixPath('apid/apid_train_raw.fasta'), PosixPath('apid/apid_train_raw.tsv'))"
     },
     "execution_count": 137,
     "metadata": {},
     "output_type": "execute_result"
    }
   ],
   "source": [
    "_ = SeqIO.write(values_sorted_by_key(train_seqs), c.train_raw_fasta, 'fasta')\n",
    "train.to_csv(c.train_raw_tsv, sep='\\t', header=True, index=False)\n",
    "c.train_raw_fasta, c.train_raw_tsv"
   ]
  },
  {
   "cell_type": "markdown",
   "metadata": {},
   "source": [
    "#### val: save seqs + positives"
   ]
  },
  {
   "cell_type": "code",
   "execution_count": 138,
   "metadata": {
    "collapsed": false,
    "jupyter": {
     "outputs_hidden": false
    }
   },
   "outputs": [
    {
     "name": "stdout",
     "output_type": "stream",
     "text": [
      "dropped 0/1030 table IDs and 0/1532 rows, and 8568/9598 sequence IDs\n"
     ]
    },
    {
     "data": {
      "text/plain": "(1030, 9598)"
     },
     "execution_count": 138,
     "metadata": {},
     "output_type": "execute_result"
    }
   ],
   "source": [
    "_, val_seqs = shrink_both_ways(val.copy(), fasta.copy())\n",
    "len(val_seqs), len(fasta)"
   ]
  },
  {
   "cell_type": "code",
   "execution_count": 139,
   "metadata": {
    "collapsed": false,
    "jupyter": {
     "outputs_hidden": false
    }
   },
   "outputs": [
    {
     "data": {
      "text/plain": "(PosixPath('apid/apid_validation_raw.fasta'),\n PosixPath('apid/apid_validation_raw.tsv'))"
     },
     "execution_count": 139,
     "metadata": {},
     "output_type": "execute_result"
    }
   ],
   "source": [
    "_ = SeqIO.write(values_sorted_by_key(val_seqs), c.val_raw_fasta, 'fasta')\n",
    "val.to_csv(c.val_raw_tsv, sep='\\t', header=True, index=False)\n",
    "c.val_raw_fasta, c.val_raw_tsv"
   ]
  },
  {
   "cell_type": "markdown",
   "metadata": {},
   "source": [
    "Mind that the TSVs will contain only positives! Sample negatives only after most of the `uniqueprot`-shebang."
   ]
  },
  {
   "cell_type": "markdown",
   "metadata": {},
   "source": [
    "## Test set: HuRI\n",
    "#### download and extract PPIs"
   ]
  },
  {
   "cell_type": "code",
   "execution_count": 49,
   "metadata": {
    "collapsed": false,
    "jupyter": {
     "outputs_hidden": false
    }
   },
   "outputs": [
    {
     "data": {
      "text/plain": "PosixPath('hi_union.psi')"
     },
     "execution_count": 49,
     "metadata": {},
     "output_type": "execute_result"
    }
   ],
   "source": [
    "c.psi_path"
   ]
  },
  {
   "cell_type": "code",
   "execution_count": 50,
   "metadata": {
    "collapsed": false,
    "jupyter": {
     "outputs_hidden": false
    }
   },
   "outputs": [
    {
     "name": "stdout",
     "output_type": "stream",
     "text": [
      "already downloaded and SHA256 checks out\n"
     ]
    },
    {
     "data": {
      "text/plain": "PosixPath('hi_union.psi')"
     },
     "execution_count": 50,
     "metadata": {},
     "output_type": "execute_result"
    }
   ],
   "source": [
    "# it's somehow a lot faster to download this from a browser!\n",
    "# or run !wget \"http://www.interactome-atlas.org/data/HI-union.psi\" -O \"hi_union.psi\"\n",
    "download_y2h_interactome(c.psi_path)"
   ]
  },
  {
   "cell_type": "code",
   "execution_count": 140,
   "metadata": {
    "collapsed": false,
    "jupyter": {
     "outputs_hidden": false
    }
   },
   "outputs": [
    {
     "data": {
      "text/plain": "97888"
     },
     "execution_count": 140,
     "metadata": {},
     "output_type": "execute_result"
    }
   ],
   "source": [
    "huri_ppis, huri_seq_ids = extract_huri_ppis(c.psi_path)\n",
    "len(huri_ppis)"
   ]
  },
  {
   "cell_type": "markdown",
   "source": [
    "#### pick a subset?"
   ],
   "metadata": {
    "collapsed": false
   }
  },
  {
   "cell_type": "code",
   "execution_count": 141,
   "outputs": [
    {
     "data": {
      "text/plain": "(15586, 1532, 11168)"
     },
     "execution_count": 141,
     "metadata": {},
     "output_type": "execute_result"
    }
   ],
   "source": [
    "frac = 6\n",
    "huri_ids = np.unique(huri_ppis.iloc[:, [0, 1]])\n",
    "len(train), len(val), len(val_seqs) + len(train_seqs) + len(huri_ids) // frac"
   ],
   "metadata": {
    "collapsed": false
   }
  },
  {
   "cell_type": "code",
   "execution_count": 142,
   "outputs": [
    {
     "data": {
      "text/plain": "(1429,\n ['O75593',\n  'P30405-1',\n  'P47710-1',\n  'P48444-1',\n  'Q8IX19',\n  'Q6P1M0-2',\n  'Q96KQ4',\n  'Q16342-1',\n  'Q8NC51-1',\n  'Q8IWB1'])"
     },
     "execution_count": 142,
     "metadata": {},
     "output_type": "execute_result"
    }
   ],
   "source": [
    "rng = np.random.default_rng(12345)\n",
    "chc = set(rng.choice(huri_ids, size=len(huri_ids) // frac))\n",
    "len(chc), list(chc)[:10]"
   ],
   "metadata": {
    "collapsed": false
   }
  },
  {
   "cell_type": "code",
   "execution_count": 143,
   "outputs": [
    {
     "data": {
      "text/plain": "               0         1  species\n65        Q7Z7H3    Q7Z7H3     9606\n66      Q9BVN2-2    I3L0H3     9606\n183     Q86W74-2    Q5JX71     9606\n268     Q8NFF5-2  Q9UNS2-1     9606\n273       Q96LM6    Q99895     9606\n...          ...       ...      ...\n234347    Q3LI66  Q6UY14-1     9606\n236178    P17568  Q9BWG6-1     9606\n236524  O95870-1  Q9BVK8-1     9606\n236747  Q9BZW7-1  Q9P2K3-2     9606\n238012  Q5T6S3-1  Q9P2K3-2     9606\n\n[1849 rows x 3 columns]",
      "text/html": "<div>\n<style scoped>\n    .dataframe tbody tr th:only-of-type {\n        vertical-align: middle;\n    }\n\n    .dataframe tbody tr th {\n        vertical-align: top;\n    }\n\n    .dataframe thead th {\n        text-align: right;\n    }\n</style>\n<table border=\"1\" class=\"dataframe\">\n  <thead>\n    <tr style=\"text-align: right;\">\n      <th></th>\n      <th>0</th>\n      <th>1</th>\n      <th>species</th>\n    </tr>\n  </thead>\n  <tbody>\n    <tr>\n      <th>65</th>\n      <td>Q7Z7H3</td>\n      <td>Q7Z7H3</td>\n      <td>9606</td>\n    </tr>\n    <tr>\n      <th>66</th>\n      <td>Q9BVN2-2</td>\n      <td>I3L0H3</td>\n      <td>9606</td>\n    </tr>\n    <tr>\n      <th>183</th>\n      <td>Q86W74-2</td>\n      <td>Q5JX71</td>\n      <td>9606</td>\n    </tr>\n    <tr>\n      <th>268</th>\n      <td>Q8NFF5-2</td>\n      <td>Q9UNS2-1</td>\n      <td>9606</td>\n    </tr>\n    <tr>\n      <th>273</th>\n      <td>Q96LM6</td>\n      <td>Q99895</td>\n      <td>9606</td>\n    </tr>\n    <tr>\n      <th>...</th>\n      <td>...</td>\n      <td>...</td>\n      <td>...</td>\n    </tr>\n    <tr>\n      <th>234347</th>\n      <td>Q3LI66</td>\n      <td>Q6UY14-1</td>\n      <td>9606</td>\n    </tr>\n    <tr>\n      <th>236178</th>\n      <td>P17568</td>\n      <td>Q9BWG6-1</td>\n      <td>9606</td>\n    </tr>\n    <tr>\n      <th>236524</th>\n      <td>O95870-1</td>\n      <td>Q9BVK8-1</td>\n      <td>9606</td>\n    </tr>\n    <tr>\n      <th>236747</th>\n      <td>Q9BZW7-1</td>\n      <td>Q9P2K3-2</td>\n      <td>9606</td>\n    </tr>\n    <tr>\n      <th>238012</th>\n      <td>Q5T6S3-1</td>\n      <td>Q9P2K3-2</td>\n      <td>9606</td>\n    </tr>\n  </tbody>\n</table>\n<p>1849 rows × 3 columns</p>\n</div>"
     },
     "execution_count": 143,
     "metadata": {},
     "output_type": "execute_result"
    }
   ],
   "source": [
    "_huri_ppis = huri_ppis.loc[(huri_ppis[0].isin(chc)) & (huri_ppis[1].isin(chc))]\n",
    "_huri_ppis"
   ],
   "metadata": {
    "collapsed": false
   }
  },
  {
   "cell_type": "code",
   "execution_count": 144,
   "outputs": [],
   "source": [
    "if True:  # This is used now! of course off by default\n",
    "    huri_ppis = _huri_ppis\n",
    "    for k in huri_seq_ids.keys():  # this is not wrong\n",
    "        huri_seq_ids[k] = {v for v in huri_seq_ids[k] if v in chc}"
   ],
   "metadata": {
    "collapsed": false
   }
  },
  {
   "cell_type": "markdown",
   "source": [
    "##### now back to normal"
   ],
   "metadata": {
    "collapsed": false
   }
  },
  {
   "cell_type": "code",
   "execution_count": 145,
   "metadata": {
    "collapsed": false,
    "jupyter": {
     "outputs_hidden": false
    }
   },
   "outputs": [
    {
     "name": "stdout",
     "output_type": "stream",
     "text": [
      "loading from huri/huri.hash.fasta and huri/huri.json\n"
     ]
    },
    {
     "data": {
      "text/plain": "9119"
     },
     "execution_count": 145,
     "metadata": {},
     "output_type": "execute_result"
    }
   ],
   "source": [
    "huri_seqs, _ = fetch_huri_seqs(huri_seq_ids, c.hp / 'huri')\n",
    "len(huri_seqs)"
   ]
  },
  {
   "cell_type": "markdown",
   "metadata": {},
   "source": [
    "#### map + filter PPIs"
   ]
  },
  {
   "cell_type": "code",
   "execution_count": 146,
   "metadata": {
    "collapsed": false,
    "jupyter": {
     "outputs_hidden": false
    }
   },
   "outputs": [
    {
     "name": "stdout",
     "output_type": "stream",
     "text": [
      "{9606}\n"
     ]
    },
    {
     "data": {
      "text/plain": "            0         1  species\n65     Q7Z7H3    Q7Z7H3     9606\n66   Q9BVN2-2    I3L0H3     9606\n183  Q86W74-2    Q5JX71     9606\n268  Q8NFF5-2  Q9UNS2-1     9606\n273    Q96LM6    Q99895     9606",
      "text/html": "<div>\n<style scoped>\n    .dataframe tbody tr th:only-of-type {\n        vertical-align: middle;\n    }\n\n    .dataframe tbody tr th {\n        vertical-align: top;\n    }\n\n    .dataframe thead th {\n        text-align: right;\n    }\n</style>\n<table border=\"1\" class=\"dataframe\">\n  <thead>\n    <tr style=\"text-align: right;\">\n      <th></th>\n      <th>0</th>\n      <th>1</th>\n      <th>species</th>\n    </tr>\n  </thead>\n  <tbody>\n    <tr>\n      <th>65</th>\n      <td>Q7Z7H3</td>\n      <td>Q7Z7H3</td>\n      <td>9606</td>\n    </tr>\n    <tr>\n      <th>66</th>\n      <td>Q9BVN2-2</td>\n      <td>I3L0H3</td>\n      <td>9606</td>\n    </tr>\n    <tr>\n      <th>183</th>\n      <td>Q86W74-2</td>\n      <td>Q5JX71</td>\n      <td>9606</td>\n    </tr>\n    <tr>\n      <th>268</th>\n      <td>Q8NFF5-2</td>\n      <td>Q9UNS2-1</td>\n      <td>9606</td>\n    </tr>\n    <tr>\n      <th>273</th>\n      <td>Q96LM6</td>\n      <td>Q99895</td>\n      <td>9606</td>\n    </tr>\n  </tbody>\n</table>\n</div>"
     },
     "execution_count": 146,
     "metadata": {},
     "output_type": "execute_result"
    }
   ],
   "source": [
    "print(set(huri_ppis.species))  # only human, but keep the label\n",
    "huri_ppis.head()"
   ]
  },
  {
   "cell_type": "code",
   "execution_count": 147,
   "metadata": {},
   "outputs": [
    {
     "data": {
      "text/plain": "(1849, 613, 1236)"
     },
     "execution_count": 147,
     "metadata": {},
     "output_type": "execute_result"
    }
   ],
   "source": [
    "# some 35K/600 protein IDs point to the same sequence\n",
    "huri_hash_ppis = ppis_to_hashes(huri_ppis, c.hp / 'huri.json')\n",
    "len(huri_ppis), len(huri_ppis) - len(huri_hash_ppis), len(huri_hash_ppis)"
   ]
  },
  {
   "cell_type": "code",
   "execution_count": 148,
   "metadata": {
    "collapsed": false,
    "jupyter": {
     "outputs_hidden": false
    }
   },
   "outputs": [
    {
     "data": {
      "text/plain": "                     hash_A                hash_B  species\n56209  CRC-001576EA78C61C85  CRC-045C9C9CAE0FD639     9606\n55616  CRC-001576EA78C61C85  CRC-12E45FF6696080F8     9606\n62280  CRC-001576EA78C61C85  CRC-2743716544288776     9606\n7258   CRC-001576EA78C61C85  CRC-298AAC132778376A     9606\n39968  CRC-001576EA78C61C85  CRC-2EDBC7981868EB12     9606",
      "text/html": "<div>\n<style scoped>\n    .dataframe tbody tr th:only-of-type {\n        vertical-align: middle;\n    }\n\n    .dataframe tbody tr th {\n        vertical-align: top;\n    }\n\n    .dataframe thead th {\n        text-align: right;\n    }\n</style>\n<table border=\"1\" class=\"dataframe\">\n  <thead>\n    <tr style=\"text-align: right;\">\n      <th></th>\n      <th>hash_A</th>\n      <th>hash_B</th>\n      <th>species</th>\n    </tr>\n  </thead>\n  <tbody>\n    <tr>\n      <th>56209</th>\n      <td>CRC-001576EA78C61C85</td>\n      <td>CRC-045C9C9CAE0FD639</td>\n      <td>9606</td>\n    </tr>\n    <tr>\n      <th>55616</th>\n      <td>CRC-001576EA78C61C85</td>\n      <td>CRC-12E45FF6696080F8</td>\n      <td>9606</td>\n    </tr>\n    <tr>\n      <th>62280</th>\n      <td>CRC-001576EA78C61C85</td>\n      <td>CRC-2743716544288776</td>\n      <td>9606</td>\n    </tr>\n    <tr>\n      <th>7258</th>\n      <td>CRC-001576EA78C61C85</td>\n      <td>CRC-298AAC132778376A</td>\n      <td>9606</td>\n    </tr>\n    <tr>\n      <th>39968</th>\n      <td>CRC-001576EA78C61C85</td>\n      <td>CRC-2EDBC7981868EB12</td>\n      <td>9606</td>\n    </tr>\n  </tbody>\n</table>\n</div>"
     },
     "execution_count": 148,
     "metadata": {},
     "output_type": "execute_result"
    }
   ],
   "source": [
    "huri_hash_ppis.head()"
   ]
  },
  {
   "cell_type": "code",
   "execution_count": 149,
   "metadata": {
    "collapsed": false,
    "jupyter": {
     "outputs_hidden": false
    }
   },
   "outputs": [
    {
     "data": {
      "text/plain": "1198"
     },
     "execution_count": 149,
     "metadata": {},
     "output_type": "execute_result"
    }
   ],
   "source": [
    "# make sure we don't test on sequences that we trained on;\n",
    "# A LOT more checks later\n",
    "huri_hash_ppis = remove_ids_from(\n",
    "    huri_hash_ppis, black_list_fasta=c.train_raw_fasta)\n",
    "len(huri_hash_ppis)"
   ]
  },
  {
   "cell_type": "code",
   "execution_count": 150,
   "metadata": {
    "collapsed": false,
    "jupyter": {
     "outputs_hidden": false
    }
   },
   "outputs": [
    {
     "data": {
      "text/plain": "(120, 0.1002, 1198, False)"
     },
     "execution_count": 150,
     "metadata": {},
     "output_type": "execute_result"
    }
   ],
   "source": [
    "*count_homodimers(huri_hash_ppis), c.accept_homodimers"
   ]
  },
  {
   "cell_type": "code",
   "execution_count": 151,
   "metadata": {
    "collapsed": false,
    "jupyter": {
     "outputs_hidden": false
    }
   },
   "outputs": [
    {
     "name": "stdout",
     "output_type": "stream",
     "text": [
      "dropped 0/614 table IDs and 0/1078 rows, and 8505/9119 sequence IDs\n"
     ]
    },
    {
     "data": {
      "text/plain": "(1078, 614)"
     },
     "execution_count": 151,
     "metadata": {},
     "output_type": "execute_result"
    }
   ],
   "source": [
    "if not c.accept_homodimers:\n",
    "    huri_hash_ppis = drop_homodimers(huri_hash_ppis)\n",
    "huri_hash_ppis, huri_seqs = shrink_both_ways(huri_hash_ppis, huri_seqs)\n",
    "len(huri_hash_ppis), len(huri_seqs)"
   ]
  },
  {
   "cell_type": "code",
   "execution_count": 152,
   "metadata": {
    "collapsed": false,
    "jupyter": {
     "outputs_hidden": false
    }
   },
   "outputs": [
    {
     "name": "stdout",
     "output_type": "stream",
     "text": [
      "dropped 148/1078 PPIs from length filtering\n",
      "dropped 0/550 table IDs and 0/930 rows, and 64/614 sequence IDs\n"
     ]
    },
    {
     "data": {
      "text/plain": "(614, 550)"
     },
     "execution_count": 152,
     "metadata": {},
     "output_type": "execute_result"
    },
    {
     "data": {
      "text/plain": "<Figure size 800x280 with 3 Axes>",
      "image/png": "[encoded data removed]"
     },
     "metadata": {
      "needs_background": "light"
     },
     "output_type": "display_data"
    }
   ],
   "source": [
    "_huri_hash_ppis, _huri_seqs, fig = filter_ppis_and_fasta_by_len(\n",
    "    huri_hash_ppis, huri_seqs, c.min_seq_len, c.max_seq_len)\n",
    "len(huri_seqs), len(_huri_seqs)"
   ]
  },
  {
   "cell_type": "markdown",
   "metadata": {},
   "source": [
    "#### test: save seqs + positives"
   ]
  },
  {
   "cell_type": "code",
   "execution_count": 153,
   "metadata": {
    "collapsed": false,
    "jupyter": {
     "outputs_hidden": false
    }
   },
   "outputs": [],
   "source": [
    "huri_hash_ppis = _huri_hash_ppis\n",
    "huri_seqs = _huri_seqs"
   ]
  },
  {
   "cell_type": "code",
   "execution_count": 154,
   "metadata": {
    "collapsed": false,
    "jupyter": {
     "outputs_hidden": false
    }
   },
   "outputs": [
    {
     "data": {
      "text/plain": "(PosixPath('huri/huri_test_raw.fasta'), PosixPath('huri/huri_test_raw.tsv'))"
     },
     "execution_count": 154,
     "metadata": {},
     "output_type": "execute_result"
    }
   ],
   "source": [
    "_ = SeqIO.write(huri_seqs.values(), c.test_raw_fasta, 'fasta')\n",
    "huri_hash_ppis.to_csv(c.test_raw_tsv, sep='\\t', header=True, index=False)\n",
    "c.test_raw_fasta, c.test_raw_tsv"
   ]
  },
  {
   "cell_type": "code",
   "execution_count": 155,
   "outputs": [
    {
     "data": {
      "text/plain": "(8565, 1030, 550, 10145)"
     },
     "execution_count": 155,
     "metadata": {},
     "output_type": "execute_result"
    }
   ],
   "source": [
    "len(train_seqs), len(val_seqs), len(huri_seqs), len(val_seqs) + len(train_seqs) + len(huri_seqs)"
   ],
   "metadata": {
    "collapsed": false
   }
  },
  {
   "cell_type": "code",
   "execution_count": 156,
   "outputs": [
    {
     "data": {
      "text/plain": "(15586, 1532, 930)"
     },
     "execution_count": 156,
     "metadata": {},
     "output_type": "execute_result"
    }
   ],
   "source": [
    "len(train), len(val), len(huri_hash_ppis)"
   ],
   "metadata": {
    "collapsed": false
   }
  },
  {
   "cell_type": "markdown",
   "metadata": {},
   "source": [
    "## Test + validation: redundancy-reduce\n",
    "\n",
    "Use [rostclust](https://git.rostlab.org/bernhoferm/mmseqs2-uniqueprot/-/tree/F_typer_app) to create non-redundant `test` and `validation` sets. <br> Don't run the next cells in the wrong order, and don't forget to copy the files back and forth if you are running `rostclust` elsewhere! <br>In particular, copy files after `shrink_files_both_ways`."
   ]
  },
  {
   "cell_type": "code",
   "execution_count": 157,
   "metadata": {
    "collapsed": false,
    "jupyter": {
     "outputs_hidden": false
    }
   },
   "outputs": [
    {
     "data": {
      "text/plain": "{'shortAlignmentLen': 50,\n 'longSeqLen': 180,\n 'reduceRandomAlign': False,\n 'clusterThreshold': 20}"
     },
     "execution_count": 157,
     "metadata": {},
     "output_type": "execute_result"
    }
   ],
   "source": [
    "c.hval_config"
   ]
  },
  {
   "cell_type": "code",
   "execution_count": 158,
   "metadata": {
    "collapsed": false,
    "jupyter": {
     "outputs_hidden": false
    }
   },
   "outputs": [],
   "source": [
    "with c.hval_config_path.open('w') as json_file:\n",
    "    json_file.write(json.dumps(hval_config, indent=4))"
   ]
  },
  {
   "cell_type": "markdown",
   "metadata": {},
   "source": [
    "The flag below allows me to test this notebook without the MMseqs2 runs. Leave `rostclust` at `False` and copy the two result files to this folder; or run `rostclust uniqueprot[2D]` from this system.\n",
    "\n",
    "Haven't transferred these two runs to SLURM yet, sorry!"
   ]
  },
  {
   "cell_type": "code",
   "execution_count": 159,
   "metadata": {
    "collapsed": false,
    "jupyter": {
     "outputs_hidden": false
    }
   },
   "outputs": [
    {
     "data": {
      "text/plain": "'/home/k/kaindll/mambaforge/envs/ppi/bin/rostclust'"
     },
     "execution_count": 159,
     "metadata": {},
     "output_type": "execute_result"
    }
   ],
   "source": [
    "c.rostclust"
   ]
  },
  {
   "cell_type": "code",
   "execution_count": 71,
   "outputs": [
    {
     "name": "stdout",
     "output_type": "stream",
     "text": [
      "\u001B[94mrostclust uniqueprot --hval-config-path hval_config.json apid/apid_validation_raw.fasta apid/apid_validation_rr.fasta\u001B[0m\n",
      "using temporary directory apid/apid_validation_rawls93cuqg\n",
      "generate alignments: 100%|██████████| 1/1 [00:11<00:00, 11.77s/it]\n",
      "extract hvals from alignments: 100%|██████████| 1/1 [00:00<00:00, 11.69it/s]\n",
      "\u001B[94m 890/1030 \u001B[0mnon-redundant in apid/apid_validation_raw.fasta written to apid/apid_validation_rr.fasta\n"
     ]
    }
   ],
   "source": [
    "# redundancy-reduce the validation set\n",
    "run_uniqueprot(c.val_raw_fasta, c.val_rr_fasta,\n",
    "               c.hval_config_path, not c.rostclust)"
   ],
   "metadata": {
    "collapsed": false
   }
  },
  {
   "cell_type": "code",
   "execution_count": 160,
   "outputs": [
    {
     "name": "stdout",
     "output_type": "stream",
     "text": [
      "\u001B[94mrostclust uniqueprot2d --hval-config-path hval_config.json huri/huri_test_raw.fasta apid/apid_validation_rr.fasta huri/huri_test_nr.fasta\u001B[0m\n",
      "using temporary directory huri/huri_test_rawloko7hch\n",
      "generate alignments: 100%|██████████| 1/1 [00:07<00:00,  7.39s/it]\n",
      "extract hvals from alignments: 100%|██████████| 1/1 [00:00<00:00, 60.71it/s]\n",
      "\u001B[94m 514/550::890 \u001B[0mnon-redundant in huri/huri_test_raw.fasta against apid/apid_validation_rr.fasta written to huri/huri_test_nr.fasta\n"
     ]
    }
   ],
   "source": [
    "# cluster the test set against val\n",
    "run_uniqueprot2D(c.test_raw_fasta, c.val_rr_fasta,\n",
    "                 c.test_nr_fasta,\n",
    "                 c.hval_config_path, not c.rostclust)"
   ],
   "metadata": {
    "collapsed": false
   }
  },
  {
   "cell_type": "code",
   "execution_count": 162,
   "outputs": [
    {
     "name": "stdout",
     "output_type": "stream",
     "text": [
      "\u001B[94mrostclust uniqueprot --hval-config-path hval_config.json huri/huri_test_nr.fasta huri/huri_test_rr.fasta\u001B[0m\n",
      "using temporary directory huri/huri_test_nr1zfjy47p\n",
      "generate alignments: 100%|██████████| 1/1 [00:07<00:00,  7.57s/it]\n",
      "extract hvals from alignments: 100%|██████████| 1/1 [00:00<00:00, 26.92it/s]\n",
      "\u001B[94m 472/514 \u001B[0mnon-redundant in huri/huri_test_nr.fasta written to huri/huri_test_rr.fasta\n"
     ]
    }
   ],
   "source": [
    "# redundancy-reduce the test set\n",
    "run_uniqueprot(c.test_nr_fasta, c.test_rr_fasta,\n",
    "               c.hval_config_path, not c.rostclust)"
   ],
   "metadata": {
    "collapsed": false
   }
  },
  {
   "cell_type": "code",
   "execution_count": 163,
   "metadata": {
    "collapsed": false,
    "jupyter": {
     "outputs_hidden": false
    }
   },
   "outputs": [],
   "source": [
    "fastalen = lambda _file: len([r.id for r in SeqIO.parse(_file, 'fasta')])"
   ]
  },
  {
   "cell_type": "code",
   "execution_count": 164,
   "outputs": [
    {
     "name": "stdout",
     "output_type": "stream",
     "text": [
      "dropped 78/550 table IDs and 264/930 rows, and 42/472 sequence IDs\n",
      "dropped 140/1030 table IDs and 348/1532 rows, and 72/890 sequence IDs\n"
     ]
    }
   ],
   "source": [
    "# also drop PPIs accordingly\n",
    "assert c.test_rr_fasta.is_file()\n",
    "shrink_files_both_ways(c.test_raw_tsv, c.test_rr_fasta,\n",
    "                       new_tsv_name=c.test_rr_tsv)\n",
    "c.test_seqs = fastalen(c.test_rr_fasta)\n",
    "assert c.val_rr_fasta.is_file()\n",
    "shrink_files_both_ways(c.val_raw_tsv, c.val_rr_fasta,\n",
    "                       new_tsv_name=c.val_rr_tsv)\n",
    "c.val_seqs = fastalen(c.val_rr_fasta)"
   ],
   "metadata": {
    "collapsed": false
   }
  },
  {
   "cell_type": "markdown",
   "source": [
    "## Prepare proteomes\n",
    "#### filter by len and id"
   ],
   "metadata": {
    "collapsed": false
   }
  },
  {
   "cell_type": "code",
   "execution_count": 169,
   "outputs": [
    {
     "name": "stderr",
     "output_type": "stream",
     "text": [
      "100%|███████████████████████████████████████████| 16/16 [00:42<00:00,  2.66s/it]\n"
     ]
    }
   ],
   "source": [
    "if c.add_proteomes:\n",
    "    filter_proteomes(c.pp, c.min_seq_len, c.max_seq_len,\n",
    "                     None if (hasattr(c, 'legacy') and c.legacy)\n",
    "                     else c.train_raw_fasta)\n",
    "# do not skip this!"
   ],
   "metadata": {
    "collapsed": false
   }
  },
  {
   "cell_type": "markdown",
   "metadata": {},
   "source": [
    "#### run separately: faster\n",
    "Separately clustering the proteomes against the test/validation set and then redundancy-reducing each one is faster and might lead to a more balanced combined proteome set that is better fit to sample from than merging all proteomes first and then running the two steps on huge files.\n",
    "\n",
    "If available, run this on a SLURM cluster:"
   ]
  },
  {
   "cell_type": "code",
   "execution_count": 170,
   "metadata": {
    "collapsed": false,
    "jupyter": {
     "outputs_hidden": false
    }
   },
   "outputs": [
    {
     "data": {
      "text/plain": "(True, 15)"
     },
     "execution_count": 170,
     "metadata": {},
     "output_type": "execute_result"
    }
   ],
   "source": [
    "c.slurm, c.slurm_node_limit"
   ]
  },
  {
   "cell_type": "code",
   "execution_count": 171,
   "metadata": {
    "collapsed": true,
    "jupyter": {
     "outputs_hidden": true
    },
    "tags": []
   },
   "outputs": [
    {
     "name": "stderr",
     "output_type": "stream",
     "text": [
      "Building DAG of jobs...\n",
      "Using shell: /bin/bash\n",
      "Provided cluster nodes: 15\n",
      "Job stats:\n",
      "job                     count    min threads    max threads\n",
      "--------------------  -------  -------------  -------------\n",
      "all                         1              1              1\n",
      "cluster_against_test        9              1              1\n",
      "cluster_against_val        16              1              1\n",
      "red_reduce                  8              1              1\n",
      "request                     1              1              1\n",
      "total                      35              1              1\n",
      "\n",
      "Select jobs to execute...\n",
      "\n",
      "[Fri Jan 13 16:09:49 2023]\n",
      "rule cluster_against_val:\n",
      "    input: swissprot/9606.fasta\n",
      "    output: swissprot/9606_nr_val.fasta\n",
      "    jobid: 4\n",
      "    reason: Missing output files: swissprot/9606_nr_val.fasta; Updated input files: swissprot/9606.fasta\n",
      "    wildcards: species=9606\n",
      "    resources: mem_mb=1000, disk_mb=1000, tmpdir=/tmp\n",
      "\n",
      "Submitted job 4 with external jobid 'Submitted batch job 408021'.\n",
      "\n",
      "[Fri Jan 13 16:09:49 2023]\n",
      "rule cluster_against_val:\n",
      "    input: swissprot/85962.fasta\n",
      "    output: swissprot/85962_nr_val.fasta\n",
      "    jobid: 12\n",
      "    reason: Missing output files: swissprot/85962_nr_val.fasta; Updated input files: swissprot/85962.fasta\n",
      "    wildcards: species=85962\n",
      "    resources: mem_mb=1000, disk_mb=1000, tmpdir=/tmp\n",
      "\n",
      "Submitted job 12 with external jobid 'Submitted batch job 408022'.\n",
      "\n",
      "[Fri Jan 13 16:09:49 2023]\n",
      "rule cluster_against_val:\n",
      "    input: swissprot/243276.fasta\n",
      "    output: swissprot/243276_nr_val.fasta\n",
      "    jobid: 14\n",
      "    reason: Missing output files: swissprot/243276_nr_val.fasta; Updated input files: swissprot/243276.fasta\n",
      "    wildcards: species=243276\n",
      "    resources: mem_mb=1000, disk_mb=1000, tmpdir=/tmp\n",
      "\n",
      "Submitted job 14 with external jobid 'Submitted batch job 408023'.\n",
      "\n",
      "[Fri Jan 13 16:09:49 2023]\n",
      "rule cluster_against_val:\n",
      "    input: swissprot/10090.fasta\n",
      "    output: swissprot/10090_nr_val.fasta\n",
      "    jobid: 11\n",
      "    reason: Missing output files: swissprot/10090_nr_val.fasta; Updated input files: swissprot/10090.fasta\n",
      "    wildcards: species=10090\n",
      "    resources: mem_mb=1000, disk_mb=1000, tmpdir=/tmp\n",
      "\n",
      "Submitted job 11 with external jobid 'Submitted batch job 408024'.\n",
      "\n",
      "[Fri Jan 13 16:09:49 2023]\n",
      "rule cluster_against_val:\n",
      "    input: swissprot/39947.fasta\n",
      "    output: swissprot/39947_nr_val.fasta\n",
      "    jobid: 10\n",
      "    reason: Missing output files: swissprot/39947_nr_val.fasta; Updated input files: swissprot/39947.fasta\n",
      "    wildcards: species=39947\n",
      "    resources: mem_mb=1000, disk_mb=1000, tmpdir=/tmp\n",
      "\n",
      "Submitted job 10 with external jobid 'Submitted batch job 408025'.\n",
      "\n",
      "[Fri Jan 13 16:09:50 2023]\n",
      "rule cluster_against_val:\n",
      "    input: swissprot/10299.fasta\n",
      "    output: swissprot/10299_nr_val.fasta\n",
      "    jobid: 19\n",
      "    reason: Missing output files: swissprot/10299_nr_val.fasta\n",
      "    wildcards: species=10299\n",
      "    resources: mem_mb=1000, disk_mb=1000, tmpdir=/tmp\n",
      "\n",
      "Submitted job 19 with external jobid 'Submitted batch job 408026'.\n",
      "\n",
      "[Fri Jan 13 16:09:50 2023]\n",
      "rule cluster_against_val:\n",
      "    input: swissprot/10377.fasta\n",
      "    output: swissprot/10377_nr_val.fasta\n",
      "    jobid: 8\n",
      "    reason: Missing output files: swissprot/10377_nr_val.fasta; Updated input files: swissprot/10377.fasta\n",
      "    wildcards: species=10377\n",
      "    resources: mem_mb=1000, disk_mb=1000, tmpdir=/tmp\n",
      "\n",
      "Submitted job 8 with external jobid 'Submitted batch job 408027'.\n",
      "\n",
      "[Fri Jan 13 16:09:50 2023]\n",
      "rule cluster_against_val:\n",
      "    input: swissprot/10116.fasta\n",
      "    output: swissprot/10116_nr_val.fasta\n",
      "    jobid: 5\n",
      "    reason: Missing output files: swissprot/10116_nr_val.fasta; Updated input files: swissprot/10116.fasta\n",
      "    wildcards: species=10116\n",
      "    resources: mem_mb=1000, disk_mb=1000, tmpdir=/tmp\n",
      "\n",
      "Submitted job 5 with external jobid 'Submitted batch job 408028'.\n",
      "\n",
      "[Fri Jan 13 16:09:50 2023]\n",
      "rule cluster_against_val:\n",
      "    input: swissprot/224308.fasta\n",
      "    output: swissprot/224308_nr_val.fasta\n",
      "    jobid: 17\n",
      "    reason: Missing output files: swissprot/224308_nr_val.fasta; Updated input files: swissprot/224308.fasta\n",
      "    wildcards: species=224308\n",
      "    resources: mem_mb=1000, disk_mb=1000, tmpdir=/tmp\n",
      "\n",
      "Submitted job 17 with external jobid 'Submitted batch job 408029'.\n",
      "\n",
      "[Fri Jan 13 16:09:50 2023]\n",
      "rule cluster_against_val:\n",
      "    input: swissprot/7955.fasta\n",
      "    output: swissprot/7955_nr_val.fasta\n",
      "    jobid: 16\n",
      "    reason: Missing output files: swissprot/7955_nr_val.fasta; Updated input files: swissprot/7955.fasta\n",
      "    wildcards: species=7955\n",
      "    resources: mem_mb=1000, disk_mb=1000, tmpdir=/tmp\n",
      "\n",
      "Submitted job 16 with external jobid 'Submitted batch job 408030'.\n",
      "\n",
      "[Fri Jan 13 16:09:50 2023]\n",
      "rule cluster_against_val:\n",
      "    input: swissprot/284812.fasta\n",
      "    output: swissprot/284812_nr_val.fasta\n",
      "    jobid: 13\n",
      "    reason: Missing output files: swissprot/284812_nr_val.fasta; Updated input files: swissprot/284812.fasta\n",
      "    wildcards: species=284812\n",
      "    resources: mem_mb=1000, disk_mb=1000, tmpdir=/tmp\n",
      "\n",
      "Submitted job 13 with external jobid 'Submitted batch job 408031'.\n",
      "\n",
      "[Fri Jan 13 16:09:50 2023]\n",
      "rule cluster_against_val:\n",
      "    input: swissprot/36329.fasta\n",
      "    output: swissprot/36329_nr_val.fasta\n",
      "    jobid: 9\n",
      "    reason: Missing output files: swissprot/36329_nr_val.fasta; Updated input files: swissprot/36329.fasta\n",
      "    wildcards: species=36329\n",
      "    resources: mem_mb=1000, disk_mb=1000, tmpdir=/tmp\n",
      "\n",
      "Submitted job 9 with external jobid 'Submitted batch job 408032'.\n",
      "\n",
      "[Fri Jan 13 16:09:50 2023]\n",
      "rule cluster_against_val:\n",
      "    input: swissprot/9031.fasta\n",
      "    output: swissprot/9031_nr_val.fasta\n",
      "    jobid: 7\n",
      "    reason: Missing output files: swissprot/9031_nr_val.fasta; Updated input files: swissprot/9031.fasta\n",
      "    wildcards: species=9031\n",
      "    resources: mem_mb=1000, disk_mb=1000, tmpdir=/tmp\n",
      "\n",
      "Submitted job 7 with external jobid 'Submitted batch job 408033'.\n",
      "\n",
      "[Fri Jan 13 16:09:50 2023]\n",
      "rule cluster_against_val:\n",
      "    input: swissprot/83333.fasta\n",
      "    output: swissprot/83333_nr_val.fasta\n",
      "    jobid: 6\n",
      "    reason: Missing output files: swissprot/83333_nr_val.fasta; Updated input files: swissprot/83333.fasta\n",
      "    wildcards: species=83333\n",
      "    resources: mem_mb=1000, disk_mb=1000, tmpdir=/tmp\n",
      "\n",
      "Submitted job 6 with external jobid 'Submitted batch job 408034'.\n",
      "\n",
      "[Fri Jan 13 16:09:50 2023]\n",
      "rule cluster_against_val:\n",
      "    input: swissprot/9913.fasta\n",
      "    output: swissprot/9913_nr_val.fasta\n",
      "    jobid: 18\n",
      "    reason: Missing output files: swissprot/9913_nr_val.fasta; Updated input files: swissprot/9913.fasta\n",
      "    wildcards: species=9913\n",
      "    resources: mem_mb=1000, disk_mb=1000, tmpdir=/tmp\n",
      "\n",
      "Submitted job 18 with external jobid 'Submitted batch job 408035'.\n",
      "[Fri Jan 13 16:13:32 2023]\n",
      "Finished job 12.\n",
      "1 of 35 steps (3%) done\n",
      "Select jobs to execute...\n",
      "\n",
      "[Fri Jan 13 16:13:32 2023]\n",
      "rule cluster_against_val:\n",
      "    input: swissprot/37296.fasta\n",
      "    output: swissprot/37296_nr_val.fasta\n",
      "    jobid: 15\n",
      "    reason: Missing output files: swissprot/37296_nr_val.fasta; Updated input files: swissprot/37296.fasta\n",
      "    wildcards: species=37296\n",
      "    resources: mem_mb=1000, disk_mb=1000, tmpdir=/tmp\n",
      "\n",
      "Submitted job 15 with external jobid 'Submitted batch job 408036'.\n",
      "[Fri Jan 13 16:13:32 2023]\n",
      "Finished job 14.\n",
      "2 of 35 steps (6%) done\n",
      "[Fri Jan 13 16:13:32 2023]\n",
      "Finished job 19.\n",
      "3 of 35 steps (9%) done\n",
      "[Fri Jan 13 16:13:32 2023]\n",
      "Finished job 8.\n",
      "4 of 35 steps (11%) done\n",
      "[Fri Jan 13 16:13:32 2023]\n",
      "Finished job 17.\n",
      "5 of 35 steps (14%) done\n",
      "[Fri Jan 13 16:13:32 2023]\n",
      "Finished job 13.\n",
      "6 of 35 steps (17%) done\n",
      "[Fri Jan 13 16:13:32 2023]\n",
      "Finished job 9.\n",
      "7 of 35 steps (20%) done\n",
      "[Fri Jan 13 16:13:32 2023]\n",
      "Finished job 6.\n",
      "8 of 35 steps (23%) done\n",
      "Select jobs to execute...\n",
      "\n",
      "[Fri Jan 13 16:13:32 2023]\n",
      "rule red_reduce:\n",
      "    input: swissprot/10299_nr_val.fasta\n",
      "    output: swissprot/10299_rr_val.fasta\n",
      "    jobid: 34\n",
      "    reason: Missing output files: swissprot/10299_rr_val.fasta; Input files updated by another job: swissprot/10299_nr_val.fasta\n",
      "    wildcards: species=10299, sfx=val\n",
      "    resources: mem_mb=1000, disk_mb=1000, tmpdir=/tmp\n",
      "\n",
      "Submitted job 34 with external jobid 'Submitted batch job 408037'.\n",
      "\n",
      "[Fri Jan 13 16:13:32 2023]\n",
      "rule cluster_against_test:\n",
      "    input: swissprot/85962_nr_val.fasta\n",
      "    output: swissprot/85962_nr_valtest.fasta\n",
      "    jobid: 23\n",
      "    reason: Missing output files: swissprot/85962_nr_valtest.fasta; Input files updated by another job: swissprot/85962_nr_val.fasta\n",
      "    wildcards: species=85962\n",
      "    resources: mem_mb=1000, disk_mb=1000, tmpdir=/tmp\n",
      "\n",
      "Submitted job 23 with external jobid 'Submitted batch job 408038'.\n",
      "\n",
      "[Fri Jan 13 16:13:33 2023]\n",
      "rule cluster_against_test:\n",
      "    input: swissprot/36329_nr_val.fasta\n",
      "    output: swissprot/36329_nr_valtest.fasta\n",
      "    jobid: 22\n",
      "    reason: Missing output files: swissprot/36329_nr_valtest.fasta; Input files updated by another job: swissprot/36329_nr_val.fasta\n",
      "    wildcards: species=36329\n",
      "    resources: mem_mb=1000, disk_mb=1000, tmpdir=/tmp\n",
      "\n",
      "Submitted job 22 with external jobid 'Submitted batch job 408039'.\n",
      "\n",
      "[Fri Jan 13 16:13:33 2023]\n",
      "rule red_reduce:\n",
      "    input: swissprot/10377_nr_val.fasta\n",
      "    output: swissprot/10377_rr_val.fasta\n",
      "    jobid: 29\n",
      "    reason: Missing output files: swissprot/10377_rr_val.fasta; Input files updated by another job: swissprot/10377_nr_val.fasta\n",
      "    wildcards: species=10377, sfx=val\n",
      "    resources: mem_mb=1000, disk_mb=1000, tmpdir=/tmp\n",
      "\n",
      "Submitted job 29 with external jobid 'Submitted batch job 408040'.\n",
      "\n",
      "[Fri Jan 13 16:13:33 2023]\n",
      "rule red_reduce:\n",
      "    input: swissprot/224308_nr_val.fasta\n",
      "    output: swissprot/224308_rr_val.fasta\n",
      "    jobid: 32\n",
      "    reason: Missing output files: swissprot/224308_rr_val.fasta; Input files updated by another job: swissprot/224308_nr_val.fasta\n",
      "    wildcards: species=224308, sfx=val\n",
      "    resources: mem_mb=1000, disk_mb=1000, tmpdir=/tmp\n",
      "\n",
      "Submitted job 32 with external jobid 'Submitted batch job 408041'.\n",
      "\n",
      "[Fri Jan 13 16:13:33 2023]\n",
      "rule cluster_against_test:\n",
      "    input: swissprot/243276_nr_val.fasta\n",
      "    output: swissprot/243276_nr_valtest.fasta\n",
      "    jobid: 26\n",
      "    reason: Missing output files: swissprot/243276_nr_valtest.fasta; Input files updated by another job: swissprot/243276_nr_val.fasta\n",
      "    wildcards: species=243276\n",
      "    resources: mem_mb=1000, disk_mb=1000, tmpdir=/tmp\n",
      "\n",
      "Submitted job 26 with external jobid 'Submitted batch job 408042'.\n",
      "\n",
      "[Fri Jan 13 16:13:33 2023]\n",
      "rule cluster_against_test:\n",
      "    input: swissprot/284812_nr_val.fasta\n",
      "    output: swissprot/284812_nr_valtest.fasta\n",
      "    jobid: 25\n",
      "    reason: Missing output files: swissprot/284812_nr_valtest.fasta; Input files updated by another job: swissprot/284812_nr_val.fasta\n",
      "    wildcards: species=284812\n",
      "    resources: mem_mb=1000, disk_mb=1000, tmpdir=/tmp\n",
      "\n",
      "Submitted job 25 with external jobid 'Submitted batch job 408043'.\n",
      "Select jobs to execute...\n",
      "[Fri Jan 13 16:16:15 2023]\n",
      "Finished job 15.\n",
      "9 of 35 steps (26%) done\n",
      "\n",
      "[Fri Jan 13 16:16:15 2023]\n",
      "rule cluster_against_test:\n",
      "    input: swissprot/83333_nr_val.fasta\n",
      "    output: swissprot/83333_nr_valtest.fasta\n",
      "    jobid: 21\n",
      "    reason: Missing output files: swissprot/83333_nr_valtest.fasta; Input files updated by another job: swissprot/83333_nr_val.fasta\n",
      "    wildcards: species=83333\n",
      "    resources: mem_mb=1000, disk_mb=1000, tmpdir=/tmp\n",
      "\n",
      "Submitted job 21 with external jobid 'Submitted batch job 408044'.\n",
      "[Fri Jan 13 16:16:15 2023]\n",
      "Finished job 34.\n",
      "10 of 35 steps (29%) done\n",
      "[Fri Jan 13 16:16:15 2023]\n",
      "Finished job 23.\n",
      "11 of 35 steps (31%) done\n",
      "[Fri Jan 13 16:16:15 2023]\n",
      "Finished job 22.\n",
      "12 of 35 steps (34%) done\n",
      "[Fri Jan 13 16:16:15 2023]\n",
      "Finished job 29.\n",
      "13 of 35 steps (37%) done\n",
      "[Fri Jan 13 16:16:15 2023]\n",
      "Finished job 32.\n",
      "14 of 35 steps (40%) done\n",
      "[Fri Jan 13 16:16:15 2023]\n",
      "Finished job 26.\n",
      "15 of 35 steps (43%) done\n",
      "Select jobs to execute...\n",
      "\n",
      "[Fri Jan 13 16:16:15 2023]\n",
      "rule cluster_against_test:\n",
      "    input: swissprot/37296_nr_val.fasta\n",
      "    output: swissprot/37296_nr_valtest.fasta\n",
      "    jobid: 27\n",
      "    reason: Missing output files: swissprot/37296_nr_valtest.fasta; Input files updated by another job: swissprot/37296_nr_val.fasta\n",
      "    wildcards: species=37296\n",
      "    resources: mem_mb=1000, disk_mb=1000, tmpdir=/tmp\n",
      "\n",
      "Submitted job 27 with external jobid 'Submitted batch job 408045'.\n",
      "[Fri Jan 13 16:17:56 2023]\n",
      "Finished job 25.\n",
      "16 of 35 steps (46%) done\n",
      "[Fri Jan 13 16:17:56 2023]\n",
      "Finished job 21.\n",
      "17 of 35 steps (49%) done\n",
      "[Fri Jan 13 16:17:56 2023]\n",
      "Finished job 27.\n",
      "18 of 35 steps (51%) done\n",
      "[Fri Jan 13 16:18:26 2023]\n",
      "Finished job 16.\n",
      "19 of 35 steps (54%) done\n",
      "Select jobs to execute...\n",
      "\n",
      "[Fri Jan 13 16:18:26 2023]\n",
      "rule red_reduce:\n",
      "    input: swissprot/7955_nr_val.fasta\n",
      "    output: swissprot/7955_rr_val.fasta\n",
      "    jobid: 31\n",
      "    reason: Missing output files: swissprot/7955_rr_val.fasta; Input files updated by another job: swissprot/7955_nr_val.fasta\n",
      "    wildcards: species=7955, sfx=val\n",
      "    resources: mem_mb=1000, disk_mb=1000, tmpdir=/tmp\n",
      "\n",
      "Submitted job 31 with external jobid 'Submitted batch job 408046'.\n",
      "[Fri Jan 13 16:19:56 2023]\n",
      "Finished job 10.\n",
      "20 of 35 steps (57%) done\n",
      "Select jobs to execute...\n",
      "\n",
      "[Fri Jan 13 16:19:56 2023]\n",
      "rule red_reduce:\n",
      "    input: swissprot/39947_nr_val.fasta\n",
      "    output: swissprot/39947_rr_val.fasta\n",
      "    jobid: 30\n",
      "    reason: Missing output files: swissprot/39947_rr_val.fasta; Input files updated by another job: swissprot/39947_nr_val.fasta\n",
      "    wildcards: species=39947, sfx=val\n",
      "    resources: mem_mb=1000, disk_mb=1000, tmpdir=/tmp\n",
      "\n",
      "Submitted job 30 with external jobid 'Submitted batch job 408047'.\n",
      "[Fri Jan 13 16:19:56 2023]\n",
      "Finished job 5.\n",
      "21 of 35 steps (60%) done\n",
      "[Fri Jan 13 16:19:56 2023]\n",
      "Finished job 7.\n",
      "22 of 35 steps (63%) done\n",
      "Select jobs to execute...\n",
      "\n",
      "[Fri Jan 13 16:19:56 2023]\n",
      "rule red_reduce:\n",
      "    input: swissprot/9031_nr_val.fasta\n",
      "    output: swissprot/9031_rr_val.fasta\n",
      "    jobid: 28\n",
      "    reason: Missing output files: swissprot/9031_rr_val.fasta; Input files updated by another job: swissprot/9031_nr_val.fasta\n",
      "    wildcards: species=9031, sfx=val\n",
      "    resources: mem_mb=1000, disk_mb=1000, tmpdir=/tmp\n",
      "\n",
      "Submitted job 28 with external jobid 'Submitted batch job 408048'.\n",
      "\n",
      "[Fri Jan 13 16:19:56 2023]\n",
      "rule cluster_against_test:\n",
      "    input: swissprot/10116_nr_val.fasta\n",
      "    output: swissprot/10116_nr_valtest.fasta\n",
      "    jobid: 20\n",
      "    reason: Missing output files: swissprot/10116_nr_valtest.fasta; Input files updated by another job: swissprot/10116_nr_val.fasta\n",
      "    wildcards: species=10116\n",
      "    resources: mem_mb=1000, disk_mb=1000, tmpdir=/tmp\n",
      "\n",
      "Submitted job 20 with external jobid 'Submitted batch job 408049'.\n",
      "[Fri Jan 13 16:21:31 2023]\n",
      "Finished job 18.\n",
      "23 of 35 steps (66%) done\n",
      "Select jobs to execute...\n",
      "\n",
      "[Fri Jan 13 16:21:31 2023]\n",
      "rule red_reduce:\n",
      "    input: swissprot/9913_nr_val.fasta\n",
      "    output: swissprot/9913_rr_val.fasta\n",
      "    jobid: 33\n",
      "    reason: Missing output files: swissprot/9913_rr_val.fasta; Input files updated by another job: swissprot/9913_nr_val.fasta\n",
      "    wildcards: species=9913, sfx=val\n",
      "    resources: mem_mb=1000, disk_mb=1000, tmpdir=/tmp\n",
      "\n",
      "Submitted job 33 with external jobid 'Submitted batch job 408050'.\n",
      "[Fri Jan 13 16:22:11 2023]\n",
      "Finished job 11.\n",
      "24 of 35 steps (69%) done\n",
      "Select jobs to execute...\n",
      "\n",
      "[Fri Jan 13 16:22:11 2023]\n",
      "rule cluster_against_test:\n",
      "    input: swissprot/10090_nr_val.fasta\n",
      "    output: swissprot/10090_nr_valtest.fasta\n",
      "    jobid: 24\n",
      "    reason: Missing output files: swissprot/10090_nr_valtest.fasta; Input files updated by another job: swissprot/10090_nr_val.fasta\n",
      "    wildcards: species=10090\n",
      "    resources: mem_mb=1000, disk_mb=1000, tmpdir=/tmp\n",
      "\n",
      "Submitted job 24 with external jobid 'Submitted batch job 408051'.\n",
      "[Fri Jan 13 16:24:44 2023]\n",
      "Finished job 4.\n",
      "25 of 35 steps (71%) done\n",
      "Select jobs to execute...\n",
      "\n",
      "[Fri Jan 13 16:24:44 2023]\n",
      "rule cluster_against_test:\n",
      "    input: swissprot/9606_nr_val.fasta\n",
      "    output: swissprot/9606_nr_valtest.fasta\n",
      "    jobid: 3\n",
      "    reason: Missing output files: swissprot/9606_nr_valtest.fasta; Input files updated by another job: swissprot/9606_nr_val.fasta\n",
      "    wildcards: species=9606\n",
      "    resources: mem_mb=1000, disk_mb=1000, tmpdir=/tmp\n",
      "\n",
      "Submitted job 3 with external jobid 'Submitted batch job 408052'.\n",
      "[Fri Jan 13 16:26:15 2023]\n",
      "Finished job 20.\n",
      "26 of 35 steps (74%) done\n",
      "[Fri Jan 13 16:30:46 2023]\n",
      "Finished job 24.\n",
      "27 of 35 steps (77%) done\n",
      "[Fri Jan 13 16:35:16 2023]\n",
      "Finished job 3.\n",
      "28 of 35 steps (80%) done\n",
      "Select jobs to execute...\n",
      "\n",
      "[Fri Jan 13 16:35:16 2023]\n",
      "rule red_reduce:\n",
      "    input: swissprot/9606_nr_valtest.fasta\n",
      "    output: swissprot/9606_rr_valtest.fasta\n",
      "    jobid: 2\n",
      "    reason: Missing output files: swissprot/9606_rr_valtest.fasta; Input files updated by another job: swissprot/9606_nr_valtest.fasta\n",
      "    wildcards: species=9606, sfx=valtest\n",
      "    resources: mem_mb=1000, disk_mb=1000, tmpdir=/tmp\n",
      "\n",
      "Submitted job 2 with external jobid 'Submitted batch job 408053'.\n",
      "[Fri Jan 13 16:54:54 2023]\n",
      "Finished job 30.\n",
      "29 of 35 steps (83%) done\n",
      "[Fri Jan 13 17:04:25 2023]\n",
      "Finished job 33.\n",
      "30 of 35 steps (86%) done\n",
      "[Fri Jan 13 17:13:55 2023]\n",
      "Finished job 28.\n",
      "31 of 35 steps (89%) done\n",
      "[Fri Jan 13 17:22:26 2023]\n",
      "Finished job 31.\n",
      "32 of 35 steps (91%) done\n",
      "[Fri Jan 13 17:29:56 2023]\n",
      "Finished job 2.\n",
      "33 of 35 steps (94%) done\n",
      "Select jobs to execute...\n",
      "\n",
      "[Fri Jan 13 17:29:56 2023]\n",
      "rule request:\n",
      "    input: swissprot/9606_rr_valtest.fasta, swissprot/10116_nr_val.fasta, swissprot/83333_nr_val.fasta, swissprot/9606_nr_val.fasta, swissprot/9031_nr_val.fasta, swissprot/10377_nr_val.fasta, swissprot/36329_nr_val.fasta, swissprot/39947_nr_val.fasta, swissprot/10090_nr_val.fasta, swissprot/85962_nr_val.fasta, swissprot/284812_nr_val.fasta, swissprot/243276_nr_val.fasta, swissprot/37296_nr_val.fasta, swissprot/7955_nr_val.fasta, swissprot/224308_nr_val.fasta, swissprot/9913_nr_val.fasta, swissprot/10299_nr_val.fasta, swissprot/10116_nr_valtest.fasta, swissprot/83333_nr_valtest.fasta, swissprot/9606_nr_valtest.fasta, swissprot/36329_nr_valtest.fasta, swissprot/85962_nr_valtest.fasta, swissprot/10090_nr_valtest.fasta, swissprot/284812_nr_valtest.fasta, swissprot/243276_nr_valtest.fasta, swissprot/37296_nr_valtest.fasta, swissprot/9031_rr_val.fasta, swissprot/10377_rr_val.fasta, swissprot/39947_rr_val.fasta, swissprot/7955_rr_val.fasta, swissprot/224308_rr_val.fasta, swissprot/9913_rr_val.fasta, swissprot/10299_rr_val.fasta\n",
      "    output: done\n",
      "    jobid: 1\n",
      "    reason: Input files updated by another job: swissprot/284812_nr_val.fasta, swissprot/7955_rr_val.fasta, swissprot/10090_nr_valtest.fasta, swissprot/83333_nr_val.fasta, swissprot/10116_nr_valtest.fasta, swissprot/85962_nr_val.fasta, swissprot/9031_rr_val.fasta, swissprot/9913_rr_val.fasta, swissprot/284812_nr_valtest.fasta, swissprot/39947_nr_val.fasta, swissprot/224308_rr_val.fasta, swissprot/10090_nr_val.fasta, swissprot/9606_nr_val.fasta, swissprot/37296_nr_valtest.fasta, swissprot/9606_nr_valtest.fasta, swissprot/36329_nr_val.fasta, swissprot/224308_nr_val.fasta, swissprot/9913_nr_val.fasta, swissprot/37296_nr_val.fasta, swissprot/10377_nr_val.fasta, swissprot/243276_nr_val.fasta, swissprot/83333_nr_valtest.fasta, swissprot/10299_rr_val.fasta, swissprot/36329_nr_valtest.fasta, swissprot/85962_nr_valtest.fasta, swissprot/7955_nr_val.fasta, swissprot/9031_nr_val.fasta, swissprot/243276_nr_valtest.fasta, swissprot/10377_rr_val.fasta, swissprot/10116_nr_val.fasta, swissprot/39947_rr_val.fasta, swissprot/10299_nr_val.fasta, swissprot/9606_rr_valtest.fasta\n",
      "    resources: mem_mb=1000, disk_mb=1000, tmpdir=/tmp\n",
      "\n",
      "Submitted job 1 with external jobid 'Submitted batch job 408054'.\n",
      "Waiting at most 3 seconds for missing files.\n",
      "MissingOutputException in line 38 of /home/k/kaindll/ppi/ppi_data/results/8003/Snakefile:\n",
      "Job Missing files after 3 seconds. This might be due to filesystem latency. If that is the case, consider to increase the wait time with --latency-wait:\n",
      "done completed successfully, but some output files are missing. 1\n",
      "Shutting down, this might take some time.\n",
      "Exiting because a job execution failed. Look above for error message\n",
      "Complete log: .snakemake/log/2023-01-13T160943.101197.snakemake.log\n"
     ]
    }
   ],
   "source": [
    "if c.slurm:\n",
    "    import snakemake\n",
    "\n",
    "    snakemake.snakemake(snakefile='Snakefile',\n",
    "                        config=c.to_dict(),\n",
    "                        nodes=c.slurm_node_limit,\n",
    "                        cluster=f'sbatch -p All -N 1')"
   ]
  },
  {
   "cell_type": "markdown",
   "metadata": {},
   "source": [
    "#### train: cluster against val\n",
    "Mind that `train_species` and `val_species` may overlap! We deal with that later."
   ]
  },
  {
   "cell_type": "code",
   "execution_count": 172,
   "metadata": {
    "collapsed": false,
    "jupyter": {
     "outputs_hidden": false
    }
   },
   "outputs": [],
   "source": [
    "s = None\n",
    "if not c.slurm:\n",
    "    s = rr_pattern_proteomes(\n",
    "        c.train_species, c.pp, '{sp}.fasta', 'val',\n",
    "        c.val_rr_fasta, c.hval_config_path, not c.rostclust)\n",
    "s"
   ]
  },
  {
   "cell_type": "markdown",
   "metadata": {},
   "source": [
    "#### train: cluster against test"
   ]
  },
  {
   "cell_type": "code",
   "execution_count": 173,
   "metadata": {
    "collapsed": false,
    "jupyter": {
     "outputs_hidden": false
    }
   },
   "outputs": [],
   "source": [
    "if not c.slurm:\n",
    "    s = rr_pattern_proteomes(\n",
    "        c.train_species, c.pp, '{sp}_nr_val.fasta', 'valtest',\n",
    "        c.test_rr_fasta, c.hval_config_path, not c.rostclust)\n",
    "s"
   ]
  },
  {
   "cell_type": "markdown",
   "metadata": {},
   "source": [
    "These `_nr_valtest.fasta` proteomes are now ready to be used as negatives for the train set!"
   ]
  },
  {
   "cell_type": "markdown",
   "metadata": {},
   "source": [
    "#### val: cluster against val"
   ]
  },
  {
   "cell_type": "code",
   "execution_count": 174,
   "metadata": {
    "collapsed": false,
    "jupyter": {
     "outputs_hidden": false
    }
   },
   "outputs": [],
   "source": [
    "if not c.slurm:\n",
    "    # this is the same as the first call, just for different files!\n",
    "    s = rr_pattern_proteomes(\n",
    "        c.val_species, c.pp, '{sp}.fasta', 'val',\n",
    "        c.val_rr_fasta, c.hval_config_path, not c.rostclust)\n",
    "s"
   ]
  },
  {
   "cell_type": "markdown",
   "metadata": {},
   "source": [
    "#### val: redundancy-reduce"
   ]
  },
  {
   "cell_type": "code",
   "execution_count": 175,
   "metadata": {
    "collapsed": false,
    "jupyter": {
     "outputs_hidden": false
    }
   },
   "outputs": [],
   "source": [
    "if not c.slurm:\n",
    "    # now a 1D run -> no database/reference FASTA\n",
    "    s = rr_pattern_proteomes(\n",
    "        c.val_species, c.pp, '{sp}_nr_val.fasta', 'val',\n",
    "        None, c.hval_config_path, not c.rostclust)\n",
    "s"
   ]
  },
  {
   "cell_type": "markdown",
   "metadata": {},
   "source": [
    "#### val: merge"
   ]
  },
  {
   "cell_type": "code",
   "execution_count": 176,
   "outputs": [],
   "source": [
    "val_concat = c.pp / 'val_proteome_concat.fasta'\n",
    "val_concat_rr = val_concat.with_stem(val_concat.stem + '_rr')"
   ],
   "metadata": {
    "collapsed": false
   }
  },
  {
   "cell_type": "code",
   "execution_count": 177,
   "metadata": {
    "collapsed": false,
    "jupyter": {
     "outputs_hidden": false
    }
   },
   "outputs": [],
   "source": [
    "merge_pattern_proteomes(c.val_species, val_concat, c.pp, '{sp}_rr_val.fasta')"
   ]
  },
  {
   "cell_type": "markdown",
   "metadata": {},
   "source": [
    "#### val: redundancy-reduce merged set"
   ]
  },
  {
   "cell_type": "code",
   "execution_count": 178,
   "outputs": [
    {
     "name": "stdout",
     "output_type": "stream",
     "text": [
      "\u001B[94mrostclust uniqueprot --hval-config-path hval_config.json swissprot/val_proteome_concat.fasta swissprot/val_proteome_concat_rr.fasta\u001B[0m\n",
      "using temporary directory swissprot/val_proteome_concatqm_hwna6\n",
      "generate alignments: 100%|██████████| 22/22 [44:02<00:00, 120.11s/it] \n",
      "extract hvals from alignments: 100%|██████████| 22/22 [00:34<00:00,  1.55s/it]\n",
      "\u001B[94m 38031/54959 \u001B[0mnon-redundant in swissprot/val_proteome_concat.fasta written to swissprot/val_proteome_concat_rr.fasta\n"
     ]
    }
   ],
   "source": [
    "run_uniqueprot(val_concat, val_concat_rr, c.hval_config_path, not c.rostclust)"
   ],
   "metadata": {
    "collapsed": false
   }
  },
  {
   "cell_type": "markdown",
   "source": [
    "#### test: cluster against val"
   ],
   "metadata": {
    "collapsed": false
   }
  },
  {
   "cell_type": "code",
   "execution_count": 179,
   "outputs": [],
   "source": [
    "s = None\n",
    "if not c.slurm:\n",
    "    s = run_uniqueprot2D(c.pp / '9606.fasta',\n",
    "                         c.val_rr_fasta,\n",
    "                         c.pp / '9606_nr_val.fasta',\n",
    "                         c.hval_config_path, not c.rostclust)\n",
    "s"
   ],
   "metadata": {
    "collapsed": false
   }
  },
  {
   "cell_type": "markdown",
   "metadata": {},
   "source": [
    "#### test: cluster against test"
   ]
  },
  {
   "cell_type": "code",
   "execution_count": 180,
   "metadata": {
    "collapsed": false,
    "jupyter": {
     "outputs_hidden": false
    }
   },
   "outputs": [],
   "source": [
    "if not c.slurm:\n",
    "    s = run_uniqueprot2D(c.pp / '9606_nr_val.fasta',\n",
    "                         c.test_rr_fasta,\n",
    "                         c.pp / '9606_nr_valtest.fasta',\n",
    "                         c.hval_config_path, not c.rostclust)\n",
    "s"
   ]
  },
  {
   "cell_type": "markdown",
   "metadata": {},
   "source": [
    "#### test: redundancy-reduce"
   ]
  },
  {
   "cell_type": "code",
   "execution_count": 181,
   "metadata": {
    "collapsed": false,
    "jupyter": {
     "outputs_hidden": false
    }
   },
   "outputs": [],
   "source": [
    "if not c.slurm:\n",
    "    s = run_uniqueprot(c.pp / '9606_nr_valtest.fasta', c.pp / '9606_rr_valtest.fasta',\n",
    "                       c.hval_config_path, not c.rostclust)\n",
    "s"
   ]
  },
  {
   "cell_type": "markdown",
   "metadata": {},
   "source": [
    "The `swissprot/9606_rr_test.fasta` can be used as test set negatives directly; as this is a single-species set there is no combined set that needs redundancy reduction."
   ]
  },
  {
   "cell_type": "markdown",
   "metadata": {},
   "source": [
    "#### collate train/val/test proteomes\n",
    "Create per-species dicts of potential negative interaction partners. Doing this once to save some `pull` calls."
   ]
  },
  {
   "cell_type": "code",
   "execution_count": 182,
   "metadata": {
    "collapsed": false,
    "jupyter": {
     "outputs_hidden": false
    }
   },
   "outputs": [
    {
     "name": "stderr",
     "output_type": "stream",
     "text": [
      "100%|███████████████████████████████| 8/8 [00:27<00:00,  3.44s/it, batch=284812]\n"
     ]
    }
   ],
   "source": [
    "train_proteome = write_json(read_hash_proteomes(\n",
    "    c.train_species, c.pp, '{sp}_nr_valtest.fasta'), c.train_proteome)"
   ]
  },
  {
   "cell_type": "raw",
   "metadata": {},
   "source": [
    "val_concat = c.pp / 'val_proteome_concat.fasta'\n",
    "val_concat_rr = val_concat.with_stem(val_concat.stem + '_rr')"
   ]
  },
  {
   "cell_type": "code",
   "execution_count": 183,
   "metadata": {
    "collapsed": false,
    "jupyter": {
     "outputs_hidden": false
    }
   },
   "outputs": [
    {
     "name": "stderr",
     "output_type": "stream",
     "text": [
      "38031it [00:09, 4151.07it/s]\n"
     ]
    }
   ],
   "source": [
    "val_proteome = write_json(parse_val_proteome(val_concat_rr), c.val_proteome)"
   ]
  },
  {
   "cell_type": "code",
   "execution_count": 184,
   "metadata": {
    "collapsed": false,
    "jupyter": {
     "outputs_hidden": false
    }
   },
   "outputs": [],
   "source": [
    "# test_proteome = write_json(read_hash_proteomes(\n",
    "#     {9606}, c.pp, '{sp}_rr_valtest.fasta'), c.test_proteome)"
   ]
  },
  {
   "cell_type": "markdown",
   "metadata": {},
   "source": [
    "## Generate negatives: examples\n",
    "Negatives are sampled *per species*. Mind that the test set is human-only!\n",
    "Start with the train set!\n",
    "Re-write with proteomes, but without C123 labels."
   ]
  },
  {
   "cell_type": "code",
   "execution_count": 185,
   "metadata": {
    "collapsed": false,
    "jupyter": {
     "outputs_hidden": false
    }
   },
   "outputs": [
    {
     "data": {
      "text/plain": "(<SamplingStrategy.BALANCED: 1>, 1.0, 72, False)"
     },
     "execution_count": 185,
     "metadata": {},
     "output_type": "execute_result"
    }
   ],
   "source": [
    "c.strategy, c.ratio, c.seed, c.accept_homodimers"
   ]
  },
  {
   "cell_type": "code",
   "execution_count": 186,
   "metadata": {
    "collapsed": false,
    "jupyter": {
     "outputs_hidden": false
    }
   },
   "outputs": [],
   "source": [
    "train_proteome = read_json(c.train_proteome)"
   ]
  },
  {
   "cell_type": "markdown",
   "metadata": {},
   "source": [
    "## APID train\n",
    "#### generate negatives"
   ]
  },
  {
   "cell_type": "code",
   "execution_count": 187,
   "metadata": {
    "collapsed": false,
    "jupyter": {
     "outputs_hidden": false
    }
   },
   "outputs": [],
   "source": [
    "# sanity check if there are any proteins in test that\n",
    "# were already in train. re: \"do not add back in identical ones\"\n",
    "assert not ({r.id for r in SeqIO.parse(c.train_raw_fasta, 'fasta')} & {\n",
    "    r.id for r in SeqIO.parse(c.test_rr_fasta, 'fasta')})"
   ]
  },
  {
   "cell_type": "code",
   "execution_count": 188,
   "outputs": [
    {
     "data": {
      "text/plain": "(15586, 8565)"
     },
     "execution_count": 188,
     "metadata": {},
     "output_type": "execute_result"
    }
   ],
   "source": [
    "train = pd.read_csv(c.train_raw_tsv, sep='\\t', header=0)\n",
    "train_seqs = SeqIO.to_dict(SeqIO.parse(c.train_raw_fasta, 'fasta'))\n",
    "len(train), len(train_seqs)"
   ],
   "metadata": {
    "collapsed": false
   }
  },
  {
   "cell_type": "code",
   "execution_count": 189,
   "metadata": {
    "collapsed": false,
    "jupyter": {
     "outputs_hidden": false
    }
   },
   "outputs": [
    {
     "name": "stdout",
     "output_type": "stream",
     "text": [
      "sampling negatives per species! aim for 15586\n"
     ]
    },
    {
     "name": "stderr",
     "output_type": "stream",
     "text": [
      "37296: 34it [00:00, 4262.38it/s]                                                \n",
      "36329:   0%|                                            | 0/660 [00:00<?, ?it/s]"
     ]
    },
    {
     "name": "stdout",
     "output_type": "stream",
     "text": [
      "37296 extras hash: D879CBB5E41A2B6E\n"
     ]
    },
    {
     "name": "stderr",
     "output_type": "stream",
     "text": [
      "10116: 561it [00:00, 3287.95it/s]                                               \n",
      "36329: 100%|████████████████████████████████| 660/660 [00:00<00:00, 2855.01it/s]\n",
      "284812:   9%|██▊                           | 280/2974 [00:00<00:01, 1466.17it/s]"
     ]
    },
    {
     "name": "stdout",
     "output_type": "stream",
     "text": [
      "10116 extras hash: E5FF95910A056A8D\n"
     ]
    },
    {
     "name": "stderr",
     "output_type": "stream",
     "text": [
      "85962: 100%|██████████████████████████████| 1989/1989 [00:00<00:00, 2052.42it/s]\n",
      "243276: 3408it [00:01, 2805.75it/s]        | 1185/3520 [00:01<00:02, 946.15it/s]\n"
     ]
    },
    {
     "name": "stdout",
     "output_type": "stream",
     "text": [
      "243276 extras hash: 9C9ECC5EA01D9B71\n"
     ]
    },
    {
     "name": "stderr",
     "output_type": "stream",
     "text": [
      "83333: 100%|██████████████████████████████| 2616/2616 [00:02<00:00, 1262.68it/s]\n",
      "284812: 2988it [00:02, 1311.87it/s]                                             \n"
     ]
    },
    {
     "name": "stdout",
     "output_type": "stream",
     "text": [
      "284812 extras hash: 5893BB5234FD7B62\n"
     ]
    },
    {
     "name": "stderr",
     "output_type": "stream",
     "text": [
      "10090: 100%|███████████████████████████████| 3520/3520 [00:03<00:00, 888.56it/s]\n"
     ]
    },
    {
     "name": "stdout",
     "output_type": "stream",
     "text": [
      "15776 negatives with overall 0.999 and average per-species bias of 0.991±0.023 (std)\n"
     ]
    }
   ],
   "source": [
    "train_ppis, train_negs, train_bias, _ = make_negatives(train, c, train_proteome)"
   ]
  },
  {
   "cell_type": "markdown",
   "metadata": {},
   "source": [
    "15776 negatives with overall 0.999 and average per-species bias of 0.991±0.023 (std)\n",
    "\n",
    "130912 negatives with overall 1.000 and average per-species bias of 0.886±0.458 (std)"
   ]
  },
  {
   "cell_type": "markdown",
   "metadata": {},
   "source": [
    "#### bias"
   ]
  },
  {
   "cell_type": "code",
   "execution_count": 190,
   "metadata": {
    "collapsed": false,
    "jupyter": {
     "outputs_hidden": false
    }
   },
   "outputs": [
    {
     "data": {
      "text/plain": "   species      bias\n3    37296  0.930621\n6   243276  0.998457\n1    10116  0.999669\n7   284812  0.999905\n2    36329       1.0\n5    85962       1.0\n0    10090       1.0\n4    83333       1.0",
      "text/html": "<div>\n<style scoped>\n    .dataframe tbody tr th:only-of-type {\n        vertical-align: middle;\n    }\n\n    .dataframe tbody tr th {\n        vertical-align: top;\n    }\n\n    .dataframe thead th {\n        text-align: right;\n    }\n</style>\n<table border=\"1\" class=\"dataframe\">\n  <thead>\n    <tr style=\"text-align: right;\">\n      <th></th>\n      <th>species</th>\n      <th>bias</th>\n    </tr>\n  </thead>\n  <tbody>\n    <tr>\n      <th>3</th>\n      <td>37296</td>\n      <td>0.930621</td>\n    </tr>\n    <tr>\n      <th>6</th>\n      <td>243276</td>\n      <td>0.998457</td>\n    </tr>\n    <tr>\n      <th>1</th>\n      <td>10116</td>\n      <td>0.999669</td>\n    </tr>\n    <tr>\n      <th>7</th>\n      <td>284812</td>\n      <td>0.999905</td>\n    </tr>\n    <tr>\n      <th>2</th>\n      <td>36329</td>\n      <td>1.0</td>\n    </tr>\n    <tr>\n      <th>5</th>\n      <td>85962</td>\n      <td>1.0</td>\n    </tr>\n    <tr>\n      <th>0</th>\n      <td>10090</td>\n      <td>1.0</td>\n    </tr>\n    <tr>\n      <th>4</th>\n      <td>83333</td>\n      <td>1.0</td>\n    </tr>\n  </tbody>\n</table>\n</div>"
     },
     "execution_count": 190,
     "metadata": {},
     "output_type": "execute_result"
    }
   ],
   "source": [
    "c.train_bias = train_bias.set_index('species').to_dict()['bias']\n",
    "train_bias.sort_values(by='bias')"
   ]
  },
  {
   "cell_type": "code",
   "execution_count": 191,
   "outputs": [
    {
     "data": {
      "text/plain": "Empty DataFrame\nColumns: [hash_A, hash_B, species, label]\nIndex: []",
      "text/html": "<div>\n<style scoped>\n    .dataframe tbody tr th:only-of-type {\n        vertical-align: middle;\n    }\n\n    .dataframe tbody tr th {\n        vertical-align: top;\n    }\n\n    .dataframe thead th {\n        text-align: right;\n    }\n</style>\n<table border=\"1\" class=\"dataframe\">\n  <thead>\n    <tr style=\"text-align: right;\">\n      <th></th>\n      <th>hash_A</th>\n      <th>hash_B</th>\n      <th>species</th>\n      <th>label</th>\n    </tr>\n  </thead>\n  <tbody>\n  </tbody>\n</table>\n</div>"
     },
     "execution_count": 191,
     "metadata": {},
     "output_type": "execute_result"
    }
   ],
   "source": [
    "train_ppis.loc[train_ppis.species == 1392]"
   ],
   "metadata": {
    "collapsed": false
   }
  },
  {
   "cell_type": "code",
   "execution_count": 192,
   "outputs": [
    {
     "data": {
      "text/plain": "Empty DataFrame\nColumns: [hash_A, hash_B, species, label]\nIndex: []",
      "text/html": "<div>\n<style scoped>\n    .dataframe tbody tr th:only-of-type {\n        vertical-align: middle;\n    }\n\n    .dataframe tbody tr th {\n        vertical-align: top;\n    }\n\n    .dataframe thead th {\n        text-align: right;\n    }\n</style>\n<table border=\"1\" class=\"dataframe\">\n  <thead>\n    <tr style=\"text-align: right;\">\n      <th></th>\n      <th>hash_A</th>\n      <th>hash_B</th>\n      <th>species</th>\n      <th>label</th>\n    </tr>\n  </thead>\n  <tbody>\n  </tbody>\n</table>\n</div>"
     },
     "execution_count": 192,
     "metadata": {},
     "output_type": "execute_result"
    }
   ],
   "source": [
    "train_negs.loc[train_negs.species == 1392]"
   ],
   "metadata": {
    "collapsed": false
   }
  },
  {
   "cell_type": "code",
   "execution_count": 193,
   "metadata": {
    "collapsed": false,
    "jupyter": {
     "outputs_hidden": false
    }
   },
   "outputs": [
    {
     "data": {
      "text/plain": "<Figure size 360x288 with 1 Axes>",
      "image/png": "[encoded data removed]"
     },
     "metadata": {
      "needs_background": "light"
     },
     "output_type": "display_data"
    }
   ],
   "source": [
    "with mpl.rc_context({'figure.dpi': 72}):\n",
    "    fig = plot_bias(train_ppis, train_negs, train_bias, c.ratio)\n",
    "fig.savefig('train_bias.svg')"
   ]
  },
  {
   "cell_type": "markdown",
   "metadata": {},
   "source": [
    "#### degrees\n",
    "Evaluate how close the real ratio of negative : positive interactions per protein is to our target ratio"
   ]
  },
  {
   "cell_type": "code",
   "execution_count": 197,
   "outputs": [
    {
     "data": {
      "text/plain": "<Figure size 288x288 with 3 Axes>",
      "image/png": "[encoded data removed]"
     },
     "metadata": {
      "needs_background": "light"
     },
     "output_type": "display_data"
    },
    {
     "data": {
      "text/plain": "<Figure size 360x360 with 1 Axes>",
      "image/png": "[encoded data removed]"
     },
     "metadata": {
      "needs_background": "light"
     },
     "output_type": "display_data"
    }
   ],
   "source": [
    "with mpl.rc_context({'figure.dpi': 72}):\n",
    "    fig, fig2, df, nsp = plot_ratio_degree(\n",
    "        train_ppis, train_negs, c.ratio, height=4, taxonomy=taxonomy)\n",
    "ax = fig.axes[0]\n",
    "# ax.set(xlim=(1.8, 10.5))\n",
    "# ax.annotate(2697049, xy=(2.5, 2.8), size=9)\n",
    "ax.annotate('$Treponema$', xy=(4.5, 80), size=9)  #243276\n",
    "# ax.annotate(192222, xy=(8, 180), size=9)\n",
    "fig.savefig('train_ratios.svg')\n",
    "if fig2 is not None:\n",
    "    fig2.savefig('train_negative_degree.svg')"
   ],
   "metadata": {
    "collapsed": false
   }
  },
  {
   "cell_type": "code",
   "execution_count": 198,
   "outputs": [
    {
     "data": {
      "text/plain": "<Figure size 1000x400 with 1 Axes>",
      "image/png": "[encoded data removed]"
     },
     "metadata": {
      "needs_background": "light"
     },
     "output_type": "display_data"
    }
   ],
   "source": [
    "with mpl.rc_context({'figure.dpi': 100}):\n",
    "    fg = plot_degrees_wide(train_ppis, train_negs, taxonomy, False,\n",
    "                           # [3702, 7227, 284812, 10090, 192222, 10299, 632, 2697049]\n",
    "                           height=4, aspect=4/4*2.5)\n",
    "fg.savefig('train_degree_wide.svg')"
   ],
   "metadata": {
    "collapsed": false
   }
  },
  {
   "cell_type": "code",
   "execution_count": 199,
   "metadata": {
    "collapsed": false,
    "jupyter": {
     "outputs_hidden": false
    }
   },
   "outputs": [
    {
     "data": {
      "text/plain": "<Figure size 540x216 with 8 Axes>",
      "image/png": "[encoded data removed]"
     },
     "metadata": {},
     "output_type": "display_data"
    },
    {
     "data": {
      "text/plain": "<Figure size 540x216 with 8 Axes>",
      "image/png": "[encoded data removed]"
     },
     "metadata": {},
     "output_type": "display_data"
    }
   ],
   "source": [
    "order = (taxonomy.loc[taxonomy.species.isin(train.species)]\n",
    "             .sort_values(by='n_ppis')['species'][::-1])\n",
    "with mpl.rc_context({'figure.dpi': 72}):\n",
    "    g, h = plot_ratio_grids(df, order, c.ratio)"
   ]
  },
  {
   "cell_type": "code",
   "execution_count": 200,
   "metadata": {
    "collapsed": false,
    "jupyter": {
     "outputs_hidden": false
    }
   },
   "outputs": [
    {
     "data": {
      "text/plain": "         count  mean  std  min  25%  50%  75%  max\nspecies                                           \n37296       16     1    0    1    1    1    1    1\n36329      535     1    0    1    1    1    1    1\n10116      540     1    0    1    1    1    1    1\n243276     676     1    0    1    1    1    1    1\n85962      921     1    0    1    1    1    1    1\n83333     1546     1    0    1    1    1    1    1\n284812    1725     1    0    1    1    1    1    1\n10090     2606     1    0    1    1    1    1    1",
      "text/html": "<div>\n<style scoped>\n    .dataframe tbody tr th:only-of-type {\n        vertical-align: middle;\n    }\n\n    .dataframe tbody tr th {\n        vertical-align: top;\n    }\n\n    .dataframe thead th {\n        text-align: right;\n    }\n</style>\n<table border=\"1\" class=\"dataframe\">\n  <thead>\n    <tr style=\"text-align: right;\">\n      <th></th>\n      <th>count</th>\n      <th>mean</th>\n      <th>std</th>\n      <th>min</th>\n      <th>25%</th>\n      <th>50%</th>\n      <th>75%</th>\n      <th>max</th>\n    </tr>\n    <tr>\n      <th>species</th>\n      <th></th>\n      <th></th>\n      <th></th>\n      <th></th>\n      <th></th>\n      <th></th>\n      <th></th>\n      <th></th>\n    </tr>\n  </thead>\n  <tbody>\n    <tr>\n      <th>37296</th>\n      <td>16</td>\n      <td>1</td>\n      <td>0</td>\n      <td>1</td>\n      <td>1</td>\n      <td>1</td>\n      <td>1</td>\n      <td>1</td>\n    </tr>\n    <tr>\n      <th>36329</th>\n      <td>535</td>\n      <td>1</td>\n      <td>0</td>\n      <td>1</td>\n      <td>1</td>\n      <td>1</td>\n      <td>1</td>\n      <td>1</td>\n    </tr>\n    <tr>\n      <th>10116</th>\n      <td>540</td>\n      <td>1</td>\n      <td>0</td>\n      <td>1</td>\n      <td>1</td>\n      <td>1</td>\n      <td>1</td>\n      <td>1</td>\n    </tr>\n    <tr>\n      <th>243276</th>\n      <td>676</td>\n      <td>1</td>\n      <td>0</td>\n      <td>1</td>\n      <td>1</td>\n      <td>1</td>\n      <td>1</td>\n      <td>1</td>\n    </tr>\n    <tr>\n      <th>85962</th>\n      <td>921</td>\n      <td>1</td>\n      <td>0</td>\n      <td>1</td>\n      <td>1</td>\n      <td>1</td>\n      <td>1</td>\n      <td>1</td>\n    </tr>\n    <tr>\n      <th>83333</th>\n      <td>1546</td>\n      <td>1</td>\n      <td>0</td>\n      <td>1</td>\n      <td>1</td>\n      <td>1</td>\n      <td>1</td>\n      <td>1</td>\n    </tr>\n    <tr>\n      <th>284812</th>\n      <td>1725</td>\n      <td>1</td>\n      <td>0</td>\n      <td>1</td>\n      <td>1</td>\n      <td>1</td>\n      <td>1</td>\n      <td>1</td>\n    </tr>\n    <tr>\n      <th>10090</th>\n      <td>2606</td>\n      <td>1</td>\n      <td>0</td>\n      <td>1</td>\n      <td>1</td>\n      <td>1</td>\n      <td>1</td>\n      <td>1</td>\n    </tr>\n  </tbody>\n</table>\n</div>"
     },
     "execution_count": 200,
     "metadata": {},
     "output_type": "execute_result"
    }
   ],
   "source": [
    "desc = (df  #.loc[df.degree <= 3]\n",
    "        .groupby('species')\n",
    "        .describe()\n",
    "        ['ratio']\n",
    "        .sort_values(by='count')\n",
    "        .round(2)\n",
    "        .convert_dtypes()\n",
    "        )\n",
    "desc"
   ]
  },
  {
   "cell_type": "markdown",
   "metadata": {},
   "source": [
    "#### save\n",
    "The PPIs are easy:"
   ]
  },
  {
   "cell_type": "code",
   "execution_count": 201,
   "metadata": {
    "collapsed": false,
    "jupyter": {
     "outputs_hidden": false
    }
   },
   "outputs": [
    {
     "data": {
      "text/plain": "(31362, PosixPath('apid_train.tsv'))"
     },
     "execution_count": 201,
     "metadata": {},
     "output_type": "execute_result"
    }
   ],
   "source": [
    "train_all = pd.concat((train_ppis, train_negs))\n",
    "train_all.to_csv(c.train_tsv, sep='\\t', header=True, index=False)\n",
    "c.train_size = len(train_all)\n",
    "c.train_size, c.train_tsv"
   ]
  },
  {
   "cell_type": "markdown",
   "metadata": {},
   "source": [
    "But update the set of sequences with the added SwissProt proteins."
   ]
  },
  {
   "cell_type": "code",
   "execution_count": 202,
   "metadata": {
    "collapsed": false,
    "jupyter": {
     "outputs_hidden": false
    }
   },
   "outputs": [],
   "source": [
    "assert not set(np.unique(train_ppis.iloc[:, [0, 1]])) - train_seqs.keys()"
   ]
  },
  {
   "cell_type": "code",
   "execution_count": 203,
   "metadata": {
    "collapsed": false,
    "jupyter": {
     "outputs_hidden": false
    }
   },
   "outputs": [
    {
     "data": {
      "text/plain": "163"
     },
     "execution_count": 203,
     "metadata": {},
     "output_type": "execute_result"
    }
   ],
   "source": [
    "train_extra = get_proteome_seqs(train_proteome, train_seqs, train_negs)\n",
    "_ = SeqIO.write(values_sorted_by_key(train_extra),\n",
    "                c.pp / 'train_extra.fasta', 'fasta')\n",
    "train_seqs.update(train_extra)\n",
    "c.train_extra = len(train_extra)\n",
    "c.train_extra"
   ]
  },
  {
   "cell_type": "code",
   "execution_count": 204,
   "metadata": {
    "collapsed": false,
    "jupyter": {
     "outputs_hidden": false
    }
   },
   "outputs": [
    {
     "data": {
      "text/plain": "(8728, PosixPath('apid_train.fasta'))"
     },
     "execution_count": 204,
     "metadata": {},
     "output_type": "execute_result"
    }
   ],
   "source": [
    "_ = SeqIO.write(values_sorted_by_key(train_seqs), c.train_fasta, 'fasta')\n",
    "len(train_seqs), c.train_fasta"
   ]
  },
  {
   "cell_type": "code",
   "execution_count": 205,
   "metadata": {
    "collapsed": false,
    "jupyter": {
     "outputs_hidden": false
    }
   },
   "outputs": [],
   "source": [
    "assert len(train_all), len(train_seqs) == shrink_both_ways(\n",
    "    train_all.copy(), train_seqs.copy())"
   ]
  },
  {
   "cell_type": "markdown",
   "metadata": {},
   "source": [
    "## APID validation\n",
    "#### generate negatives\n",
    "The `val` DataFrame is not up-to-date, use the contents of `val_rr_tsv` and `val_rr_fasta` instead!"
   ]
  },
  {
   "cell_type": "code",
   "execution_count": 206,
   "metadata": {
    "collapsed": false,
    "jupyter": {
     "outputs_hidden": false
    }
   },
   "outputs": [
    {
     "data": {
      "text/plain": "(1184, 818)"
     },
     "execution_count": 206,
     "metadata": {},
     "output_type": "execute_result"
    }
   ],
   "source": [
    "val = pd.read_csv(c.val_rr_tsv, sep='\\t', header=0)\n",
    "val_seqs = SeqIO.to_dict(SeqIO.parse(c.val_rr_fasta, 'fasta'))\n",
    "len(val), len(val_seqs)"
   ]
  },
  {
   "cell_type": "code",
   "execution_count": 207,
   "metadata": {
    "collapsed": false,
    "jupyter": {
     "outputs_hidden": false
    }
   },
   "outputs": [
    {
     "data": {
      "text/plain": "{7955, 9031, 9913, 10299, 10377, 39947, 224308}"
     },
     "execution_count": 207,
     "metadata": {},
     "output_type": "execute_result"
    }
   ],
   "source": [
    "set(val.species)"
   ]
  },
  {
   "cell_type": "code",
   "execution_count": 208,
   "metadata": {
    "collapsed": false,
    "jupyter": {
     "outputs_hidden": false
    }
   },
   "outputs": [],
   "source": [
    "val_proteome = read_json(c.val_proteome)"
   ]
  },
  {
   "cell_type": "code",
   "execution_count": 209,
   "metadata": {
    "collapsed": false,
    "jupyter": {
     "outputs_hidden": false
    }
   },
   "outputs": [
    {
     "name": "stdout",
     "output_type": "stream",
     "text": [
      "sampling negatives per species! aim for 1184\n"
     ]
    },
    {
     "name": "stderr",
     "output_type": "stream",
     "text": [
      "10299: 100%|████████████████████████████████████| 5/5 [00:00<00:00, 2352.91it/s]\n",
      "9031: 100%|███████████████████████████████████| 22/22 [00:00<00:00, 3709.24it/s]\n",
      "10377: 15it [00:00, 2088.80it/s]                                                \n",
      "7955: 30it [00:00, 4537.49it/s]                                                 \n"
     ]
    },
    {
     "name": "stdout",
     "output_type": "stream",
     "text": [
      "10377 extras hash: 18A26E924BA8BE22\n"
     ]
    },
    {
     "name": "stderr",
     "output_type": "stream",
     "text": [
      "9913: 78it [00:00, 4408.93it/s]                                                 \n"
     ]
    },
    {
     "name": "stdout",
     "output_type": "stream",
     "text": [
      "7955 extras hash: F1E559271B988C34\n",
      "9913 extras hash: 01D894181E6263FD\n"
     ]
    },
    {
     "name": "stderr",
     "output_type": "stream",
     "text": [
      "39947: 85it [00:00, 4127.39it/s]                                                \n"
     ]
    },
    {
     "name": "stdout",
     "output_type": "stream",
     "text": [
      "39947 extras hash: 6FEF94B7E16BDDCE\n"
     ]
    },
    {
     "name": "stderr",
     "output_type": "stream",
     "text": [
      "224308: 997it [00:00, 2274.62it/s]                                              \n"
     ]
    },
    {
     "name": "stdout",
     "output_type": "stream",
     "text": [
      "224308 extras hash: DEBF5BC3B02AB554\n",
      "1232 negatives with overall 0.999 and average per-species bias of 0.986±0.024 (std)\n"
     ]
    }
   ],
   "source": [
    "with mpl.rc_context({'figure.dpi': 64}):\n",
    "    val_ppis, val_negs, val_bias, _ = make_negatives(val, c, val_proteome)"
   ]
  },
  {
   "cell_type": "markdown",
   "metadata": {},
   "source": [
    "1232 negatives with overall 0.999 and average per-species bias of 0.986±0.024 (std)\n",
    "\n",
    "1216 negatives with overall 0.999 and average per-species bias of 0.990±0.018 (std)"
   ]
  },
  {
   "cell_type": "markdown",
   "metadata": {},
   "source": [
    "#### bias"
   ]
  },
  {
   "cell_type": "code",
   "execution_count": 210,
   "metadata": {
    "collapsed": false,
    "jupyter": {
     "outputs_hidden": false
    }
   },
   "outputs": [
    {
     "data": {
      "text/plain": "<Figure size 360x288 with 1 Axes>",
      "image/png": "[encoded data removed]"
     },
     "metadata": {
      "needs_background": "light"
     },
     "output_type": "display_data"
    }
   ],
   "source": [
    "if type(val_bias) == np.float64:\n",
    "    c.val_bias = val_bias\n",
    "else:\n",
    "    assert type(val_bias) == pd.DataFrame\n",
    "    c.val_bias = val_bias.set_index('species').to_dict()['bias']\n",
    "\n",
    "    with mpl.rc_context({'figure.dpi': 72}):\n",
    "        fig = plot_bias(val_ppis, val_negs, val_bias, c.ratio)\n",
    "    fig.savefig('val_bias.svg')"
   ]
  },
  {
   "cell_type": "markdown",
   "metadata": {},
   "source": [
    "#### degrees"
   ]
  },
  {
   "cell_type": "code",
   "execution_count": 211,
   "metadata": {
    "collapsed": false,
    "jupyter": {
     "outputs_hidden": false
    }
   },
   "outputs": [
    {
     "data": {
      "text/plain": "<Figure size 400x400 with 3 Axes>",
      "image/png": "[encoded data removed]"
     },
     "metadata": {
      "needs_background": "light"
     },
     "output_type": "display_data"
    },
    {
     "data": {
      "text/plain": "<Figure size 500x500 with 1 Axes>",
      "image/png": "[encoded data removed]"
     },
     "metadata": {
      "needs_background": "light"
     },
     "output_type": "display_data"
    }
   ],
   "source": [
    "with mpl.rc_context({'figure.dpi': 100}):\n",
    "    fig, fig2, vdf, vnsp = plot_ratio_degree(\n",
    "        val_ppis, val_negs, c.ratio, height=4, taxonomy=taxonomy)\n",
    "fig.savefig('val_ratio_degree.svg')\n",
    "if fig2 is not None:\n",
    "    fig2.savefig(f'val_negative_degree.svg')"
   ]
  },
  {
   "cell_type": "markdown",
   "metadata": {},
   "source": [
    "Are we running out of extra proteins again?"
   ]
  },
  {
   "cell_type": "code",
   "execution_count": 212,
   "metadata": {
    "collapsed": false,
    "jupyter": {
     "outputs_hidden": false
    }
   },
   "outputs": [
    {
     "data": {
      "text/plain": "Empty DataFrame\nColumns: [crc_hash, degree, ratio, species]\nIndex: []",
      "text/html": "<div>\n<style scoped>\n    .dataframe tbody tr th:only-of-type {\n        vertical-align: middle;\n    }\n\n    .dataframe tbody tr th {\n        vertical-align: top;\n    }\n\n    .dataframe thead th {\n        text-align: right;\n    }\n</style>\n<table border=\"1\" class=\"dataframe\">\n  <thead>\n    <tr style=\"text-align: right;\">\n      <th></th>\n      <th>crc_hash</th>\n      <th>degree</th>\n      <th>ratio</th>\n      <th>species</th>\n    </tr>\n  </thead>\n  <tbody>\n  </tbody>\n</table>\n</div>"
     },
     "execution_count": 212,
     "metadata": {},
     "output_type": "execute_result"
    }
   ],
   "source": [
    "vdf.loc[vdf.ratio != c.ratio]"
   ]
  },
  {
   "cell_type": "code",
   "execution_count": 213,
   "metadata": {
    "collapsed": false,
    "jupyter": {
     "outputs_hidden": false
    }
   },
   "outputs": [],
   "source": [
    "if 37296 in c.val_species:\n",
    "    with mpl.rc_context({'figure.dpi': 64}):\n",
    "        v_ppis, v_negs, v_bias, _ = make_negatives(\n",
    "            val.loc[val.species == 37296].copy(), c, val_proteome)"
   ]
  },
  {
   "cell_type": "markdown",
   "metadata": {},
   "source": [
    "Yes we are running out of extra (SwissProt) proteins again!"
   ]
  },
  {
   "cell_type": "markdown",
   "metadata": {},
   "source": [
    "#### save\n",
    "First, save the PPIs as a `TSV`. This is straightforward, but we will overwrite that file right after clustering the `FASTA`."
   ]
  },
  {
   "cell_type": "code",
   "execution_count": 214,
   "metadata": {
    "collapsed": false,
    "jupyter": {
     "outputs_hidden": false
    }
   },
   "outputs": [
    {
     "data": {
      "text/plain": "(2416, PosixPath('apid_validation.tsv'))"
     },
     "execution_count": 214,
     "metadata": {},
     "output_type": "execute_result"
    }
   ],
   "source": [
    "val_all = pd.concat((val_ppis, val_negs))\n",
    "val_all.to_csv(c.val_tsv, sep='\\t', header=True, index=False)\n",
    "c.val_size = len(val_all)\n",
    "c.val_size, c.val_tsv"
   ]
  },
  {
   "cell_type": "code",
   "execution_count": 215,
   "metadata": {
    "collapsed": false,
    "jupyter": {
     "outputs_hidden": false
    }
   },
   "outputs": [],
   "source": [
    "assert not set(np.unique(val_ppis.iloc[:, [0, 1]])) - val_seqs.keys()"
   ]
  },
  {
   "cell_type": "code",
   "execution_count": 216,
   "metadata": {
    "collapsed": false,
    "jupyter": {
     "outputs_hidden": false
    }
   },
   "outputs": [
    {
     "data": {
      "text/plain": "(76, 818)"
     },
     "execution_count": 216,
     "metadata": {},
     "output_type": "execute_result"
    }
   ],
   "source": [
    "val_extra = get_proteome_seqs(val_proteome, val_seqs, val_negs)\n",
    "_ = SeqIO.write(values_sorted_by_key(val_extra),\n",
    "                c.pp / 'val_extra.fasta', 'fasta')\n",
    "c.val_extra = len(val_extra)\n",
    "c.val_extra, len(val_seqs)"
   ]
  },
  {
   "cell_type": "code",
   "execution_count": 217,
   "metadata": {
    "collapsed": false,
    "jupyter": {
     "outputs_hidden": false
    }
   },
   "outputs": [],
   "source": [
    "val_seqs.update(val_extra)"
   ]
  },
  {
   "cell_type": "code",
   "execution_count": 218,
   "metadata": {
    "collapsed": false,
    "jupyter": {
     "outputs_hidden": false
    }
   },
   "outputs": [
    {
     "data": {
      "text/plain": "(894, PosixPath('apid_validation.fasta'))"
     },
     "execution_count": 218,
     "metadata": {},
     "output_type": "execute_result"
    }
   ],
   "source": [
    "_ = SeqIO.write(values_sorted_by_key(val_seqs),\n",
    "                c.val_fasta, 'fasta')\n",
    "len(val_seqs), c.val_fasta"
   ]
  },
  {
   "cell_type": "code",
   "execution_count": 219,
   "metadata": {
    "collapsed": false,
    "jupyter": {
     "outputs_hidden": false
    }
   },
   "outputs": [],
   "source": [
    "assert len(val_all), len(val_seqs) == shrink_both_ways(\n",
    "    val_all.copy(), val_seqs.copy())"
   ]
  },
  {
   "cell_type": "markdown",
   "metadata": {},
   "source": [
    "#### cluster against train\n",
    "Clustering the `APID` validation set against the `APID` train set gives us **C1-3** labels for the validation set."
   ]
  },
  {
   "cell_type": "code",
   "execution_count": 220,
   "metadata": {
    "collapsed": false,
    "jupyter": {
     "outputs_hidden": false
    }
   },
   "outputs": [
    {
     "name": "stdout",
     "output_type": "stream",
     "text": [
      "\u001B[94mrostclust uniqueprot2d --hval-config-path hval_config.json apid_validation.fasta apid_train.fasta apid/apid_validation_c3.fasta\u001B[0m\n",
      "using temporary directory apid_validationytuss2r3\n",
      "generate alignments: 100%|██████████| 1/1 [00:17<00:00, 17.07s/it]\n",
      "extract hvals from alignments: 100%|██████████| 1/1 [00:00<00:00,  5.21it/s]\n",
      "\u001B[94m 626/894::8728 \u001B[0mnon-redundant in apid_validation.fasta against apid_train.fasta written to apid/apid_validation_c3.fasta\n"
     ]
    }
   ],
   "source": [
    "run_uniqueprot2D(c.val_fasta, c.train_fasta, c.val_c3_fasta,\n",
    "                 c.hval_config_path, not c.rostclust)"
   ]
  },
  {
   "cell_type": "markdown",
   "metadata": {},
   "source": [
    "#### label PPIs"
   ]
  },
  {
   "cell_type": "code",
   "execution_count": 221,
   "metadata": {
    "collapsed": false,
    "jupyter": {
     "outputs_hidden": false
    }
   },
   "outputs": [],
   "source": [
    "val_pairs = make_c_classes(c.val_tsv, c.val_c3_fasta, c.val_fasta)"
   ]
  },
  {
   "cell_type": "markdown",
   "metadata": {},
   "source": [
    "#### class sizes"
   ]
  },
  {
   "cell_type": "code",
   "execution_count": 367,
   "metadata": {
    "collapsed": false,
    "jupyter": {
     "outputs_hidden": false
    }
   },
   "outputs": [
    {
     "data": {
      "text/plain": "<Figure size 512x384 with 1 Axes>",
      "image/png": "[encoded data removed]"
     },
     "metadata": {
      "needs_background": "light"
     },
     "output_type": "display_data"
    },
    {
     "data": {
      "text/plain": "<Figure size 243.2x268.8 with 1 Axes>",
      "image/png": "[encoded data removed]"
     },
     "metadata": {
      "needs_background": "light"
     },
     "output_type": "display_data"
    }
   ],
   "source": [
    "with mpl.rc_context({'figure.dpi': 128}):\n",
    "    _, c.val_sizes = plot_c_classes(val_pairs)\n",
    "    fig = small_style_cclasses(\n",
    "        val_pairs, 'validation pairs', ccify=False, clabels=True)\n",
    "fig.savefig(f'val_cclasses.svg')"
   ]
  },
  {
   "cell_type": "code",
   "execution_count": 359,
   "metadata": {
    "collapsed": false,
    "jupyter": {
     "outputs_hidden": false
    }
   },
   "outputs": [
    {
     "data": {
      "text/plain": "{224308: 953, 39947: 84, 9913: 77, 7955: 29, 9031: 22, 10377: 14, 10299: 5}"
     },
     "execution_count": 359,
     "metadata": {},
     "output_type": "execute_result"
    }
   ],
   "source": [
    "# sizes of the sets of positives per species\n",
    "dict(val_ppis.species.value_counts())"
   ]
  },
  {
   "cell_type": "markdown",
   "metadata": {},
   "source": [
    "#### save"
   ]
  },
  {
   "cell_type": "code",
   "execution_count": 360,
   "metadata": {
    "collapsed": false,
    "jupyter": {
     "outputs_hidden": false
    }
   },
   "outputs": [
    {
     "data": {
      "text/plain": "PosixPath('apid_validation.tsv')"
     },
     "execution_count": 360,
     "metadata": {},
     "output_type": "execute_result"
    }
   ],
   "source": [
    "if not (bak := c.val_tsv.with_suffix('.tsv.bak')).is_file():\n",
    "    shutil.move(c.val_tsv, bak)\n",
    "val_pairs.to_csv(c.val_tsv, sep='\\t', header=True, index=False)\n",
    "c.val_tsv"
   ]
  },
  {
   "cell_type": "markdown",
   "metadata": {},
   "source": [
    "## HuRI test\n",
    "#### generate negatives\n",
    "Read in the files first ..."
   ]
  },
  {
   "cell_type": "code",
   "execution_count": 361,
   "metadata": {
    "collapsed": false,
    "jupyter": {
     "outputs_hidden": false
    }
   },
   "outputs": [
    {
     "data": {
      "text/plain": "(666, 430)"
     },
     "execution_count": 361,
     "metadata": {},
     "output_type": "execute_result"
    }
   ],
   "source": [
    "test = pd.read_csv(c.test_rr_tsv, sep='\\t', header=0)\n",
    "test_seqs = SeqIO.to_dict(SeqIO.parse(c.test_rr_fasta, 'fasta'))\n",
    "len(test), len(test_seqs)"
   ]
  },
  {
   "cell_type": "code",
   "execution_count": 363,
   "metadata": {
    "collapsed": false,
    "jupyter": {
     "outputs_hidden": false
    }
   },
   "outputs": [
    {
     "data": {
      "text/plain": "{9606}"
     },
     "execution_count": 363,
     "metadata": {},
     "output_type": "execute_result"
    }
   ],
   "source": [
    "set(test.species)"
   ]
  },
  {
   "cell_type": "code",
   "execution_count": 364,
   "outputs": [
    {
     "name": "stdout",
     "output_type": "stream",
     "text": [
      "\u001B[94mrostclust uniqueprot2d --hval-config-path hval_config.json swissprot/9606_rr_valtest.fasta swissprot/val_extra.fasta swissprot/9606_rr_valtest_nr_valextra.fasta\u001B[0m\n",
      "using temporary directory swissprot/9606_rr_valtestoizfg73k\n",
      "generate alignments: 100%|██████████| 6/6 [01:55<00:00, 19.24s/it]\n",
      "extract hvals from alignments: 100%|██████████| 6/6 [00:00<00:00, 82.73it/s]\n",
      "\u001B[94m 14727/14728::76 \u001B[0mnon-redundant in swissprot/9606_rr_valtest.fasta against swissprot/val_extra.fasta written to swissprot/9606_rr_valtest_nr_valextra.fasta\n"
     ]
    }
   ],
   "source": [
    "# reduce the test proteome against the selected val proteome sequences\n",
    "run_uniqueprot2D(c.pp / '9606_rr_valtest.fasta', c.pp / 'val_extra.fasta',\n",
    "                 c.pp / '9606_rr_valtest_nr_valextra.fasta',\n",
    "                 c.hval_config_path, not c.rostclust)"
   ],
   "metadata": {
    "collapsed": false
   }
  },
  {
   "cell_type": "code",
   "execution_count": 365,
   "metadata": {
    "collapsed": false,
    "jupyter": {
     "outputs_hidden": false
    }
   },
   "outputs": [
    {
     "name": "stderr",
     "output_type": "stream",
     "text": [
      "100%|█████████████████████████████████| 1/1 [00:04<00:00,  4.74s/it, batch=9606]\n"
     ]
    },
    {
     "data": {
      "text/plain": "14727"
     },
     "execution_count": 365,
     "metadata": {},
     "output_type": "execute_result"
    }
   ],
   "source": [
    "test_proteome = write_json(read_hash_proteomes(\n",
    "    {9606}, c.pp, '{sp}_rr_valtest_nr_valextra.fasta'), c.test_proteome)\n",
    "len(test_proteome[9606])"
   ]
  },
  {
   "cell_type": "code",
   "execution_count": 368,
   "metadata": {
    "collapsed": false,
    "jupyter": {
     "outputs_hidden": false
    }
   },
   "outputs": [
    {
     "name": "stdout",
     "output_type": "stream",
     "text": [
      "9606: 666 positives, aim for 666 negatives\n"
     ]
    },
    {
     "name": "stderr",
     "output_type": "stream",
     "text": [
      "9606: 100%|█████████████████████████████████| 666/666 [00:00<00:00, 2485.33it/s]\n"
     ]
    },
    {
     "name": "stdout",
     "output_type": "stream",
     "text": [
      "9606: 666/666 interactome negatives\n",
      "9606: got 666 negatives with bias 1.000\n"
     ]
    },
    {
     "data": {
      "text/plain": "<Figure size 409.6x307.2 with 1 Axes>",
      "image/png": "[encoded data removed]"
     },
     "metadata": {},
     "output_type": "display_data"
    }
   ],
   "source": [
    "with mpl.rc_context({'figure.dpi': 64}):\n",
    "    test_ppis, test_negatives, c.test_bias, _ = make_negatives(\n",
    "        test, c, test_proteome)"
   ]
  },
  {
   "cell_type": "code",
   "execution_count": 369,
   "metadata": {
    "collapsed": false,
    "jupyter": {
     "outputs_hidden": false
    }
   },
   "outputs": [
    {
     "data": {
      "text/plain": "                 hash_A                hash_B  species  label\n0  CRC-001576EA78C61C85  CRC-045C9C9CAE0FD639     9606      1\n1  CRC-001576EA78C61C85  CRC-12E45FF6696080F8     9606      1\n2  CRC-001576EA78C61C85  CRC-2743716544288776     9606      1\n3  CRC-001576EA78C61C85  CRC-2EDBC7981868EB12     9606      1\n4  CRC-001576EA78C61C85  CRC-40897D5AF9B186A9     9606      1",
      "text/html": "<div>\n<style scoped>\n    .dataframe tbody tr th:only-of-type {\n        vertical-align: middle;\n    }\n\n    .dataframe tbody tr th {\n        vertical-align: top;\n    }\n\n    .dataframe thead th {\n        text-align: right;\n    }\n</style>\n<table border=\"1\" class=\"dataframe\">\n  <thead>\n    <tr style=\"text-align: right;\">\n      <th></th>\n      <th>hash_A</th>\n      <th>hash_B</th>\n      <th>species</th>\n      <th>label</th>\n    </tr>\n  </thead>\n  <tbody>\n    <tr>\n      <th>0</th>\n      <td>CRC-001576EA78C61C85</td>\n      <td>CRC-045C9C9CAE0FD639</td>\n      <td>9606</td>\n      <td>1</td>\n    </tr>\n    <tr>\n      <th>1</th>\n      <td>CRC-001576EA78C61C85</td>\n      <td>CRC-12E45FF6696080F8</td>\n      <td>9606</td>\n      <td>1</td>\n    </tr>\n    <tr>\n      <th>2</th>\n      <td>CRC-001576EA78C61C85</td>\n      <td>CRC-2743716544288776</td>\n      <td>9606</td>\n      <td>1</td>\n    </tr>\n    <tr>\n      <th>3</th>\n      <td>CRC-001576EA78C61C85</td>\n      <td>CRC-2EDBC7981868EB12</td>\n      <td>9606</td>\n      <td>1</td>\n    </tr>\n    <tr>\n      <th>4</th>\n      <td>CRC-001576EA78C61C85</td>\n      <td>CRC-40897D5AF9B186A9</td>\n      <td>9606</td>\n      <td>1</td>\n    </tr>\n  </tbody>\n</table>\n</div>"
     },
     "execution_count": 369,
     "metadata": {},
     "output_type": "execute_result"
    }
   ],
   "source": [
    "test_ppis.head()"
   ]
  },
  {
   "cell_type": "code",
   "execution_count": 370,
   "metadata": {
    "collapsed": false,
    "jupyter": {
     "outputs_hidden": false
    }
   },
   "outputs": [
    {
     "data": {
      "text/plain": "                 hash_A                hash_B  species  label\n0  CRC-001576EA78C61C85  CRC-0CC610356D4AA040     9606      0\n1  CRC-001576EA78C61C85  CRC-10779173F5092F3F     9606      0\n2  CRC-001576EA78C61C85  CRC-2AF8FDD248A86C41     9606      0\n3  CRC-001576EA78C61C85  CRC-5A0C9B635A982A62     9606      0\n4  CRC-001576EA78C61C85  CRC-7208224CD9CDA311     9606      0",
      "text/html": "<div>\n<style scoped>\n    .dataframe tbody tr th:only-of-type {\n        vertical-align: middle;\n    }\n\n    .dataframe tbody tr th {\n        vertical-align: top;\n    }\n\n    .dataframe thead th {\n        text-align: right;\n    }\n</style>\n<table border=\"1\" class=\"dataframe\">\n  <thead>\n    <tr style=\"text-align: right;\">\n      <th></th>\n      <th>hash_A</th>\n      <th>hash_B</th>\n      <th>species</th>\n      <th>label</th>\n    </tr>\n  </thead>\n  <tbody>\n    <tr>\n      <th>0</th>\n      <td>CRC-001576EA78C61C85</td>\n      <td>CRC-0CC610356D4AA040</td>\n      <td>9606</td>\n      <td>0</td>\n    </tr>\n    <tr>\n      <th>1</th>\n      <td>CRC-001576EA78C61C85</td>\n      <td>CRC-10779173F5092F3F</td>\n      <td>9606</td>\n      <td>0</td>\n    </tr>\n    <tr>\n      <th>2</th>\n      <td>CRC-001576EA78C61C85</td>\n      <td>CRC-2AF8FDD248A86C41</td>\n      <td>9606</td>\n      <td>0</td>\n    </tr>\n    <tr>\n      <th>3</th>\n      <td>CRC-001576EA78C61C85</td>\n      <td>CRC-5A0C9B635A982A62</td>\n      <td>9606</td>\n      <td>0</td>\n    </tr>\n    <tr>\n      <th>4</th>\n      <td>CRC-001576EA78C61C85</td>\n      <td>CRC-7208224CD9CDA311</td>\n      <td>9606</td>\n      <td>0</td>\n    </tr>\n  </tbody>\n</table>\n</div>"
     },
     "execution_count": 370,
     "metadata": {},
     "output_type": "execute_result"
    }
   ],
   "source": [
    "test_negatives.head()"
   ]
  },
  {
   "cell_type": "markdown",
   "metadata": {},
   "source": [
    "#### bias\n",
    "As the test set contains only single species, this is just a number"
   ]
  },
  {
   "cell_type": "code",
   "execution_count": 371,
   "metadata": {
    "collapsed": false,
    "jupyter": {
     "outputs_hidden": false
    }
   },
   "outputs": [
    {
     "data": {
      "text/plain": "1.0"
     },
     "execution_count": 371,
     "metadata": {},
     "output_type": "execute_result"
    }
   ],
   "source": [
    "c.test_bias"
   ]
  },
  {
   "cell_type": "markdown",
   "metadata": {},
   "source": [
    "#### degrees"
   ]
  },
  {
   "cell_type": "code",
   "execution_count": 372,
   "metadata": {
    "collapsed": false,
    "jupyter": {
     "outputs_hidden": false
    }
   },
   "outputs": [
    {
     "data": {
      "text/plain": "<Figure size 400x400 with 3 Axes>",
      "image/png": "[encoded data removed]"
     },
     "metadata": {
      "needs_background": "light"
     },
     "output_type": "display_data"
    }
   ],
   "source": [
    "with mpl.rc_context({'figure.dpi': 100}):\n",
    "    fig, fig2, tdf, tnsp = plot_ratio_degree(test_ppis, test_negatives, c.ratio, height=4, taxonomy=taxonomy)\n",
    "fig.savefig('test_ratio_degree.svg')\n",
    "if fig2 is not None:\n",
    "    fig2.savefig(f'test_negative_degree.svg')"
   ]
  },
  {
   "cell_type": "code",
   "execution_count": 373,
   "metadata": {
    "collapsed": false,
    "jupyter": {
     "outputs_hidden": false
    }
   },
   "outputs": [
    {
     "data": {
      "text/plain": "Empty DataFrame\nColumns: [crc_hash, degree, ratio, species]\nIndex: []",
      "text/html": "<div>\n<style scoped>\n    .dataframe tbody tr th:only-of-type {\n        vertical-align: middle;\n    }\n\n    .dataframe tbody tr th {\n        vertical-align: top;\n    }\n\n    .dataframe thead th {\n        text-align: right;\n    }\n</style>\n<table border=\"1\" class=\"dataframe\">\n  <thead>\n    <tr style=\"text-align: right;\">\n      <th></th>\n      <th>crc_hash</th>\n      <th>degree</th>\n      <th>ratio</th>\n      <th>species</th>\n    </tr>\n  </thead>\n  <tbody>\n  </tbody>\n</table>\n</div>"
     },
     "execution_count": 373,
     "metadata": {},
     "output_type": "execute_result"
    }
   ],
   "source": [
    "tdf.loc[tdf.ratio != c.ratio]"
   ]
  },
  {
   "cell_type": "markdown",
   "metadata": {},
   "source": [
    "#### save\n",
    "First, save the PPIs as a `TSV`. This is straightforward, but we will overwrite that file right after clustering the `FASTA`."
   ]
  },
  {
   "cell_type": "code",
   "execution_count": 374,
   "metadata": {
    "collapsed": false,
    "jupyter": {
     "outputs_hidden": false
    }
   },
   "outputs": [
    {
     "data": {
      "text/plain": "(1332, PosixPath('huri_test.tsv'))"
     },
     "execution_count": 374,
     "metadata": {},
     "output_type": "execute_result"
    }
   ],
   "source": [
    "test_all = pd.concat((test_ppis, test_negatives))\n",
    "test_all.to_csv(c.test_tsv, sep='\\t', header=True, index=False)\n",
    "c.test_size = len(test_all)\n",
    "c.test_size, c.test_tsv"
   ]
  },
  {
   "cell_type": "code",
   "execution_count": 375,
   "metadata": {
    "collapsed": false,
    "jupyter": {
     "outputs_hidden": false
    }
   },
   "outputs": [],
   "source": [
    "assert not set(np.unique(test_ppis.iloc[:, [0, 1]])) - test_seqs.keys()"
   ]
  },
  {
   "cell_type": "code",
   "execution_count": 376,
   "metadata": {
    "collapsed": false,
    "jupyter": {
     "outputs_hidden": false
    }
   },
   "outputs": [
    {
     "data": {
      "text/plain": "(0, 430)"
     },
     "execution_count": 376,
     "metadata": {},
     "output_type": "execute_result"
    }
   ],
   "source": [
    "test_extra = get_proteome_seqs(test_proteome, test_seqs, test_negatives)\n",
    "_ = SeqIO.write(values_sorted_by_key(test_extra),\n",
    "                c.pp / 'test_extra.fasta', 'fasta')\n",
    "c.test_extra = len(test_extra)\n",
    "c.test_extra, len(test_seqs)"
   ]
  },
  {
   "cell_type": "code",
   "execution_count": 377,
   "metadata": {
    "collapsed": false,
    "jupyter": {
     "outputs_hidden": false
    }
   },
   "outputs": [],
   "source": [
    "test_seqs.update(test_extra)"
   ]
  },
  {
   "cell_type": "code",
   "execution_count": 378,
   "metadata": {
    "collapsed": false,
    "jupyter": {
     "outputs_hidden": false
    }
   },
   "outputs": [
    {
     "data": {
      "text/plain": "(430, PosixPath('huri_test.fasta'))"
     },
     "execution_count": 378,
     "metadata": {},
     "output_type": "execute_result"
    }
   ],
   "source": [
    "_ = SeqIO.write(values_sorted_by_key(test_seqs), c.test_fasta, 'fasta')\n",
    "len(test_seqs), c.test_fasta"
   ]
  },
  {
   "cell_type": "code",
   "execution_count": 379,
   "metadata": {
    "collapsed": false,
    "jupyter": {
     "outputs_hidden": false
    }
   },
   "outputs": [],
   "source": [
    "assert len(test_all), len(test_seqs) == shrink_both_ways(\n",
    "    test_all.copy(), test_seqs.copy())"
   ]
  },
  {
   "cell_type": "markdown",
   "metadata": {},
   "source": [
    "#### cluster against train\n",
    "Clustering the `HuRI` test set against the `APID` train set gives us **C1-3** labels for the test set."
   ]
  },
  {
   "cell_type": "code",
   "execution_count": 380,
   "metadata": {
    "collapsed": false,
    "jupyter": {
     "outputs_hidden": false
    }
   },
   "outputs": [
    {
     "name": "stdout",
     "output_type": "stream",
     "text": [
      "\u001B[94mrostclust uniqueprot2d --hval-config-path hval_config.json huri_test.fasta apid_train.fasta huri/huri_test_c3.fasta\u001B[0m\n",
      "using temporary directory huri_test6kicz586\n",
      "generate alignments: 100%|██████████| 1/1 [00:11<00:00, 11.09s/it]\n",
      "extract hvals from alignments: 100%|██████████| 1/1 [00:00<00:00,  7.15it/s]\n",
      "\u001B[94m 269/430::8728 \u001B[0mnon-redundant in huri_test.fasta against apid_train.fasta written to huri/huri_test_c3.fasta\n"
     ]
    }
   ],
   "source": [
    "run_uniqueprot2D(c.test_fasta, c.train_fasta, c.test_c3_fasta,\n",
    "                 c.hval_config_path, not c.rostclust)"
   ]
  },
  {
   "cell_type": "markdown",
   "metadata": {},
   "source": [
    "#### label PPIs"
   ]
  },
  {
   "cell_type": "code",
   "execution_count": 381,
   "metadata": {
    "collapsed": false,
    "jupyter": {
     "outputs_hidden": false
    }
   },
   "outputs": [],
   "source": [
    "test_pairs = make_c_classes(c.test_tsv, c.test_c3_fasta, c.test_fasta)"
   ]
  },
  {
   "cell_type": "markdown",
   "metadata": {},
   "source": [
    "#### class sizes"
   ]
  },
  {
   "cell_type": "code",
   "execution_count": 382,
   "outputs": [
    {
     "data": {
      "text/plain": "<Figure size 512x384 with 1 Axes>",
      "image/png": "[encoded data removed]"
     },
     "metadata": {
      "needs_background": "light"
     },
     "output_type": "display_data"
    },
    {
     "data": {
      "text/plain": "<Figure size 243.2x268.8 with 1 Axes>",
      "image/png": "[encoded data removed]"
     },
     "metadata": {
      "needs_background": "light"
     },
     "output_type": "display_data"
    }
   ],
   "source": [
    "with mpl.rc_context({'figure.dpi': 128}):\n",
    "    _, c.test_sizes = plot_c_classes(test_pairs)\n",
    "    fig = small_style_cclasses(\n",
    "        test_pairs, 'test pairs', ccify=False, clabels=True)\n",
    "fig.savefig(f'test_cclasses.svg')"
   ],
   "metadata": {
    "collapsed": false
   }
  },
  {
   "cell_type": "markdown",
   "metadata": {},
   "source": [
    "#### save"
   ]
  },
  {
   "cell_type": "code",
   "execution_count": 383,
   "metadata": {
    "collapsed": false,
    "jupyter": {
     "outputs_hidden": false
    }
   },
   "outputs": [
    {
     "data": {
      "text/plain": "PosixPath('huri_test.tsv')"
     },
     "execution_count": 383,
     "metadata": {},
     "output_type": "execute_result"
    }
   ],
   "source": [
    "if not (bak := c.test_tsv.with_suffix('.tsv.bak')).is_file():\n",
    "    shutil.move(c.test_tsv, bak)\n",
    "test_pairs.to_csv(c.test_tsv, sep='\\t', header=True, index=False)\n",
    "c.test_tsv"
   ]
  },
  {
   "cell_type": "markdown",
   "metadata": {},
   "source": [
    "---"
   ]
  },
  {
   "cell_type": "code",
   "execution_count": 384,
   "metadata": {
    "collapsed": false,
    "jupyter": {
     "outputs_hidden": false
    }
   },
   "outputs": [
    {
     "name": "stdout",
     "output_type": "stream",
     "text": [
      "{\n",
      "  \"keep_human\": false,\n",
      "  \"keep_interspecies\": false,\n",
      "  \"accept_homodimers\": false,\n",
      "  \"add_proteomes\": true,\n",
      "  \"slurm\": true,\n",
      "  \"slurm_node_limit\": 15,\n",
      "  \"rostclust\": \"/home/k/kaindll/mambaforge/envs/ppi/bin/rostclust\",\n",
      "  \"cwd\": \"/home/k/kaindll/ppi/ppi_data/results/8003\",\n",
      "  \"ap\": \"apid\",\n",
      "  \"hp\": \"huri\",\n",
      "  \"qp\": \"apid_q1\",\n",
      "  \"pp\": \"swissprot\",\n",
      "  \"ip\": \"apid_isp\",\n",
      "  \"dp\": \"homodimers\",\n",
      "  \"min_seq_len\": 50,\n",
      "  \"max_seq_len\": 1000,\n",
      "  \"hval_config\": {\n",
      "    \"shortAlignmentLen\": 50,\n",
      "    \"longSeqLen\": 180,\n",
      "    \"reduceRandomAlign\": false,\n",
      "    \"clusterThreshold\": 20\n",
      "  },\n",
      "  \"hval_config_path\": \"hval_config.json\",\n",
      "  \"seed\": 72,\n",
      "  \"ratio\": 1.0,\n",
      "  \"strategy\": 1,\n",
      "  \"val_set_size\": 0.1,\n",
      "  \"val_species\": [\n",
      "    9031,\n",
      "    10377,\n",
      "    39947,\n",
      "    7955,\n",
      "    224308,\n",
      "    9913,\n",
      "    10299\n",
      "  ],\n",
      "  \"train_species\": [\n",
      "    10116,\n",
      "    83333,\n",
      "    36329,\n",
      "    10090,\n",
      "    85962,\n",
      "    284812,\n",
      "    243276,\n",
      "    37296\n",
      "  ],\n",
      "  \"test_species\": [],\n",
      "  \"val_raw_fasta\": \"apid/apid_validation_raw.fasta\",\n",
      "  \"val_raw_tsv\": \"apid/apid_validation_raw.tsv\",\n",
      "  \"val_rr_fasta\": \"apid/apid_validation_rr.fasta\",\n",
      "  \"val_rr_tsv\": \"apid/apid_validation_rr.tsv\",\n",
      "  \"val_c3_fasta\": \"apid/apid_validation_c3.fasta\",\n",
      "  \"val_fasta\": \"apid_validation.fasta\",\n",
      "  \"val_tsv\": \"apid_validation.tsv\",\n",
      "  \"test_raw_fasta\": \"huri/huri_test_raw.fasta\",\n",
      "  \"test_raw_tsv\": \"huri/huri_test_raw.tsv\",\n",
      "  \"test_nr_fasta\": \"huri/huri_test_nr.fasta\",\n",
      "  \"test_rr_fasta\": \"huri/huri_test_rr.fasta\",\n",
      "  \"test_rr_tsv\": \"huri/huri_test_rr.tsv\",\n",
      "  \"test_c3_fasta\": \"huri/huri_test_c3.fasta\",\n",
      "  \"test_fasta\": \"huri_test.fasta\",\n",
      "  \"test_tsv\": \"huri_test.tsv\",\n",
      "  \"train_tsv\": \"apid_train.tsv\",\n",
      "  \"train_fasta\": \"apid_train.fasta\",\n",
      "  \"train_raw_fasta\": \"apid/apid_train_raw.fasta\",\n",
      "  \"train_raw_tsv\": \"apid/apid_train_raw.tsv\",\n",
      "  \"train_proteome\": \"train_proteome.json\",\n",
      "  \"val_proteome\": \"val_proteome.json\",\n",
      "  \"test_proteome\": \"test_proteome.json\",\n",
      "  \"weird_species\": [],\n",
      "  \"train_bias\": {\n",
      "    \"10090\": 1.0,\n",
      "    \"10116\": 0.9996692635603924,\n",
      "    \"36329\": 0.9999999999999999,\n",
      "    \"37296\": 0.9306209519030342,\n",
      "    \"83333\": 1.0,\n",
      "    \"85962\": 0.9999999999999999,\n",
      "    \"243276\": 0.998456895775992,\n",
      "    \"284812\": 0.9999053383076401\n",
      "  },\n",
      "  \"train_seqs\": 8565,\n",
      "  \"train_extra\": 163,\n",
      "  \"train_size\": 31362,\n",
      "  \"test_seqs\": 430,\n",
      "  \"test_extra\": 0,\n",
      "  \"val_seqs\": 818,\n",
      "  \"val_extra\": 76,\n",
      "  \"val_bias\": {\n",
      "    \"7955\": 0.9841709051542256,\n",
      "    \"9031\": 1.0,\n",
      "    \"9913\": 0.9948718484821277,\n",
      "    \"10299\": 1.0,\n",
      "    \"10377\": 0.9280132418225782,\n",
      "    \"39947\": 0.9955464626248306,\n",
      "    \"224308\": 0.9990031143847196\n",
      "  },\n",
      "  \"val_size\": 2416,\n",
      "  \"val_sizes\": {\n",
      "    \"1\": \"73\",\n",
      "    \"2\": \"417\",\n",
      "    \"3\": \"694\"\n",
      "  },\n",
      "  \"test_bias\": 1.0,\n",
      "  \"test_size\": 1332,\n",
      "  \"test_sizes\": {\n",
      "    \"1\": \"78\",\n",
      "    \"2\": \"282\",\n",
      "    \"3\": \"306\"\n",
      "  },\n",
      "  \"isp_sizes\": {},\n",
      "  \"isp_raw_fasta\": \"apid_isp/apid_interspecies_raw.fasta\",\n",
      "  \"isp_raw_tsv\": \"apid_isp/apid_interspecies_raw.tsv\",\n",
      "  \"isp_nr_fasta\": \"apid_isp/apid_interspecies_nr_val.fasta\",\n",
      "  \"isp_rr_fasta\": \"apid_isp/apid_interspecies_rr_val.fasta\",\n",
      "  \"isp_rr_tsv\": \"apid_isp/apid_interspecies_rr_val.tsv\",\n",
      "  \"isp_c3_fasta\": \"apid_isp/apid_interspecies_c3.fasta\",\n",
      "  \"isp_fasta\": \"apid_isp/apid_interspecies.fasta\",\n",
      "  \"isp_tsv\": \"apid_isp/apid_interspecies.tsv\",\n",
      "  \"hd_raw_fasta\": \"homodimers/homodimer_raw.fasta\",\n",
      "  \"hd_raw_tsv\": \"homodimers/homodimer_raw.tsv\",\n",
      "  \"hd_nr_fasta\": \"homodimers/homodimer_nr_val.fasta\",\n",
      "  \"hd_rr_fasta\": \"homodimers/homodimer_rr_val.fasta\",\n",
      "  \"hd_rr_tsv\": \"homodimers/homodimer_rr_val.tsv\",\n",
      "  \"hd_c3_fasta\": \"homodimers/homodimer_c3.fasta\",\n",
      "  \"hd_fasta\": \"homodimers/homodimer.fasta\",\n",
      "  \"hd_tsv\": \"homodimers/homodimer.tsv\"\n",
      "}\n"
     ]
    }
   ],
   "source": [
    "with Path(f'cfg.json').open('w') as json_file:\n",
    "    json_file.write(c.to_json(indent=2))\n",
    "print(c.to_json(indent=2))"
   ]
  },
  {
   "cell_type": "markdown",
   "metadata": {},
   "source": [
    "---"
   ]
  },
  {
   "cell_type": "code",
   "execution_count": 385,
   "outputs": [],
   "source": [
    "# _ = plot_test_ratios(test_pairs, c.ratio)"
   ],
   "metadata": {
    "collapsed": false
   }
  },
  {
   "cell_type": "code",
   "execution_count": 386,
   "metadata": {},
   "outputs": [],
   "source": [
    "with (c.hp / 'huri.json').open('r') as json_file:\n",
    "    json_hashes = {k: v for k, v in json.load(json_file).items() if v in test_seqs.keys()}\n",
    "with (c.ap / 'apid.json').open('r') as json_file:\n",
    "    json_hashes.update({k: v for k, v in json.load(json_file).items()\n",
    "                        if v in train_seqs.keys() | val_seqs.keys()})"
   ]
  },
  {
   "cell_type": "code",
   "execution_count": 387,
   "metadata": {},
   "outputs": [],
   "source": [
    "pd.DataFrame(((k, v) for k, v in json_hashes.items())).to_csv(\n",
    "    'crc_hashes.tsv', sep='\\t', index=False, header=False)"
   ]
  },
  {
   "cell_type": "code",
   "execution_count": 148,
   "metadata": {},
   "outputs": [],
   "source": []
  },
  {
   "cell_type": "code",
   "execution_count": 149,
   "metadata": {},
   "outputs": [
    {
     "data": {
      "text/plain": "                    hash_A                hash_B  species  label  cclass\n1175  CRC-12077214EFED46D0  CRC-D240057BE5465AE7     7955      0       3\n1180  CRC-26059435E7469867  CRC-6B3DF125B7AAA830     7955      0       3\n1186  CRC-3C2B34E5D57C332C  CRC-3C5E4EDDF27EACFF     7955      0       3\n1188  CRC-3C5E4EDDF27EACFF  CRC-B5137544D394ED58     7955      0       3\n1192  CRC-3C5E4EDDF27EACFF  CRC-FD55AE4BFE04823C     7955      0       3\n...                    ...                   ...      ...    ...     ...\n2380  CRC-62AD6CA7294E1FAA  CRC-707DAEC473FA747D   224308      0       3\n2381  CRC-62AD6CA7294E1FAA  CRC-55C8F04CD703FC2B   224308      0       3\n2385  CRC-CC33F6E2711A000A  CRC-0105FB280E83BC69   224308      0       3\n2386  CRC-CEF1D94A0F4A49C9  CRC-63426BF3BC9D5B3A   224308      0       3\n2388  CRC-E8BB53B7A3B81AEA  CRC-D019B4543C2D9670   224308      0       3\n\n[563 rows x 5 columns]",
      "text/html": "<div>\n<style scoped>\n    .dataframe tbody tr th:only-of-type {\n        vertical-align: middle;\n    }\n\n    .dataframe tbody tr th {\n        vertical-align: top;\n    }\n\n    .dataframe thead th {\n        text-align: right;\n    }\n</style>\n<table border=\"1\" class=\"dataframe\">\n  <thead>\n    <tr style=\"text-align: right;\">\n      <th></th>\n      <th>hash_A</th>\n      <th>hash_B</th>\n      <th>species</th>\n      <th>label</th>\n      <th>cclass</th>\n    </tr>\n  </thead>\n  <tbody>\n    <tr>\n      <th>1175</th>\n      <td>CRC-12077214EFED46D0</td>\n      <td>CRC-D240057BE5465AE7</td>\n      <td>7955</td>\n      <td>0</td>\n      <td>3</td>\n    </tr>\n    <tr>\n      <th>1180</th>\n      <td>CRC-26059435E7469867</td>\n      <td>CRC-6B3DF125B7AAA830</td>\n      <td>7955</td>\n      <td>0</td>\n      <td>3</td>\n    </tr>\n    <tr>\n      <th>1186</th>\n      <td>CRC-3C2B34E5D57C332C</td>\n      <td>CRC-3C5E4EDDF27EACFF</td>\n      <td>7955</td>\n      <td>0</td>\n      <td>3</td>\n    </tr>\n    <tr>\n      <th>1188</th>\n      <td>CRC-3C5E4EDDF27EACFF</td>\n      <td>CRC-B5137544D394ED58</td>\n      <td>7955</td>\n      <td>0</td>\n      <td>3</td>\n    </tr>\n    <tr>\n      <th>1192</th>\n      <td>CRC-3C5E4EDDF27EACFF</td>\n      <td>CRC-FD55AE4BFE04823C</td>\n      <td>7955</td>\n      <td>0</td>\n      <td>3</td>\n    </tr>\n    <tr>\n      <th>...</th>\n      <td>...</td>\n      <td>...</td>\n      <td>...</td>\n      <td>...</td>\n      <td>...</td>\n    </tr>\n    <tr>\n      <th>2380</th>\n      <td>CRC-62AD6CA7294E1FAA</td>\n      <td>CRC-707DAEC473FA747D</td>\n      <td>224308</td>\n      <td>0</td>\n      <td>3</td>\n    </tr>\n    <tr>\n      <th>2381</th>\n      <td>CRC-62AD6CA7294E1FAA</td>\n      <td>CRC-55C8F04CD703FC2B</td>\n      <td>224308</td>\n      <td>0</td>\n      <td>3</td>\n    </tr>\n    <tr>\n      <th>2385</th>\n      <td>CRC-CC33F6E2711A000A</td>\n      <td>CRC-0105FB280E83BC69</td>\n      <td>224308</td>\n      <td>0</td>\n      <td>3</td>\n    </tr>\n    <tr>\n      <th>2386</th>\n      <td>CRC-CEF1D94A0F4A49C9</td>\n      <td>CRC-63426BF3BC9D5B3A</td>\n      <td>224308</td>\n      <td>0</td>\n      <td>3</td>\n    </tr>\n    <tr>\n      <th>2388</th>\n      <td>CRC-E8BB53B7A3B81AEA</td>\n      <td>CRC-D019B4543C2D9670</td>\n      <td>224308</td>\n      <td>0</td>\n      <td>3</td>\n    </tr>\n  </tbody>\n</table>\n<p>563 rows × 5 columns</p>\n</div>"
     },
     "execution_count": 149,
     "metadata": {},
     "output_type": "execute_result"
    }
   ],
   "source": [
    "val_pairs.loc[(val_pairs.label == 0) & (val_pairs.cclass == 3)]"
   ]
  },
  {
   "cell_type": "code",
   "execution_count": 149,
   "metadata": {},
   "outputs": [],
   "source": []
  },
  {
   "cell_type": "code",
   "execution_count": 150,
   "outputs": [
    {
     "ename": "DeprecationWarning",
     "evalue": "Proteins by themselves do not have a C123 class but are assigned one here! PPIs belong to a class.",
     "output_type": "error",
     "traceback": [
      "\u001B[0;31m---------------------------------------------------------------------------\u001B[0m",
      "\u001B[0;31mDeprecationWarning\u001B[0m                        Traceback (most recent call last)",
      "Input \u001B[0;32mIn [150]\u001B[0m, in \u001B[0;36m<cell line: 1>\u001B[0;34m()\u001B[0m\n\u001B[0;32m----> 1\u001B[0m _ \u001B[38;5;241m=\u001B[39m \u001B[43mplot_test_ratios\u001B[49m\u001B[43m(\u001B[49m\u001B[43mtest_pairs\u001B[49m\u001B[43m,\u001B[49m\u001B[43m \u001B[49m\u001B[43mc\u001B[49m\u001B[38;5;241;43m.\u001B[39;49m\u001B[43mratio\u001B[49m\u001B[43m)\u001B[49m\n",
      "File \u001B[0;32m~/mambaforge/envs/ppi/lib/python3.10/contextlib.py:79\u001B[0m, in \u001B[0;36mContextDecorator.__call__.<locals>.inner\u001B[0;34m(*args, **kwds)\u001B[0m\n\u001B[1;32m     76\u001B[0m \u001B[38;5;129m@wraps\u001B[39m(func)\n\u001B[1;32m     77\u001B[0m \u001B[38;5;28;01mdef\u001B[39;00m \u001B[38;5;21minner\u001B[39m(\u001B[38;5;241m*\u001B[39margs, \u001B[38;5;241m*\u001B[39m\u001B[38;5;241m*\u001B[39mkwds):\n\u001B[1;32m     78\u001B[0m     \u001B[38;5;28;01mwith\u001B[39;00m \u001B[38;5;28mself\u001B[39m\u001B[38;5;241m.\u001B[39m_recreate_cm():\n\u001B[0;32m---> 79\u001B[0m         \u001B[38;5;28;01mreturn\u001B[39;00m \u001B[43mfunc\u001B[49m\u001B[43m(\u001B[49m\u001B[38;5;241;43m*\u001B[39;49m\u001B[43margs\u001B[49m\u001B[43m,\u001B[49m\u001B[43m \u001B[49m\u001B[38;5;241;43m*\u001B[39;49m\u001B[38;5;241;43m*\u001B[39;49m\u001B[43mkwds\u001B[49m\u001B[43m)\u001B[49m\n",
      "File \u001B[0;32m~/ppi/ppi_utils/plot.py:574\u001B[0m, in \u001B[0;36mplot_test_ratios\u001B[0;34m(test_all, ratio, flip)\u001B[0m\n\u001B[1;32m    572\u001B[0m ax2.legend(frameon=False)\n\u001B[1;32m    573\u001B[0m fig.subplots_adjust(hspace=.2 if flip else .05, wspace=.2 if flip else .1)\n\u001B[0;32m--> 574\u001B[0m # fig.tight_layout()\n\u001B[1;32m    575\u001B[0m raise DeprecationWarning('Proteins by themselves do not have a C123 '\n\u001B[1;32m    576\u001B[0m                          'class but are assigned one here! '\n\u001B[1;32m    577\u001B[0m                          'PPIs belong to a class.')\n\u001B[1;32m    578\u001B[0m return fig\n",
      "\u001B[0;31mDeprecationWarning\u001B[0m: Proteins by themselves do not have a C123 class but are assigned one here! PPIs belong to a class."
     ]
    },
    {
     "data": {
      "text/plain": "<Figure size 800x300 with 3 Axes>",
      "image/png": "[encoded data removed]"
     },
     "metadata": {},
     "output_type": "display_data"
    }
   ],
   "source": [
    "_ = plot_test_ratios(test_pairs, c.ratio)"
   ],
   "metadata": {
    "collapsed": false
   }
  },
  {
   "cell_type": "code",
   "execution_count": null,
   "outputs": [],
   "source": [],
   "metadata": {
    "collapsed": false
   }
  }
 ],
 "metadata": {
  "kernelspec": {
   "display_name": "Python 3 (ipykernel)",
   "language": "python",
   "name": "python3"
  },
  "language_info": {
   "codemirror_mode": {
    "name": "ipython",
    "version": 3
   },
   "file_extension": ".py",
   "mimetype": "text/x-python",
   "name": "python",
   "nbconvert_exporter": "python",
   "pygments_lexer": "ipython3",
   "version": "3.10.4"
  }
 },
 "nbformat": 4,
 "nbformat_minor": 4
}
