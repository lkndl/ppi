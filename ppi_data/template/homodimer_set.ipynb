{
 "cells": [
  {
   "cell_type": "markdown",
   "source": [
    "# Generate a homodimer test set from [APID](http://cicblade.dep.usal.es:8080/APID/init.action)\n",
    "#### boilerplate"
   ],
   "metadata": {
    "collapsed": false
   }
  },
  {
   "cell_type": "code",
   "execution_count": 1,
   "outputs": [],
   "source": [
    "from __future__ import annotations\n",
    "\n",
    "import os\n",
    "import sys\n",
    "import shutil\n",
    "import importlib\n",
    "\n",
    "from pathlib import Path\n",
    "\n",
    "from dataclasses import dataclass, field\n",
    "\n",
    "import numpy as np\n",
    "import pandas as pd\n",
    "from dataclass_wizard import JSONWizard"
   ],
   "metadata": {
    "collapsed": false
   }
  },
  {
   "cell_type": "markdown",
   "source": [
    "Mess around with paths because I'm running this a few times on different systems."
   ],
   "metadata": {
    "collapsed": false
   }
  },
  {
   "cell_type": "code",
   "execution_count": 2,
   "outputs": [
    {
     "name": "stdout",
     "output_type": "stream",
     "text": [
      "/home/k/kaindll/mambaforge/envs/ppi/bin/python\r\n",
      "/home/k/kaindll\r\n"
     ]
    }
   ],
   "source": [
    "!which python\n",
    "!pwd"
   ],
   "metadata": {
    "collapsed": false
   }
  },
  {
   "cell_type": "code",
   "execution_count": 3,
   "outputs": [
    {
     "data": {
      "text/plain": "'/home/k/kaindll/ppi'"
     },
     "execution_count": 3,
     "metadata": {},
     "output_type": "execute_result"
    }
   ],
   "source": [
    "if 'kaindl' in str(cwd := Path.cwd()):\n",
    "    cwd = Path('/home/k/kaindll/ppi/data/ppi_dataset/template')\n",
    "package_root = str(cwd.parents[2])\n",
    "if package_root not in sys.path:\n",
    "    sys.path.append(package_root)\n",
    "package_root"
   ],
   "metadata": {
    "collapsed": false
   }
  },
  {
   "cell_type": "code",
   "execution_count": 4,
   "outputs": [
    {
     "name": "stdout",
     "output_type": "stream",
     "text": [
      "/home/k/kaindll/ppi/data/ppi_dataset/results/7082\r\n"
     ]
    }
   ],
   "source": [
    "session = '7082'\n",
    "session_dir = cwd.parent / 'results' / session\n",
    "\n",
    "assert session_dir.is_dir(), 'use on a previously generated dataset!'\n",
    "os.chdir(session_dir.resolve())\n",
    "!pwd"
   ],
   "metadata": {
    "collapsed": false
   }
  },
  {
   "cell_type": "code",
   "execution_count": 5,
   "outputs": [],
   "source": [
    "from ppi_utils.cfg import Config, SamplingStrategy\n",
    "from ppi_utils import api, extract, general, pairs, plot, reduce, proteome\n",
    "\n",
    "from ppi_utils.api import *\n",
    "from ppi_utils.extract import *\n",
    "from ppi_utils.general import *\n",
    "from ppi_utils.pairs import *\n",
    "from ppi_utils.plot import *\n",
    "from ppi_utils.reduce import *\n",
    "from ppi_utils.proteome import *"
   ],
   "metadata": {
    "collapsed": false
   }
  },
  {
   "cell_type": "markdown",
   "source": [
    "#### config\n",
    "These are the somewhat relevant settings. Have a look!"
   ],
   "metadata": {
    "collapsed": false
   }
  },
  {
   "cell_type": "code",
   "execution_count": 6,
   "outputs": [],
   "source": [
    "\n",
    "@dataclass\n",
    "class Params(JSONWizard):\n",
    "    class _(JSONWizard.Meta):\n",
    "        key_transform_with_dump = 'SNAKE'\n",
    "\n",
    "    keep_human: bool = False\n",
    "    keep_interspecies: bool = False\n",
    "    accept_homodimers: bool = False\n",
    "    add_proteomes: bool = True\n",
    "    slurm: bool = all(shutil.which(t) for t in ('snakemake', 'sbatch'))\n",
    "    slurm_node_limit: int = 15\n",
    "    rostclust: bool = shutil.which('rostclust')\n",
    "\n",
    "    min_seq_len: int = 50\n",
    "    max_seq_len: int = 1500\n",
    "\n",
    "    seed: int = 42\n",
    "    ratio: float = 4.0\n",
    "    strategy: SamplingStrategy = SamplingStrategy.BALANCED\n",
    "\n",
    "    val_set_size: float = .1\n",
    "    val_species: set[str] = field(default_factory=set)\n",
    "\n",
    "\n",
    "hval_config = dict(shortAlignmentLen=50,\n",
    "                   longSeqLen=180,\n",
    "                   reduceRandomAlign=False,\n",
    "                   clusterThreshold=20)\n",
    "\n",
    "val_species = set()\n",
    "# {237561, 37296, 9031, 8355, 9913, 7955, 39947, 10116, 36329, 224308}\n",
    "train_species = set()  # select only this subset\n",
    "params = Params()"
   ],
   "metadata": {
    "collapsed": false
   }
  },
  {
   "cell_type": "markdown",
   "source": [
    "The detour below is meant to keep the class definition above short, and the `Config` class importable from other modules."
   ],
   "metadata": {
    "collapsed": false
   }
  },
  {
   "cell_type": "code",
   "execution_count": 7,
   "outputs": [],
   "source": [
    "c = Config(\n",
    "    **params.to_dict() | dict(\n",
    "        hval_config=hval_config, val_species=val_species, train_species=train_species,\n",
    "        cwd=session_dir, strategy=params.strategy\n",
    "    ))"
   ],
   "metadata": {
    "collapsed": false
   }
  },
  {
   "cell_type": "markdown",
   "source": [
    "#### importlib\n",
    "For development, it's nice to be able to edit the imported modules."
   ],
   "metadata": {
    "collapsed": false
   }
  },
  {
   "cell_type": "code",
   "execution_count": 8,
   "outputs": [],
   "source": [
    "importlib.reload(api)\n",
    "importlib.reload(extract)\n",
    "importlib.reload(general)\n",
    "importlib.reload(pairs)\n",
    "importlib.reload(plot)\n",
    "importlib.reload(reduce)\n",
    "importlib.reload(proteome)\n",
    "\n",
    "from ppi_utils.api import *\n",
    "from ppi_utils.extract import *\n",
    "from ppi_utils.general import *\n",
    "from ppi_utils.pairs import *\n",
    "from ppi_utils.plot import *\n",
    "from ppi_utils.reduce import *\n",
    "from ppi_utils.proteome import *"
   ],
   "metadata": {
    "collapsed": false
   }
  },
  {
   "cell_type": "code",
   "execution_count": 9,
   "outputs": [
    {
     "data": {
      "text/plain": "PosixPath('homodimers/proteomes')"
     },
     "execution_count": 9,
     "metadata": {},
     "output_type": "execute_result"
    }
   ],
   "source": [
    "# maybe fix this!\n",
    "c.pp = c.dp / 'proteomes'\n",
    "c.pp.mkdir(parents=True, exist_ok=True)\n",
    "c.pp"
   ],
   "metadata": {
    "collapsed": false
   }
  },
  {
   "cell_type": "markdown",
   "source": [
    "#### Create homodimer set\n",
    "#### APID"
   ],
   "metadata": {
    "collapsed": false
   }
  },
  {
   "cell_type": "code",
   "execution_count": 10,
   "outputs": [],
   "source": [
    "ppis = extract_apid_ppis(c.qp)\n",
    "assert len(ppis) == 161598"
   ],
   "metadata": {
    "collapsed": false
   }
  },
  {
   "cell_type": "code",
   "execution_count": 11,
   "outputs": [],
   "source": [
    "hash_ppis = ppis_to_hashes(ppis, c.ap / 'apid.json').drop_duplicates()\n",
    "assert len(hash_ppis) == 160568"
   ],
   "metadata": {
    "collapsed": false
   }
  },
  {
   "cell_type": "code",
   "execution_count": 12,
   "outputs": [],
   "source": [
    "sp_lookup = ppis_to_sp_lookup(hash_ppis)"
   ],
   "metadata": {
    "collapsed": false
   }
  },
  {
   "cell_type": "code",
   "execution_count": 13,
   "outputs": [
    {
     "data": {
      "text/plain": "                     hash_A                hash_B  species\n6394   CRC-000D39D2EDD7E4E7  CRC-000D39D2EDD7E4E7     3702\n1250   CRC-003617E73298544F  CRC-003617E73298544F     3702\n4867   CRC-00455F120CB9C22A  CRC-00455F120CB9C22A     6239\n18261  CRC-004EA3E702332905  CRC-004EA3E702332905   559292\n18275  CRC-004EB2E702222905  CRC-004EB2E702222905   559292\n...                     ...                   ...      ...\n18251  CRC-FF934DE2F5145C40  CRC-FF934DE2F5145C40   559292\n39372  CRC-FFBCCA1474839B88  CRC-FFBCCA1474839B88     3702\n529    CRC-FFCDDDB266F2A3DB  CRC-FFCDDDB266F2A3DB   224308\n42406  CRC-FFD7E9C734D89D19  CRC-FFD7E9C734D89D19     3702\n39880  CRC-FFD88A41994AFF86  CRC-FFD88A41994AFF86     3702\n\n[4353 rows x 3 columns]",
      "text/html": "<div>\n<style scoped>\n    .dataframe tbody tr th:only-of-type {\n        vertical-align: middle;\n    }\n\n    .dataframe tbody tr th {\n        vertical-align: top;\n    }\n\n    .dataframe thead th {\n        text-align: right;\n    }\n</style>\n<table border=\"1\" class=\"dataframe\">\n  <thead>\n    <tr style=\"text-align: right;\">\n      <th></th>\n      <th>hash_A</th>\n      <th>hash_B</th>\n      <th>species</th>\n    </tr>\n  </thead>\n  <tbody>\n    <tr>\n      <th>6394</th>\n      <td>CRC-000D39D2EDD7E4E7</td>\n      <td>CRC-000D39D2EDD7E4E7</td>\n      <td>3702</td>\n    </tr>\n    <tr>\n      <th>1250</th>\n      <td>CRC-003617E73298544F</td>\n      <td>CRC-003617E73298544F</td>\n      <td>3702</td>\n    </tr>\n    <tr>\n      <th>4867</th>\n      <td>CRC-00455F120CB9C22A</td>\n      <td>CRC-00455F120CB9C22A</td>\n      <td>6239</td>\n    </tr>\n    <tr>\n      <th>18261</th>\n      <td>CRC-004EA3E702332905</td>\n      <td>CRC-004EA3E702332905</td>\n      <td>559292</td>\n    </tr>\n    <tr>\n      <th>18275</th>\n      <td>CRC-004EB2E702222905</td>\n      <td>CRC-004EB2E702222905</td>\n      <td>559292</td>\n    </tr>\n    <tr>\n      <th>...</th>\n      <td>...</td>\n      <td>...</td>\n      <td>...</td>\n    </tr>\n    <tr>\n      <th>18251</th>\n      <td>CRC-FF934DE2F5145C40</td>\n      <td>CRC-FF934DE2F5145C40</td>\n      <td>559292</td>\n    </tr>\n    <tr>\n      <th>39372</th>\n      <td>CRC-FFBCCA1474839B88</td>\n      <td>CRC-FFBCCA1474839B88</td>\n      <td>3702</td>\n    </tr>\n    <tr>\n      <th>529</th>\n      <td>CRC-FFCDDDB266F2A3DB</td>\n      <td>CRC-FFCDDDB266F2A3DB</td>\n      <td>224308</td>\n    </tr>\n    <tr>\n      <th>42406</th>\n      <td>CRC-FFD7E9C734D89D19</td>\n      <td>CRC-FFD7E9C734D89D19</td>\n      <td>3702</td>\n    </tr>\n    <tr>\n      <th>39880</th>\n      <td>CRC-FFD88A41994AFF86</td>\n      <td>CRC-FFD88A41994AFF86</td>\n      <td>3702</td>\n    </tr>\n  </tbody>\n</table>\n<p>4353 rows × 3 columns</p>\n</div>"
     },
     "execution_count": 13,
     "metadata": {},
     "output_type": "execute_result"
    }
   ],
   "source": [
    "hash_ppis = hash_ppis.loc[hash_ppis.hash_A == hash_ppis.hash_B].copy()\n",
    "hash_ppis"
   ],
   "metadata": {
    "collapsed": false
   }
  },
  {
   "cell_type": "code",
   "execution_count": 14,
   "outputs": [
    {
     "data": {
      "text/plain": "44707"
     },
     "execution_count": 14,
     "metadata": {},
     "output_type": "execute_result"
    }
   ],
   "source": [
    "apid_seqs = SeqIO.to_dict(SeqIO.parse(c.ap / 'apid.hash.fasta', 'fasta'))\n",
    "len(apid_seqs)"
   ],
   "metadata": {
    "collapsed": false
   }
  },
  {
   "cell_type": "code",
   "execution_count": 15,
   "outputs": [
    {
     "name": "stdout",
     "output_type": "stream",
     "text": [
      "dropped 104/4353 PPIs from length filtering\n",
      "dropped 0/4248 table IDs and 0/4249 rows, and 40459/44707 sequence IDs\n"
     ]
    },
    {
     "data": {
      "text/plain": "<Figure size 576x201.6 with 3 Axes>",
      "image/png": "[encoded data removed]"
     },
     "metadata": {
      "needs_background": "light"
     },
     "output_type": "display_data"
    }
   ],
   "source": [
    "hash_ppis, hash_seqs, _ = filter_ppis_and_fasta_by_len(\n",
    "    hash_ppis, apid_seqs, c.min_seq_len, c.max_seq_len)"
   ],
   "metadata": {
    "collapsed": false
   }
  },
  {
   "cell_type": "code",
   "execution_count": 16,
   "outputs": [
    {
     "data": {
      "text/plain": "(4248, 4248, 44707)"
     },
     "execution_count": 16,
     "metadata": {},
     "output_type": "execute_result"
    }
   ],
   "source": [
    "len(hash_seqs), len(np.unique(hash_ppis.iloc[:, [0, 1]])), len(apid_seqs)"
   ],
   "metadata": {
    "collapsed": false
   }
  },
  {
   "cell_type": "markdown",
   "source": [
    "#### HuRI"
   ],
   "metadata": {
    "collapsed": false
   }
  },
  {
   "cell_type": "code",
   "execution_count": 17,
   "outputs": [],
   "source": [
    "huri_ppis, huri_seq_ids = extract_huri_ppis(c.psi_path)\n",
    "assert len(huri_ppis) == 97888"
   ],
   "metadata": {
    "collapsed": false
   }
  },
  {
   "cell_type": "code",
   "execution_count": 18,
   "outputs": [],
   "source": [
    "huri_hash_ppis = ppis_to_hashes(huri_ppis, c.hp / 'huri.json')\n",
    "assert len(huri_hash_ppis) == 62559"
   ],
   "metadata": {
    "collapsed": false
   }
  },
  {
   "cell_type": "code",
   "execution_count": 19,
   "outputs": [],
   "source": [
    "sp_lookup.update(ppis_to_sp_lookup(huri_hash_ppis))"
   ],
   "metadata": {
    "collapsed": false
   }
  },
  {
   "cell_type": "code",
   "execution_count": 20,
   "outputs": [
    {
     "data": {
      "text/plain": "                     hash_A                hash_B  species\n52871  CRC-002993EA6B0E4546  CRC-002993EA6B0E4546     9606\n8496   CRC-003246D7C1D16723  CRC-003246D7C1D16723     9606\n37350  CRC-00E417623E5287C6  CRC-00E417623E5287C6     9606\n9995   CRC-02B583414DD59C20  CRC-02B583414DD59C20     9606\n68825  CRC-02B5B13429A59CAA  CRC-02B5B13429A59CAA     9606\n...                     ...                   ...      ...\n10819  CRC-FEE7DA7A6E02B08E  CRC-FEE7DA7A6E02B08E     9606\n11693  CRC-FEF75640A29CCF56  CRC-FEF75640A29CCF56     9606\n7555   CRC-FF13DDD5EBE47754  CRC-FF13DDD5EBE47754     9606\n6618   CRC-FF37329A50FFB4E7  CRC-FF37329A50FFB4E7     9606\n38610  CRC-FF9829CB52314DD2  CRC-FF9829CB52314DD2     9606\n\n[758 rows x 3 columns]",
      "text/html": "<div>\n<style scoped>\n    .dataframe tbody tr th:only-of-type {\n        vertical-align: middle;\n    }\n\n    .dataframe tbody tr th {\n        vertical-align: top;\n    }\n\n    .dataframe thead th {\n        text-align: right;\n    }\n</style>\n<table border=\"1\" class=\"dataframe\">\n  <thead>\n    <tr style=\"text-align: right;\">\n      <th></th>\n      <th>hash_A</th>\n      <th>hash_B</th>\n      <th>species</th>\n    </tr>\n  </thead>\n  <tbody>\n    <tr>\n      <th>52871</th>\n      <td>CRC-002993EA6B0E4546</td>\n      <td>CRC-002993EA6B0E4546</td>\n      <td>9606</td>\n    </tr>\n    <tr>\n      <th>8496</th>\n      <td>CRC-003246D7C1D16723</td>\n      <td>CRC-003246D7C1D16723</td>\n      <td>9606</td>\n    </tr>\n    <tr>\n      <th>37350</th>\n      <td>CRC-00E417623E5287C6</td>\n      <td>CRC-00E417623E5287C6</td>\n      <td>9606</td>\n    </tr>\n    <tr>\n      <th>9995</th>\n      <td>CRC-02B583414DD59C20</td>\n      <td>CRC-02B583414DD59C20</td>\n      <td>9606</td>\n    </tr>\n    <tr>\n      <th>68825</th>\n      <td>CRC-02B5B13429A59CAA</td>\n      <td>CRC-02B5B13429A59CAA</td>\n      <td>9606</td>\n    </tr>\n    <tr>\n      <th>...</th>\n      <td>...</td>\n      <td>...</td>\n      <td>...</td>\n    </tr>\n    <tr>\n      <th>10819</th>\n      <td>CRC-FEE7DA7A6E02B08E</td>\n      <td>CRC-FEE7DA7A6E02B08E</td>\n      <td>9606</td>\n    </tr>\n    <tr>\n      <th>11693</th>\n      <td>CRC-FEF75640A29CCF56</td>\n      <td>CRC-FEF75640A29CCF56</td>\n      <td>9606</td>\n    </tr>\n    <tr>\n      <th>7555</th>\n      <td>CRC-FF13DDD5EBE47754</td>\n      <td>CRC-FF13DDD5EBE47754</td>\n      <td>9606</td>\n    </tr>\n    <tr>\n      <th>6618</th>\n      <td>CRC-FF37329A50FFB4E7</td>\n      <td>CRC-FF37329A50FFB4E7</td>\n      <td>9606</td>\n    </tr>\n    <tr>\n      <th>38610</th>\n      <td>CRC-FF9829CB52314DD2</td>\n      <td>CRC-FF9829CB52314DD2</td>\n      <td>9606</td>\n    </tr>\n  </tbody>\n</table>\n<p>758 rows × 3 columns</p>\n</div>"
     },
     "execution_count": 20,
     "metadata": {},
     "output_type": "execute_result"
    }
   ],
   "source": [
    "huri_hash_ppis = huri_hash_ppis.loc[huri_hash_ppis.hash_A\n",
    "                                    == huri_hash_ppis.hash_B].copy()\n",
    "huri_hash_ppis"
   ],
   "metadata": {
    "collapsed": false
   }
  },
  {
   "cell_type": "code",
   "execution_count": 21,
   "outputs": [
    {
     "name": "stdout",
     "output_type": "stream",
     "text": [
      "loading from huri/huri.hash.fasta and huri/huri.json\n"
     ]
    },
    {
     "data": {
      "text/plain": "9119"
     },
     "execution_count": 21,
     "metadata": {},
     "output_type": "execute_result"
    }
   ],
   "source": [
    "huri_seqs, _ = fetch_huri_seqs(huri_seq_ids, c.hp / 'huri')\n",
    "len(huri_seqs)"
   ],
   "metadata": {
    "collapsed": false
   }
  },
  {
   "cell_type": "code",
   "execution_count": 22,
   "outputs": [
    {
     "name": "stdout",
     "output_type": "stream",
     "text": [
      "dropped 4/758 PPIs from length filtering\n",
      "dropped 0/754 table IDs and 0/754 rows, and 8365/9119 sequence IDs\n"
     ]
    },
    {
     "data": {
      "text/plain": "<Figure size 800x280 with 3 Axes>",
      "image/png": "[encoded data removed]"
     },
     "metadata": {
      "needs_background": "light"
     },
     "output_type": "display_data"
    }
   ],
   "source": [
    "huri_hash_ppis, huri_hash_seqs, _ = filter_ppis_and_fasta_by_len(\n",
    "    huri_hash_ppis, huri_seqs, c.min_seq_len, c.max_seq_len)"
   ],
   "metadata": {
    "collapsed": false
   }
  },
  {
   "cell_type": "code",
   "execution_count": 23,
   "outputs": [
    {
     "data": {
      "text/plain": "(754, 754, 9119)"
     },
     "execution_count": 23,
     "metadata": {},
     "output_type": "execute_result"
    }
   ],
   "source": [
    "len(huri_hash_seqs), len(np.unique(huri_hash_ppis.iloc[:, [0, 1]])), len(huri_seqs)"
   ],
   "metadata": {
    "collapsed": false
   }
  },
  {
   "cell_type": "markdown",
   "source": [
    "#### merge APID and HuRI"
   ],
   "metadata": {
    "collapsed": false
   }
  },
  {
   "cell_type": "code",
   "execution_count": 24,
   "outputs": [
    {
     "data": {
      "text/plain": "                     hash_A                hash_B  species source\n6394   CRC-000D39D2EDD7E4E7  CRC-000D39D2EDD7E4E7     3702   apid\n1250   CRC-003617E73298544F  CRC-003617E73298544F     3702   apid\n4867   CRC-00455F120CB9C22A  CRC-00455F120CB9C22A     6239   apid\n18261  CRC-004EA3E702332905  CRC-004EA3E702332905   559292   apid\n18275  CRC-004EB2E702222905  CRC-004EB2E702222905   559292   apid\n...                     ...                   ...      ...    ...\n10819  CRC-FEE7DA7A6E02B08E  CRC-FEE7DA7A6E02B08E     9606   huri\n11693  CRC-FEF75640A29CCF56  CRC-FEF75640A29CCF56     9606   huri\n7555   CRC-FF13DDD5EBE47754  CRC-FF13DDD5EBE47754     9606   huri\n6618   CRC-FF37329A50FFB4E7  CRC-FF37329A50FFB4E7     9606   huri\n38610  CRC-FF9829CB52314DD2  CRC-FF9829CB52314DD2     9606   huri\n\n[5003 rows x 4 columns]",
      "text/html": "<div>\n<style scoped>\n    .dataframe tbody tr th:only-of-type {\n        vertical-align: middle;\n    }\n\n    .dataframe tbody tr th {\n        vertical-align: top;\n    }\n\n    .dataframe thead th {\n        text-align: right;\n    }\n</style>\n<table border=\"1\" class=\"dataframe\">\n  <thead>\n    <tr style=\"text-align: right;\">\n      <th></th>\n      <th>hash_A</th>\n      <th>hash_B</th>\n      <th>species</th>\n      <th>source</th>\n    </tr>\n  </thead>\n  <tbody>\n    <tr>\n      <th>6394</th>\n      <td>CRC-000D39D2EDD7E4E7</td>\n      <td>CRC-000D39D2EDD7E4E7</td>\n      <td>3702</td>\n      <td>apid</td>\n    </tr>\n    <tr>\n      <th>1250</th>\n      <td>CRC-003617E73298544F</td>\n      <td>CRC-003617E73298544F</td>\n      <td>3702</td>\n      <td>apid</td>\n    </tr>\n    <tr>\n      <th>4867</th>\n      <td>CRC-00455F120CB9C22A</td>\n      <td>CRC-00455F120CB9C22A</td>\n      <td>6239</td>\n      <td>apid</td>\n    </tr>\n    <tr>\n      <th>18261</th>\n      <td>CRC-004EA3E702332905</td>\n      <td>CRC-004EA3E702332905</td>\n      <td>559292</td>\n      <td>apid</td>\n    </tr>\n    <tr>\n      <th>18275</th>\n      <td>CRC-004EB2E702222905</td>\n      <td>CRC-004EB2E702222905</td>\n      <td>559292</td>\n      <td>apid</td>\n    </tr>\n    <tr>\n      <th>...</th>\n      <td>...</td>\n      <td>...</td>\n      <td>...</td>\n      <td>...</td>\n    </tr>\n    <tr>\n      <th>10819</th>\n      <td>CRC-FEE7DA7A6E02B08E</td>\n      <td>CRC-FEE7DA7A6E02B08E</td>\n      <td>9606</td>\n      <td>huri</td>\n    </tr>\n    <tr>\n      <th>11693</th>\n      <td>CRC-FEF75640A29CCF56</td>\n      <td>CRC-FEF75640A29CCF56</td>\n      <td>9606</td>\n      <td>huri</td>\n    </tr>\n    <tr>\n      <th>7555</th>\n      <td>CRC-FF13DDD5EBE47754</td>\n      <td>CRC-FF13DDD5EBE47754</td>\n      <td>9606</td>\n      <td>huri</td>\n    </tr>\n    <tr>\n      <th>6618</th>\n      <td>CRC-FF37329A50FFB4E7</td>\n      <td>CRC-FF37329A50FFB4E7</td>\n      <td>9606</td>\n      <td>huri</td>\n    </tr>\n    <tr>\n      <th>38610</th>\n      <td>CRC-FF9829CB52314DD2</td>\n      <td>CRC-FF9829CB52314DD2</td>\n      <td>9606</td>\n      <td>huri</td>\n    </tr>\n  </tbody>\n</table>\n<p>5003 rows × 4 columns</p>\n</div>"
     },
     "execution_count": 24,
     "metadata": {},
     "output_type": "execute_result"
    }
   ],
   "source": [
    "hash_ppis['source'] = 'apid'\n",
    "huri_hash_ppis['source'] = 'huri'\n",
    "hash_hds = pd.concat((hash_ppis, huri_hash_ppis)).drop(\n",
    "    ['minlen', 'maxlen'], axis=1, errors='ignore')\n",
    "hash_hds"
   ],
   "metadata": {
    "collapsed": false
   }
  },
  {
   "cell_type": "code",
   "execution_count": 25,
   "outputs": [
    {
     "data": {
      "text/plain": "559292     963\n3702       781\n9606       754\n7227       416\n284812     409\n6239       393\n83333      355\n192222     204\n10090      190\n85962      134\n1111708    118\n224308      91\n10116       59\n36329       40\n243276      22\n237561      18\n39947       12\n9913         9\n7955         9\n10299        4\n2697049      4\n11706        3\n9031         3\n8355         3\n1392         2\n9986         2\n10377        2\n868565       1\n632          1\n333760       1\nName: species, dtype: int64"
     },
     "execution_count": 25,
     "metadata": {},
     "output_type": "execute_result"
    }
   ],
   "source": [
    "hash_hds.species.value_counts()"
   ],
   "metadata": {
    "collapsed": false
   }
  },
  {
   "cell_type": "markdown",
   "source": [
    "#### save"
   ],
   "metadata": {
    "collapsed": false
   }
  },
  {
   "cell_type": "code",
   "execution_count": 26,
   "outputs": [
    {
     "data": {
      "text/plain": "5001"
     },
     "execution_count": 26,
     "metadata": {},
     "output_type": "execute_result"
    }
   ],
   "source": [
    "hds_seqs = {**hash_seqs, **huri_hash_seqs}\n",
    "len(hds_seqs)"
   ],
   "metadata": {
    "collapsed": false
   }
  },
  {
   "cell_type": "code",
   "execution_count": 26,
   "outputs": [
    {
     "data": {
      "text/plain": "(PosixPath('homodimers/homodimer_raw.fasta'),\n PosixPath('homodimers/homodimer_raw.tsv'))"
     },
     "execution_count": 26,
     "metadata": {},
     "output_type": "execute_result"
    }
   ],
   "source": [
    "c.hd_raw_fasta.parent.mkdir(parents=True, exist_ok=True)\n",
    "_ = SeqIO.write(hds_seqs.values(), c.hd_raw_fasta, 'fasta')\n",
    "hash_hds.to_csv(c.hd_raw_tsv, sep='\\t', header=True, index=False)\n",
    "c.hd_raw_fasta, c.hd_raw_tsv"
   ],
   "metadata": {
    "collapsed": false
   }
  },
  {
   "cell_type": "markdown",
   "source": [
    "#### cluster"
   ],
   "metadata": {
    "collapsed": false
   }
  },
  {
   "cell_type": "code",
   "execution_count": 26,
   "outputs": [
    {
     "name": "stdout",
     "output_type": "stream",
     "text": [
      "\u001B[94mrostclust uniqueprot2d --hval-config-path hval_config.json homodimers/homodimer_raw.fasta apid_validation.fasta homodimers/homodimer_nr_val.fasta\u001B[0m\n",
      "using temporary directory homodimers/homodimer_rawp60glgbq\n",
      "generate alignments: 100%|██████████| 3/3 [00:58<00:00, 19.46s/it]\n",
      "extract hvals from alignments: 100%|██████████| 3/3 [00:00<00:00, 12.19it/s]\n",
      "\u001B[94m 4095/5001::4357 \u001B[0mnon-redundant in homodimers/homodimer_raw.fasta against apid_validation.fasta written to homodimers/homodimer_nr_val.fasta\n"
     ]
    }
   ],
   "source": [
    "# cluster against val\n",
    "run_uniqueprot2D(c.hd_raw_fasta, c.val_fasta, c.hd_nr_fasta,\n",
    "                 c.hval_config_path, not c.rostclust)"
   ],
   "metadata": {
    "collapsed": false
   }
  },
  {
   "cell_type": "code",
   "execution_count": 29,
   "outputs": [
    {
     "name": "stdout",
     "output_type": "stream",
     "text": [
      "\u001B[94mrostclust uniqueprot --hval-config-path hval_config.json homodimers/homodimer_nr_val.fasta homodimers/homodimer_rr_val.fasta\u001B[0m\n",
      "using temporary directory homodimers/homodimer_nr_valk5xvqtvh\n",
      "generate alignments: 100%|██████████| 2/2 [00:49<00:00, 24.98s/it]\n",
      "extract hvals from alignments: 100%|██████████| 2/2 [00:00<00:00,  4.53it/s]\n",
      "\u001B[94m 3172/4095 \u001B[0mnon-redundant in homodimers/homodimer_nr_val.fasta written to homodimers/homodimer_rr_val.fasta\n"
     ]
    }
   ],
   "source": [
    "# red-reduce\n",
    "run_uniqueprot(c.hd_nr_fasta, c.hd_rr_fasta,\n",
    "               c.hval_config_path, not c.rostclust)"
   ],
   "metadata": {
    "collapsed": false
   }
  },
  {
   "cell_type": "code",
   "execution_count": 27,
   "outputs": [
    {
     "name": "stdout",
     "output_type": "stream",
     "text": [
      "dropped 1829/5001 table IDs and 1831/5003 rows, and 0/3172 sequence IDs\n"
     ]
    }
   ],
   "source": [
    "# shrink\n",
    "shrink_files_both_ways(c.hd_raw_tsv, c.hd_rr_fasta, c.hd_rr_tsv, c.hd_rr_fasta)"
   ],
   "metadata": {
    "collapsed": false
   }
  },
  {
   "cell_type": "code",
   "execution_count": 27,
   "outputs": [
    {
     "data": {
      "text/plain": "                    hash_A                hash_B  species source\n0     CRC-000D39D2EDD7E4E7  CRC-000D39D2EDD7E4E7     3702   apid\n1     CRC-00455F120CB9C22A  CRC-00455F120CB9C22A     6239   apid\n2     CRC-006DFCDDBFFAE2E9  CRC-006DFCDDBFFAE2E9   559292   apid\n3     CRC-0071930DED7F41B0  CRC-0071930DED7F41B0     3702   apid\n4     CRC-0075E3A61B1CDE16  CRC-0075E3A61B1CDE16     3702   apid\n...                    ...                   ...      ...    ...\n3167  CRC-FC0EBA9B05FE9E62  CRC-FC0EBA9B05FE9E62     9606   huri\n3168  CRC-FC6CFB2250AA4FC9  CRC-FC6CFB2250AA4FC9     9606   huri\n3169  CRC-FC8F5BAE74A1FF55  CRC-FC8F5BAE74A1FF55     9606   huri\n3170  CRC-FCBB6B328EF4D515  CRC-FCBB6B328EF4D515     9606   huri\n3171  CRC-FEE7DA7A6E02B08E  CRC-FEE7DA7A6E02B08E     9606   huri\n\n[3172 rows x 4 columns]",
      "text/html": "<div>\n<style scoped>\n    .dataframe tbody tr th:only-of-type {\n        vertical-align: middle;\n    }\n\n    .dataframe tbody tr th {\n        vertical-align: top;\n    }\n\n    .dataframe thead th {\n        text-align: right;\n    }\n</style>\n<table border=\"1\" class=\"dataframe\">\n  <thead>\n    <tr style=\"text-align: right;\">\n      <th></th>\n      <th>hash_A</th>\n      <th>hash_B</th>\n      <th>species</th>\n      <th>source</th>\n    </tr>\n  </thead>\n  <tbody>\n    <tr>\n      <th>0</th>\n      <td>CRC-000D39D2EDD7E4E7</td>\n      <td>CRC-000D39D2EDD7E4E7</td>\n      <td>3702</td>\n      <td>apid</td>\n    </tr>\n    <tr>\n      <th>1</th>\n      <td>CRC-00455F120CB9C22A</td>\n      <td>CRC-00455F120CB9C22A</td>\n      <td>6239</td>\n      <td>apid</td>\n    </tr>\n    <tr>\n      <th>2</th>\n      <td>CRC-006DFCDDBFFAE2E9</td>\n      <td>CRC-006DFCDDBFFAE2E9</td>\n      <td>559292</td>\n      <td>apid</td>\n    </tr>\n    <tr>\n      <th>3</th>\n      <td>CRC-0071930DED7F41B0</td>\n      <td>CRC-0071930DED7F41B0</td>\n      <td>3702</td>\n      <td>apid</td>\n    </tr>\n    <tr>\n      <th>4</th>\n      <td>CRC-0075E3A61B1CDE16</td>\n      <td>CRC-0075E3A61B1CDE16</td>\n      <td>3702</td>\n      <td>apid</td>\n    </tr>\n    <tr>\n      <th>...</th>\n      <td>...</td>\n      <td>...</td>\n      <td>...</td>\n      <td>...</td>\n    </tr>\n    <tr>\n      <th>3167</th>\n      <td>CRC-FC0EBA9B05FE9E62</td>\n      <td>CRC-FC0EBA9B05FE9E62</td>\n      <td>9606</td>\n      <td>huri</td>\n    </tr>\n    <tr>\n      <th>3168</th>\n      <td>CRC-FC6CFB2250AA4FC9</td>\n      <td>CRC-FC6CFB2250AA4FC9</td>\n      <td>9606</td>\n      <td>huri</td>\n    </tr>\n    <tr>\n      <th>3169</th>\n      <td>CRC-FC8F5BAE74A1FF55</td>\n      <td>CRC-FC8F5BAE74A1FF55</td>\n      <td>9606</td>\n      <td>huri</td>\n    </tr>\n    <tr>\n      <th>3170</th>\n      <td>CRC-FCBB6B328EF4D515</td>\n      <td>CRC-FCBB6B328EF4D515</td>\n      <td>9606</td>\n      <td>huri</td>\n    </tr>\n    <tr>\n      <th>3171</th>\n      <td>CRC-FEE7DA7A6E02B08E</td>\n      <td>CRC-FEE7DA7A6E02B08E</td>\n      <td>9606</td>\n      <td>huri</td>\n    </tr>\n  </tbody>\n</table>\n<p>3172 rows × 4 columns</p>\n</div>"
     },
     "execution_count": 27,
     "metadata": {},
     "output_type": "execute_result"
    }
   ],
   "source": [
    "hds = pd.read_csv(c.hd_rr_tsv, sep='\\t', header=0)\n",
    "hds"
   ],
   "metadata": {
    "collapsed": false
   }
  },
  {
   "cell_type": "code",
   "execution_count": 28,
   "outputs": [
    {
     "data": {
      "text/plain": "559292     735\n3702       416\n9606       392\n284812     303\n7227       270\n6239       265\n83333      259\n192222     128\n85962      112\n10090      108\n1111708    102\n243276      19\n10116       18\n237561       9\n36329        8\n10299        4\n2697049      4\n7955         4\n224308       3\n1392         2\n11706        2\n9913         2\n10377        1\n632          1\n8355         1\n9986         1\n9031         1\n333760       1\n39947        1\nName: species, dtype: int64"
     },
     "execution_count": 28,
     "metadata": {},
     "output_type": "execute_result"
    }
   ],
   "source": [
    "c.test_species = {int(i) for i in hds.species.unique()}\n",
    "hds.species.value_counts()"
   ],
   "metadata": {
    "collapsed": false
   }
  },
  {
   "cell_type": "markdown",
   "source": [
    "#### prep extra negative candidates\n",
    "From APID and HuRI, extract sets of proteins that are not homodimers. Run it through the redundancy-reduction pipepline."
   ],
   "metadata": {
    "collapsed": false
   }
  },
  {
   "cell_type": "code",
   "execution_count": 32,
   "outputs": [
    {
     "data": {
      "text/plain": "46856"
     },
     "execution_count": 32,
     "metadata": {},
     "output_type": "execute_result"
    }
   ],
   "source": [
    "# filter out homodimers and sequences of wrong length from all proteins in our dataset\n",
    "non_hd_seqs = {k: v for k, v in {**huri_seqs, **apid_seqs}.items()\n",
    "               if k not in hds_seqs.keys() and c.min_seq_len <= len(v) <= c.max_seq_len}\n",
    "len(non_hd_seqs)"
   ],
   "metadata": {
    "collapsed": false
   }
  },
  {
   "cell_type": "code",
   "execution_count": 32,
   "outputs": [],
   "source": [
    "# write all the non-homodimer proteins to a single FASTA\n",
    "_ = SeqIO.write(non_hd_seqs.values(), c.pp / 'proteins_raw.fasta', 'fasta')"
   ],
   "metadata": {
    "collapsed": false
   }
  },
  {
   "cell_type": "code",
   "execution_count": 56,
   "outputs": [
    {
     "name": "stdout",
     "output_type": "stream",
     "text": [
      "\u001B[94mrostclust uniqueprot2d --hval-config-path hval_config.json homodimers/proteomes/proteins_raw.fasta apid_validation.fasta homodimers/proteomes/proteins_nr_val.fasta\u001B[0m\n",
      "using temporary directory homodimers/proteomes/proteins_raw3eg614oh\n",
      "generate alignments: 100%|██████████| 19/19 [09:09<00:00, 28.92s/it]\n",
      "extract hvals from alignments: 100%|██████████| 19/19 [00:02<00:00,  8.65it/s]\n",
      "\u001B[94m 39065/46856::4357 \u001B[0mnon-redundant in homodimers/proteomes/proteins_raw.fasta against apid_validation.fasta written to homodimers/proteomes/proteins_nr_val.fasta\n"
     ]
    }
   ],
   "source": [
    "# cluster against val\n",
    "run_uniqueprot2D(c.pp / 'proteins_raw.fasta',\n",
    "                 c.val_fasta, c.pp / 'proteins_nr_val.fasta',\n",
    "                 c.hval_config_path, not c.rostclust)"
   ],
   "metadata": {
    "collapsed": false
   }
  },
  {
   "cell_type": "code",
   "execution_count": 57,
   "outputs": [
    {
     "name": "stdout",
     "output_type": "stream",
     "text": [
      "\u001B[94mrostclust uniqueprot2d --hval-config-path hval_config.json homodimers/proteomes/proteins_nr_val.fasta homodimers/homodimer_rr_val.fasta homodimers/proteomes/proteins_nr_val_hds.fasta\u001B[0m\n",
      "using temporary directory homodimers/proteomes/proteins_nr_val_8r61q49\n",
      "generate alignments: 100%|██████████| 16/16 [07:05<00:00, 26.59s/it]\n",
      "extract hvals from alignments: 100%|██████████| 16/16 [00:02<00:00,  5.59it/s]\n",
      "\u001B[94m 34114/39065::3172 \u001B[0mnon-redundant in homodimers/proteomes/proteins_nr_val.fasta against homodimers/homodimer_rr_val.fasta written to homodimers/proteomes/proteins_nr_val_hds.fasta\n"
     ]
    }
   ],
   "source": [
    "# cluster against the positives\n",
    "run_uniqueprot2D(c.pp / 'proteins_nr_val.fasta', c.hd_rr_fasta,\n",
    "                 c.pp / 'proteins_nr_val_hds.fasta',\n",
    "                 c.hval_config_path, not c.rostclust)"
   ],
   "metadata": {
    "collapsed": false
   }
  },
  {
   "cell_type": "code",
   "execution_count": 87,
   "outputs": [
    {
     "name": "stdout",
     "output_type": "stream",
     "text": [
      "\u001B[94mrostclust uniqueprot --hval-config-path hval_config.json homodimers/proteomes/proteins_nr_val_hds.fasta homodimers/proteomes/proteins_rr_val_hds.fasta\u001B[0m\n",
      "using temporary directory homodimers/proteomes/proteins_nr_val_hdsi3ozxnsp\n",
      "generate alignments: 100%|██████████| 14/14 [24:02<00:00, 103.07s/it]\n",
      "extract hvals from alignments: 100%|██████████| 14/14 [00:12<00:00,  1.13it/s]\n",
      "\u001B[94m 22747/34114 \u001B[0mnon-redundant in homodimers/proteomes/proteins_nr_val_hds.fasta written to homodimers/proteomes/proteins_rr_val_hds.fasta\n"
     ]
    }
   ],
   "source": [
    "# red-reduce\n",
    "run_uniqueprot(c.pp / 'proteins_nr_val_hds.fasta',\n",
    "               c.pp / 'proteins_rr_val_hds.fasta',\n",
    "               c.hval_config_path, not c.rostclust)"
   ],
   "metadata": {
    "collapsed": false
   }
  },
  {
   "cell_type": "code",
   "execution_count": 41,
   "outputs": [],
   "source": [
    "# read the proteins back to memory, divy up by species\n",
    "hds_proteome = {int(sp): dict() for sp in hds.species.unique()}\n",
    "for _id, seqrecord in SeqIO.to_dict(SeqIO.parse(c.pp / 'proteins_rr_val_hds.fasta', 'fasta')).items():\n",
    "    sp = sp_lookup[_id]\n",
    "    if sp not in hds_proteome:\n",
    "        continue\n",
    "    hds_proteome[sp][_id] = {'seq': str(seqrecord.seq),\n",
    "                             'source': 'apid' if sp != 9606 else 'huri',\n",
    "                             'id': _id}\n",
    "# dump immediately\n",
    "_ = write_json(hds_proteome, c.pp / 'apid_huri_proteome.json')"
   ],
   "metadata": {
    "collapsed": false
   }
  },
  {
   "cell_type": "code",
   "execution_count": 36,
   "outputs": [
    {
     "data": {
      "text/plain": "    species  n_hds  n_extras  scale\n23      632      1         6   6.00\n19     1392      2         2   1.00\n1      3702    416      3230   7.76\n5      6239    265      2644   9.98\n4      7227    270      3768  13.96\n17     7955      4        11   2.75\n24     8355      1         3   3.00\n26     9031      1         0   0.00\n2      9606    392      4360  11.12\n21     9913      2         3   1.50\n25     9986      1         1   1.00\n9     10090    108       438   4.06\n12    10116     18        13   0.72\n15    10299      4        12   3.00\n22    10377      1         9   9.00\n20    11706      2         0   0.00\n14    36329      8       183  22.88\n28    39947      1        24  24.00\n6     83333    259       986   3.81\n8     85962    112       610   5.45\n7    192222    128       673   5.26\n18   224308      3         7   2.33\n13   237561      9         2   0.22\n11   243276     19       532  28.00\n3    284812    303       927   3.06\n27   333760      1         1   1.00\n0    559292    735      3021   4.11\n10  1111708    102      1273  12.48\n16  2697049      4         4   1.00",
      "text/html": "<div>\n<style scoped>\n    .dataframe tbody tr th:only-of-type {\n        vertical-align: middle;\n    }\n\n    .dataframe tbody tr th {\n        vertical-align: top;\n    }\n\n    .dataframe thead th {\n        text-align: right;\n    }\n</style>\n<table border=\"1\" class=\"dataframe\">\n  <thead>\n    <tr style=\"text-align: right;\">\n      <th></th>\n      <th>species</th>\n      <th>n_hds</th>\n      <th>n_extras</th>\n      <th>scale</th>\n    </tr>\n  </thead>\n  <tbody>\n    <tr>\n      <th>23</th>\n      <td>632</td>\n      <td>1</td>\n      <td>6</td>\n      <td>6.00</td>\n    </tr>\n    <tr>\n      <th>19</th>\n      <td>1392</td>\n      <td>2</td>\n      <td>2</td>\n      <td>1.00</td>\n    </tr>\n    <tr>\n      <th>1</th>\n      <td>3702</td>\n      <td>416</td>\n      <td>3230</td>\n      <td>7.76</td>\n    </tr>\n    <tr>\n      <th>5</th>\n      <td>6239</td>\n      <td>265</td>\n      <td>2644</td>\n      <td>9.98</td>\n    </tr>\n    <tr>\n      <th>4</th>\n      <td>7227</td>\n      <td>270</td>\n      <td>3768</td>\n      <td>13.96</td>\n    </tr>\n    <tr>\n      <th>17</th>\n      <td>7955</td>\n      <td>4</td>\n      <td>11</td>\n      <td>2.75</td>\n    </tr>\n    <tr>\n      <th>24</th>\n      <td>8355</td>\n      <td>1</td>\n      <td>3</td>\n      <td>3.00</td>\n    </tr>\n    <tr>\n      <th>26</th>\n      <td>9031</td>\n      <td>1</td>\n      <td>0</td>\n      <td>0.00</td>\n    </tr>\n    <tr>\n      <th>2</th>\n      <td>9606</td>\n      <td>392</td>\n      <td>4360</td>\n      <td>11.12</td>\n    </tr>\n    <tr>\n      <th>21</th>\n      <td>9913</td>\n      <td>2</td>\n      <td>3</td>\n      <td>1.50</td>\n    </tr>\n    <tr>\n      <th>25</th>\n      <td>9986</td>\n      <td>1</td>\n      <td>1</td>\n      <td>1.00</td>\n    </tr>\n    <tr>\n      <th>9</th>\n      <td>10090</td>\n      <td>108</td>\n      <td>438</td>\n      <td>4.06</td>\n    </tr>\n    <tr>\n      <th>12</th>\n      <td>10116</td>\n      <td>18</td>\n      <td>13</td>\n      <td>0.72</td>\n    </tr>\n    <tr>\n      <th>15</th>\n      <td>10299</td>\n      <td>4</td>\n      <td>12</td>\n      <td>3.00</td>\n    </tr>\n    <tr>\n      <th>22</th>\n      <td>10377</td>\n      <td>1</td>\n      <td>9</td>\n      <td>9.00</td>\n    </tr>\n    <tr>\n      <th>20</th>\n      <td>11706</td>\n      <td>2</td>\n      <td>0</td>\n      <td>0.00</td>\n    </tr>\n    <tr>\n      <th>14</th>\n      <td>36329</td>\n      <td>8</td>\n      <td>183</td>\n      <td>22.88</td>\n    </tr>\n    <tr>\n      <th>28</th>\n      <td>39947</td>\n      <td>1</td>\n      <td>24</td>\n      <td>24.00</td>\n    </tr>\n    <tr>\n      <th>6</th>\n      <td>83333</td>\n      <td>259</td>\n      <td>986</td>\n      <td>3.81</td>\n    </tr>\n    <tr>\n      <th>8</th>\n      <td>85962</td>\n      <td>112</td>\n      <td>610</td>\n      <td>5.45</td>\n    </tr>\n    <tr>\n      <th>7</th>\n      <td>192222</td>\n      <td>128</td>\n      <td>673</td>\n      <td>5.26</td>\n    </tr>\n    <tr>\n      <th>18</th>\n      <td>224308</td>\n      <td>3</td>\n      <td>7</td>\n      <td>2.33</td>\n    </tr>\n    <tr>\n      <th>13</th>\n      <td>237561</td>\n      <td>9</td>\n      <td>2</td>\n      <td>0.22</td>\n    </tr>\n    <tr>\n      <th>11</th>\n      <td>243276</td>\n      <td>19</td>\n      <td>532</td>\n      <td>28.00</td>\n    </tr>\n    <tr>\n      <th>3</th>\n      <td>284812</td>\n      <td>303</td>\n      <td>927</td>\n      <td>3.06</td>\n    </tr>\n    <tr>\n      <th>27</th>\n      <td>333760</td>\n      <td>1</td>\n      <td>1</td>\n      <td>1.00</td>\n    </tr>\n    <tr>\n      <th>0</th>\n      <td>559292</td>\n      <td>735</td>\n      <td>3021</td>\n      <td>4.11</td>\n    </tr>\n    <tr>\n      <th>10</th>\n      <td>1111708</td>\n      <td>102</td>\n      <td>1273</td>\n      <td>12.48</td>\n    </tr>\n    <tr>\n      <th>16</th>\n      <td>2697049</td>\n      <td>4</td>\n      <td>4</td>\n      <td>1.00</td>\n    </tr>\n  </tbody>\n</table>\n</div>"
     },
     "execution_count": 36,
     "metadata": {},
     "output_type": "execute_result"
    }
   ],
   "source": [
    "# make a comparative table to see how many homodimer negatives could be generated from APID/HuRI\n",
    "hds['label'] = 1\n",
    "counts = (pd.DataFrame(hds.species.value_counts()).reset_index()\n",
    "          .rename(columns=dict(index='species', species='n_hds'))\n",
    "          .sort_values(by='species'))\n",
    "counts['n_extras'] = counts.species.apply(lambda sp: len(hds_proteome[sp]))\n",
    "counts['scale'] = round(counts.n_extras / counts.n_hds, 2)\n",
    "counts"
   ],
   "metadata": {
    "collapsed": false
   }
  },
  {
   "cell_type": "code",
   "execution_count": 37,
   "outputs": [
    {
     "data": {
      "text/plain": "    species  n_hds  n_extras  scale\n19     1392      2         2   1.00\n17     7955      4        11   2.75\n24     8355      1         3   3.00\n26     9031      1         0   0.00\n21     9913      2         3   1.50\n25     9986      1         1   1.00\n12    10116     18        13   0.72\n15    10299      4        12   3.00\n20    11706      2         0   0.00\n6     83333    259       986   3.81\n18   224308      3         7   2.33\n13   237561      9         2   0.22\n3    284812    303       927   3.06\n27   333760      1         1   1.00\n16  2697049      4         4   1.00",
      "text/html": "<div>\n<style scoped>\n    .dataframe tbody tr th:only-of-type {\n        vertical-align: middle;\n    }\n\n    .dataframe tbody tr th {\n        vertical-align: top;\n    }\n\n    .dataframe thead th {\n        text-align: right;\n    }\n</style>\n<table border=\"1\" class=\"dataframe\">\n  <thead>\n    <tr style=\"text-align: right;\">\n      <th></th>\n      <th>species</th>\n      <th>n_hds</th>\n      <th>n_extras</th>\n      <th>scale</th>\n    </tr>\n  </thead>\n  <tbody>\n    <tr>\n      <th>19</th>\n      <td>1392</td>\n      <td>2</td>\n      <td>2</td>\n      <td>1.00</td>\n    </tr>\n    <tr>\n      <th>17</th>\n      <td>7955</td>\n      <td>4</td>\n      <td>11</td>\n      <td>2.75</td>\n    </tr>\n    <tr>\n      <th>24</th>\n      <td>8355</td>\n      <td>1</td>\n      <td>3</td>\n      <td>3.00</td>\n    </tr>\n    <tr>\n      <th>26</th>\n      <td>9031</td>\n      <td>1</td>\n      <td>0</td>\n      <td>0.00</td>\n    </tr>\n    <tr>\n      <th>21</th>\n      <td>9913</td>\n      <td>2</td>\n      <td>3</td>\n      <td>1.50</td>\n    </tr>\n    <tr>\n      <th>25</th>\n      <td>9986</td>\n      <td>1</td>\n      <td>1</td>\n      <td>1.00</td>\n    </tr>\n    <tr>\n      <th>12</th>\n      <td>10116</td>\n      <td>18</td>\n      <td>13</td>\n      <td>0.72</td>\n    </tr>\n    <tr>\n      <th>15</th>\n      <td>10299</td>\n      <td>4</td>\n      <td>12</td>\n      <td>3.00</td>\n    </tr>\n    <tr>\n      <th>20</th>\n      <td>11706</td>\n      <td>2</td>\n      <td>0</td>\n      <td>0.00</td>\n    </tr>\n    <tr>\n      <th>6</th>\n      <td>83333</td>\n      <td>259</td>\n      <td>986</td>\n      <td>3.81</td>\n    </tr>\n    <tr>\n      <th>18</th>\n      <td>224308</td>\n      <td>3</td>\n      <td>7</td>\n      <td>2.33</td>\n    </tr>\n    <tr>\n      <th>13</th>\n      <td>237561</td>\n      <td>9</td>\n      <td>2</td>\n      <td>0.22</td>\n    </tr>\n    <tr>\n      <th>3</th>\n      <td>284812</td>\n      <td>303</td>\n      <td>927</td>\n      <td>3.06</td>\n    </tr>\n    <tr>\n      <th>27</th>\n      <td>333760</td>\n      <td>1</td>\n      <td>1</td>\n      <td>1.00</td>\n    </tr>\n    <tr>\n      <th>16</th>\n      <td>2697049</td>\n      <td>4</td>\n      <td>4</td>\n      <td>1.00</td>\n    </tr>\n  </tbody>\n</table>\n</div>"
     },
     "execution_count": 37,
     "metadata": {},
     "output_type": "execute_result"
    }
   ],
   "source": [
    "counts.loc[counts.scale < 4]"
   ],
   "metadata": {
    "collapsed": false
   }
  },
  {
   "cell_type": "code",
   "execution_count": 38,
   "outputs": [
    {
     "name": "stderr",
     "output_type": "stream",
     "text": [
      "100%|██████████████████████████████████████████████| 209/209 [00:17<00:00, 11.78it/s]\n"
     ]
    }
   ],
   "source": [
    "# do not skip this step!\n",
    "sp_path = Path('swissprot')\n",
    "spp = filter_proteomes(sp_path, c.min_seq_len, c.max_seq_len,\n",
    "                       [c.pp / 'proteins_raw.fasta', c.hd_raw_fasta])"
   ],
   "metadata": {
    "collapsed": false
   }
  },
  {
   "cell_type": "code",
   "execution_count": 39,
   "outputs": [],
   "source": [
    "assert not c.test_species - spp"
   ],
   "metadata": {
    "collapsed": false
   }
  },
  {
   "cell_type": "markdown",
   "source": [
    "#### snakemake"
   ],
   "metadata": {
    "collapsed": false
   }
  },
  {
   "cell_type": "code",
   "execution_count": null,
   "outputs": [],
   "source": [
    "import snakemake\n",
    "\n",
    "snakemake.snakemake(snakefile='Snakefile',\n",
    "                    targets=['all_hds'],\n",
    "                    dryrun=True,\n",
    "                    config=c.to_dict() | dict(\n",
    "                        pkg_root=package_root, pp='swissprot',\n",
    "                        hds_proteins=c.pp / 'proteins_rr_val_hds.fasta'),\n",
    "                    nodes=c.slurm_node_limit,\n",
    "                    cluster=f'sbatch -p All -N 1')"
   ],
   "metadata": {
    "collapsed": false
   }
  },
  {
   "cell_type": "markdown",
   "source": [
    "#### generate negatives"
   ],
   "metadata": {
    "collapsed": false
   }
  },
  {
   "cell_type": "markdown",
   "source": [
    "#### approach\n",
    "Sample from the APID/HuRI proteins first (as many as necessary), then fill up with SwissProt."
   ],
   "metadata": {
    "collapsed": false
   }
  },
  {
   "cell_type": "code",
   "execution_count": 54,
   "outputs": [
    {
     "name": "stderr",
     "output_type": "stream",
     "text": [
      "100%|██████████████████████████████████| 29/29 [00:15<00:00,  1.85it/s, batch=2.7e+6]\n"
     ]
    }
   ],
   "source": [
    "# concat the set\n",
    "sp_proteome = write_json(read_hash_proteomes(\n",
    "    c.test_species, sp_path, '{sp}_rr_val_hds_proteins.fasta'),\n",
    "    c.pp / 'sp_proteome_raw.json')"
   ],
   "metadata": {
    "collapsed": false
   }
  },
  {
   "cell_type": "code",
   "execution_count": 55,
   "outputs": [
    {
     "data": {
      "text/plain": "dict_keys([632, 1392, 3702, 6239, 7227, 7955, 8355, 9031, 9606, 9913, 9986, 10090, 10116, 10299, 10377, 11706, 36329, 39947, 83333, 85962, 192222, 224308, 237561, 243276, 284812, 333760, 559292, 1111708, 2697049])"
     },
     "execution_count": 55,
     "metadata": {},
     "output_type": "execute_result"
    }
   ],
   "source": [
    "sp_proteome.keys()"
   ],
   "metadata": {
    "collapsed": false
   }
  },
  {
   "cell_type": "code",
   "execution_count": 65,
   "outputs": [],
   "source": [
    "# write a FASTA crc:seq\n",
    "with (c.pp / 'sp_proteome_raw.fasta').open('w') as out_fasta:\n",
    "    for sp, d in sp_proteome.items():\n",
    "        for crc_hash, v in d.items():\n",
    "            to_fasta(crc_hash, v['seq'], out_fasta)\n",
    "            sp_lookup[crc_hash] = sp"
   ],
   "metadata": {
    "collapsed": false
   }
  },
  {
   "cell_type": "code",
   "execution_count": null,
   "outputs": [],
   "source": [
    "# red-reduce\n",
    "run_uniqueprot(c.pp / 'sp_proteome_raw.fasta',\n",
    "               c.pp / 'sp_proteome_rr.fasta',\n",
    "               c.hval_config_path, not c.rostclust)"
   ],
   "metadata": {
    "collapsed": false
   }
  },
  {
   "cell_type": "code",
   "execution_count": 80,
   "outputs": [],
   "source": [
    "# read the SwissProt proteins back to memory, divy up by species\n",
    "assert (c.pp / 'sp_proteome_rr.fasta').is_file()\n",
    "sp_proteome = {int(sp): dict() for sp in hds.species.unique()}\n",
    "for _id, seqrecord in SeqIO.to_dict(SeqIO.parse(c.pp / 'sp_proteome_rr.fasta', 'fasta')).items():\n",
    "    sp = sp_lookup[_id]\n",
    "    if sp not in sp_proteome:\n",
    "        continue\n",
    "    sp_proteome[sp][_id] = {'seq': str(seqrecord.seq),\n",
    "                            'source': 'swissprot',\n",
    "                            'id': _id}\n",
    "# dump immediately\n",
    "_ = write_json(sp_proteome, c.pp / 'sp_proteome_rr.json')"
   ],
   "metadata": {
    "collapsed": false
   }
  },
  {
   "cell_type": "code",
   "execution_count": 81,
   "outputs": [],
   "source": [
    "assert set(hds_proteome.keys()) == set(sp_proteome.keys()) == c.test_species"
   ],
   "metadata": {
    "collapsed": false
   }
  },
  {
   "cell_type": "code",
   "execution_count": 42,
   "outputs": [],
   "source": [
    "# proteins = {sp: {**hds_proteome[sp], **sp_proteome[sp]} for sp in c.test_species}\n",
    "# _ = write_json(proteins, c.pp / 'apid_huri_sp_proteome.json')"
   ],
   "metadata": {
    "collapsed": false
   }
  },
  {
   "cell_type": "markdown",
   "source": [
    "#### using ratio 4\n",
    "sample APID/HuRI first for consistency"
   ],
   "metadata": {
    "collapsed": false
   }
  },
  {
   "cell_type": "code",
   "execution_count": 106,
   "outputs": [
    {
     "data": {
      "text/plain": "4.0"
     },
     "execution_count": 106,
     "metadata": {},
     "output_type": "execute_result"
    }
   ],
   "source": [
    "c.ratio"
   ],
   "metadata": {
    "collapsed": false
   }
  },
  {
   "cell_type": "code",
   "execution_count": 105,
   "outputs": [],
   "source": [
    "def make_homodimer_negatives(\n",
    "        ppis: pd.DataFrame,\n",
    "        ppi_proteome: dict[int, dict[str, SeqRecord]],\n",
    "        ratio: float = 10.0,\n",
    "        seed: int = 42,\n",
    "        target_counts: dict = None) -> tuple[pd.DataFrame,\n",
    "                                             dict[str, SeqRecord],\n",
    "                                             pd.DataFrame]:\n",
    "    ppi_fasta = dict()\n",
    "    rows = list()\n",
    "    ppi_ratios = dict()\n",
    "    if target_counts is None:\n",
    "        target_counts = dict()\n",
    "    for sp, df in ppis.groupby('species'):\n",
    "        # create a new rng for each sp reproducibly, not depending on sp order\n",
    "        rng = np.random.default_rng(seed=seed + sp)\n",
    "\n",
    "        d = ppi_proteome[sp]\n",
    "        target = min(int(round(len(df) * ratio)), target_counts.get(sp, 1e40))\n",
    "        size = min(len(d), target)\n",
    "        ppi_ratios[sp] = len(df), size, target, len(d)\n",
    "        for crc in rng.choice(sorted(set(d.keys())), replace=False, size=size):\n",
    "            d[crc]['id'] = crc\n",
    "            ppi_fasta[crc] = d[crc]\n",
    "            rows.append([crc, crc, sp, d[crc].get('source', 'swissprot'), 0])\n",
    "\n",
    "    rows = pd.DataFrame(rows, columns=ppis.columns).sort_values(by=['species', 'hash_A', 'label'])\n",
    "    ppi_ratios = pd.DataFrame(ppi_ratios).T.reset_index().rename(\n",
    "        columns={'index': 'species', 0: 'n_hds', 1: 'n_negs',\n",
    "                 2: 'target', 3: 'available'})\n",
    "    ppi_ratios['missing'] = ppi_ratios.target - ppi_ratios.n_negs\n",
    "    ppi_ratios['ratio'] = round(ppi_ratios.n_negs / ppi_ratios.n_hds, 2)\n",
    "    return rows, ppi_fasta, ppi_ratios"
   ],
   "metadata": {
    "collapsed": false
   }
  },
  {
   "cell_type": "code",
   "execution_count": 107,
   "outputs": [
    {
     "data": {
      "text/plain": "    species  n_hds  n_negs  target  available  missing  ratio\n26   559292    735    2940    2940       3021        0   4.00\n2      3702    416    1664    1664       3230        0   4.00\n8      9606    392    1568    1568       4360        0   4.00\n24   284812    303     927    1212        927      285   3.06\n4      7227    270    1080    1080       3768        0   4.00\n3      6239    265    1060    1060       2644        0   4.00\n18    83333    259     986    1036        986       50   3.81\n20   192222    128     512     512        673        0   4.00\n19    85962    112     448     448        610        0   4.00\n11    10090    108     432     432        438        0   4.00\n27  1111708    102     408     408       1273        0   4.00\n23   243276     19      76      76        532        0   4.00\n12    10116     18      13      72         13       59   0.72\n22   237561      9       2      36          2       34   0.22\n16    36329      8      32      32        183        0   4.00\n13    10299      4      12      16         12        4   3.00\n5      7955      4      11      16         11        5   2.75\n28  2697049      4       4      16          4       12   1.00\n21   224308      3       7      12          7        5   2.33\n1      1392      2       2       8          2        6   1.00\n15    11706      2       0       8          0        8   0.00\n9      9913      2       3       8          3        5   1.50\n25   333760      1       1       4          1        3   1.00\n0       632      1       4       4          6        0   4.00\n17    39947      1       4       4         24        0   4.00\n10     9986      1       1       4          1        3   1.00\n7      9031      1       0       4          0        4   0.00\n6      8355      1       3       4          3        1   3.00\n14    10377      1       4       4          9        0   4.00",
      "text/html": "<div>\n<style scoped>\n    .dataframe tbody tr th:only-of-type {\n        vertical-align: middle;\n    }\n\n    .dataframe tbody tr th {\n        vertical-align: top;\n    }\n\n    .dataframe thead th {\n        text-align: right;\n    }\n</style>\n<table border=\"1\" class=\"dataframe\">\n  <thead>\n    <tr style=\"text-align: right;\">\n      <th></th>\n      <th>species</th>\n      <th>n_hds</th>\n      <th>n_negs</th>\n      <th>target</th>\n      <th>available</th>\n      <th>missing</th>\n      <th>ratio</th>\n    </tr>\n  </thead>\n  <tbody>\n    <tr>\n      <th>26</th>\n      <td>559292</td>\n      <td>735</td>\n      <td>2940</td>\n      <td>2940</td>\n      <td>3021</td>\n      <td>0</td>\n      <td>4.00</td>\n    </tr>\n    <tr>\n      <th>2</th>\n      <td>3702</td>\n      <td>416</td>\n      <td>1664</td>\n      <td>1664</td>\n      <td>3230</td>\n      <td>0</td>\n      <td>4.00</td>\n    </tr>\n    <tr>\n      <th>8</th>\n      <td>9606</td>\n      <td>392</td>\n      <td>1568</td>\n      <td>1568</td>\n      <td>4360</td>\n      <td>0</td>\n      <td>4.00</td>\n    </tr>\n    <tr>\n      <th>24</th>\n      <td>284812</td>\n      <td>303</td>\n      <td>927</td>\n      <td>1212</td>\n      <td>927</td>\n      <td>285</td>\n      <td>3.06</td>\n    </tr>\n    <tr>\n      <th>4</th>\n      <td>7227</td>\n      <td>270</td>\n      <td>1080</td>\n      <td>1080</td>\n      <td>3768</td>\n      <td>0</td>\n      <td>4.00</td>\n    </tr>\n    <tr>\n      <th>3</th>\n      <td>6239</td>\n      <td>265</td>\n      <td>1060</td>\n      <td>1060</td>\n      <td>2644</td>\n      <td>0</td>\n      <td>4.00</td>\n    </tr>\n    <tr>\n      <th>18</th>\n      <td>83333</td>\n      <td>259</td>\n      <td>986</td>\n      <td>1036</td>\n      <td>986</td>\n      <td>50</td>\n      <td>3.81</td>\n    </tr>\n    <tr>\n      <th>20</th>\n      <td>192222</td>\n      <td>128</td>\n      <td>512</td>\n      <td>512</td>\n      <td>673</td>\n      <td>0</td>\n      <td>4.00</td>\n    </tr>\n    <tr>\n      <th>19</th>\n      <td>85962</td>\n      <td>112</td>\n      <td>448</td>\n      <td>448</td>\n      <td>610</td>\n      <td>0</td>\n      <td>4.00</td>\n    </tr>\n    <tr>\n      <th>11</th>\n      <td>10090</td>\n      <td>108</td>\n      <td>432</td>\n      <td>432</td>\n      <td>438</td>\n      <td>0</td>\n      <td>4.00</td>\n    </tr>\n    <tr>\n      <th>27</th>\n      <td>1111708</td>\n      <td>102</td>\n      <td>408</td>\n      <td>408</td>\n      <td>1273</td>\n      <td>0</td>\n      <td>4.00</td>\n    </tr>\n    <tr>\n      <th>23</th>\n      <td>243276</td>\n      <td>19</td>\n      <td>76</td>\n      <td>76</td>\n      <td>532</td>\n      <td>0</td>\n      <td>4.00</td>\n    </tr>\n    <tr>\n      <th>12</th>\n      <td>10116</td>\n      <td>18</td>\n      <td>13</td>\n      <td>72</td>\n      <td>13</td>\n      <td>59</td>\n      <td>0.72</td>\n    </tr>\n    <tr>\n      <th>22</th>\n      <td>237561</td>\n      <td>9</td>\n      <td>2</td>\n      <td>36</td>\n      <td>2</td>\n      <td>34</td>\n      <td>0.22</td>\n    </tr>\n    <tr>\n      <th>16</th>\n      <td>36329</td>\n      <td>8</td>\n      <td>32</td>\n      <td>32</td>\n      <td>183</td>\n      <td>0</td>\n      <td>4.00</td>\n    </tr>\n    <tr>\n      <th>13</th>\n      <td>10299</td>\n      <td>4</td>\n      <td>12</td>\n      <td>16</td>\n      <td>12</td>\n      <td>4</td>\n      <td>3.00</td>\n    </tr>\n    <tr>\n      <th>5</th>\n      <td>7955</td>\n      <td>4</td>\n      <td>11</td>\n      <td>16</td>\n      <td>11</td>\n      <td>5</td>\n      <td>2.75</td>\n    </tr>\n    <tr>\n      <th>28</th>\n      <td>2697049</td>\n      <td>4</td>\n      <td>4</td>\n      <td>16</td>\n      <td>4</td>\n      <td>12</td>\n      <td>1.00</td>\n    </tr>\n    <tr>\n      <th>21</th>\n      <td>224308</td>\n      <td>3</td>\n      <td>7</td>\n      <td>12</td>\n      <td>7</td>\n      <td>5</td>\n      <td>2.33</td>\n    </tr>\n    <tr>\n      <th>1</th>\n      <td>1392</td>\n      <td>2</td>\n      <td>2</td>\n      <td>8</td>\n      <td>2</td>\n      <td>6</td>\n      <td>1.00</td>\n    </tr>\n    <tr>\n      <th>15</th>\n      <td>11706</td>\n      <td>2</td>\n      <td>0</td>\n      <td>8</td>\n      <td>0</td>\n      <td>8</td>\n      <td>0.00</td>\n    </tr>\n    <tr>\n      <th>9</th>\n      <td>9913</td>\n      <td>2</td>\n      <td>3</td>\n      <td>8</td>\n      <td>3</td>\n      <td>5</td>\n      <td>1.50</td>\n    </tr>\n    <tr>\n      <th>25</th>\n      <td>333760</td>\n      <td>1</td>\n      <td>1</td>\n      <td>4</td>\n      <td>1</td>\n      <td>3</td>\n      <td>1.00</td>\n    </tr>\n    <tr>\n      <th>0</th>\n      <td>632</td>\n      <td>1</td>\n      <td>4</td>\n      <td>4</td>\n      <td>6</td>\n      <td>0</td>\n      <td>4.00</td>\n    </tr>\n    <tr>\n      <th>17</th>\n      <td>39947</td>\n      <td>1</td>\n      <td>4</td>\n      <td>4</td>\n      <td>24</td>\n      <td>0</td>\n      <td>4.00</td>\n    </tr>\n    <tr>\n      <th>10</th>\n      <td>9986</td>\n      <td>1</td>\n      <td>1</td>\n      <td>4</td>\n      <td>1</td>\n      <td>3</td>\n      <td>1.00</td>\n    </tr>\n    <tr>\n      <th>7</th>\n      <td>9031</td>\n      <td>1</td>\n      <td>0</td>\n      <td>4</td>\n      <td>0</td>\n      <td>4</td>\n      <td>0.00</td>\n    </tr>\n    <tr>\n      <th>6</th>\n      <td>8355</td>\n      <td>1</td>\n      <td>3</td>\n      <td>4</td>\n      <td>3</td>\n      <td>1</td>\n      <td>3.00</td>\n    </tr>\n    <tr>\n      <th>14</th>\n      <td>10377</td>\n      <td>1</td>\n      <td>4</td>\n      <td>4</td>\n      <td>9</td>\n      <td>0</td>\n      <td>4.00</td>\n    </tr>\n  </tbody>\n</table>\n</div>"
     },
     "execution_count": 107,
     "metadata": {},
     "output_type": "execute_result"
    }
   ],
   "source": [
    "hds_negatives, hds_fasta, ratios = make_homodimer_negatives(\n",
    "    hds, hds_proteome, c.ratio, c.seed)\n",
    "ratios.sort_values(by='n_hds', ascending=False)"
   ],
   "metadata": {
    "collapsed": false
   }
  },
  {
   "cell_type": "code",
   "execution_count": 108,
   "outputs": [
    {
     "data": {
      "text/plain": "                     hash_A                hash_B  species source  label\n2      CRC-4A7DEB955583CB27  CRC-4A7DEB955583CB27      632   apid      0\n1      CRC-5E21543540EBF92B  CRC-5E21543540EBF92B      632   apid      0\n3      CRC-6D6C1B4ED5C94EC7  CRC-6D6C1B4ED5C94EC7      632   apid      0\n0      CRC-8049DCC1A80C7391  CRC-8049DCC1A80C7391      632   apid      0\n5      CRC-2076B4D7277317EE  CRC-2076B4D7277317EE     1392   apid      0\n...                     ...                   ...      ...    ...    ...\n12056  CRC-FF4110214F8053F2  CRC-FF4110214F8053F2  1111708   apid      0\n12200  CRC-4688E6D477E031C4  CRC-4688E6D477E031C4  2697049   apid      0\n12201  CRC-891E7EAB9E8A5BA9  CRC-891E7EAB9E8A5BA9  2697049   apid      0\n12202  CRC-912AD9E147A64907  CRC-912AD9E147A64907  2697049   apid      0\n12203  CRC-B21BD303F59A1D0A  CRC-B21BD303F59A1D0A  2697049   apid      0\n\n[12204 rows x 5 columns]",
      "text/html": "<div>\n<style scoped>\n    .dataframe tbody tr th:only-of-type {\n        vertical-align: middle;\n    }\n\n    .dataframe tbody tr th {\n        vertical-align: top;\n    }\n\n    .dataframe thead th {\n        text-align: right;\n    }\n</style>\n<table border=\"1\" class=\"dataframe\">\n  <thead>\n    <tr style=\"text-align: right;\">\n      <th></th>\n      <th>hash_A</th>\n      <th>hash_B</th>\n      <th>species</th>\n      <th>source</th>\n      <th>label</th>\n    </tr>\n  </thead>\n  <tbody>\n    <tr>\n      <th>2</th>\n      <td>CRC-4A7DEB955583CB27</td>\n      <td>CRC-4A7DEB955583CB27</td>\n      <td>632</td>\n      <td>apid</td>\n      <td>0</td>\n    </tr>\n    <tr>\n      <th>1</th>\n      <td>CRC-5E21543540EBF92B</td>\n      <td>CRC-5E21543540EBF92B</td>\n      <td>632</td>\n      <td>apid</td>\n      <td>0</td>\n    </tr>\n    <tr>\n      <th>3</th>\n      <td>CRC-6D6C1B4ED5C94EC7</td>\n      <td>CRC-6D6C1B4ED5C94EC7</td>\n      <td>632</td>\n      <td>apid</td>\n      <td>0</td>\n    </tr>\n    <tr>\n      <th>0</th>\n      <td>CRC-8049DCC1A80C7391</td>\n      <td>CRC-8049DCC1A80C7391</td>\n      <td>632</td>\n      <td>apid</td>\n      <td>0</td>\n    </tr>\n    <tr>\n      <th>5</th>\n      <td>CRC-2076B4D7277317EE</td>\n      <td>CRC-2076B4D7277317EE</td>\n      <td>1392</td>\n      <td>apid</td>\n      <td>0</td>\n    </tr>\n    <tr>\n      <th>...</th>\n      <td>...</td>\n      <td>...</td>\n      <td>...</td>\n      <td>...</td>\n      <td>...</td>\n    </tr>\n    <tr>\n      <th>12056</th>\n      <td>CRC-FF4110214F8053F2</td>\n      <td>CRC-FF4110214F8053F2</td>\n      <td>1111708</td>\n      <td>apid</td>\n      <td>0</td>\n    </tr>\n    <tr>\n      <th>12200</th>\n      <td>CRC-4688E6D477E031C4</td>\n      <td>CRC-4688E6D477E031C4</td>\n      <td>2697049</td>\n      <td>apid</td>\n      <td>0</td>\n    </tr>\n    <tr>\n      <th>12201</th>\n      <td>CRC-891E7EAB9E8A5BA9</td>\n      <td>CRC-891E7EAB9E8A5BA9</td>\n      <td>2697049</td>\n      <td>apid</td>\n      <td>0</td>\n    </tr>\n    <tr>\n      <th>12202</th>\n      <td>CRC-912AD9E147A64907</td>\n      <td>CRC-912AD9E147A64907</td>\n      <td>2697049</td>\n      <td>apid</td>\n      <td>0</td>\n    </tr>\n    <tr>\n      <th>12203</th>\n      <td>CRC-B21BD303F59A1D0A</td>\n      <td>CRC-B21BD303F59A1D0A</td>\n      <td>2697049</td>\n      <td>apid</td>\n      <td>0</td>\n    </tr>\n  </tbody>\n</table>\n<p>12204 rows × 5 columns</p>\n</div>"
     },
     "execution_count": 108,
     "metadata": {},
     "output_type": "execute_result"
    }
   ],
   "source": [
    "hds_negatives"
   ],
   "metadata": {
    "collapsed": false
   }
  },
  {
   "cell_type": "code",
   "execution_count": 109,
   "outputs": [
    {
     "data": {
      "text/plain": "{632: 0,\n 1392: 6,\n 3702: 0,\n 6239: 0,\n 7227: 0,\n 7955: 5,\n 8355: 1,\n 9031: 4,\n 9606: 0,\n 9913: 5,\n 9986: 3,\n 10090: 0,\n 10116: 59,\n 10299: 4,\n 10377: 0,\n 11706: 8,\n 36329: 0,\n 39947: 0,\n 83333: 50,\n 85962: 0,\n 192222: 0,\n 224308: 5,\n 237561: 34,\n 243276: 0,\n 284812: 285,\n 333760: 3,\n 559292: 0,\n 1111708: 0,\n 2697049: 12}"
     },
     "execution_count": 109,
     "metadata": {},
     "output_type": "execute_result"
    }
   ],
   "source": [
    "missing = (ratios[['species', 'missing']]\n",
    "    .set_index('species').to_dict()['missing'])\n",
    "missing"
   ],
   "metadata": {
    "collapsed": false
   }
  },
  {
   "cell_type": "code",
   "execution_count": 111,
   "outputs": [
    {
     "data": {
      "text/plain": "    species  n_hds  n_negs  target  available  missing  ratio\n26   559292    735       0       0        333        0   0.00\n2      3702    416       0       0       6552        0   0.00\n8      9606    392       0       0       5645        0   0.00\n24   284812    303     285     285       1566        0   0.94\n4      7227    270       0       0       3522        0   0.00\n3      6239    265       0       0       8373        0   0.00\n18    83333    259      50      50       1103        0   0.19\n20   192222    128       0       0        185        0   0.00\n19    85962    112       0       0        327        0   0.00\n11    10090    108       0       0       2394        0   0.00\n27  1111708    102       0       0       1107        0   0.00\n23   243276     19       0       0        216        0   0.00\n12    10116     18      59      59        676        0   3.28\n22   237561      9      34      34       2678        0   3.78\n16    36329      8       0       0       2452        0   0.00\n13    10299      4       4       4         53        0   1.00\n5      7955      4       5       5       5213        0   1.25\n28  2697049      4       3      12          3        9   0.75\n21   224308      3       5       5       1705        0   1.67\n1      1392      2       6       6       3626        0   3.00\n15    11706      2       6       8          6        2   3.00\n9      9913      2       5       5        892        0   2.50\n25   333760      1       3       3          6        0   3.00\n0       632      1       0       0       2186        0   0.00\n17    39947      1       0       0      16640        0   0.00\n10     9986      1       3       3        851        0   3.00\n7      9031      1       4       4       1301        0   4.00\n6      8355      1       1       1       9329        0   1.00\n14    10377      1       0       0         62        0   0.00",
      "text/html": "<div>\n<style scoped>\n    .dataframe tbody tr th:only-of-type {\n        vertical-align: middle;\n    }\n\n    .dataframe tbody tr th {\n        vertical-align: top;\n    }\n\n    .dataframe thead th {\n        text-align: right;\n    }\n</style>\n<table border=\"1\" class=\"dataframe\">\n  <thead>\n    <tr style=\"text-align: right;\">\n      <th></th>\n      <th>species</th>\n      <th>n_hds</th>\n      <th>n_negs</th>\n      <th>target</th>\n      <th>available</th>\n      <th>missing</th>\n      <th>ratio</th>\n    </tr>\n  </thead>\n  <tbody>\n    <tr>\n      <th>26</th>\n      <td>559292</td>\n      <td>735</td>\n      <td>0</td>\n      <td>0</td>\n      <td>333</td>\n      <td>0</td>\n      <td>0.00</td>\n    </tr>\n    <tr>\n      <th>2</th>\n      <td>3702</td>\n      <td>416</td>\n      <td>0</td>\n      <td>0</td>\n      <td>6552</td>\n      <td>0</td>\n      <td>0.00</td>\n    </tr>\n    <tr>\n      <th>8</th>\n      <td>9606</td>\n      <td>392</td>\n      <td>0</td>\n      <td>0</td>\n      <td>5645</td>\n      <td>0</td>\n      <td>0.00</td>\n    </tr>\n    <tr>\n      <th>24</th>\n      <td>284812</td>\n      <td>303</td>\n      <td>285</td>\n      <td>285</td>\n      <td>1566</td>\n      <td>0</td>\n      <td>0.94</td>\n    </tr>\n    <tr>\n      <th>4</th>\n      <td>7227</td>\n      <td>270</td>\n      <td>0</td>\n      <td>0</td>\n      <td>3522</td>\n      <td>0</td>\n      <td>0.00</td>\n    </tr>\n    <tr>\n      <th>3</th>\n      <td>6239</td>\n      <td>265</td>\n      <td>0</td>\n      <td>0</td>\n      <td>8373</td>\n      <td>0</td>\n      <td>0.00</td>\n    </tr>\n    <tr>\n      <th>18</th>\n      <td>83333</td>\n      <td>259</td>\n      <td>50</td>\n      <td>50</td>\n      <td>1103</td>\n      <td>0</td>\n      <td>0.19</td>\n    </tr>\n    <tr>\n      <th>20</th>\n      <td>192222</td>\n      <td>128</td>\n      <td>0</td>\n      <td>0</td>\n      <td>185</td>\n      <td>0</td>\n      <td>0.00</td>\n    </tr>\n    <tr>\n      <th>19</th>\n      <td>85962</td>\n      <td>112</td>\n      <td>0</td>\n      <td>0</td>\n      <td>327</td>\n      <td>0</td>\n      <td>0.00</td>\n    </tr>\n    <tr>\n      <th>11</th>\n      <td>10090</td>\n      <td>108</td>\n      <td>0</td>\n      <td>0</td>\n      <td>2394</td>\n      <td>0</td>\n      <td>0.00</td>\n    </tr>\n    <tr>\n      <th>27</th>\n      <td>1111708</td>\n      <td>102</td>\n      <td>0</td>\n      <td>0</td>\n      <td>1107</td>\n      <td>0</td>\n      <td>0.00</td>\n    </tr>\n    <tr>\n      <th>23</th>\n      <td>243276</td>\n      <td>19</td>\n      <td>0</td>\n      <td>0</td>\n      <td>216</td>\n      <td>0</td>\n      <td>0.00</td>\n    </tr>\n    <tr>\n      <th>12</th>\n      <td>10116</td>\n      <td>18</td>\n      <td>59</td>\n      <td>59</td>\n      <td>676</td>\n      <td>0</td>\n      <td>3.28</td>\n    </tr>\n    <tr>\n      <th>22</th>\n      <td>237561</td>\n      <td>9</td>\n      <td>34</td>\n      <td>34</td>\n      <td>2678</td>\n      <td>0</td>\n      <td>3.78</td>\n    </tr>\n    <tr>\n      <th>16</th>\n      <td>36329</td>\n      <td>8</td>\n      <td>0</td>\n      <td>0</td>\n      <td>2452</td>\n      <td>0</td>\n      <td>0.00</td>\n    </tr>\n    <tr>\n      <th>13</th>\n      <td>10299</td>\n      <td>4</td>\n      <td>4</td>\n      <td>4</td>\n      <td>53</td>\n      <td>0</td>\n      <td>1.00</td>\n    </tr>\n    <tr>\n      <th>5</th>\n      <td>7955</td>\n      <td>4</td>\n      <td>5</td>\n      <td>5</td>\n      <td>5213</td>\n      <td>0</td>\n      <td>1.25</td>\n    </tr>\n    <tr>\n      <th>28</th>\n      <td>2697049</td>\n      <td>4</td>\n      <td>3</td>\n      <td>12</td>\n      <td>3</td>\n      <td>9</td>\n      <td>0.75</td>\n    </tr>\n    <tr>\n      <th>21</th>\n      <td>224308</td>\n      <td>3</td>\n      <td>5</td>\n      <td>5</td>\n      <td>1705</td>\n      <td>0</td>\n      <td>1.67</td>\n    </tr>\n    <tr>\n      <th>1</th>\n      <td>1392</td>\n      <td>2</td>\n      <td>6</td>\n      <td>6</td>\n      <td>3626</td>\n      <td>0</td>\n      <td>3.00</td>\n    </tr>\n    <tr>\n      <th>15</th>\n      <td>11706</td>\n      <td>2</td>\n      <td>6</td>\n      <td>8</td>\n      <td>6</td>\n      <td>2</td>\n      <td>3.00</td>\n    </tr>\n    <tr>\n      <th>9</th>\n      <td>9913</td>\n      <td>2</td>\n      <td>5</td>\n      <td>5</td>\n      <td>892</td>\n      <td>0</td>\n      <td>2.50</td>\n    </tr>\n    <tr>\n      <th>25</th>\n      <td>333760</td>\n      <td>1</td>\n      <td>3</td>\n      <td>3</td>\n      <td>6</td>\n      <td>0</td>\n      <td>3.00</td>\n    </tr>\n    <tr>\n      <th>0</th>\n      <td>632</td>\n      <td>1</td>\n      <td>0</td>\n      <td>0</td>\n      <td>2186</td>\n      <td>0</td>\n      <td>0.00</td>\n    </tr>\n    <tr>\n      <th>17</th>\n      <td>39947</td>\n      <td>1</td>\n      <td>0</td>\n      <td>0</td>\n      <td>16640</td>\n      <td>0</td>\n      <td>0.00</td>\n    </tr>\n    <tr>\n      <th>10</th>\n      <td>9986</td>\n      <td>1</td>\n      <td>3</td>\n      <td>3</td>\n      <td>851</td>\n      <td>0</td>\n      <td>3.00</td>\n    </tr>\n    <tr>\n      <th>7</th>\n      <td>9031</td>\n      <td>1</td>\n      <td>4</td>\n      <td>4</td>\n      <td>1301</td>\n      <td>0</td>\n      <td>4.00</td>\n    </tr>\n    <tr>\n      <th>6</th>\n      <td>8355</td>\n      <td>1</td>\n      <td>1</td>\n      <td>1</td>\n      <td>9329</td>\n      <td>0</td>\n      <td>1.00</td>\n    </tr>\n    <tr>\n      <th>14</th>\n      <td>10377</td>\n      <td>1</td>\n      <td>0</td>\n      <td>0</td>\n      <td>62</td>\n      <td>0</td>\n      <td>0.00</td>\n    </tr>\n  </tbody>\n</table>\n</div>"
     },
     "execution_count": 111,
     "metadata": {},
     "output_type": "execute_result"
    }
   ],
   "source": [
    "sp_negatives, sp_fasta, sp_ratios = make_homodimer_negatives(\n",
    "    hds, sp_proteome, c.ratio, c.seed, target_counts=missing)\n",
    "sp_ratios.sort_values(by='n_hds', ascending=False)"
   ],
   "metadata": {
    "collapsed": false
   }
  },
  {
   "cell_type": "code",
   "execution_count": 112,
   "outputs": [
    {
     "data": {
      "text/plain": "                   hash_A                hash_B  species     source  label\n5    CRC-0AD26F413B79DB7F  CRC-0AD26F413B79DB7F     1392  swissprot      0\n4    CRC-2369AFE3ECC68E9F  CRC-2369AFE3ECC68E9F     1392  swissprot      0\n0    CRC-2871969FC02FA11C  CRC-2871969FC02FA11C     1392  swissprot      0\n3    CRC-73C938C05138C712  CRC-73C938C05138C712     1392  swissprot      0\n1    CRC-A7AEE1AAF4E9D46C  CRC-A7AEE1AAF4E9D46C     1392  swissprot      0\n..                    ...                   ...      ...        ...    ...\n469  CRC-442C0ABF0D77CDCF  CRC-442C0ABF0D77CDCF   333760  swissprot      0\n467  CRC-9BD612534CD2C9EB  CRC-9BD612534CD2C9EB   333760  swissprot      0\n472  CRC-1897EBA96E8004E3  CRC-1897EBA96E8004E3  2697049  swissprot      0\n471  CRC-8CCDEF1C0EA37D06  CRC-8CCDEF1C0EA37D06  2697049  swissprot      0\n470  CRC-ED44D84C3BB9A6DB  CRC-ED44D84C3BB9A6DB  2697049  swissprot      0\n\n[473 rows x 5 columns]",
      "text/html": "<div>\n<style scoped>\n    .dataframe tbody tr th:only-of-type {\n        vertical-align: middle;\n    }\n\n    .dataframe tbody tr th {\n        vertical-align: top;\n    }\n\n    .dataframe thead th {\n        text-align: right;\n    }\n</style>\n<table border=\"1\" class=\"dataframe\">\n  <thead>\n    <tr style=\"text-align: right;\">\n      <th></th>\n      <th>hash_A</th>\n      <th>hash_B</th>\n      <th>species</th>\n      <th>source</th>\n      <th>label</th>\n    </tr>\n  </thead>\n  <tbody>\n    <tr>\n      <th>5</th>\n      <td>CRC-0AD26F413B79DB7F</td>\n      <td>CRC-0AD26F413B79DB7F</td>\n      <td>1392</td>\n      <td>swissprot</td>\n      <td>0</td>\n    </tr>\n    <tr>\n      <th>4</th>\n      <td>CRC-2369AFE3ECC68E9F</td>\n      <td>CRC-2369AFE3ECC68E9F</td>\n      <td>1392</td>\n      <td>swissprot</td>\n      <td>0</td>\n    </tr>\n    <tr>\n      <th>0</th>\n      <td>CRC-2871969FC02FA11C</td>\n      <td>CRC-2871969FC02FA11C</td>\n      <td>1392</td>\n      <td>swissprot</td>\n      <td>0</td>\n    </tr>\n    <tr>\n      <th>3</th>\n      <td>CRC-73C938C05138C712</td>\n      <td>CRC-73C938C05138C712</td>\n      <td>1392</td>\n      <td>swissprot</td>\n      <td>0</td>\n    </tr>\n    <tr>\n      <th>1</th>\n      <td>CRC-A7AEE1AAF4E9D46C</td>\n      <td>CRC-A7AEE1AAF4E9D46C</td>\n      <td>1392</td>\n      <td>swissprot</td>\n      <td>0</td>\n    </tr>\n    <tr>\n      <th>...</th>\n      <td>...</td>\n      <td>...</td>\n      <td>...</td>\n      <td>...</td>\n      <td>...</td>\n    </tr>\n    <tr>\n      <th>469</th>\n      <td>CRC-442C0ABF0D77CDCF</td>\n      <td>CRC-442C0ABF0D77CDCF</td>\n      <td>333760</td>\n      <td>swissprot</td>\n      <td>0</td>\n    </tr>\n    <tr>\n      <th>467</th>\n      <td>CRC-9BD612534CD2C9EB</td>\n      <td>CRC-9BD612534CD2C9EB</td>\n      <td>333760</td>\n      <td>swissprot</td>\n      <td>0</td>\n    </tr>\n    <tr>\n      <th>472</th>\n      <td>CRC-1897EBA96E8004E3</td>\n      <td>CRC-1897EBA96E8004E3</td>\n      <td>2697049</td>\n      <td>swissprot</td>\n      <td>0</td>\n    </tr>\n    <tr>\n      <th>471</th>\n      <td>CRC-8CCDEF1C0EA37D06</td>\n      <td>CRC-8CCDEF1C0EA37D06</td>\n      <td>2697049</td>\n      <td>swissprot</td>\n      <td>0</td>\n    </tr>\n    <tr>\n      <th>470</th>\n      <td>CRC-ED44D84C3BB9A6DB</td>\n      <td>CRC-ED44D84C3BB9A6DB</td>\n      <td>2697049</td>\n      <td>swissprot</td>\n      <td>0</td>\n    </tr>\n  </tbody>\n</table>\n<p>473 rows × 5 columns</p>\n</div>"
     },
     "execution_count": 112,
     "metadata": {},
     "output_type": "execute_result"
    }
   ],
   "source": [
    "sp_negatives"
   ],
   "metadata": {
    "collapsed": false
   }
  },
  {
   "cell_type": "markdown",
   "source": [
    "#### save\n",
    "the `hds_tsv` will be overwritten right after clustering"
   ],
   "metadata": {
    "collapsed": false
   }
  },
  {
   "cell_type": "code",
   "execution_count": 117,
   "outputs": [
    {
     "data": {
      "text/plain": "15849"
     },
     "execution_count": 117,
     "metadata": {},
     "output_type": "execute_result"
    }
   ],
   "source": [
    "hd_all = pd.concat((hds, hds_negatives, sp_negatives))\n",
    "hd_all.to_csv(c.hd_tsv, sep='\\t', header=True, index=False)\n",
    "len(hd_all)"
   ],
   "metadata": {
    "collapsed": false
   }
  },
  {
   "cell_type": "code",
   "execution_count": 118,
   "outputs": [
    {
     "data": {
      "text/plain": "                   hash_A                hash_B  species     source  label\n0    CRC-000D39D2EDD7E4E7  CRC-000D39D2EDD7E4E7     3702       apid      1\n1    CRC-00455F120CB9C22A  CRC-00455F120CB9C22A     6239       apid      1\n2    CRC-006DFCDDBFFAE2E9  CRC-006DFCDDBFFAE2E9   559292       apid      1\n3    CRC-0071930DED7F41B0  CRC-0071930DED7F41B0     3702       apid      1\n4    CRC-0075E3A61B1CDE16  CRC-0075E3A61B1CDE16     3702       apid      1\n..                    ...                   ...      ...        ...    ...\n469  CRC-442C0ABF0D77CDCF  CRC-442C0ABF0D77CDCF   333760  swissprot      0\n467  CRC-9BD612534CD2C9EB  CRC-9BD612534CD2C9EB   333760  swissprot      0\n472  CRC-1897EBA96E8004E3  CRC-1897EBA96E8004E3  2697049  swissprot      0\n471  CRC-8CCDEF1C0EA37D06  CRC-8CCDEF1C0EA37D06  2697049  swissprot      0\n470  CRC-ED44D84C3BB9A6DB  CRC-ED44D84C3BB9A6DB  2697049  swissprot      0\n\n[15849 rows x 5 columns]",
      "text/html": "<div>\n<style scoped>\n    .dataframe tbody tr th:only-of-type {\n        vertical-align: middle;\n    }\n\n    .dataframe tbody tr th {\n        vertical-align: top;\n    }\n\n    .dataframe thead th {\n        text-align: right;\n    }\n</style>\n<table border=\"1\" class=\"dataframe\">\n  <thead>\n    <tr style=\"text-align: right;\">\n      <th></th>\n      <th>hash_A</th>\n      <th>hash_B</th>\n      <th>species</th>\n      <th>source</th>\n      <th>label</th>\n    </tr>\n  </thead>\n  <tbody>\n    <tr>\n      <th>0</th>\n      <td>CRC-000D39D2EDD7E4E7</td>\n      <td>CRC-000D39D2EDD7E4E7</td>\n      <td>3702</td>\n      <td>apid</td>\n      <td>1</td>\n    </tr>\n    <tr>\n      <th>1</th>\n      <td>CRC-00455F120CB9C22A</td>\n      <td>CRC-00455F120CB9C22A</td>\n      <td>6239</td>\n      <td>apid</td>\n      <td>1</td>\n    </tr>\n    <tr>\n      <th>2</th>\n      <td>CRC-006DFCDDBFFAE2E9</td>\n      <td>CRC-006DFCDDBFFAE2E9</td>\n      <td>559292</td>\n      <td>apid</td>\n      <td>1</td>\n    </tr>\n    <tr>\n      <th>3</th>\n      <td>CRC-0071930DED7F41B0</td>\n      <td>CRC-0071930DED7F41B0</td>\n      <td>3702</td>\n      <td>apid</td>\n      <td>1</td>\n    </tr>\n    <tr>\n      <th>4</th>\n      <td>CRC-0075E3A61B1CDE16</td>\n      <td>CRC-0075E3A61B1CDE16</td>\n      <td>3702</td>\n      <td>apid</td>\n      <td>1</td>\n    </tr>\n    <tr>\n      <th>...</th>\n      <td>...</td>\n      <td>...</td>\n      <td>...</td>\n      <td>...</td>\n      <td>...</td>\n    </tr>\n    <tr>\n      <th>469</th>\n      <td>CRC-442C0ABF0D77CDCF</td>\n      <td>CRC-442C0ABF0D77CDCF</td>\n      <td>333760</td>\n      <td>swissprot</td>\n      <td>0</td>\n    </tr>\n    <tr>\n      <th>467</th>\n      <td>CRC-9BD612534CD2C9EB</td>\n      <td>CRC-9BD612534CD2C9EB</td>\n      <td>333760</td>\n      <td>swissprot</td>\n      <td>0</td>\n    </tr>\n    <tr>\n      <th>472</th>\n      <td>CRC-1897EBA96E8004E3</td>\n      <td>CRC-1897EBA96E8004E3</td>\n      <td>2697049</td>\n      <td>swissprot</td>\n      <td>0</td>\n    </tr>\n    <tr>\n      <th>471</th>\n      <td>CRC-8CCDEF1C0EA37D06</td>\n      <td>CRC-8CCDEF1C0EA37D06</td>\n      <td>2697049</td>\n      <td>swissprot</td>\n      <td>0</td>\n    </tr>\n    <tr>\n      <th>470</th>\n      <td>CRC-ED44D84C3BB9A6DB</td>\n      <td>CRC-ED44D84C3BB9A6DB</td>\n      <td>2697049</td>\n      <td>swissprot</td>\n      <td>0</td>\n    </tr>\n  </tbody>\n</table>\n<p>15849 rows × 5 columns</p>\n</div>"
     },
     "execution_count": 118,
     "metadata": {},
     "output_type": "execute_result"
    }
   ],
   "source": [
    "hd_all"
   ],
   "metadata": {
    "collapsed": false
   }
  },
  {
   "cell_type": "code",
   "execution_count": 136,
   "outputs": [
    {
     "data": {
      "text/plain": "'homodimers/homodimer.fasta'"
     },
     "execution_count": 136,
     "metadata": {},
     "output_type": "execute_result"
    }
   ],
   "source": [
    "# all protein sequences, from all three sources\n",
    "with c.hd_fasta.open('w') as out_fasta:\n",
    "    for v in values_sorted_by_key({\n",
    "        **{r.id: {'seq': str(r.seq), 'id': r.id}\n",
    "           for r in SeqIO.parse(c.hd_rr_fasta, 'fasta')},\n",
    "        **hds_fasta, **sp_fasta}):\n",
    "        to_fasta(v['id'], v['seq'], out_fasta)\n",
    "out_fasta.name"
   ],
   "metadata": {
    "collapsed": false
   }
  },
  {
   "cell_type": "markdown",
   "source": [
    "write two separate additional files for the negatives"
   ],
   "metadata": {
    "collapsed": false
   }
  },
  {
   "cell_type": "code",
   "execution_count": 135,
   "outputs": [
    {
     "data": {
      "text/plain": "'homodimers/proteomes/apid_huri_negatives.fasta'"
     },
     "execution_count": 135,
     "metadata": {},
     "output_type": "execute_result"
    }
   ],
   "source": [
    "# the extra APID/HuRI proteins used as negatives\n",
    "with (c.pp / 'apid_huri_negatives.fasta').open('w') as out_fasta:\n",
    "    for v in values_sorted_by_key(hds_fasta):\n",
    "        to_fasta(v['id'], v['seq'], out_fasta)\n",
    "out_fasta.name"
   ],
   "metadata": {
    "collapsed": false
   }
  },
  {
   "cell_type": "code",
   "execution_count": 134,
   "outputs": [
    {
     "data": {
      "text/plain": "'homodimers/proteomes/sp_negatives.fasta'"
     },
     "execution_count": 134,
     "metadata": {},
     "output_type": "execute_result"
    }
   ],
   "source": [
    "# the SwissProt proteins\n",
    "with (c.pp / 'sp_negatives.fasta').open('w') as out_fasta:\n",
    "    for v in values_sorted_by_key(sp_fasta):\n",
    "        to_fasta(v['id'], v['seq'], out_fasta)\n",
    "out_fasta.name"
   ],
   "metadata": {
    "collapsed": false
   }
  },
  {
   "cell_type": "code",
   "execution_count": 137,
   "outputs": [
    {
     "name": "stdout",
     "output_type": "stream",
     "text": [
      "\u001B[94mrostclust uniqueprot2d --hval-config-path hval_config.json homodimers/homodimer.fasta apid_train.fasta homodimers/homodimer_c3.fasta\u001B[0m\n",
      "using temporary directory homodimers/homodimermguinb16\n",
      "generate alignments: 100%|██████████| 7/7 [16:50<00:00, 144.43s/it]\n",
      "extract hvals from alignments: 100%|██████████| 7/7 [00:07<00:00,  1.11s/it]\n",
      "\u001B[94m 1588/15849::44698 \u001B[0mnon-redundant in homodimers/homodimer.fasta against apid_train.fasta written to homodimers/homodimer_c3.fasta\n"
     ]
    }
   ],
   "source": [
    "# cluster against train\n",
    "run_uniqueprot2D(c.hd_fasta, c.train_fasta, c.hd_c3_fasta,\n",
    "                 c.hval_config_path, not c.rostclust)"
   ],
   "metadata": {
    "collapsed": false
   }
  },
  {
   "cell_type": "code",
   "execution_count": 139,
   "outputs": [
    {
     "data": {
      "text/plain": "                     hash_A                hash_B  species     source  label  \\\n0      CRC-000D39D2EDD7E4E7  CRC-000D39D2EDD7E4E7     3702       apid      1   \n1      CRC-00455F120CB9C22A  CRC-00455F120CB9C22A     6239       apid      1   \n2      CRC-006DFCDDBFFAE2E9  CRC-006DFCDDBFFAE2E9   559292       apid      1   \n3      CRC-0071930DED7F41B0  CRC-0071930DED7F41B0     3702       apid      1   \n4      CRC-0075E3A61B1CDE16  CRC-0075E3A61B1CDE16     3702       apid      1   \n...                     ...                   ...      ...        ...    ...   \n15844  CRC-442C0ABF0D77CDCF  CRC-442C0ABF0D77CDCF   333760  swissprot      0   \n15845  CRC-9BD612534CD2C9EB  CRC-9BD612534CD2C9EB   333760  swissprot      0   \n15846  CRC-1897EBA96E8004E3  CRC-1897EBA96E8004E3  2697049  swissprot      0   \n15847  CRC-8CCDEF1C0EA37D06  CRC-8CCDEF1C0EA37D06  2697049  swissprot      0   \n15848  CRC-ED44D84C3BB9A6DB  CRC-ED44D84C3BB9A6DB  2697049  swissprot      0   \n\n       cclass  \n0           1  \n1           1  \n2           1  \n3           1  \n4           1  \n...       ...  \n15844       1  \n15845       1  \n15846       1  \n15847       1  \n15848       1  \n\n[15849 rows x 6 columns]",
      "text/html": "<div>\n<style scoped>\n    .dataframe tbody tr th:only-of-type {\n        vertical-align: middle;\n    }\n\n    .dataframe tbody tr th {\n        vertical-align: top;\n    }\n\n    .dataframe thead th {\n        text-align: right;\n    }\n</style>\n<table border=\"1\" class=\"dataframe\">\n  <thead>\n    <tr style=\"text-align: right;\">\n      <th></th>\n      <th>hash_A</th>\n      <th>hash_B</th>\n      <th>species</th>\n      <th>source</th>\n      <th>label</th>\n      <th>cclass</th>\n    </tr>\n  </thead>\n  <tbody>\n    <tr>\n      <th>0</th>\n      <td>CRC-000D39D2EDD7E4E7</td>\n      <td>CRC-000D39D2EDD7E4E7</td>\n      <td>3702</td>\n      <td>apid</td>\n      <td>1</td>\n      <td>1</td>\n    </tr>\n    <tr>\n      <th>1</th>\n      <td>CRC-00455F120CB9C22A</td>\n      <td>CRC-00455F120CB9C22A</td>\n      <td>6239</td>\n      <td>apid</td>\n      <td>1</td>\n      <td>1</td>\n    </tr>\n    <tr>\n      <th>2</th>\n      <td>CRC-006DFCDDBFFAE2E9</td>\n      <td>CRC-006DFCDDBFFAE2E9</td>\n      <td>559292</td>\n      <td>apid</td>\n      <td>1</td>\n      <td>1</td>\n    </tr>\n    <tr>\n      <th>3</th>\n      <td>CRC-0071930DED7F41B0</td>\n      <td>CRC-0071930DED7F41B0</td>\n      <td>3702</td>\n      <td>apid</td>\n      <td>1</td>\n      <td>1</td>\n    </tr>\n    <tr>\n      <th>4</th>\n      <td>CRC-0075E3A61B1CDE16</td>\n      <td>CRC-0075E3A61B1CDE16</td>\n      <td>3702</td>\n      <td>apid</td>\n      <td>1</td>\n      <td>1</td>\n    </tr>\n    <tr>\n      <th>...</th>\n      <td>...</td>\n      <td>...</td>\n      <td>...</td>\n      <td>...</td>\n      <td>...</td>\n      <td>...</td>\n    </tr>\n    <tr>\n      <th>15844</th>\n      <td>CRC-442C0ABF0D77CDCF</td>\n      <td>CRC-442C0ABF0D77CDCF</td>\n      <td>333760</td>\n      <td>swissprot</td>\n      <td>0</td>\n      <td>1</td>\n    </tr>\n    <tr>\n      <th>15845</th>\n      <td>CRC-9BD612534CD2C9EB</td>\n      <td>CRC-9BD612534CD2C9EB</td>\n      <td>333760</td>\n      <td>swissprot</td>\n      <td>0</td>\n      <td>1</td>\n    </tr>\n    <tr>\n      <th>15846</th>\n      <td>CRC-1897EBA96E8004E3</td>\n      <td>CRC-1897EBA96E8004E3</td>\n      <td>2697049</td>\n      <td>swissprot</td>\n      <td>0</td>\n      <td>1</td>\n    </tr>\n    <tr>\n      <th>15847</th>\n      <td>CRC-8CCDEF1C0EA37D06</td>\n      <td>CRC-8CCDEF1C0EA37D06</td>\n      <td>2697049</td>\n      <td>swissprot</td>\n      <td>0</td>\n      <td>1</td>\n    </tr>\n    <tr>\n      <th>15848</th>\n      <td>CRC-ED44D84C3BB9A6DB</td>\n      <td>CRC-ED44D84C3BB9A6DB</td>\n      <td>2697049</td>\n      <td>swissprot</td>\n      <td>0</td>\n      <td>1</td>\n    </tr>\n  </tbody>\n</table>\n<p>15849 rows × 6 columns</p>\n</div>"
     },
     "execution_count": 139,
     "metadata": {},
     "output_type": "execute_result"
    }
   ],
   "source": [
    "hd_pairs = make_c_classes(c.hd_tsv, c.hd_c3_fasta, c.hd_fasta)\n",
    "hd_pairs"
   ],
   "metadata": {
    "collapsed": false
   }
  },
  {
   "cell_type": "code",
   "execution_count": 143,
   "outputs": [],
   "source": [
    "shutil.move(c.hd_tsv, c.hd_tsv.with_suffix('.tsv.bak'))\n",
    "hd_pairs.to_csv(c.hd_tsv, sep='\\t', header=True, index=False)"
   ],
   "metadata": {
    "collapsed": false
   }
  },
  {
   "cell_type": "code",
   "execution_count": 140,
   "outputs": [
    {
     "data": {
      "text/plain": "<Figure size 512x384 with 1 Axes>",
      "image/png": "[encoded data removed]"
     },
     "metadata": {},
     "output_type": "display_data"
    }
   ],
   "source": [
    "with mpl.rc_context({'figure.dpi': 128}):\n",
    "    fig, c.hd_sizes = plot_c_classes(hd_pairs)\n",
    "fig.savefig(c.dp / 'hds_cclasses.svg')\n",
    "fig.savefig(c.dp / 'hds_cclasses.png', dpi=300, transparent=False)"
   ],
   "metadata": {
    "collapsed": false
   }
  },
  {
   "cell_type": "code",
   "execution_count": 142,
   "outputs": [
    {
     "data": {
      "text/plain": "{1: 2826, 3: 346}"
     },
     "execution_count": 142,
     "metadata": {},
     "output_type": "execute_result"
    }
   ],
   "source": [
    "c.hd_sizes"
   ],
   "metadata": {
    "collapsed": false
   }
  },
  {
   "cell_type": "code",
   "execution_count": 146,
   "outputs": [
    {
     "name": "stdout",
     "output_type": "stream",
     "text": [
      "{\n",
      "  \"keep_human\": false,\n",
      "  \"keep_interspecies\": false,\n",
      "  \"accept_homodimers\": false,\n",
      "  \"add_proteomes\": true,\n",
      "  \"slurm\": true,\n",
      "  \"slurm_node_limit\": 15,\n",
      "  \"rostclust\": \"/home/k/kaindll/mambaforge/envs/ppi/bin/rostclust\",\n",
      "  \"cwd\": \"/home/k/kaindll/ppi/data/ppi_dataset/results/7082\",\n",
      "  \"ap\": \"apid\",\n",
      "  \"hp\": \"huri\",\n",
      "  \"qp\": \"apid_q1\",\n",
      "  \"pp\": \"homodimers/proteomes\",\n",
      "  \"ip\": \"apid_isp\",\n",
      "  \"dp\": \"homodimers\",\n",
      "  \"min_seq_len\": 50,\n",
      "  \"max_seq_len\": 1500,\n",
      "  \"hval_config\": {\n",
      "    \"shortAlignmentLen\": 50,\n",
      "    \"longSeqLen\": 180,\n",
      "    \"reduceRandomAlign\": false,\n",
      "    \"clusterThreshold\": 20\n",
      "  },\n",
      "  \"hval_config_path\": \"hval_config.json\",\n",
      "  \"seed\": 42,\n",
      "  \"ratio\": 4.0,\n",
      "  \"strategy\": 1,\n",
      "  \"val_set_size\": 0.1,\n",
      "  \"val_species\": [],\n",
      "  \"train_species\": [],\n",
      "  \"test_species\": [\n",
      "    9986,\n",
      "    10116,\n",
      "    83333,\n",
      "    9606,\n",
      "    10377,\n",
      "    39947,\n",
      "    284812,\n",
      "    7955,\n",
      "    1111708,\n",
      "    8355,\n",
      "    224308,\n",
      "    9913,\n",
      "    11706,\n",
      "    10299,\n",
      "    7227,\n",
      "    559292,\n",
      "    333760,\n",
      "    9031,\n",
      "    85962,\n",
      "    243276,\n",
      "    2697049,\n",
      "    192222,\n",
      "    6239,\n",
      "    36329,\n",
      "    10090,\n",
      "    1392,\n",
      "    3702,\n",
      "    632,\n",
      "    237561\n",
      "  ],\n",
      "  \"val_raw_fasta\": \"apid/apid_validation_raw.fasta\",\n",
      "  \"val_raw_tsv\": \"apid/apid_validation_raw.tsv\",\n",
      "  \"val_rr_fasta\": \"apid/apid_validation_rr.fasta\",\n",
      "  \"val_rr_tsv\": \"apid/apid_validation_rr.tsv\",\n",
      "  \"val_c3_fasta\": \"apid/apid_validation_c3.fasta\",\n",
      "  \"val_fasta\": \"apid_validation.fasta\",\n",
      "  \"val_tsv\": \"apid_validation.tsv\",\n",
      "  \"test_raw_fasta\": \"huri/huri_test_raw.fasta\",\n",
      "  \"test_raw_tsv\": \"huri/huri_test_raw.tsv\",\n",
      "  \"test_nr_fasta\": \"huri/huri_test_nr.fasta\",\n",
      "  \"test_rr_fasta\": \"huri/huri_test_rr.fasta\",\n",
      "  \"test_rr_tsv\": \"huri/huri_test_rr.tsv\",\n",
      "  \"test_c3_fasta\": \"huri/huri_test_c3.fasta\",\n",
      "  \"test_fasta\": \"huri_test.fasta\",\n",
      "  \"test_tsv\": \"huri_test.tsv\",\n",
      "  \"train_tsv\": \"apid_train.tsv\",\n",
      "  \"train_fasta\": \"apid_train.fasta\",\n",
      "  \"train_raw_fasta\": \"apid/apid_train_raw.fasta\",\n",
      "  \"train_raw_tsv\": \"apid/apid_train_raw.tsv\",\n",
      "  \"train_proteome\": \"train_proteome.json\",\n",
      "  \"val_proteome\": \"val_proteome.json\",\n",
      "  \"test_proteome\": \"test_proteome.json\",\n",
      "  \"weird_species\": [],\n",
      "  \"train_bias\": null,\n",
      "  \"train_seqs\": null,\n",
      "  \"train_extra\": null,\n",
      "  \"train_size\": null,\n",
      "  \"test_seqs\": null,\n",
      "  \"test_extra\": null,\n",
      "  \"val_seqs\": null,\n",
      "  \"val_extra\": null,\n",
      "  \"val_bias\": null,\n",
      "  \"val_size\": null,\n",
      "  \"val_sizes\": {},\n",
      "  \"test_bias\": null,\n",
      "  \"test_size\": null,\n",
      "  \"test_sizes\": {},\n",
      "  \"isp_sizes\": {},\n",
      "  \"isp_raw_fasta\": \"apid_isp/apid_interspecies_raw.fasta\",\n",
      "  \"isp_raw_tsv\": \"apid_isp/apid_interspecies_raw.tsv\",\n",
      "  \"isp_nr_fasta\": \"apid_isp/apid_interspecies_nr_val.fasta\",\n",
      "  \"isp_rr_fasta\": \"apid_isp/apid_interspecies_rr_val.fasta\",\n",
      "  \"isp_rr_tsv\": \"apid_isp/apid_interspecies_rr_val.tsv\",\n",
      "  \"isp_c3_fasta\": \"apid_isp/apid_interspecies_c3.fasta\",\n",
      "  \"isp_fasta\": \"apid_isp/apid_interspecies.fasta\",\n",
      "  \"isp_tsv\": \"apid_isp/apid_interspecies.tsv\",\n",
      "  \"hd_raw_fasta\": \"homodimers/homodimer_raw.fasta\",\n",
      "  \"hd_raw_tsv\": \"homodimers/homodimer_raw.tsv\",\n",
      "  \"hd_nr_fasta\": \"homodimers/homodimer_nr_val.fasta\",\n",
      "  \"hd_rr_fasta\": \"homodimers/homodimer_rr_val.fasta\",\n",
      "  \"hd_rr_tsv\": \"homodimers/homodimer_rr_val.tsv\",\n",
      "  \"hd_c3_fasta\": \"homodimers/homodimer_c3.fasta\",\n",
      "  \"hd_fasta\": \"homodimers/homodimer.fasta\",\n",
      "  \"hd_tsv\": \"homodimers/homodimer.tsv\"\n",
      "}\n"
     ]
    }
   ],
   "source": [
    "with (c.dp / 'cfg.json').open('w') as json_file:\n",
    "    json_file.write(c.to_json(indent=2))\n",
    "print(c.to_json(indent=2))"
   ],
   "metadata": {
    "collapsed": false
   }
  },
  {
   "cell_type": "code",
   "execution_count": null,
   "outputs": [],
   "source": [
    "# cluster all proteins from APID *species with homodimers* against val\n",
    "# carefully red-reduce the set\n",
    "# cluster the nr_val proteomes against it\n",
    "# rr each\n",
    "# rr the combined set\n",
    "# sample 1:1 or 1:2 ?"
   ],
   "metadata": {
    "collapsed": false
   }
  },
  {
   "cell_type": "code",
   "execution_count": null,
   "outputs": [],
   "source": [
    "# cluster all proteins from APID *species with homodimers* against val\n",
    "# extract hd_fasta_nr_val\n",
    "# carefully red-reduce: per species first? consider available proteins\n",
    "\n",
    "# construct nohd_fasta_nr_val per species\n",
    "# collate with nr_val proteomes\n",
    "# cluster against hd_fasta_rr_val\n",
    "# ********TRICKY: exclude IDs from hd_fasta? from  hd_fasta_nr_val?\n",
    "# carefully red-reduce\n",
    "\n",
    "# sample 1:1 or 1:2 ?"
   ],
   "metadata": {
    "collapsed": false
   }
  },
  {
   "cell_type": "code",
   "execution_count": null,
   "outputs": [],
   "source": [],
   "metadata": {
    "collapsed": false
   }
  }
 ],
 "metadata": {
  "kernelspec": {
   "display_name": "Python 3",
   "language": "python",
   "name": "python3"
  },
  "language_info": {
   "codemirror_mode": {
    "name": "ipython",
    "version": 2
   },
   "file_extension": ".py",
   "mimetype": "text/x-python",
   "name": "python",
   "nbconvert_exporter": "python",
   "pygments_lexer": "ipython2",
   "version": "2.7.6"
  }
 },
 "nbformat": 4,
 "nbformat_minor": 0
}
