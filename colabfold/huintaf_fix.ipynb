{
 "cells": [
  {
   "cell_type": "code",
   "execution_count": 692,
   "outputs": [],
   "source": [
    "from pathlib import Path\n",
    "\n",
    "import json\n",
    "from typing import Optional\n",
    "from Bio import SeqIO\n",
    "\n",
    "import pandas as pd\n",
    "import numpy as np"
   ],
   "metadata": {
    "collapsed": false
   }
  },
  {
   "cell_type": "code",
   "execution_count": 754,
   "outputs": [],
   "source": [
    "from ppi_utils.reduce import dedup_pairs\n",
    "from ppi_utils.pairs import estimate_bias, estimate_bias_per_species\n",
    "from ppi_utils.api import uniprot_api_fetch\n",
    "from ppi_utils.extract import ppis_to_hashes\n",
    "from ppi_utils.general import get_seq_hash, get_ids, to_fasta"
   ],
   "metadata": {
    "collapsed": false
   }
  },
  {
   "cell_type": "code",
   "execution_count": null,
   "outputs": [],
   "source": [],
   "metadata": {
    "collapsed": false
   }
  },
  {
   "cell_type": "code",
   "execution_count": 982,
   "outputs": [
    {
     "data": {
      "text/plain": "('ENSG00000000005-ENSG00000061656',\n {'ida': 'ENSG00000000005',\n  'acontacts': [21,\n   24,\n   24,\n   25,\n   25,\n   25,\n   25,\n   25,\n   26,\n   28,\n   28,\n   28,\n   28,\n   28,\n   28,\n   29,\n   29,\n   29,\n   29,\n   29,\n   29,\n   29,\n   29,\n   29,\n   30,\n   30,\n   31,\n   31,\n   32,\n   32,\n   32,\n   32,\n   32,\n   32,\n   32,\n   32,\n   32,\n   33,\n   33,\n   33,\n   33,\n   35,\n   35,\n   35,\n   35,\n   36,\n   36,\n   36,\n   36,\n   36,\n   36,\n   36,\n   36,\n   36,\n   36,\n   36,\n   36,\n   36,\n   36,\n   37,\n   37,\n   38,\n   39,\n   39,\n   39,\n   39,\n   39,\n   39,\n   39,\n   39,\n   39,\n   39,\n   39,\n   39,\n   40,\n   40,\n   40,\n   40,\n   40,\n   41,\n   41,\n   42,\n   42,\n   42,\n   42,\n   43,\n   43,\n   43,\n   43,\n   43,\n   43,\n   43,\n   43,\n   43,\n   44,\n   44,\n   44,\n   45,\n   45,\n   45,\n   46,\n   46,\n   46,\n   46,\n   46,\n   46,\n   46,\n   46,\n   47,\n   47,\n   47,\n   47,\n   47,\n   47,\n   47,\n   47,\n   47,\n   48,\n   48,\n   48,\n   48,\n   48,\n   48,\n   48,\n   48,\n   49,\n   49,\n   49,\n   50,\n   50,\n   50,\n   50,\n   50,\n   51,\n   51,\n   51,\n   51,\n   51,\n   51,\n   51,\n   52,\n   52,\n   53,\n   53,\n   53,\n   53,\n   53,\n   54,\n   54,\n   54,\n   54,\n   55,\n   55,\n   55,\n   55,\n   55,\n   55,\n   56,\n   56,\n   56,\n   57,\n   57,\n   58,\n   58,\n   58,\n   60,\n   60,\n   62,\n   62,\n   81,\n   82,\n   83,\n   83,\n   84,\n   84,\n   86,\n   86,\n   116,\n   129,\n   129,\n   130,\n   131,\n   131,\n   132,\n   132,\n   133,\n   134,\n   134,\n   134,\n   134,\n   134,\n   135,\n   136,\n   138,\n   138,\n   141,\n   141,\n   141,\n   141,\n   142,\n   142,\n   142,\n   142,\n   142,\n   143,\n   143,\n   143,\n   144,\n   144,\n   144,\n   144,\n   144,\n   144,\n   144,\n   144,\n   144,\n   144,\n   144,\n   144,\n   145,\n   145,\n   145,\n   146,\n   146,\n   146,\n   146,\n   146,\n   146,\n   147,\n   148,\n   222,\n   222,\n   281,\n   282,\n   282,\n   282,\n   283,\n   283,\n   283,\n   283,\n   284,\n   284,\n   284,\n   284,\n   284,\n   284,\n   284,\n   284,\n   284,\n   284,\n   284,\n   284,\n   285,\n   285,\n   285,\n   285,\n   285,\n   285,\n   285,\n   286,\n   286,\n   286,\n   286,\n   286,\n   286,\n   287,\n   289,\n   289],\n  'idb': 'ENSG00000061656',\n  'bcontacts': [160,\n   160,\n   157,\n   157,\n   160,\n   161,\n   166,\n   163,\n   166,\n   157,\n   153,\n   166,\n   156,\n   160,\n   161,\n   157,\n   166,\n   153,\n   161,\n   169,\n   160,\n   163,\n   165,\n   170,\n   157,\n   166,\n   153,\n   157,\n   153,\n   157,\n   166,\n   154,\n   161,\n   149,\n   150,\n   152,\n   156,\n   153,\n   157,\n   166,\n   173,\n   153,\n   146,\n   150,\n   149,\n   146,\n   150,\n   153,\n   177,\n   154,\n   166,\n   170,\n   173,\n   157,\n   174,\n   149,\n   151,\n   152,\n   155,\n   173,\n   177,\n   146,\n   146,\n   150,\n   177,\n   147,\n   143,\n   142,\n   145,\n   149,\n   148,\n   151,\n   153,\n   154,\n   146,\n   177,\n   173,\n   174,\n   181,\n   146,\n   177,\n   146,\n   177,\n   143,\n   139,\n   139,\n   143,\n   146,\n   177,\n   181,\n   147,\n   150,\n   174,\n   142,\n   177,\n   181,\n   180,\n   177,\n   139,\n   135,\n   135,\n   139,\n   143,\n   181,\n   146,\n   138,\n   140,\n   142,\n   139,\n   143,\n   181,\n   177,\n   188,\n   185,\n   184,\n   180,\n   182,\n   181,\n   188,\n   177,\n   184,\n   180,\n   185,\n   187,\n   183,\n   135,\n   139,\n   132,\n   132,\n   135,\n   139,\n   136,\n   181,\n   132,\n   188,\n   185,\n   181,\n   184,\n   189,\n   190,\n   188,\n   132,\n   132,\n   135,\n   129,\n   126,\n   131,\n   132,\n   136,\n   135,\n   133,\n   132,\n   125,\n   124,\n   126,\n   128,\n   129,\n   125,\n   188,\n   189,\n   125,\n   123,\n   123,\n   125,\n   122,\n   123,\n   192,\n   123,\n   122,\n   123,\n   123,\n   123,\n   125,\n   123,\n   125,\n   123,\n   125,\n   66,\n   123,\n   125,\n   123,\n   123,\n   125,\n   123,\n   121,\n   121,\n   121,\n   119,\n   120,\n   122,\n   123,\n   121,\n   121,\n   116,\n   117,\n   223,\n   226,\n   227,\n   230,\n   223,\n   226,\n   227,\n   230,\n   234,\n   227,\n   230,\n   234,\n   227,\n   230,\n   234,\n   231,\n   226,\n   223,\n   228,\n   224,\n   229,\n   232,\n   235,\n   233,\n   227,\n   230,\n   234,\n   227,\n   234,\n   231,\n   238,\n   230,\n   235,\n   234,\n   234,\n   426,\n   424,\n   307,\n   345,\n   307,\n   308,\n   345,\n   307,\n   308,\n   343,\n   307,\n   308,\n   343,\n   345,\n   309,\n   344,\n   306,\n   310,\n   342,\n   305,\n   339,\n   416,\n   307,\n   308,\n   309,\n   343,\n   344,\n   345,\n   346,\n   308,\n   343,\n   344,\n   345,\n   346,\n   101,\n   345,\n   96,\n   98],\n  'pdbfile': '/mnt/project/kaindl/huintaf2/HuRI/ENSG00000000005-ENSG00000061656/ENSG00000000005-ENSG00000061656.pdb'})"
     },
     "execution_count": 982,
     "metadata": {},
     "output_type": "execute_result"
    }
   ],
   "source": [
    "with Path('/home/quirin/PYTHON/prona/huintaf/'\n",
    "          'huintaf2_plddts.json').open('r') as f:\n",
    "    plds = json.load(f)\n",
    "\n",
    "next(iter(plds.items()))"
   ],
   "metadata": {
    "collapsed": false
   }
  },
  {
   "cell_type": "markdown",
   "source": [
    "## load AlphaFold pLDDT (keys)"
   ],
   "metadata": {
    "collapsed": false
   }
  },
  {
   "cell_type": "code",
   "execution_count": 367,
   "outputs": [],
   "source": [
    "with Path('/home/quirin/PYTHON/prona/huintaf/'\n",
    "          'huintaf2_plddts.json').open('r') as f:\n",
    "    plddts = set(json.load(f))"
   ],
   "metadata": {
    "collapsed": false
   }
  },
  {
   "cell_type": "code",
   "execution_count": 368,
   "outputs": [
    {
     "data": {
      "text/plain": "'ENSG00000013016-ENSG00000110047'"
     },
     "execution_count": 368,
     "metadata": {},
     "output_type": "execute_result"
    }
   ],
   "source": [
    "next(iter(plddts))"
   ],
   "metadata": {
    "collapsed": false
   }
  },
  {
   "cell_type": "markdown",
   "source": [
    "## load the table with all 65484 structures"
   ],
   "metadata": {
    "collapsed": false
   }
  },
  {
   "cell_type": "code",
   "execution_count": 366,
   "outputs": [],
   "source": [
    "huintaf_dir = Path('/home/quirin/PYTHON/huintaf2')"
   ],
   "metadata": {
    "collapsed": false
   }
  },
  {
   "cell_type": "code",
   "execution_count": 109,
   "outputs": [
    {
     "data": {
      "text/plain": "65484"
     },
     "execution_count": 109,
     "metadata": {},
     "output_type": "execute_result"
    }
   ],
   "source": [
    "hua = pd.read_csv(huintaf_dir / 'leo' /\n",
    "                  'table_AF2_HURI_HuMap_UNIQUE.csv', sep=',')\n",
    "len(hua)"
   ],
   "metadata": {
    "collapsed": false
   }
  },
  {
   "cell_type": "code",
   "execution_count": 110,
   "outputs": [
    {
     "data": {
      "text/plain": "           unique_ID  duplicates     id1         id2  NumRes  IF_plDDT  \\\n0  A0A024R0Y4_O14964           1  O14964  A0A024R0Y4      92  67.09186   \n1  A0A024R0Y4_O15287           1  O15287  A0A024R0Y4      35  68.53878   \n2  A0A024R0Y4_O60573           1  O60573  A0A024R0Y4      40  59.69327   \n3  A0A024R0Y4_O75431           1  O75431  A0A024R0Y4      51  76.82288   \n4  A0A024R0Y4_O75528           1  O75528  A0A024R0Y4     362  90.26991   \n\n      plDDT    pDockQ  DockQall  PDB  ...  \\\n0  67.37455  0.077304       NaN  NaN  ...   \n1  77.09663  0.038752       NaN  NaN  ...   \n2  78.52047  0.034888       NaN  NaN  ...   \n3  81.05951  0.075548       NaN  NaN  ...   \n4  76.77518  0.730883       NaN  NaN  ...   \n\n                        structure_file NumDiso1.90  NumDiso1.70.90  \\\n0  ENSG00000185359-ENSG00000276234.pdb       114.0           253.0   \n1  ENSG00000221829-ENSG00000276234.pdb       130.0           339.0   \n2  ENSG00000135930-ENSG00000276234.pdb       105.0            58.0   \n3  ENSG00000128654-ENSG00000276234.pdb       183.0            56.0   \n4  ENSG00000171148-ENSG00000276234.pdb       134.0           119.0   \n\n  NumDiso1.50.70 NumDiso1.50 NumDiso2.90  NumDiso2.70.90  NumDiso2.50.70  \\\n0           60.0       350.0        72.0           286.0            42.0   \n1           74.0        79.0        41.0           308.0            66.0   \n2           15.0        67.0       118.0           263.0            28.0   \n3            5.0        19.0        42.0           294.0            70.0   \n4           52.0       127.0       180.0           210.0            22.0   \n\n   NumDiso2.50 NumOverlap  \n0         43.0        2.0  \n1         28.0        0.0  \n2         34.0        0.0  \n3         37.0        0.0  \n4         31.0        0.0  \n\n[5 rows x 42 columns]",
      "text/html": "<div>\n<style scoped>\n    .dataframe tbody tr th:only-of-type {\n        vertical-align: middle;\n    }\n\n    .dataframe tbody tr th {\n        vertical-align: top;\n    }\n\n    .dataframe thead th {\n        text-align: right;\n    }\n</style>\n<table border=\"1\" class=\"dataframe\">\n  <thead>\n    <tr style=\"text-align: right;\">\n      <th></th>\n      <th>unique_ID</th>\n      <th>duplicates</th>\n      <th>id1</th>\n      <th>id2</th>\n      <th>NumRes</th>\n      <th>IF_plDDT</th>\n      <th>plDDT</th>\n      <th>pDockQ</th>\n      <th>DockQall</th>\n      <th>PDB</th>\n      <th>...</th>\n      <th>structure_file</th>\n      <th>NumDiso1.90</th>\n      <th>NumDiso1.70.90</th>\n      <th>NumDiso1.50.70</th>\n      <th>NumDiso1.50</th>\n      <th>NumDiso2.90</th>\n      <th>NumDiso2.70.90</th>\n      <th>NumDiso2.50.70</th>\n      <th>NumDiso2.50</th>\n      <th>NumOverlap</th>\n    </tr>\n  </thead>\n  <tbody>\n    <tr>\n      <th>0</th>\n      <td>A0A024R0Y4_O14964</td>\n      <td>1</td>\n      <td>O14964</td>\n      <td>A0A024R0Y4</td>\n      <td>92</td>\n      <td>67.09186</td>\n      <td>67.37455</td>\n      <td>0.077304</td>\n      <td>NaN</td>\n      <td>NaN</td>\n      <td>...</td>\n      <td>ENSG00000185359-ENSG00000276234.pdb</td>\n      <td>114.0</td>\n      <td>253.0</td>\n      <td>60.0</td>\n      <td>350.0</td>\n      <td>72.0</td>\n      <td>286.0</td>\n      <td>42.0</td>\n      <td>43.0</td>\n      <td>2.0</td>\n    </tr>\n    <tr>\n      <th>1</th>\n      <td>A0A024R0Y4_O15287</td>\n      <td>1</td>\n      <td>O15287</td>\n      <td>A0A024R0Y4</td>\n      <td>35</td>\n      <td>68.53878</td>\n      <td>77.09663</td>\n      <td>0.038752</td>\n      <td>NaN</td>\n      <td>NaN</td>\n      <td>...</td>\n      <td>ENSG00000221829-ENSG00000276234.pdb</td>\n      <td>130.0</td>\n      <td>339.0</td>\n      <td>74.0</td>\n      <td>79.0</td>\n      <td>41.0</td>\n      <td>308.0</td>\n      <td>66.0</td>\n      <td>28.0</td>\n      <td>0.0</td>\n    </tr>\n    <tr>\n      <th>2</th>\n      <td>A0A024R0Y4_O60573</td>\n      <td>1</td>\n      <td>O60573</td>\n      <td>A0A024R0Y4</td>\n      <td>40</td>\n      <td>59.69327</td>\n      <td>78.52047</td>\n      <td>0.034888</td>\n      <td>NaN</td>\n      <td>NaN</td>\n      <td>...</td>\n      <td>ENSG00000135930-ENSG00000276234.pdb</td>\n      <td>105.0</td>\n      <td>58.0</td>\n      <td>15.0</td>\n      <td>67.0</td>\n      <td>118.0</td>\n      <td>263.0</td>\n      <td>28.0</td>\n      <td>34.0</td>\n      <td>0.0</td>\n    </tr>\n    <tr>\n      <th>3</th>\n      <td>A0A024R0Y4_O75431</td>\n      <td>1</td>\n      <td>O75431</td>\n      <td>A0A024R0Y4</td>\n      <td>51</td>\n      <td>76.82288</td>\n      <td>81.05951</td>\n      <td>0.075548</td>\n      <td>NaN</td>\n      <td>NaN</td>\n      <td>...</td>\n      <td>ENSG00000128654-ENSG00000276234.pdb</td>\n      <td>183.0</td>\n      <td>56.0</td>\n      <td>5.0</td>\n      <td>19.0</td>\n      <td>42.0</td>\n      <td>294.0</td>\n      <td>70.0</td>\n      <td>37.0</td>\n      <td>0.0</td>\n    </tr>\n    <tr>\n      <th>4</th>\n      <td>A0A024R0Y4_O75528</td>\n      <td>1</td>\n      <td>O75528</td>\n      <td>A0A024R0Y4</td>\n      <td>362</td>\n      <td>90.26991</td>\n      <td>76.77518</td>\n      <td>0.730883</td>\n      <td>NaN</td>\n      <td>NaN</td>\n      <td>...</td>\n      <td>ENSG00000171148-ENSG00000276234.pdb</td>\n      <td>134.0</td>\n      <td>119.0</td>\n      <td>52.0</td>\n      <td>127.0</td>\n      <td>180.0</td>\n      <td>210.0</td>\n      <td>22.0</td>\n      <td>31.0</td>\n      <td>0.0</td>\n    </tr>\n  </tbody>\n</table>\n<p>5 rows × 42 columns</p>\n</div>"
     },
     "execution_count": 110,
     "metadata": {},
     "output_type": "execute_result"
    }
   ],
   "source": [
    "hua.head()"
   ],
   "metadata": {
    "collapsed": false
   }
  },
  {
   "cell_type": "code",
   "execution_count": 111,
   "outputs": [],
   "source": [
    "mp = hua[['id1', 'id2', 'pDockQ',\n",
    "          'Dataset_max', 'structure_file']].copy()\n",
    "mp.columns = ['ida', 'idb', 'pdockq', 'dataset', 'pdbfile']\n",
    "assert len(mp.drop_duplicates()) == len(mp)"
   ],
   "metadata": {
    "collapsed": false
   }
  },
  {
   "cell_type": "code",
   "execution_count": 112,
   "outputs": [
    {
     "data": {
      "text/plain": "65484"
     },
     "execution_count": 112,
     "metadata": {},
     "output_type": "execute_result"
    }
   ],
   "source": [
    "mp = dedup_pairs(mp)\n",
    "# mp is now sorted horizontally\n",
    "len(mp)"
   ],
   "metadata": {
    "collapsed": false
   }
  },
  {
   "cell_type": "code",
   "execution_count": 113,
   "outputs": [
    {
     "data": {
      "text/plain": "          ida     idb    pdockq dataset                              pdbfile\n0  A0A024R0Y4  O14964  0.077304    HURI  ENSG00000185359-ENSG00000276234.pdb\n1  A0A024R0Y4  O15287  0.038752    HURI  ENSG00000221829-ENSG00000276234.pdb\n2  A0A024R0Y4  O60573  0.034888    HURI  ENSG00000135930-ENSG00000276234.pdb\n3  A0A024R0Y4  O75431  0.075548    HURI  ENSG00000128654-ENSG00000276234.pdb\n4  A0A024R0Y4  O75528  0.730883    HURI  ENSG00000171148-ENSG00000276234.pdb",
      "text/html": "<div>\n<style scoped>\n    .dataframe tbody tr th:only-of-type {\n        vertical-align: middle;\n    }\n\n    .dataframe tbody tr th {\n        vertical-align: top;\n    }\n\n    .dataframe thead th {\n        text-align: right;\n    }\n</style>\n<table border=\"1\" class=\"dataframe\">\n  <thead>\n    <tr style=\"text-align: right;\">\n      <th></th>\n      <th>ida</th>\n      <th>idb</th>\n      <th>pdockq</th>\n      <th>dataset</th>\n      <th>pdbfile</th>\n    </tr>\n  </thead>\n  <tbody>\n    <tr>\n      <th>0</th>\n      <td>A0A024R0Y4</td>\n      <td>O14964</td>\n      <td>0.077304</td>\n      <td>HURI</td>\n      <td>ENSG00000185359-ENSG00000276234.pdb</td>\n    </tr>\n    <tr>\n      <th>1</th>\n      <td>A0A024R0Y4</td>\n      <td>O15287</td>\n      <td>0.038752</td>\n      <td>HURI</td>\n      <td>ENSG00000221829-ENSG00000276234.pdb</td>\n    </tr>\n    <tr>\n      <th>2</th>\n      <td>A0A024R0Y4</td>\n      <td>O60573</td>\n      <td>0.034888</td>\n      <td>HURI</td>\n      <td>ENSG00000135930-ENSG00000276234.pdb</td>\n    </tr>\n    <tr>\n      <th>3</th>\n      <td>A0A024R0Y4</td>\n      <td>O75431</td>\n      <td>0.075548</td>\n      <td>HURI</td>\n      <td>ENSG00000128654-ENSG00000276234.pdb</td>\n    </tr>\n    <tr>\n      <th>4</th>\n      <td>A0A024R0Y4</td>\n      <td>O75528</td>\n      <td>0.730883</td>\n      <td>HURI</td>\n      <td>ENSG00000171148-ENSG00000276234.pdb</td>\n    </tr>\n  </tbody>\n</table>\n</div>"
     },
     "execution_count": 113,
     "metadata": {},
     "output_type": "execute_result"
    }
   ],
   "source": [
    "mp.head()"
   ],
   "metadata": {
    "collapsed": false
   }
  },
  {
   "cell_type": "code",
   "execution_count": null,
   "outputs": [],
   "source": [],
   "metadata": {
    "collapsed": false
   }
  },
  {
   "cell_type": "markdown",
   "source": [
    "## load the table with humap probabilities"
   ],
   "metadata": {
    "collapsed": false
   }
  },
  {
   "cell_type": "code",
   "execution_count": 114,
   "outputs": [
    {
     "data": {
      "text/plain": "PosixPath('/home/quirin/PYTHON/ppi/ppi_data/hu.MAP')"
     },
     "execution_count": 114,
     "metadata": {},
     "output_type": "execute_result"
    }
   ],
   "source": [
    "humap_dir = Path.cwd().parent / 'ppi_data/hu.MAP'\n",
    "assert humap_dir.is_dir()\n",
    "humap_dir"
   ],
   "metadata": {
    "collapsed": false
   }
  },
  {
   "cell_type": "code",
   "execution_count": 115,
   "outputs": [
    {
     "data": {
      "text/plain": "17526311"
     },
     "execution_count": 115,
     "metadata": {},
     "output_type": "execute_result"
    }
   ],
   "source": [
    "wumap = pd.read_csv(humap_dir / 'humap2_ppis_ACC_20200821'\n",
    "                                '.pairsWprob',\n",
    "                    sep='\\t', header=None,\n",
    "                    names=['ida', 'idb', 'prob'])\n",
    "len(wumap)"
   ],
   "metadata": {
    "collapsed": false
   }
  },
  {
   "cell_type": "code",
   "execution_count": 116,
   "outputs": [
    {
     "data": {
      "text/plain": "         ida     idb  prob\n0     P46926  Q8TDQ7   1.0\n1     P43631  Q14954   1.0\n2     P43631  Q14953   1.0\n3     P43631  P43629   1.0\n4  100287045  Q86YD7   1.0",
      "text/html": "<div>\n<style scoped>\n    .dataframe tbody tr th:only-of-type {\n        vertical-align: middle;\n    }\n\n    .dataframe tbody tr th {\n        vertical-align: top;\n    }\n\n    .dataframe thead th {\n        text-align: right;\n    }\n</style>\n<table border=\"1\" class=\"dataframe\">\n  <thead>\n    <tr style=\"text-align: right;\">\n      <th></th>\n      <th>ida</th>\n      <th>idb</th>\n      <th>prob</th>\n    </tr>\n  </thead>\n  <tbody>\n    <tr>\n      <th>0</th>\n      <td>P46926</td>\n      <td>Q8TDQ7</td>\n      <td>1.0</td>\n    </tr>\n    <tr>\n      <th>1</th>\n      <td>P43631</td>\n      <td>Q14954</td>\n      <td>1.0</td>\n    </tr>\n    <tr>\n      <th>2</th>\n      <td>P43631</td>\n      <td>Q14953</td>\n      <td>1.0</td>\n    </tr>\n    <tr>\n      <th>3</th>\n      <td>P43631</td>\n      <td>P43629</td>\n      <td>1.0</td>\n    </tr>\n    <tr>\n      <th>4</th>\n      <td>100287045</td>\n      <td>Q86YD7</td>\n      <td>1.0</td>\n    </tr>\n  </tbody>\n</table>\n</div>"
     },
     "execution_count": 116,
     "metadata": {},
     "output_type": "execute_result"
    }
   ],
   "source": [
    "wumap.head()"
   ],
   "metadata": {
    "collapsed": false
   }
  },
  {
   "cell_type": "markdown",
   "source": [
    "### filter the original hu.MAP scores a bit"
   ],
   "metadata": {
    "collapsed": false
   }
  },
  {
   "cell_type": "code",
   "execution_count": 117,
   "outputs": [
    {
     "data": {
      "text/plain": "11043"
     },
     "execution_count": 117,
     "metadata": {},
     "output_type": "execute_result"
    }
   ],
   "source": [
    "wumap = wumap.loc[wumap.prob >= .5]\n",
    "len(wumap)\n",
    "# now that's a relief!"
   ],
   "metadata": {
    "collapsed": false
   }
  },
  {
   "cell_type": "code",
   "execution_count": 118,
   "outputs": [
    {
     "data": {
      "text/plain": "10868"
     },
     "execution_count": 118,
     "metadata": {},
     "output_type": "execute_result"
    }
   ],
   "source": [
    "# also drop weird numeric IDs\n",
    "wumap = wumap.loc[(~wumap.ida.str.isnumeric())\n",
    "                  & (~wumap.idb.str.isnumeric())]\n",
    "len(wumap)"
   ],
   "metadata": {
    "collapsed": false
   }
  },
  {
   "cell_type": "code",
   "execution_count": 119,
   "outputs": [
    {
     "data": {
      "text/plain": "10868"
     },
     "execution_count": 119,
     "metadata": {},
     "output_type": "execute_result"
    }
   ],
   "source": [
    "wumap = dedup_pairs(wumap)\n",
    "# wumap is now sorted horizontally\n",
    "len(wumap)"
   ],
   "metadata": {
    "collapsed": false
   }
  },
  {
   "cell_type": "markdown",
   "source": [
    "### glue the humap scores to the overall results frame"
   ],
   "metadata": {
    "collapsed": false
   }
  },
  {
   "cell_type": "code",
   "execution_count": 398,
   "outputs": [],
   "source": [
    "mpp = pd.merge(mp, wumap, on=['ida', 'idb'], how='left')\n",
    "mpp.prob = mpp.prob.fillna(1)\n",
    "mpp[['lena', 'lenb']] = 0, 0\n",
    "assert len(mpp) == 65484"
   ],
   "metadata": {
    "collapsed": false
   }
  },
  {
   "cell_type": "markdown",
   "source": [
    "### filter: only the pdbfiles we have"
   ],
   "metadata": {
    "collapsed": false
   }
  },
  {
   "cell_type": "code",
   "execution_count": 435,
   "outputs": [
    {
     "name": "stdout",
     "output_type": "stream",
     "text": [
      "65999 -> 65999 -> 65999\n"
     ]
    },
    {
     "data": {
      "text/plain": "          ida     idb    pdockq dataset                              pdbfile  \\\n0  A0A024R0Y4  O14964  0.077304    HURI  ENSG00000185359-ENSG00000276234.pdb   \n1  A0A024R0Y4  O15287  0.038752    HURI  ENSG00000221829-ENSG00000276234.pdb   \n2  A0A024R0Y4  O60573  0.034888    HURI  ENSG00000135930-ENSG00000276234.pdb   \n3  A0A024R0Y4  O75431  0.075548    HURI  ENSG00000128654-ENSG00000276234.pdb   \n4  A0A024R0Y4  O75528  0.730883    HURI  ENSG00000171148-ENSG00000276234.pdb   \n\n   prob  lena  lenb  \n0   1.0     0     0  \n1   1.0     0     0  \n2   1.0     0     0  \n3   1.0     0     0  \n4   1.0     0     0  ",
      "text/html": "<div>\n<style scoped>\n    .dataframe tbody tr th:only-of-type {\n        vertical-align: middle;\n    }\n\n    .dataframe tbody tr th {\n        vertical-align: top;\n    }\n\n    .dataframe thead th {\n        text-align: right;\n    }\n</style>\n<table border=\"1\" class=\"dataframe\">\n  <thead>\n    <tr style=\"text-align: right;\">\n      <th></th>\n      <th>ida</th>\n      <th>idb</th>\n      <th>pdockq</th>\n      <th>dataset</th>\n      <th>pdbfile</th>\n      <th>prob</th>\n      <th>lena</th>\n      <th>lenb</th>\n    </tr>\n  </thead>\n  <tbody>\n    <tr>\n      <th>0</th>\n      <td>A0A024R0Y4</td>\n      <td>O14964</td>\n      <td>0.077304</td>\n      <td>HURI</td>\n      <td>ENSG00000185359-ENSG00000276234.pdb</td>\n      <td>1.0</td>\n      <td>0</td>\n      <td>0</td>\n    </tr>\n    <tr>\n      <th>1</th>\n      <td>A0A024R0Y4</td>\n      <td>O15287</td>\n      <td>0.038752</td>\n      <td>HURI</td>\n      <td>ENSG00000221829-ENSG00000276234.pdb</td>\n      <td>1.0</td>\n      <td>0</td>\n      <td>0</td>\n    </tr>\n    <tr>\n      <th>2</th>\n      <td>A0A024R0Y4</td>\n      <td>O60573</td>\n      <td>0.034888</td>\n      <td>HURI</td>\n      <td>ENSG00000135930-ENSG00000276234.pdb</td>\n      <td>1.0</td>\n      <td>0</td>\n      <td>0</td>\n    </tr>\n    <tr>\n      <th>3</th>\n      <td>A0A024R0Y4</td>\n      <td>O75431</td>\n      <td>0.075548</td>\n      <td>HURI</td>\n      <td>ENSG00000128654-ENSG00000276234.pdb</td>\n      <td>1.0</td>\n      <td>0</td>\n      <td>0</td>\n    </tr>\n    <tr>\n      <th>4</th>\n      <td>A0A024R0Y4</td>\n      <td>O75528</td>\n      <td>0.730883</td>\n      <td>HURI</td>\n      <td>ENSG00000171148-ENSG00000276234.pdb</td>\n      <td>1.0</td>\n      <td>0</td>\n      <td>0</td>\n    </tr>\n  </tbody>\n</table>\n</div>"
     },
     "execution_count": 435,
     "metadata": {},
     "output_type": "execute_result"
    }
   ],
   "source": [
    "mpp.pdbfile = mpp.pdbfile.str.split(';')\n",
    "l1 = len(mpp)\n",
    "mpp = mpp.explode('pdbfile').drop_duplicates()\n",
    "l2 = len(mpp)\n",
    "mpp.pdbfile = mpp.pdbfile.apply(lambda s: s.split('.')[0])\n",
    "mpp = mpp.loc[mpp.pdbfile.isin(plddts)]\n",
    "mpp.pdbfile += '.pdb'\n",
    "l3 = len(mpp)\n",
    "print(f'{l1} -> {l2} -> {l3}')\n",
    "mpp.head()"
   ],
   "metadata": {
    "collapsed": false
   }
  },
  {
   "cell_type": "markdown",
   "source": [
    "## load the file of random pairs"
   ],
   "metadata": {
    "collapsed": false
   }
  },
  {
   "cell_type": "code",
   "execution_count": 436,
   "outputs": [
    {
     "name": "stdout",
     "output_type": "stream",
     "text": [
      "1849\n",
      "1849\n"
     ]
    },
    {
     "data": {
      "text/plain": "         ida     idb    pdockq      dataset            pdbfile  prob  lena  \\\n0     O00139  P40429  0.041981  1849 random  O00139-P40429.pdb   0.0   706   \n468   O00165  P39023  0.255203  1849 random  P39023-O00165.pdb   0.0   403   \n502   O00182  P40429  0.134777  1849 random  P40429-O00182.pdb   0.0   203   \n1     O00231  P31946  0.034794  1849 random  O00231-P31946.pdb   0.0   422   \n1175  O00231  P62913  0.031393  1849 random  P62913-O00231.pdb   0.0   178   \n\n      lenb  \n0      203  \n468    279  \n502    355  \n1      246  \n1175   422  ",
      "text/html": "<div>\n<style scoped>\n    .dataframe tbody tr th:only-of-type {\n        vertical-align: middle;\n    }\n\n    .dataframe tbody tr th {\n        vertical-align: top;\n    }\n\n    .dataframe thead th {\n        text-align: right;\n    }\n</style>\n<table border=\"1\" class=\"dataframe\">\n  <thead>\n    <tr style=\"text-align: right;\">\n      <th></th>\n      <th>ida</th>\n      <th>idb</th>\n      <th>pdockq</th>\n      <th>dataset</th>\n      <th>pdbfile</th>\n      <th>prob</th>\n      <th>lena</th>\n      <th>lenb</th>\n    </tr>\n  </thead>\n  <tbody>\n    <tr>\n      <th>0</th>\n      <td>O00139</td>\n      <td>P40429</td>\n      <td>0.041981</td>\n      <td>1849 random</td>\n      <td>O00139-P40429.pdb</td>\n      <td>0.0</td>\n      <td>706</td>\n      <td>203</td>\n    </tr>\n    <tr>\n      <th>468</th>\n      <td>O00165</td>\n      <td>P39023</td>\n      <td>0.255203</td>\n      <td>1849 random</td>\n      <td>P39023-O00165.pdb</td>\n      <td>0.0</td>\n      <td>403</td>\n      <td>279</td>\n    </tr>\n    <tr>\n      <th>502</th>\n      <td>O00182</td>\n      <td>P40429</td>\n      <td>0.134777</td>\n      <td>1849 random</td>\n      <td>P40429-O00182.pdb</td>\n      <td>0.0</td>\n      <td>203</td>\n      <td>355</td>\n    </tr>\n    <tr>\n      <th>1</th>\n      <td>O00231</td>\n      <td>P31946</td>\n      <td>0.034794</td>\n      <td>1849 random</td>\n      <td>O00231-P31946.pdb</td>\n      <td>0.0</td>\n      <td>422</td>\n      <td>246</td>\n    </tr>\n    <tr>\n      <th>1175</th>\n      <td>O00231</td>\n      <td>P62913</td>\n      <td>0.031393</td>\n      <td>1849 random</td>\n      <td>P62913-O00231.pdb</td>\n      <td>0.0</td>\n      <td>178</td>\n      <td>422</td>\n    </tr>\n  </tbody>\n</table>\n</div>"
     },
     "execution_count": 436,
     "metadata": {},
     "output_type": "execute_result"
    }
   ],
   "source": [
    "r2k = pd.read_csv(huintaf_dir / 'data/random.csv', sep=',')\n",
    "print(len(r2k))\n",
    "r2k[['ida', 'idb']] = r2k.Name.str.split('-', expand=True)\n",
    "r2k = r2k.rename(columns=dict(pDockQ='pdockq', Name='pdbfile',\n",
    "                              len1='lena', len2='lenb'))\n",
    "r2k.pdbfile += '.pdb'\n",
    "r2k[['dataset', 'prob']] = '1849 random', 0.\n",
    "r2k = r2k[mpp.columns]\n",
    "# sort the IDs horizontally\n",
    "r2k.loc[r2k.ida > r2k.idb, ['ida', 'idb']] = r2k.loc[\n",
    "    r2k.ida > r2k.idb, ['idb', 'ida']].values\n",
    "r2k = r2k.sort_values(by=['ida', 'idb']).drop_duplicates()\n",
    "print(len(r2k))\n",
    "r2k.head()"
   ],
   "metadata": {
    "collapsed": false
   }
  },
  {
   "cell_type": "markdown",
   "source": [
    "## load our colabfold data"
   ],
   "metadata": {
    "collapsed": false
   }
  },
  {
   "cell_type": "code",
   "execution_count": 437,
   "outputs": [
    {
     "data": {
      "text/plain": "(PosixPath('/home/quirin/PYTHON/ppi/ppi_data/v2.1/1:1_small'), True)"
     },
     "execution_count": 437,
     "metadata": {},
     "output_type": "execute_result"
    }
   ],
   "source": [
    "ppi_dir = Path('.').resolve().parent / 'ppi_data/v2.1/1:1_small'\n",
    "ppi_dir, ppi_dir.is_dir()"
   ],
   "metadata": {
    "collapsed": false
   }
  },
  {
   "cell_type": "code",
   "execution_count": 438,
   "outputs": [
    {
     "data": {
      "text/plain": "             0                     1\n0       Q99KX1  CRC-00097529ECAB0123\n1       P63039  CRC-0014B58B77D0127B\n2     Q9BWG6-1  CRC-001576EA78C61C85\n3       P36614  CRC-001980A1CC7646D7\n4       Q8NET5  CRC-0026DBDE1FEAD2B3\n...        ...                   ...\n9920    O94374  CRC-FFD4919E936E0941\n9921    P26616  CRC-FFD61212F709EE3A\n9922    P0A8A8  CRC-FFEC71975B4492AB\n9923    Q9Y7M1  CRC-FFEDB9673A3CB066\n9924    Q9USU9  CRC-FFEEEC67B78AB6A4\n\n[9925 rows x 2 columns]",
      "text/html": "<div>\n<style scoped>\n    .dataframe tbody tr th:only-of-type {\n        vertical-align: middle;\n    }\n\n    .dataframe tbody tr th {\n        vertical-align: top;\n    }\n\n    .dataframe thead th {\n        text-align: right;\n    }\n</style>\n<table border=\"1\" class=\"dataframe\">\n  <thead>\n    <tr style=\"text-align: right;\">\n      <th></th>\n      <th>0</th>\n      <th>1</th>\n    </tr>\n  </thead>\n  <tbody>\n    <tr>\n      <th>0</th>\n      <td>Q99KX1</td>\n      <td>CRC-00097529ECAB0123</td>\n    </tr>\n    <tr>\n      <th>1</th>\n      <td>P63039</td>\n      <td>CRC-0014B58B77D0127B</td>\n    </tr>\n    <tr>\n      <th>2</th>\n      <td>Q9BWG6-1</td>\n      <td>CRC-001576EA78C61C85</td>\n    </tr>\n    <tr>\n      <th>3</th>\n      <td>P36614</td>\n      <td>CRC-001980A1CC7646D7</td>\n    </tr>\n    <tr>\n      <th>4</th>\n      <td>Q8NET5</td>\n      <td>CRC-0026DBDE1FEAD2B3</td>\n    </tr>\n    <tr>\n      <th>...</th>\n      <td>...</td>\n      <td>...</td>\n    </tr>\n    <tr>\n      <th>9920</th>\n      <td>O94374</td>\n      <td>CRC-FFD4919E936E0941</td>\n    </tr>\n    <tr>\n      <th>9921</th>\n      <td>P26616</td>\n      <td>CRC-FFD61212F709EE3A</td>\n    </tr>\n    <tr>\n      <th>9922</th>\n      <td>P0A8A8</td>\n      <td>CRC-FFEC71975B4492AB</td>\n    </tr>\n    <tr>\n      <th>9923</th>\n      <td>Q9Y7M1</td>\n      <td>CRC-FFEDB9673A3CB066</td>\n    </tr>\n    <tr>\n      <th>9924</th>\n      <td>Q9USU9</td>\n      <td>CRC-FFEEEC67B78AB6A4</td>\n    </tr>\n  </tbody>\n</table>\n<p>9925 rows × 2 columns</p>\n</div>"
     },
     "execution_count": 438,
     "metadata": {},
     "output_type": "execute_result"
    }
   ],
   "source": [
    "_hashing = pd.read_csv(ppi_dir / 'crc_hashes.tsv', sep='\\t', header=None).sort_values(by=[1, 0]).reset_index(drop=True)\n",
    "_hashing"
   ],
   "metadata": {
    "collapsed": false
   }
  },
  {
   "cell_type": "code",
   "execution_count": 439,
   "outputs": [
    {
     "data": {
      "text/plain": "Empty DataFrame\nColumns: [0, 1]\nIndex: []",
      "text/html": "<div>\n<style scoped>\n    .dataframe tbody tr th:only-of-type {\n        vertical-align: middle;\n    }\n\n    .dataframe tbody tr th {\n        vertical-align: top;\n    }\n\n    .dataframe thead th {\n        text-align: right;\n    }\n</style>\n<table border=\"1\" class=\"dataframe\">\n  <thead>\n    <tr style=\"text-align: right;\">\n      <th></th>\n      <th>0</th>\n      <th>1</th>\n    </tr>\n  </thead>\n  <tbody>\n  </tbody>\n</table>\n</div>"
     },
     "execution_count": 439,
     "metadata": {},
     "output_type": "execute_result"
    }
   ],
   "source": [
    "_hashing.loc[_hashing.iloc[:, 0].duplicated(keep=False)]\n",
    "# not with versionized uniprot IDs"
   ],
   "metadata": {
    "collapsed": false
   }
  },
  {
   "cell_type": "code",
   "execution_count": 440,
   "outputs": [
    {
     "data": {
      "text/plain": "               0                     1\n38        P68369  CRC-00F8429A4A10E5FE\n39        P68370  CRC-00F8429A4A10E5FE\n131       P63017  CRC-03A27B30E6C076ED\n132       P63018  CRC-03A27B30E6C076ED\n274       P62259  CRC-07817CCBD1F75B26\n...          ...                   ...\n9804      Q8IE57  CRC-FCADC4C9D752D8CB\n9808    O00308-1  CRC-FCCD75CBA61F2204\n9809    O00308-4  CRC-FCCD75CBA61F2204\n9918  A0A5K1K911  CRC-FFD0BEF99046D3AC\n9919      Q8IDC4  CRC-FFD0BEF99046D3AC\n\n[204 rows x 2 columns]",
      "text/html": "<div>\n<style scoped>\n    .dataframe tbody tr th:only-of-type {\n        vertical-align: middle;\n    }\n\n    .dataframe tbody tr th {\n        vertical-align: top;\n    }\n\n    .dataframe thead th {\n        text-align: right;\n    }\n</style>\n<table border=\"1\" class=\"dataframe\">\n  <thead>\n    <tr style=\"text-align: right;\">\n      <th></th>\n      <th>0</th>\n      <th>1</th>\n    </tr>\n  </thead>\n  <tbody>\n    <tr>\n      <th>38</th>\n      <td>P68369</td>\n      <td>CRC-00F8429A4A10E5FE</td>\n    </tr>\n    <tr>\n      <th>39</th>\n      <td>P68370</td>\n      <td>CRC-00F8429A4A10E5FE</td>\n    </tr>\n    <tr>\n      <th>131</th>\n      <td>P63017</td>\n      <td>CRC-03A27B30E6C076ED</td>\n    </tr>\n    <tr>\n      <th>132</th>\n      <td>P63018</td>\n      <td>CRC-03A27B30E6C076ED</td>\n    </tr>\n    <tr>\n      <th>274</th>\n      <td>P62259</td>\n      <td>CRC-07817CCBD1F75B26</td>\n    </tr>\n    <tr>\n      <th>...</th>\n      <td>...</td>\n      <td>...</td>\n    </tr>\n    <tr>\n      <th>9804</th>\n      <td>Q8IE57</td>\n      <td>CRC-FCADC4C9D752D8CB</td>\n    </tr>\n    <tr>\n      <th>9808</th>\n      <td>O00308-1</td>\n      <td>CRC-FCCD75CBA61F2204</td>\n    </tr>\n    <tr>\n      <th>9809</th>\n      <td>O00308-4</td>\n      <td>CRC-FCCD75CBA61F2204</td>\n    </tr>\n    <tr>\n      <th>9918</th>\n      <td>A0A5K1K911</td>\n      <td>CRC-FFD0BEF99046D3AC</td>\n    </tr>\n    <tr>\n      <th>9919</th>\n      <td>Q8IDC4</td>\n      <td>CRC-FFD0BEF99046D3AC</td>\n    </tr>\n  </tbody>\n</table>\n<p>204 rows × 2 columns</p>\n</div>"
     },
     "execution_count": 440,
     "metadata": {},
     "output_type": "execute_result"
    }
   ],
   "source": [
    "_hashing.loc[_hashing.iloc[:, 1].duplicated(\n",
    "    keep=False)].sort_values(by=[1, 0])"
   ],
   "metadata": {
    "collapsed": false
   }
  },
  {
   "cell_type": "code",
   "execution_count": 441,
   "outputs": [
    {
     "data": {
      "text/plain": "'Q8IDC4'"
     },
     "execution_count": 441,
     "metadata": {},
     "output_type": "execute_result"
    }
   ],
   "source": [
    "# this always picks the last entry in the table above -\n",
    "# meaning the latest\n",
    "_map = dict(zip(_hashing.iloc[:, 1], _hashing.iloc[:, 0]))\n",
    "_map['CRC-FFD0BEF99046D3AC']"
   ],
   "metadata": {
    "collapsed": false
   }
  },
  {
   "cell_type": "code",
   "execution_count": 824,
   "outputs": [
    {
     "data": {
      "text/plain": "        ida       idb  label  index  lena  lenb  chunk  model   ptm  iptm  \\\n0  Q9BWG6-1  Q4VC12-1      1      0   230   460      5      4  0.64  0.43   \n1  Q9BWG6-1  Q8N0S2-1      1      1   230   351      5      2  0.27  0.08   \n2  Q9BWG6-1    P17568      1      2   230   137      5      4  0.42  0.41   \n3  Q9BWG6-1  O95995-1      1      3   230   478      5      5  0.26  0.09   \n4  Q9BWG6-1  Q8IWZ5-1      1      4   230   723      5      2  0.43  0.11   \n\n   ...       capri  min_chezod  max_diso  max_chezod  avg_chezod  \\\n0  ...  acceptable    6.533676  0.591304   10.537396    8.535536   \n1  ...   incorrect    6.533676  0.591304    8.990527    7.762102   \n2  ...   incorrect    6.533676  0.591304   10.560456    8.547066   \n3  ...   incorrect    6.533676  0.591304   11.606744    9.070210   \n4  ...   incorrect    6.533676  0.591304    9.997539    8.265607   \n\n        dataset  prob                                            pdbfile  \\\n0  516 HuRI $+$   1.0  results_chunk_5/predictions/0_unrelaxed_rank_1...   \n1  516 HuRI $+$   1.0  results_chunk_5/predictions/1_unrelaxed_rank_1...   \n2  516 HuRI $+$   1.0  results_chunk_5/predictions/2_unrelaxed_rank_1...   \n3  516 HuRI $+$   1.0  results_chunk_5/predictions/3_unrelaxed_rank_1...   \n4  516 HuRI $+$   1.0  results_chunk_5/predictions/4_unrelaxed_rank_1...   \n\n                   crca                  crcb  \n0  CRC-001576EA78C61C85  CRC-045C9C9CAE0FD639  \n1  CRC-001576EA78C61C85  CRC-12E45FF6696080F8  \n2  CRC-001576EA78C61C85  CRC-2743716544288776  \n3  CRC-001576EA78C61C85  CRC-2EDBC7981868EB12  \n4  CRC-001576EA78C61C85  CRC-40897D5AF9B186A9  \n\n[5 rows x 30 columns]",
      "text/html": "<div>\n<style scoped>\n    .dataframe tbody tr th:only-of-type {\n        vertical-align: middle;\n    }\n\n    .dataframe tbody tr th {\n        vertical-align: top;\n    }\n\n    .dataframe thead th {\n        text-align: right;\n    }\n</style>\n<table border=\"1\" class=\"dataframe\">\n  <thead>\n    <tr style=\"text-align: right;\">\n      <th></th>\n      <th>ida</th>\n      <th>idb</th>\n      <th>label</th>\n      <th>index</th>\n      <th>lena</th>\n      <th>lenb</th>\n      <th>chunk</th>\n      <th>model</th>\n      <th>ptm</th>\n      <th>iptm</th>\n      <th>...</th>\n      <th>capri</th>\n      <th>min_chezod</th>\n      <th>max_diso</th>\n      <th>max_chezod</th>\n      <th>avg_chezod</th>\n      <th>dataset</th>\n      <th>prob</th>\n      <th>pdbfile</th>\n      <th>crca</th>\n      <th>crcb</th>\n    </tr>\n  </thead>\n  <tbody>\n    <tr>\n      <th>0</th>\n      <td>Q9BWG6-1</td>\n      <td>Q4VC12-1</td>\n      <td>1</td>\n      <td>0</td>\n      <td>230</td>\n      <td>460</td>\n      <td>5</td>\n      <td>4</td>\n      <td>0.64</td>\n      <td>0.43</td>\n      <td>...</td>\n      <td>acceptable</td>\n      <td>6.533676</td>\n      <td>0.591304</td>\n      <td>10.537396</td>\n      <td>8.535536</td>\n      <td>516 HuRI $+$</td>\n      <td>1.0</td>\n      <td>results_chunk_5/predictions/0_unrelaxed_rank_1...</td>\n      <td>CRC-001576EA78C61C85</td>\n      <td>CRC-045C9C9CAE0FD639</td>\n    </tr>\n    <tr>\n      <th>1</th>\n      <td>Q9BWG6-1</td>\n      <td>Q8N0S2-1</td>\n      <td>1</td>\n      <td>1</td>\n      <td>230</td>\n      <td>351</td>\n      <td>5</td>\n      <td>2</td>\n      <td>0.27</td>\n      <td>0.08</td>\n      <td>...</td>\n      <td>incorrect</td>\n      <td>6.533676</td>\n      <td>0.591304</td>\n      <td>8.990527</td>\n      <td>7.762102</td>\n      <td>516 HuRI $+$</td>\n      <td>1.0</td>\n      <td>results_chunk_5/predictions/1_unrelaxed_rank_1...</td>\n      <td>CRC-001576EA78C61C85</td>\n      <td>CRC-12E45FF6696080F8</td>\n    </tr>\n    <tr>\n      <th>2</th>\n      <td>Q9BWG6-1</td>\n      <td>P17568</td>\n      <td>1</td>\n      <td>2</td>\n      <td>230</td>\n      <td>137</td>\n      <td>5</td>\n      <td>4</td>\n      <td>0.42</td>\n      <td>0.41</td>\n      <td>...</td>\n      <td>incorrect</td>\n      <td>6.533676</td>\n      <td>0.591304</td>\n      <td>10.560456</td>\n      <td>8.547066</td>\n      <td>516 HuRI $+$</td>\n      <td>1.0</td>\n      <td>results_chunk_5/predictions/2_unrelaxed_rank_1...</td>\n      <td>CRC-001576EA78C61C85</td>\n      <td>CRC-2743716544288776</td>\n    </tr>\n    <tr>\n      <th>3</th>\n      <td>Q9BWG6-1</td>\n      <td>O95995-1</td>\n      <td>1</td>\n      <td>3</td>\n      <td>230</td>\n      <td>478</td>\n      <td>5</td>\n      <td>5</td>\n      <td>0.26</td>\n      <td>0.09</td>\n      <td>...</td>\n      <td>incorrect</td>\n      <td>6.533676</td>\n      <td>0.591304</td>\n      <td>11.606744</td>\n      <td>9.070210</td>\n      <td>516 HuRI $+$</td>\n      <td>1.0</td>\n      <td>results_chunk_5/predictions/3_unrelaxed_rank_1...</td>\n      <td>CRC-001576EA78C61C85</td>\n      <td>CRC-2EDBC7981868EB12</td>\n    </tr>\n    <tr>\n      <th>4</th>\n      <td>Q9BWG6-1</td>\n      <td>Q8IWZ5-1</td>\n      <td>1</td>\n      <td>4</td>\n      <td>230</td>\n      <td>723</td>\n      <td>5</td>\n      <td>2</td>\n      <td>0.43</td>\n      <td>0.11</td>\n      <td>...</td>\n      <td>incorrect</td>\n      <td>6.533676</td>\n      <td>0.591304</td>\n      <td>9.997539</td>\n      <td>8.265607</td>\n      <td>516 HuRI $+$</td>\n      <td>1.0</td>\n      <td>results_chunk_5/predictions/4_unrelaxed_rank_1...</td>\n      <td>CRC-001576EA78C61C85</td>\n      <td>CRC-40897D5AF9B186A9</td>\n    </tr>\n  </tbody>\n</table>\n<p>5 rows × 30 columns</p>\n</div>"
     },
     "execution_count": 824,
     "metadata": {},
     "output_type": "execute_result"
    }
   ],
   "source": [
    "ours = pd.read_csv('colabfold_scores.tsv', sep='\\t', header=0)\n",
    "ours['min_chezod'] = ours[['za', 'zb']].min(axis=1)\n",
    "ours['max_diso'] = ours[['da', 'db']].max(axis=1)\n",
    "ours['max_chezod'] = ours[['za', 'zb']].max(axis=1)\n",
    "ours['avg_chezod'] = ours[['za', 'zb']].mean(axis=1)\n",
    "ours['dataset'] = ours.label.apply(lambda l: ['514 HuRI $-$', '516 HuRI $+$'][l])\n",
    "ours['prob'] = ours.label.astype(float)\n",
    "ours['pdbfile'] = ours.apply(lambda s: f'results_chunk_{s.chunk}/predictions/{s[\"index\"]}_unrelaxed_rank_1_model_{s.model}.pdb', axis=1)\n",
    "ours[['crca', 'crcb']] = ours[['ida', 'idb']]\n",
    "\n",
    "ours.ida = ours.crca.apply(lambda s: _map.get(s))\n",
    "ours.idb = ours.crcb.apply(lambda s: _map.get(s))\n",
    "ours.head()"
   ],
   "metadata": {
    "collapsed": false
   }
  },
  {
   "cell_type": "markdown",
   "source": [
    "## prep an AF2 frame: huri, humap, random - not ours yet"
   ],
   "metadata": {
    "collapsed": false
   }
  },
  {
   "cell_type": "code",
   "execution_count": 904,
   "outputs": [
    {
     "name": "stdout",
     "output_type": "stream",
     "text": [
      "67848\n"
     ]
    },
    {
     "data": {
      "text/plain": "          ida     idb    pdockq dataset                              pdbfile  \\\n0  A0A024R0Y4  O14964  0.077304    HURI  ENSG00000185359-ENSG00000276234.pdb   \n1  A0A024R0Y4  O15287  0.038752    HURI  ENSG00000221829-ENSG00000276234.pdb   \n2  A0A024R0Y4  O60573  0.034888    HURI  ENSG00000135930-ENSG00000276234.pdb   \n3  A0A024R0Y4  O75431  0.075548    HURI  ENSG00000128654-ENSG00000276234.pdb   \n4  A0A024R0Y4  O75528  0.730883    HURI  ENSG00000171148-ENSG00000276234.pdb   \n\n   prob  lena  lenb  \n0   1.0     0     0  \n1   1.0     0     0  \n2   1.0     0     0  \n3   1.0     0     0  \n4   1.0     0     0  ",
      "text/html": "<div>\n<style scoped>\n    .dataframe tbody tr th:only-of-type {\n        vertical-align: middle;\n    }\n\n    .dataframe tbody tr th {\n        vertical-align: top;\n    }\n\n    .dataframe thead th {\n        text-align: right;\n    }\n</style>\n<table border=\"1\" class=\"dataframe\">\n  <thead>\n    <tr style=\"text-align: right;\">\n      <th></th>\n      <th>ida</th>\n      <th>idb</th>\n      <th>pdockq</th>\n      <th>dataset</th>\n      <th>pdbfile</th>\n      <th>prob</th>\n      <th>lena</th>\n      <th>lenb</th>\n    </tr>\n  </thead>\n  <tbody>\n    <tr>\n      <th>0</th>\n      <td>A0A024R0Y4</td>\n      <td>O14964</td>\n      <td>0.077304</td>\n      <td>HURI</td>\n      <td>ENSG00000185359-ENSG00000276234.pdb</td>\n      <td>1.0</td>\n      <td>0</td>\n      <td>0</td>\n    </tr>\n    <tr>\n      <th>1</th>\n      <td>A0A024R0Y4</td>\n      <td>O15287</td>\n      <td>0.038752</td>\n      <td>HURI</td>\n      <td>ENSG00000221829-ENSG00000276234.pdb</td>\n      <td>1.0</td>\n      <td>0</td>\n      <td>0</td>\n    </tr>\n    <tr>\n      <th>2</th>\n      <td>A0A024R0Y4</td>\n      <td>O60573</td>\n      <td>0.034888</td>\n      <td>HURI</td>\n      <td>ENSG00000135930-ENSG00000276234.pdb</td>\n      <td>1.0</td>\n      <td>0</td>\n      <td>0</td>\n    </tr>\n    <tr>\n      <th>3</th>\n      <td>A0A024R0Y4</td>\n      <td>O75431</td>\n      <td>0.075548</td>\n      <td>HURI</td>\n      <td>ENSG00000128654-ENSG00000276234.pdb</td>\n      <td>1.0</td>\n      <td>0</td>\n      <td>0</td>\n    </tr>\n    <tr>\n      <th>4</th>\n      <td>A0A024R0Y4</td>\n      <td>O75528</td>\n      <td>0.730883</td>\n      <td>HURI</td>\n      <td>ENSG00000171148-ENSG00000276234.pdb</td>\n      <td>1.0</td>\n      <td>0</td>\n      <td>0</td>\n    </tr>\n  </tbody>\n</table>\n</div>"
     },
     "execution_count": 904,
     "metadata": {},
     "output_type": "execute_result"
    }
   ],
   "source": [
    "af2 = pd.concat((mpp, r2k)).drop_duplicates()\n",
    "assert len(af2) == len(mpp) + len(r2k)\n",
    "print(len(af2))\n",
    "af2.head()"
   ],
   "metadata": {
    "collapsed": false
   }
  },
  {
   "cell_type": "code",
   "execution_count": 905,
   "outputs": [
    {
     "data": {
      "text/plain": "HURI           55638\nHuMap          10361\n1849 random     1849\nName: dataset, dtype: int64"
     },
     "execution_count": 905,
     "metadata": {},
     "output_type": "execute_result"
    }
   ],
   "source": [
    "af2.dataset.value_counts()"
   ],
   "metadata": {
    "collapsed": false
   }
  },
  {
   "cell_type": "code",
   "execution_count": 906,
   "outputs": [],
   "source": [
    "# add some annotations\n",
    "capris = ['incorrect', 'acceptable', 'medium', 'high']\n",
    "num_capris = ['$< 0.23$', '$0.23 - 0.5$', '$> 0.5$']"
   ],
   "metadata": {
    "collapsed": false
   }
  },
  {
   "cell_type": "code",
   "execution_count": 907,
   "outputs": [
    {
     "data": {
      "text/plain": "          ida     idb    pdockq dataset                              pdbfile  \\\n0  A0A024R0Y4  O14964  0.077304    HuRI  ENSG00000185359-ENSG00000276234.pdb   \n1  A0A024R0Y4  O15287  0.038752    HuRI  ENSG00000221829-ENSG00000276234.pdb   \n2  A0A024R0Y4  O60573  0.034888    HuRI  ENSG00000135930-ENSG00000276234.pdb   \n3  A0A024R0Y4  O75431  0.075548    HuRI  ENSG00000128654-ENSG00000276234.pdb   \n4  A0A024R0Y4  O75528  0.730883    HuRI  ENSG00000171148-ENSG00000276234.pdb   \n\n   prob  lena  lenb      capri  \n0   1.0     0     0  incorrect  \n1   1.0     0     0  incorrect  \n2   1.0     0     0  incorrect  \n3   1.0     0     0  incorrect  \n4   1.0     0     0     medium  ",
      "text/html": "<div>\n<style scoped>\n    .dataframe tbody tr th:only-of-type {\n        vertical-align: middle;\n    }\n\n    .dataframe tbody tr th {\n        vertical-align: top;\n    }\n\n    .dataframe thead th {\n        text-align: right;\n    }\n</style>\n<table border=\"1\" class=\"dataframe\">\n  <thead>\n    <tr style=\"text-align: right;\">\n      <th></th>\n      <th>ida</th>\n      <th>idb</th>\n      <th>pdockq</th>\n      <th>dataset</th>\n      <th>pdbfile</th>\n      <th>prob</th>\n      <th>lena</th>\n      <th>lenb</th>\n      <th>capri</th>\n    </tr>\n  </thead>\n  <tbody>\n    <tr>\n      <th>0</th>\n      <td>A0A024R0Y4</td>\n      <td>O14964</td>\n      <td>0.077304</td>\n      <td>HuRI</td>\n      <td>ENSG00000185359-ENSG00000276234.pdb</td>\n      <td>1.0</td>\n      <td>0</td>\n      <td>0</td>\n      <td>incorrect</td>\n    </tr>\n    <tr>\n      <th>1</th>\n      <td>A0A024R0Y4</td>\n      <td>O15287</td>\n      <td>0.038752</td>\n      <td>HuRI</td>\n      <td>ENSG00000221829-ENSG00000276234.pdb</td>\n      <td>1.0</td>\n      <td>0</td>\n      <td>0</td>\n      <td>incorrect</td>\n    </tr>\n    <tr>\n      <th>2</th>\n      <td>A0A024R0Y4</td>\n      <td>O60573</td>\n      <td>0.034888</td>\n      <td>HuRI</td>\n      <td>ENSG00000135930-ENSG00000276234.pdb</td>\n      <td>1.0</td>\n      <td>0</td>\n      <td>0</td>\n      <td>incorrect</td>\n    </tr>\n    <tr>\n      <th>3</th>\n      <td>A0A024R0Y4</td>\n      <td>O75431</td>\n      <td>0.075548</td>\n      <td>HuRI</td>\n      <td>ENSG00000128654-ENSG00000276234.pdb</td>\n      <td>1.0</td>\n      <td>0</td>\n      <td>0</td>\n      <td>incorrect</td>\n    </tr>\n    <tr>\n      <th>4</th>\n      <td>A0A024R0Y4</td>\n      <td>O75528</td>\n      <td>0.730883</td>\n      <td>HuRI</td>\n      <td>ENSG00000171148-ENSG00000276234.pdb</td>\n      <td>1.0</td>\n      <td>0</td>\n      <td>0</td>\n      <td>medium</td>\n    </tr>\n  </tbody>\n</table>\n</div>"
     },
     "execution_count": 907,
     "metadata": {},
     "output_type": "execute_result"
    }
   ],
   "source": [
    "af2['capri'] = af2.pdockq.apply(\n",
    "    lambda pq: 'incorrect' if pq < .23 else 'acceptable' if pq < .5 else 'medium' if pq < .8 else 'high')\n",
    "af2.loc[af2.dataset == 'HURI', 'dataset'] = 'HuRI'\n",
    "af2.loc[af2.dataset == 'HuMap', 'dataset'] = 'hu.MAP'\n",
    "af2.head()"
   ],
   "metadata": {
    "collapsed": false
   }
  },
  {
   "cell_type": "code",
   "execution_count": 908,
   "outputs": [
    {
     "data": {
      "text/plain": "(9950, ['Q99525', 'A0AVT1', 'O95848', 'Q6ZTN6'])"
     },
     "execution_count": 908,
     "metadata": {},
     "output_type": "execute_result"
    }
   ],
   "source": [
    "af2_ids = get_ids(af2)\n",
    "len(af2_ids), list(af2_ids)[:4]"
   ],
   "metadata": {
    "collapsed": false
   }
  },
  {
   "cell_type": "markdown",
   "source": [
    "## load seqs for HuRI and hu.MAP"
   ],
   "metadata": {
    "collapsed": false
   }
  },
  {
   "cell_type": "code",
   "execution_count": 909,
   "outputs": [],
   "source": [
    "def proc(df: pd.DataFrame, name: Optional[str] = None\n",
    "         ) -> [pd.DataFrame, dict[str, str]]:\n",
    "    assert df.shape[1] == 2, 'pass two columns!'\n",
    "    df = df.copy()\n",
    "    df.columns = ['uniprotkb', 'seq']\n",
    "    df = df.loc[~df.seq.isna()]\n",
    "    assert not len(df.loc[df.uniprotkb.duplicated()]), 'duplicates in ID column!'\n",
    "    df['crc64'] = df.seq.apply(get_seq_hash)\n",
    "    df['len'] = df.seq.apply(len)\n",
    "    if name:\n",
    "        df['dataset'] = name\n",
    "    d = dict(zip(df.crc64, df.seq))\n",
    "    df = df.drop(columns='seq')\n",
    "    return df, d"
   ],
   "metadata": {
    "collapsed": false
   }
  },
  {
   "cell_type": "code",
   "execution_count": 910,
   "outputs": [],
   "source": [
    "af2_seqs = dict()"
   ],
   "metadata": {
    "collapsed": false
   }
  },
  {
   "cell_type": "code",
   "execution_count": 911,
   "outputs": [
    {
     "data": {
      "text/plain": "        Entry   Entry name    Status  \\\n0  A0A075B759  PAL4E_HUMAN  reviewed   \n1  A0A0B4J2A2  PAL4C_HUMAN  reviewed   \n2      A0AV02  S12A8_HUMAN  reviewed   \n3      A0AV96  RBM47_HUMAN  reviewed   \n4      A0AVF1  IFT56_HUMAN  reviewed   \n\n                                       Protein names    Gene names  \\\n0  Peptidyl-prolyl cis-trans isomerase A-like 4E ...       PPIAL4E   \n1  Peptidyl-prolyl cis-trans isomerase A-like 4C ...       PPIAL4C   \n2  Solute carrier family 12 member 8 (Cation-chlo...  SLC12A8 CCC9   \n3  RNA-binding protein 47 (RNA-binding motif prot...         RBM47   \n4  Intraflagellar transport protein 56 (Tetratric...   TTC26 IFT56   \n\n               Organism  Length  \\\n0  Homo sapiens (Human)   164.0   \n1  Homo sapiens (Human)   164.0   \n2  Homo sapiens (Human)   714.0   \n3  Homo sapiens (Human)   593.0   \n4  Homo sapiens (Human)   554.0   \n\n                                            Sequence Cross-reference (PDB)  \\\n0  MVNSVVFFEITRDGKPLGRISIKLFADKIPKTAENFRALSTGEKGF...                   NaN   \n1  MVNSVVFFDITVDGKPLGRISIKLFADKIPKTAENFRALSTGEKGF...                   NaN   \n2  MTQMSQVQELFHEAAQQDALAQPQPWWKTQLFMWEPVLFGTWDGVF...                   NaN   \n3  MTAEDSTAAMSSDSAAGSSAKVPEGVAGAPNEAALLALMERTGYSM...                 2DIS;   \n4  MMLSRAKPAVGRGVQHTDKRKKKGRKIPKLEELLSKRDFTGAITLL...                   NaN   \n\n                  Gene ontology (cellular component)  \\\n0  cytoplasm [GO:0005737]; intracellular membrane...   \n1  cytoplasm [GO:0005737]; intracellular membrane...   \n2        integral component of membrane [GO:0016021]   \n3                               nucleus [GO:0005634]   \n4  centrosome [GO:0005813]; ciliary basal body [G...   \n\n                           Subcellular location [CC]  \n0  SUBCELLULAR LOCATION: Cytoplasm {ECO:0000250|U...  \n1  SUBCELLULAR LOCATION: Cytoplasm {ECO:0000250|U...  \n2  SUBCELLULAR LOCATION: Membrane {ECO:0000305}; ...  \n3       SUBCELLULAR LOCATION: Nucleus {ECO:0000250}.  \n4  SUBCELLULAR LOCATION: Cell projection, cilium ...  ",
      "text/html": "<div>\n<style scoped>\n    .dataframe tbody tr th:only-of-type {\n        vertical-align: middle;\n    }\n\n    .dataframe tbody tr th {\n        vertical-align: top;\n    }\n\n    .dataframe thead th {\n        text-align: right;\n    }\n</style>\n<table border=\"1\" class=\"dataframe\">\n  <thead>\n    <tr style=\"text-align: right;\">\n      <th></th>\n      <th>Entry</th>\n      <th>Entry name</th>\n      <th>Status</th>\n      <th>Protein names</th>\n      <th>Gene names</th>\n      <th>Organism</th>\n      <th>Length</th>\n      <th>Sequence</th>\n      <th>Cross-reference (PDB)</th>\n      <th>Gene ontology (cellular component)</th>\n      <th>Subcellular location [CC]</th>\n    </tr>\n  </thead>\n  <tbody>\n    <tr>\n      <th>0</th>\n      <td>A0A075B759</td>\n      <td>PAL4E_HUMAN</td>\n      <td>reviewed</td>\n      <td>Peptidyl-prolyl cis-trans isomerase A-like 4E ...</td>\n      <td>PPIAL4E</td>\n      <td>Homo sapiens (Human)</td>\n      <td>164.0</td>\n      <td>MVNSVVFFEITRDGKPLGRISIKLFADKIPKTAENFRALSTGEKGF...</td>\n      <td>NaN</td>\n      <td>cytoplasm [GO:0005737]; intracellular membrane...</td>\n      <td>SUBCELLULAR LOCATION: Cytoplasm {ECO:0000250|U...</td>\n    </tr>\n    <tr>\n      <th>1</th>\n      <td>A0A0B4J2A2</td>\n      <td>PAL4C_HUMAN</td>\n      <td>reviewed</td>\n      <td>Peptidyl-prolyl cis-trans isomerase A-like 4C ...</td>\n      <td>PPIAL4C</td>\n      <td>Homo sapiens (Human)</td>\n      <td>164.0</td>\n      <td>MVNSVVFFDITVDGKPLGRISIKLFADKIPKTAENFRALSTGEKGF...</td>\n      <td>NaN</td>\n      <td>cytoplasm [GO:0005737]; intracellular membrane...</td>\n      <td>SUBCELLULAR LOCATION: Cytoplasm {ECO:0000250|U...</td>\n    </tr>\n    <tr>\n      <th>2</th>\n      <td>A0AV02</td>\n      <td>S12A8_HUMAN</td>\n      <td>reviewed</td>\n      <td>Solute carrier family 12 member 8 (Cation-chlo...</td>\n      <td>SLC12A8 CCC9</td>\n      <td>Homo sapiens (Human)</td>\n      <td>714.0</td>\n      <td>MTQMSQVQELFHEAAQQDALAQPQPWWKTQLFMWEPVLFGTWDGVF...</td>\n      <td>NaN</td>\n      <td>integral component of membrane [GO:0016021]</td>\n      <td>SUBCELLULAR LOCATION: Membrane {ECO:0000305}; ...</td>\n    </tr>\n    <tr>\n      <th>3</th>\n      <td>A0AV96</td>\n      <td>RBM47_HUMAN</td>\n      <td>reviewed</td>\n      <td>RNA-binding protein 47 (RNA-binding motif prot...</td>\n      <td>RBM47</td>\n      <td>Homo sapiens (Human)</td>\n      <td>593.0</td>\n      <td>MTAEDSTAAMSSDSAAGSSAKVPEGVAGAPNEAALLALMERTGYSM...</td>\n      <td>2DIS;</td>\n      <td>nucleus [GO:0005634]</td>\n      <td>SUBCELLULAR LOCATION: Nucleus {ECO:0000250}.</td>\n    </tr>\n    <tr>\n      <th>4</th>\n      <td>A0AVF1</td>\n      <td>IFT56_HUMAN</td>\n      <td>reviewed</td>\n      <td>Intraflagellar transport protein 56 (Tetratric...</td>\n      <td>TTC26 IFT56</td>\n      <td>Homo sapiens (Human)</td>\n      <td>554.0</td>\n      <td>MMLSRAKPAVGRGVQHTDKRKKKGRKIPKLEELLSKRDFTGAITLL...</td>\n      <td>NaN</td>\n      <td>centrosome [GO:0005813]; ciliary basal body [G...</td>\n      <td>SUBCELLULAR LOCATION: Cell projection, cilium ...</td>\n    </tr>\n  </tbody>\n</table>\n</div>"
     },
     "execution_count": 911,
     "metadata": {},
     "output_type": "execute_result"
    }
   ],
   "source": [
    "humap = pd.read_csv(huintaf_dir /\n",
    "                    'data/HuMap-uniprot.tab', sep='\\t')\n",
    "humap.head()"
   ],
   "metadata": {
    "collapsed": false
   }
  },
  {
   "cell_type": "code",
   "execution_count": 912,
   "outputs": [],
   "source": [
    "humap, af2_seqs['hu.MAP'] = proc(\n",
    "    humap[['Entry', 'Sequence']], 'hu.MAP')"
   ],
   "metadata": {
    "collapsed": false
   }
  },
  {
   "cell_type": "code",
   "execution_count": 913,
   "outputs": [
    {
     "data": {
      "text/plain": "        Entry        Entry name      Status  \\\n0  A0A024R0Y4  A0A024R0Y4_HUMAN  unreviewed   \n1  A0A024R2X5  A0A024R2X5_HUMAN         NaN   \n2  A0A024R644  A0A024R644_HUMAN  unreviewed   \n3  A0A024RA52  A0A024RA52_HUMAN  unreviewed   \n4  A0A024RAC6  A0A024RAC6_HUMAN  unreviewed   \n\n                                      Protein names               Gene names  \\\n0                           Transcriptional adapter  TADA2A TADA2L hCG_28187   \n1                                          Deleted.                      NaN   \n2  Ceroid-lipofuscinosis, neuronal 5, isoform CRA_a           CLN5 hCG_28176   \n3                     Proteasome subunit alpha type          PSMA2 hCG_19883   \n4                                         Elongin-A     ELOA TCEB3 hCG_37551   \n\n               Organism  Length  \\\n0  Homo sapiens (Human)   443.0   \n1                   NaN     NaN   \n2  Homo sapiens (Human)   407.0   \n3  Homo sapiens (Human)   234.0   \n4  Homo sapiens (Human)   772.0   \n\n                                            Sequence Cross-reference (PDB)  \\\n0  MDRLGSFSNDPSDKPPCRGCSSYLMEPYIKCAECGPPPFFLCLQCF...                   NaN   \n1                                                NaN                   NaN   \n2  MRRNLRLGPSSGADAQGQGAPRPGLAAPRMLLPPASQASRGSGSTG...                 6R99;   \n3  MAERGYSFSLTTFSPSGKLVQIEYALAAVAGGAPSVGIKAANGVVL...                   NaN   \n4  MAAESALQVVEKLQARLAANPDPKKLLKYLKKLSTLPITVDILAET...                   NaN   \n\n                  Gene ontology (cellular component)  \\\n0  ATAC complex [GO:0140672]; mitotic spindle [GO...   \n1                                                NaN   \n2                              lysosome [GO:0005764]   \n3  cytosol [GO:0005829]; nucleus [GO:0005634]; pr...   \n4                       elongin complex [GO:0070449]   \n\n                           Subcellular location [CC]  \n0  SUBCELLULAR LOCATION: Nucleus {ECO:0000256|PIR...  \n1                                                NaN  \n2                                                NaN  \n3  SUBCELLULAR LOCATION: Cytoplasm {ECO:0000256|R...  \n4  SUBCELLULAR LOCATION: Nucleus {ECO:0000256|ARB...  ",
      "text/html": "<div>\n<style scoped>\n    .dataframe tbody tr th:only-of-type {\n        vertical-align: middle;\n    }\n\n    .dataframe tbody tr th {\n        vertical-align: top;\n    }\n\n    .dataframe thead th {\n        text-align: right;\n    }\n</style>\n<table border=\"1\" class=\"dataframe\">\n  <thead>\n    <tr style=\"text-align: right;\">\n      <th></th>\n      <th>Entry</th>\n      <th>Entry name</th>\n      <th>Status</th>\n      <th>Protein names</th>\n      <th>Gene names</th>\n      <th>Organism</th>\n      <th>Length</th>\n      <th>Sequence</th>\n      <th>Cross-reference (PDB)</th>\n      <th>Gene ontology (cellular component)</th>\n      <th>Subcellular location [CC]</th>\n    </tr>\n  </thead>\n  <tbody>\n    <tr>\n      <th>0</th>\n      <td>A0A024R0Y4</td>\n      <td>A0A024R0Y4_HUMAN</td>\n      <td>unreviewed</td>\n      <td>Transcriptional adapter</td>\n      <td>TADA2A TADA2L hCG_28187</td>\n      <td>Homo sapiens (Human)</td>\n      <td>443.0</td>\n      <td>MDRLGSFSNDPSDKPPCRGCSSYLMEPYIKCAECGPPPFFLCLQCF...</td>\n      <td>NaN</td>\n      <td>ATAC complex [GO:0140672]; mitotic spindle [GO...</td>\n      <td>SUBCELLULAR LOCATION: Nucleus {ECO:0000256|PIR...</td>\n    </tr>\n    <tr>\n      <th>1</th>\n      <td>A0A024R2X5</td>\n      <td>A0A024R2X5_HUMAN</td>\n      <td>NaN</td>\n      <td>Deleted.</td>\n      <td>NaN</td>\n      <td>NaN</td>\n      <td>NaN</td>\n      <td>NaN</td>\n      <td>NaN</td>\n      <td>NaN</td>\n      <td>NaN</td>\n    </tr>\n    <tr>\n      <th>2</th>\n      <td>A0A024R644</td>\n      <td>A0A024R644_HUMAN</td>\n      <td>unreviewed</td>\n      <td>Ceroid-lipofuscinosis, neuronal 5, isoform CRA_a</td>\n      <td>CLN5 hCG_28176</td>\n      <td>Homo sapiens (Human)</td>\n      <td>407.0</td>\n      <td>MRRNLRLGPSSGADAQGQGAPRPGLAAPRMLLPPASQASRGSGSTG...</td>\n      <td>6R99;</td>\n      <td>lysosome [GO:0005764]</td>\n      <td>NaN</td>\n    </tr>\n    <tr>\n      <th>3</th>\n      <td>A0A024RA52</td>\n      <td>A0A024RA52_HUMAN</td>\n      <td>unreviewed</td>\n      <td>Proteasome subunit alpha type</td>\n      <td>PSMA2 hCG_19883</td>\n      <td>Homo sapiens (Human)</td>\n      <td>234.0</td>\n      <td>MAERGYSFSLTTFSPSGKLVQIEYALAAVAGGAPSVGIKAANGVVL...</td>\n      <td>NaN</td>\n      <td>cytosol [GO:0005829]; nucleus [GO:0005634]; pr...</td>\n      <td>SUBCELLULAR LOCATION: Cytoplasm {ECO:0000256|R...</td>\n    </tr>\n    <tr>\n      <th>4</th>\n      <td>A0A024RAC6</td>\n      <td>A0A024RAC6_HUMAN</td>\n      <td>unreviewed</td>\n      <td>Elongin-A</td>\n      <td>ELOA TCEB3 hCG_37551</td>\n      <td>Homo sapiens (Human)</td>\n      <td>772.0</td>\n      <td>MAAESALQVVEKLQARLAANPDPKKLLKYLKKLSTLPITVDILAET...</td>\n      <td>NaN</td>\n      <td>elongin complex [GO:0070449]</td>\n      <td>SUBCELLULAR LOCATION: Nucleus {ECO:0000256|ARB...</td>\n    </tr>\n  </tbody>\n</table>\n</div>"
     },
     "execution_count": 913,
     "metadata": {},
     "output_type": "execute_result"
    }
   ],
   "source": [
    "huri = pd.read_csv(huintaf_dir / 'data/HuRI-uniprot.tab', sep='\\t')\n",
    "huri.head()"
   ],
   "metadata": {
    "collapsed": false
   }
  },
  {
   "cell_type": "code",
   "execution_count": 914,
   "outputs": [],
   "source": [
    "huri, af2_seqs['HuRI'] = proc(\n",
    "    huri[['Entry', 'Sequence']], 'HuRI')"
   ],
   "metadata": {
    "collapsed": false
   }
  },
  {
   "cell_type": "code",
   "execution_count": 973,
   "outputs": [
    {
     "data": {
      "text/plain": "                Id  Length                                           Sequence  \\\n0  ENSG00000000005   317.0  MAKNPPENCEDCHILNAEAFKSKKICKSLKICGLVFGILALTLIVL...   \n1  ENSG00000000419   260.0  MASLEVSRSPRRSRRELEVRSPRQNKYSVLLPTYNERENLPLIVWL...   \n2  ENSG00000000457   742.0  MGSENSALKSYTLREPPFTLPSGLAVYPAVLQDGKFASVFVYKREN...   \n3  ENSG00000000460   853.0  MFLPHMNHLTLEQTFFSQVLPKTVKLFDDMMYELTSQARGLSSQNL...   \n4  ENSG00000001036   467.0  MRPQELPRLAFPLLLLLLLLLPPPPCPAHSATRFDPTWESLDARQL...   \n\n    Entry   Entry name Cross-reference (PANTHER) Cross-reference (PDB)  \\\n0  Q9H2S6   TNMD_HUMAN                PTHR14064;                   NaN   \n1  O60762   DPM1_HUMAN                PTHR43398;                   NaN   \n2  Q8IZE3  PACE1_HUMAN                       NaN                   NaN   \n3  Q9NSG2  CA112_HUMAN                PTHR16071;                   NaN   \n4  Q9BTY2  FUCO2_HUMAN                PTHR10030;                   NaN   \n\n                     Gene names  \n0     TNMD CHM1L UNQ771/PRO1565  \n1                          DPM1  \n2                   SCYL3 PACE1  \n3                      C1orf112  \n4  FUCA2 PSEC0151 UNQ227/PRO260  ",
      "text/html": "<div>\n<style scoped>\n    .dataframe tbody tr th:only-of-type {\n        vertical-align: middle;\n    }\n\n    .dataframe tbody tr th {\n        vertical-align: top;\n    }\n\n    .dataframe thead th {\n        text-align: right;\n    }\n</style>\n<table border=\"1\" class=\"dataframe\">\n  <thead>\n    <tr style=\"text-align: right;\">\n      <th></th>\n      <th>Id</th>\n      <th>Length</th>\n      <th>Sequence</th>\n      <th>Entry</th>\n      <th>Entry name</th>\n      <th>Cross-reference (PANTHER)</th>\n      <th>Cross-reference (PDB)</th>\n      <th>Gene names</th>\n    </tr>\n  </thead>\n  <tbody>\n    <tr>\n      <th>0</th>\n      <td>ENSG00000000005</td>\n      <td>317.0</td>\n      <td>MAKNPPENCEDCHILNAEAFKSKKICKSLKICGLVFGILALTLIVL...</td>\n      <td>Q9H2S6</td>\n      <td>TNMD_HUMAN</td>\n      <td>PTHR14064;</td>\n      <td>NaN</td>\n      <td>TNMD CHM1L UNQ771/PRO1565</td>\n    </tr>\n    <tr>\n      <th>1</th>\n      <td>ENSG00000000419</td>\n      <td>260.0</td>\n      <td>MASLEVSRSPRRSRRELEVRSPRQNKYSVLLPTYNERENLPLIVWL...</td>\n      <td>O60762</td>\n      <td>DPM1_HUMAN</td>\n      <td>PTHR43398;</td>\n      <td>NaN</td>\n      <td>DPM1</td>\n    </tr>\n    <tr>\n      <th>2</th>\n      <td>ENSG00000000457</td>\n      <td>742.0</td>\n      <td>MGSENSALKSYTLREPPFTLPSGLAVYPAVLQDGKFASVFVYKREN...</td>\n      <td>Q8IZE3</td>\n      <td>PACE1_HUMAN</td>\n      <td>NaN</td>\n      <td>NaN</td>\n      <td>SCYL3 PACE1</td>\n    </tr>\n    <tr>\n      <th>3</th>\n      <td>ENSG00000000460</td>\n      <td>853.0</td>\n      <td>MFLPHMNHLTLEQTFFSQVLPKTVKLFDDMMYELTSQARGLSSQNL...</td>\n      <td>Q9NSG2</td>\n      <td>CA112_HUMAN</td>\n      <td>PTHR16071;</td>\n      <td>NaN</td>\n      <td>C1orf112</td>\n    </tr>\n    <tr>\n      <th>4</th>\n      <td>ENSG00000001036</td>\n      <td>467.0</td>\n      <td>MRPQELPRLAFPLLLLLLLLLPPPPCPAHSATRFDPTWESLDARQL...</td>\n      <td>Q9BTY2</td>\n      <td>FUCO2_HUMAN</td>\n      <td>PTHR10030;</td>\n      <td>NaN</td>\n      <td>FUCA2 PSEC0151 UNQ227/PRO260</td>\n    </tr>\n  </tbody>\n</table>\n</div>"
     },
     "execution_count": 973,
     "metadata": {},
     "output_type": "execute_result"
    }
   ],
   "source": [
    "huri_ensg = pd.read_csv(huintaf_dir / 'data/HuRI/seqs.csv')\n",
    "huri_ensg.head()"
   ],
   "metadata": {
    "collapsed": false
   }
  },
  {
   "cell_type": "code",
   "execution_count": 980,
   "outputs": [
    {
     "name": "stdout",
     "output_type": "stream",
     "text": [
      "8888\n"
     ]
    },
    {
     "data": {
      "text/plain": "              ensg  len uniprotkb                 crc64\n0  ENSG00000000005  317    Q9H2S6  CRC-D17507D7E2EA0C68\n1  ENSG00000000419  260    O60762  CRC-9792145BFC8F0514\n2  ENSG00000000457  742    Q8IZE3  CRC-2F7D03681A4F641B\n3  ENSG00000000460  853    Q9NSG2  CRC-E7FCA875C87052B1\n4  ENSG00000001036  467    Q9BTY2  CRC-A42AA6B369A3AC39",
      "text/html": "<div>\n<style scoped>\n    .dataframe tbody tr th:only-of-type {\n        vertical-align: middle;\n    }\n\n    .dataframe tbody tr th {\n        vertical-align: top;\n    }\n\n    .dataframe thead th {\n        text-align: right;\n    }\n</style>\n<table border=\"1\" class=\"dataframe\">\n  <thead>\n    <tr style=\"text-align: right;\">\n      <th></th>\n      <th>ensg</th>\n      <th>len</th>\n      <th>uniprotkb</th>\n      <th>crc64</th>\n    </tr>\n  </thead>\n  <tbody>\n    <tr>\n      <th>0</th>\n      <td>ENSG00000000005</td>\n      <td>317</td>\n      <td>Q9H2S6</td>\n      <td>CRC-D17507D7E2EA0C68</td>\n    </tr>\n    <tr>\n      <th>1</th>\n      <td>ENSG00000000419</td>\n      <td>260</td>\n      <td>O60762</td>\n      <td>CRC-9792145BFC8F0514</td>\n    </tr>\n    <tr>\n      <th>2</th>\n      <td>ENSG00000000457</td>\n      <td>742</td>\n      <td>Q8IZE3</td>\n      <td>CRC-2F7D03681A4F641B</td>\n    </tr>\n    <tr>\n      <th>3</th>\n      <td>ENSG00000000460</td>\n      <td>853</td>\n      <td>Q9NSG2</td>\n      <td>CRC-E7FCA875C87052B1</td>\n    </tr>\n    <tr>\n      <th>4</th>\n      <td>ENSG00000001036</td>\n      <td>467</td>\n      <td>Q9BTY2</td>\n      <td>CRC-A42AA6B369A3AC39</td>\n    </tr>\n  </tbody>\n</table>\n</div>"
     },
     "execution_count": 980,
     "metadata": {},
     "output_type": "execute_result"
    }
   ],
   "source": [
    "# insert: save the ENSG shit\n",
    "enn = huri_ensg.copy()\n",
    "enn = enn.rename(columns=dict(Id='ensg', Length='len', Entry='uniprotkb', Sequence='seq'))\n",
    "enn.len = enn.len.astype(int)\n",
    "enn['crc64'] = enn.seq.apply(get_seq_hash)\n",
    "enn = enn[['ensg', 'len', 'uniprotkb', 'crc64']].drop_duplicates()\n",
    "print(len(enn))\n",
    "enn.head()"
   ],
   "metadata": {
    "collapsed": false
   }
  },
  {
   "cell_type": "code",
   "execution_count": 981,
   "outputs": [],
   "source": [
    "enn.to_csv('ENSGs.tsv', sep='\\t', header=True, index=False)"
   ],
   "metadata": {
    "collapsed": false
   }
  },
  {
   "cell_type": "code",
   "execution_count": 916,
   "outputs": [
    {
     "data": {
      "text/plain": "  uniprotkb                 crc64  len dataset\n0    Q9H2S6  CRC-D17507D7E2EA0C68  317    ensg\n1    O60762  CRC-9792145BFC8F0514  260    ensg\n2    Q8IZE3  CRC-2F7D03681A4F641B  742    ensg\n3    Q9NSG2  CRC-E7FCA875C87052B1  853    ensg\n4    Q9BTY2  CRC-A42AA6B369A3AC39  467    ensg",
      "text/html": "<div>\n<style scoped>\n    .dataframe tbody tr th:only-of-type {\n        vertical-align: middle;\n    }\n\n    .dataframe tbody tr th {\n        vertical-align: top;\n    }\n\n    .dataframe thead th {\n        text-align: right;\n    }\n</style>\n<table border=\"1\" class=\"dataframe\">\n  <thead>\n    <tr style=\"text-align: right;\">\n      <th></th>\n      <th>uniprotkb</th>\n      <th>crc64</th>\n      <th>len</th>\n      <th>dataset</th>\n    </tr>\n  </thead>\n  <tbody>\n    <tr>\n      <th>0</th>\n      <td>Q9H2S6</td>\n      <td>CRC-D17507D7E2EA0C68</td>\n      <td>317</td>\n      <td>ensg</td>\n    </tr>\n    <tr>\n      <th>1</th>\n      <td>O60762</td>\n      <td>CRC-9792145BFC8F0514</td>\n      <td>260</td>\n      <td>ensg</td>\n    </tr>\n    <tr>\n      <th>2</th>\n      <td>Q8IZE3</td>\n      <td>CRC-2F7D03681A4F641B</td>\n      <td>742</td>\n      <td>ensg</td>\n    </tr>\n    <tr>\n      <th>3</th>\n      <td>Q9NSG2</td>\n      <td>CRC-E7FCA875C87052B1</td>\n      <td>853</td>\n      <td>ensg</td>\n    </tr>\n    <tr>\n      <th>4</th>\n      <td>Q9BTY2</td>\n      <td>CRC-A42AA6B369A3AC39</td>\n      <td>467</td>\n      <td>ensg</td>\n    </tr>\n  </tbody>\n</table>\n</div>"
     },
     "execution_count": 916,
     "metadata": {},
     "output_type": "execute_result"
    }
   ],
   "source": [
    "ensg, af2_seqs['ensg'] = proc(\n",
    "    huri_ensg[['Entry', 'Sequence']], 'ensg')\n",
    "ensg.head()"
   ],
   "metadata": {
    "collapsed": false
   }
  },
  {
   "cell_type": "code",
   "execution_count": 917,
   "outputs": [
    {
     "name": "stdout",
     "output_type": "stream",
     "text": [
      "27646\n"
     ]
    },
    {
     "data": {
      "text/plain": "    uniprotkb                 crc64  len dataset\n0  A0A075B759  CRC-FD7DF57F1A6FDAA9  164  hu.MAP\n1  A0A0B4J2A2  CRC-8FE074FFE5657EF8  164  hu.MAP\n2      A0AV02  CRC-CE7669E9758EF00D  714  hu.MAP\n3      A0AV96  CRC-AEA061F89A68010B  593  hu.MAP\n4      A0AVF1  CRC-188062024DB89B97  554  hu.MAP",
      "text/html": "<div>\n<style scoped>\n    .dataframe tbody tr th:only-of-type {\n        vertical-align: middle;\n    }\n\n    .dataframe tbody tr th {\n        vertical-align: top;\n    }\n\n    .dataframe thead th {\n        text-align: right;\n    }\n</style>\n<table border=\"1\" class=\"dataframe\">\n  <thead>\n    <tr style=\"text-align: right;\">\n      <th></th>\n      <th>uniprotkb</th>\n      <th>crc64</th>\n      <th>len</th>\n      <th>dataset</th>\n    </tr>\n  </thead>\n  <tbody>\n    <tr>\n      <th>0</th>\n      <td>A0A075B759</td>\n      <td>CRC-FD7DF57F1A6FDAA9</td>\n      <td>164</td>\n      <td>hu.MAP</td>\n    </tr>\n    <tr>\n      <th>1</th>\n      <td>A0A0B4J2A2</td>\n      <td>CRC-8FE074FFE5657EF8</td>\n      <td>164</td>\n      <td>hu.MAP</td>\n    </tr>\n    <tr>\n      <th>2</th>\n      <td>A0AV02</td>\n      <td>CRC-CE7669E9758EF00D</td>\n      <td>714</td>\n      <td>hu.MAP</td>\n    </tr>\n    <tr>\n      <th>3</th>\n      <td>A0AV96</td>\n      <td>CRC-AEA061F89A68010B</td>\n      <td>593</td>\n      <td>hu.MAP</td>\n    </tr>\n    <tr>\n      <th>4</th>\n      <td>A0AVF1</td>\n      <td>CRC-188062024DB89B97</td>\n      <td>554</td>\n      <td>hu.MAP</td>\n    </tr>\n  </tbody>\n</table>\n</div>"
     },
     "execution_count": 917,
     "metadata": {},
     "output_type": "execute_result"
    }
   ],
   "source": [
    "af3 = pd.concat((humap, huri, ensg))\n",
    "assert len(af3) == len(af3.drop_duplicates())\n",
    "print(len(af3))\n",
    "af3.head()"
   ],
   "metadata": {
    "collapsed": false
   }
  },
  {
   "cell_type": "code",
   "execution_count": 918,
   "outputs": [],
   "source": [
    "# first, merge all the entries that have pdbfiles with ENSGs only"
   ],
   "metadata": {
    "collapsed": false
   }
  },
  {
   "cell_type": "code",
   "execution_count": 919,
   "outputs": [
    {
     "data": {
      "text/plain": "[[['ENSG00000185359', 'ENSG00000276234']],\n [['ENSG00000221829', 'ENSG00000276234']],\n [['ENSG00000135930', 'ENSG00000276234']],\n [['ENSG00000128654', 'ENSG00000276234']],\n [['ENSG00000171148', 'ENSG00000276234']],\n [['ENSG00000145982', 'ENSG00000276234']],\n [['ENSG00000168309', 'ENSG00000276234']],\n [['ENSG00000229809', 'ENSG00000276234']],\n [['ENSG00000166407', 'ENSG00000276234']],\n [['ENSG00000172053', 'ENSG00000276234']],\n [['ENSG00000182481', 'ENSG00000276234']],\n [['ENSG00000140259', 'ENSG00000276234']],\n [['ENSG00000162385', 'ENSG00000276234']],\n [['ENSG00000183431', 'ENSG00000276234']],\n [['ENSG00000179455', 'ENSG00000276234']],\n [['ENSG00000212747', 'ENSG00000276234']],\n [['ENSG00000175946', 'ENSG00000276234']],\n [['ENSG00000103852', 'ENSG00000276234']],\n [['ENSG00000174460', 'ENSG00000276234']],\n [['ENSG00000116903', 'ENSG00000276234']],\n [['ENSG00000161180', 'ENSG00000276234']],\n [['ENSG00000162222', 'ENSG00000276234']],\n [['ENSG00000173480', 'ENSG00000276234']],\n [['ENSG00000249709', 'ENSG00000276234']],\n [['ENSG00000204536', 'ENSG00000276234']],\n [['ENSG00000188878', 'ENSG00000276234']],\n [['ENSG00000143889', 'ENSG00000276234']],\n [['ENSG00000163060', 'ENSG00000276234']],\n [['ENSG00000105618', 'ENSG00000276234']],\n [['ENSG00000111196', 'ENSG00000276234']],\n [['ENSG00000079134', 'ENSG00000276234']],\n [['ENSG00000164649', 'ENSG00000276234']],\n [['ENSG00000101445', 'ENSG00000276234']],\n [['ENSG00000131475', 'ENSG00000276234']],\n [['ENSG00000137171', 'ENSG00000276234']],\n [['ENSG00000116922', 'ENSG00000276234']],\n [['ENSG00000127870', 'ENSG00000276234']],\n [['ENSG00000213654', 'ENSG00000276234']],\n [['P0DN37', 'A0A075B759']],\n [['ENSG00000172782', 'ENSG00000197191']],\n [['ENSG00000167081', 'ENSG00000172782']],\n [['ENSG00000137561', 'ENSG00000172782']],\n [['ENSG00000132254', 'ENSG00000172782']],\n [['ENSG00000160185', 'ENSG00000172782']],\n [['ENSG00000172782', 'ENSG00000272804']],\n [['ENSG00000172782', 'ENSG00000187766']],\n [['ENSG00000136750', 'ENSG00000172782']],\n [['ENSG00000119401', 'ENSG00000172782']],\n [['ENSG00000172782', 'ENSG00000183386']],\n [['ENSG00000172782', 'ENSG00000212938']],\n [['ENSG00000111077', 'ENSG00000172782']],\n [['ENSG00000156469', 'ENSG00000172782']],\n [['ENSG00000039650', 'ENSG00000172782']],\n [['ENSG00000112559', 'ENSG00000172782']],\n [['ENSG00000132376', 'ENSG00000172782']],\n [['ENSG00000172782', 'ENSG00000212899']],\n [['ENSG00000172782', 'ENSG00000221852']],\n [['ENSG00000172782', 'ENSG00000184047']],\n [['ENSG00000137210', 'ENSG00000172782']],\n [['ENSG00000170075', 'ENSG00000231887']],\n [['ENSG00000166794', 'ENSG00000231887']],\n [['ENSG00000198363', 'ENSG00000231887']],\n [['ENSG00000086159', 'ENSG00000231887']],\n [['ENSG00000166069', 'ENSG00000231887']],\n [['ENSG00000122033', 'ENSG00000231887']],\n [['ENSG00000137210', 'ENSG00000231887']],\n [['ENSG00000166863', 'ENSG00000231887']],\n [['ENSG00000167608', 'ENSG00000204979']],\n [['ENSG00000167608', 'ENSG00000184811']],\n [['ENSG00000184113', 'ENSG00000255245']],\n [['ENSG00000164040', 'ENSG00000255245']],\n [['ENSG00000170075', 'ENSG00000255245']],\n [['ENSG00000167995', 'ENSG00000255245']],\n [['ENSG00000128284', 'ENSG00000255245']],\n [['ENSG00000157765', 'ENSG00000255245']],\n [['ENSG00000126895', 'ENSG00000255245']],\n [['ENSG00000174417', 'ENSG00000255245']],\n [['ENSG00000176171', 'ENSG00000255245']],\n [['ENSG00000086159', 'ENSG00000255245']],\n [['ENSG00000100652', 'ENSG00000255245']],\n [['ENSG00000145283', 'ENSG00000255245']],\n [['ENSG00000105518', 'ENSG00000255245']],\n [['ENSG00000188167', 'ENSG00000255245']],\n [['ENSG00000174327', 'ENSG00000255245']],\n [['ENSG00000112494', 'ENSG00000255245']],\n [['ENSG00000175514', 'ENSG00000255245']],\n [['ENSG00000138613', 'ENSG00000255245']],\n [['ENSG00000163900', 'ENSG00000255245']],\n [['ENSG00000120925', 'ENSG00000255245']],\n [['ENSG00000124098', 'ENSG00000255245']],\n [['ENSG00000152078', 'ENSG00000255245']],\n [['ENSG00000151229', 'ENSG00000255245']],\n [['ENSG00000135917', 'ENSG00000255245']],\n [['ENSG00000122033', 'ENSG00000255245']],\n [['ENSG00000090661', 'ENSG00000255245']],\n [['ENSG00000080189', 'ENSG00000255245']],\n [['ENSG00000215717', 'ENSG00000255245']],\n [['ENSG00000137210', 'ENSG00000255245']],\n [['ENSG00000111291', 'ENSG00000255245']],\n [['ENSG00000092068', 'ENSG00000255245']],\n [['ENSG00000213593', 'ENSG00000255245']],\n [['ENSG00000114902', 'ENSG00000255245']],\n [['ENSG00000155324', 'ENSG00000175164']],\n [['ENSG00000163472', 'ENSG00000175164']],\n [['ENSG00000113595', 'ENSG00000278845']],\n [['ENSG00000102119', 'ENSG00000278845']],\n [['ENSG00000177469', 'ENSG00000278845']],\n [['ENSG00000123349', 'ENSG00000278845']],\n [['ENSG00000116095', 'ENSG00000278845']],\n [['ENSG00000186628', 'ENSG00000260220']],\n [['ENSG00000197978', 'ENSG00000260220']],\n [['ENSG00000197191', 'ENSG00000260220']],\n [['ENSG00000206560', 'ENSG00000260220']],\n [['ENSG00000100842', 'ENSG00000260220']],\n [['ENSG00000120896', 'ENSG00000260220']],\n [['ENSG00000160207', 'ENSG00000260220']],\n [['ENSG00000131773', 'ENSG00000260220']],\n [['ENSG00000166946', 'ENSG00000260220']],\n [['ENSG00000026025', 'ENSG00000260220']],\n [['ENSG00000204713', 'ENSG00000260220']],\n [['ENSG00000171346', 'ENSG00000260220']],\n [['ENSG00000171444', 'ENSG00000260220']],\n [['ENSG00000188191', 'ENSG00000260220']],\n [['ENSG00000077522', 'ENSG00000260220']],\n [['ENSG00000197172', 'ENSG00000260220']],\n [['ENSG00000114416', 'ENSG00000260220']],\n [['ENSG00000165119', 'ENSG00000260220']],\n [['ENSG00000006125', 'ENSG00000260220']],\n [['ENSG00000204435', 'ENSG00000260220']],\n [['ENSG00000140743', 'ENSG00000260220']],\n [['ENSG00000165325', 'ENSG00000260220']],\n [['ENSG00000167110', 'ENSG00000260220']],\n [['ENSG00000127191', 'ENSG00000260220']],\n [['ENSG00000179455', 'ENSG00000260220']],\n [['ENSG00000056558', 'ENSG00000260220']],\n [['ENSG00000108759', 'ENSG00000260220']],\n [['ENSG00000094796', 'ENSG00000260220']],\n [['ENSG00000087077', 'ENSG00000260220']],\n [['ENSG00000166886', 'ENSG00000260220']],\n [['ENSG00000188487', 'ENSG00000260220']],\n [['ENSG00000184724', 'ENSG00000260220']],\n [['ENSG00000068400', 'ENSG00000260220']],\n [['ENSG00000166343', 'ENSG00000260220']],\n [['ENSG00000150636', 'ENSG00000260220']],\n [['ENSG00000147421', 'ENSG00000260220']],\n [['ENSG00000135249', 'ENSG00000260220']],\n [['ENSG00000171446', 'ENSG00000260220']],\n [['ENSG00000109089', 'ENSG00000260220']],\n [['ENSG00000215271', 'ENSG00000260220']],\n [['ENSG00000223501', 'ENSG00000260220']],\n [['ENSG00000177685', 'ENSG00000260220']],\n [['ENSG00000130307', 'ENSG00000260220']],\n [['ENSG00000174015', 'ENSG00000260220']],\n [['ENSG00000176903', 'ENSG00000260220']],\n [['ENSG00000114107', 'ENSG00000260220']],\n [['ENSG00000185963', 'ENSG00000260220']],\n [['ENSG00000146809', 'ENSG00000260220']],\n [['ENSG00000100201', 'ENSG00000260220']],\n [['ENSG00000095066', 'ENSG00000260220']],\n [['ENSG00000182923', 'ENSG00000260220']],\n [['ENSG00000112559', 'ENSG00000260220']],\n [['ENSG00000107816', 'ENSG00000260220']],\n [['ENSG00000140859', 'ENSG00000260220']],\n [['ENSG00000100065', 'ENSG00000260220']],\n [['ENSG00000100151', 'ENSG00000260220']],\n [['ENSG00000051128', 'ENSG00000260220']],\n [['ENSG00000159289', 'ENSG00000260220']],\n [['ENSG00000213672', 'ENSG00000260220']],\n [['ENSG00000100109', 'ENSG00000260220']],\n [['ENSG00000019995', 'ENSG00000260220']],\n [['ENSG00000080561', 'ENSG00000260220']],\n [['ENSG00000161405', 'ENSG00000260220']],\n [['ENSG00000183837', 'ENSG00000260220']],\n [['ENSG00000061337', 'ENSG00000260220']],\n [['ENSG00000117155', 'ENSG00000260220']],\n [['ENSG00000133103', 'ENSG00000260220']],\n [['ENSG00000110375', 'ENSG00000242019']],\n [['ENSG00000168899', 'ENSG00000242019']],\n [['ENSG00000106804', 'ENSG00000242019']],\n [['ENSG00000143119', 'ENSG00000242019']],\n [['ENSG00000142227', 'ENSG00000242019']],\n [['ENSG00000181552', 'ENSG00000242019']],\n [['ENSG00000110881', 'ENSG00000242019']],\n [['ENSG00000164414', 'ENSG00000242019']],\n [['ENSG00000162511', 'ENSG00000242019']],\n [['ENSG00000205279', 'ENSG00000242019']],\n [['ENSG00000177674', 'ENSG00000242019']],\n [['ENSG00000102837', 'ENSG00000242019']],\n [['ENSG00000204070', 'ENSG00000242019']],\n [['ENSG00000171135', 'ENSG00000242019']],\n [['ENSG00000166091', 'ENSG00000242019']],\n [['ENSG00000196329', 'ENSG00000242019']],\n [['ENSG00000136052', 'ENSG00000242019']],\n [['ENSG00000149451', 'ENSG00000242019']],\n [['ENSG00000242019', 'ENSG00000256235']],\n [['ENSG00000000005', 'ENSG00000242019']],\n [['ENSG00000171840', 'ENSG00000242019']],\n [['ENSG00000120742', 'ENSG00000242019']],\n [['ENSG00000124562', 'ENSG00000259529']],\n [['ENSG00000104964', 'ENSG00000259529']],\n [['ENSG00000168140', 'ENSG00000259529']],\n [['ENSG00000159214', 'ENSG00000259529']],\n [['ENSG00000239886', 'ENSG00000259529']],\n [['ENSG00000184281', 'ENSG00000259529']],\n [['P0DN37', 'A0A0B4J2A2']],\n [['ENSG00000130363', 'ENSG00000145491']],\n [['ENSG00000264668', 'ENSG00000272804']],\n [['ENSG00000137218', 'ENSG00000263201']],\n [['ENSG00000144810', 'ENSG00000263201']],\n [['ENSG00000158747', 'ENSG00000263201']],\n [['ENSG00000197256', 'ENSG00000263201']],\n [['ENSG00000119725', 'ENSG00000263201']],\n [['ENSG00000076604', 'ENSG00000263201']],\n [['ENSG00000125449', 'ENSG00000263201']],\n [['ENSG00000167791', 'ENSG00000263201']],\n [['ENSG00000263201', 'ENSG00000270136']],\n [['ENSG00000215271', 'ENSG00000251503']],\n [['ENSG00000121454', 'ENSG00000251503']],\n [['ENSG00000183230', 'ENSG00000251503']],\n [['ENSG00000276076', 'ENSG00000276076']],\n [['ENSG00000137575', 'ENSG00000276076']],\n [['ENSG00000160202', 'ENSG00000276076']],\n [['ENSG00000109846', 'ENSG00000276076']],\n [['ENSG00000156795', 'ENSG00000276076']],\n [['ENSG00000115806', 'ENSG00000276076']],\n [['ENSG00000090487', 'ENSG00000276076']],\n [['ENSG00000196553', 'ENSG00000205078']],\n [['ENSG00000175390', 'ENSG00000196553']],\n [['ENSG00000134138', 'ENSG00000196553']],\n [['ENSG00000185359', 'ENSG00000196553']],\n [['ENSG00000138101', 'ENSG00000196553']],\n [['ENSG00000135604', 'ENSG00000196553']],\n [['ENSG00000174446', 'ENSG00000196553']],\n [['ENSG00000131737', 'ENSG00000196553']],\n [['ENSG00000108417', 'ENSG00000196553']],\n [['ENSG00000171431', 'ENSG00000196553']],\n [['ENSG00000084652', 'ENSG00000196553']],\n [['ENSG00000106511', 'ENSG00000196553']],\n [['ENSG00000094796', 'ENSG00000196553']],\n [['ENSG00000196553', 'ENSG00000196859']],\n [['ENSG00000161860', 'ENSG00000196553']],\n [['ENSG00000173908', 'ENSG00000196553']],\n [['ENSG00000164440', 'ENSG00000196553']],\n [['ENSG00000196553', 'ENSG00000197114']],\n [['ENSG00000130307', 'ENSG00000196553']],\n [['ENSG00000112290', 'ENSG00000196553']],\n [['ENSG00000117461', 'ENSG00000196553']],\n [['ENSG00000196553', 'ENSG00000197079']],\n [['ENSG00000165714', 'ENSG00000196553']],\n [['ENSG00000154839', 'ENSG00000196553']],\n [['ENSG00000165495', 'ENSG00000196553']],\n [['ENSG00000096872', 'ENSG00000196553']],\n [['ENSG00000127328', 'ENSG00000196553']],\n [['ENSG00000196553', 'ENSG00000198258']],\n [['ENSG00000100109', 'ENSG00000196553']],\n [['ENSG00000162231', 'ENSG00000196553']],\n [['ENSG00000114019', 'ENSG00000196553']],\n [['ENSG00000164438', 'ENSG00000283189']],\n [['ENSG00000196459', 'ENSG00000283189']],\n [['ENSG00000256060', 'ENSG00000283189']],\n [['ENSG00000175691', 'ENSG00000283189']],\n [['ENSG00000143442', 'ENSG00000283189']],\n [['ENSG00000149380', 'ENSG00000283189']],\n [['ENSG00000162222', 'ENSG00000283189']],\n [['ENSG00000147614', 'ENSG00000283189']],\n [['ENSG00000167604', 'ENSG00000283189']],\n [['ENSG00000158246', 'ENSG00000283189']],\n [['ENSG00000160753', 'ENSG00000283189']],\n [['ENSG00000236362', 'ENSG00000283632']],\n [['ENSG00000215269', 'ENSG00000283632']],\n [['ENSG00000262814', 'ENSG00000283632']],\n [['ENSG00000100290', 'ENSG00000283632']],\n [['ENSG00000173302', 'ENSG00000283632']],\n [['ENSG00000120337', 'ENSG00000283632']],\n [['ENSG00000105991', 'ENSG00000105991']],\n [['ENSG00000105329', 'ENSG00000105991']],\n [['ENSG00000105991', 'ENSG00000186980']],\n [['ENSG00000105991', 'ENSG00000188732']],\n [['ENSG00000105991', 'ENSG00000197191']],\n [['ENSG00000105991', 'ENSG00000241598']],\n [['ENSG00000105991', 'ENSG00000174453']],\n [['ENSG00000105991', 'ENSG00000124593']],\n [['ENSG00000105991', 'ENSG00000137575']],\n [['ENSG00000105991', 'ENSG00000159455']],\n [['ENSG00000105991', 'ENSG00000214063']],\n [['ENSG00000105991', 'ENSG00000188313']],\n [['ENSG00000105991', 'ENSG00000184990']],\n [['ENSG00000105991', 'ENSG00000109101']],\n [['ENSG00000105991', 'ENSG00000148848']],\n [['ENSG00000105991', 'ENSG00000137218']],\n [['ENSG00000105991', 'ENSG00000136158']],\n [['ENSG00000105991', 'ENSG00000164056']],\n [['ENSG00000105991', 'ENSG00000168939']],\n [['ENSG00000071051', 'ENSG00000105991']],\n [['ENSG00000105991', 'ENSG00000137802']],\n [['ENSG00000105991', 'ENSG00000136944']],\n [['ENSG00000105991', 'ENSG00000110031']],\n [['ENSG00000105991', 'ENSG00000112514']],\n [['ENSG00000105991', 'ENSG00000187122']],\n [['ENSG00000105991', 'ENSG00000175325']],\n [['ENSG00000105991', 'ENSG00000135604']],\n [['ENSG00000105991', 'ENSG00000160973']],\n [['ENSG00000105991', 'ENSG00000124827']],\n [['ENSG00000007255', 'ENSG00000105991']],\n [['ENSG00000090061', 'ENSG00000105991']],\n [['ENSG00000105991', 'ENSG00000131737']],\n [['ENSG00000105991', 'ENSG00000108417']],\n [['ENSG00000105991', 'ENSG00000171360']],\n [['ENSG00000064205', 'ENSG00000105991']],\n [['ENSG00000105991', 'ENSG00000147509']],\n [['ENSG00000104415', 'ENSG00000105991']],\n [['ENSG00000105991', 'ENSG00000156735']],\n [['ENSG00000105991', 'ENSG00000172638']],\n [['ENSG00000105991', 'ENSG00000141013']],\n [['ENSG00000105991', 'ENSG00000124107']],\n [['ENSG00000105991', 'ENSG00000163283']],\n [['ENSG00000049860', 'ENSG00000105991']],\n [['ENSG00000105991', 'ENSG00000231852']],\n [['ENSG00000084207', 'ENSG00000105991']],\n [['ENSG00000105991', 'ENSG00000124562']],\n [['ENSG00000070031', 'ENSG00000105991']],\n [['ENSG00000105991', 'ENSG00000212724']],\n [['ENSG00000105991', 'ENSG00000229809']],\n [['ENSG00000105991', 'ENSG00000265203']],\n [['ENSG00000105991', 'ENSG00000125835']],\n [['ENSG00000073008', 'ENSG00000105991']],\n [['ENSG00000102145', 'ENSG00000105991']],\n [['ENSG00000105991', 'ENSG00000134363']],\n [['ENSG00000008018', 'ENSG00000105991']],\n [['ENSG00000105991', 'ENSG00000172482']],\n [['ENSG00000077942', 'ENSG00000105991']],\n [['ENSG00000007372', 'ENSG00000105991']],\n [['ENSG00000105991', 'ENSG00000254997']],\n [['ENSG00000105991', 'ENSG00000144810']],\n [['ENSG00000105991', 'ENSG00000126759']],\n [['ENSG00000030582', 'ENSG00000105991']],\n [['ENSG00000105991', 'ENSG00000204304']],\n [['ENSG00000105991', 'ENSG00000106245']],\n [['ENSG00000105991', 'ENSG00000172053']],\n [['ENSG00000105991', 'ENSG00000136999']],\n [['ENSG00000105991', 'ENSG00000117122']],\n [['ENSG00000105991', 'ENSG00000171747']],\n [['ENSG00000105991', 'ENSG00000187175']],\n [['ENSG00000105991', 'ENSG00000221864']],\n [['ENSG00000105991', 'ENSG00000221859']],\n [['ENSG00000105991', 'ENSG00000205439']],\n [['ENSG00000105991', 'ENSG00000212933']],\n [['ENSG00000105991', 'ENSG00000215455']],\n [['ENSG00000105991', 'ENSG00000241123']],\n [['ENSG00000105991', 'ENSG00000215454']],\n [['ENSG00000105991', 'ENSG00000272804']],\n [['ENSG00000105991', 'ENSG00000187766']],\n [['ENSG00000105991', 'ENSG00000221837']],\n [['ENSG00000105991', 'ENSG00000243489']],\n [['ENSG00000090238', 'ENSG00000105991']],\n [['ENSG00000105991', 'ENSG00000166619']],\n [['ENSG00000069011', 'ENSG00000105991']],\n [['ENSG00000105991', 'ENSG00000170523']],\n [['ENSG00000105991', 'ENSG00000159387']],\n [['ENSG00000105991', 'ENSG00000117318']],\n [['ENSG00000105991', 'ENSG00000146592']],\n [['ENSG00000105991', 'ENSG00000160801']],\n [['ENSG00000105991', 'ENSG00000196843']],\n [['ENSG00000105991', 'ENSG00000135535']],\n [['ENSG00000105991', 'ENSG00000109906']],\n [['ENSG00000105991', 'ENSG00000188581']],\n [['ENSG00000104964', 'ENSG00000105991']],\n [['ENSG00000105991', 'ENSG00000196388']],\n [['ENSG00000105991', 'ENSG00000185504']],\n [['ENSG00000105991', 'ENSG00000115380']],\n [['ENSG00000105991', 'ENSG00000127191']],\n [['ENSG00000105991', 'ENSG00000160271']],\n [['ENSG00000105991', 'ENSG00000179455']],\n [['ENSG00000056558', 'ENSG00000105991']],\n [['ENSG00000105991', 'ENSG00000132522']],\n [['ENSG00000105991', 'ENSG00000127445']],\n [['ENSG00000105991', 'ENSG00000183386']],\n [['ENSG00000105991', 'ENSG00000111859']],\n [['ENSG00000105991', 'ENSG00000131738']],\n [['ENSG00000105991', 'ENSG00000205426']],\n [['ENSG00000002834', 'ENSG00000105991']],\n [['ENSG00000105991', 'ENSG00000155087']],\n [['ENSG00000105991', 'ENSG00000174738']],\n [['ENSG00000105991', 'ENSG00000171631']],\n [['ENSG00000094796', 'ENSG00000105991']],\n [['ENSG00000087077', 'ENSG00000105991']],\n [['ENSG00000105991', 'ENSG00000154359']],\n [['ENSG00000105991', 'ENSG00000278224']],\n [['ENSG00000105991', 'ENSG00000184724']],\n [['ENSG00000105991', 'ENSG00000186930']],\n [['ENSG00000105991', 'ENSG00000212938']],\n [['ENSG00000105991', 'ENSG00000186925']],\n [['ENSG00000105991', 'ENSG00000186970']],\n [['ENSG00000105991', 'ENSG00000186971']],\n [['ENSG00000105991', 'ENSG00000240432']],\n [['ENSG00000105991', 'ENSG00000244362']],\n [['ENSG00000105991', 'ENSG00000167889']],\n [['ENSG00000105991', 'ENSG00000187583']],\n [['ENSG00000105991', 'ENSG00000126016']],\n [['ENSG00000105991', 'ENSG00000182816']],\n [['ENSG00000105991', 'ENSG00000166432']],\n [['ENSG00000105991', 'ENSG00000167123']],\n [['ENSG00000105991', 'ENSG00000244057']],\n [['ENSG00000105991', 'ENSG00000185966']],\n [['ENSG00000105991', 'ENSG00000203786']],\n [['ENSG00000105991', 'ENSG00000197084']],\n [['ENSG00000105991', 'ENSG00000172155']],\n [['ENSG00000105991', 'ENSG00000240386']],\n [['ENSG00000105991', 'ENSG00000186844']],\n [['ENSG00000105991', 'ENSG00000196734']],\n [['ENSG00000105991', 'ENSG00000187170']],\n [['ENSG00000105991', 'ENSG00000187173']],\n [['ENSG00000105991', 'ENSG00000187180']],\n [['ENSG00000105991', 'ENSG00000187223']],\n [['ENSG00000105991', 'ENSG00000186207']],\n [['ENSG00000105991', 'ENSG00000112214']],\n [['ENSG00000105991', 'ENSG00000178761']],\n [['ENSG00000105991', 'ENSG00000181652']],\n [['ENSG00000105991', 'ENSG00000204889']],\n [['ENSG00000105991', 'ENSG00000168140']],\n [['ENSG00000105991', 'ENSG00000204571']],\n [['ENSG00000105991', 'ENSG00000205864']],\n [['ENSG00000105991', 'ENSG00000196224']],\n [['ENSG00000105991', 'ENSG00000205643']],\n [['ENSG00000105991', 'ENSG00000196391']],\n [['ENSG00000105991', 'ENSG00000197683']],\n [['ENSG00000105991', 'ENSG00000198908']],\n [['ENSG00000105991', 'ENSG00000188293']],\n [['ENSG00000105991', 'ENSG00000147655']],\n [['ENSG00000105991', 'ENSG00000143382']],\n [['ENSG00000054938', 'ENSG00000105991']],\n [['ENSG00000105991', 'ENSG00000187954']],\n [['ENSG00000105991', 'ENSG00000205867']],\n [['ENSG00000104756', 'ENSG00000105991']],\n [['ENSG00000105991', 'ENSG00000146094']],\n [['ENSG00000105991', 'ENSG00000264343']],\n [['ENSG00000105991', 'ENSG00000162148']],\n [['ENSG00000105991', 'ENSG00000186451']],\n [['ENSG00000091073', 'ENSG00000105991']],\n [['ENSG00000105991', 'ENSG00000176182']],\n [['ENSG00000105991', 'ENSG00000163395']],\n [['ENSG00000105991', 'ENSG00000182591']],\n [['ENSG00000105991', 'ENSG00000221880']],\n [['ENSG00000105991', 'ENSG00000175463']],\n [['ENSG00000105991', 'ENSG00000155890']],\n [['ENSG00000105991', 'ENSG00000110446']],\n [['ENSG00000105991', 'ENSG00000168062']],\n [['ENSG00000105991', 'ENSG00000176723']],\n [['ENSG00000105991', 'ENSG00000198324']],\n [['ENSG00000105991', 'ENSG00000204178']],\n [['ENSG00000105991', 'ENSG00000140481']],\n [['ENSG00000105991', 'ENSG00000168763']],\n [['ENSG00000105991', 'ENSG00000175294']],\n [['ENSG00000105991', 'ENSG00000167604']],\n [['ENSG00000105991', 'ENSG00000173480']],\n [['ENSG00000072201', 'ENSG00000105991']],\n [['ENSG00000105991', 'ENSG00000140320']],\n [['ENSG00000105991', 'ENSG00000163071']],\n [['ENSG00000105991', 'ENSG00000146700']],\n [['ENSG00000105991', 'ENSG00000163060']],\n [['ENSG00000105991', 'ENSG00000138315']],\n [['ENSG00000064999', 'ENSG00000105991']],\n [['ENSG00000105991', 'ENSG00000130202']],\n [['ENSG00000105991', 'ENSG00000140009']],\n [['ENSG00000105991', 'ENSG00000197079']],\n [['ENSG00000105991', 'ENSG00000244754']],\n [['ENSG00000105991', 'ENSG00000157110']],\n [['ENSG00000105991', 'ENSG00000152475']],\n [['ENSG00000105991', 'ENSG00000168000']],\n [['ENSG00000105991', 'ENSG00000147144']],\n [['ENSG00000105991', 'ENSG00000266714']],\n [['ENSG00000105991', 'ENSG00000153060']],\n [['ENSG00000105991', 'ENSG00000168517']],\n [['ENSG00000105991', 'ENSG00000138867']],\n [['ENSG00000105991', 'ENSG00000159495']],\n [['ENSG00000092607', 'ENSG00000105991']],\n [['ENSG00000105991', 'ENSG00000198466']],\n [['ENSG00000105991', 'ENSG00000184613']],\n [['ENSG00000105991', 'ENSG00000164093']],\n [['ENSG00000105991', 'ENSG00000112559']],\n [['ENSG00000105991', 'ENSG00000130513']],\n [['ENSG00000105991', 'ENSG00000213416']],\n [['ENSG00000105991', 'ENSG00000123154']],\n [['ENSG00000105991', 'ENSG00000184436']],\n [['ENSG00000001036', 'ENSG00000105991']],\n [['ENSG00000076604', 'ENSG00000105991']],\n [['ENSG00000105427', 'ENSG00000105991']],\n [['ENSG00000105991', 'ENSG00000187272']],\n [['ENSG00000105991', 'ENSG00000241595']],\n [['ENSG00000105991', 'ENSG00000204873']],\n [['ENSG00000105991', 'ENSG00000239886']],\n [['ENSG00000105991', 'ENSG00000212721']],\n [['ENSG00000105991', 'ENSG00000198443']],\n [['ENSG00000105991', 'ENSG00000198271']],\n [['ENSG00000105991', 'ENSG00000171396']],\n [['ENSG00000105991', 'ENSG00000244537']],\n [['ENSG00000105991', 'ENSG00000212899']],\n [['ENSG00000105991', 'ENSG00000212900']],\n [['ENSG00000105991', 'ENSG00000213417']],\n [['ENSG00000105991', 'ENSG00000221852']],\n [['ENSG00000105991', 'ENSG00000198258']],\n [['ENSG00000040608', 'ENSG00000105991']],\n [['ENSG00000105991', 'ENSG00000171206']],\n [['ENSG00000105991', 'ENSG00000187678']],\n [['ENSG00000105991', 'ENSG00000115274']],\n [['ENSG00000105991', 'ENSG00000137207']],\n [['ENSG00000105991', 'ENSG00000124074']],\n [['ENSG00000105991', 'ENSG00000212864']],\n [['ENSG00000105991', 'ENSG00000161921']],\n [['ENSG00000099377', 'ENSG00000105991']],\n [['ENSG00000105991', 'ENSG00000117475']],\n [['ENSG00000090539', 'ENSG00000105991']],\n [['ENSG00000105991', 'ENSG00000137720']],\n [['ENSG00000105991', 'ENSG00000125449']],\n [['ENSG00000031823', 'ENSG00000105991']],\n [['ENSG00000059145', 'ENSG00000105991']],\n [['ENSG00000074527', 'ENSG00000105991']],\n [['ENSG00000105991', 'ENSG00000119408']],\n [['ENSG00000101901', 'ENSG00000105991']],\n [['ENSG00000105991', 'ENSG00000164283']],\n [['ENSG00000105991', 'ENSG00000176029']],\n [['ENSG00000105991', 'ENSG00000114698']],\n [['ENSG00000105991', 'ENSG00000187838']],\n [['ENSG00000105991', 'ENSG00000163746']],\n [['ENSG00000105991', 'ENSG00000161850']],\n [['ENSG00000105991', 'ENSG00000142694']],\n [['ENSG00000105991', 'ENSG00000186153']],\n [['ENSG00000105991', 'ENSG00000269699']],\n [['ENSG00000105991', 'ENSG00000135547']],\n [['ENSG00000105991', 'ENSG00000162231']],\n [['ENSG00000091844', 'ENSG00000105991']],\n [['ENSG00000105991', 'ENSG00000116005']],\n [['ENSG00000105991', 'ENSG00000170482']],\n [['ENSG00000105198', 'ENSG00000105991']],\n [['ENSG00000105991', 'ENSG00000109220']],\n [['ENSG00000086289', 'ENSG00000105991']],\n [['ENSG00000105991', 'ENSG00000159921']],\n [['ENSG00000105991', 'ENSG00000137310']],\n [['ENSG00000105991', 'ENSG00000125046']],\n [['ENSG00000102934', 'ENSG00000105991']],\n [['ENSG00000101935', 'ENSG00000105991']],\n [['ENSG00000105991', 'ENSG00000166896']],\n [['ENSG00000105991', 'ENSG00000143507']],\n [['ENSG00000093010', 'ENSG00000182938']],\n [['ENSG00000100652', 'ENSG00000182938']],\n [['ENSG00000147155', 'ENSG00000182938']],\n [['ENSG00000179363', 'ENSG00000182938']],\n [['ENSG00000155256', 'ENSG00000182938']],\n [['ENSG00000124098', 'ENSG00000182938']],\n [['ENSG00000155755', 'ENSG00000182938']],\n [['ENSG00000164707', 'ENSG00000182938']],\n [['ENSG00000174453', 'ENSG00000180872']],\n [['ENSG00000160207', 'ENSG00000180872']],\n [['ENSG00000180872', 'ENSG00000215455']],\n [['ENSG00000185614', 'ENSG00000204438']],\n [['ENSG00000130669', 'ENSG00000185614']],\n [['ENSG00000110367', 'ENSG00000185614']],\n [['ENSG00000173480', 'ENSG00000185614']],\n [['ENSG00000088727', 'ENSG00000185614']],\n [['ENSG00000116922', 'ENSG00000185614']],\n [['ENSG00000101349', 'ENSG00000185614']],\n [['ENSG00000105329', 'ENSG00000197191']],\n [['ENSG00000105329', 'ENSG00000130475']],\n [['ENSG00000105329', 'ENSG00000159455']],\n [['ENSG00000105329', 'ENSG00000110031']],\n [['ENSG00000105329', 'ENSG00000185624']],\n [['ENSG00000105329', 'ENSG00000106511']],\n [['ENSG00000105329', 'ENSG00000187766']],\n [['ENSG00000105329', 'ENSG00000188581']],\n [['ENSG00000105329', 'ENSG00000151615']],\n [['ENSG00000105329', 'ENSG00000197084']],\n [['ENSG00000105329', 'ENSG00000172155']],\n [['ENSG00000105329', 'ENSG00000186844']],\n [['ENSG00000105329', 'ENSG00000185962']],\n [['ENSG00000105329', 'ENSG00000187238']],\n [['ENSG00000105329', 'ENSG00000187180']],\n [['ENSG00000105329', 'ENSG00000143382']],\n [['ENSG00000105329', 'ENSG00000221880']],\n [['ENSG00000105329', 'ENSG00000140481']],\n [['ENSG00000105329', 'ENSG00000175294']],\n [['ENSG00000105329', 'ENSG00000163202']],\n [['ENSG00000105329', 'ENSG00000212721']],\n [['ENSG00000130950', 'ENSG00000163694']],\n [['ENSG00000163694', 'ENSG00000165588']],\n [['ENSG00000163694', 'ENSG00000187595']],\n [['ENSG00000142698', 'ENSG00000163694']],\n [['ENSG00000161082', 'ENSG00000163694']],\n [['Q9NQ94', 'A0AV96']],\n [['ENSG00000078328', 'ENSG00000163694']],\n [['Q9NY65', 'A0AV96']],\n [['ENSG00000163694', 'ENSG00000205352']],\n [['ENSG00000070808', 'ENSG00000163694']],\n [['A0AVF1', 'Q86WT1']],\n [['ENSG00000106511', 'ENSG00000129173']],\n [['ENSG00000129173', 'ENSG00000135457']],\n [['ENSG00000129173', 'ENSG00000183386']],\n [['ENSG00000103266', 'ENSG00000129173']],\n [['ENSG00000033178', 'ENSG00000147421']],\n [['A0JLT2', 'O43513']],\n [['A0JLT2', 'O60244']],\n [['A0JLT2', 'O75448']],\n [['O75586', 'A0JLT2']],\n [['A0JLT2', 'O95402']],\n [['A0JLT2', 'P24863']],\n [['ENSG00000065029', 'ENSG00000156603']],\n [['ENSG00000156603', 'ENSG00000177885']],\n [['ENSG00000147223', 'ENSG00000156603']],\n [['A0JLT2', 'Q13503']],\n [['ENSG00000111859', 'ENSG00000156603']],\n [['A0JLT2', 'Q15528']],\n [['A0JLT2', 'Q15648']],\n [['ENSG00000156603', 'ENSG00000197256']],\n [['A0JLT2', 'Q6P2C8']],\n [['A0JLT2', 'Q71SY5']],\n [['ENSG00000091073', 'ENSG00000156603']],\n [['ENSG00000134996', 'ENSG00000156603']],\n [['Q96G25', 'A0JLT2']],\n [['A0JLT2', 'Q96HR3']],\n [['A0JLT2', 'Q96RN5']],\n [['A0JLT2', 'Q9BTT4']],\n [['A0JLT2', 'Q9BUE0']],\n [['A0JLT2', 'Q9H204']],\n [['A0JLT2', 'Q9H944']],\n [['A0JLT2', 'Q9NPJ6']],\n [['A0JLT2', 'Q9NVC6']],\n [['A0JLT2', 'Q9NWA0']],\n [['A0JLT2', 'Q9NX70']],\n [['A0JLT2', 'Q9P086']],\n [['A0JLT2', 'Q9ULK4']],\n [['Q9Y2X0', 'A0JLT2']],\n [['ENSG00000187164', 'ENSG00000187164']],\n [['ENSG00000129151', 'ENSG00000187164']],\n [['ENSG00000121769', 'ENSG00000187164']],\n [['ENSG00000187164', 'ENSG00000196482']],\n [['ENSG00000135457', 'ENSG00000187164']],\n [['ENSG00000143514', 'ENSG00000187164']],\n [['ENSG00000145901', 'ENSG00000187164']],\n [['ENSG00000121766', 'ENSG00000187164']],\n [['ENSG00000144036', 'ENSG00000187164']],\n [['ENSG00000143156', 'ENSG00000187164']],\n [['ENSG00000146592', 'ENSG00000157884']],\n [['ENSG00000157884', 'ENSG00000168140']],\n [['ENSG00000157884', 'ENSG00000198925']],\n [['ENSG00000157884', 'ENSG00000176182']],\n [['ENSG00000157884', 'ENSG00000213588']],\n [['ENSG00000100348', 'ENSG00000157884']],\n [['ENSG00000136463', 'ENSG00000157884']],\n [['ENSG00000013297', 'ENSG00000178343']],\n [['ENSG00000172005', 'ENSG00000178343']],\n [['ENSG00000106511', 'ENSG00000178343']],\n [['ENSG00000178343', 'ENSG00000186106']],\n [['ENSG00000176903', 'ENSG00000178343']],\n [['ENSG00000153551', 'ENSG00000178343']],\n [['ENSG00000105677', 'ENSG00000178343']],\n [['ENSG00000158874', 'ENSG00000162460']],\n [['ENSG00000156738', 'ENSG00000162460']],\n [['ENSG00000162460', 'ENSG00000186115']],\n [['ENSG00000128610', 'ENSG00000197191']],\n [['ENSG00000128610', 'ENSG00000187766']],\n [['ENSG00000128610', 'ENSG00000188581']],\n [['ENSG00000128610', 'ENSG00000204889']],\n [['ENSG00000143198', 'ENSG00000188735']],\n [['ENSG00000184012', 'ENSG00000188735']],\n [['ENSG00000126262', 'ENSG00000188735']],\n [['ENSG00000146006', 'ENSG00000188735']],\n [['ENSG00000104765', 'ENSG00000188735']],\n [['ENSG00000103375', 'ENSG00000188735']],\n [['ENSG00000166946', 'ENSG00000188735']],\n [['ENSG00000019582', 'ENSG00000188735']],\n [['ENSG00000169562', 'ENSG00000188735']],\n [['ENSG00000185499', 'ENSG00000188735']],\n [['ENSG00000168685', 'ENSG00000188735']],\n [['ENSG00000132965', 'ENSG00000188735']],\n [['ENSG00000093010', 'ENSG00000188735']],\n [['ENSG00000148175', 'ENSG00000188735']],\n [['ENSG00000158869', 'ENSG00000188735']],\n [['ENSG00000111450', 'ENSG00000188735']],\n [['ENSG00000159128', 'ENSG00000188735']],\n [['ENSG00000079215', 'ENSG00000188735']],\n [['ENSG00000157542', 'ENSG00000188735']],\n [['ENSG00000036565', 'ENSG00000188735']],\n [['ENSG00000136750', 'ENSG00000188735']],\n [['ENSG00000086159', 'ENSG00000188735']],\n [['ENSG00000100652', 'ENSG00000188735']],\n [['ENSG00000147155', 'ENSG00000188735']],\n [['ENSG00000145283', 'ENSG00000188735']],\n [['ENSG00000120370', 'ENSG00000188735']],\n [['ENSG00000165138', 'ENSG00000188735']],\n [['ENSG00000025770', 'ENSG00000188735']],\n [['ENSG00000110243', 'ENSG00000188735']],\n [['ENSG00000116514', 'ENSG00000188735']],\n [['ENSG00000166569', 'ENSG00000188735']],\n [['ENSG00000141699', 'ENSG00000188735']],\n [['ENSG00000178826', 'ENSG00000188735']],\n [['ENSG00000171135', 'ENSG00000188735']],\n [['ENSG00000188735', 'ENSG00000198189']],\n [['ENSG00000179520', 'ENSG00000188735']],\n [['ENSG00000175514', 'ENSG00000188735']],\n [['ENSG00000164294', 'ENSG00000188735']],\n [['ENSG00000161558', 'ENSG00000188735']],\n [['ENSG00000157613', 'ENSG00000188735']],\n [['ENSG00000177042', 'ENSG00000188735']],\n [['ENSG00000152078', 'ENSG00000188735']],\n [['ENSG00000102383', 'ENSG00000188735']],\n [['ENSG00000188735', 'ENSG00000204308']],\n [['ENSG00000140600', 'ENSG00000188735']],\n [['ENSG00000132563', 'ENSG00000188735']],\n [['ENSG00000168476', 'ENSG00000188735']],\n [['ENSG00000104369', 'ENSG00000188735']],\n [['ENSG00000137210', 'ENSG00000188735']],\n [['ENSG00000166257', 'ENSG00000188735']],\n [['ENSG00000111291', 'ENSG00000188735']],\n [['ENSG00000125991', 'ENSG00000188735']],\n [['ENSG00000188735', 'ENSG00000213593']],\n [['ENSG00000188735', 'ENSG00000204568']],\n [['ENSG00000079150', 'ENSG00000188735']],\n [['ENSG00000156738', 'ENSG00000187783']],\n [['ENSG00000121634', 'ENSG00000187783']],\n [['ENSG00000187783', 'ENSG00000255072']],\n [['ENSG00000124103', 'ENSG00000187783']],\n [['ENSG00000155755', 'ENSG00000187783']],\n [['ENSG00000138459', 'ENSG00000187783']],\n [['ENSG00000099968', 'ENSG00000187783']],\n [['ENSG00000137726', 'ENSG00000187783']],\n [['ENSG00000090661', 'ENSG00000187783']],\n [['ENSG00000163352', 'ENSG00000187783']],\n [['ENSG00000184113', 'ENSG00000249581']],\n [['ENSG00000166881', 'ENSG00000249581']],\n [['ENSG00000134545', 'ENSG00000249581']],\n [['ENSG00000148175', 'ENSG00000249581']],\n [['ENSG00000175489', 'ENSG00000249581']],\n [['ENSG00000153495', 'ENSG00000249581']],\n [['ENSG00000177917', 'ENSG00000249581']],\n [['ENSG00000172568', 'ENSG00000249581']],\n [['ENSG00000165120', 'ENSG00000249581']],\n [['ENSG00000107738', 'ENSG00000249581']],\n [['ENSG00000069493', 'ENSG00000249581']],\n [['ENSG00000137078', 'ENSG00000249581']],\n [['ENSG00000204175', 'ENSG00000206535']],\n [['Q9UNA1', 'A1A4S6']],\n [['Q9Y426', 'A1A4S6']],\n [['P48729', 'A1A519']],\n [['Q8N752', 'A1A519']],\n [['A1A519', 'Q9P0L0']],\n [['ENSG00000134107', 'ENSG00000186980']],\n [['ENSG00000090238', 'ENSG00000186980']],\n [['ENSG00000186980', 'ENSG00000188493']],\n [['ENSG00000157110', 'ENSG00000186980']],\n [['ENSG00000172073', 'ENSG00000186980']],\n [['ENSG00000070808', 'ENSG00000186980']],\n [['ENSG00000110375', 'ENSG00000137266']],\n [['ENSG00000100528', 'ENSG00000137266']],\n [['ENSG00000137266', 'ENSG00000254997']],\n [['ENSG00000134812', 'ENSG00000137266']],\n [['ENSG00000106511', 'ENSG00000137266']],\n [['ENSG00000137266', 'ENSG00000183255']],\n [['ENSG00000137266', 'ENSG00000187766']],\n [['ENSG00000101443', 'ENSG00000137266']],\n [['ENSG00000016602', 'ENSG00000137266']],\n [['ENSG00000137266', 'ENSG00000181092']],\n [['ENSG00000102837', 'ENSG00000137266']],\n [['ENSG00000099219', 'ENSG00000137266']],\n [['ENSG00000137266', 'ENSG00000264343']],\n [['ENSG00000137266', 'ENSG00000221880']],\n [['ENSG00000137266', 'ENSG00000149451']],\n [['ENSG00000128973', 'ENSG00000137266']],\n [['ENSG00000162069', 'ENSG00000175513']],\n [['ENSG00000109205', 'ENSG00000137575']],\n [['ENSG00000109205', 'ENSG00000185359']],\n [['ENSG00000109205', 'ENSG00000151650']],\n [['ENSG00000109205', 'ENSG00000124562']],\n [['ENSG00000090238', 'ENSG00000109205']],\n [['ENSG00000109205', 'ENSG00000196843']],\n [['ENSG00000104973', 'ENSG00000109205']],\n [['ENSG00000109205', 'ENSG00000143442']],\n [['ENSG00000078902', 'ENSG00000109205']],\n [['A1IGU5', 'Q9NQY0']],\n [['ENSG00000152102', 'ENSG00000167987']],\n [['ENSG00000152102', 'ENSG00000206538']],\n [['A1KXE4', 'O43251']],\n [['ENSG00000100320', 'ENSG00000152102']],\n [['ENSG00000152102', 'ENSG00000164438']],\n [['ENSG00000152102', 'ENSG00000160973']],\n [['ENSG00000090061', 'ENSG00000152102']],\n [['ENSG00000151650', 'ENSG00000152102']],\n [['ENSG00000151929', 'ENSG00000152102']],\n [['ENSG00000124562', 'ENSG00000152102']],\n [['ENSG00000152102', 'ENSG00000161992']],\n [['ENSG00000125835', 'ENSG00000152102']],\n [['ENSG00000152102', 'ENSG00000172482']],\n [['ENSG00000115507', 'ENSG00000152102']],\n [['ENSG00000101811', 'ENSG00000152102']],\n [['ENSG00000090238', 'ENSG00000152102']],\n [['ENSG00000069011', 'ENSG00000152102']],\n [['ENSG00000151923', 'ENSG00000152102']],\n [['ENSG00000152102', 'ENSG00000169071']],\n [['ENSG00000152102', 'ENSG00000196843']],\n [['ENSG00000104964', 'ENSG00000152102']],\n [['ENSG00000132522', 'ENSG00000152102']],\n [['ENSG00000136451', 'ENSG00000152102']],\n [['ENSG00000111859', 'ENSG00000152102']],\n [['ENSG00000002834', 'ENSG00000152102']],\n [['ENSG00000152102', 'ENSG00000152977']],\n [['ENSG00000137073', 'ENSG00000152102']],\n [['ENSG00000152102', 'ENSG00000176473']],\n [['ENSG00000152102', 'ENSG00000197683']],\n [['ENSG00000104973', 'ENSG00000152102']],\n [['ENSG00000143442', 'ENSG00000152102']],\n [['ENSG00000152102', 'ENSG00000162148']],\n [['ENSG00000152102', 'ENSG00000174099']],\n [['ENSG00000152102', 'ENSG00000164591']],\n [['ENSG00000152102', 'ENSG00000173065']],\n [['ENSG00000054965', 'ENSG00000152102']],\n [['ENSG00000152102', 'ENSG00000158246']],\n [['ENSG00000152102', 'ENSG00000196313']],\n [['ENSG00000135482', 'ENSG00000152102']],\n [['ENSG00000137098', 'ENSG00000152102']],\n [['ENSG00000131721', 'ENSG00000152102']],\n [['ENSG00000152102', 'ENSG00000169612']],\n [['ENSG00000126603', 'ENSG00000152102']],\n [['ENSG00000152102', 'ENSG00000177613']],\n [['ENSG00000129521', 'ENSG00000152102']],\n [['ENSG00000100105', 'ENSG00000152102']],\n [['ENSG00000148737', 'ENSG00000152102']],\n [['ENSG00000102878', 'ENSG00000152102']],\n [['ENSG00000070808', 'ENSG00000152102']],\n [['ENSG00000137575', 'ENSG00000204334']],\n [['ENSG00000113648', 'ENSG00000204334']],\n [['ENSG00000204334', 'ENSG00000204538']],\n [['ENSG00000179172', 'ENSG00000215595']],\n [['ENSG00000143553', 'ENSG00000215595']],\n [['ENSG00000101367', 'ENSG00000215595']],\n [['ENSG00000150636', 'ENSG00000215595']],\n [['ENSG00000176476', 'ENSG00000215595']],\n [['ENSG00000138443', 'ENSG00000215595']],\n [['ENSG00000084764', 'ENSG00000215595']],\n [['ENSG00000120860', 'ENSG00000215595']],\n [['ENSG00000123143', 'ENSG00000217442']],\n [['ENSG00000185640', 'ENSG00000217442']],\n [['ENSG00000152240', 'ENSG00000217442']],\n [['ENSG00000176476', 'ENSG00000217442']],\n [['ENSG00000104164', 'ENSG00000217442']],\n [['ENSG00000077454', 'ENSG00000164181']],\n [['ENSG00000164181', 'ENSG00000172058']],\n [['ENSG00000139190', 'ENSG00000164181']],\n [['ENSG00000142227', 'ENSG00000164181']],\n [['ENSG00000164181', 'ENSG00000213463']],\n [['ENSG00000164181', 'ENSG00000198471']],\n [['ENSG00000133065', 'ENSG00000164181']],\n [['ENSG00000160087', 'ENSG00000164181']],\n [['ENSG00000047579', 'ENSG00000164181']],\n [['ENSG00000111843', 'ENSG00000164181']],\n [['ENSG00000127507', 'ENSG00000164181']],\n [['ENSG00000130950', 'ENSG00000167987']],\n [['ENSG00000130950', 'ENSG00000185359']],\n [['ENSG00000071051', 'ENSG00000130950']],\n [['ENSG00000004838', 'ENSG00000130950']],\n [['ENSG00000130950', 'ENSG00000224470']],\n [['ENSG00000130950', 'ENSG00000158092']],\n [['ENSG00000130950', 'ENSG00000179262']],\n [['ENSG00000130950', 'ENSG00000177885']],\n [['ENSG00000130950', 'ENSG00000168040']],\n [['ENSG00000066136', 'ENSG00000130950']],\n [['ENSG00000130950', 'ENSG00000154447']],\n [['ENSG00000130950', 'ENSG00000171160']],\n [['ENSG00000064999', 'ENSG00000130950']],\n [['ENSG00000130950', 'ENSG00000134996']],\n [['ENSG00000130950', 'ENSG00000167615']],\n [['ENSG00000130950', 'ENSG00000165630']],\n [['ENSG00000130950', 'ENSG00000141985']],\n [['ENSG00000116922', 'ENSG00000130950']],\n [['ENSG00000130950', 'ENSG00000163848']],\n [['ENSG00000137575', 'ENSG00000179954']],\n [['ENSG00000179954', 'ENSG00000213024']],\n [['ENSG00000056558', 'ENSG00000179954']],\n [['ENSG00000152944', 'ENSG00000179954']],\n [['ENSG00000127445', 'ENSG00000179954']],\n [['ENSG00000171703', 'ENSG00000179954']],\n [['ENSG00000179954', 'ENSG00000196072']],\n [['ENSG00000171446', 'ENSG00000179954']],\n [['ENSG00000103154', 'ENSG00000179954']],\n [['ENSG00000154839', 'ENSG00000179954']],\n [['ENSG00000152240', 'ENSG00000179954']],\n [['ENSG00000047579', 'ENSG00000179954']],\n [['ENSG00000063322', 'ENSG00000179954']],\n [['ENSG00000161920', 'ENSG00000179954']],\n [['ENSG00000185359', 'ENSG00000186628']],\n [['ENSG00000104147', 'ENSG00000186628']],\n [['ENSG00000077279', 'ENSG00000186628']],\n [['ENSG00000180104', 'ENSG00000186628']],\n [['ENSG00000138101', 'ENSG00000186628']],\n [['ENSG00000112130', 'ENSG00000186628']],\n [['ENSG00000143553', 'ENSG00000186628']],\n [['ENSG00000145982', 'ENSG00000186628']],\n [['ENSG00000131023', 'ENSG00000186628']],\n [['ENSG00000168309', 'ENSG00000186628']],\n [['ENSG00000186628', 'ENSG00000255009']],\n [['ENSG00000139684', 'ENSG00000186628']],\n [['ENSG00000169981', 'ENSG00000186628']],\n [['ENSG00000132010', 'ENSG00000186628']],\n [['ENSG00000159377', 'ENSG00000186628']],\n [['ENSG00000186628', 'ENSG00000240583']],\n [['ENSG00000102879', 'ENSG00000186628']],\n [['ENSG00000065029', 'ENSG00000186628']],\n [['ENSG00000167081', 'ENSG00000186628']],\n [['ENSG00000132254', 'ENSG00000186628']],\n [['ENSG00000068024', 'ENSG00000186628']],\n [['ENSG00000186628', 'ENSG00000268651']],\n [['ENSG00000166681', 'ENSG00000186628']],\n [['ENSG00000102081', 'ENSG00000186628']],\n [['ENSG00000117266', 'ENSG00000186628']],\n [['ENSG00000104964', 'ENSG00000186628']],\n [['ENSG00000136451', 'ENSG00000186628']],\n [['ENSG00000112640', 'ENSG00000186628']],\n [['ENSG00000186628', 'ENSG00000196418']],\n [['ENSG00000157119', 'ENSG00000186628']],\n [['ENSG00000152404', 'ENSG00000186628']],\n [['ENSG00000170264', 'ENSG00000186628']],\n [['ENSG00000175513', 'ENSG00000186628']],\n [['ENSG00000119703', 'ENSG00000186628']],\n [['ENSG00000179930', 'ENSG00000186628']],\n [['ENSG00000162650', 'ENSG00000186628']],\n [['ENSG00000166669', 'ENSG00000186628']],\n [['ENSG00000103852', 'ENSG00000186628']],\n [['ENSG00000186628', 'ENSG00000196391']],\n [['ENSG00000146112', 'ENSG00000186628']],\n [['ENSG00000134371', 'ENSG00000186628']],\n [['ENSG00000126775', 'ENSG00000186628']],\n [['ENSG00000120071', 'ENSG00000186628']],\n [['ENSG00000180938', 'ENSG00000186628']],\n [['ENSG00000119725', 'ENSG00000186628']],\n [['ENSG00000171847', 'ENSG00000186628']],\n [['ENSG00000109083', 'ENSG00000186628']],\n [['ENSG00000135205', 'ENSG00000186628']],\n [['ENSG00000176896', 'ENSG00000186628']],\n [['ENSG00000164221', 'ENSG00000186628']],\n [['ENSG00000142686', 'ENSG00000186628']],\n [['ENSG00000173480', 'ENSG00000186628']],\n [['ENSG00000072201', 'ENSG00000186628']],\n [['ENSG00000186628', 'ENSG00000204536']],\n [['ENSG00000105618', 'ENSG00000186628']],\n [['ENSG00000117461', 'ENSG00000186628']],\n [['ENSG00000073584', 'ENSG00000186628']],\n [['ENSG00000105617', 'ENSG00000186628']],\n [['ENSG00000152475', 'ENSG00000186628']],\n [['ENSG00000186628', 'ENSG00000187778']],\n [['ENSG00000147144', 'ENSG00000186628']],\n [['ENSG00000154814', 'ENSG00000186628']],\n [['ENSG00000146007', 'ENSG00000186628']],\n [['ENSG00000186628', 'ENSG00000198883']],\n [['ENSG00000186628', 'ENSG00000198466']],\n [['ENSG00000165630', 'ENSG00000186628']],\n [['ENSG00000125898', 'ENSG00000186628']],\n [['ENSG00000184436', 'ENSG00000186628']],\n [['ENSG00000163156', 'ENSG00000186628']],\n [['ENSG00000133134', 'ENSG00000186628']],\n [['ENSG00000160284', 'ENSG00000186628']],\n [['ENSG00000112983', 'ENSG00000186628']],\n [['ENSG00000124074', 'ENSG00000186628']],\n [['ENSG00000104611', 'ENSG00000186628']],\n [['ENSG00000175213', 'ENSG00000186628']],\n [['ENSG00000141570', 'ENSG00000186628']],\n [['ENSG00000171425', 'ENSG00000186628']],\n [['ENSG00000076826', 'ENSG00000186628']],\n [['ENSG00000117625', 'ENSG00000186628']],\n [['ENSG00000166169', 'ENSG00000186628']],\n [['ENSG00000159882', 'ENSG00000186628']],\n [['ENSG00000080561', 'ENSG00000186628']],\n [['ENSG00000186628', 'ENSG00000213015']],\n [['ENSG00000186628', 'ENSG00000196453']],\n [['ENSG00000186628', 'ENSG00000188033']],\n [['ENSG00000145945', 'ENSG00000186628']],\n [['ENSG00000127903', 'ENSG00000186628']],\n [['ENSG00000174547', 'ENSG00000186628']],\n [['A1X283', 'O43639']],\n [['ENSG00000126251', 'ENSG00000180440']],\n [['ENSG00000180440', 'ENSG00000181885']],\n [['ENSG00000169562', 'ENSG00000180440']],\n [['ENSG00000143119', 'ENSG00000180440']],\n [['ENSG00000157542', 'ENSG00000180440']],\n [['ENSG00000134531', 'ENSG00000180440']],\n [['ENSG00000180440', 'ENSG00000197753']],\n [['ENSG00000164294', 'ENSG00000180440']],\n [['ENSG00000139291', 'ENSG00000180440']],\n [['ENSG00000110079', 'ENSG00000180440']],\n [['ENSG00000122033', 'ENSG00000180440']],\n [['ENSG00000118434', 'ENSG00000180440']],\n [['ENSG00000148948', 'ENSG00000180440']],\n [['ENSG00000150433', 'ENSG00000172159']],\n [['ENSG00000103018', 'ENSG00000172159']],\n [['ENSG00000162300', 'ENSG00000172159']],\n [['ENSG00000109084', 'ENSG00000172159']],\n [['ENSG00000172159', 'ENSG00000188807']],\n [['ENSG00000172159', 'ENSG00000203805']],\n [['ENSG00000137404', 'ENSG00000172159']],\n [['ENSG00000171135', 'ENSG00000172159']],\n [['ENSG00000151778', 'ENSG00000172159']],\n [['ENSG00000153551', 'ENSG00000172159']],\n [['ENSG00000172159', 'ENSG00000176087']],\n [['ENSG00000120742', 'ENSG00000172159']],\n ...]"
     },
     "execution_count": 919,
     "metadata": {},
     "output_type": "execute_result"
    }
   ],
   "source": [
    "[[li[:-4].split('-') for li in l] for l in af2.pdbfile.str.split(';')]"
   ],
   "metadata": {
    "collapsed": false
   }
  },
  {
   "cell_type": "code",
   "execution_count": 920,
   "outputs": [],
   "source": [
    "ensg_only_pairs = [all([all([_id.startswith('ENSG') for _id in li[:-4].split('-')]) for li in l]) for l in af2.pdbfile.str.split(';')]"
   ],
   "metadata": {
    "collapsed": false
   }
  },
  {
   "cell_type": "code",
   "execution_count": 921,
   "outputs": [
    {
     "data": {
      "text/plain": "Empty DataFrame\nColumns: [ida, idb, pdockq, dataset, pdbfile, prob, lena, lenb, capri]\nIndex: []",
      "text/html": "<div>\n<style scoped>\n    .dataframe tbody tr th:only-of-type {\n        vertical-align: middle;\n    }\n\n    .dataframe tbody tr th {\n        vertical-align: top;\n    }\n\n    .dataframe thead th {\n        text-align: right;\n    }\n</style>\n<table border=\"1\" class=\"dataframe\">\n  <thead>\n    <tr style=\"text-align: right;\">\n      <th></th>\n      <th>ida</th>\n      <th>idb</th>\n      <th>pdockq</th>\n      <th>dataset</th>\n      <th>pdbfile</th>\n      <th>prob</th>\n      <th>lena</th>\n      <th>lenb</th>\n      <th>capri</th>\n    </tr>\n  </thead>\n  <tbody>\n  </tbody>\n</table>\n</div>"
     },
     "execution_count": 921,
     "metadata": {},
     "output_type": "execute_result"
    }
   ],
   "source": [
    "# the ones that don't match but have\n",
    "af2.loc[[not i for i in ensg_only_pairs] & af2.pdbfile.str.contains(';')]"
   ],
   "metadata": {
    "collapsed": false
   }
  },
  {
   "cell_type": "code",
   "execution_count": 922,
   "outputs": [
    {
     "data": {
      "text/plain": "55619"
     },
     "execution_count": 922,
     "metadata": {},
     "output_type": "execute_result"
    }
   ],
   "source": [
    "len(af2.loc[ensg_only_pairs])"
   ],
   "metadata": {
    "collapsed": false
   }
  },
  {
   "cell_type": "code",
   "execution_count": 923,
   "outputs": [
    {
     "data": {
      "text/plain": "          ida     idb    pdockq dataset                              pdbfile  \\\n0  A0A024R0Y4  O14964  0.077304    HuRI  ENSG00000185359-ENSG00000276234.pdb   \n1  A0A024R0Y4  O15287  0.038752    HuRI  ENSG00000221829-ENSG00000276234.pdb   \n2  A0A024R0Y4  O60573  0.034888    HuRI  ENSG00000135930-ENSG00000276234.pdb   \n3  A0A024R0Y4  O75431  0.075548    HuRI  ENSG00000128654-ENSG00000276234.pdb   \n4  A0A024R0Y4  O75528  0.730883    HuRI  ENSG00000171148-ENSG00000276234.pdb   \n\n   prob  lena  lenb      capri  \n0   1.0     0     0  incorrect  \n1   1.0     0     0  incorrect  \n2   1.0     0     0  incorrect  \n3   1.0     0     0  incorrect  \n4   1.0     0     0     medium  ",
      "text/html": "<div>\n<style scoped>\n    .dataframe tbody tr th:only-of-type {\n        vertical-align: middle;\n    }\n\n    .dataframe tbody tr th {\n        vertical-align: top;\n    }\n\n    .dataframe thead th {\n        text-align: right;\n    }\n</style>\n<table border=\"1\" class=\"dataframe\">\n  <thead>\n    <tr style=\"text-align: right;\">\n      <th></th>\n      <th>ida</th>\n      <th>idb</th>\n      <th>pdockq</th>\n      <th>dataset</th>\n      <th>pdbfile</th>\n      <th>prob</th>\n      <th>lena</th>\n      <th>lenb</th>\n      <th>capri</th>\n    </tr>\n  </thead>\n  <tbody>\n    <tr>\n      <th>0</th>\n      <td>A0A024R0Y4</td>\n      <td>O14964</td>\n      <td>0.077304</td>\n      <td>HuRI</td>\n      <td>ENSG00000185359-ENSG00000276234.pdb</td>\n      <td>1.0</td>\n      <td>0</td>\n      <td>0</td>\n      <td>incorrect</td>\n    </tr>\n    <tr>\n      <th>1</th>\n      <td>A0A024R0Y4</td>\n      <td>O15287</td>\n      <td>0.038752</td>\n      <td>HuRI</td>\n      <td>ENSG00000221829-ENSG00000276234.pdb</td>\n      <td>1.0</td>\n      <td>0</td>\n      <td>0</td>\n      <td>incorrect</td>\n    </tr>\n    <tr>\n      <th>2</th>\n      <td>A0A024R0Y4</td>\n      <td>O60573</td>\n      <td>0.034888</td>\n      <td>HuRI</td>\n      <td>ENSG00000135930-ENSG00000276234.pdb</td>\n      <td>1.0</td>\n      <td>0</td>\n      <td>0</td>\n      <td>incorrect</td>\n    </tr>\n    <tr>\n      <th>3</th>\n      <td>A0A024R0Y4</td>\n      <td>O75431</td>\n      <td>0.075548</td>\n      <td>HuRI</td>\n      <td>ENSG00000128654-ENSG00000276234.pdb</td>\n      <td>1.0</td>\n      <td>0</td>\n      <td>0</td>\n      <td>incorrect</td>\n    </tr>\n    <tr>\n      <th>4</th>\n      <td>A0A024R0Y4</td>\n      <td>O75528</td>\n      <td>0.730883</td>\n      <td>HuRI</td>\n      <td>ENSG00000171148-ENSG00000276234.pdb</td>\n      <td>1.0</td>\n      <td>0</td>\n      <td>0</td>\n      <td>medium</td>\n    </tr>\n  </tbody>\n</table>\n</div>"
     },
     "execution_count": 923,
     "metadata": {},
     "output_type": "execute_result"
    }
   ],
   "source": [
    "af2.loc[ensg_only_pairs].head()"
   ],
   "metadata": {
    "collapsed": false
   }
  },
  {
   "cell_type": "code",
   "execution_count": 924,
   "outputs": [
    {
     "data": {
      "text/plain": "HuRI      55472\nhu.MAP      147\nName: dataset, dtype: int64"
     },
     "execution_count": 924,
     "metadata": {},
     "output_type": "execute_result"
    }
   ],
   "source": [
    "# whut\n",
    "af2.loc[ensg_only_pairs, 'dataset'].value_counts()"
   ],
   "metadata": {
    "collapsed": false
   }
  },
  {
   "cell_type": "code",
   "execution_count": 925,
   "outputs": [
    {
     "data": {
      "text/plain": "Empty DataFrame\nColumns: [ida, idb, pdockq, dataset, pdbfile, prob, lena, lenb, capri]\nIndex: []",
      "text/html": "<div>\n<style scoped>\n    .dataframe tbody tr th:only-of-type {\n        vertical-align: middle;\n    }\n\n    .dataframe tbody tr th {\n        vertical-align: top;\n    }\n\n    .dataframe thead th {\n        text-align: right;\n    }\n</style>\n<table border=\"1\" class=\"dataframe\">\n  <thead>\n    <tr style=\"text-align: right;\">\n      <th></th>\n      <th>ida</th>\n      <th>idb</th>\n      <th>pdockq</th>\n      <th>dataset</th>\n      <th>pdbfile</th>\n      <th>prob</th>\n      <th>lena</th>\n      <th>lenb</th>\n      <th>capri</th>\n    </tr>\n  </thead>\n  <tbody>\n  </tbody>\n</table>\n</div>"
     },
     "execution_count": 925,
     "metadata": {},
     "output_type": "execute_result"
    }
   ],
   "source": [
    "# but now each line is only a single file anyway xD\n",
    "af2.loc[af2.pdbfile.str.contains(';')]"
   ],
   "metadata": {
    "collapsed": false
   }
  },
  {
   "cell_type": "code",
   "execution_count": 926,
   "outputs": [
    {
     "data": {
      "text/plain": "HuRI           55638\nhu.MAP         10361\n1849 random     1849\nName: dataset, dtype: int64"
     },
     "execution_count": 926,
     "metadata": {},
     "output_type": "execute_result"
    }
   ],
   "source": [
    "af2.dataset.value_counts()"
   ],
   "metadata": {
    "collapsed": false
   }
  },
  {
   "cell_type": "code",
   "execution_count": 927,
   "outputs": [
    {
     "name": "stdout",
     "output_type": "stream",
     "text": [
      "55619\n"
     ]
    },
    {
     "data": {
      "text/plain": "          ida     idb    pdockq dataset                              pdbfile  \\\n0  A0A024R0Y4  O14964  0.077304    HuRI  ENSG00000185359-ENSG00000276234.pdb   \n1  A0A024R0Y4  O15287  0.038752    HuRI  ENSG00000221829-ENSG00000276234.pdb   \n2  A0A024R0Y4  O60573  0.034888    HuRI  ENSG00000135930-ENSG00000276234.pdb   \n3  A0A024R0Y4  O75431  0.075548    HuRI  ENSG00000128654-ENSG00000276234.pdb   \n4  A0A024R0Y4  O75528  0.730883    HuRI  ENSG00000171148-ENSG00000276234.pdb   \n\n   prob      capri                  crca   lena                  crcb   lenb  \n0   1.0  incorrect  CRC-27D3F4F4D5EFF3C8  443.0  CRC-DD64167A19DCF030  777.0  \n1   1.0  incorrect  CRC-27D3F4F4D5EFF3C8  443.0  CRC-4BC7475472AC3C84  622.0  \n2   1.0  incorrect  CRC-27D3F4F4D5EFF3C8  443.0  CRC-3D3075BFA48B3C12  245.0  \n3   1.0  incorrect  CRC-27D3F4F4D5EFF3C8  443.0  CRC-3A2EF476F1C78465  263.0  \n4   1.0     medium  CRC-27D3F4F4D5EFF3C8  443.0  CRC-C86153CFA83F9226  432.0  ",
      "text/html": "<div>\n<style scoped>\n    .dataframe tbody tr th:only-of-type {\n        vertical-align: middle;\n    }\n\n    .dataframe tbody tr th {\n        vertical-align: top;\n    }\n\n    .dataframe thead th {\n        text-align: right;\n    }\n</style>\n<table border=\"1\" class=\"dataframe\">\n  <thead>\n    <tr style=\"text-align: right;\">\n      <th></th>\n      <th>ida</th>\n      <th>idb</th>\n      <th>pdockq</th>\n      <th>dataset</th>\n      <th>pdbfile</th>\n      <th>prob</th>\n      <th>capri</th>\n      <th>crca</th>\n      <th>lena</th>\n      <th>crcb</th>\n      <th>lenb</th>\n    </tr>\n  </thead>\n  <tbody>\n    <tr>\n      <th>0</th>\n      <td>A0A024R0Y4</td>\n      <td>O14964</td>\n      <td>0.077304</td>\n      <td>HuRI</td>\n      <td>ENSG00000185359-ENSG00000276234.pdb</td>\n      <td>1.0</td>\n      <td>incorrect</td>\n      <td>CRC-27D3F4F4D5EFF3C8</td>\n      <td>443.0</td>\n      <td>CRC-DD64167A19DCF030</td>\n      <td>777.0</td>\n    </tr>\n    <tr>\n      <th>1</th>\n      <td>A0A024R0Y4</td>\n      <td>O15287</td>\n      <td>0.038752</td>\n      <td>HuRI</td>\n      <td>ENSG00000221829-ENSG00000276234.pdb</td>\n      <td>1.0</td>\n      <td>incorrect</td>\n      <td>CRC-27D3F4F4D5EFF3C8</td>\n      <td>443.0</td>\n      <td>CRC-4BC7475472AC3C84</td>\n      <td>622.0</td>\n    </tr>\n    <tr>\n      <th>2</th>\n      <td>A0A024R0Y4</td>\n      <td>O60573</td>\n      <td>0.034888</td>\n      <td>HuRI</td>\n      <td>ENSG00000135930-ENSG00000276234.pdb</td>\n      <td>1.0</td>\n      <td>incorrect</td>\n      <td>CRC-27D3F4F4D5EFF3C8</td>\n      <td>443.0</td>\n      <td>CRC-3D3075BFA48B3C12</td>\n      <td>245.0</td>\n    </tr>\n    <tr>\n      <th>3</th>\n      <td>A0A024R0Y4</td>\n      <td>O75431</td>\n      <td>0.075548</td>\n      <td>HuRI</td>\n      <td>ENSG00000128654-ENSG00000276234.pdb</td>\n      <td>1.0</td>\n      <td>incorrect</td>\n      <td>CRC-27D3F4F4D5EFF3C8</td>\n      <td>443.0</td>\n      <td>CRC-3A2EF476F1C78465</td>\n      <td>263.0</td>\n    </tr>\n    <tr>\n      <th>4</th>\n      <td>A0A024R0Y4</td>\n      <td>O75528</td>\n      <td>0.730883</td>\n      <td>HuRI</td>\n      <td>ENSG00000171148-ENSG00000276234.pdb</td>\n      <td>1.0</td>\n      <td>medium</td>\n      <td>CRC-27D3F4F4D5EFF3C8</td>\n      <td>443.0</td>\n      <td>CRC-C86153CFA83F9226</td>\n      <td>432.0</td>\n    </tr>\n  </tbody>\n</table>\n</div>"
     },
     "execution_count": 927,
     "metadata": {},
     "output_type": "execute_result"
    }
   ],
   "source": [
    "# first, merge all the entries that have pdbfiles with ENSGs only\n",
    "af4 = af2.loc[ensg_only_pairs].merge(af3.loc[af3.dataset == 'ensg'], how='left', left_on='ida', right_on='uniprotkb').drop(columns=['uniprotkb', 'dataset_y', 'lena']).rename(columns=dict(crc64='crca', len='lena', dataset_x='dataset')).drop_duplicates().merge(af3.loc[af3.dataset == 'ensg'], how='left', left_on='idb', right_on='uniprotkb').drop(columns=['uniprotkb', 'dataset_y', 'lenb']).rename(columns=dict(crc64='crcb', len='lenb', dataset_x='dataset')).drop_duplicates()\n",
    "assert len(af4) == len(af2.loc[ensg_only_pairs])\n",
    "print(len(af4))\n",
    "af4.head()"
   ],
   "metadata": {
    "collapsed": false
   }
  },
  {
   "cell_type": "code",
   "execution_count": 928,
   "outputs": [],
   "source": [
    "af4_done = (~af4.crca.isna()) & (~af4.crcb.isna())"
   ],
   "metadata": {
    "collapsed": false
   }
  },
  {
   "cell_type": "code",
   "execution_count": 929,
   "outputs": [
    {
     "name": "stdout",
     "output_type": "stream",
     "text": [
      "12801\n"
     ]
    },
    {
     "data": {
      "text/plain": "            ida     idb    pdockq dataset                pdbfile      prob  \\\n38   A0A075B759  P0DN37  0.121130  hu.MAP  P0DN37-A0A075B759.pdb  0.999979   \n204  A0A0B4J2A2  P0DN37  0.098878  hu.MAP  P0DN37-A0A0B4J2A2.pdb  1.000000   \n587      A0AV96  Q9NQ94  0.033961  hu.MAP      Q9NQ94-A0AV96.pdb  0.547486   \n589      A0AV96  Q9NY65  0.060896  hu.MAP      Q9NY65-A0AV96.pdb  0.664063   \n592      A0AVF1  Q86WT1  0.048306  hu.MAP      A0AVF1-Q86WT1.pdb  0.688305   \n\n         capri  crca  lena  crcb  lenb  \n38   incorrect  <NA>   0.0  <NA>   0.0  \n204  incorrect  <NA>   0.0  <NA>   0.0  \n587  incorrect  <NA>   0.0  <NA>   0.0  \n589  incorrect  <NA>   0.0  <NA>   0.0  \n592  incorrect  <NA>   0.0  <NA>   0.0  ",
      "text/html": "<div>\n<style scoped>\n    .dataframe tbody tr th:only-of-type {\n        vertical-align: middle;\n    }\n\n    .dataframe tbody tr th {\n        vertical-align: top;\n    }\n\n    .dataframe thead th {\n        text-align: right;\n    }\n</style>\n<table border=\"1\" class=\"dataframe\">\n  <thead>\n    <tr style=\"text-align: right;\">\n      <th></th>\n      <th>ida</th>\n      <th>idb</th>\n      <th>pdockq</th>\n      <th>dataset</th>\n      <th>pdbfile</th>\n      <th>prob</th>\n      <th>capri</th>\n      <th>crca</th>\n      <th>lena</th>\n      <th>crcb</th>\n      <th>lenb</th>\n    </tr>\n  </thead>\n  <tbody>\n    <tr>\n      <th>38</th>\n      <td>A0A075B759</td>\n      <td>P0DN37</td>\n      <td>0.121130</td>\n      <td>hu.MAP</td>\n      <td>P0DN37-A0A075B759.pdb</td>\n      <td>0.999979</td>\n      <td>incorrect</td>\n      <td>&lt;NA&gt;</td>\n      <td>0.0</td>\n      <td>&lt;NA&gt;</td>\n      <td>0.0</td>\n    </tr>\n    <tr>\n      <th>204</th>\n      <td>A0A0B4J2A2</td>\n      <td>P0DN37</td>\n      <td>0.098878</td>\n      <td>hu.MAP</td>\n      <td>P0DN37-A0A0B4J2A2.pdb</td>\n      <td>1.000000</td>\n      <td>incorrect</td>\n      <td>&lt;NA&gt;</td>\n      <td>0.0</td>\n      <td>&lt;NA&gt;</td>\n      <td>0.0</td>\n    </tr>\n    <tr>\n      <th>587</th>\n      <td>A0AV96</td>\n      <td>Q9NQ94</td>\n      <td>0.033961</td>\n      <td>hu.MAP</td>\n      <td>Q9NQ94-A0AV96.pdb</td>\n      <td>0.547486</td>\n      <td>incorrect</td>\n      <td>&lt;NA&gt;</td>\n      <td>0.0</td>\n      <td>&lt;NA&gt;</td>\n      <td>0.0</td>\n    </tr>\n    <tr>\n      <th>589</th>\n      <td>A0AV96</td>\n      <td>Q9NY65</td>\n      <td>0.060896</td>\n      <td>hu.MAP</td>\n      <td>Q9NY65-A0AV96.pdb</td>\n      <td>0.664063</td>\n      <td>incorrect</td>\n      <td>&lt;NA&gt;</td>\n      <td>0.0</td>\n      <td>&lt;NA&gt;</td>\n      <td>0.0</td>\n    </tr>\n    <tr>\n      <th>592</th>\n      <td>A0AVF1</td>\n      <td>Q86WT1</td>\n      <td>0.048306</td>\n      <td>hu.MAP</td>\n      <td>A0AVF1-Q86WT1.pdb</td>\n      <td>0.688305</td>\n      <td>incorrect</td>\n      <td>&lt;NA&gt;</td>\n      <td>0.0</td>\n      <td>&lt;NA&gt;</td>\n      <td>0.0</td>\n    </tr>\n  </tbody>\n</table>\n</div>"
     },
     "execution_count": 929,
     "metadata": {},
     "output_type": "execute_result"
    }
   ],
   "source": [
    "not_ensg = [not i for i in ensg_only_pairs]\n",
    "af5 = af2.loc[not_ensg].copy()\n",
    "af5[['crca', 'crcb']] = pd.NA, pd.NA\n",
    "af4, af4a = af4.loc[af4_done].copy(), af4.loc[\n",
    "    [not i for i in af4_done]].copy()\n",
    "af5 = pd.concat((af5[af4.columns], af4a))\n",
    "print(len(af5))\n",
    "af5.head()"
   ],
   "metadata": {
    "collapsed": false
   }
  },
  {
   "cell_type": "code",
   "execution_count": 930,
   "outputs": [
    {
     "data": {
      "text/plain": "(12598, 203)"
     },
     "execution_count": 930,
     "metadata": {},
     "output_type": "execute_result"
    }
   ],
   "source": [
    "af6, af7 = af5.loc[af5.crca.isna()].copy(), af5.loc[\n",
    "    ~af5.crca.isna()].copy()\n",
    "len(af6), len(af7)"
   ],
   "metadata": {
    "collapsed": false
   }
  },
  {
   "cell_type": "code",
   "execution_count": 931,
   "outputs": [
    {
     "name": "stdout",
     "output_type": "stream",
     "text": [
      "12598 287\n"
     ]
    },
    {
     "data": {
      "text/plain": "          ida     idb    pdockq dataset                pdbfile      prob  \\\n0  A0A075B759  P0DN37  0.121130  hu.MAP  P0DN37-A0A075B759.pdb  0.999979   \n1  A0A0B4J2A2  P0DN37  0.098878  hu.MAP  P0DN37-A0A0B4J2A2.pdb  1.000000   \n2      A0AV96  Q9NQ94  0.033961  hu.MAP      Q9NQ94-A0AV96.pdb  0.547486   \n3      A0AV96  Q9NY65  0.060896  hu.MAP      Q9NY65-A0AV96.pdb  0.664063   \n4      A0AVF1  Q86WT1  0.048306  hu.MAP      A0AVF1-Q86WT1.pdb  0.688305   \n\n       capri                  crca   lena  crcb  lenb  \n0  incorrect  CRC-FD7DF57F1A6FDAA9  164.0  <NA>   0.0  \n1  incorrect  CRC-8FE074FFE5657EF8  164.0  <NA>   0.0  \n2  incorrect  CRC-AEA061F89A68010B  593.0  <NA>   0.0  \n3  incorrect  CRC-AEA061F89A68010B  593.0  <NA>   0.0  \n4  incorrect  CRC-188062024DB89B97  554.0  <NA>   0.0  ",
      "text/html": "<div>\n<style scoped>\n    .dataframe tbody tr th:only-of-type {\n        vertical-align: middle;\n    }\n\n    .dataframe tbody tr th {\n        vertical-align: top;\n    }\n\n    .dataframe thead th {\n        text-align: right;\n    }\n</style>\n<table border=\"1\" class=\"dataframe\">\n  <thead>\n    <tr style=\"text-align: right;\">\n      <th></th>\n      <th>ida</th>\n      <th>idb</th>\n      <th>pdockq</th>\n      <th>dataset</th>\n      <th>pdbfile</th>\n      <th>prob</th>\n      <th>capri</th>\n      <th>crca</th>\n      <th>lena</th>\n      <th>crcb</th>\n      <th>lenb</th>\n    </tr>\n  </thead>\n  <tbody>\n    <tr>\n      <th>0</th>\n      <td>A0A075B759</td>\n      <td>P0DN37</td>\n      <td>0.121130</td>\n      <td>hu.MAP</td>\n      <td>P0DN37-A0A075B759.pdb</td>\n      <td>0.999979</td>\n      <td>incorrect</td>\n      <td>CRC-FD7DF57F1A6FDAA9</td>\n      <td>164.0</td>\n      <td>&lt;NA&gt;</td>\n      <td>0.0</td>\n    </tr>\n    <tr>\n      <th>1</th>\n      <td>A0A0B4J2A2</td>\n      <td>P0DN37</td>\n      <td>0.098878</td>\n      <td>hu.MAP</td>\n      <td>P0DN37-A0A0B4J2A2.pdb</td>\n      <td>1.000000</td>\n      <td>incorrect</td>\n      <td>CRC-8FE074FFE5657EF8</td>\n      <td>164.0</td>\n      <td>&lt;NA&gt;</td>\n      <td>0.0</td>\n    </tr>\n    <tr>\n      <th>2</th>\n      <td>A0AV96</td>\n      <td>Q9NQ94</td>\n      <td>0.033961</td>\n      <td>hu.MAP</td>\n      <td>Q9NQ94-A0AV96.pdb</td>\n      <td>0.547486</td>\n      <td>incorrect</td>\n      <td>CRC-AEA061F89A68010B</td>\n      <td>593.0</td>\n      <td>&lt;NA&gt;</td>\n      <td>0.0</td>\n    </tr>\n    <tr>\n      <th>3</th>\n      <td>A0AV96</td>\n      <td>Q9NY65</td>\n      <td>0.060896</td>\n      <td>hu.MAP</td>\n      <td>Q9NY65-A0AV96.pdb</td>\n      <td>0.664063</td>\n      <td>incorrect</td>\n      <td>CRC-AEA061F89A68010B</td>\n      <td>593.0</td>\n      <td>&lt;NA&gt;</td>\n      <td>0.0</td>\n    </tr>\n    <tr>\n      <th>4</th>\n      <td>A0AVF1</td>\n      <td>Q86WT1</td>\n      <td>0.048306</td>\n      <td>hu.MAP</td>\n      <td>A0AVF1-Q86WT1.pdb</td>\n      <td>0.688305</td>\n      <td>incorrect</td>\n      <td>CRC-188062024DB89B97</td>\n      <td>554.0</td>\n      <td>&lt;NA&gt;</td>\n      <td>0.0</td>\n    </tr>\n  </tbody>\n</table>\n</div>"
     },
     "execution_count": 931,
     "metadata": {},
     "output_type": "execute_result"
    }
   ],
   "source": [
    "af6 = af6.merge(af3.loc[af3.dataset != 'ensg'], how='left', left_on=['ida', 'dataset'], right_on=['uniprotkb', 'dataset']).drop(columns=['crca', 'lena', 'uniprotkb']).rename(columns=dict(crc64='crca', len='lena'))[af4.columns].drop_duplicates()\n",
    "af6a, af6b = af6.loc[~af6.crca.isna()].copy(), af6.loc[af6.crca.isna()].copy()\n",
    "af6b = af6b.merge(af3.loc[af3.dataset != 'ensg'], how='left', left_on=['ida'], right_on=['uniprotkb']).drop(columns=['crca', 'lena', 'uniprotkb', 'dataset_y']).rename(columns=dict(crc64='crca', len='lena', dataset_x='dataset'))[af4.columns].drop_duplicates()\n",
    "af6 = pd.concat((af6a, af6b))\n",
    "print(len(af6), len(af6.loc[af6.crca.isna()]))\n",
    "af6.head()"
   ],
   "metadata": {
    "collapsed": false
   }
  },
  {
   "cell_type": "code",
   "execution_count": 932,
   "outputs": [
    {
     "data": {
      "text/plain": "(12437, 364)"
     },
     "execution_count": 932,
     "metadata": {},
     "output_type": "execute_result"
    }
   ],
   "source": [
    "af8 = pd.concat((af6, af7))\n",
    "af6, af7 = af8.loc[af8.crcb.isna()].copy(), af8.loc[\n",
    "    ~af8.crcb.isna()].copy()\n",
    "len(af6), len(af7)"
   ],
   "metadata": {
    "collapsed": false
   }
  },
  {
   "cell_type": "code",
   "execution_count": 933,
   "outputs": [
    {
     "name": "stdout",
     "output_type": "stream",
     "text": [
      "12437 163\n"
     ]
    },
    {
     "data": {
      "text/plain": "          ida     idb    pdockq dataset                pdbfile      prob  \\\n0  A0A075B759  P0DN37  0.121130  hu.MAP  P0DN37-A0A075B759.pdb  0.999979   \n1  A0A0B4J2A2  P0DN37  0.098878  hu.MAP  P0DN37-A0A0B4J2A2.pdb  1.000000   \n2      A0AV96  Q9NQ94  0.033961  hu.MAP      Q9NQ94-A0AV96.pdb  0.547486   \n3      A0AV96  Q9NY65  0.060896  hu.MAP      Q9NY65-A0AV96.pdb  0.664063   \n4      A0AVF1  Q86WT1  0.048306  hu.MAP      A0AVF1-Q86WT1.pdb  0.688305   \n\n       capri                  crca   lena                  crcb   lenb  \n0  incorrect  CRC-FD7DF57F1A6FDAA9  164.0  CRC-CEAFE5FE3D858213  164.0  \n1  incorrect  CRC-8FE074FFE5657EF8  164.0  CRC-CEAFE5FE3D858213  164.0  \n2  incorrect  CRC-AEA061F89A68010B  593.0  CRC-AA5EF76BD8815807  594.0  \n3  incorrect  CRC-AEA061F89A68010B  593.0  CRC-8D1AFB9D131529BD  449.0  \n4  incorrect  CRC-188062024DB89B97  554.0  CRC-567FD2C26CC48435  665.0  ",
      "text/html": "<div>\n<style scoped>\n    .dataframe tbody tr th:only-of-type {\n        vertical-align: middle;\n    }\n\n    .dataframe tbody tr th {\n        vertical-align: top;\n    }\n\n    .dataframe thead th {\n        text-align: right;\n    }\n</style>\n<table border=\"1\" class=\"dataframe\">\n  <thead>\n    <tr style=\"text-align: right;\">\n      <th></th>\n      <th>ida</th>\n      <th>idb</th>\n      <th>pdockq</th>\n      <th>dataset</th>\n      <th>pdbfile</th>\n      <th>prob</th>\n      <th>capri</th>\n      <th>crca</th>\n      <th>lena</th>\n      <th>crcb</th>\n      <th>lenb</th>\n    </tr>\n  </thead>\n  <tbody>\n    <tr>\n      <th>0</th>\n      <td>A0A075B759</td>\n      <td>P0DN37</td>\n      <td>0.121130</td>\n      <td>hu.MAP</td>\n      <td>P0DN37-A0A075B759.pdb</td>\n      <td>0.999979</td>\n      <td>incorrect</td>\n      <td>CRC-FD7DF57F1A6FDAA9</td>\n      <td>164.0</td>\n      <td>CRC-CEAFE5FE3D858213</td>\n      <td>164.0</td>\n    </tr>\n    <tr>\n      <th>1</th>\n      <td>A0A0B4J2A2</td>\n      <td>P0DN37</td>\n      <td>0.098878</td>\n      <td>hu.MAP</td>\n      <td>P0DN37-A0A0B4J2A2.pdb</td>\n      <td>1.000000</td>\n      <td>incorrect</td>\n      <td>CRC-8FE074FFE5657EF8</td>\n      <td>164.0</td>\n      <td>CRC-CEAFE5FE3D858213</td>\n      <td>164.0</td>\n    </tr>\n    <tr>\n      <th>2</th>\n      <td>A0AV96</td>\n      <td>Q9NQ94</td>\n      <td>0.033961</td>\n      <td>hu.MAP</td>\n      <td>Q9NQ94-A0AV96.pdb</td>\n      <td>0.547486</td>\n      <td>incorrect</td>\n      <td>CRC-AEA061F89A68010B</td>\n      <td>593.0</td>\n      <td>CRC-AA5EF76BD8815807</td>\n      <td>594.0</td>\n    </tr>\n    <tr>\n      <th>3</th>\n      <td>A0AV96</td>\n      <td>Q9NY65</td>\n      <td>0.060896</td>\n      <td>hu.MAP</td>\n      <td>Q9NY65-A0AV96.pdb</td>\n      <td>0.664063</td>\n      <td>incorrect</td>\n      <td>CRC-AEA061F89A68010B</td>\n      <td>593.0</td>\n      <td>CRC-8D1AFB9D131529BD</td>\n      <td>449.0</td>\n    </tr>\n    <tr>\n      <th>4</th>\n      <td>A0AVF1</td>\n      <td>Q86WT1</td>\n      <td>0.048306</td>\n      <td>hu.MAP</td>\n      <td>A0AVF1-Q86WT1.pdb</td>\n      <td>0.688305</td>\n      <td>incorrect</td>\n      <td>CRC-188062024DB89B97</td>\n      <td>554.0</td>\n      <td>CRC-567FD2C26CC48435</td>\n      <td>665.0</td>\n    </tr>\n  </tbody>\n</table>\n</div>"
     },
     "execution_count": 933,
     "metadata": {},
     "output_type": "execute_result"
    }
   ],
   "source": [
    "af6 = af6.merge(af3.loc[af3.dataset != 'ensg'], how='left', left_on=['idb', 'dataset'], right_on=['uniprotkb', 'dataset']).drop(columns=['crcb', 'lenb', 'uniprotkb']).rename(columns=dict(crc64='crcb', len='lenb'))[af4.columns].drop_duplicates()\n",
    "af6a, af6b = af6.loc[~af6.crcb.isna()].copy(), af6.loc[af6.crcb.isna()].copy()\n",
    "af6b = af6b.merge(af3.loc[af3.dataset != 'ensg'], how='left', left_on=['idb'], right_on=['uniprotkb']).drop(columns=['crcb', 'lenb', 'uniprotkb', 'dataset_y']).rename(columns=dict(crc64='crcb', len='lenb', dataset_x='dataset'))[af4.columns].drop_duplicates()\n",
    "af6 = pd.concat((af6a, af6b))\n",
    "print(len(af6), len(af6.loc[af6.crca.isna()]))\n",
    "af6.head()"
   ],
   "metadata": {
    "collapsed": false
   }
  },
  {
   "cell_type": "code",
   "execution_count": 934,
   "outputs": [
    {
     "data": {
      "text/plain": "Empty DataFrame\nColumns: [ida, idb, pdockq, dataset, pdbfile, prob, capri, crca, lena, crcb, lenb]\nIndex: []",
      "text/html": "<div>\n<style scoped>\n    .dataframe tbody tr th:only-of-type {\n        vertical-align: middle;\n    }\n\n    .dataframe tbody tr th {\n        vertical-align: top;\n    }\n\n    .dataframe thead th {\n        text-align: right;\n    }\n</style>\n<table border=\"1\" class=\"dataframe\">\n  <thead>\n    <tr style=\"text-align: right;\">\n      <th></th>\n      <th>ida</th>\n      <th>idb</th>\n      <th>pdockq</th>\n      <th>dataset</th>\n      <th>pdbfile</th>\n      <th>prob</th>\n      <th>capri</th>\n      <th>crca</th>\n      <th>lena</th>\n      <th>crcb</th>\n      <th>lenb</th>\n    </tr>\n  </thead>\n  <tbody>\n  </tbody>\n</table>\n</div>"
     },
     "execution_count": 934,
     "metadata": {},
     "output_type": "execute_result"
    }
   ],
   "source": [
    "af6a.loc[af6a.pdbfile.duplicated(keep=False)]"
   ],
   "metadata": {
    "collapsed": false
   }
  },
  {
   "cell_type": "code",
   "execution_count": 935,
   "outputs": [
    {
     "name": "stdout",
     "output_type": "stream",
     "text": [
      "12801\n"
     ]
    },
    {
     "data": {
      "text/plain": "          ida     idb    pdockq dataset                pdbfile      prob  \\\n0  A0A075B759  P0DN37  0.121130  hu.MAP  P0DN37-A0A075B759.pdb  0.999979   \n1  A0A0B4J2A2  P0DN37  0.098878  hu.MAP  P0DN37-A0A0B4J2A2.pdb  1.000000   \n2      A0AV96  Q9NQ94  0.033961  hu.MAP      Q9NQ94-A0AV96.pdb  0.547486   \n3      A0AV96  Q9NY65  0.060896  hu.MAP      Q9NY65-A0AV96.pdb  0.664063   \n4      A0AVF1  Q86WT1  0.048306  hu.MAP      A0AVF1-Q86WT1.pdb  0.688305   \n\n       capri                  crca   lena                  crcb   lenb  \n0  incorrect  CRC-FD7DF57F1A6FDAA9  164.0  CRC-CEAFE5FE3D858213  164.0  \n1  incorrect  CRC-8FE074FFE5657EF8  164.0  CRC-CEAFE5FE3D858213  164.0  \n2  incorrect  CRC-AEA061F89A68010B  593.0  CRC-AA5EF76BD8815807  594.0  \n3  incorrect  CRC-AEA061F89A68010B  593.0  CRC-8D1AFB9D131529BD  449.0  \n4  incorrect  CRC-188062024DB89B97  554.0  CRC-567FD2C26CC48435  665.0  ",
      "text/html": "<div>\n<style scoped>\n    .dataframe tbody tr th:only-of-type {\n        vertical-align: middle;\n    }\n\n    .dataframe tbody tr th {\n        vertical-align: top;\n    }\n\n    .dataframe thead th {\n        text-align: right;\n    }\n</style>\n<table border=\"1\" class=\"dataframe\">\n  <thead>\n    <tr style=\"text-align: right;\">\n      <th></th>\n      <th>ida</th>\n      <th>idb</th>\n      <th>pdockq</th>\n      <th>dataset</th>\n      <th>pdbfile</th>\n      <th>prob</th>\n      <th>capri</th>\n      <th>crca</th>\n      <th>lena</th>\n      <th>crcb</th>\n      <th>lenb</th>\n    </tr>\n  </thead>\n  <tbody>\n    <tr>\n      <th>0</th>\n      <td>A0A075B759</td>\n      <td>P0DN37</td>\n      <td>0.121130</td>\n      <td>hu.MAP</td>\n      <td>P0DN37-A0A075B759.pdb</td>\n      <td>0.999979</td>\n      <td>incorrect</td>\n      <td>CRC-FD7DF57F1A6FDAA9</td>\n      <td>164.0</td>\n      <td>CRC-CEAFE5FE3D858213</td>\n      <td>164.0</td>\n    </tr>\n    <tr>\n      <th>1</th>\n      <td>A0A0B4J2A2</td>\n      <td>P0DN37</td>\n      <td>0.098878</td>\n      <td>hu.MAP</td>\n      <td>P0DN37-A0A0B4J2A2.pdb</td>\n      <td>1.000000</td>\n      <td>incorrect</td>\n      <td>CRC-8FE074FFE5657EF8</td>\n      <td>164.0</td>\n      <td>CRC-CEAFE5FE3D858213</td>\n      <td>164.0</td>\n    </tr>\n    <tr>\n      <th>2</th>\n      <td>A0AV96</td>\n      <td>Q9NQ94</td>\n      <td>0.033961</td>\n      <td>hu.MAP</td>\n      <td>Q9NQ94-A0AV96.pdb</td>\n      <td>0.547486</td>\n      <td>incorrect</td>\n      <td>CRC-AEA061F89A68010B</td>\n      <td>593.0</td>\n      <td>CRC-AA5EF76BD8815807</td>\n      <td>594.0</td>\n    </tr>\n    <tr>\n      <th>3</th>\n      <td>A0AV96</td>\n      <td>Q9NY65</td>\n      <td>0.060896</td>\n      <td>hu.MAP</td>\n      <td>Q9NY65-A0AV96.pdb</td>\n      <td>0.664063</td>\n      <td>incorrect</td>\n      <td>CRC-AEA061F89A68010B</td>\n      <td>593.0</td>\n      <td>CRC-8D1AFB9D131529BD</td>\n      <td>449.0</td>\n    </tr>\n    <tr>\n      <th>4</th>\n      <td>A0AVF1</td>\n      <td>Q86WT1</td>\n      <td>0.048306</td>\n      <td>hu.MAP</td>\n      <td>A0AVF1-Q86WT1.pdb</td>\n      <td>0.688305</td>\n      <td>incorrect</td>\n      <td>CRC-188062024DB89B97</td>\n      <td>554.0</td>\n      <td>CRC-567FD2C26CC48435</td>\n      <td>665.0</td>\n    </tr>\n  </tbody>\n</table>\n</div>"
     },
     "execution_count": 935,
     "metadata": {},
     "output_type": "execute_result"
    }
   ],
   "source": [
    "af8 = pd.concat((af6, af7))\n",
    "print(len(af8))\n",
    "af8.head()"
   ],
   "metadata": {
    "collapsed": false
   }
  },
  {
   "cell_type": "code",
   "execution_count": 936,
   "outputs": [
    {
     "name": "stdout",
     "output_type": "stream",
     "text": [
      "67848\n"
     ]
    },
    {
     "data": {
      "text/plain": "          ida     idb    pdockq dataset                pdbfile      prob  \\\n0  A0A075B759  P0DN37  0.121130  hu.MAP  P0DN37-A0A075B759.pdb  0.999979   \n1  A0A0B4J2A2  P0DN37  0.098878  hu.MAP  P0DN37-A0A0B4J2A2.pdb  1.000000   \n2      A0AV96  Q9NQ94  0.033961  hu.MAP      Q9NQ94-A0AV96.pdb  0.547486   \n3      A0AV96  Q9NY65  0.060896  hu.MAP      Q9NY65-A0AV96.pdb  0.664063   \n4      A0AVF1  Q86WT1  0.048306  hu.MAP      A0AVF1-Q86WT1.pdb  0.688305   \n\n       capri                  crca   lena                  crcb   lenb  \n0  incorrect  CRC-FD7DF57F1A6FDAA9  164.0  CRC-CEAFE5FE3D858213  164.0  \n1  incorrect  CRC-8FE074FFE5657EF8  164.0  CRC-CEAFE5FE3D858213  164.0  \n2  incorrect  CRC-AEA061F89A68010B  593.0  CRC-AA5EF76BD8815807  594.0  \n3  incorrect  CRC-AEA061F89A68010B  593.0  CRC-8D1AFB9D131529BD  449.0  \n4  incorrect  CRC-188062024DB89B97  554.0  CRC-567FD2C26CC48435  665.0  ",
      "text/html": "<div>\n<style scoped>\n    .dataframe tbody tr th:only-of-type {\n        vertical-align: middle;\n    }\n\n    .dataframe tbody tr th {\n        vertical-align: top;\n    }\n\n    .dataframe thead th {\n        text-align: right;\n    }\n</style>\n<table border=\"1\" class=\"dataframe\">\n  <thead>\n    <tr style=\"text-align: right;\">\n      <th></th>\n      <th>ida</th>\n      <th>idb</th>\n      <th>pdockq</th>\n      <th>dataset</th>\n      <th>pdbfile</th>\n      <th>prob</th>\n      <th>capri</th>\n      <th>crca</th>\n      <th>lena</th>\n      <th>crcb</th>\n      <th>lenb</th>\n    </tr>\n  </thead>\n  <tbody>\n    <tr>\n      <th>0</th>\n      <td>A0A075B759</td>\n      <td>P0DN37</td>\n      <td>0.121130</td>\n      <td>hu.MAP</td>\n      <td>P0DN37-A0A075B759.pdb</td>\n      <td>0.999979</td>\n      <td>incorrect</td>\n      <td>CRC-FD7DF57F1A6FDAA9</td>\n      <td>164.0</td>\n      <td>CRC-CEAFE5FE3D858213</td>\n      <td>164.0</td>\n    </tr>\n    <tr>\n      <th>1</th>\n      <td>A0A0B4J2A2</td>\n      <td>P0DN37</td>\n      <td>0.098878</td>\n      <td>hu.MAP</td>\n      <td>P0DN37-A0A0B4J2A2.pdb</td>\n      <td>1.000000</td>\n      <td>incorrect</td>\n      <td>CRC-8FE074FFE5657EF8</td>\n      <td>164.0</td>\n      <td>CRC-CEAFE5FE3D858213</td>\n      <td>164.0</td>\n    </tr>\n    <tr>\n      <th>2</th>\n      <td>A0AV96</td>\n      <td>Q9NQ94</td>\n      <td>0.033961</td>\n      <td>hu.MAP</td>\n      <td>Q9NQ94-A0AV96.pdb</td>\n      <td>0.547486</td>\n      <td>incorrect</td>\n      <td>CRC-AEA061F89A68010B</td>\n      <td>593.0</td>\n      <td>CRC-AA5EF76BD8815807</td>\n      <td>594.0</td>\n    </tr>\n    <tr>\n      <th>3</th>\n      <td>A0AV96</td>\n      <td>Q9NY65</td>\n      <td>0.060896</td>\n      <td>hu.MAP</td>\n      <td>Q9NY65-A0AV96.pdb</td>\n      <td>0.664063</td>\n      <td>incorrect</td>\n      <td>CRC-AEA061F89A68010B</td>\n      <td>593.0</td>\n      <td>CRC-8D1AFB9D131529BD</td>\n      <td>449.0</td>\n    </tr>\n    <tr>\n      <th>4</th>\n      <td>A0AVF1</td>\n      <td>Q86WT1</td>\n      <td>0.048306</td>\n      <td>hu.MAP</td>\n      <td>A0AVF1-Q86WT1.pdb</td>\n      <td>0.688305</td>\n      <td>incorrect</td>\n      <td>CRC-188062024DB89B97</td>\n      <td>554.0</td>\n      <td>CRC-567FD2C26CC48435</td>\n      <td>665.0</td>\n    </tr>\n  </tbody>\n</table>\n</div>"
     },
     "execution_count": 936,
     "metadata": {},
     "output_type": "execute_result"
    }
   ],
   "source": [
    "aff = pd.concat((af8, af4)).drop_duplicates()\n",
    "assert len(aff) == len(pd.concat((mpp, r2k)).drop_duplicates())\n",
    "# aff[['lena', 'leb']] = aff[['lena', 'lenb']].astype(int)\n",
    "print(len(aff))\n",
    "aff.head()"
   ],
   "metadata": {
    "collapsed": false
   }
  },
  {
   "cell_type": "code",
   "execution_count": 937,
   "outputs": [
    {
     "data": {
      "text/plain": "Empty DataFrame\nColumns: [ida, idb, pdockq, dataset, pdbfile, prob, capri, crca, lena, crcb, lenb]\nIndex: []",
      "text/html": "<div>\n<style scoped>\n    .dataframe tbody tr th:only-of-type {\n        vertical-align: middle;\n    }\n\n    .dataframe tbody tr th {\n        vertical-align: top;\n    }\n\n    .dataframe thead th {\n        text-align: right;\n    }\n</style>\n<table border=\"1\" class=\"dataframe\">\n  <thead>\n    <tr style=\"text-align: right;\">\n      <th></th>\n      <th>ida</th>\n      <th>idb</th>\n      <th>pdockq</th>\n      <th>dataset</th>\n      <th>pdbfile</th>\n      <th>prob</th>\n      <th>capri</th>\n      <th>crca</th>\n      <th>lena</th>\n      <th>crcb</th>\n      <th>lenb</th>\n    </tr>\n  </thead>\n  <tbody>\n  </tbody>\n</table>\n</div>"
     },
     "execution_count": 937,
     "metadata": {},
     "output_type": "execute_result"
    }
   ],
   "source": [
    "aff.loc[aff.pdbfile.duplicated(keep=False)]"
   ],
   "metadata": {
    "collapsed": false
   }
  },
  {
   "cell_type": "code",
   "execution_count": 938,
   "outputs": [
    {
     "data": {
      "text/plain": "          ida     idb    pdockq dataset                              pdbfile  \\\n10192  A6NNZ2  P05362  0.031345  hu.MAP                    P05362-A6NNZ2.pdb   \n10193  A6NNZ2  P07437  0.553691  hu.MAP                    P07437-A6NNZ2.pdb   \n10194  A6NNZ2  P25445  0.103594  hu.MAP                    P25445-A6NNZ2.pdb   \n10195  A6NNZ2  Q13291  0.038629  hu.MAP                    Q13291-A6NNZ2.pdb   \n10196  A6NNZ2  Q13509  0.380734  hu.MAP                    Q13509-A6NNZ2.pdb   \n...       ...     ...       ...     ...                                  ...   \n3113   I3L4Z7  Q99081  0.042905    HuRI  ENSG00000140262-ENSG00000214087.pdb   \n3114   Q0VD77  Q5TD97  0.047478    HuRI  ENSG00000112214-ENSG00000185761.pdb   \n3115   Q0VD77  Q6UY14  0.080997    HuRI  ENSG00000143382-ENSG00000185761.pdb   \n3116   Q0VD77  Q7Z3S9  0.103304    HuRI  ENSG00000185761-ENSG00000264343.pdb   \n3117   Q6EEV4  Q9NVV9  0.075165    HuRI  ENSG00000131931-ENSG00000255529.pdb   \n\n       prob       capri crca  lena                  crcb    lenb  \n10192   1.0   incorrect  NaN   NaN  CRC-550089365A733AFB   532.0  \n10193   1.0      medium  NaN   NaN  CRC-1E6CD0A36773A103   444.0  \n10194   1.0   incorrect  NaN   NaN  CRC-0139942535111410   335.0  \n10195   1.0   incorrect  NaN   NaN  CRC-BFB0F27EA31D8C04   335.0  \n10196   1.0  acceptable  NaN   NaN  CRC-4B9CDE7DBA102949   450.0  \n...     ...         ...  ...   ...                   ...     ...  \n3113    1.0   incorrect  NaN   NaN  CRC-9736113D9361D3F5   682.0  \n3114    1.0   incorrect  NaN   NaN  CRC-82C03B1EAA147C11   284.0  \n3115    1.0   incorrect  NaN   NaN  CRC-79AE0E5DF5488CA1  1074.0  \n3116    1.0   incorrect  NaN   NaN  CRC-2DF01880A22814C9   236.0  \n3117    1.0   incorrect  NaN   NaN  CRC-F3769B0F4CC56539   213.0  \n\n[369 rows x 11 columns]",
      "text/html": "<div>\n<style scoped>\n    .dataframe tbody tr th:only-of-type {\n        vertical-align: middle;\n    }\n\n    .dataframe tbody tr th {\n        vertical-align: top;\n    }\n\n    .dataframe thead th {\n        text-align: right;\n    }\n</style>\n<table border=\"1\" class=\"dataframe\">\n  <thead>\n    <tr style=\"text-align: right;\">\n      <th></th>\n      <th>ida</th>\n      <th>idb</th>\n      <th>pdockq</th>\n      <th>dataset</th>\n      <th>pdbfile</th>\n      <th>prob</th>\n      <th>capri</th>\n      <th>crca</th>\n      <th>lena</th>\n      <th>crcb</th>\n      <th>lenb</th>\n    </tr>\n  </thead>\n  <tbody>\n    <tr>\n      <th>10192</th>\n      <td>A6NNZ2</td>\n      <td>P05362</td>\n      <td>0.031345</td>\n      <td>hu.MAP</td>\n      <td>P05362-A6NNZ2.pdb</td>\n      <td>1.0</td>\n      <td>incorrect</td>\n      <td>NaN</td>\n      <td>NaN</td>\n      <td>CRC-550089365A733AFB</td>\n      <td>532.0</td>\n    </tr>\n    <tr>\n      <th>10193</th>\n      <td>A6NNZ2</td>\n      <td>P07437</td>\n      <td>0.553691</td>\n      <td>hu.MAP</td>\n      <td>P07437-A6NNZ2.pdb</td>\n      <td>1.0</td>\n      <td>medium</td>\n      <td>NaN</td>\n      <td>NaN</td>\n      <td>CRC-1E6CD0A36773A103</td>\n      <td>444.0</td>\n    </tr>\n    <tr>\n      <th>10194</th>\n      <td>A6NNZ2</td>\n      <td>P25445</td>\n      <td>0.103594</td>\n      <td>hu.MAP</td>\n      <td>P25445-A6NNZ2.pdb</td>\n      <td>1.0</td>\n      <td>incorrect</td>\n      <td>NaN</td>\n      <td>NaN</td>\n      <td>CRC-0139942535111410</td>\n      <td>335.0</td>\n    </tr>\n    <tr>\n      <th>10195</th>\n      <td>A6NNZ2</td>\n      <td>Q13291</td>\n      <td>0.038629</td>\n      <td>hu.MAP</td>\n      <td>Q13291-A6NNZ2.pdb</td>\n      <td>1.0</td>\n      <td>incorrect</td>\n      <td>NaN</td>\n      <td>NaN</td>\n      <td>CRC-BFB0F27EA31D8C04</td>\n      <td>335.0</td>\n    </tr>\n    <tr>\n      <th>10196</th>\n      <td>A6NNZ2</td>\n      <td>Q13509</td>\n      <td>0.380734</td>\n      <td>hu.MAP</td>\n      <td>Q13509-A6NNZ2.pdb</td>\n      <td>1.0</td>\n      <td>acceptable</td>\n      <td>NaN</td>\n      <td>NaN</td>\n      <td>CRC-4B9CDE7DBA102949</td>\n      <td>450.0</td>\n    </tr>\n    <tr>\n      <th>...</th>\n      <td>...</td>\n      <td>...</td>\n      <td>...</td>\n      <td>...</td>\n      <td>...</td>\n      <td>...</td>\n      <td>...</td>\n      <td>...</td>\n      <td>...</td>\n      <td>...</td>\n      <td>...</td>\n    </tr>\n    <tr>\n      <th>3113</th>\n      <td>I3L4Z7</td>\n      <td>Q99081</td>\n      <td>0.042905</td>\n      <td>HuRI</td>\n      <td>ENSG00000140262-ENSG00000214087.pdb</td>\n      <td>1.0</td>\n      <td>incorrect</td>\n      <td>NaN</td>\n      <td>NaN</td>\n      <td>CRC-9736113D9361D3F5</td>\n      <td>682.0</td>\n    </tr>\n    <tr>\n      <th>3114</th>\n      <td>Q0VD77</td>\n      <td>Q5TD97</td>\n      <td>0.047478</td>\n      <td>HuRI</td>\n      <td>ENSG00000112214-ENSG00000185761.pdb</td>\n      <td>1.0</td>\n      <td>incorrect</td>\n      <td>NaN</td>\n      <td>NaN</td>\n      <td>CRC-82C03B1EAA147C11</td>\n      <td>284.0</td>\n    </tr>\n    <tr>\n      <th>3115</th>\n      <td>Q0VD77</td>\n      <td>Q6UY14</td>\n      <td>0.080997</td>\n      <td>HuRI</td>\n      <td>ENSG00000143382-ENSG00000185761.pdb</td>\n      <td>1.0</td>\n      <td>incorrect</td>\n      <td>NaN</td>\n      <td>NaN</td>\n      <td>CRC-79AE0E5DF5488CA1</td>\n      <td>1074.0</td>\n    </tr>\n    <tr>\n      <th>3116</th>\n      <td>Q0VD77</td>\n      <td>Q7Z3S9</td>\n      <td>0.103304</td>\n      <td>HuRI</td>\n      <td>ENSG00000185761-ENSG00000264343.pdb</td>\n      <td>1.0</td>\n      <td>incorrect</td>\n      <td>NaN</td>\n      <td>NaN</td>\n      <td>CRC-2DF01880A22814C9</td>\n      <td>236.0</td>\n    </tr>\n    <tr>\n      <th>3117</th>\n      <td>Q6EEV4</td>\n      <td>Q9NVV9</td>\n      <td>0.075165</td>\n      <td>HuRI</td>\n      <td>ENSG00000131931-ENSG00000255529.pdb</td>\n      <td>1.0</td>\n      <td>incorrect</td>\n      <td>NaN</td>\n      <td>NaN</td>\n      <td>CRC-F3769B0F4CC56539</td>\n      <td>213.0</td>\n    </tr>\n  </tbody>\n</table>\n<p>369 rows × 11 columns</p>\n</div>"
     },
     "execution_count": 938,
     "metadata": {},
     "output_type": "execute_result"
    }
   ],
   "source": [
    "aff.loc[aff.crca.isna() | aff.crcb.isna()]"
   ],
   "metadata": {
    "collapsed": false
   }
  },
  {
   "cell_type": "code",
   "execution_count": 939,
   "outputs": [
    {
     "data": {
      "text/plain": "HuRI           55638\nhu.MAP         10361\n1849 random     1849\nName: dataset, dtype: int64"
     },
     "execution_count": 939,
     "metadata": {},
     "output_type": "execute_result"
    }
   ],
   "source": [
    "aff.dataset.value_counts()"
   ],
   "metadata": {
    "collapsed": false
   }
  },
  {
   "cell_type": "code",
   "execution_count": 940,
   "outputs": [],
   "source": [
    "# aff.to_csv('huintaf2_fixed.tsv', sep='\\t',\n",
    "#            index=False, header=True,\n",
    "#            float_format='{:.5}'.format)"
   ],
   "metadata": {
    "collapsed": false
   }
  },
  {
   "cell_type": "code",
   "execution_count": 941,
   "outputs": [
    {
     "data": {
      "text/plain": "(72, ['D6R934', 'Q96QV6', 'P20231', 'P04908'])"
     },
     "execution_count": 941,
     "metadata": {},
     "output_type": "execute_result"
    }
   ],
   "source": [
    "missing_ids = set(aff.loc[aff.crca.isna(), 'ida']) | set(\n",
    "    aff.loc[aff.crcb.isna(), 'idb'])\n",
    "len(missing_ids), list(missing_ids)[:4]"
   ],
   "metadata": {
    "collapsed": false
   }
  },
  {
   "cell_type": "markdown",
   "source": [
    "### fetch from UniProt"
   ],
   "metadata": {
    "collapsed": false
   }
  },
  {
   "cell_type": "code",
   "execution_count": 687,
   "outputs": [
    {
     "name": "stdout",
     "output_type": "stream",
     "text": [
      "jobId: 0024d8bc880ccb1f492c3671a50dc2b760aeaaef\n",
      "huintaf_72: query + tab ... 73:0\n",
      "huintaf_72: fasta ...API FASTA: 5db3cf411a5a8e4a3d54053b6a043bb3d93bda1dfcd96e4385b133de3088c75c\n"
     ]
    },
    {
     "name": "stderr",
     "output_type": "stream",
     "text": [
      "hash FASTA: 71it [00:00, 4452.35it/s]\n",
      "fetch UniParc: 100%|██████████| 2/2 [00:00<00:00,  2.50it/s]\n"
     ]
    }
   ],
   "source": [
    "missing_mapping = uniprot_api_fetch(\n",
    "    missing_ids, out_file=Path('uniprot/huintaf_72.fasta'))"
   ],
   "metadata": {
    "collapsed": false
   }
  },
  {
   "cell_type": "code",
   "execution_count": 942,
   "outputs": [
    {
     "data": {
      "text/plain": "('A0A087WXY6', 'CRC-3984027ECA520C4D')"
     },
     "execution_count": 942,
     "metadata": {},
     "output_type": "execute_result"
    }
   ],
   "source": [
    "with Path('uniprot/huintaf_72.json').open('r') as json_file:\n",
    "    missing_mapping = json.load(json_file)\n",
    "next(iter(missing_mapping.items()))"
   ],
   "metadata": {
    "collapsed": false
   }
  },
  {
   "cell_type": "code",
   "execution_count": 943,
   "outputs": [
    {
     "data": {
      "text/plain": "('CRC-3984027ECA520C4D',\n 'PESISSLPETTQNFLFFLGTQAFAVPLLLISRSQTFGYNGRACQEWLPFLSPSAS')"
     },
     "execution_count": 943,
     "metadata": {},
     "output_type": "execute_result"
    }
   ],
   "source": [
    "missing_fasta = {r.id: str(r.seq) for r in SeqIO.parse(\n",
    "    'uniprot/huintaf_72.hash.fasta', 'fasta')}\n",
    "next(iter(missing_fasta.items()))"
   ],
   "metadata": {
    "collapsed": false
   }
  },
  {
   "cell_type": "code",
   "execution_count": 944,
   "outputs": [],
   "source": [
    "for c in 'ab':\n",
    "    aff.loc[aff[f'crc{c}'].isna(), f'crc{c}'] = aff.loc[aff[f'crc{c}'].isna(), f'id{c}'].apply(missing_mapping.get)\n",
    "    aff.loc[aff[f'len{c}'].isna(), f'len{c}'] = aff.loc[aff[f'len{c}'].isna(), f'id{c}'].apply(lambda s: len(missing_fasta[missing_mapping[s]]))\n",
    "    assert len(aff.loc[aff[f'len{c}'].isna()]) + len(aff.loc[aff[f'crc{c}'].isna()]) == 0, c\n",
    "    aff[f'len{c}'] = aff[f'len{c}'].astype(int)"
   ],
   "metadata": {
    "collapsed": false
   }
  },
  {
   "cell_type": "code",
   "execution_count": 945,
   "outputs": [
    {
     "data": {
      "text/plain": "HuRI           55638\nhu.MAP         10361\n1849 random     1849\nName: dataset, dtype: int64"
     },
     "execution_count": 945,
     "metadata": {},
     "output_type": "execute_result"
    }
   ],
   "source": [
    "aff.dataset.value_counts()"
   ],
   "metadata": {
    "collapsed": false
   }
  },
  {
   "cell_type": "code",
   "execution_count": 946,
   "outputs": [],
   "source": [
    "aff.to_csv('uniprot/huintaf2_fixed.tsv', sep='\\t',\n",
    "           index=False, header=True,\n",
    "           float_format='{:.5}'.format)"
   ],
   "metadata": {
    "collapsed": false
   }
  },
  {
   "cell_type": "code",
   "execution_count": 947,
   "outputs": [],
   "source": [
    "af2_seqs['missing'] = missing_fasta"
   ],
   "metadata": {
    "collapsed": false
   }
  },
  {
   "cell_type": "code",
   "execution_count": 948,
   "outputs": [],
   "source": [
    "with Path('uniprot/huintaf2_fixed.json').open('w') as json_file:\n",
    "    json.dump(af2_seqs, json_file)"
   ],
   "metadata": {
    "collapsed": false
   }
  },
  {
   "cell_type": "code",
   "execution_count": 949,
   "outputs": [
    {
     "data": {
      "text/plain": "14136"
     },
     "execution_count": 949,
     "metadata": {},
     "output_type": "execute_result"
    }
   ],
   "source": [
    "flat = dict()\n",
    "for v in af2_seqs.values():\n",
    "    flat |= v\n",
    "len(flat)"
   ],
   "metadata": {
    "collapsed": false
   }
  },
  {
   "cell_type": "code",
   "execution_count": 950,
   "outputs": [],
   "source": [
    "with Path('uniprot/huintaf2_fixed.fasta').open('w') as fasta:\n",
    "    for _id in sorted(flat.keys()):\n",
    "        to_fasta(_id, flat[_id], fasta)"
   ],
   "metadata": {
    "collapsed": false
   }
  },
  {
   "cell_type": "code",
   "execution_count": 950,
   "outputs": [],
   "source": [],
   "metadata": {
    "collapsed": false
   }
  },
  {
   "cell_type": "markdown",
   "source": [
    "## run SETH"
   ],
   "metadata": {
    "collapsed": false
   }
  },
  {
   "cell_type": "code",
   "execution_count": null,
   "outputs": [],
   "source": [
    "#%env HOME=/mnt/project/kaindl\n",
    "!bash \"huintaf_seth.sh\""
   ],
   "metadata": {
    "collapsed": false
   }
  },
  {
   "cell_type": "code",
   "execution_count": 951,
   "outputs": [
    {
     "data": {
      "text/plain": "('CRC-02A53B8AFBF34A17', 14135)"
     },
     "execution_count": 951,
     "metadata": {},
     "output_type": "execute_result"
    }
   ],
   "source": [
    "with Path('huintaf2_seth_scores.json').open('r') as json_file:\n",
    "    seth_scores = json.load(json_file)\n",
    "_id = next(iter(seth_scores.keys()))\n",
    "_id, len(seth_scores)"
   ],
   "metadata": {
    "collapsed": false
   }
  },
  {
   "cell_type": "code",
   "execution_count": 952,
   "outputs": [
    {
     "data": {
      "text/plain": "dict_keys(['seq', 'diso_pred', 'confidence', 'zscores'])"
     },
     "execution_count": 952,
     "metadata": {},
     "output_type": "execute_result"
    }
   ],
   "source": [
    "seth_scores[_id].keys()"
   ],
   "metadata": {
    "collapsed": false
   }
  },
  {
   "cell_type": "code",
   "execution_count": 953,
   "outputs": [
    {
     "name": "stdout",
     "output_type": "stream",
     "text": [
      "67848\n"
     ]
    },
    {
     "data": {
      "text/plain": "          ida     idb    pdockq dataset                pdbfile      prob  \\\n0  A0A075B759  P0DN37  0.121130  hu.MAP  P0DN37-A0A075B759.pdb  0.999979   \n1  A0A0B4J2A2  P0DN37  0.098878  hu.MAP  P0DN37-A0A0B4J2A2.pdb  1.000000   \n2      A0AV96  Q9NQ94  0.033961  hu.MAP      Q9NQ94-A0AV96.pdb  0.547486   \n3      A0AV96  Q9NY65  0.060896  hu.MAP      Q9NY65-A0AV96.pdb  0.664063   \n4      A0AVF1  Q86WT1  0.048306  hu.MAP      A0AVF1-Q86WT1.pdb  0.688305   \n\n                   crca                  crcb  lena  lenb      capri  \n0  CRC-FD7DF57F1A6FDAA9  CRC-CEAFE5FE3D858213   164   164  incorrect  \n1  CRC-8FE074FFE5657EF8  CRC-CEAFE5FE3D858213   164   164  incorrect  \n2  CRC-AEA061F89A68010B  CRC-AA5EF76BD8815807   593   594  incorrect  \n3  CRC-AEA061F89A68010B  CRC-8D1AFB9D131529BD   593   449  incorrect  \n4  CRC-188062024DB89B97  CRC-567FD2C26CC48435   554   665  incorrect  ",
      "text/html": "<div>\n<style scoped>\n    .dataframe tbody tr th:only-of-type {\n        vertical-align: middle;\n    }\n\n    .dataframe tbody tr th {\n        vertical-align: top;\n    }\n\n    .dataframe thead th {\n        text-align: right;\n    }\n</style>\n<table border=\"1\" class=\"dataframe\">\n  <thead>\n    <tr style=\"text-align: right;\">\n      <th></th>\n      <th>ida</th>\n      <th>idb</th>\n      <th>pdockq</th>\n      <th>dataset</th>\n      <th>pdbfile</th>\n      <th>prob</th>\n      <th>crca</th>\n      <th>crcb</th>\n      <th>lena</th>\n      <th>lenb</th>\n      <th>capri</th>\n    </tr>\n  </thead>\n  <tbody>\n    <tr>\n      <th>0</th>\n      <td>A0A075B759</td>\n      <td>P0DN37</td>\n      <td>0.121130</td>\n      <td>hu.MAP</td>\n      <td>P0DN37-A0A075B759.pdb</td>\n      <td>0.999979</td>\n      <td>CRC-FD7DF57F1A6FDAA9</td>\n      <td>CRC-CEAFE5FE3D858213</td>\n      <td>164</td>\n      <td>164</td>\n      <td>incorrect</td>\n    </tr>\n    <tr>\n      <th>1</th>\n      <td>A0A0B4J2A2</td>\n      <td>P0DN37</td>\n      <td>0.098878</td>\n      <td>hu.MAP</td>\n      <td>P0DN37-A0A0B4J2A2.pdb</td>\n      <td>1.000000</td>\n      <td>CRC-8FE074FFE5657EF8</td>\n      <td>CRC-CEAFE5FE3D858213</td>\n      <td>164</td>\n      <td>164</td>\n      <td>incorrect</td>\n    </tr>\n    <tr>\n      <th>2</th>\n      <td>A0AV96</td>\n      <td>Q9NQ94</td>\n      <td>0.033961</td>\n      <td>hu.MAP</td>\n      <td>Q9NQ94-A0AV96.pdb</td>\n      <td>0.547486</td>\n      <td>CRC-AEA061F89A68010B</td>\n      <td>CRC-AA5EF76BD8815807</td>\n      <td>593</td>\n      <td>594</td>\n      <td>incorrect</td>\n    </tr>\n    <tr>\n      <th>3</th>\n      <td>A0AV96</td>\n      <td>Q9NY65</td>\n      <td>0.060896</td>\n      <td>hu.MAP</td>\n      <td>Q9NY65-A0AV96.pdb</td>\n      <td>0.664063</td>\n      <td>CRC-AEA061F89A68010B</td>\n      <td>CRC-8D1AFB9D131529BD</td>\n      <td>593</td>\n      <td>449</td>\n      <td>incorrect</td>\n    </tr>\n    <tr>\n      <th>4</th>\n      <td>A0AVF1</td>\n      <td>Q86WT1</td>\n      <td>0.048306</td>\n      <td>hu.MAP</td>\n      <td>A0AVF1-Q86WT1.pdb</td>\n      <td>0.688305</td>\n      <td>CRC-188062024DB89B97</td>\n      <td>CRC-567FD2C26CC48435</td>\n      <td>554</td>\n      <td>665</td>\n      <td>incorrect</td>\n    </tr>\n  </tbody>\n</table>\n</div>"
     },
     "execution_count": 953,
     "metadata": {},
     "output_type": "execute_result"
    }
   ],
   "source": [
    "af = aff[['ida', 'idb', 'pdockq', 'dataset', 'pdbfile',\n",
    "          'prob', 'crca', 'crcb', 'lena', 'lenb', 'capri']].copy()\n",
    "print(len(af))\n",
    "af.head()"
   ],
   "metadata": {
    "collapsed": false
   }
  },
  {
   "cell_type": "code",
   "execution_count": 954,
   "outputs": [
    {
     "data": {
      "text/plain": "          ida     idb    pdockq dataset                              pdbfile  \\\n0  A0A024R0Y4  O14964  0.077304    HuRI  ENSG00000185359-ENSG00000276234.pdb   \n1  A0A024R0Y4  O15287  0.038752    HuRI  ENSG00000221829-ENSG00000276234.pdb   \n2  A0A024R0Y4  O60573  0.034888    HuRI  ENSG00000135930-ENSG00000276234.pdb   \n3  A0A024R0Y4  O75431  0.075548    HuRI  ENSG00000128654-ENSG00000276234.pdb   \n4  A0A024R0Y4  O75528  0.730883    HuRI  ENSG00000171148-ENSG00000276234.pdb   \n\n   prob                  crca                  crcb  lena  lenb      capri  \\\n0   1.0  CRC-27D3F4F4D5EFF3C8  CRC-DD64167A19DCF030   443   777  incorrect   \n1   1.0  CRC-27D3F4F4D5EFF3C8  CRC-4BC7475472AC3C84   443   622  incorrect   \n2   1.0  CRC-27D3F4F4D5EFF3C8  CRC-3D3075BFA48B3C12   443   245  incorrect   \n3   1.0  CRC-27D3F4F4D5EFF3C8  CRC-3A2EF476F1C78465   443   263  incorrect   \n4   1.0  CRC-27D3F4F4D5EFF3C8  CRC-C86153CFA83F9226   443   432     medium   \n\n          za         zb        da        db  min_chezod  max_diso  max_chezod  \\\n0  11.839822   6.937123  0.158014  0.516088    6.937123  0.516088   11.839822   \n1  11.839822  11.712423  0.158014  0.127010   11.712423  0.158014   11.839822   \n2  11.839822   9.707793  0.158014  0.334694    9.707793  0.334694   11.839822   \n3  11.839822  12.701147  0.158014  0.087452   11.839822  0.158014   12.701147   \n4  11.839822   8.650904  0.158014  0.388889    8.650904  0.388889   11.839822   \n\n   avg_chezod  \n0    9.388472  \n1   11.776122  \n2   10.773807  \n3   12.270484  \n4   10.245363  ",
      "text/html": "<div>\n<style scoped>\n    .dataframe tbody tr th:only-of-type {\n        vertical-align: middle;\n    }\n\n    .dataframe tbody tr th {\n        vertical-align: top;\n    }\n\n    .dataframe thead th {\n        text-align: right;\n    }\n</style>\n<table border=\"1\" class=\"dataframe\">\n  <thead>\n    <tr style=\"text-align: right;\">\n      <th></th>\n      <th>ida</th>\n      <th>idb</th>\n      <th>pdockq</th>\n      <th>dataset</th>\n      <th>pdbfile</th>\n      <th>prob</th>\n      <th>crca</th>\n      <th>crcb</th>\n      <th>lena</th>\n      <th>lenb</th>\n      <th>capri</th>\n      <th>za</th>\n      <th>zb</th>\n      <th>da</th>\n      <th>db</th>\n      <th>min_chezod</th>\n      <th>max_diso</th>\n      <th>max_chezod</th>\n      <th>avg_chezod</th>\n    </tr>\n  </thead>\n  <tbody>\n    <tr>\n      <th>0</th>\n      <td>A0A024R0Y4</td>\n      <td>O14964</td>\n      <td>0.077304</td>\n      <td>HuRI</td>\n      <td>ENSG00000185359-ENSG00000276234.pdb</td>\n      <td>1.0</td>\n      <td>CRC-27D3F4F4D5EFF3C8</td>\n      <td>CRC-DD64167A19DCF030</td>\n      <td>443</td>\n      <td>777</td>\n      <td>incorrect</td>\n      <td>11.839822</td>\n      <td>6.937123</td>\n      <td>0.158014</td>\n      <td>0.516088</td>\n      <td>6.937123</td>\n      <td>0.516088</td>\n      <td>11.839822</td>\n      <td>9.388472</td>\n    </tr>\n    <tr>\n      <th>1</th>\n      <td>A0A024R0Y4</td>\n      <td>O15287</td>\n      <td>0.038752</td>\n      <td>HuRI</td>\n      <td>ENSG00000221829-ENSG00000276234.pdb</td>\n      <td>1.0</td>\n      <td>CRC-27D3F4F4D5EFF3C8</td>\n      <td>CRC-4BC7475472AC3C84</td>\n      <td>443</td>\n      <td>622</td>\n      <td>incorrect</td>\n      <td>11.839822</td>\n      <td>11.712423</td>\n      <td>0.158014</td>\n      <td>0.127010</td>\n      <td>11.712423</td>\n      <td>0.158014</td>\n      <td>11.839822</td>\n      <td>11.776122</td>\n    </tr>\n    <tr>\n      <th>2</th>\n      <td>A0A024R0Y4</td>\n      <td>O60573</td>\n      <td>0.034888</td>\n      <td>HuRI</td>\n      <td>ENSG00000135930-ENSG00000276234.pdb</td>\n      <td>1.0</td>\n      <td>CRC-27D3F4F4D5EFF3C8</td>\n      <td>CRC-3D3075BFA48B3C12</td>\n      <td>443</td>\n      <td>245</td>\n      <td>incorrect</td>\n      <td>11.839822</td>\n      <td>9.707793</td>\n      <td>0.158014</td>\n      <td>0.334694</td>\n      <td>9.707793</td>\n      <td>0.334694</td>\n      <td>11.839822</td>\n      <td>10.773807</td>\n    </tr>\n    <tr>\n      <th>3</th>\n      <td>A0A024R0Y4</td>\n      <td>O75431</td>\n      <td>0.075548</td>\n      <td>HuRI</td>\n      <td>ENSG00000128654-ENSG00000276234.pdb</td>\n      <td>1.0</td>\n      <td>CRC-27D3F4F4D5EFF3C8</td>\n      <td>CRC-3A2EF476F1C78465</td>\n      <td>443</td>\n      <td>263</td>\n      <td>incorrect</td>\n      <td>11.839822</td>\n      <td>12.701147</td>\n      <td>0.158014</td>\n      <td>0.087452</td>\n      <td>11.839822</td>\n      <td>0.158014</td>\n      <td>12.701147</td>\n      <td>12.270484</td>\n    </tr>\n    <tr>\n      <th>4</th>\n      <td>A0A024R0Y4</td>\n      <td>O75528</td>\n      <td>0.730883</td>\n      <td>HuRI</td>\n      <td>ENSG00000171148-ENSG00000276234.pdb</td>\n      <td>1.0</td>\n      <td>CRC-27D3F4F4D5EFF3C8</td>\n      <td>CRC-C86153CFA83F9226</td>\n      <td>443</td>\n      <td>432</td>\n      <td>medium</td>\n      <td>11.839822</td>\n      <td>8.650904</td>\n      <td>0.158014</td>\n      <td>0.388889</td>\n      <td>8.650904</td>\n      <td>0.388889</td>\n      <td>11.839822</td>\n      <td>10.245363</td>\n    </tr>\n  </tbody>\n</table>\n</div>"
     },
     "execution_count": 954,
     "metadata": {},
     "output_type": "execute_result"
    }
   ],
   "source": [
    "# calculate the average per-protein ChiZod-score\n",
    "for c in 'ab':\n",
    "    af[f'z{c}'] = af[f'crc{c}'].apply(lambda ida: np.array(\n",
    "        seth_scores[ida]['zscores']).mean())\n",
    "# and the average binary \"residue-is-disordered\" label\n",
    "for c in 'ab':\n",
    "    af[f'd{c}'] = af[f'crc{c}'].apply(lambda ida: np.array(\n",
    "        seth_scores[ida]['diso_pred']).mean())\n",
    "\n",
    "af['min_chezod'] = af[['za', 'zb']].min(axis=1)\n",
    "af['max_diso'] = af[['da', 'db']].max(axis=1)\n",
    "af['max_chezod'] = af[['za', 'zb']].max(axis=1)\n",
    "af['avg_chezod'] = af[['za', 'zb']].mean(axis=1)\n",
    "af = af.sort_values(by=['ida', 'idb'])\n",
    "af.head()"
   ],
   "metadata": {
    "collapsed": false
   }
  },
  {
   "cell_type": "code",
   "execution_count": 955,
   "outputs": [
    {
     "data": {
      "text/plain": "            ida       idb    pdockq       dataset  \\\n563  A0A024RAC6    P53672  0.295323  514 HuRI $-$   \n561  A0A024RAC6  Q8N2H4-1  0.018689  514 HuRI $-$   \n562  A0A024RAC6  Q8N4P3-2  0.184515  514 HuRI $-$   \n636  A0A087WTU5  O95471-1  0.071203  514 HuRI $-$   \n106  A0A087WTU5  Q13363-2  0.090263  516 HuRI $+$   \n\n                                               pdbfile  prob  \\\n563  results_chunk_3/predictions/231_unrelaxed_rank...   0.0   \n561  results_chunk_3/predictions/227_unrelaxed_rank...   0.0   \n562  results_chunk_3/predictions/230_unrelaxed_rank...   0.0   \n636  results_chunk_2/predictions/62_unrelaxed_rank_...   0.0   \n106  results_chunk_5/predictions/147_unrelaxed_rank...   1.0   \n\n                     crca                  crcb  lena  lenb       capri  \\\n563  CRC-0D2C93B1D54EB09A  CRC-F9C8E7CD48EB16C7   772   197  acceptable   \n561  CRC-0D2C93B1D54EB09A  CRC-541FBB6326C9C0BB   772   156   incorrect   \n562  CRC-0D2C93B1D54EB09A  CRC-E0946B0FA7BD8109   772   179   incorrect   \n636  CRC-227A4503F960A10F  CRC-7F3CC1B963D9006A   400   211   incorrect   \n106  CRC-227A4503F960A10F  CRC-F071DD30B385603F   400   440   incorrect   \n\n           za         zb        da        db  min_chezod  max_diso  \\\n563  4.261565  12.785627  0.765544  0.055838    4.261565  0.765544   \n561  4.261565  11.430454  0.765544  0.102564    4.261565  0.765544   \n562  4.261565  12.547508  0.765544  0.022346    4.261565  0.765544   \n636  4.020177  10.933795  0.752500  0.156398    4.020177  0.752500   \n106  4.020177  10.136711  0.752500  0.245455    4.020177  0.752500   \n\n     max_chezod  avg_chezod  \n563   12.785627    8.523596  \n561   11.430454    7.846009  \n562   12.547508    8.404536  \n636   10.933795    7.476986  \n106   10.136711    7.078444  ",
      "text/html": "<div>\n<style scoped>\n    .dataframe tbody tr th:only-of-type {\n        vertical-align: middle;\n    }\n\n    .dataframe tbody tr th {\n        vertical-align: top;\n    }\n\n    .dataframe thead th {\n        text-align: right;\n    }\n</style>\n<table border=\"1\" class=\"dataframe\">\n  <thead>\n    <tr style=\"text-align: right;\">\n      <th></th>\n      <th>ida</th>\n      <th>idb</th>\n      <th>pdockq</th>\n      <th>dataset</th>\n      <th>pdbfile</th>\n      <th>prob</th>\n      <th>crca</th>\n      <th>crcb</th>\n      <th>lena</th>\n      <th>lenb</th>\n      <th>capri</th>\n      <th>za</th>\n      <th>zb</th>\n      <th>da</th>\n      <th>db</th>\n      <th>min_chezod</th>\n      <th>max_diso</th>\n      <th>max_chezod</th>\n      <th>avg_chezod</th>\n    </tr>\n  </thead>\n  <tbody>\n    <tr>\n      <th>563</th>\n      <td>A0A024RAC6</td>\n      <td>P53672</td>\n      <td>0.295323</td>\n      <td>514 HuRI $-$</td>\n      <td>results_chunk_3/predictions/231_unrelaxed_rank...</td>\n      <td>0.0</td>\n      <td>CRC-0D2C93B1D54EB09A</td>\n      <td>CRC-F9C8E7CD48EB16C7</td>\n      <td>772</td>\n      <td>197</td>\n      <td>acceptable</td>\n      <td>4.261565</td>\n      <td>12.785627</td>\n      <td>0.765544</td>\n      <td>0.055838</td>\n      <td>4.261565</td>\n      <td>0.765544</td>\n      <td>12.785627</td>\n      <td>8.523596</td>\n    </tr>\n    <tr>\n      <th>561</th>\n      <td>A0A024RAC6</td>\n      <td>Q8N2H4-1</td>\n      <td>0.018689</td>\n      <td>514 HuRI $-$</td>\n      <td>results_chunk_3/predictions/227_unrelaxed_rank...</td>\n      <td>0.0</td>\n      <td>CRC-0D2C93B1D54EB09A</td>\n      <td>CRC-541FBB6326C9C0BB</td>\n      <td>772</td>\n      <td>156</td>\n      <td>incorrect</td>\n      <td>4.261565</td>\n      <td>11.430454</td>\n      <td>0.765544</td>\n      <td>0.102564</td>\n      <td>4.261565</td>\n      <td>0.765544</td>\n      <td>11.430454</td>\n      <td>7.846009</td>\n    </tr>\n    <tr>\n      <th>562</th>\n      <td>A0A024RAC6</td>\n      <td>Q8N4P3-2</td>\n      <td>0.184515</td>\n      <td>514 HuRI $-$</td>\n      <td>results_chunk_3/predictions/230_unrelaxed_rank...</td>\n      <td>0.0</td>\n      <td>CRC-0D2C93B1D54EB09A</td>\n      <td>CRC-E0946B0FA7BD8109</td>\n      <td>772</td>\n      <td>179</td>\n      <td>incorrect</td>\n      <td>4.261565</td>\n      <td>12.547508</td>\n      <td>0.765544</td>\n      <td>0.022346</td>\n      <td>4.261565</td>\n      <td>0.765544</td>\n      <td>12.547508</td>\n      <td>8.404536</td>\n    </tr>\n    <tr>\n      <th>636</th>\n      <td>A0A087WTU5</td>\n      <td>O95471-1</td>\n      <td>0.071203</td>\n      <td>514 HuRI $-$</td>\n      <td>results_chunk_2/predictions/62_unrelaxed_rank_...</td>\n      <td>0.0</td>\n      <td>CRC-227A4503F960A10F</td>\n      <td>CRC-7F3CC1B963D9006A</td>\n      <td>400</td>\n      <td>211</td>\n      <td>incorrect</td>\n      <td>4.020177</td>\n      <td>10.933795</td>\n      <td>0.752500</td>\n      <td>0.156398</td>\n      <td>4.020177</td>\n      <td>0.752500</td>\n      <td>10.933795</td>\n      <td>7.476986</td>\n    </tr>\n    <tr>\n      <th>106</th>\n      <td>A0A087WTU5</td>\n      <td>Q13363-2</td>\n      <td>0.090263</td>\n      <td>516 HuRI $+$</td>\n      <td>results_chunk_5/predictions/147_unrelaxed_rank...</td>\n      <td>1.0</td>\n      <td>CRC-227A4503F960A10F</td>\n      <td>CRC-F071DD30B385603F</td>\n      <td>400</td>\n      <td>440</td>\n      <td>incorrect</td>\n      <td>4.020177</td>\n      <td>10.136711</td>\n      <td>0.752500</td>\n      <td>0.245455</td>\n      <td>4.020177</td>\n      <td>0.752500</td>\n      <td>10.136711</td>\n      <td>7.078444</td>\n    </tr>\n  </tbody>\n</table>\n</div>"
     },
     "execution_count": 955,
     "metadata": {},
     "output_type": "execute_result"
    }
   ],
   "source": [
    "ours = ours[af.columns]\n",
    "ours.loc[ours.ida > ours.idb, ['ida', 'idb', 'crca', 'crcb',\n",
    "                               'za', 'zb', 'da', 'db']] = ours.loc[\n",
    "    ours.ida > ours.idb, ['idb', 'ida', 'crcb', 'crca',\n",
    "                          'zb', 'za', 'db', 'da']].values\n",
    "ours = ours.sort_values(by=['ida', 'idb'])\n",
    "ours.head()"
   ],
   "metadata": {
    "collapsed": false
   }
  },
  {
   "cell_type": "code",
   "execution_count": 956,
   "outputs": [
    {
     "data": {
      "text/plain": "Empty DataFrame\nColumns: [ida, idb, pdockq, dataset, pdbfile, prob, crca, crcb, lena, lenb, capri, za, zb, da, db, min_chezod, max_diso, max_chezod, avg_chezod]\nIndex: []",
      "text/html": "<div>\n<style scoped>\n    .dataframe tbody tr th:only-of-type {\n        vertical-align: middle;\n    }\n\n    .dataframe tbody tr th {\n        vertical-align: top;\n    }\n\n    .dataframe thead th {\n        text-align: right;\n    }\n</style>\n<table border=\"1\" class=\"dataframe\">\n  <thead>\n    <tr style=\"text-align: right;\">\n      <th></th>\n      <th>ida</th>\n      <th>idb</th>\n      <th>pdockq</th>\n      <th>dataset</th>\n      <th>pdbfile</th>\n      <th>prob</th>\n      <th>crca</th>\n      <th>crcb</th>\n      <th>lena</th>\n      <th>lenb</th>\n      <th>capri</th>\n      <th>za</th>\n      <th>zb</th>\n      <th>da</th>\n      <th>db</th>\n      <th>min_chezod</th>\n      <th>max_diso</th>\n      <th>max_chezod</th>\n      <th>avg_chezod</th>\n    </tr>\n  </thead>\n  <tbody>\n  </tbody>\n</table>\n</div>"
     },
     "execution_count": 956,
     "metadata": {},
     "output_type": "execute_result"
    }
   ],
   "source": [
    "ours.loc[ours.ida > ours.idb]\n",
    "# now ours is sorted horizontally"
   ],
   "metadata": {
    "collapsed": false
   }
  },
  {
   "cell_type": "code",
   "execution_count": 957,
   "outputs": [
    {
     "data": {
      "text/plain": "          ida     idb    pdockq dataset                              pdbfile  \\\n0  A0A024R0Y4  O14964  0.077304    HuRI  ENSG00000185359-ENSG00000276234.pdb   \n1  A0A024R0Y4  O15287  0.038752    HuRI  ENSG00000221829-ENSG00000276234.pdb   \n2  A0A024R0Y4  O60573  0.034888    HuRI  ENSG00000135930-ENSG00000276234.pdb   \n3  A0A024R0Y4  O75431  0.075548    HuRI  ENSG00000128654-ENSG00000276234.pdb   \n4  A0A024R0Y4  O75528  0.730883    HuRI  ENSG00000171148-ENSG00000276234.pdb   \n\n   prob                  crca                  crcb  lena  lenb      capri  \\\n0   1.0  CRC-27D3F4F4D5EFF3C8  CRC-DD64167A19DCF030   443   777  incorrect   \n1   1.0  CRC-27D3F4F4D5EFF3C8  CRC-4BC7475472AC3C84   443   622  incorrect   \n2   1.0  CRC-27D3F4F4D5EFF3C8  CRC-3D3075BFA48B3C12   443   245  incorrect   \n3   1.0  CRC-27D3F4F4D5EFF3C8  CRC-3A2EF476F1C78465   443   263  incorrect   \n4   1.0  CRC-27D3F4F4D5EFF3C8  CRC-C86153CFA83F9226   443   432     medium   \n\n          za         zb        da        db  min_chezod  max_diso  max_chezod  \\\n0  11.839822   6.937123  0.158014  0.516088    6.937123  0.516088   11.839822   \n1  11.839822  11.712423  0.158014  0.127010   11.712423  0.158014   11.839822   \n2  11.839822   9.707793  0.158014  0.334694    9.707793  0.334694   11.839822   \n3  11.839822  12.701147  0.158014  0.087452   11.839822  0.158014   12.701147   \n4  11.839822   8.650904  0.158014  0.388889    8.650904  0.388889   11.839822   \n\n   avg_chezod  \n0    9.388472  \n1   11.776122  \n2   10.773807  \n3   12.270484  \n4   10.245363  ",
      "text/html": "<div>\n<style scoped>\n    .dataframe tbody tr th:only-of-type {\n        vertical-align: middle;\n    }\n\n    .dataframe tbody tr th {\n        vertical-align: top;\n    }\n\n    .dataframe thead th {\n        text-align: right;\n    }\n</style>\n<table border=\"1\" class=\"dataframe\">\n  <thead>\n    <tr style=\"text-align: right;\">\n      <th></th>\n      <th>ida</th>\n      <th>idb</th>\n      <th>pdockq</th>\n      <th>dataset</th>\n      <th>pdbfile</th>\n      <th>prob</th>\n      <th>crca</th>\n      <th>crcb</th>\n      <th>lena</th>\n      <th>lenb</th>\n      <th>capri</th>\n      <th>za</th>\n      <th>zb</th>\n      <th>da</th>\n      <th>db</th>\n      <th>min_chezod</th>\n      <th>max_diso</th>\n      <th>max_chezod</th>\n      <th>avg_chezod</th>\n    </tr>\n  </thead>\n  <tbody>\n    <tr>\n      <th>0</th>\n      <td>A0A024R0Y4</td>\n      <td>O14964</td>\n      <td>0.077304</td>\n      <td>HuRI</td>\n      <td>ENSG00000185359-ENSG00000276234.pdb</td>\n      <td>1.0</td>\n      <td>CRC-27D3F4F4D5EFF3C8</td>\n      <td>CRC-DD64167A19DCF030</td>\n      <td>443</td>\n      <td>777</td>\n      <td>incorrect</td>\n      <td>11.839822</td>\n      <td>6.937123</td>\n      <td>0.158014</td>\n      <td>0.516088</td>\n      <td>6.937123</td>\n      <td>0.516088</td>\n      <td>11.839822</td>\n      <td>9.388472</td>\n    </tr>\n    <tr>\n      <th>1</th>\n      <td>A0A024R0Y4</td>\n      <td>O15287</td>\n      <td>0.038752</td>\n      <td>HuRI</td>\n      <td>ENSG00000221829-ENSG00000276234.pdb</td>\n      <td>1.0</td>\n      <td>CRC-27D3F4F4D5EFF3C8</td>\n      <td>CRC-4BC7475472AC3C84</td>\n      <td>443</td>\n      <td>622</td>\n      <td>incorrect</td>\n      <td>11.839822</td>\n      <td>11.712423</td>\n      <td>0.158014</td>\n      <td>0.127010</td>\n      <td>11.712423</td>\n      <td>0.158014</td>\n      <td>11.839822</td>\n      <td>11.776122</td>\n    </tr>\n    <tr>\n      <th>2</th>\n      <td>A0A024R0Y4</td>\n      <td>O60573</td>\n      <td>0.034888</td>\n      <td>HuRI</td>\n      <td>ENSG00000135930-ENSG00000276234.pdb</td>\n      <td>1.0</td>\n      <td>CRC-27D3F4F4D5EFF3C8</td>\n      <td>CRC-3D3075BFA48B3C12</td>\n      <td>443</td>\n      <td>245</td>\n      <td>incorrect</td>\n      <td>11.839822</td>\n      <td>9.707793</td>\n      <td>0.158014</td>\n      <td>0.334694</td>\n      <td>9.707793</td>\n      <td>0.334694</td>\n      <td>11.839822</td>\n      <td>10.773807</td>\n    </tr>\n    <tr>\n      <th>3</th>\n      <td>A0A024R0Y4</td>\n      <td>O75431</td>\n      <td>0.075548</td>\n      <td>HuRI</td>\n      <td>ENSG00000128654-ENSG00000276234.pdb</td>\n      <td>1.0</td>\n      <td>CRC-27D3F4F4D5EFF3C8</td>\n      <td>CRC-3A2EF476F1C78465</td>\n      <td>443</td>\n      <td>263</td>\n      <td>incorrect</td>\n      <td>11.839822</td>\n      <td>12.701147</td>\n      <td>0.158014</td>\n      <td>0.087452</td>\n      <td>11.839822</td>\n      <td>0.158014</td>\n      <td>12.701147</td>\n      <td>12.270484</td>\n    </tr>\n    <tr>\n      <th>4</th>\n      <td>A0A024R0Y4</td>\n      <td>O75528</td>\n      <td>0.730883</td>\n      <td>HuRI</td>\n      <td>ENSG00000171148-ENSG00000276234.pdb</td>\n      <td>1.0</td>\n      <td>CRC-27D3F4F4D5EFF3C8</td>\n      <td>CRC-C86153CFA83F9226</td>\n      <td>443</td>\n      <td>432</td>\n      <td>medium</td>\n      <td>11.839822</td>\n      <td>8.650904</td>\n      <td>0.158014</td>\n      <td>0.388889</td>\n      <td>8.650904</td>\n      <td>0.388889</td>\n      <td>11.839822</td>\n      <td>10.245363</td>\n    </tr>\n  </tbody>\n</table>\n</div>"
     },
     "execution_count": 957,
     "metadata": {},
     "output_type": "execute_result"
    }
   ],
   "source": [
    "h4 = pd.concat((af, ours))\n",
    "h4.head()"
   ],
   "metadata": {
    "collapsed": false
   }
  },
  {
   "cell_type": "code",
   "execution_count": 958,
   "outputs": [
    {
     "data": {
      "text/plain": "HuRI            55638\nhu.MAP          10361\n1849 random      1849\n516 HuRI $+$      516\n514 HuRI $-$      514\nName: dataset, dtype: int64"
     },
     "execution_count": 958,
     "metadata": {},
     "output_type": "execute_result"
    }
   ],
   "source": [
    "h4.dataset.value_counts()"
   ],
   "metadata": {
    "collapsed": false
   }
  },
  {
   "cell_type": "code",
   "execution_count": 959,
   "outputs": [],
   "source": [
    "h4.to_csv('huintaf2_scores.tsv', sep='\\t', header=True, index=False)"
   ],
   "metadata": {
    "collapsed": false
   }
  },
  {
   "cell_type": "code",
   "execution_count": 972,
   "outputs": [
    {
     "data": {
      "text/plain": "              ida         idb    pdockq dataset  \\\n0      A0A075B759      P0DN37  0.121130  hu.MAP   \n1      A0A0B4J2A2      P0DN37  0.098878  hu.MAP   \n217    A0A140G945  A0A140G945  0.371798    HuRI   \n219    A0A140G945      P02489  0.487291    HuRI   \n272    A0A2R8Y4R9  A0A2R8Y4R9  0.047575    HuRI   \n...           ...         ...       ...     ...   \n10176      Q9Y5H5      Q9Y5H8  0.090635  hu.MAP   \n10182      Q9Y5H8      Q9Y5I3  0.150597  hu.MAP   \n10183      Q9Y5H9      Q9Y5I2  0.106641  hu.MAP   \n55613      Q9Y5V3      Q9Y5V3  0.031996    HuRI   \n55617      Q9Y6C2      Q9Y6C2  0.587447    HuRI   \n\n                                   pdbfile      prob                  crca  \\\n0                    P0DN37-A0A075B759.pdb  0.999979  CRC-FD7DF57F1A6FDAA9   \n1                    P0DN37-A0A0B4J2A2.pdb  1.000000  CRC-8FE074FFE5657EF8   \n217    ENSG00000276076-ENSG00000276076.pdb  1.000000  CRC-81804A8439837D50   \n219    ENSG00000160202-ENSG00000276076.pdb  1.000000  CRC-81804A8439837D50   \n272    ENSG00000105991-ENSG00000105991.pdb  1.000000  CRC-663A212239A41D26   \n...                                    ...       ...                   ...   \n10176                    Q9Y5H8-Q9Y5H5.pdb  0.764448  CRC-AA1783B20D963957   \n10182                    Q9Y5H8-Q9Y5I3.pdb  0.969076  CRC-0BF2CD4886D178B5   \n10183                    Q9Y5I2-Q9Y5H9.pdb  1.000000  CRC-8D2E9644982AE59E   \n55613  ENSG00000179222-ENSG00000179222.pdb  1.000000  CRC-D818690052D166CE   \n55617  ENSG00000138080-ENSG00000138080.pdb  1.000000  CRC-6CF330238DD0EE26   \n\n                       crcb  lena  lenb       capri         za         zb  \\\n0      CRC-CEAFE5FE3D858213   164   164   incorrect  12.515006  12.575314   \n1      CRC-CEAFE5FE3D858213   164   164   incorrect  12.573576  12.575314   \n217    CRC-81804A8439837D50   173   173  acceptable   8.826032   8.826032   \n219    CRC-81804A8439837D50   173   173  acceptable   8.826032   8.826032   \n272    CRC-663A212239A41D26   335   335   incorrect   3.241654   3.241654   \n...                     ...   ...   ...         ...        ...        ...   \n10176  CRC-0BF2CD4886D178B5   950   950   incorrect   8.988215   9.075795   \n10182  CRC-9FC170365565908A   950   950   incorrect   9.075795   9.151294   \n10183  CRC-8F3C734B05EF4FB8   948   948   incorrect   8.942367   9.259448   \n55613  CRC-D818690052D166CE   778   778   incorrect   5.834958   5.834958   \n55617  CRC-6CF330238DD0EE26  1016  1016      medium   9.134503   9.134503   \n\n             da        db  min_chezod  max_diso  max_chezod  avg_chezod  \n0      0.018293  0.006098   12.515006  0.018293   12.575314   12.545160  \n1      0.018293  0.006098   12.573576  0.018293   12.575314   12.574445  \n217    0.468208  0.468208    8.826032  0.468208    8.826032    8.826032  \n219    0.468208  0.468208    8.826032  0.468208    8.826032    8.826032  \n272    0.770149  0.770149    3.241654  0.770149    3.241654    3.241654  \n...         ...       ...         ...       ...         ...         ...  \n10176  0.309474  0.310526    8.988215  0.310526    9.075795    9.032005  \n10182  0.310526  0.301053    9.075795  0.310526    9.151294    9.113544  \n10183  0.325949  0.300633    8.942367  0.325949    9.259448    9.100907  \n55613  0.647815  0.647815    5.834958  0.647815    5.834958    5.834958  \n55617  0.312008  0.312008    9.134503  0.312008    9.134503    9.134503  \n\n[845 rows x 19 columns]",
      "text/html": "<div>\n<style scoped>\n    .dataframe tbody tr th:only-of-type {\n        vertical-align: middle;\n    }\n\n    .dataframe tbody tr th {\n        vertical-align: top;\n    }\n\n    .dataframe thead th {\n        text-align: right;\n    }\n</style>\n<table border=\"1\" class=\"dataframe\">\n  <thead>\n    <tr style=\"text-align: right;\">\n      <th></th>\n      <th>ida</th>\n      <th>idb</th>\n      <th>pdockq</th>\n      <th>dataset</th>\n      <th>pdbfile</th>\n      <th>prob</th>\n      <th>crca</th>\n      <th>crcb</th>\n      <th>lena</th>\n      <th>lenb</th>\n      <th>capri</th>\n      <th>za</th>\n      <th>zb</th>\n      <th>da</th>\n      <th>db</th>\n      <th>min_chezod</th>\n      <th>max_diso</th>\n      <th>max_chezod</th>\n      <th>avg_chezod</th>\n    </tr>\n  </thead>\n  <tbody>\n    <tr>\n      <th>0</th>\n      <td>A0A075B759</td>\n      <td>P0DN37</td>\n      <td>0.121130</td>\n      <td>hu.MAP</td>\n      <td>P0DN37-A0A075B759.pdb</td>\n      <td>0.999979</td>\n      <td>CRC-FD7DF57F1A6FDAA9</td>\n      <td>CRC-CEAFE5FE3D858213</td>\n      <td>164</td>\n      <td>164</td>\n      <td>incorrect</td>\n      <td>12.515006</td>\n      <td>12.575314</td>\n      <td>0.018293</td>\n      <td>0.006098</td>\n      <td>12.515006</td>\n      <td>0.018293</td>\n      <td>12.575314</td>\n      <td>12.545160</td>\n    </tr>\n    <tr>\n      <th>1</th>\n      <td>A0A0B4J2A2</td>\n      <td>P0DN37</td>\n      <td>0.098878</td>\n      <td>hu.MAP</td>\n      <td>P0DN37-A0A0B4J2A2.pdb</td>\n      <td>1.000000</td>\n      <td>CRC-8FE074FFE5657EF8</td>\n      <td>CRC-CEAFE5FE3D858213</td>\n      <td>164</td>\n      <td>164</td>\n      <td>incorrect</td>\n      <td>12.573576</td>\n      <td>12.575314</td>\n      <td>0.018293</td>\n      <td>0.006098</td>\n      <td>12.573576</td>\n      <td>0.018293</td>\n      <td>12.575314</td>\n      <td>12.574445</td>\n    </tr>\n    <tr>\n      <th>217</th>\n      <td>A0A140G945</td>\n      <td>A0A140G945</td>\n      <td>0.371798</td>\n      <td>HuRI</td>\n      <td>ENSG00000276076-ENSG00000276076.pdb</td>\n      <td>1.000000</td>\n      <td>CRC-81804A8439837D50</td>\n      <td>CRC-81804A8439837D50</td>\n      <td>173</td>\n      <td>173</td>\n      <td>acceptable</td>\n      <td>8.826032</td>\n      <td>8.826032</td>\n      <td>0.468208</td>\n      <td>0.468208</td>\n      <td>8.826032</td>\n      <td>0.468208</td>\n      <td>8.826032</td>\n      <td>8.826032</td>\n    </tr>\n    <tr>\n      <th>219</th>\n      <td>A0A140G945</td>\n      <td>P02489</td>\n      <td>0.487291</td>\n      <td>HuRI</td>\n      <td>ENSG00000160202-ENSG00000276076.pdb</td>\n      <td>1.000000</td>\n      <td>CRC-81804A8439837D50</td>\n      <td>CRC-81804A8439837D50</td>\n      <td>173</td>\n      <td>173</td>\n      <td>acceptable</td>\n      <td>8.826032</td>\n      <td>8.826032</td>\n      <td>0.468208</td>\n      <td>0.468208</td>\n      <td>8.826032</td>\n      <td>0.468208</td>\n      <td>8.826032</td>\n      <td>8.826032</td>\n    </tr>\n    <tr>\n      <th>272</th>\n      <td>A0A2R8Y4R9</td>\n      <td>A0A2R8Y4R9</td>\n      <td>0.047575</td>\n      <td>HuRI</td>\n      <td>ENSG00000105991-ENSG00000105991.pdb</td>\n      <td>1.000000</td>\n      <td>CRC-663A212239A41D26</td>\n      <td>CRC-663A212239A41D26</td>\n      <td>335</td>\n      <td>335</td>\n      <td>incorrect</td>\n      <td>3.241654</td>\n      <td>3.241654</td>\n      <td>0.770149</td>\n      <td>0.770149</td>\n      <td>3.241654</td>\n      <td>0.770149</td>\n      <td>3.241654</td>\n      <td>3.241654</td>\n    </tr>\n    <tr>\n      <th>...</th>\n      <td>...</td>\n      <td>...</td>\n      <td>...</td>\n      <td>...</td>\n      <td>...</td>\n      <td>...</td>\n      <td>...</td>\n      <td>...</td>\n      <td>...</td>\n      <td>...</td>\n      <td>...</td>\n      <td>...</td>\n      <td>...</td>\n      <td>...</td>\n      <td>...</td>\n      <td>...</td>\n      <td>...</td>\n      <td>...</td>\n      <td>...</td>\n    </tr>\n    <tr>\n      <th>10176</th>\n      <td>Q9Y5H5</td>\n      <td>Q9Y5H8</td>\n      <td>0.090635</td>\n      <td>hu.MAP</td>\n      <td>Q9Y5H8-Q9Y5H5.pdb</td>\n      <td>0.764448</td>\n      <td>CRC-AA1783B20D963957</td>\n      <td>CRC-0BF2CD4886D178B5</td>\n      <td>950</td>\n      <td>950</td>\n      <td>incorrect</td>\n      <td>8.988215</td>\n      <td>9.075795</td>\n      <td>0.309474</td>\n      <td>0.310526</td>\n      <td>8.988215</td>\n      <td>0.310526</td>\n      <td>9.075795</td>\n      <td>9.032005</td>\n    </tr>\n    <tr>\n      <th>10182</th>\n      <td>Q9Y5H8</td>\n      <td>Q9Y5I3</td>\n      <td>0.150597</td>\n      <td>hu.MAP</td>\n      <td>Q9Y5H8-Q9Y5I3.pdb</td>\n      <td>0.969076</td>\n      <td>CRC-0BF2CD4886D178B5</td>\n      <td>CRC-9FC170365565908A</td>\n      <td>950</td>\n      <td>950</td>\n      <td>incorrect</td>\n      <td>9.075795</td>\n      <td>9.151294</td>\n      <td>0.310526</td>\n      <td>0.301053</td>\n      <td>9.075795</td>\n      <td>0.310526</td>\n      <td>9.151294</td>\n      <td>9.113544</td>\n    </tr>\n    <tr>\n      <th>10183</th>\n      <td>Q9Y5H9</td>\n      <td>Q9Y5I2</td>\n      <td>0.106641</td>\n      <td>hu.MAP</td>\n      <td>Q9Y5I2-Q9Y5H9.pdb</td>\n      <td>1.000000</td>\n      <td>CRC-8D2E9644982AE59E</td>\n      <td>CRC-8F3C734B05EF4FB8</td>\n      <td>948</td>\n      <td>948</td>\n      <td>incorrect</td>\n      <td>8.942367</td>\n      <td>9.259448</td>\n      <td>0.325949</td>\n      <td>0.300633</td>\n      <td>8.942367</td>\n      <td>0.325949</td>\n      <td>9.259448</td>\n      <td>9.100907</td>\n    </tr>\n    <tr>\n      <th>55613</th>\n      <td>Q9Y5V3</td>\n      <td>Q9Y5V3</td>\n      <td>0.031996</td>\n      <td>HuRI</td>\n      <td>ENSG00000179222-ENSG00000179222.pdb</td>\n      <td>1.000000</td>\n      <td>CRC-D818690052D166CE</td>\n      <td>CRC-D818690052D166CE</td>\n      <td>778</td>\n      <td>778</td>\n      <td>incorrect</td>\n      <td>5.834958</td>\n      <td>5.834958</td>\n      <td>0.647815</td>\n      <td>0.647815</td>\n      <td>5.834958</td>\n      <td>0.647815</td>\n      <td>5.834958</td>\n      <td>5.834958</td>\n    </tr>\n    <tr>\n      <th>55617</th>\n      <td>Q9Y6C2</td>\n      <td>Q9Y6C2</td>\n      <td>0.587447</td>\n      <td>HuRI</td>\n      <td>ENSG00000138080-ENSG00000138080.pdb</td>\n      <td>1.000000</td>\n      <td>CRC-6CF330238DD0EE26</td>\n      <td>CRC-6CF330238DD0EE26</td>\n      <td>1016</td>\n      <td>1016</td>\n      <td>medium</td>\n      <td>9.134503</td>\n      <td>9.134503</td>\n      <td>0.312008</td>\n      <td>0.312008</td>\n      <td>9.134503</td>\n      <td>0.312008</td>\n      <td>9.134503</td>\n      <td>9.134503</td>\n    </tr>\n  </tbody>\n</table>\n<p>845 rows × 19 columns</p>\n</div>"
     },
     "execution_count": 972,
     "metadata": {},
     "output_type": "execute_result"
    }
   ],
   "source": [
    "h4.loc[h4.lena == h4.lenb]"
   ],
   "metadata": {
    "collapsed": false
   }
  },
  {
   "cell_type": "markdown",
   "source": [
    "## compare with old DF"
   ],
   "metadata": {
    "collapsed": false
   }
  },
  {
   "cell_type": "code",
   "execution_count": 961,
   "outputs": [
    {
     "name": "stdout",
     "output_type": "stream",
     "text": [
      "68363\n"
     ]
    },
    {
     "data": {
      "text/plain": "          ida     idb    pdockq dataset                              pdbfile  \\\n0  A0A024R0Y4  O14964  0.077304    HuRI  ENSG00000185359-ENSG00000276234.pdb   \n1  A0A024R0Y4  O15287  0.038752    HuRI  ENSG00000221829-ENSG00000276234.pdb   \n2  A0A024R0Y4  O60573  0.034888    HuRI  ENSG00000135930-ENSG00000276234.pdb   \n3  A0A024R0Y4  O75431  0.075548    HuRI  ENSG00000128654-ENSG00000276234.pdb   \n4  A0A024R0Y4  O75528  0.730883    HuRI  ENSG00000171148-ENSG00000276234.pdb   \n\n   prob                  crca                  crcb        za         zb  \\\n0   1.0  CRC-27D3F4F4D5EFF3C8  CRC-DD64167A19DCF030  11.84117   6.937132   \n1   1.0  CRC-27D3F4F4D5EFF3C8  CRC-4BC7475472AC3C84  11.84117  11.711823   \n2   1.0  CRC-27D3F4F4D5EFF3C8  CRC-3D3075BFA48B3C12  11.84117   9.707791   \n3   1.0  CRC-27D3F4F4D5EFF3C8  CRC-3A2EF476F1C78465  11.84117  12.701179   \n4   1.0  CRC-27D3F4F4D5EFF3C8  CRC-C86153CFA83F9226  11.84117   8.649690   \n\n         da        db  min_chezod  max_diso  max_chezod  avg_chezod      capri  \n0  0.158014  0.516088    6.937132  0.516088   11.841170    9.389151  incorrect  \n1  0.158014  0.127010   11.711823  0.158014   11.841170   11.776496  incorrect  \n2  0.158014  0.334694    9.707791  0.334694   11.841170   10.774480  incorrect  \n3  0.158014  0.087452   11.841170  0.158014   12.701179   12.271174  incorrect  \n4  0.158014  0.388889    8.649690  0.388889   11.841170   10.245430     medium  ",
      "text/html": "<div>\n<style scoped>\n    .dataframe tbody tr th:only-of-type {\n        vertical-align: middle;\n    }\n\n    .dataframe tbody tr th {\n        vertical-align: top;\n    }\n\n    .dataframe thead th {\n        text-align: right;\n    }\n</style>\n<table border=\"1\" class=\"dataframe\">\n  <thead>\n    <tr style=\"text-align: right;\">\n      <th></th>\n      <th>ida</th>\n      <th>idb</th>\n      <th>pdockq</th>\n      <th>dataset</th>\n      <th>pdbfile</th>\n      <th>prob</th>\n      <th>crca</th>\n      <th>crcb</th>\n      <th>za</th>\n      <th>zb</th>\n      <th>da</th>\n      <th>db</th>\n      <th>min_chezod</th>\n      <th>max_diso</th>\n      <th>max_chezod</th>\n      <th>avg_chezod</th>\n      <th>capri</th>\n    </tr>\n  </thead>\n  <tbody>\n    <tr>\n      <th>0</th>\n      <td>A0A024R0Y4</td>\n      <td>O14964</td>\n      <td>0.077304</td>\n      <td>HuRI</td>\n      <td>ENSG00000185359-ENSG00000276234.pdb</td>\n      <td>1.0</td>\n      <td>CRC-27D3F4F4D5EFF3C8</td>\n      <td>CRC-DD64167A19DCF030</td>\n      <td>11.84117</td>\n      <td>6.937132</td>\n      <td>0.158014</td>\n      <td>0.516088</td>\n      <td>6.937132</td>\n      <td>0.516088</td>\n      <td>11.841170</td>\n      <td>9.389151</td>\n      <td>incorrect</td>\n    </tr>\n    <tr>\n      <th>1</th>\n      <td>A0A024R0Y4</td>\n      <td>O15287</td>\n      <td>0.038752</td>\n      <td>HuRI</td>\n      <td>ENSG00000221829-ENSG00000276234.pdb</td>\n      <td>1.0</td>\n      <td>CRC-27D3F4F4D5EFF3C8</td>\n      <td>CRC-4BC7475472AC3C84</td>\n      <td>11.84117</td>\n      <td>11.711823</td>\n      <td>0.158014</td>\n      <td>0.127010</td>\n      <td>11.711823</td>\n      <td>0.158014</td>\n      <td>11.841170</td>\n      <td>11.776496</td>\n      <td>incorrect</td>\n    </tr>\n    <tr>\n      <th>2</th>\n      <td>A0A024R0Y4</td>\n      <td>O60573</td>\n      <td>0.034888</td>\n      <td>HuRI</td>\n      <td>ENSG00000135930-ENSG00000276234.pdb</td>\n      <td>1.0</td>\n      <td>CRC-27D3F4F4D5EFF3C8</td>\n      <td>CRC-3D3075BFA48B3C12</td>\n      <td>11.84117</td>\n      <td>9.707791</td>\n      <td>0.158014</td>\n      <td>0.334694</td>\n      <td>9.707791</td>\n      <td>0.334694</td>\n      <td>11.841170</td>\n      <td>10.774480</td>\n      <td>incorrect</td>\n    </tr>\n    <tr>\n      <th>3</th>\n      <td>A0A024R0Y4</td>\n      <td>O75431</td>\n      <td>0.075548</td>\n      <td>HuRI</td>\n      <td>ENSG00000128654-ENSG00000276234.pdb</td>\n      <td>1.0</td>\n      <td>CRC-27D3F4F4D5EFF3C8</td>\n      <td>CRC-3A2EF476F1C78465</td>\n      <td>11.84117</td>\n      <td>12.701179</td>\n      <td>0.158014</td>\n      <td>0.087452</td>\n      <td>11.841170</td>\n      <td>0.158014</td>\n      <td>12.701179</td>\n      <td>12.271174</td>\n      <td>incorrect</td>\n    </tr>\n    <tr>\n      <th>4</th>\n      <td>A0A024R0Y4</td>\n      <td>O75528</td>\n      <td>0.730883</td>\n      <td>HuRI</td>\n      <td>ENSG00000171148-ENSG00000276234.pdb</td>\n      <td>1.0</td>\n      <td>CRC-27D3F4F4D5EFF3C8</td>\n      <td>CRC-C86153CFA83F9226</td>\n      <td>11.84117</td>\n      <td>8.649690</td>\n      <td>0.158014</td>\n      <td>0.388889</td>\n      <td>8.649690</td>\n      <td>0.388889</td>\n      <td>11.841170</td>\n      <td>10.245430</td>\n      <td>medium</td>\n    </tr>\n  </tbody>\n</table>\n</div>"
     },
     "execution_count": 961,
     "metadata": {},
     "output_type": "execute_result"
    }
   ],
   "source": [
    "old = pd.read_csv('huintaf2_scores_bak.tsv', sep='\\t')\n",
    "old = old.rename(columns=dict(hash_A='crca', hash_B='crcb'))\n",
    "print(len(old))\n",
    "old.head()"
   ],
   "metadata": {
    "collapsed": false
   }
  },
  {
   "cell_type": "code",
   "execution_count": 962,
   "outputs": [
    {
     "name": "stdout",
     "output_type": "stream",
     "text": [
      "68878\n"
     ]
    },
    {
     "data": {
      "text/plain": "          ida     idb    pdockq dataset                              pdbfile  \\\n0  A0A024R0Y4  O14964  0.077304    HuRI  ENSG00000185359-ENSG00000276234.pdb   \n1  A0A024R0Y4  O15287  0.038752    HuRI  ENSG00000221829-ENSG00000276234.pdb   \n2  A0A024R0Y4  O60573  0.034888    HuRI  ENSG00000135930-ENSG00000276234.pdb   \n3  A0A024R0Y4  O75431  0.075548    HuRI  ENSG00000128654-ENSG00000276234.pdb   \n4  A0A024R0Y4  O75528  0.730883    HuRI  ENSG00000171148-ENSG00000276234.pdb   \n\n   prob                  crca                  crcb  lena  lenb      capri  \\\n0   1.0  CRC-27D3F4F4D5EFF3C8  CRC-DD64167A19DCF030   443   777  incorrect   \n1   1.0  CRC-27D3F4F4D5EFF3C8  CRC-4BC7475472AC3C84   443   622  incorrect   \n2   1.0  CRC-27D3F4F4D5EFF3C8  CRC-3D3075BFA48B3C12   443   245  incorrect   \n3   1.0  CRC-27D3F4F4D5EFF3C8  CRC-3A2EF476F1C78465   443   263  incorrect   \n4   1.0  CRC-27D3F4F4D5EFF3C8  CRC-C86153CFA83F9226   443   432     medium   \n\n          za         zb        da        db  min_chezod  max_diso  max_chezod  \\\n0  11.839822   6.937123  0.158014  0.516088    6.937123  0.516088   11.839822   \n1  11.839822  11.712423  0.158014  0.127010   11.712423  0.158014   11.839822   \n2  11.839822   9.707793  0.158014  0.334694    9.707793  0.334694   11.839822   \n3  11.839822  12.701147  0.158014  0.087452   11.839822  0.158014   12.701147   \n4  11.839822   8.650904  0.158014  0.388889    8.650904  0.388889   11.839822   \n\n   avg_chezod  \n0    9.388472  \n1   11.776122  \n2   10.773807  \n3   12.270484  \n4   10.245363  ",
      "text/html": "<div>\n<style scoped>\n    .dataframe tbody tr th:only-of-type {\n        vertical-align: middle;\n    }\n\n    .dataframe tbody tr th {\n        vertical-align: top;\n    }\n\n    .dataframe thead th {\n        text-align: right;\n    }\n</style>\n<table border=\"1\" class=\"dataframe\">\n  <thead>\n    <tr style=\"text-align: right;\">\n      <th></th>\n      <th>ida</th>\n      <th>idb</th>\n      <th>pdockq</th>\n      <th>dataset</th>\n      <th>pdbfile</th>\n      <th>prob</th>\n      <th>crca</th>\n      <th>crcb</th>\n      <th>lena</th>\n      <th>lenb</th>\n      <th>capri</th>\n      <th>za</th>\n      <th>zb</th>\n      <th>da</th>\n      <th>db</th>\n      <th>min_chezod</th>\n      <th>max_diso</th>\n      <th>max_chezod</th>\n      <th>avg_chezod</th>\n    </tr>\n  </thead>\n  <tbody>\n    <tr>\n      <th>0</th>\n      <td>A0A024R0Y4</td>\n      <td>O14964</td>\n      <td>0.077304</td>\n      <td>HuRI</td>\n      <td>ENSG00000185359-ENSG00000276234.pdb</td>\n      <td>1.0</td>\n      <td>CRC-27D3F4F4D5EFF3C8</td>\n      <td>CRC-DD64167A19DCF030</td>\n      <td>443</td>\n      <td>777</td>\n      <td>incorrect</td>\n      <td>11.839822</td>\n      <td>6.937123</td>\n      <td>0.158014</td>\n      <td>0.516088</td>\n      <td>6.937123</td>\n      <td>0.516088</td>\n      <td>11.839822</td>\n      <td>9.388472</td>\n    </tr>\n    <tr>\n      <th>1</th>\n      <td>A0A024R0Y4</td>\n      <td>O15287</td>\n      <td>0.038752</td>\n      <td>HuRI</td>\n      <td>ENSG00000221829-ENSG00000276234.pdb</td>\n      <td>1.0</td>\n      <td>CRC-27D3F4F4D5EFF3C8</td>\n      <td>CRC-4BC7475472AC3C84</td>\n      <td>443</td>\n      <td>622</td>\n      <td>incorrect</td>\n      <td>11.839822</td>\n      <td>11.712423</td>\n      <td>0.158014</td>\n      <td>0.127010</td>\n      <td>11.712423</td>\n      <td>0.158014</td>\n      <td>11.839822</td>\n      <td>11.776122</td>\n    </tr>\n    <tr>\n      <th>2</th>\n      <td>A0A024R0Y4</td>\n      <td>O60573</td>\n      <td>0.034888</td>\n      <td>HuRI</td>\n      <td>ENSG00000135930-ENSG00000276234.pdb</td>\n      <td>1.0</td>\n      <td>CRC-27D3F4F4D5EFF3C8</td>\n      <td>CRC-3D3075BFA48B3C12</td>\n      <td>443</td>\n      <td>245</td>\n      <td>incorrect</td>\n      <td>11.839822</td>\n      <td>9.707793</td>\n      <td>0.158014</td>\n      <td>0.334694</td>\n      <td>9.707793</td>\n      <td>0.334694</td>\n      <td>11.839822</td>\n      <td>10.773807</td>\n    </tr>\n    <tr>\n      <th>3</th>\n      <td>A0A024R0Y4</td>\n      <td>O75431</td>\n      <td>0.075548</td>\n      <td>HuRI</td>\n      <td>ENSG00000128654-ENSG00000276234.pdb</td>\n      <td>1.0</td>\n      <td>CRC-27D3F4F4D5EFF3C8</td>\n      <td>CRC-3A2EF476F1C78465</td>\n      <td>443</td>\n      <td>263</td>\n      <td>incorrect</td>\n      <td>11.839822</td>\n      <td>12.701147</td>\n      <td>0.158014</td>\n      <td>0.087452</td>\n      <td>11.839822</td>\n      <td>0.158014</td>\n      <td>12.701147</td>\n      <td>12.270484</td>\n    </tr>\n    <tr>\n      <th>4</th>\n      <td>A0A024R0Y4</td>\n      <td>O75528</td>\n      <td>0.730883</td>\n      <td>HuRI</td>\n      <td>ENSG00000171148-ENSG00000276234.pdb</td>\n      <td>1.0</td>\n      <td>CRC-27D3F4F4D5EFF3C8</td>\n      <td>CRC-C86153CFA83F9226</td>\n      <td>443</td>\n      <td>432</td>\n      <td>medium</td>\n      <td>11.839822</td>\n      <td>8.650904</td>\n      <td>0.158014</td>\n      <td>0.388889</td>\n      <td>8.650904</td>\n      <td>0.388889</td>\n      <td>11.839822</td>\n      <td>10.245363</td>\n    </tr>\n  </tbody>\n</table>\n</div>"
     },
     "execution_count": 962,
     "metadata": {},
     "output_type": "execute_result"
    }
   ],
   "source": [
    "print(len(h4))\n",
    "h4.head()"
   ],
   "metadata": {
    "collapsed": false
   }
  },
  {
   "cell_type": "code",
   "execution_count": 963,
   "outputs": [
    {
     "data": {
      "text/plain": "68878"
     },
     "execution_count": 963,
     "metadata": {},
     "output_type": "execute_result"
    }
   ],
   "source": [
    "h4.ida = h4.ida.apply(lambda s: s.split('-')[0])\n",
    "h4.idb = h4.idb.apply(lambda s: s.split('-')[0])\n",
    "h4 = h4.drop_duplicates()\n",
    "len(h4)"
   ],
   "metadata": {
    "collapsed": false
   }
  },
  {
   "cell_type": "code",
   "execution_count": 964,
   "outputs": [
    {
     "data": {
      "text/plain": "              ida     idb  pdockq_x       dataset  \\\n0      A0A024R0Y4  O14964  0.077304          HuRI   \n1      A0A024R0Y4  O15287  0.038752          HuRI   \n2      A0A024R0Y4  O60573  0.034888          HuRI   \n3      A0A024R0Y4  O75431  0.075548          HuRI   \n4      A0A024R0Y4  O75528  0.730883          HuRI   \n...           ...     ...       ...           ...   \n68873      Q9NX76  Q9Y316  0.217307  514 HuRI $-$   \n68874      Q9UBR2  Q9Y2B5  0.045651  514 HuRI $-$   \n68875      Q9UL45  Q9Y3C0  0.334684  516 HuRI $+$   \n68876      Q9UNS2  Q9Y3C0  0.182672  514 HuRI $-$   \n68877      Q9Y3Q0  Q9Y6A9  0.000000  516 HuRI $+$   \n\n                                               pdbfile_x  prob_x  \\\n0                    ENSG00000185359-ENSG00000276234.pdb     1.0   \n1                    ENSG00000221829-ENSG00000276234.pdb     1.0   \n2                    ENSG00000135930-ENSG00000276234.pdb     1.0   \n3                    ENSG00000128654-ENSG00000276234.pdb     1.0   \n4                    ENSG00000171148-ENSG00000276234.pdb     1.0   \n...                                                  ...     ...   \n68873  results_chunk_1/predictions/1_unrelaxed_rank_1...     0.0   \n68874  results_chunk_3/predictions/213_unrelaxed_rank...     0.0   \n68875  results_chunk_4/predictions/38_unrelaxed_rank_...     1.0   \n68876  results_chunk_2/predictions/40_unrelaxed_rank_...     0.0   \n68877  results_chunk_5/predictions/29_unrelaxed_rank_...     1.0   \n\n                     crca_x                crcb_x  lena  lenb  ...  \\\n0      CRC-27D3F4F4D5EFF3C8  CRC-DD64167A19DCF030   443   777  ...   \n1      CRC-27D3F4F4D5EFF3C8  CRC-4BC7475472AC3C84   443   622  ...   \n2      CRC-27D3F4F4D5EFF3C8  CRC-3D3075BFA48B3C12   443   245  ...   \n3      CRC-27D3F4F4D5EFF3C8  CRC-3A2EF476F1C78465   443   263  ...   \n4      CRC-27D3F4F4D5EFF3C8  CRC-C86153CFA83F9226   443   432  ...   \n...                     ...                   ...   ...   ...  ...   \n68873  CRC-43DAEB652A6B50B4  CRC-E315FD5587776211   183   297  ...   \n68874  CRC-6274FD1974D0EBDC  CRC-0C302E7BA496B27A   631   303  ...   \n68875  CRC-37902FCFD4802294  CRC-B0CCF1AE76CDA6D2   172   194  ...   \n68876  CRC-1D371050C7D7BF8D  CRC-B0CCF1AE76CDA6D2   423   194  ...   \n68877  CRC-040624D691ECF879  CRC-65F180938A9BEF1E   740   169  ...   \n\n                     crcb_y       za_y       zb_y      da_y      db_y  \\\n0      CRC-DD64167A19DCF030  11.841170   6.937132  0.158014  0.516088   \n1      CRC-4BC7475472AC3C84  11.841170  11.711823  0.158014  0.127010   \n2      CRC-3D3075BFA48B3C12  11.841170   9.707791  0.158014  0.334694   \n3      CRC-3A2EF476F1C78465  11.841170  12.701179  0.158014  0.087452   \n4      CRC-C86153CFA83F9226  11.841170   8.649690  0.158014  0.388889   \n...                     ...        ...        ...       ...       ...   \n68873  CRC-E315FD5587776211  10.179374  13.413964  0.245902  0.016835   \n68874  CRC-0C302E7BA496B27A  10.715342   8.735483  0.158416  0.375594   \n68875  CRC-B0CCF1AE76CDA6D2   9.385123   7.852589  0.302326  0.448454   \n68876  CRC-B0CCF1AE76CDA6D2  12.237804   7.852589  0.096927  0.448454   \n68877  CRC-65F180938A9BEF1E  11.354348   7.097382  0.160811  0.491124   \n\n       min_chezod_y  max_diso_y  max_chezod_y  avg_chezod_y     capri_y  \n0          6.937132    0.516088     11.841170      9.389151   incorrect  \n1         11.711823    0.158014     11.841170     11.776496   incorrect  \n2          9.707791    0.334694     11.841170     10.774480   incorrect  \n3         11.841170    0.158014     12.701179     12.271174   incorrect  \n4          8.649690    0.388889     11.841170     10.245430      medium  \n...             ...         ...           ...           ...         ...  \n68873     10.179374    0.245902     13.413964     11.796669   incorrect  \n68874      8.735483    0.375594     10.715342      9.725413   incorrect  \n68875      7.852589    0.448454      9.385123      8.618856  acceptable  \n68876      7.852589    0.448454     12.237804     10.045196   incorrect  \n68877      7.097382    0.491124     11.354348      9.225865   incorrect  \n\n[68878 rows x 33 columns]",
      "text/html": "<div>\n<style scoped>\n    .dataframe tbody tr th:only-of-type {\n        vertical-align: middle;\n    }\n\n    .dataframe tbody tr th {\n        vertical-align: top;\n    }\n\n    .dataframe thead th {\n        text-align: right;\n    }\n</style>\n<table border=\"1\" class=\"dataframe\">\n  <thead>\n    <tr style=\"text-align: right;\">\n      <th></th>\n      <th>ida</th>\n      <th>idb</th>\n      <th>pdockq_x</th>\n      <th>dataset</th>\n      <th>pdbfile_x</th>\n      <th>prob_x</th>\n      <th>crca_x</th>\n      <th>crcb_x</th>\n      <th>lena</th>\n      <th>lenb</th>\n      <th>...</th>\n      <th>crcb_y</th>\n      <th>za_y</th>\n      <th>zb_y</th>\n      <th>da_y</th>\n      <th>db_y</th>\n      <th>min_chezod_y</th>\n      <th>max_diso_y</th>\n      <th>max_chezod_y</th>\n      <th>avg_chezod_y</th>\n      <th>capri_y</th>\n    </tr>\n  </thead>\n  <tbody>\n    <tr>\n      <th>0</th>\n      <td>A0A024R0Y4</td>\n      <td>O14964</td>\n      <td>0.077304</td>\n      <td>HuRI</td>\n      <td>ENSG00000185359-ENSG00000276234.pdb</td>\n      <td>1.0</td>\n      <td>CRC-27D3F4F4D5EFF3C8</td>\n      <td>CRC-DD64167A19DCF030</td>\n      <td>443</td>\n      <td>777</td>\n      <td>...</td>\n      <td>CRC-DD64167A19DCF030</td>\n      <td>11.841170</td>\n      <td>6.937132</td>\n      <td>0.158014</td>\n      <td>0.516088</td>\n      <td>6.937132</td>\n      <td>0.516088</td>\n      <td>11.841170</td>\n      <td>9.389151</td>\n      <td>incorrect</td>\n    </tr>\n    <tr>\n      <th>1</th>\n      <td>A0A024R0Y4</td>\n      <td>O15287</td>\n      <td>0.038752</td>\n      <td>HuRI</td>\n      <td>ENSG00000221829-ENSG00000276234.pdb</td>\n      <td>1.0</td>\n      <td>CRC-27D3F4F4D5EFF3C8</td>\n      <td>CRC-4BC7475472AC3C84</td>\n      <td>443</td>\n      <td>622</td>\n      <td>...</td>\n      <td>CRC-4BC7475472AC3C84</td>\n      <td>11.841170</td>\n      <td>11.711823</td>\n      <td>0.158014</td>\n      <td>0.127010</td>\n      <td>11.711823</td>\n      <td>0.158014</td>\n      <td>11.841170</td>\n      <td>11.776496</td>\n      <td>incorrect</td>\n    </tr>\n    <tr>\n      <th>2</th>\n      <td>A0A024R0Y4</td>\n      <td>O60573</td>\n      <td>0.034888</td>\n      <td>HuRI</td>\n      <td>ENSG00000135930-ENSG00000276234.pdb</td>\n      <td>1.0</td>\n      <td>CRC-27D3F4F4D5EFF3C8</td>\n      <td>CRC-3D3075BFA48B3C12</td>\n      <td>443</td>\n      <td>245</td>\n      <td>...</td>\n      <td>CRC-3D3075BFA48B3C12</td>\n      <td>11.841170</td>\n      <td>9.707791</td>\n      <td>0.158014</td>\n      <td>0.334694</td>\n      <td>9.707791</td>\n      <td>0.334694</td>\n      <td>11.841170</td>\n      <td>10.774480</td>\n      <td>incorrect</td>\n    </tr>\n    <tr>\n      <th>3</th>\n      <td>A0A024R0Y4</td>\n      <td>O75431</td>\n      <td>0.075548</td>\n      <td>HuRI</td>\n      <td>ENSG00000128654-ENSG00000276234.pdb</td>\n      <td>1.0</td>\n      <td>CRC-27D3F4F4D5EFF3C8</td>\n      <td>CRC-3A2EF476F1C78465</td>\n      <td>443</td>\n      <td>263</td>\n      <td>...</td>\n      <td>CRC-3A2EF476F1C78465</td>\n      <td>11.841170</td>\n      <td>12.701179</td>\n      <td>0.158014</td>\n      <td>0.087452</td>\n      <td>11.841170</td>\n      <td>0.158014</td>\n      <td>12.701179</td>\n      <td>12.271174</td>\n      <td>incorrect</td>\n    </tr>\n    <tr>\n      <th>4</th>\n      <td>A0A024R0Y4</td>\n      <td>O75528</td>\n      <td>0.730883</td>\n      <td>HuRI</td>\n      <td>ENSG00000171148-ENSG00000276234.pdb</td>\n      <td>1.0</td>\n      <td>CRC-27D3F4F4D5EFF3C8</td>\n      <td>CRC-C86153CFA83F9226</td>\n      <td>443</td>\n      <td>432</td>\n      <td>...</td>\n      <td>CRC-C86153CFA83F9226</td>\n      <td>11.841170</td>\n      <td>8.649690</td>\n      <td>0.158014</td>\n      <td>0.388889</td>\n      <td>8.649690</td>\n      <td>0.388889</td>\n      <td>11.841170</td>\n      <td>10.245430</td>\n      <td>medium</td>\n    </tr>\n    <tr>\n      <th>...</th>\n      <td>...</td>\n      <td>...</td>\n      <td>...</td>\n      <td>...</td>\n      <td>...</td>\n      <td>...</td>\n      <td>...</td>\n      <td>...</td>\n      <td>...</td>\n      <td>...</td>\n      <td>...</td>\n      <td>...</td>\n      <td>...</td>\n      <td>...</td>\n      <td>...</td>\n      <td>...</td>\n      <td>...</td>\n      <td>...</td>\n      <td>...</td>\n      <td>...</td>\n      <td>...</td>\n    </tr>\n    <tr>\n      <th>68873</th>\n      <td>Q9NX76</td>\n      <td>Q9Y316</td>\n      <td>0.217307</td>\n      <td>514 HuRI $-$</td>\n      <td>results_chunk_1/predictions/1_unrelaxed_rank_1...</td>\n      <td>0.0</td>\n      <td>CRC-43DAEB652A6B50B4</td>\n      <td>CRC-E315FD5587776211</td>\n      <td>183</td>\n      <td>297</td>\n      <td>...</td>\n      <td>CRC-E315FD5587776211</td>\n      <td>10.179374</td>\n      <td>13.413964</td>\n      <td>0.245902</td>\n      <td>0.016835</td>\n      <td>10.179374</td>\n      <td>0.245902</td>\n      <td>13.413964</td>\n      <td>11.796669</td>\n      <td>incorrect</td>\n    </tr>\n    <tr>\n      <th>68874</th>\n      <td>Q9UBR2</td>\n      <td>Q9Y2B5</td>\n      <td>0.045651</td>\n      <td>514 HuRI $-$</td>\n      <td>results_chunk_3/predictions/213_unrelaxed_rank...</td>\n      <td>0.0</td>\n      <td>CRC-6274FD1974D0EBDC</td>\n      <td>CRC-0C302E7BA496B27A</td>\n      <td>631</td>\n      <td>303</td>\n      <td>...</td>\n      <td>CRC-0C302E7BA496B27A</td>\n      <td>10.715342</td>\n      <td>8.735483</td>\n      <td>0.158416</td>\n      <td>0.375594</td>\n      <td>8.735483</td>\n      <td>0.375594</td>\n      <td>10.715342</td>\n      <td>9.725413</td>\n      <td>incorrect</td>\n    </tr>\n    <tr>\n      <th>68875</th>\n      <td>Q9UL45</td>\n      <td>Q9Y3C0</td>\n      <td>0.334684</td>\n      <td>516 HuRI $+$</td>\n      <td>results_chunk_4/predictions/38_unrelaxed_rank_...</td>\n      <td>1.0</td>\n      <td>CRC-37902FCFD4802294</td>\n      <td>CRC-B0CCF1AE76CDA6D2</td>\n      <td>172</td>\n      <td>194</td>\n      <td>...</td>\n      <td>CRC-B0CCF1AE76CDA6D2</td>\n      <td>9.385123</td>\n      <td>7.852589</td>\n      <td>0.302326</td>\n      <td>0.448454</td>\n      <td>7.852589</td>\n      <td>0.448454</td>\n      <td>9.385123</td>\n      <td>8.618856</td>\n      <td>acceptable</td>\n    </tr>\n    <tr>\n      <th>68876</th>\n      <td>Q9UNS2</td>\n      <td>Q9Y3C0</td>\n      <td>0.182672</td>\n      <td>514 HuRI $-$</td>\n      <td>results_chunk_2/predictions/40_unrelaxed_rank_...</td>\n      <td>0.0</td>\n      <td>CRC-1D371050C7D7BF8D</td>\n      <td>CRC-B0CCF1AE76CDA6D2</td>\n      <td>423</td>\n      <td>194</td>\n      <td>...</td>\n      <td>CRC-B0CCF1AE76CDA6D2</td>\n      <td>12.237804</td>\n      <td>7.852589</td>\n      <td>0.096927</td>\n      <td>0.448454</td>\n      <td>7.852589</td>\n      <td>0.448454</td>\n      <td>12.237804</td>\n      <td>10.045196</td>\n      <td>incorrect</td>\n    </tr>\n    <tr>\n      <th>68877</th>\n      <td>Q9Y3Q0</td>\n      <td>Q9Y6A9</td>\n      <td>0.000000</td>\n      <td>516 HuRI $+$</td>\n      <td>results_chunk_5/predictions/29_unrelaxed_rank_...</td>\n      <td>1.0</td>\n      <td>CRC-040624D691ECF879</td>\n      <td>CRC-65F180938A9BEF1E</td>\n      <td>740</td>\n      <td>169</td>\n      <td>...</td>\n      <td>CRC-65F180938A9BEF1E</td>\n      <td>11.354348</td>\n      <td>7.097382</td>\n      <td>0.160811</td>\n      <td>0.491124</td>\n      <td>7.097382</td>\n      <td>0.491124</td>\n      <td>11.354348</td>\n      <td>9.225865</td>\n      <td>incorrect</td>\n    </tr>\n  </tbody>\n</table>\n<p>68878 rows × 33 columns</p>\n</div>"
     },
     "execution_count": 964,
     "metadata": {},
     "output_type": "execute_result"
    }
   ],
   "source": [
    "ll = ['ida', 'idb', 'dataset']\n",
    "mm = h4.merge(old, how='left',\n",
    "         left_on=ll,\n",
    "         right_on=ll,\n",
    "\n",
    "         )\n",
    "mm"
   ],
   "metadata": {
    "collapsed": false
   }
  },
  {
   "cell_type": "code",
   "execution_count": 965,
   "outputs": [
    {
     "data": {
      "text/plain": "              ida     idb      dataset                crca_x  \\\n77     A0A087WZ82  Q12983         HuRI  CRC-9122B7D23A61495E   \n176    A0A0B4J1R5  O00526         HuRI  CRC-D1C2B66B8898F538   \n177    A0A0B4J1R5  O95183         HuRI  CRC-D1C2B66B8898F538   \n178    A0A0B4J1R5  P01031         HuRI  CRC-D1C2B66B8898F538   \n179    A0A0B4J1R5  P19397         HuRI  CRC-D1C2B66B8898F538   \n...           ...     ...          ...                   ...   \n67717      Q9UPX8  Q9UQB8         HuRI  CRC-7322993CB9FE0929   \n67734      Q9Y232  Q9Y3U8  1849 random  CRC-A34E7221130626EC   \n67754      Q9Y297  Q9Y2T1         HuRI  CRC-4C67F3B7E400FD37   \n67778      Q9Y2T1  Q9Y6W3         HuRI  CRC-F7B62BED6AB4664D   \n67794      Q9Y376  Q9Y3U8  1849 random  CRC-EC710A528B6F9811   \n\n                     crca_y                crcb_x                crcb_y  \n77     CRC-9122B7D23A61495E  CRC-53967696EDA005E2  CRC-6D79E68F146D25EB  \n176    CRC-D1C4D06DE8FEF35E  CRC-83D963F06050A585  CRC-83D963F06050A585  \n177    CRC-D1C4D06DE8FEF35E  CRC-32A1F3B808A6016C  CRC-32A1F3B808A6016C  \n178    CRC-D1C4D06DE8FEF35E  CRC-A7589E352F74672A  CRC-A7589E352F74672A  \n179    CRC-D1C4D06DE8FEF35E  CRC-48D4633DBC9110B6  CRC-48D4633DBC9110B6  \n...                     ...                   ...                   ...  \n67717  CRC-45550DC5D5701399  CRC-3B9EDC6405DCC99D  CRC-3B9EDC6405DCC99D  \n67734                   NaN  CRC-FEE8850A62080EB3                   NaN  \n67754  CRC-4C67F3B7E400FD37  CRC-F7B62BED6AB4664D  CRC-23E9C72187A9230C  \n67778  CRC-23E9C72187A9230C  CRC-814769611360D281  CRC-814769611360D281  \n67794                   NaN  CRC-FEE8850A62080EB3                   NaN  \n\n[2060 rows x 7 columns]",
      "text/html": "<div>\n<style scoped>\n    .dataframe tbody tr th:only-of-type {\n        vertical-align: middle;\n    }\n\n    .dataframe tbody tr th {\n        vertical-align: top;\n    }\n\n    .dataframe thead th {\n        text-align: right;\n    }\n</style>\n<table border=\"1\" class=\"dataframe\">\n  <thead>\n    <tr style=\"text-align: right;\">\n      <th></th>\n      <th>ida</th>\n      <th>idb</th>\n      <th>dataset</th>\n      <th>crca_x</th>\n      <th>crca_y</th>\n      <th>crcb_x</th>\n      <th>crcb_y</th>\n    </tr>\n  </thead>\n  <tbody>\n    <tr>\n      <th>77</th>\n      <td>A0A087WZ82</td>\n      <td>Q12983</td>\n      <td>HuRI</td>\n      <td>CRC-9122B7D23A61495E</td>\n      <td>CRC-9122B7D23A61495E</td>\n      <td>CRC-53967696EDA005E2</td>\n      <td>CRC-6D79E68F146D25EB</td>\n    </tr>\n    <tr>\n      <th>176</th>\n      <td>A0A0B4J1R5</td>\n      <td>O00526</td>\n      <td>HuRI</td>\n      <td>CRC-D1C2B66B8898F538</td>\n      <td>CRC-D1C4D06DE8FEF35E</td>\n      <td>CRC-83D963F06050A585</td>\n      <td>CRC-83D963F06050A585</td>\n    </tr>\n    <tr>\n      <th>177</th>\n      <td>A0A0B4J1R5</td>\n      <td>O95183</td>\n      <td>HuRI</td>\n      <td>CRC-D1C2B66B8898F538</td>\n      <td>CRC-D1C4D06DE8FEF35E</td>\n      <td>CRC-32A1F3B808A6016C</td>\n      <td>CRC-32A1F3B808A6016C</td>\n    </tr>\n    <tr>\n      <th>178</th>\n      <td>A0A0B4J1R5</td>\n      <td>P01031</td>\n      <td>HuRI</td>\n      <td>CRC-D1C2B66B8898F538</td>\n      <td>CRC-D1C4D06DE8FEF35E</td>\n      <td>CRC-A7589E352F74672A</td>\n      <td>CRC-A7589E352F74672A</td>\n    </tr>\n    <tr>\n      <th>179</th>\n      <td>A0A0B4J1R5</td>\n      <td>P19397</td>\n      <td>HuRI</td>\n      <td>CRC-D1C2B66B8898F538</td>\n      <td>CRC-D1C4D06DE8FEF35E</td>\n      <td>CRC-48D4633DBC9110B6</td>\n      <td>CRC-48D4633DBC9110B6</td>\n    </tr>\n    <tr>\n      <th>...</th>\n      <td>...</td>\n      <td>...</td>\n      <td>...</td>\n      <td>...</td>\n      <td>...</td>\n      <td>...</td>\n      <td>...</td>\n    </tr>\n    <tr>\n      <th>67717</th>\n      <td>Q9UPX8</td>\n      <td>Q9UQB8</td>\n      <td>HuRI</td>\n      <td>CRC-7322993CB9FE0929</td>\n      <td>CRC-45550DC5D5701399</td>\n      <td>CRC-3B9EDC6405DCC99D</td>\n      <td>CRC-3B9EDC6405DCC99D</td>\n    </tr>\n    <tr>\n      <th>67734</th>\n      <td>Q9Y232</td>\n      <td>Q9Y3U8</td>\n      <td>1849 random</td>\n      <td>CRC-A34E7221130626EC</td>\n      <td>NaN</td>\n      <td>CRC-FEE8850A62080EB3</td>\n      <td>NaN</td>\n    </tr>\n    <tr>\n      <th>67754</th>\n      <td>Q9Y297</td>\n      <td>Q9Y2T1</td>\n      <td>HuRI</td>\n      <td>CRC-4C67F3B7E400FD37</td>\n      <td>CRC-4C67F3B7E400FD37</td>\n      <td>CRC-F7B62BED6AB4664D</td>\n      <td>CRC-23E9C72187A9230C</td>\n    </tr>\n    <tr>\n      <th>67778</th>\n      <td>Q9Y2T1</td>\n      <td>Q9Y6W3</td>\n      <td>HuRI</td>\n      <td>CRC-F7B62BED6AB4664D</td>\n      <td>CRC-23E9C72187A9230C</td>\n      <td>CRC-814769611360D281</td>\n      <td>CRC-814769611360D281</td>\n    </tr>\n    <tr>\n      <th>67794</th>\n      <td>Q9Y376</td>\n      <td>Q9Y3U8</td>\n      <td>1849 random</td>\n      <td>CRC-EC710A528B6F9811</td>\n      <td>NaN</td>\n      <td>CRC-FEE8850A62080EB3</td>\n      <td>NaN</td>\n    </tr>\n  </tbody>\n</table>\n<p>2060 rows × 7 columns</p>\n</div>"
     },
     "execution_count": 965,
     "metadata": {},
     "output_type": "execute_result"
    }
   ],
   "source": [
    "mm.loc[(mm.crca_x != mm.crca_y) | (mm.crcb_x != mm.crcb_y), ['ida', 'idb', 'dataset', 'crca_x', 'crca_y', 'crcb_x', 'crcb_y']]"
   ],
   "metadata": {
    "collapsed": false
   }
  },
  {
   "cell_type": "code",
   "execution_count": 966,
   "outputs": [
    {
     "name": "stdout",
     "output_type": "stream",
     "text": [
      "2057\n"
     ]
    },
    {
     "data": {
      "text/plain": "                   crca_x                crcb_x dataset\n77   CRC-53967696EDA005E2  CRC-9122B7D23A61495E    HuRI\n176  CRC-83D963F06050A585  CRC-D1C2B66B8898F538    HuRI\n177  CRC-32A1F3B808A6016C  CRC-D1C2B66B8898F538    HuRI\n178  CRC-A7589E352F74672A  CRC-D1C2B66B8898F538    HuRI\n179  CRC-48D4633DBC9110B6  CRC-D1C2B66B8898F538    HuRI",
      "text/html": "<div>\n<style scoped>\n    .dataframe tbody tr th:only-of-type {\n        vertical-align: middle;\n    }\n\n    .dataframe tbody tr th {\n        vertical-align: top;\n    }\n\n    .dataframe thead th {\n        text-align: right;\n    }\n</style>\n<table border=\"1\" class=\"dataframe\">\n  <thead>\n    <tr style=\"text-align: right;\">\n      <th></th>\n      <th>crca_x</th>\n      <th>crcb_x</th>\n      <th>dataset</th>\n    </tr>\n  </thead>\n  <tbody>\n    <tr>\n      <th>77</th>\n      <td>CRC-53967696EDA005E2</td>\n      <td>CRC-9122B7D23A61495E</td>\n      <td>HuRI</td>\n    </tr>\n    <tr>\n      <th>176</th>\n      <td>CRC-83D963F06050A585</td>\n      <td>CRC-D1C2B66B8898F538</td>\n      <td>HuRI</td>\n    </tr>\n    <tr>\n      <th>177</th>\n      <td>CRC-32A1F3B808A6016C</td>\n      <td>CRC-D1C2B66B8898F538</td>\n      <td>HuRI</td>\n    </tr>\n    <tr>\n      <th>178</th>\n      <td>CRC-A7589E352F74672A</td>\n      <td>CRC-D1C2B66B8898F538</td>\n      <td>HuRI</td>\n    </tr>\n    <tr>\n      <th>179</th>\n      <td>CRC-48D4633DBC9110B6</td>\n      <td>CRC-D1C2B66B8898F538</td>\n      <td>HuRI</td>\n    </tr>\n  </tbody>\n</table>\n</div>"
     },
     "execution_count": 966,
     "metadata": {},
     "output_type": "execute_result"
    }
   ],
   "source": [
    "pairs = mm.loc[(mm.crca_x != mm.crca_y) | (\n",
    "        mm.crcb_x != mm.crcb_y), ['crca_x', 'crcb_x', 'dataset']].copy()\n",
    "pairs = dedup_pairs(pairs)\n",
    "print(len(pairs))\n",
    "pairs.head()"
   ],
   "metadata": {
    "collapsed": false
   }
  },
  {
   "cell_type": "code",
   "execution_count": 967,
   "outputs": [
    {
     "data": {
      "text/plain": "HuRI           1228\n1849 random     807\nhu.MAP           22\nName: dataset, dtype: int64"
     },
     "execution_count": 967,
     "metadata": {},
     "output_type": "execute_result"
    }
   ],
   "source": [
    "pairs.dataset.value_counts()"
   ],
   "metadata": {
    "collapsed": false
   }
  },
  {
   "cell_type": "code",
   "execution_count": 968,
   "outputs": [],
   "source": [
    "pairs[['crca_x', 'crcb_x']].to_csv(\n",
    "    'changed_pairs.tsv', sep='\\t', header=False, index=False)"
   ],
   "metadata": {
    "collapsed": false
   }
  },
  {
   "cell_type": "code",
   "execution_count": null,
   "outputs": [],
   "source": [],
   "metadata": {
    "collapsed": false
   }
  }
 ],
 "metadata": {
  "kernelspec": {
   "display_name": "Python 3",
   "language": "python",
   "name": "python3"
  },
  "language_info": {
   "codemirror_mode": {
    "name": "ipython",
    "version": 2
   },
   "file_extension": ".py",
   "mimetype": "text/x-python",
   "name": "python",
   "nbconvert_exporter": "python",
   "pygments_lexer": "ipython2",
   "version": "2.7.6"
  }
 },
 "nbformat": 4,
 "nbformat_minor": 0
}
