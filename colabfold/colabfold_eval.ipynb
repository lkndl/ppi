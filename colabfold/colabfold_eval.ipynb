{
 "cells": [
  {
   "cell_type": "code",
   "execution_count": null,
   "metadata": {
    "collapsed": true
   },
   "outputs": [],
   "source": [
    "!ssh -NL localhost:6072:lsf-server-2:6072 kaindl @ rostssh"
   ]
  },
  {
   "cell_type": "code",
   "execution_count": 126,
   "outputs": [],
   "source": [
    "from pathlib import Path\n",
    "\n",
    "import tqdm\n",
    "import json\n",
    "import pandas as pd\n",
    "\n",
    "import seaborn as sns"
   ],
   "metadata": {
    "collapsed": false
   }
  },
  {
   "cell_type": "code",
   "execution_count": 2,
   "outputs": [
    {
     "name": "stdout",
     "output_type": "stream",
     "text": [
      "/mnt/lsf-nas-1/os-shared/anaconda3/envs/kaindl_ppi/bin/python\r\n"
     ]
    }
   ],
   "source": [
    "!which python"
   ],
   "metadata": {
    "collapsed": false
   }
  },
  {
   "cell_type": "code",
   "execution_count": 97,
   "outputs": [
    {
     "data": {
      "text/plain": "(True, True, [1, 2, 3, 4, 5])"
     },
     "execution_count": 97,
     "metadata": {},
     "output_type": "execute_result"
    }
   ],
   "source": [
    "mh_dir = Path('/mnt/home/mheinzinger/deepppi1tb/'\n",
    "              'collabfold/leo_ppi_huri_test/')\n",
    "ppi_dir = Path('/mnt/project/kaindl/ppi/ppi_data/v2.1')\n",
    "chunks = list(range(1, 6))\n",
    "# chunks = [2]\n",
    "mh_dir.is_dir(), ppi_dir.is_dir(), chunks"
   ],
   "metadata": {
    "collapsed": false
   }
  },
  {
   "cell_type": "code",
   "execution_count": 98,
   "outputs": [
    {
     "name": "stderr",
     "output_type": "stream",
     "text": [
      "chunk_1: 100%|██████████| 332/332 [00:07<00:00, 46.90it/s]\n",
      "chunk_2: 100%|██████████| 250/250 [00:00<00:00, 2211.40it/s]\n",
      "chunk_3: 100%|██████████| 250/250 [00:05<00:00, 46.21it/s]\n",
      "chunk_4: 100%|██████████| 250/250 [00:00<00:00, 376.28it/s]\n",
      "chunk_5: 100%|██████████| 250/250 [00:00<00:00, 414.02it/s]\n"
     ]
    },
    {
     "data": {
      "text/plain": "     index                   ida                   idb  chunk\n0      328  CRC-EA0B02C83F3B6BF3  CRC-F80F0502B3B3838A      1\n1      167  CRC-86B3616504B05B7E  CRC-DF5A7DB1E4126063      1\n2      270  CRC-B39AC1F4D619570F  CRC-C0961E2BE50B24DF      1\n3       37  CRC-4EFC3AF5D5BBABD3  CRC-C14CD8B937A7B6E8      1\n4       30  CRC-4D56F5FD983211A6  CRC-521C53F367A3A29E      1\n..     ...                   ...                   ...    ...\n245     59  CRC-0D2C93B1D54EB09A  CRC-4D56F5FD983211A6      5\n246     88  CRC-17999B7FDD3C6A52  CRC-C4E47E9313BB47B5      5\n247    108  CRC-1AE2FAE62D2B28C6  CRC-63D09D927D452FCC      5\n248    174  CRC-2673C9DDD3C176E4  CRC-8A380144441AEA33      5\n249     22  CRC-03F6742DA4B798D0  CRC-89EDF1AE382246A2      5\n\n[1332 rows x 4 columns]",
      "text/html": "<div>\n<style scoped>\n    .dataframe tbody tr th:only-of-type {\n        vertical-align: middle;\n    }\n\n    .dataframe tbody tr th {\n        vertical-align: top;\n    }\n\n    .dataframe thead th {\n        text-align: right;\n    }\n</style>\n<table border=\"1\" class=\"dataframe\">\n  <thead>\n    <tr style=\"text-align: right;\">\n      <th></th>\n      <th>index</th>\n      <th>ida</th>\n      <th>idb</th>\n      <th>chunk</th>\n    </tr>\n  </thead>\n  <tbody>\n    <tr>\n      <th>0</th>\n      <td>328</td>\n      <td>CRC-EA0B02C83F3B6BF3</td>\n      <td>CRC-F80F0502B3B3838A</td>\n      <td>1</td>\n    </tr>\n    <tr>\n      <th>1</th>\n      <td>167</td>\n      <td>CRC-86B3616504B05B7E</td>\n      <td>CRC-DF5A7DB1E4126063</td>\n      <td>1</td>\n    </tr>\n    <tr>\n      <th>2</th>\n      <td>270</td>\n      <td>CRC-B39AC1F4D619570F</td>\n      <td>CRC-C0961E2BE50B24DF</td>\n      <td>1</td>\n    </tr>\n    <tr>\n      <th>3</th>\n      <td>37</td>\n      <td>CRC-4EFC3AF5D5BBABD3</td>\n      <td>CRC-C14CD8B937A7B6E8</td>\n      <td>1</td>\n    </tr>\n    <tr>\n      <th>4</th>\n      <td>30</td>\n      <td>CRC-4D56F5FD983211A6</td>\n      <td>CRC-521C53F367A3A29E</td>\n      <td>1</td>\n    </tr>\n    <tr>\n      <th>...</th>\n      <td>...</td>\n      <td>...</td>\n      <td>...</td>\n      <td>...</td>\n    </tr>\n    <tr>\n      <th>245</th>\n      <td>59</td>\n      <td>CRC-0D2C93B1D54EB09A</td>\n      <td>CRC-4D56F5FD983211A6</td>\n      <td>5</td>\n    </tr>\n    <tr>\n      <th>246</th>\n      <td>88</td>\n      <td>CRC-17999B7FDD3C6A52</td>\n      <td>CRC-C4E47E9313BB47B5</td>\n      <td>5</td>\n    </tr>\n    <tr>\n      <th>247</th>\n      <td>108</td>\n      <td>CRC-1AE2FAE62D2B28C6</td>\n      <td>CRC-63D09D927D452FCC</td>\n      <td>5</td>\n    </tr>\n    <tr>\n      <th>248</th>\n      <td>174</td>\n      <td>CRC-2673C9DDD3C176E4</td>\n      <td>CRC-8A380144441AEA33</td>\n      <td>5</td>\n    </tr>\n    <tr>\n      <th>249</th>\n      <td>22</td>\n      <td>CRC-03F6742DA4B798D0</td>\n      <td>CRC-89EDF1AE382246A2</td>\n      <td>5</td>\n    </tr>\n  </tbody>\n</table>\n<p>1332 rows × 4 columns</p>\n</div>"
     },
     "execution_count": 98,
     "metadata": {},
     "output_type": "execute_result"
    }
   ],
   "source": [
    "mapping = list()\n",
    "\n",
    "for chunk in chunks:\n",
    "    cd = dict()\n",
    "    for a3m in tqdm.tqdm(list(\n",
    "            (mh_dir / f'results_chunk_{chunk}').glob('*.a3m')),\n",
    "            desc=f'chunk_{chunk}'):\n",
    "        query = int(a3m.stem)\n",
    "        with a3m.open('r') as msa:\n",
    "            assert msa.readline().strip().startswith('#')\n",
    "            ida, idb = msa.readline().strip(\n",
    "            )[1:].split('\\t')[0].split('_')\n",
    "            cd[query] = ida, idb\n",
    "\n",
    "    cd = pd.DataFrame.from_dict(cd, orient='index',\n",
    "                                columns=['ida', 'idb']).reset_index()\n",
    "    cd['chunk'] = chunk\n",
    "\n",
    "    mapping.append(cd)\n",
    "mapping = pd.concat(mapping)\n",
    "mapping"
   ],
   "metadata": {
    "collapsed": false
   }
  },
  {
   "cell_type": "code",
   "execution_count": 99,
   "outputs": [
    {
     "data": {
      "text/plain": "                    ida                   idb  label\n0  CRC-001576EA78C61C85  CRC-045C9C9CAE0FD639      1\n1  CRC-001576EA78C61C85  CRC-12E45FF6696080F8      1\n2  CRC-001576EA78C61C85  CRC-2743716544288776      1\n3  CRC-001576EA78C61C85  CRC-2EDBC7981868EB12      1\n4  CRC-001576EA78C61C85  CRC-40897D5AF9B186A9      1",
      "text/html": "<div>\n<style scoped>\n    .dataframe tbody tr th:only-of-type {\n        vertical-align: middle;\n    }\n\n    .dataframe tbody tr th {\n        vertical-align: top;\n    }\n\n    .dataframe thead th {\n        text-align: right;\n    }\n</style>\n<table border=\"1\" class=\"dataframe\">\n  <thead>\n    <tr style=\"text-align: right;\">\n      <th></th>\n      <th>ida</th>\n      <th>idb</th>\n      <th>label</th>\n    </tr>\n  </thead>\n  <tbody>\n    <tr>\n      <th>0</th>\n      <td>CRC-001576EA78C61C85</td>\n      <td>CRC-045C9C9CAE0FD639</td>\n      <td>1</td>\n    </tr>\n    <tr>\n      <th>1</th>\n      <td>CRC-001576EA78C61C85</td>\n      <td>CRC-12E45FF6696080F8</td>\n      <td>1</td>\n    </tr>\n    <tr>\n      <th>2</th>\n      <td>CRC-001576EA78C61C85</td>\n      <td>CRC-2743716544288776</td>\n      <td>1</td>\n    </tr>\n    <tr>\n      <th>3</th>\n      <td>CRC-001576EA78C61C85</td>\n      <td>CRC-2EDBC7981868EB12</td>\n      <td>1</td>\n    </tr>\n    <tr>\n      <th>4</th>\n      <td>CRC-001576EA78C61C85</td>\n      <td>CRC-40897D5AF9B186A9</td>\n      <td>1</td>\n    </tr>\n  </tbody>\n</table>\n</div>"
     },
     "execution_count": 99,
     "metadata": {},
     "output_type": "execute_result"
    }
   ],
   "source": [
    "pairs = pd.read_csv(\n",
    "    ppi_dir / '1:1_small' / 'huri_test.tsv', sep='\\t')[\n",
    "    ['hash_A', 'hash_B', 'label']].rename(columns=dict(\n",
    "    hash_A='ida', hash_B='idb'))\n",
    "pairs.head()"
   ],
   "metadata": {
    "collapsed": false
   }
  },
  {
   "cell_type": "code",
   "execution_count": 100,
   "outputs": [
    {
     "data": {
      "text/plain": "      index                   ida                   idb  chunk  label\n0       328  CRC-EA0B02C83F3B6BF3  CRC-F80F0502B3B3838A      1      0\n1       167  CRC-86B3616504B05B7E  CRC-DF5A7DB1E4126063      1      0\n2       270  CRC-B39AC1F4D619570F  CRC-C0961E2BE50B24DF      1      0\n3        37  CRC-4EFC3AF5D5BBABD3  CRC-C14CD8B937A7B6E8      1      0\n4        30  CRC-4D56F5FD983211A6  CRC-521C53F367A3A29E      1      0\n...     ...                   ...                   ...    ...    ...\n1327     59  CRC-0D2C93B1D54EB09A  CRC-4D56F5FD983211A6      5      1\n1328     88  CRC-17999B7FDD3C6A52  CRC-C4E47E9313BB47B5      5      1\n1329    108  CRC-1AE2FAE62D2B28C6  CRC-63D09D927D452FCC      5      1\n1330    174  CRC-2673C9DDD3C176E4  CRC-8A380144441AEA33      5      1\n1331     22  CRC-03F6742DA4B798D0  CRC-89EDF1AE382246A2      5      1\n\n[1332 rows x 5 columns]",
      "text/html": "<div>\n<style scoped>\n    .dataframe tbody tr th:only-of-type {\n        vertical-align: middle;\n    }\n\n    .dataframe tbody tr th {\n        vertical-align: top;\n    }\n\n    .dataframe thead th {\n        text-align: right;\n    }\n</style>\n<table border=\"1\" class=\"dataframe\">\n  <thead>\n    <tr style=\"text-align: right;\">\n      <th></th>\n      <th>index</th>\n      <th>ida</th>\n      <th>idb</th>\n      <th>chunk</th>\n      <th>label</th>\n    </tr>\n  </thead>\n  <tbody>\n    <tr>\n      <th>0</th>\n      <td>328</td>\n      <td>CRC-EA0B02C83F3B6BF3</td>\n      <td>CRC-F80F0502B3B3838A</td>\n      <td>1</td>\n      <td>0</td>\n    </tr>\n    <tr>\n      <th>1</th>\n      <td>167</td>\n      <td>CRC-86B3616504B05B7E</td>\n      <td>CRC-DF5A7DB1E4126063</td>\n      <td>1</td>\n      <td>0</td>\n    </tr>\n    <tr>\n      <th>2</th>\n      <td>270</td>\n      <td>CRC-B39AC1F4D619570F</td>\n      <td>CRC-C0961E2BE50B24DF</td>\n      <td>1</td>\n      <td>0</td>\n    </tr>\n    <tr>\n      <th>3</th>\n      <td>37</td>\n      <td>CRC-4EFC3AF5D5BBABD3</td>\n      <td>CRC-C14CD8B937A7B6E8</td>\n      <td>1</td>\n      <td>0</td>\n    </tr>\n    <tr>\n      <th>4</th>\n      <td>30</td>\n      <td>CRC-4D56F5FD983211A6</td>\n      <td>CRC-521C53F367A3A29E</td>\n      <td>1</td>\n      <td>0</td>\n    </tr>\n    <tr>\n      <th>...</th>\n      <td>...</td>\n      <td>...</td>\n      <td>...</td>\n      <td>...</td>\n      <td>...</td>\n    </tr>\n    <tr>\n      <th>1327</th>\n      <td>59</td>\n      <td>CRC-0D2C93B1D54EB09A</td>\n      <td>CRC-4D56F5FD983211A6</td>\n      <td>5</td>\n      <td>1</td>\n    </tr>\n    <tr>\n      <th>1328</th>\n      <td>88</td>\n      <td>CRC-17999B7FDD3C6A52</td>\n      <td>CRC-C4E47E9313BB47B5</td>\n      <td>5</td>\n      <td>1</td>\n    </tr>\n    <tr>\n      <th>1329</th>\n      <td>108</td>\n      <td>CRC-1AE2FAE62D2B28C6</td>\n      <td>CRC-63D09D927D452FCC</td>\n      <td>5</td>\n      <td>1</td>\n    </tr>\n    <tr>\n      <th>1330</th>\n      <td>174</td>\n      <td>CRC-2673C9DDD3C176E4</td>\n      <td>CRC-8A380144441AEA33</td>\n      <td>5</td>\n      <td>1</td>\n    </tr>\n    <tr>\n      <th>1331</th>\n      <td>22</td>\n      <td>CRC-03F6742DA4B798D0</td>\n      <td>CRC-89EDF1AE382246A2</td>\n      <td>5</td>\n      <td>1</td>\n    </tr>\n  </tbody>\n</table>\n<p>1332 rows × 5 columns</p>\n</div>"
     },
     "execution_count": 100,
     "metadata": {},
     "output_type": "execute_result"
    }
   ],
   "source": [
    "mp = pd.merge(mapping, pairs, on=['ida', 'idb'])\n",
    "mp"
   ],
   "metadata": {
    "collapsed": false
   }
  },
  {
   "cell_type": "code",
   "execution_count": 101,
   "outputs": [
    {
     "name": "stderr",
     "output_type": "stream",
     "text": [
      "chunk_1: 100%|██████████| 231/231 [00:25<00:00,  9.10it/s]\n",
      "chunk_2: 100%|██████████| 220/220 [00:13<00:00, 16.48it/s]\n",
      "chunk_3: 100%|██████████| 191/191 [00:23<00:00,  8.09it/s]\n",
      "chunk_4: 100%|██████████| 177/177 [00:11<00:00, 14.85it/s]\n",
      "chunk_5: 100%|██████████| 146/146 [00:05<00:00, 25.16it/s]\n"
     ]
    },
    {
     "data": {
      "text/plain": "     index  model   ptm  iptm  chunk\n0       39      1  0.34  0.22      1\n1      203      2  0.49  0.63      1\n2      282      5  0.65  0.19      1\n3       75      1  0.50  0.13      1\n4      306      1  0.24  0.16      1\n..     ...    ...   ...   ...    ...\n141    171      1  0.25  0.11      5\n142    189      1  0.26  0.12      5\n143    207      3  0.59  0.19      5\n144    188      3  0.45  0.29      5\n145    195      5  0.49  0.18      5\n\n[965 rows x 5 columns]",
      "text/html": "<div>\n<style scoped>\n    .dataframe tbody tr th:only-of-type {\n        vertical-align: middle;\n    }\n\n    .dataframe tbody tr th {\n        vertical-align: top;\n    }\n\n    .dataframe thead th {\n        text-align: right;\n    }\n</style>\n<table border=\"1\" class=\"dataframe\">\n  <thead>\n    <tr style=\"text-align: right;\">\n      <th></th>\n      <th>index</th>\n      <th>model</th>\n      <th>ptm</th>\n      <th>iptm</th>\n      <th>chunk</th>\n    </tr>\n  </thead>\n  <tbody>\n    <tr>\n      <th>0</th>\n      <td>39</td>\n      <td>1</td>\n      <td>0.34</td>\n      <td>0.22</td>\n      <td>1</td>\n    </tr>\n    <tr>\n      <th>1</th>\n      <td>203</td>\n      <td>2</td>\n      <td>0.49</td>\n      <td>0.63</td>\n      <td>1</td>\n    </tr>\n    <tr>\n      <th>2</th>\n      <td>282</td>\n      <td>5</td>\n      <td>0.65</td>\n      <td>0.19</td>\n      <td>1</td>\n    </tr>\n    <tr>\n      <th>3</th>\n      <td>75</td>\n      <td>1</td>\n      <td>0.50</td>\n      <td>0.13</td>\n      <td>1</td>\n    </tr>\n    <tr>\n      <th>4</th>\n      <td>306</td>\n      <td>1</td>\n      <td>0.24</td>\n      <td>0.16</td>\n      <td>1</td>\n    </tr>\n    <tr>\n      <th>...</th>\n      <td>...</td>\n      <td>...</td>\n      <td>...</td>\n      <td>...</td>\n      <td>...</td>\n    </tr>\n    <tr>\n      <th>141</th>\n      <td>171</td>\n      <td>1</td>\n      <td>0.25</td>\n      <td>0.11</td>\n      <td>5</td>\n    </tr>\n    <tr>\n      <th>142</th>\n      <td>189</td>\n      <td>1</td>\n      <td>0.26</td>\n      <td>0.12</td>\n      <td>5</td>\n    </tr>\n    <tr>\n      <th>143</th>\n      <td>207</td>\n      <td>3</td>\n      <td>0.59</td>\n      <td>0.19</td>\n      <td>5</td>\n    </tr>\n    <tr>\n      <th>144</th>\n      <td>188</td>\n      <td>3</td>\n      <td>0.45</td>\n      <td>0.29</td>\n      <td>5</td>\n    </tr>\n    <tr>\n      <th>145</th>\n      <td>195</td>\n      <td>5</td>\n      <td>0.49</td>\n      <td>0.18</td>\n      <td>5</td>\n    </tr>\n  </tbody>\n</table>\n<p>965 rows × 5 columns</p>\n</div>"
     },
     "execution_count": 101,
     "metadata": {},
     "output_type": "execute_result"
    }
   ],
   "source": [
    "scores = list()\n",
    "\n",
    "for chunk in chunks:\n",
    "    sd = dict()\n",
    "    for f in tqdm.tqdm(list(\n",
    "            (mh_dir / f'results_chunk_{chunk}/predictions'\n",
    "            ).glob('*_unrelaxed_rank_1_model_*.json')),\n",
    "            desc=f'chunk_{chunk}'):\n",
    "        query, *_, model, _ = f.stem.split('_')\n",
    "        with open(f, 'r') as json_file:\n",
    "            js = json.load(json_file)\n",
    "\n",
    "        sd[int(query)] = int(model), js['ptm'], js['iptm']\n",
    "\n",
    "    sd = pd.DataFrame.from_dict(\n",
    "        sd, orient='index',\n",
    "        columns=['model', 'ptm', 'iptm']).reset_index()\n",
    "    sd['chunk'] = chunk\n",
    "\n",
    "    scores.append(sd)\n",
    "scores = pd.concat(scores)\n",
    "scores"
   ],
   "metadata": {
    "collapsed": false
   }
  },
  {
   "cell_type": "code",
   "execution_count": 102,
   "outputs": [
    {
     "data": {
      "text/plain": "     index                   ida                   idb  chunk  label  model  \\\n0      167  CRC-86B3616504B05B7E  CRC-DF5A7DB1E4126063      1      0      5   \n1      160  CRC-8467F2B515681CCA  CRC-B89D59E8118684A3      1      0      1   \n2      277  CRC-B7D1FE64F242B25A  CRC-DB18B8F3FABFBAF6      1      0      2   \n3      112  CRC-70F6C604E9E26662  CRC-7183BF01D2D7D069      1      0      3   \n4      205  CRC-95DCD6FAEED621E6  CRC-D33DF6D5354C6A58      1      0      5   \n..     ...                   ...                   ...    ...    ...    ...   \n960     57  CRC-0CC610356D4AA040  CRC-7183BF01D2D7D069      5      1      4   \n961    218  CRC-2CBB21C35AF9623A  CRC-C26A21E33C60AA78      5      1      4   \n962     88  CRC-17999B7FDD3C6A52  CRC-C4E47E9313BB47B5      5      1      1   \n963    174  CRC-2673C9DDD3C176E4  CRC-8A380144441AEA33      5      1      4   \n964     22  CRC-03F6742DA4B798D0  CRC-89EDF1AE382246A2      5      1      3   \n\n      ptm  iptm  \n0    0.28  0.13  \n1    0.30  0.36  \n2    0.26  0.12  \n3    0.43  0.11  \n4    0.41  0.23  \n..    ...   ...  \n960  0.27  0.21  \n961  0.27  0.27  \n962  0.23  0.12  \n963  0.25  0.27  \n964  0.51  0.17  \n\n[965 rows x 8 columns]",
      "text/html": "<div>\n<style scoped>\n    .dataframe tbody tr th:only-of-type {\n        vertical-align: middle;\n    }\n\n    .dataframe tbody tr th {\n        vertical-align: top;\n    }\n\n    .dataframe thead th {\n        text-align: right;\n    }\n</style>\n<table border=\"1\" class=\"dataframe\">\n  <thead>\n    <tr style=\"text-align: right;\">\n      <th></th>\n      <th>index</th>\n      <th>ida</th>\n      <th>idb</th>\n      <th>chunk</th>\n      <th>label</th>\n      <th>model</th>\n      <th>ptm</th>\n      <th>iptm</th>\n    </tr>\n  </thead>\n  <tbody>\n    <tr>\n      <th>0</th>\n      <td>167</td>\n      <td>CRC-86B3616504B05B7E</td>\n      <td>CRC-DF5A7DB1E4126063</td>\n      <td>1</td>\n      <td>0</td>\n      <td>5</td>\n      <td>0.28</td>\n      <td>0.13</td>\n    </tr>\n    <tr>\n      <th>1</th>\n      <td>160</td>\n      <td>CRC-8467F2B515681CCA</td>\n      <td>CRC-B89D59E8118684A3</td>\n      <td>1</td>\n      <td>0</td>\n      <td>1</td>\n      <td>0.30</td>\n      <td>0.36</td>\n    </tr>\n    <tr>\n      <th>2</th>\n      <td>277</td>\n      <td>CRC-B7D1FE64F242B25A</td>\n      <td>CRC-DB18B8F3FABFBAF6</td>\n      <td>1</td>\n      <td>0</td>\n      <td>2</td>\n      <td>0.26</td>\n      <td>0.12</td>\n    </tr>\n    <tr>\n      <th>3</th>\n      <td>112</td>\n      <td>CRC-70F6C604E9E26662</td>\n      <td>CRC-7183BF01D2D7D069</td>\n      <td>1</td>\n      <td>0</td>\n      <td>3</td>\n      <td>0.43</td>\n      <td>0.11</td>\n    </tr>\n    <tr>\n      <th>4</th>\n      <td>205</td>\n      <td>CRC-95DCD6FAEED621E6</td>\n      <td>CRC-D33DF6D5354C6A58</td>\n      <td>1</td>\n      <td>0</td>\n      <td>5</td>\n      <td>0.41</td>\n      <td>0.23</td>\n    </tr>\n    <tr>\n      <th>...</th>\n      <td>...</td>\n      <td>...</td>\n      <td>...</td>\n      <td>...</td>\n      <td>...</td>\n      <td>...</td>\n      <td>...</td>\n      <td>...</td>\n    </tr>\n    <tr>\n      <th>960</th>\n      <td>57</td>\n      <td>CRC-0CC610356D4AA040</td>\n      <td>CRC-7183BF01D2D7D069</td>\n      <td>5</td>\n      <td>1</td>\n      <td>4</td>\n      <td>0.27</td>\n      <td>0.21</td>\n    </tr>\n    <tr>\n      <th>961</th>\n      <td>218</td>\n      <td>CRC-2CBB21C35AF9623A</td>\n      <td>CRC-C26A21E33C60AA78</td>\n      <td>5</td>\n      <td>1</td>\n      <td>4</td>\n      <td>0.27</td>\n      <td>0.27</td>\n    </tr>\n    <tr>\n      <th>962</th>\n      <td>88</td>\n      <td>CRC-17999B7FDD3C6A52</td>\n      <td>CRC-C4E47E9313BB47B5</td>\n      <td>5</td>\n      <td>1</td>\n      <td>1</td>\n      <td>0.23</td>\n      <td>0.12</td>\n    </tr>\n    <tr>\n      <th>963</th>\n      <td>174</td>\n      <td>CRC-2673C9DDD3C176E4</td>\n      <td>CRC-8A380144441AEA33</td>\n      <td>5</td>\n      <td>1</td>\n      <td>4</td>\n      <td>0.25</td>\n      <td>0.27</td>\n    </tr>\n    <tr>\n      <th>964</th>\n      <td>22</td>\n      <td>CRC-03F6742DA4B798D0</td>\n      <td>CRC-89EDF1AE382246A2</td>\n      <td>5</td>\n      <td>1</td>\n      <td>3</td>\n      <td>0.51</td>\n      <td>0.17</td>\n    </tr>\n  </tbody>\n</table>\n<p>965 rows × 8 columns</p>\n</div>"
     },
     "execution_count": 102,
     "metadata": {},
     "output_type": "execute_result"
    }
   ],
   "source": [
    "ov = pd.merge(mp, scores, on=['index', 'chunk'])\n",
    "ov"
   ],
   "metadata": {
    "collapsed": false
   }
  },
  {
   "cell_type": "code",
   "execution_count": 144,
   "outputs": [
    {
     "data": {
      "text/plain": "     index                   ida                   idb  chunk  label  model  \\\n789     36  CRC-35B3171253CC69CF  CRC-B0DA1FC8FA6B766A      4      1      3   \n899     91  CRC-17ACB540FD5B975B  CRC-5B070FE11D78D0A4      5      1      3   \n518     61  CRC-9DE436A7FF533443  CRC-B2ED164C9F379EDD      3      1      2   \n840     94  CRC-17ACB540FD5B975B  CRC-DC3E535979396B67      5      1      4   \n955    211  CRC-2CBB21C35AF9623A  CRC-56BE16322D749904      5      1      5   \n..     ...                   ...                   ...    ...    ...    ...   \n739      9  CRC-324AD76EA1165C44  CRC-47C45EA0BB722E09      4      1      2   \n704    102  CRC-4954E7F712A87BBE  CRC-B1163143D1292259      4      1      2   \n28       3  CRC-44AD1817D6C536D6  CRC-B62134DD1BEB636B      1      0      4   \n653    242  CRC-817752F20E262FD3  CRC-EF419358B7977E36      4      1      1   \n681    104  CRC-4954E7F712A87BBE  CRC-C3CF7EDEF95D2241      4      1      1   \n\n      ptm  iptm  \n789  0.82  0.90  \n899  0.50  0.88  \n518  0.86  0.88  \n840  0.42  0.88  \n955  0.58  0.87  \n..    ...   ...  \n739  0.22  0.07  \n704  0.10  0.07  \n28   0.30  0.07  \n653  0.40  0.07  \n681  0.09  0.06  \n\n[965 rows x 8 columns]",
      "text/html": "<div>\n<style scoped>\n    .dataframe tbody tr th:only-of-type {\n        vertical-align: middle;\n    }\n\n    .dataframe tbody tr th {\n        vertical-align: top;\n    }\n\n    .dataframe thead th {\n        text-align: right;\n    }\n</style>\n<table border=\"1\" class=\"dataframe\">\n  <thead>\n    <tr style=\"text-align: right;\">\n      <th></th>\n      <th>index</th>\n      <th>ida</th>\n      <th>idb</th>\n      <th>chunk</th>\n      <th>label</th>\n      <th>model</th>\n      <th>ptm</th>\n      <th>iptm</th>\n    </tr>\n  </thead>\n  <tbody>\n    <tr>\n      <th>789</th>\n      <td>36</td>\n      <td>CRC-35B3171253CC69CF</td>\n      <td>CRC-B0DA1FC8FA6B766A</td>\n      <td>4</td>\n      <td>1</td>\n      <td>3</td>\n      <td>0.82</td>\n      <td>0.90</td>\n    </tr>\n    <tr>\n      <th>899</th>\n      <td>91</td>\n      <td>CRC-17ACB540FD5B975B</td>\n      <td>CRC-5B070FE11D78D0A4</td>\n      <td>5</td>\n      <td>1</td>\n      <td>3</td>\n      <td>0.50</td>\n      <td>0.88</td>\n    </tr>\n    <tr>\n      <th>518</th>\n      <td>61</td>\n      <td>CRC-9DE436A7FF533443</td>\n      <td>CRC-B2ED164C9F379EDD</td>\n      <td>3</td>\n      <td>1</td>\n      <td>2</td>\n      <td>0.86</td>\n      <td>0.88</td>\n    </tr>\n    <tr>\n      <th>840</th>\n      <td>94</td>\n      <td>CRC-17ACB540FD5B975B</td>\n      <td>CRC-DC3E535979396B67</td>\n      <td>5</td>\n      <td>1</td>\n      <td>4</td>\n      <td>0.42</td>\n      <td>0.88</td>\n    </tr>\n    <tr>\n      <th>955</th>\n      <td>211</td>\n      <td>CRC-2CBB21C35AF9623A</td>\n      <td>CRC-56BE16322D749904</td>\n      <td>5</td>\n      <td>1</td>\n      <td>5</td>\n      <td>0.58</td>\n      <td>0.87</td>\n    </tr>\n    <tr>\n      <th>...</th>\n      <td>...</td>\n      <td>...</td>\n      <td>...</td>\n      <td>...</td>\n      <td>...</td>\n      <td>...</td>\n      <td>...</td>\n      <td>...</td>\n    </tr>\n    <tr>\n      <th>739</th>\n      <td>9</td>\n      <td>CRC-324AD76EA1165C44</td>\n      <td>CRC-47C45EA0BB722E09</td>\n      <td>4</td>\n      <td>1</td>\n      <td>2</td>\n      <td>0.22</td>\n      <td>0.07</td>\n    </tr>\n    <tr>\n      <th>704</th>\n      <td>102</td>\n      <td>CRC-4954E7F712A87BBE</td>\n      <td>CRC-B1163143D1292259</td>\n      <td>4</td>\n      <td>1</td>\n      <td>2</td>\n      <td>0.10</td>\n      <td>0.07</td>\n    </tr>\n    <tr>\n      <th>28</th>\n      <td>3</td>\n      <td>CRC-44AD1817D6C536D6</td>\n      <td>CRC-B62134DD1BEB636B</td>\n      <td>1</td>\n      <td>0</td>\n      <td>4</td>\n      <td>0.30</td>\n      <td>0.07</td>\n    </tr>\n    <tr>\n      <th>653</th>\n      <td>242</td>\n      <td>CRC-817752F20E262FD3</td>\n      <td>CRC-EF419358B7977E36</td>\n      <td>4</td>\n      <td>1</td>\n      <td>1</td>\n      <td>0.40</td>\n      <td>0.07</td>\n    </tr>\n    <tr>\n      <th>681</th>\n      <td>104</td>\n      <td>CRC-4954E7F712A87BBE</td>\n      <td>CRC-C3CF7EDEF95D2241</td>\n      <td>4</td>\n      <td>1</td>\n      <td>1</td>\n      <td>0.09</td>\n      <td>0.06</td>\n    </tr>\n  </tbody>\n</table>\n<p>965 rows × 8 columns</p>\n</div>"
     },
     "execution_count": 144,
     "metadata": {},
     "output_type": "execute_result"
    }
   ],
   "source": [
    "ov.sort_values(by='iptm', ascending=False)"
   ],
   "metadata": {
    "collapsed": false
   }
  },
  {
   "cell_type": "code",
   "execution_count": 104,
   "outputs": [
    {
     "data": {
      "text/plain": "0    514\n1    451\nName: label, dtype: int64"
     },
     "execution_count": 104,
     "metadata": {},
     "output_type": "execute_result"
    }
   ],
   "source": [
    "ov.label.value_counts()"
   ],
   "metadata": {
    "collapsed": false
   }
  },
  {
   "cell_type": "code",
   "execution_count": 105,
   "outputs": [
    {
     "data": {
      "text/plain": "count    965.000000\nmean       0.230684\nstd        0.144230\nmin        0.060000\n25%        0.140000\n50%        0.180000\n75%        0.270000\nmax        0.900000\nName: iptm, dtype: float64"
     },
     "execution_count": 105,
     "metadata": {},
     "output_type": "execute_result"
    }
   ],
   "source": [
    "ov.iptm.describe()"
   ],
   "metadata": {
    "collapsed": false
   }
  },
  {
   "cell_type": "code",
   "execution_count": 106,
   "outputs": [
    {
     "data": {
      "text/plain": "0.08316145744563654"
     },
     "execution_count": 106,
     "metadata": {},
     "output_type": "execute_result"
    }
   ],
   "source": [
    "ov.iptm.corr(ov.label, method='spearman')"
   ],
   "metadata": {
    "collapsed": false
   }
  },
  {
   "cell_type": "code",
   "execution_count": 141,
   "outputs": [
    {
     "data": {
      "text/plain": "0.058638128981772904"
     },
     "execution_count": 141,
     "metadata": {},
     "output_type": "execute_result"
    }
   ],
   "source": [
    "ov.ptm.corr(ov.label, method='spearman')"
   ],
   "metadata": {
    "collapsed": false
   }
  },
  {
   "cell_type": "code",
   "execution_count": 135,
   "outputs": [
    {
     "data": {
      "text/plain": "<seaborn.axisgrid.FacetGrid at 0x15390039be80>"
     },
     "execution_count": 135,
     "metadata": {},
     "output_type": "execute_result"
    },
    {
     "data": {
      "text/plain": "<Figure size 298.875x240 with 1 Axes>",
      "image/png": "[encoded data removed]"
     },
     "metadata": {},
     "output_type": "display_data"
    }
   ],
   "source": [
    "g = sns.displot(data=ov,\n",
    "                y='iptm',\n",
    "                hue='label',\n",
    "                kind='ecdf',\n",
    "                height=2.4,\n",
    "                )\n",
    "g.set(xlim=(0, 1), ylim=(0, 1))"
   ],
   "metadata": {
    "collapsed": false
   }
  },
  {
   "cell_type": "code",
   "execution_count": 137,
   "outputs": [
    {
     "data": {
      "text/plain": "<seaborn.axisgrid.FacetGrid at 0x1539002be380>"
     },
     "execution_count": 137,
     "metadata": {},
     "output_type": "execute_result"
    },
    {
     "data": {
      "text/plain": "<Figure size 298.875x240 with 1 Axes>",
      "image/png": "[encoded data removed]"
     },
     "metadata": {},
     "output_type": "display_data"
    }
   ],
   "source": [
    "g = sns.displot(data=ov,\n",
    "                x='iptm',\n",
    "                hue='label',\n",
    "                height=2.4,\n",
    "                kind='kde',\n",
    "                # kind='hist',\n",
    "                # stat='density',\n",
    "                # bins=25,\n",
    "                )\n",
    "g.set(xlim=(0, 1))"
   ],
   "metadata": {
    "collapsed": false
   }
  },
  {
   "cell_type": "code",
   "execution_count": 146,
   "outputs": [
    {
     "data": {
      "text/plain": "<seaborn.axisgrid.FacetGrid at 0x1538ffa4c610>"
     },
     "execution_count": 146,
     "metadata": {},
     "output_type": "execute_result"
    },
    {
     "data": {
      "text/plain": "<Figure size 298.875x240 with 1 Axes>",
      "image/png": "[encoded data removed]"
     },
     "metadata": {},
     "output_type": "display_data"
    }
   ],
   "source": [
    "g = sns.displot(data=ov,\n",
    "                x='iptm',\n",
    "                hue='label',\n",
    "                height=2.4,\n",
    "                # kind='kde',\n",
    "                kind='hist',\n",
    "                stat='density',\n",
    "                bins=50,\n",
    "                )\n",
    "g.set(xlim=(0, 1))"
   ],
   "metadata": {
    "collapsed": false
   }
  },
  {
   "cell_type": "code",
   "execution_count": 152,
   "outputs": [
    {
     "data": {
      "text/plain": "0.16242097937173566"
     },
     "execution_count": 152,
     "metadata": {},
     "output_type": "execute_result"
    }
   ],
   "source": [
    "ev = ov.loc[ov.iptm > .5].copy()\n",
    "ev.iptm.corr(ev.label, method='spearman')"
   ],
   "metadata": {
    "collapsed": false
   }
  },
  {
   "cell_type": "code",
   "execution_count": null,
   "outputs": [],
   "source": [],
   "metadata": {
    "collapsed": false
   }
  }
 ],
 "metadata": {
  "kernelspec": {
   "display_name": "Python 3",
   "language": "python",
   "name": "python3"
  },
  "language_info": {
   "codemirror_mode": {
    "name": "ipython",
    "version": 2
   },
   "file_extension": ".py",
   "mimetype": "text/x-python",
   "name": "python",
   "nbconvert_exporter": "python",
   "pygments_lexer": "ipython2",
   "version": "2.7.6"
  }
 },
 "nbformat": 4,
 "nbformat_minor": 0
}
