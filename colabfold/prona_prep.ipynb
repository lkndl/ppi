{
 "cells": [
  {
   "cell_type": "code",
   "execution_count": 18,
   "outputs": [],
   "source": [
    "import pandas as pd\n",
    "from Bio import SeqIO\n",
    "from pathlib import Path\n",
    "\n",
    "from ppi_utils.general import to_fasta, get_ids"
   ],
   "metadata": {
    "collapsed": false
   }
  },
  {
   "cell_type": "code",
   "execution_count": 19,
   "outputs": [
    {
     "name": "stdout",
     "output_type": "stream",
     "text": [
      "/home/quirin/mambaforge/envs/ppi/bin/pip\r\n"
     ]
    }
   ],
   "source": [
    "!which pip"
   ],
   "metadata": {
    "collapsed": false
   }
  },
  {
   "cell_type": "code",
   "execution_count": 20,
   "outputs": [],
   "source": [
    "huintaf_dir = Path('/home/quirin/PYTHON/huintaf2/data')\n",
    "ppi_dir = Path('.').resolve().parents[1] / 'ppi/ppi_data/v2.1'"
   ],
   "metadata": {
    "collapsed": false
   }
  },
  {
   "cell_type": "markdown",
   "source": [
    "### load the TSV from `huintaf.ipynb`"
   ],
   "metadata": {
    "collapsed": false
   }
  },
  {
   "cell_type": "code",
   "execution_count": 21,
   "outputs": [
    {
     "data": {
      "text/plain": "          ida     idb    pdockq dataset                              pdbfile  \\\n0  A0A024R0Y4  O14964  0.077304    HuRI  ENSG00000185359-ENSG00000276234.pdb   \n1  A0A024R0Y4  O15287  0.038752    HuRI  ENSG00000221829-ENSG00000276234.pdb   \n2  A0A024R0Y4  O60573  0.034888    HuRI  ENSG00000135930-ENSG00000276234.pdb   \n3  A0A024R0Y4  O75431  0.075548    HuRI  ENSG00000128654-ENSG00000276234.pdb   \n4  A0A024R0Y4  O75528  0.730883    HuRI  ENSG00000171148-ENSG00000276234.pdb   \n\n   prob                  crca                  crcb      capri         za  \\\n0   1.0  CRC-27D3F4F4D5EFF3C8  CRC-DD64167A19DCF030  incorrect  11.839822   \n1   1.0  CRC-27D3F4F4D5EFF3C8  CRC-4BC7475472AC3C84  incorrect  11.839822   \n2   1.0  CRC-27D3F4F4D5EFF3C8  CRC-3D3075BFA48B3C12  incorrect  11.839822   \n3   1.0  CRC-27D3F4F4D5EFF3C8  CRC-3A2EF476F1C78465  incorrect  11.839822   \n4   1.0  CRC-27D3F4F4D5EFF3C8  CRC-C86153CFA83F9226     medium  11.839822   \n\n          zb        da        db  min_chezod  max_diso  max_chezod  avg_chezod  \n0   6.937123  0.158014  0.516088    6.937123  0.516088   11.839822    9.388472  \n1  11.712423  0.158014  0.127010   11.712423  0.158014   11.839822   11.776122  \n2   9.707793  0.158014  0.334694    9.707793  0.334694   11.839822   10.773807  \n3  12.701147  0.158014  0.087452   11.839822  0.158014   12.701147   12.270484  \n4   8.650904  0.158014  0.388889    8.650904  0.388889   11.839822   10.245363  ",
      "text/html": "<div>\n<style scoped>\n    .dataframe tbody tr th:only-of-type {\n        vertical-align: middle;\n    }\n\n    .dataframe tbody tr th {\n        vertical-align: top;\n    }\n\n    .dataframe thead th {\n        text-align: right;\n    }\n</style>\n<table border=\"1\" class=\"dataframe\">\n  <thead>\n    <tr style=\"text-align: right;\">\n      <th></th>\n      <th>ida</th>\n      <th>idb</th>\n      <th>pdockq</th>\n      <th>dataset</th>\n      <th>pdbfile</th>\n      <th>prob</th>\n      <th>crca</th>\n      <th>crcb</th>\n      <th>capri</th>\n      <th>za</th>\n      <th>zb</th>\n      <th>da</th>\n      <th>db</th>\n      <th>min_chezod</th>\n      <th>max_diso</th>\n      <th>max_chezod</th>\n      <th>avg_chezod</th>\n    </tr>\n  </thead>\n  <tbody>\n    <tr>\n      <th>0</th>\n      <td>A0A024R0Y4</td>\n      <td>O14964</td>\n      <td>0.077304</td>\n      <td>HuRI</td>\n      <td>ENSG00000185359-ENSG00000276234.pdb</td>\n      <td>1.0</td>\n      <td>CRC-27D3F4F4D5EFF3C8</td>\n      <td>CRC-DD64167A19DCF030</td>\n      <td>incorrect</td>\n      <td>11.839822</td>\n      <td>6.937123</td>\n      <td>0.158014</td>\n      <td>0.516088</td>\n      <td>6.937123</td>\n      <td>0.516088</td>\n      <td>11.839822</td>\n      <td>9.388472</td>\n    </tr>\n    <tr>\n      <th>1</th>\n      <td>A0A024R0Y4</td>\n      <td>O15287</td>\n      <td>0.038752</td>\n      <td>HuRI</td>\n      <td>ENSG00000221829-ENSG00000276234.pdb</td>\n      <td>1.0</td>\n      <td>CRC-27D3F4F4D5EFF3C8</td>\n      <td>CRC-4BC7475472AC3C84</td>\n      <td>incorrect</td>\n      <td>11.839822</td>\n      <td>11.712423</td>\n      <td>0.158014</td>\n      <td>0.127010</td>\n      <td>11.712423</td>\n      <td>0.158014</td>\n      <td>11.839822</td>\n      <td>11.776122</td>\n    </tr>\n    <tr>\n      <th>2</th>\n      <td>A0A024R0Y4</td>\n      <td>O60573</td>\n      <td>0.034888</td>\n      <td>HuRI</td>\n      <td>ENSG00000135930-ENSG00000276234.pdb</td>\n      <td>1.0</td>\n      <td>CRC-27D3F4F4D5EFF3C8</td>\n      <td>CRC-3D3075BFA48B3C12</td>\n      <td>incorrect</td>\n      <td>11.839822</td>\n      <td>9.707793</td>\n      <td>0.158014</td>\n      <td>0.334694</td>\n      <td>9.707793</td>\n      <td>0.334694</td>\n      <td>11.839822</td>\n      <td>10.773807</td>\n    </tr>\n    <tr>\n      <th>3</th>\n      <td>A0A024R0Y4</td>\n      <td>O75431</td>\n      <td>0.075548</td>\n      <td>HuRI</td>\n      <td>ENSG00000128654-ENSG00000276234.pdb</td>\n      <td>1.0</td>\n      <td>CRC-27D3F4F4D5EFF3C8</td>\n      <td>CRC-3A2EF476F1C78465</td>\n      <td>incorrect</td>\n      <td>11.839822</td>\n      <td>12.701147</td>\n      <td>0.158014</td>\n      <td>0.087452</td>\n      <td>11.839822</td>\n      <td>0.158014</td>\n      <td>12.701147</td>\n      <td>12.270484</td>\n    </tr>\n    <tr>\n      <th>4</th>\n      <td>A0A024R0Y4</td>\n      <td>O75528</td>\n      <td>0.730883</td>\n      <td>HuRI</td>\n      <td>ENSG00000171148-ENSG00000276234.pdb</td>\n      <td>1.0</td>\n      <td>CRC-27D3F4F4D5EFF3C8</td>\n      <td>CRC-C86153CFA83F9226</td>\n      <td>medium</td>\n      <td>11.839822</td>\n      <td>8.650904</td>\n      <td>0.158014</td>\n      <td>0.388889</td>\n      <td>8.650904</td>\n      <td>0.388889</td>\n      <td>11.839822</td>\n      <td>10.245363</td>\n    </tr>\n  </tbody>\n</table>\n</div>"
     },
     "execution_count": 21,
     "metadata": {},
     "output_type": "execute_result"
    }
   ],
   "source": [
    "h4 = pd.read_csv('huintaf2_scores.tsv', sep='\\t')\n",
    "h4.head()"
   ],
   "metadata": {
    "collapsed": false
   }
  },
  {
   "cell_type": "code",
   "execution_count": 22,
   "outputs": [
    {
     "data": {
      "text/plain": "HuRI            55638\nhu.MAP          12210\n516 HuRI $+$      516\n514 HuRI $-$      514\nName: dataset, dtype: int64"
     },
     "execution_count": 22,
     "metadata": {},
     "output_type": "execute_result"
    }
   ],
   "source": [
    "h4.dataset.value_counts()"
   ],
   "metadata": {
    "collapsed": false
   }
  },
  {
   "cell_type": "code",
   "execution_count": 23,
   "outputs": [],
   "source": [
    "fasta = dict()"
   ],
   "metadata": {
    "collapsed": false
   }
  },
  {
   "cell_type": "code",
   "execution_count": 25,
   "outputs": [
    {
     "data": {
      "text/plain": "9992"
     },
     "execution_count": 25,
     "metadata": {},
     "output_type": "execute_result"
    }
   ],
   "source": [
    "len(get_ids(h4[['crca', 'crcb']]))"
   ],
   "metadata": {
    "collapsed": false
   }
  },
  {
   "cell_type": "markdown",
   "source": [
    "### load my FASTAs"
   ],
   "metadata": {
    "collapsed": false
   }
  },
  {
   "cell_type": "code",
   "execution_count": 26,
   "outputs": [
    {
     "data": {
      "text/plain": "(('CRC-000037AE195F7A9D',\n  'MAVGKNKRLTKGGKKGAKKKVVDPFSKKDWYDVKAPAMFNIRNIGKTLVTRTQGTKIASDGLKGRVFEVSLADLQNDEVAFRKFKLITEDVQGKNCLTNFHGMDLTRDKMCSMVKKWQTMIEAHVDVKTTDGYLLRLFCVGFTKKRNNQIRKTSYAQHQQVRQIRKKMMEIMTREVQTNDLKEVVNKLIPDSIGKDIEKACQSIYPLHDVFVRKVKMLKKPKFELGKLMELHGEGSSSGKATGDETGAKVERADGYEPPVQESV'),\n 14143)"
     },
     "execution_count": 26,
     "metadata": {},
     "output_type": "execute_result"
    }
   ],
   "source": [
    "fasta |= {r.id: str(r.seq) for r in SeqIO.parse('uniprot/huintaf2_fixed.fasta', 'fasta')}\n",
    "fasta |= {r.id: str(r.seq) for r in SeqIO.parse(\n",
    "    ppi_dir / '1:1_small' / 'huri_test.fasta', 'fasta')}\n",
    "\n",
    "next(iter(fasta.items())), len(fasta)"
   ],
   "metadata": {
    "collapsed": false
   }
  },
  {
   "cell_type": "markdown",
   "source": [
    "### load Arne's uniprot tables with sequences"
   ],
   "metadata": {
    "collapsed": false
   }
  },
  {
   "cell_type": "code",
   "execution_count": 83,
   "outputs": [
    {
     "data": {
      "text/plain": "        Entry        Entry name      Status  \\\n0  A0A024R0Y4  A0A024R0Y4_HUMAN  unreviewed   \n1  A0A024R2X5  A0A024R2X5_HUMAN         NaN   \n2  A0A024R644  A0A024R644_HUMAN  unreviewed   \n3  A0A024RA52  A0A024RA52_HUMAN  unreviewed   \n4  A0A024RAC6  A0A024RAC6_HUMAN  unreviewed   \n\n                                      Protein names               Gene names  \\\n0                           Transcriptional adapter  TADA2A TADA2L hCG_28187   \n1                                          Deleted.                      NaN   \n2  Ceroid-lipofuscinosis, neuronal 5, isoform CRA_a           CLN5 hCG_28176   \n3                     Proteasome subunit alpha type          PSMA2 hCG_19883   \n4                                         Elongin-A     ELOA TCEB3 hCG_37551   \n\n               Organism  Length  \\\n0  Homo sapiens (Human)   443.0   \n1                   NaN     NaN   \n2  Homo sapiens (Human)   407.0   \n3  Homo sapiens (Human)   234.0   \n4  Homo sapiens (Human)   772.0   \n\n                                            Sequence Cross-reference (PDB)  \\\n0  MDRLGSFSNDPSDKPPCRGCSSYLMEPYIKCAECGPPPFFLCLQCF...                   NaN   \n1                                                NaN                   NaN   \n2  MRRNLRLGPSSGADAQGQGAPRPGLAAPRMLLPPASQASRGSGSTG...                 6R99;   \n3  MAERGYSFSLTTFSPSGKLVQIEYALAAVAGGAPSVGIKAANGVVL...                   NaN   \n4  MAAESALQVVEKLQARLAANPDPKKLLKYLKKLSTLPITVDILAET...                   NaN   \n\n                  Gene ontology (cellular component)  \\\n0  ATAC complex [GO:0140672]; mitotic spindle [GO...   \n1                                                NaN   \n2                              lysosome [GO:0005764]   \n3  cytosol [GO:0005829]; nucleus [GO:0005634]; pr...   \n4                       elongin complex [GO:0070449]   \n\n                           Subcellular location [CC]  \n0  SUBCELLULAR LOCATION: Nucleus {ECO:0000256|PIR...  \n1                                                NaN  \n2                                                NaN  \n3  SUBCELLULAR LOCATION: Cytoplasm {ECO:0000256|R...  \n4  SUBCELLULAR LOCATION: Nucleus {ECO:0000256|ARB...  ",
      "text/html": "<div>\n<style scoped>\n    .dataframe tbody tr th:only-of-type {\n        vertical-align: middle;\n    }\n\n    .dataframe tbody tr th {\n        vertical-align: top;\n    }\n\n    .dataframe thead th {\n        text-align: right;\n    }\n</style>\n<table border=\"1\" class=\"dataframe\">\n  <thead>\n    <tr style=\"text-align: right;\">\n      <th></th>\n      <th>Entry</th>\n      <th>Entry name</th>\n      <th>Status</th>\n      <th>Protein names</th>\n      <th>Gene names</th>\n      <th>Organism</th>\n      <th>Length</th>\n      <th>Sequence</th>\n      <th>Cross-reference (PDB)</th>\n      <th>Gene ontology (cellular component)</th>\n      <th>Subcellular location [CC]</th>\n    </tr>\n  </thead>\n  <tbody>\n    <tr>\n      <th>0</th>\n      <td>A0A024R0Y4</td>\n      <td>A0A024R0Y4_HUMAN</td>\n      <td>unreviewed</td>\n      <td>Transcriptional adapter</td>\n      <td>TADA2A TADA2L hCG_28187</td>\n      <td>Homo sapiens (Human)</td>\n      <td>443.0</td>\n      <td>MDRLGSFSNDPSDKPPCRGCSSYLMEPYIKCAECGPPPFFLCLQCF...</td>\n      <td>NaN</td>\n      <td>ATAC complex [GO:0140672]; mitotic spindle [GO...</td>\n      <td>SUBCELLULAR LOCATION: Nucleus {ECO:0000256|PIR...</td>\n    </tr>\n    <tr>\n      <th>1</th>\n      <td>A0A024R2X5</td>\n      <td>A0A024R2X5_HUMAN</td>\n      <td>NaN</td>\n      <td>Deleted.</td>\n      <td>NaN</td>\n      <td>NaN</td>\n      <td>NaN</td>\n      <td>NaN</td>\n      <td>NaN</td>\n      <td>NaN</td>\n      <td>NaN</td>\n    </tr>\n    <tr>\n      <th>2</th>\n      <td>A0A024R644</td>\n      <td>A0A024R644_HUMAN</td>\n      <td>unreviewed</td>\n      <td>Ceroid-lipofuscinosis, neuronal 5, isoform CRA_a</td>\n      <td>CLN5 hCG_28176</td>\n      <td>Homo sapiens (Human)</td>\n      <td>407.0</td>\n      <td>MRRNLRLGPSSGADAQGQGAPRPGLAAPRMLLPPASQASRGSGSTG...</td>\n      <td>6R99;</td>\n      <td>lysosome [GO:0005764]</td>\n      <td>NaN</td>\n    </tr>\n    <tr>\n      <th>3</th>\n      <td>A0A024RA52</td>\n      <td>A0A024RA52_HUMAN</td>\n      <td>unreviewed</td>\n      <td>Proteasome subunit alpha type</td>\n      <td>PSMA2 hCG_19883</td>\n      <td>Homo sapiens (Human)</td>\n      <td>234.0</td>\n      <td>MAERGYSFSLTTFSPSGKLVQIEYALAAVAGGAPSVGIKAANGVVL...</td>\n      <td>NaN</td>\n      <td>cytosol [GO:0005829]; nucleus [GO:0005634]; pr...</td>\n      <td>SUBCELLULAR LOCATION: Cytoplasm {ECO:0000256|R...</td>\n    </tr>\n    <tr>\n      <th>4</th>\n      <td>A0A024RAC6</td>\n      <td>A0A024RAC6_HUMAN</td>\n      <td>unreviewed</td>\n      <td>Elongin-A</td>\n      <td>ELOA TCEB3 hCG_37551</td>\n      <td>Homo sapiens (Human)</td>\n      <td>772.0</td>\n      <td>MAAESALQVVEKLQARLAANPDPKKLLKYLKKLSTLPITVDILAET...</td>\n      <td>NaN</td>\n      <td>elongin complex [GO:0070449]</td>\n      <td>SUBCELLULAR LOCATION: Nucleus {ECO:0000256|ARB...</td>\n    </tr>\n  </tbody>\n</table>\n</div>"
     },
     "execution_count": 83,
     "metadata": {},
     "output_type": "execute_result"
    }
   ],
   "source": [
    "huri = pd.read_csv(huintaf_dir / 'HuRI-uniprot.tab', sep='\\t')\n",
    "huri.head()"
   ],
   "metadata": {
    "collapsed": false
   }
  },
  {
   "cell_type": "code",
   "execution_count": 84,
   "outputs": [
    {
     "data": {
      "text/plain": "19605"
     },
     "execution_count": 84,
     "metadata": {},
     "output_type": "execute_result"
    }
   ],
   "source": [
    "fasta |= dict(zip(huri.Entry, huri.Sequence))\n",
    "len(fasta)"
   ],
   "metadata": {
    "collapsed": false
   }
  },
  {
   "cell_type": "code",
   "execution_count": 85,
   "outputs": [
    {
     "data": {
      "text/plain": "        Entry   Entry name    Status  \\\n0  A0A075B759  PAL4E_HUMAN  reviewed   \n1  A0A0B4J2A2  PAL4C_HUMAN  reviewed   \n2      A0AV02  S12A8_HUMAN  reviewed   \n3      A0AV96  RBM47_HUMAN  reviewed   \n4      A0AVF1  IFT56_HUMAN  reviewed   \n\n                                       Protein names    Gene names  \\\n0  Peptidyl-prolyl cis-trans isomerase A-like 4E ...       PPIAL4E   \n1  Peptidyl-prolyl cis-trans isomerase A-like 4C ...       PPIAL4C   \n2  Solute carrier family 12 member 8 (Cation-chlo...  SLC12A8 CCC9   \n3  RNA-binding protein 47 (RNA-binding motif prot...         RBM47   \n4  Intraflagellar transport protein 56 (Tetratric...   TTC26 IFT56   \n\n               Organism  Length  \\\n0  Homo sapiens (Human)   164.0   \n1  Homo sapiens (Human)   164.0   \n2  Homo sapiens (Human)   714.0   \n3  Homo sapiens (Human)   593.0   \n4  Homo sapiens (Human)   554.0   \n\n                                            Sequence Cross-reference (PDB)  \\\n0  MVNSVVFFEITRDGKPLGRISIKLFADKIPKTAENFRALSTGEKGF...                   NaN   \n1  MVNSVVFFDITVDGKPLGRISIKLFADKIPKTAENFRALSTGEKGF...                   NaN   \n2  MTQMSQVQELFHEAAQQDALAQPQPWWKTQLFMWEPVLFGTWDGVF...                   NaN   \n3  MTAEDSTAAMSSDSAAGSSAKVPEGVAGAPNEAALLALMERTGYSM...                 2DIS;   \n4  MMLSRAKPAVGRGVQHTDKRKKKGRKIPKLEELLSKRDFTGAITLL...                   NaN   \n\n                  Gene ontology (cellular component)  \\\n0  cytoplasm [GO:0005737]; intracellular membrane...   \n1  cytoplasm [GO:0005737]; intracellular membrane...   \n2        integral component of membrane [GO:0016021]   \n3                               nucleus [GO:0005634]   \n4  centrosome [GO:0005813]; ciliary basal body [G...   \n\n                           Subcellular location [CC]  \n0  SUBCELLULAR LOCATION: Cytoplasm {ECO:0000250|U...  \n1  SUBCELLULAR LOCATION: Cytoplasm {ECO:0000250|U...  \n2  SUBCELLULAR LOCATION: Membrane {ECO:0000305}; ...  \n3       SUBCELLULAR LOCATION: Nucleus {ECO:0000250}.  \n4  SUBCELLULAR LOCATION: Cell projection, cilium ...  ",
      "text/html": "<div>\n<style scoped>\n    .dataframe tbody tr th:only-of-type {\n        vertical-align: middle;\n    }\n\n    .dataframe tbody tr th {\n        vertical-align: top;\n    }\n\n    .dataframe thead th {\n        text-align: right;\n    }\n</style>\n<table border=\"1\" class=\"dataframe\">\n  <thead>\n    <tr style=\"text-align: right;\">\n      <th></th>\n      <th>Entry</th>\n      <th>Entry name</th>\n      <th>Status</th>\n      <th>Protein names</th>\n      <th>Gene names</th>\n      <th>Organism</th>\n      <th>Length</th>\n      <th>Sequence</th>\n      <th>Cross-reference (PDB)</th>\n      <th>Gene ontology (cellular component)</th>\n      <th>Subcellular location [CC]</th>\n    </tr>\n  </thead>\n  <tbody>\n    <tr>\n      <th>0</th>\n      <td>A0A075B759</td>\n      <td>PAL4E_HUMAN</td>\n      <td>reviewed</td>\n      <td>Peptidyl-prolyl cis-trans isomerase A-like 4E ...</td>\n      <td>PPIAL4E</td>\n      <td>Homo sapiens (Human)</td>\n      <td>164.0</td>\n      <td>MVNSVVFFEITRDGKPLGRISIKLFADKIPKTAENFRALSTGEKGF...</td>\n      <td>NaN</td>\n      <td>cytoplasm [GO:0005737]; intracellular membrane...</td>\n      <td>SUBCELLULAR LOCATION: Cytoplasm {ECO:0000250|U...</td>\n    </tr>\n    <tr>\n      <th>1</th>\n      <td>A0A0B4J2A2</td>\n      <td>PAL4C_HUMAN</td>\n      <td>reviewed</td>\n      <td>Peptidyl-prolyl cis-trans isomerase A-like 4C ...</td>\n      <td>PPIAL4C</td>\n      <td>Homo sapiens (Human)</td>\n      <td>164.0</td>\n      <td>MVNSVVFFDITVDGKPLGRISIKLFADKIPKTAENFRALSTGEKGF...</td>\n      <td>NaN</td>\n      <td>cytoplasm [GO:0005737]; intracellular membrane...</td>\n      <td>SUBCELLULAR LOCATION: Cytoplasm {ECO:0000250|U...</td>\n    </tr>\n    <tr>\n      <th>2</th>\n      <td>A0AV02</td>\n      <td>S12A8_HUMAN</td>\n      <td>reviewed</td>\n      <td>Solute carrier family 12 member 8 (Cation-chlo...</td>\n      <td>SLC12A8 CCC9</td>\n      <td>Homo sapiens (Human)</td>\n      <td>714.0</td>\n      <td>MTQMSQVQELFHEAAQQDALAQPQPWWKTQLFMWEPVLFGTWDGVF...</td>\n      <td>NaN</td>\n      <td>integral component of membrane [GO:0016021]</td>\n      <td>SUBCELLULAR LOCATION: Membrane {ECO:0000305}; ...</td>\n    </tr>\n    <tr>\n      <th>3</th>\n      <td>A0AV96</td>\n      <td>RBM47_HUMAN</td>\n      <td>reviewed</td>\n      <td>RNA-binding protein 47 (RNA-binding motif prot...</td>\n      <td>RBM47</td>\n      <td>Homo sapiens (Human)</td>\n      <td>593.0</td>\n      <td>MTAEDSTAAMSSDSAAGSSAKVPEGVAGAPNEAALLALMERTGYSM...</td>\n      <td>2DIS;</td>\n      <td>nucleus [GO:0005634]</td>\n      <td>SUBCELLULAR LOCATION: Nucleus {ECO:0000250}.</td>\n    </tr>\n    <tr>\n      <th>4</th>\n      <td>A0AVF1</td>\n      <td>IFT56_HUMAN</td>\n      <td>reviewed</td>\n      <td>Intraflagellar transport protein 56 (Tetratric...</td>\n      <td>TTC26 IFT56</td>\n      <td>Homo sapiens (Human)</td>\n      <td>554.0</td>\n      <td>MMLSRAKPAVGRGVQHTDKRKKKGRKIPKLEELLSKRDFTGAITLL...</td>\n      <td>NaN</td>\n      <td>centrosome [GO:0005813]; ciliary basal body [G...</td>\n      <td>SUBCELLULAR LOCATION: Cell projection, cilium ...</td>\n    </tr>\n  </tbody>\n</table>\n</div>"
     },
     "execution_count": 85,
     "metadata": {},
     "output_type": "execute_result"
    }
   ],
   "source": [
    "humap = pd.read_csv(huintaf_dir / 'HuMap-uniprot.tab', sep='\\t')\n",
    "humap.head()"
   ],
   "metadata": {
    "collapsed": false
   }
  },
  {
   "cell_type": "code",
   "execution_count": 86,
   "outputs": [
    {
     "data": {
      "text/plain": "24565"
     },
     "execution_count": 86,
     "metadata": {},
     "output_type": "execute_result"
    }
   ],
   "source": [
    "fasta |= dict(zip(humap.Entry, humap.Sequence))\n",
    "len(fasta)"
   ],
   "metadata": {
    "collapsed": false
   }
  },
  {
   "cell_type": "markdown",
   "source": [
    "~### get a uniprot/ENSG -> CRC64 mapping for Arne's seqs~\n",
    "### use Arne's `seqs.csv` files as protein library"
   ],
   "metadata": {
    "collapsed": false
   }
  },
  {
   "cell_type": "code",
   "execution_count": 87,
   "outputs": [
    {
     "data": {
      "text/plain": "                Id  Length                                           Sequence  \\\n0  ENSG00000000005   317.0  MAKNPPENCEDCHILNAEAFKSKKICKSLKICGLVFGILALTLIVL...   \n1  ENSG00000000419   260.0  MASLEVSRSPRRSRRELEVRSPRQNKYSVLLPTYNERENLPLIVWL...   \n2  ENSG00000000457   742.0  MGSENSALKSYTLREPPFTLPSGLAVYPAVLQDGKFASVFVYKREN...   \n3  ENSG00000000460   853.0  MFLPHMNHLTLEQTFFSQVLPKTVKLFDDMMYELTSQARGLSSQNL...   \n4  ENSG00000001036   467.0  MRPQELPRLAFPLLLLLLLLLPPPPCPAHSATRFDPTWESLDARQL...   \n\n    Entry   Entry name Cross-reference (PANTHER) Cross-reference (PDB)  \\\n0  Q9H2S6   TNMD_HUMAN                PTHR14064;                   NaN   \n1  O60762   DPM1_HUMAN                PTHR43398;                   NaN   \n2  Q8IZE3  PACE1_HUMAN                       NaN                   NaN   \n3  Q9NSG2  CA112_HUMAN                PTHR16071;                   NaN   \n4  Q9BTY2  FUCO2_HUMAN                PTHR10030;                   NaN   \n\n                     Gene names  \n0     TNMD CHM1L UNQ771/PRO1565  \n1                          DPM1  \n2                   SCYL3 PACE1  \n3                      C1orf112  \n4  FUCA2 PSEC0151 UNQ227/PRO260  ",
      "text/html": "<div>\n<style scoped>\n    .dataframe tbody tr th:only-of-type {\n        vertical-align: middle;\n    }\n\n    .dataframe tbody tr th {\n        vertical-align: top;\n    }\n\n    .dataframe thead th {\n        text-align: right;\n    }\n</style>\n<table border=\"1\" class=\"dataframe\">\n  <thead>\n    <tr style=\"text-align: right;\">\n      <th></th>\n      <th>Id</th>\n      <th>Length</th>\n      <th>Sequence</th>\n      <th>Entry</th>\n      <th>Entry name</th>\n      <th>Cross-reference (PANTHER)</th>\n      <th>Cross-reference (PDB)</th>\n      <th>Gene names</th>\n    </tr>\n  </thead>\n  <tbody>\n    <tr>\n      <th>0</th>\n      <td>ENSG00000000005</td>\n      <td>317.0</td>\n      <td>MAKNPPENCEDCHILNAEAFKSKKICKSLKICGLVFGILALTLIVL...</td>\n      <td>Q9H2S6</td>\n      <td>TNMD_HUMAN</td>\n      <td>PTHR14064;</td>\n      <td>NaN</td>\n      <td>TNMD CHM1L UNQ771/PRO1565</td>\n    </tr>\n    <tr>\n      <th>1</th>\n      <td>ENSG00000000419</td>\n      <td>260.0</td>\n      <td>MASLEVSRSPRRSRRELEVRSPRQNKYSVLLPTYNERENLPLIVWL...</td>\n      <td>O60762</td>\n      <td>DPM1_HUMAN</td>\n      <td>PTHR43398;</td>\n      <td>NaN</td>\n      <td>DPM1</td>\n    </tr>\n    <tr>\n      <th>2</th>\n      <td>ENSG00000000457</td>\n      <td>742.0</td>\n      <td>MGSENSALKSYTLREPPFTLPSGLAVYPAVLQDGKFASVFVYKREN...</td>\n      <td>Q8IZE3</td>\n      <td>PACE1_HUMAN</td>\n      <td>NaN</td>\n      <td>NaN</td>\n      <td>SCYL3 PACE1</td>\n    </tr>\n    <tr>\n      <th>3</th>\n      <td>ENSG00000000460</td>\n      <td>853.0</td>\n      <td>MFLPHMNHLTLEQTFFSQVLPKTVKLFDDMMYELTSQARGLSSQNL...</td>\n      <td>Q9NSG2</td>\n      <td>CA112_HUMAN</td>\n      <td>PTHR16071;</td>\n      <td>NaN</td>\n      <td>C1orf112</td>\n    </tr>\n    <tr>\n      <th>4</th>\n      <td>ENSG00000001036</td>\n      <td>467.0</td>\n      <td>MRPQELPRLAFPLLLLLLLLLPPPPCPAHSATRFDPTWESLDARQL...</td>\n      <td>Q9BTY2</td>\n      <td>FUCO2_HUMAN</td>\n      <td>PTHR10030;</td>\n      <td>NaN</td>\n      <td>FUCA2 PSEC0151 UNQ227/PRO260</td>\n    </tr>\n  </tbody>\n</table>\n</div>"
     },
     "execution_count": 87,
     "metadata": {},
     "output_type": "execute_result"
    }
   ],
   "source": [
    "h5 = pd.read_csv('/home/quirin/PYTHON/huintaf2/data/HuRI/seqs.csv')\n",
    "h5.head()"
   ],
   "metadata": {
    "collapsed": false
   }
  },
  {
   "cell_type": "code",
   "execution_count": 27,
   "outputs": [],
   "source": [
    "prona_fasta = dict()\n",
    "\n",
    "\n",
    "def add_to_prona(d: dict) -> None:\n",
    "    for k, v in d.items():\n",
    "        if k in prona_fasta:\n",
    "            assert v == prona_fasta[k]\n",
    "        prona_fasta[k] = v\n",
    "    print(len(prona_fasta))"
   ],
   "metadata": {
    "collapsed": false
   }
  },
  {
   "cell_type": "code",
   "execution_count": 28,
   "outputs": [
    {
     "name": "stdout",
     "output_type": "stream",
     "text": [
      "7458\n"
     ]
    }
   ],
   "source": [
    "add_to_prona(dict(zip(h4.crca, h4.crca.apply(fasta.get))))"
   ],
   "metadata": {
    "collapsed": false
   }
  },
  {
   "cell_type": "code",
   "execution_count": 29,
   "outputs": [
    {
     "name": "stdout",
     "output_type": "stream",
     "text": [
      "9992\n"
     ]
    }
   ],
   "source": [
    "add_to_prona(dict(zip(h4.crcb, h4.crcb.apply(fasta.get))))"
   ],
   "metadata": {
    "collapsed": false
   }
  },
  {
   "cell_type": "code",
   "execution_count": 30,
   "outputs": [
    {
     "data": {
      "text/plain": "True"
     },
     "execution_count": 30,
     "metadata": {},
     "output_type": "execute_result"
    }
   ],
   "source": [
    "get_ids(h4[['crca', 'crcb']]) == set(prona_fasta)"
   ],
   "metadata": {
    "collapsed": false
   }
  },
  {
   "cell_type": "code",
   "execution_count": 32,
   "outputs": [],
   "source": [
    "# add_to_prona(dict(zip(h5.Id, h5.Sequence)))"
   ],
   "metadata": {
    "collapsed": false
   }
  },
  {
   "cell_type": "markdown",
   "source": [
    "### write a FASTA\n",
    "This one is now using CRC64s as IDs. Includes our colabfold data as before."
   ],
   "metadata": {
    "collapsed": false
   }
  },
  {
   "cell_type": "code",
   "execution_count": 31,
   "outputs": [],
   "source": [
    "with Path('prona.fasta').open('w') as out_fasta:\n",
    "    for crc in sorted(prona_fasta.keys()):\n",
    "        to_fasta(crc, prona_fasta[crc], out_fasta)"
   ],
   "metadata": {
    "collapsed": false
   }
  },
  {
   "cell_type": "code",
   "execution_count": 33,
   "outputs": [],
   "source": [
    "# prona_fasta['A0A0A0MTU0']"
   ],
   "metadata": {
    "collapsed": false
   }
  },
  {
   "cell_type": "code",
   "execution_count": 34,
   "outputs": [
    {
     "data": {
      "text/plain": "            ida     idb    pdockq       dataset  \\\n192  A0A0A0MTU0  Q8NBD8  0.067676  516 HuRI $+$   \n193  A0A0A0MTU0  Q9GZR5  0.055618  514 HuRI $-$   \n\n                                               pdbfile  prob  \\\n192  results_chunk_5/predictions/54_unrelaxed_rank_...   1.0   \n193  results_chunk_1/predictions/265_unrelaxed_rank...   0.0   \n\n                     crca                  crcb      capri        za  \\\n192  CRC-E34F5A817D81615B  CRC-0C7507C6F00F0D85  incorrect  8.999747   \n193  CRC-E34F5A817D81615B  CRC-B2EBCE54D868E96E  incorrect  8.999747   \n\n            zb        da        db  min_chezod  max_diso  max_chezod  \\\n192  11.212791  0.330033  0.161677    8.999747  0.330033   11.212791   \n193  10.583590  0.330033  0.207006    8.999747  0.330033   10.583590   \n\n     avg_chezod  \n192   10.106269  \n193    9.791668  ",
      "text/html": "<div>\n<style scoped>\n    .dataframe tbody tr th:only-of-type {\n        vertical-align: middle;\n    }\n\n    .dataframe tbody tr th {\n        vertical-align: top;\n    }\n\n    .dataframe thead th {\n        text-align: right;\n    }\n</style>\n<table border=\"1\" class=\"dataframe\">\n  <thead>\n    <tr style=\"text-align: right;\">\n      <th></th>\n      <th>ida</th>\n      <th>idb</th>\n      <th>pdockq</th>\n      <th>dataset</th>\n      <th>pdbfile</th>\n      <th>prob</th>\n      <th>crca</th>\n      <th>crcb</th>\n      <th>capri</th>\n      <th>za</th>\n      <th>zb</th>\n      <th>da</th>\n      <th>db</th>\n      <th>min_chezod</th>\n      <th>max_diso</th>\n      <th>max_chezod</th>\n      <th>avg_chezod</th>\n    </tr>\n  </thead>\n  <tbody>\n    <tr>\n      <th>192</th>\n      <td>A0A0A0MTU0</td>\n      <td>Q8NBD8</td>\n      <td>0.067676</td>\n      <td>516 HuRI $+$</td>\n      <td>results_chunk_5/predictions/54_unrelaxed_rank_...</td>\n      <td>1.0</td>\n      <td>CRC-E34F5A817D81615B</td>\n      <td>CRC-0C7507C6F00F0D85</td>\n      <td>incorrect</td>\n      <td>8.999747</td>\n      <td>11.212791</td>\n      <td>0.330033</td>\n      <td>0.161677</td>\n      <td>8.999747</td>\n      <td>0.330033</td>\n      <td>11.212791</td>\n      <td>10.106269</td>\n    </tr>\n    <tr>\n      <th>193</th>\n      <td>A0A0A0MTU0</td>\n      <td>Q9GZR5</td>\n      <td>0.055618</td>\n      <td>514 HuRI $-$</td>\n      <td>results_chunk_1/predictions/265_unrelaxed_rank...</td>\n      <td>0.0</td>\n      <td>CRC-E34F5A817D81615B</td>\n      <td>CRC-B2EBCE54D868E96E</td>\n      <td>incorrect</td>\n      <td>8.999747</td>\n      <td>10.583590</td>\n      <td>0.330033</td>\n      <td>0.207006</td>\n      <td>8.999747</td>\n      <td>0.330033</td>\n      <td>10.583590</td>\n      <td>9.791668</td>\n    </tr>\n  </tbody>\n</table>\n</div>"
     },
     "execution_count": 34,
     "metadata": {},
     "output_type": "execute_result"
    }
   ],
   "source": [
    "h4.loc[h4.ida == 'A0A0A0MTU0']"
   ],
   "metadata": {
    "collapsed": false
   }
  },
  {
   "cell_type": "markdown",
   "source": [
    "### now run PRONA"
   ],
   "metadata": {
    "collapsed": false
   }
  },
  {
   "cell_type": "code",
   "execution_count": null,
   "outputs": [],
   "source": [],
   "metadata": {
    "collapsed": false
   }
  },
  {
   "cell_type": "markdown",
   "source": [
    "### later: get a commandline string with many PDBs for `prona pairwise`"
   ],
   "metadata": {
    "collapsed": false
   }
  },
  {
   "cell_type": "code",
   "execution_count": 135,
   "outputs": [],
   "source": [
    "def glob_pdbs(wd: str) -> str:\n",
    "    return ' --pdb /mnt/project/kaindl/huintaf2/' + ' --pdb /mnt/project/kaindl/huintaf2/'.join(['/'.join(\n",
    "        pdb.parts[7:]) for pdb in sorted((huintaf_dir.parent / 'PDBs' / wd).rglob('*.pdb'))])"
   ],
   "metadata": {
    "collapsed": false
   }
  },
  {
   "cell_type": "code",
   "execution_count": 138,
   "outputs": [],
   "source": [
    "with open('flag.txt', 'w') as f:\n",
    "    f.write(glob_pdbs('c7'))"
   ],
   "metadata": {
    "collapsed": false
   }
  },
  {
   "cell_type": "code",
   "execution_count": null,
   "outputs": [],
   "source": [],
   "metadata": {
    "collapsed": false
   }
  },
  {
   "cell_type": "code",
   "execution_count": null,
   "outputs": [],
   "source": [],
   "metadata": {
    "collapsed": false
   }
  }
 ],
 "metadata": {
  "kernelspec": {
   "display_name": "Python 3",
   "language": "python",
   "name": "python3"
  },
  "language_info": {
   "codemirror_mode": {
    "name": "ipython",
    "version": 2
   },
   "file_extension": ".py",
   "mimetype": "text/x-python",
   "name": "python",
   "nbconvert_exporter": "python",
   "pygments_lexer": "ipython2",
   "version": "2.7.6"
  }
 },
 "nbformat": 4,
 "nbformat_minor": 0
}
