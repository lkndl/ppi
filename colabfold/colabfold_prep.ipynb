{
 "cells": [
  {
   "cell_type": "code",
   "execution_count": 23,
   "outputs": [],
   "source": [
    "from Bio import SeqIO\n",
    "import pandas as pd\n",
    "import numpy as np\n",
    "from pathlib import Path\n",
    "\n",
    "import json\n",
    "\n",
    "from ppi_utils.general import to_fasta, to_lines"
   ],
   "metadata": {
    "collapsed": false
   }
  },
  {
   "cell_type": "code",
   "execution_count": 2,
   "outputs": [
    {
     "data": {
      "text/plain": "(PosixPath('/home/quirin/PYTHON/ppi/ppi_data/v2.1'), True)"
     },
     "execution_count": 2,
     "metadata": {},
     "output_type": "execute_result"
    }
   ],
   "source": [
    "ppi_dir = Path('.').resolve().parents[1] / 'ppi' / 'ppi_data' / 'v2.1'\n",
    "ppi_dir, ppi_dir.is_dir()"
   ],
   "metadata": {
    "collapsed": false
   }
  },
  {
   "cell_type": "code",
   "execution_count": 3,
   "outputs": [
    {
     "data": {
      "text/plain": "                 hash_A                hash_B  species  label  cclass\n0  CRC-001576EA78C61C85  CRC-045C9C9CAE0FD639     9606      1       3\n1  CRC-001576EA78C61C85  CRC-12E45FF6696080F8     9606      1       3\n2  CRC-001576EA78C61C85  CRC-2743716544288776     9606      1       3\n3  CRC-001576EA78C61C85  CRC-2EDBC7981868EB12     9606      1       3\n4  CRC-001576EA78C61C85  CRC-40897D5AF9B186A9     9606      1       3",
      "text/html": "<div>\n<style scoped>\n    .dataframe tbody tr th:only-of-type {\n        vertical-align: middle;\n    }\n\n    .dataframe tbody tr th {\n        vertical-align: top;\n    }\n\n    .dataframe thead th {\n        text-align: right;\n    }\n</style>\n<table border=\"1\" class=\"dataframe\">\n  <thead>\n    <tr style=\"text-align: right;\">\n      <th></th>\n      <th>hash_A</th>\n      <th>hash_B</th>\n      <th>species</th>\n      <th>label</th>\n      <th>cclass</th>\n    </tr>\n  </thead>\n  <tbody>\n    <tr>\n      <th>0</th>\n      <td>CRC-001576EA78C61C85</td>\n      <td>CRC-045C9C9CAE0FD639</td>\n      <td>9606</td>\n      <td>1</td>\n      <td>3</td>\n    </tr>\n    <tr>\n      <th>1</th>\n      <td>CRC-001576EA78C61C85</td>\n      <td>CRC-12E45FF6696080F8</td>\n      <td>9606</td>\n      <td>1</td>\n      <td>3</td>\n    </tr>\n    <tr>\n      <th>2</th>\n      <td>CRC-001576EA78C61C85</td>\n      <td>CRC-2743716544288776</td>\n      <td>9606</td>\n      <td>1</td>\n      <td>3</td>\n    </tr>\n    <tr>\n      <th>3</th>\n      <td>CRC-001576EA78C61C85</td>\n      <td>CRC-2EDBC7981868EB12</td>\n      <td>9606</td>\n      <td>1</td>\n      <td>3</td>\n    </tr>\n    <tr>\n      <th>4</th>\n      <td>CRC-001576EA78C61C85</td>\n      <td>CRC-40897D5AF9B186A9</td>\n      <td>9606</td>\n      <td>1</td>\n      <td>3</td>\n    </tr>\n  </tbody>\n</table>\n</div>"
     },
     "execution_count": 3,
     "metadata": {},
     "output_type": "execute_result"
    }
   ],
   "source": [
    "pairs = pd.read_csv(ppi_dir / '1:1_small' / 'huri_test.tsv', sep='\\t')\n",
    "pairs.head()"
   ],
   "metadata": {
    "collapsed": false
   }
  },
  {
   "cell_type": "code",
   "execution_count": 12,
   "outputs": [
    {
     "data": {
      "text/plain": "('CRC-001576EA78C61C85',\n 'MSFKREGDDWSQLNVLKKRRVGDLLASYIPEDEALMLRDGRFACAICPHRPVLDTLAMLTAHRAGKKHLSSLQLFYGKKQPGKERKQNPKHQNELRREETKAEAPLLTQTRLITQSALHRAPHYNSCCRRKYRPEAPGPSVSLSPMPPSEVKLQSGKISREPEPAAGPQAEESATVSAPAPMSPTRRRALDHYLTLRSSGWIPDGRGRWVKDENVEFDSDEEEPPDLPLD')"
     },
     "execution_count": 12,
     "metadata": {},
     "output_type": "execute_result"
    }
   ],
   "source": [
    "fasta = {r.id: str(r.seq) for r in SeqIO.parse(\n",
    "    ppi_dir / '1:1_small' / 'huri_test.fasta', 'fasta')}\n",
    "next(iter(fasta.items()))"
   ],
   "metadata": {
    "collapsed": false
   }
  },
  {
   "cell_type": "code",
   "execution_count": 12,
   "outputs": [],
   "source": [],
   "metadata": {
    "collapsed": false
   }
  },
  {
   "cell_type": "markdown",
   "source": [
    "## ColabFold concatenation"
   ],
   "metadata": {
    "collapsed": false
   }
  },
  {
   "cell_type": "code",
   "execution_count": 13,
   "outputs": [],
   "source": [
    "def to_ppi_line(_ida, _idb) -> str:\n",
    "    return f'>{_ida}_{_idb}\\n{fasta[_ida]}:{fasta[_idb]}\\n'"
   ],
   "metadata": {
    "collapsed": false
   }
  },
  {
   "cell_type": "code",
   "execution_count": 6,
   "outputs": [],
   "source": [
    "with (ppi_dir / '1:1_small' / 'huri_1332.fasta').open('w') as out_fasta:\n",
    "    for _, (ida, idb) in pairs.iloc[:, [0, 1]].T.items():\n",
    "        to_fasta(f'{ida}_{idb}', f'{fasta[ida]}:{fasta[idb]}', out_fasta)"
   ],
   "metadata": {
    "collapsed": false
   }
  },
  {
   "cell_type": "code",
   "execution_count": 7,
   "outputs": [
    {
     "name": "stdout",
     "output_type": "stream",
     "text": [
      ">CRC-001576EA78C61C85_CRC-045C9C9CAE0FD639\r\n",
      "MSFKREGDDWSQLNVLKKRRVGDLLASYIPEDEALMLRDGRFACAICPHRPVLDTLAMLT\r\n",
      "AHRAGKKHLSSLQLFYGKKQPGKERKQNPKHQNELRREETKAEAPLLTQTRLITQSALHR\r\n",
      "APHYNSCCRRKYRPEAPGPSVSLSPMPPSEVKLQSGKISREPEPAAGPQAEESATVSAPA\r\n",
      "PMSPTRRRALDHYLTLRSSGWIPDGRGRWVKDENVEFDSDEEEPPDLPLD:MAPRSRRRR\r\n",
      "HKKPPSSVAPIIMAPTTIVTPVPLTPSKPGPSIDTLGFFSLDDNVPGLSQLILQKLNMKS\r\n",
      "YEEYKLVVDGGTPVSGFGFRCPQEMFQRMEDTFRFCAHCRALPSGLSDSKVLRHCKRCRN\r\n",
      "VYYCGPECQKSDWPAHRRVCQELRLVAVDRLMEWLLVTGDFVLPSGPWPWPPEAVQDWDS\r\n",
      "WFSMKGLHLDATLDAVLVSHAVTTLWASVGRPRPDPDVLQGSLKRLLTDVLSRPLTLGLG\r\n",
      "LRALGIDVRRTGGSTVHVVGASHVETFLTRPGDYDELGYMFPGHLGLRVVMVGVDVATGF\r\n",
      "SQSTSTSPLEPGTIQLSAHRGLYHDFWEEQVETGQTHHPDLVAAFHPGFHSSPDLMEAWL\r\n",
      "PTLLLLRDYKIPTLITVYSHQELVSSLQILVELDTHITAFGSNPFMSLKPEQVYSSPNKQ\r\n",
      "PVYCSAYYIMFLGSSCQLDNRQLEEKVDGGI\r\n",
      ">CRC-001576EA78C61C85_CRC-12E45FF6696080F8\r\n",
      "MSFKREGDDWSQLNVLKKRRVGDLLASYIPEDEALMLRDGRFACAICPHRPVLDTLAMLT\r\n",
      "AHRAGKKHLSSLQLFYGKKQPGKERKQNPKHQNELRREETKAEAPLLTQTRLITQSALHR\r\n",
      "APHYNSCCRRKYRPEAPGPSVSLSPMPPSEVKLQSGKISREPEPAAGPQAEESATVSAPA\r\n",
      "PMSPTRRRALDHYLTLRSSGWIPDGRGRWVKDENVEFDSDEEEPPDLPLD:MAGRSLTSK\r\n",
      "AEPTAGAVDRAEKAGGQDTSSQKIEDLMEMVQKLQKVGSLEPRVEVLINRINEVQQAKKK\r\n",
      "ANKDLGEARTICEALQKELDSLHGEKVHLKEILSKKQETLRILRLHCQEKESEAHRKHTM\r\n",
      "LQECKERISALNLQIEEEKNKQRQLRLAFEEQLEDLMGQHKDLWDFHMPERLAKEICALD\r\n",
      "SSKEQLLKEEKLVKATLEDVKHQLCSLCGAEGPSTLDEGLFLRSQEAAATVQLFQEEHRK\r\n",
      "AEELLAAAAQRHQQLQQKCQQQQQKRQRLKEELEKHGMQVPAQAQSTQEEEAGPGDVASP\r\n",
      "KPLKGERPGAAHQAGPDVLIGQEDTLHPDLSPRGFQEIKELF\r\n",
      ">CRC-001576EA78C61C85_CRC-2743716544288776\r\n",
      "MSFKREGDDWSQLNVLKKRRVGDLLASYIPEDEALMLRDGRFACAICPHRPVLDTLAMLT\r\n",
      "AHRAGKKHLSSLQLFYGKKQPGKERKQNPKHQNELRREETKAEAPLLTQTRLITQSALHR\r\n",
      "APHYNSCCRRKYRPEAPGPSVSLSPMPPSEVKLQSGKISREPEPAAGPQAEESATVSAPA\r\n",
      "PMSPTRRRALDHYLTLRSSGWIPDGRGRWVKDENVEFDSDEEEPPDLPLD:MGAHLVRRY\r\n",
      "LGDASVEPDPLQMPTFPPDYGFPERKEREMVATQQEMMDAQLRLQLRDYCAHHLIRLLKC\r\n",
      "KRDSFPNFLACKQERHDWDYCEHRDYVMRMKEFERERRLLQRKKRREKKAAELAKGQGPG\r\n",
      "EVDPKVAL\r\n",
      ">CRC-001576EA78C61C85_CRC-2EDBC7981868EB12\r\n",
      "MSFKREGDDWSQLNVLKKRRVGDLLASYIPEDEALMLRDGRFACAICPHRPVLDTLAMLT\r\n",
      "AHRAGKKHLSSLQLFYGKKQPGKERKQNPKHQNELRREETKAEAPLLTQTRLITQSALHR\r\n",
      "APHYNSCCRRKYRPEAPGPSVSLSPMPPSEVKLQSGKISREPEPAAGPQAEESATVSAPA\r\n",
      "PMSPTRRRALDHYLTLRSSGWIPDGRGRWVKDENVEFDSDEEEPPDLPLD:MAPKKKGKK\r\n",
      "GKAKGTPIVDGLAPEDMSKEQVEEHVSRIREELDREREERNYFQLERDKIHTFWEITRRQ\r\n",
      "LEEKKAELRNKDREMEEAEERHQVEIKVYKQKVKHLLYEHQNNLTEMKAEGTVVMKLAQK\r\n",
      "EHRIQESVLRKDMRALKVELKEQELASEVVVKNLRLKHTEEITRMRNDFERQVREIEAKY\r\n"
     ]
    }
   ],
   "source": [
    "!head -n 40 \"$ppi_dir/1:1_small/huri_1332.fasta\""
   ],
   "metadata": {
    "collapsed": false
   }
  },
  {
   "cell_type": "code",
   "execution_count": 22,
   "outputs": [],
   "source": [
    "with (ppi_dir / '1:1_small' / 'huri_1332_nolinebreaks'\n",
    "                              '.fasta').open('w') as out_fasta:\n",
    "    for _, (ida, idb) in pairs.iloc[:, [0, 1]].T.items():\n",
    "        out_fasta.write(to_ppi_line(ida, idb))"
   ],
   "metadata": {
    "collapsed": false
   }
  },
  {
   "cell_type": "code",
   "execution_count": 8,
   "outputs": [
    {
     "name": "stdout",
     "output_type": "stream",
     "text": [
      ">CRC-001576EA78C61C85_CRC-045C9C9CAE0FD639\r\n",
      "MSFKREGDDWSQLNVLKKRRVGDLLASYIPEDEALMLRDGRFACAICPHRPVLDTLAMLTAHRAGKKHLSSLQLFYGKKQPGKERKQNPKHQNELRREETKAEAPLLTQTRLITQSALHRAPHYNSCCRRKYRPEAPGPSVSLSPMPPSEVKLQSGKISREPEPAAGPQAEESATVSAPAPMSPTRRRALDHYLTLRSSGWIPDGRGRWVKDENVEFDSDEEEPPDLPLD:MAPRSRRRRHKKPPSSVAPIIMAPTTIVTPVPLTPSKPGPSIDTLGFFSLDDNVPGLSQLILQKLNMKSYEEYKLVVDGGTPVSGFGFRCPQEMFQRMEDTFRFCAHCRALPSGLSDSKVLRHCKRCRNVYYCGPECQKSDWPAHRRVCQELRLVAVDRLMEWLLVTGDFVLPSGPWPWPPEAVQDWDSWFSMKGLHLDATLDAVLVSHAVTTLWASVGRPRPDPDVLQGSLKRLLTDVLSRPLTLGLGLRALGIDVRRTGGSTVHVVGASHVETFLTRPGDYDELGYMFPGHLGLRVVMVGVDVATGFSQSTSTSPLEPGTIQLSAHRGLYHDFWEEQVETGQTHHPDLVAAFHPGFHSSPDLMEAWLPTLLLLRDYKIPTLITVYSHQELVSSLQILVELDTHITAFGSNPFMSLKPEQVYSSPNKQPVYCSAYYIMFLGSSCQLDNRQLEEKVDGGI\r\n",
      ">CRC-001576EA78C61C85_CRC-12E45FF6696080F8\r\n",
      "MSFKREGDDWSQLNVLKKRRVGDLLASYIPEDEALMLRDGRFACAICPHRPVLDTLAMLTAHRAGKKHLSSLQLFYGKKQPGKERKQNPKHQNELRREETKAEAPLLTQTRLITQSALHRAPHYNSCCRRKYRPEAPGPSVSLSPMPPSEVKLQSGKISREPEPAAGPQAEESATVSAPAPMSPTRRRALDHYLTLRSSGWIPDGRGRWVKDENVEFDSDEEEPPDLPLD:MAGRSLTSKAEPTAGAVDRAEKAGGQDTSSQKIEDLMEMVQKLQKVGSLEPRVEVLINRINEVQQAKKKANKDLGEARTICEALQKELDSLHGEKVHLKEILSKKQETLRILRLHCQEKESEAHRKHTMLQECKERISALNLQIEEEKNKQRQLRLAFEEQLEDLMGQHKDLWDFHMPERLAKEICALDSSKEQLLKEEKLVKATLEDVKHQLCSLCGAEGPSTLDEGLFLRSQEAAATVQLFQEEHRKAEELLAAAAQRHQQLQQKCQQQQQKRQRLKEELEKHGMQVPAQAQSTQEEEAGPGDVASPKPLKGERPGAAHQAGPDVLIGQEDTLHPDLSPRGFQEIKELF\r\n"
     ]
    }
   ],
   "source": [
    "!head -n 4 \"$ppi_dir/1:1_small/huri_1332_nolinebreaks.fasta\""
   ],
   "metadata": {
    "collapsed": false
   }
  },
  {
   "cell_type": "code",
   "execution_count": 76,
   "outputs": [],
   "source": [],
   "metadata": {
    "collapsed": false
   }
  },
  {
   "cell_type": "markdown",
   "source": [
    "## EMBER3D concatenation"
   ],
   "metadata": {
    "collapsed": false
   }
  },
  {
   "cell_type": "code",
   "execution_count": 8,
   "outputs": [
    {
     "data": {
      "text/plain": "(PosixPath('/home/quirin/PYTHON/EMBER3D'), True)"
     },
     "execution_count": 8,
     "metadata": {},
     "output_type": "execute_result"
    }
   ],
   "source": [
    "ember_dir = Path.home() / 'PYTHON/EMBER3D'\n",
    "ember_dir, ember_dir.is_dir()"
   ],
   "metadata": {
    "collapsed": false
   }
  },
  {
   "cell_type": "code",
   "execution_count": 9,
   "outputs": [],
   "source": [
    "sample_size = 4"
   ],
   "metadata": {
    "collapsed": false
   }
  },
  {
   "cell_type": "code",
   "execution_count": 10,
   "outputs": [],
   "source": [
    "def to_ember_line(_ida, _idb, linker='N' * 20) -> str:\n",
    "    return f'>{_ida}_{_idb}\\n{fasta[_ida]}{linker}{fasta[_idb]}\\n'"
   ],
   "metadata": {
    "collapsed": false
   }
  },
  {
   "cell_type": "code",
   "execution_count": 11,
   "outputs": [
    {
     "data": {
      "text/plain": "(('CRC-001576EA78C61C85',\n  'MSFKREGDDWSQLNVLKKRRVGDLLASYIPEDEALMLRDGRFACAICPHRPVLDTLAMLTAHRAGKKHLSSLQLFYGKKQPGKERKQNPKHQNELRREETKAEAPLLTQTRLITQSALHRAPHYNSCCRRKYRPEAPGPSVSLSPMPPSEVKLQSGKISREPEPAAGPQAEESATVSAPAPMSPTRRRALDHYLTLRSSGWIPDGRGRWVKDENVEFDSDEEEPPDLPLD'),\n ('CRC-0026DBDE1FEAD2B3',\n  'MENQPVRWRALPGLPRPPGLPAAPWLLLGVLLLPGTLRLAGGQSVTHTGLPIMASLANTAISFSCRITYPYTPQFKVFTVSYFHEDLQGQRSPKKPTNCHPGLGTENQSHTLDCQVTLVLPGASATGTYYCSVHWPHSTVRGSGTFILVRDAGYREPPQSPQKLLLFGFTGLLSVLSVVGTALLLWNKKRMRGPGKDPTRKCPDPRSASSPKQHPSESVYTALQRRETEVYACIENEDGSSPTAKQSPLSQERPHRFEDDGELNLVYENL'))"
     },
     "execution_count": 11,
     "metadata": {},
     "output_type": "execute_result"
    }
   ],
   "source": [
    "it = iter(fasta.items())\n",
    "next(it), next(it)"
   ],
   "metadata": {
    "collapsed": false
   }
  },
  {
   "cell_type": "code",
   "execution_count": 13,
   "outputs": [
    {
     "data": {
      "text/plain": "                   hash_A                hash_B  species  label  cclass  len\n561  CRC-9DE436A7FF533443  CRC-B2ED164C9F379EDD     9606      1       3  241\n580  CRC-AB9BC8BFE2850E92  CRC-AC24810FC35B6F09     9606      1       3  243\n198  CRC-2B890673EA35BF5A  CRC-D0AE8929DEB2AC06     9606      1       2  245\n489  CRC-817752F20E262FD3  CRC-B1163143D1292259     9606      1       2  245",
      "text/html": "<div>\n<style scoped>\n    .dataframe tbody tr th:only-of-type {\n        vertical-align: middle;\n    }\n\n    .dataframe tbody tr th {\n        vertical-align: top;\n    }\n\n    .dataframe thead th {\n        text-align: right;\n    }\n</style>\n<table border=\"1\" class=\"dataframe\">\n  <thead>\n    <tr style=\"text-align: right;\">\n      <th></th>\n      <th>hash_A</th>\n      <th>hash_B</th>\n      <th>species</th>\n      <th>label</th>\n      <th>cclass</th>\n      <th>len</th>\n    </tr>\n  </thead>\n  <tbody>\n    <tr>\n      <th>561</th>\n      <td>CRC-9DE436A7FF533443</td>\n      <td>CRC-B2ED164C9F379EDD</td>\n      <td>9606</td>\n      <td>1</td>\n      <td>3</td>\n      <td>241</td>\n    </tr>\n    <tr>\n      <th>580</th>\n      <td>CRC-AB9BC8BFE2850E92</td>\n      <td>CRC-AC24810FC35B6F09</td>\n      <td>9606</td>\n      <td>1</td>\n      <td>3</td>\n      <td>243</td>\n    </tr>\n    <tr>\n      <th>198</th>\n      <td>CRC-2B890673EA35BF5A</td>\n      <td>CRC-D0AE8929DEB2AC06</td>\n      <td>9606</td>\n      <td>1</td>\n      <td>2</td>\n      <td>245</td>\n    </tr>\n    <tr>\n      <th>489</th>\n      <td>CRC-817752F20E262FD3</td>\n      <td>CRC-B1163143D1292259</td>\n      <td>9606</td>\n      <td>1</td>\n      <td>2</td>\n      <td>245</td>\n    </tr>\n  </tbody>\n</table>\n</div>"
     },
     "execution_count": 13,
     "metadata": {},
     "output_type": "execute_result"
    }
   ],
   "source": [
    "pairs['len'] = pairs.hash_A.apply(lambda ha: len(fasta[ha])) + pairs.hash_B.apply(lambda ha: len(fasta[ha]))\n",
    "ppis = pairs.loc[pairs.label == 1].sort_values(by='len').head(sample_size)\n",
    "ppis"
   ],
   "metadata": {
    "collapsed": false
   }
  },
  {
   "cell_type": "code",
   "execution_count": 14,
   "outputs": [
    {
     "data": {
      "text/plain": "                    hash_A                hash_B  species  label  cclass  len\n919   CRC-306C2057359CD049  CRC-44AD1817D6C536D6     9606      0       3  200\n859   CRC-2AF8FDD248A86C41  CRC-AC24810FC35B6F09     9606      0       3  216\n1262  CRC-B1163143D1292259  CRC-C3CF7EDEF95D2241     9606      0       1  245\n858   CRC-2AF8FDD248A86C41  CRC-9DE436A7FF533443     9606      0       3  254",
      "text/html": "<div>\n<style scoped>\n    .dataframe tbody tr th:only-of-type {\n        vertical-align: middle;\n    }\n\n    .dataframe tbody tr th {\n        vertical-align: top;\n    }\n\n    .dataframe thead th {\n        text-align: right;\n    }\n</style>\n<table border=\"1\" class=\"dataframe\">\n  <thead>\n    <tr style=\"text-align: right;\">\n      <th></th>\n      <th>hash_A</th>\n      <th>hash_B</th>\n      <th>species</th>\n      <th>label</th>\n      <th>cclass</th>\n      <th>len</th>\n    </tr>\n  </thead>\n  <tbody>\n    <tr>\n      <th>919</th>\n      <td>CRC-306C2057359CD049</td>\n      <td>CRC-44AD1817D6C536D6</td>\n      <td>9606</td>\n      <td>0</td>\n      <td>3</td>\n      <td>200</td>\n    </tr>\n    <tr>\n      <th>859</th>\n      <td>CRC-2AF8FDD248A86C41</td>\n      <td>CRC-AC24810FC35B6F09</td>\n      <td>9606</td>\n      <td>0</td>\n      <td>3</td>\n      <td>216</td>\n    </tr>\n    <tr>\n      <th>1262</th>\n      <td>CRC-B1163143D1292259</td>\n      <td>CRC-C3CF7EDEF95D2241</td>\n      <td>9606</td>\n      <td>0</td>\n      <td>1</td>\n      <td>245</td>\n    </tr>\n    <tr>\n      <th>858</th>\n      <td>CRC-2AF8FDD248A86C41</td>\n      <td>CRC-9DE436A7FF533443</td>\n      <td>9606</td>\n      <td>0</td>\n      <td>3</td>\n      <td>254</td>\n    </tr>\n  </tbody>\n</table>\n</div>"
     },
     "execution_count": 14,
     "metadata": {},
     "output_type": "execute_result"
    }
   ],
   "source": [
    "negs = pairs.loc[pairs.label == 0].sort_values(by='len').head(sample_size)\n",
    "negs"
   ],
   "metadata": {
    "collapsed": false
   }
  },
  {
   "cell_type": "markdown",
   "source": [
    "Also load the homodimer set"
   ],
   "metadata": {
    "collapsed": false
   }
  },
  {
   "cell_type": "code",
   "execution_count": 14,
   "outputs": [],
   "source": [
    "fasta |= {r.id: str(r.seq) for r in SeqIO.parse(\n",
    "    ppi_dir / 'homodimer.fasta', 'fasta')}"
   ],
   "metadata": {
    "collapsed": false
   }
  },
  {
   "cell_type": "code",
   "execution_count": 16,
   "outputs": [
    {
     "data": {
      "text/plain": "                    hash_A                hash_B  species source  label  \\\n1428  CRC-893BD610A349A08D  CRC-893BD610A349A08D     3702   apid      1   \n1287  CRC-7BD48340D6D2966C  CRC-7BD48340D6D2966C    83333   apid      1   \n1946  CRC-B82DFCCB29A611A4  CRC-B82DFCCB29A611A4   559292   apid      1   \n3171  CRC-FEE7DA7A6E02B08E  CRC-FEE7DA7A6E02B08E     9606   huri      1   \n\n      cclass  len  \n1428       1  104  \n1287       1  114  \n1946       1  118  \n3171       3  120  ",
      "text/html": "<div>\n<style scoped>\n    .dataframe tbody tr th:only-of-type {\n        vertical-align: middle;\n    }\n\n    .dataframe tbody tr th {\n        vertical-align: top;\n    }\n\n    .dataframe thead th {\n        text-align: right;\n    }\n</style>\n<table border=\"1\" class=\"dataframe\">\n  <thead>\n    <tr style=\"text-align: right;\">\n      <th></th>\n      <th>hash_A</th>\n      <th>hash_B</th>\n      <th>species</th>\n      <th>source</th>\n      <th>label</th>\n      <th>cclass</th>\n      <th>len</th>\n    </tr>\n  </thead>\n  <tbody>\n    <tr>\n      <th>1428</th>\n      <td>CRC-893BD610A349A08D</td>\n      <td>CRC-893BD610A349A08D</td>\n      <td>3702</td>\n      <td>apid</td>\n      <td>1</td>\n      <td>1</td>\n      <td>104</td>\n    </tr>\n    <tr>\n      <th>1287</th>\n      <td>CRC-7BD48340D6D2966C</td>\n      <td>CRC-7BD48340D6D2966C</td>\n      <td>83333</td>\n      <td>apid</td>\n      <td>1</td>\n      <td>1</td>\n      <td>114</td>\n    </tr>\n    <tr>\n      <th>1946</th>\n      <td>CRC-B82DFCCB29A611A4</td>\n      <td>CRC-B82DFCCB29A611A4</td>\n      <td>559292</td>\n      <td>apid</td>\n      <td>1</td>\n      <td>1</td>\n      <td>118</td>\n    </tr>\n    <tr>\n      <th>3171</th>\n      <td>CRC-FEE7DA7A6E02B08E</td>\n      <td>CRC-FEE7DA7A6E02B08E</td>\n      <td>9606</td>\n      <td>huri</td>\n      <td>1</td>\n      <td>3</td>\n      <td>120</td>\n    </tr>\n  </tbody>\n</table>\n</div>"
     },
     "execution_count": 16,
     "metadata": {},
     "output_type": "execute_result"
    }
   ],
   "source": [
    "hds = pd.read_csv(ppi_dir / 'homodimer.tsv', sep='\\t')\n",
    "hds['len'] = 2 * hds.hash_A.apply(lambda ha: len(fasta[ha]))\n",
    "hd_ppis = hds.loc[hds.label == 1].sort_values(by='len').head(sample_size)\n",
    "hd_ppis"
   ],
   "metadata": {
    "collapsed": false
   }
  },
  {
   "cell_type": "code",
   "execution_count": 17,
   "outputs": [
    {
     "data": {
      "text/plain": "                     hash_A                hash_B  species     source  label  \\\n10711  CRC-7298618F8CCE8CCD  CRC-7298618F8CCE8CCD   192222       apid      0   \n14610  CRC-E1419ED5FEC45E14  CRC-E1419ED5FEC45E14   559292       apid      0   \n15382  CRC-574B060DBAA0414F  CRC-574B060DBAA0414F     7955  swissprot      0   \n5584   CRC-B6D641A991D520FB  CRC-B6D641A991D520FB     6239       apid      0   \n\n       cclass  len  \n10711       1  100  \n14610       1  100  \n15382       3  100  \n5584        1  100  ",
      "text/html": "<div>\n<style scoped>\n    .dataframe tbody tr th:only-of-type {\n        vertical-align: middle;\n    }\n\n    .dataframe tbody tr th {\n        vertical-align: top;\n    }\n\n    .dataframe thead th {\n        text-align: right;\n    }\n</style>\n<table border=\"1\" class=\"dataframe\">\n  <thead>\n    <tr style=\"text-align: right;\">\n      <th></th>\n      <th>hash_A</th>\n      <th>hash_B</th>\n      <th>species</th>\n      <th>source</th>\n      <th>label</th>\n      <th>cclass</th>\n      <th>len</th>\n    </tr>\n  </thead>\n  <tbody>\n    <tr>\n      <th>10711</th>\n      <td>CRC-7298618F8CCE8CCD</td>\n      <td>CRC-7298618F8CCE8CCD</td>\n      <td>192222</td>\n      <td>apid</td>\n      <td>0</td>\n      <td>1</td>\n      <td>100</td>\n    </tr>\n    <tr>\n      <th>14610</th>\n      <td>CRC-E1419ED5FEC45E14</td>\n      <td>CRC-E1419ED5FEC45E14</td>\n      <td>559292</td>\n      <td>apid</td>\n      <td>0</td>\n      <td>1</td>\n      <td>100</td>\n    </tr>\n    <tr>\n      <th>15382</th>\n      <td>CRC-574B060DBAA0414F</td>\n      <td>CRC-574B060DBAA0414F</td>\n      <td>7955</td>\n      <td>swissprot</td>\n      <td>0</td>\n      <td>3</td>\n      <td>100</td>\n    </tr>\n    <tr>\n      <th>5584</th>\n      <td>CRC-B6D641A991D520FB</td>\n      <td>CRC-B6D641A991D520FB</td>\n      <td>6239</td>\n      <td>apid</td>\n      <td>0</td>\n      <td>1</td>\n      <td>100</td>\n    </tr>\n  </tbody>\n</table>\n</div>"
     },
     "execution_count": 17,
     "metadata": {},
     "output_type": "execute_result"
    }
   ],
   "source": [
    "hd_negs = hds.loc[hds.label == 0].sort_values(by='len').head(sample_size)\n",
    "hd_negs"
   ],
   "metadata": {
    "collapsed": false
   }
  },
  {
   "cell_type": "code",
   "execution_count": 86,
   "outputs": [],
   "source": [],
   "metadata": {
    "collapsed": false
   }
  },
  {
   "cell_type": "code",
   "execution_count": 93,
   "outputs": [],
   "source": [
    "with (ember_dir / 'experi' / 'five.fasta').open('w') as out_fasta:\n",
    "    for df in [ppis, negs, hd_ppis, hd_negs]:\n",
    "        for _, (ida, idb, label) in df[[\n",
    "            'hash_A', 'hash_B', 'label']].T.items():\n",
    "            for spacer_len in [0, 10, 20, 60, 200]:\n",
    "                for rev in [False, True]:\n",
    "                    to_fasta(\n",
    "                        f'{ida}_{idb}_{spacer_len}'\n",
    "                        f'{\"_i\" if label else \"_ni\"}'\n",
    "                        f'{\"_rev\" if rev else \"_fw\"}',\n",
    "                        f'{fasta[ida]}{\"N\" * spacer_len}{fasta[idb][::(-1 if rev else 1)]}',\n",
    "                        out_fasta)"
   ],
   "metadata": {
    "collapsed": false
   }
  },
  {
   "cell_type": "code",
   "execution_count": null,
   "outputs": [],
   "source": [],
   "metadata": {
    "collapsed": false
   }
  },
  {
   "cell_type": "markdown",
   "source": [
    "## Negatome"
   ],
   "metadata": {
    "collapsed": false
   }
  },
  {
   "cell_type": "code",
   "execution_count": 15,
   "outputs": [
    {
     "data": {
      "text/plain": "        0       1         2                                           3\n0  Q6ZNK6  Q9Y4K3  15047173             MI:0019 - coimmunoprecipitation\n1  Q9NR31  Q15797  17356069             MI:0019 - coimmunoprecipitation\n2  P11627  P53986  20155396  MI:0411- enzyme linked immunosorbent assay\n3  P33176  Q96EK5  16225668                     MI:0059 - gst pull down\n4  Q9NPY3  P02745  11994479  MI:0411- enzyme linked immunosorbent assay",
      "text/html": "<div>\n<style scoped>\n    .dataframe tbody tr th:only-of-type {\n        vertical-align: middle;\n    }\n\n    .dataframe tbody tr th {\n        vertical-align: top;\n    }\n\n    .dataframe thead th {\n        text-align: right;\n    }\n</style>\n<table border=\"1\" class=\"dataframe\">\n  <thead>\n    <tr style=\"text-align: right;\">\n      <th></th>\n      <th>0</th>\n      <th>1</th>\n      <th>2</th>\n      <th>3</th>\n    </tr>\n  </thead>\n  <tbody>\n    <tr>\n      <th>0</th>\n      <td>Q6ZNK6</td>\n      <td>Q9Y4K3</td>\n      <td>15047173</td>\n      <td>MI:0019 - coimmunoprecipitation</td>\n    </tr>\n    <tr>\n      <th>1</th>\n      <td>Q9NR31</td>\n      <td>Q15797</td>\n      <td>17356069</td>\n      <td>MI:0019 - coimmunoprecipitation</td>\n    </tr>\n    <tr>\n      <th>2</th>\n      <td>P11627</td>\n      <td>P53986</td>\n      <td>20155396</td>\n      <td>MI:0411- enzyme linked immunosorbent assay</td>\n    </tr>\n    <tr>\n      <th>3</th>\n      <td>P33176</td>\n      <td>Q96EK5</td>\n      <td>16225668</td>\n      <td>MI:0059 - gst pull down</td>\n    </tr>\n    <tr>\n      <th>4</th>\n      <td>Q9NPY3</td>\n      <td>P02745</td>\n      <td>11994479</td>\n      <td>MI:0411- enzyme linked immunosorbent assay</td>\n    </tr>\n  </tbody>\n</table>\n</div>"
     },
     "execution_count": 15,
     "metadata": {},
     "output_type": "execute_result"
    }
   ],
   "source": [
    "negatome = pd.read_csv(ppi_dir.parent / 'negatome' /\n",
    "                       'manual_stringent.txt', sep='\\t', header=None)\n",
    "negatome.head()"
   ],
   "metadata": {
    "collapsed": false
   }
  },
  {
   "cell_type": "code",
   "execution_count": 16,
   "outputs": [
    {
     "data": {
      "text/plain": "   hash_A  hash_B\n0  Q6ZNK6  Q9Y4K3\n1  Q9NR31  Q15797\n2  P11627  P53986\n3  P33176  Q96EK5\n4  Q9NPY3  P02745",
      "text/html": "<div>\n<style scoped>\n    .dataframe tbody tr th:only-of-type {\n        vertical-align: middle;\n    }\n\n    .dataframe tbody tr th {\n        vertical-align: top;\n    }\n\n    .dataframe thead th {\n        text-align: right;\n    }\n</style>\n<table border=\"1\" class=\"dataframe\">\n  <thead>\n    <tr style=\"text-align: right;\">\n      <th></th>\n      <th>hash_A</th>\n      <th>hash_B</th>\n    </tr>\n  </thead>\n  <tbody>\n    <tr>\n      <th>0</th>\n      <td>Q6ZNK6</td>\n      <td>Q9Y4K3</td>\n    </tr>\n    <tr>\n      <th>1</th>\n      <td>Q9NR31</td>\n      <td>Q15797</td>\n    </tr>\n    <tr>\n      <th>2</th>\n      <td>P11627</td>\n      <td>P53986</td>\n    </tr>\n    <tr>\n      <th>3</th>\n      <td>P33176</td>\n      <td>Q96EK5</td>\n    </tr>\n    <tr>\n      <th>4</th>\n      <td>Q9NPY3</td>\n      <td>P02745</td>\n    </tr>\n  </tbody>\n</table>\n</div>"
     },
     "execution_count": 16,
     "metadata": {},
     "output_type": "execute_result"
    }
   ],
   "source": [
    "negatome = negatome.iloc[:, [0, 1]]\n",
    "negatome.columns = ['hash_A', 'hash_B']\n",
    "negatome.head()"
   ],
   "metadata": {
    "collapsed": false
   }
  },
  {
   "cell_type": "code",
   "execution_count": 17,
   "outputs": [
    {
     "data": {
      "text/plain": "(['A1E347', 'A1X4Q1', 'A2AM29', 'A2ASQ1'], 1733)"
     },
     "execution_count": 17,
     "metadata": {},
     "output_type": "execute_result"
    }
   ],
   "source": [
    "negatome_ids = sorted(set(np.unique(negatome)))\n",
    "negatome_ids[:4], len(negatome_ids)"
   ],
   "metadata": {
    "collapsed": false
   }
  },
  {
   "cell_type": "code",
   "execution_count": 18,
   "outputs": [],
   "source": [
    "from ppi_utils import api\n",
    "from ppi_utils import extract\n",
    "from ppi_utils import reduce"
   ],
   "metadata": {
    "collapsed": false
   }
  },
  {
   "cell_type": "code",
   "execution_count": 19,
   "outputs": [],
   "source": [
    "npath = Path('negatome')"
   ],
   "metadata": {
    "collapsed": false
   }
  },
  {
   "cell_type": "code",
   "execution_count": null,
   "outputs": [],
   "source": [
    "hlookup = api.uniprot_api_fetch(negatome_ids, npath / 'manual_stringent')"
   ],
   "metadata": {
    "collapsed": false
   }
  },
  {
   "cell_type": "code",
   "execution_count": 24,
   "outputs": [],
   "source": [
    "with open(npath / 'manual_stringent.json', 'r') as json_file:\n",
    "    hlookup = json.load(json_file)"
   ],
   "metadata": {
    "collapsed": false
   }
  },
  {
   "cell_type": "code",
   "execution_count": 25,
   "outputs": [
    {
     "data": {
      "text/plain": "{'A1E347': 'CRC-13E28B257556496D',\n 'A1X4Q1': 'CRC-05BE58D8A6FDC2A2',\n 'A2AM29': 'CRC-120A0604B13675EC',\n 'A2ASQ1': 'CRC-0679A3F6D8BD1286',\n 'A4IFA9': 'CRC-88B7D038C61C8791',\n 'A5JSJ9': 'CRC-07269000E6C214F0',\n 'A6NIX2': 'CRC-B95E162B3009B886',\n 'B1P6E5': 'CRC-5BB61D5D0E309EBB',\n 'B2RWS6': 'CRC-0E9B2D9508237671',\n 'B2ZZS9': 'CRC-57E722C76602443E',\n 'B3VK31': 'CRC-29F02F9C09B3C032',\n 'B7SGZ7': 'CRC-2A6C43E1A4B724A1',\n 'B7Z018': 'CRC-F1C8FD23A67609A8',\n 'B9EKI3': 'CRC-D208A815FF740CF1',\n 'C4ZQ83': 'CRC-195147734CDF8B04',\n 'C6EGH1': 'CRC-12A14B75A3CAEA19',\n 'C7GKY3': 'CRC-8370B24806510774',\n 'C7GP96': 'CRC-3D2162EEF5E52D69',\n 'C7GX20': 'CRC-36395E15D32F33BD',\n 'C9WF17': 'CRC-089A7E14F77333CC',\n 'D3ZUY8': 'CRC-77D1C8AC17B00EA4',\n 'D3ZWB1': 'CRC-CA3E6E67454E7465',\n 'E5LBX1': 'CRC-EA80817CB9BD0100',\n 'F1NVD2': 'CRC-8A8D713031B70F8E',\n 'F6IB71': 'CRC-FF0167AC03BFCB97',\n 'G0TQZ9': 'CRC-18C0D7E01B851150',\n 'G3V608': 'CRC-ADAC63664E97A520',\n 'G5DGD4': 'CRC-159FE70E5CD32ED5',\n 'G8JZS0': 'CRC-A568B948A0217846',\n 'H2L8A6': 'CRC-380DF74210E75DA7',\n 'H2LD76': 'CRC-76A462F1FA47D8F6',\n 'H2LUV9': 'CRC-09AECD6FA6F2A9E6',\n 'I0LJR4': 'CRC-F0DF88A35B525519',\n 'I0LL25': 'CRC-415BD253E1E8E0EC',\n 'K4CRX6': 'CRC-5C54BCCDAD1BD5DE',\n 'O00167': 'CRC-3DBFC31D8BE1E85D',\n 'O00206': 'CRC-92C48F55821133E8',\n 'O00212': 'CRC-7B960AE8863C6DA5',\n 'O00220': 'CRC-7E96619D0BDC0CD4',\n 'O00238': 'CRC-B283D9BF45535C79',\n 'O00244': 'CRC-0B364B1BD1279314',\n 'O00268': 'CRC-BC2F5B5F143DB145',\n 'O00459': 'CRC-ADAC3E4B61F3F44A',\n 'O00463': 'CRC-86EB3724CE111176',\n 'O00482': 'CRC-7B07170C075490FE',\n 'O00499': 'CRC-0FF1956F0C7E3B50',\n 'O00623': 'CRC-1AF0BE6416422109',\n 'O00626': 'CRC-641FCE999586A7D2',\n 'O00628': 'CRC-D405387F7F14B432',\n 'O00716': 'CRC-4641565842CA99EC',\n 'O04291': 'CRC-C1802529EFCC4E68',\n 'O04663': 'CRC-71FEB309E073A9D2',\n 'O08584': 'CRC-8ACF664A9C6697FC',\n 'O08599': 'CRC-2DD0715F875CE0F3',\n 'O08674': 'CRC-7DEBBEA37EAAEAF4',\n 'O08715': 'CRC-455679FCF95C28E6',\n 'O08734': 'CRC-49972D3CA21F4218',\n 'O08747': 'CRC-8A5D951A4EECA179',\n 'O08785': 'CRC-9864D947049742F4',\n 'O08849': 'CRC-5D6E255C2BC7E7FA',\n 'O08915': 'CRC-25C61AB65F9064F2',\n 'O08983': 'CRC-CFBB610E3F5A7B89',\n 'O12161': 'CRC-2C81886CD7869FB9',\n 'O14543': 'CRC-08581DC411EFFF19',\n 'O14640': 'CRC-B009BDBCC57BD562',\n 'O14733': 'CRC-F1B22E050F54299A',\n 'O14745': 'CRC-E33AF87016D37A65',\n 'O14763': 'CRC-60358EAF2A835870',\n 'O14775': 'CRC-E001B07FCFA587AD',\n 'O14776': 'CRC-5F0A0C3A07EBF00F',\n 'O14786': 'CRC-1EAC2FA6C8FD6A0B',\n 'O14788': 'CRC-766176446348097F',\n 'O14893': 'CRC-3232F410EA98EB81',\n 'O15105': 'CRC-5B76EC986776C102',\n 'O15111': 'CRC-4EA55C6FFC66FA16',\n 'O15116': 'CRC-FF798CDA9447037A',\n 'O15151-4': 'CRC-415E6FA5A0C69857',\n 'O15169': 'CRC-10779173F5092F3F',\n 'O15197': 'CRC-BF1D4D9BE34358A5',\n 'O15304': 'CRC-DB62B7DF4E6B39B3',\n 'O15315': 'CRC-DB0B9AE82F44A52B',\n 'O15350': 'CRC-A467493C5D93EEE0',\n 'O15360': 'CRC-5A1918F2BEF4BC50',\n 'O15379': 'CRC-94485C1EBDCF5AD0',\n 'O15492': 'CRC-19B384E935F3E5D1',\n 'O15530': 'CRC-ED8C0306DC4D0653',\n 'O24017': 'CRC-A5BF4F2C01297120',\n 'O24456': 'CRC-9DA103C4300FE96B',\n 'O26901': 'CRC-90BEE6110C4133F3',\n 'O27798': 'CRC-FB24B0159CC95E13',\n 'O30916': 'CRC-A484B55502CFA643',\n 'O34580': 'CRC-70C553EFC88E6D6D',\n 'O35182': 'CRC-D9282D42B120C507',\n 'O35253': 'CRC-BEEE751371C0E0CF',\n 'O35430': 'CRC-57F6EEA458376CAD',\n 'O35516': 'CRC-3A9067BBE3B1F480',\n 'O35551': 'CRC-5796514BB94E7CE5',\n 'O35625': 'CRC-2216D66E92387B81',\n 'O35657': 'CRC-416BFD5BE27B8893',\n 'O35717': 'CRC-C9051AE9C84BA7F5',\n 'O35718': 'CRC-CD3859561D4CCDED',\n 'O35984': 'CRC-CB6B71A6FE207E8D',\n 'O35988': 'CRC-4246963EC6A25915',\n 'O43172': 'CRC-08975A26D0B21857',\n 'O43186': 'CRC-46747C09277A0864',\n 'O43194': 'CRC-8E3A233420D9021E',\n 'O43290': 'CRC-B13525E80640DF9E',\n 'O43353': 'CRC-575A692239505792',\n 'O43395': 'CRC-4AA6AA4C99110284',\n 'O43447': 'CRC-566BCE6361E0F339',\n 'O43502': 'CRC-3AAADD3C1C0851E0',\n 'O43508': 'CRC-E660843361C28EBA',\n 'O43524': 'CRC-E5B4E830665A9982',\n 'O43541': 'CRC-A4B928AE2D34EBC2',\n 'O43542': 'CRC-4DDF3B163C3B3332',\n 'O43543': 'CRC-5656277E74C06074',\n 'O43557': 'CRC-49D0B1870F390B39',\n 'O43559': 'CRC-F06BFC662B531765',\n 'O43623': 'CRC-63F068C8E6B275D4',\n 'O43739': 'CRC-87FB917899EE957D',\n 'O43823': 'CRC-CBCD5F014FD94B66',\n 'O43929': 'CRC-A7020B6690E30B4E',\n 'O45379': 'CRC-796818879C2F3004',\n 'O54880': 'CRC-F7B24EE46CBC43F5',\n 'O54968': 'CRC-A07478F07F0C90B2',\n 'O55003': 'CRC-901BCFACF43EE989',\n 'O55055': 'CRC-14FEF78C0D2F8BFB',\n 'O55131': 'CRC-1028CCF14023059C',\n 'O60224': 'CRC-4ACA2A8737507AE5',\n 'O60260': 'CRC-9A8BB802A3FC84C3',\n 'O60313': 'CRC-1C397109787AEB4D',\n 'O60423': 'CRC-356B1972DD49DFF5',\n 'O60566': 'CRC-F7871103A56E6B46',\n 'O60583': 'CRC-F449DFFC57FB196B',\n 'O60663': 'CRC-E59FC36C39C7C9A3',\n 'O60674': 'CRC-C30669EF1A7DA80C',\n 'O60683': 'CRC-9CF2CE5E4C797799',\n 'O60716': 'CRC-D5C37489A891F292',\n 'O60784': 'CRC-C7D77B5669476242',\n 'O60832': 'CRC-12474DBEEFEB471C',\n 'O60885': 'CRC-D52EFE1CF9960907',\n 'O60894': 'CRC-8530DD590BAEBE5C',\n 'O60895': 'CRC-AF69A9A461EFFCA3',\n 'O60896': 'CRC-EEEE312496EF513C',\n 'O60907': 'CRC-D830A37781E2A15C',\n 'O60936': 'CRC-239EF1A143EF6168',\n 'O70355': 'CRC-CE09E537F72CF123',\n 'O70373': 'CRC-FF6CBB5D91409E16',\n 'O70433': 'CRC-6D8CBC4B4424BFF2',\n 'O70622': 'CRC-9BBD8F372CF63AD3',\n 'O75175': 'CRC-C9D4F8B9FEF6CD90',\n 'O75190': 'CRC-ECF1628BF7A524F3',\n 'O75192': 'CRC-D904EC715271FF87',\n 'O75360': 'CRC-CE6D59B3D295A86D',\n 'O75376': 'CRC-1647FE060373A125',\n 'O75381': 'CRC-FED28F62A0B94E7F',\n 'O75400': 'CRC-8874D0C1CE1FCDAF',\n 'O75410': 'CRC-3A261EF58C165107',\n 'O75414': 'CRC-DB8C5E046FACD143',\n 'O75419': 'CRC-AE1BE2C8C8E5F867',\n 'O75446': 'CRC-FF84E06B17AFCAC2',\n 'O75496': 'CRC-0BABE60F6F5AC252',\n 'O75528': 'CRC-C86153CFA83F9226',\n 'O75531': 'CRC-9A2180A2D284F5D0',\n 'O75558': 'CRC-18E8B43BA987D891',\n 'O75643': 'CRC-3F3811BDCCC9DDB7',\n 'O75674': 'CRC-47ED5FA1F40144C0',\n 'O75771': 'CRC-6038DA9356DF354A',\n 'O75791': 'CRC-74F4C8D0EBB56D55',\n 'O75888': 'CRC-AE1A6B9457F6E298',\n 'O80809': 'CRC-B5FA831683451831',\n 'O82533': 'CRC-A5CE7F111C962044',\n 'O88346': 'CRC-E0B0FE519714FBE1',\n 'O88498-1': 'CRC-B4D2146F9C0B37A0',\n 'O88498-3': 'CRC-B4D2146F9C0B37A0',\n 'O88498-4': 'CRC-B4D2146F9C0B37A0',\n 'O88565': 'CRC-716AB5CC4ECAFD77',\n 'O88618': 'CRC-76D806CE23478D92',\n 'O88689': 'CRC-082497DBBAEFB503',\n 'O88777': 'CRC-299A7C416405046C',\n 'O88895': 'CRC-1CB84DE250C3BB2C',\n 'O88974': 'CRC-326AED6371D156C2',\n 'O89090': 'CRC-B6B989F0A252CEE5',\n 'O89100': 'CRC-736311D0640CD3D0',\n 'O94906': 'CRC-91C2F1ADCA439BE9',\n 'O94907': 'CRC-5E878B2CCE4236BA',\n 'O95150': 'CRC-65ED70E367E3446D',\n 'O95271': 'CRC-44BDE985C715BEFF',\n 'O95361': 'CRC-A6760717937D82F8',\n 'O95405': 'CRC-ADE5CB530C1272C6',\n 'O95777': 'CRC-15D26E6B75AA2EE1',\n 'O95819': 'CRC-8FBBE2F9ABEEC757',\n 'O95983': 'CRC-B62134DD1BEB636B',\n 'O95988': 'CRC-6BA2CF3F40F78B4D',\n 'O95999': 'CRC-F87C97F2B784BA4B',\n 'O96011': 'CRC-DC26CE30021C7B8D',\n 'O96020': 'CRC-D7DC9BEEF3FD62EC',\n 'P00441': 'CRC-25CA38DA8D564483',\n 'P00451': 'CRC-75FB6A2955C74CB0',\n 'P00533': 'CRC-D8A2A50B4EFB6ED2',\n 'P00709': 'CRC-647F448733B06D65',\n 'P00747': 'CRC-8B31CB877CCB3AB6',\n 'P00749': 'CRC-2F7E6005A8765AC1',\n 'P00756': 'CRC-4870748E174AF7C8',\n 'P00757': 'CRC-9F6690E21982C3DC',\n 'P00772': 'CRC-BF07D6855BB50FE2',\n 'P00797': 'CRC-5AFDF8E973B21EDA',\n 'P00813': 'CRC-786BC5085CA9AFCB',\n 'P00915': 'CRC-4959E5FA25E374F8',\n 'P00918': 'CRC-2EC2BB7548F10558',\n 'P00973': 'CRC-03F0A3AA17DAD4E4',\n 'P01023': 'CRC-0A46DF09EFD3CF40',\n 'P01100': 'CRC-9E3B2969347C90C8',\n 'P01108': 'CRC-3FCA39BFFD6FC59E',\n 'P01112': 'CRC-EE6DC2D933E2856A',\n 'P01116': 'CRC-973547B2E11C2C81',\n 'P01132': 'CRC-28F35C928280D31B',\n 'P01135': 'CRC-D692184F9353DE47',\n 'P01137': 'CRC-75391614250288FE',\n 'P01139': 'CRC-164465E1DC550081',\n 'P01140': 'CRC-DAB346B1093E7E06',\n 'P01186': 'CRC-DB369FED09A74698',\n 'P01236': 'CRC-952BBA1B6A955527',\n 'P01237': 'CRC-755E2874A26862C7',\n 'P01286': 'CRC-366AE05383488C53',\n 'P01303': 'CRC-832CF124321718F2',\n 'P01344': 'CRC-C1B0EB1E016BA37A',\n 'P01346': 'CRC-AF12B4EEC0DBCC34',\n 'P01374': 'CRC-1BBD5E7D496A3A82',\n 'P01375': 'CRC-3DF90F96C9031FFE',\n 'P01582': 'CRC-7F60AC4F330D5B11',\n 'P01583': 'CRC-CBCCC49569D9ED40',\n 'P01586': 'CRC-F38EE7A9E361CAA2',\n 'P01587': 'CRC-209C7CBB4FF77349',\n 'P01589': 'CRC-83D907C8C81D2C0E',\n 'P01857': 'CRC-3770EE106C2FA33D',\n 'P02340': 'CRC-ED5A607378D921D7',\n 'P02533': 'CRC-120BA30BA2F8E397',\n 'P02540': 'CRC-4D6992271A004630',\n 'P02545': 'CRC-E0855F7699F0318B',\n 'P02554': 'CRC-EF71423B12C5E1B2',\n 'P02609': 'CRC-FF5913861D2795F1',\n 'P02710': 'CRC-398C86C9309AF0D8',\n 'P02730': 'CRC-35EC3EE7AFF27D2F',\n 'P02745': 'CRC-8FF6B6AE02D49C4C',\n 'P02751': 'CRC-6C436A7A5FEE6DEB',\n 'P02753': 'CRC-660C6DD8CC9B811A',\n 'P02765': 'CRC-3FE60C8D6B6272D5',\n 'P02769': 'CRC-39167DFE768585D4',\n 'P02771': 'CRC-4D4E45820E1C2D4F',\n 'P02776': 'CRC-E96C2EFE9B944D85',\n 'P02778': 'CRC-44AE51967C58DDFF',\n 'P02788': 'CRC-0489CABA6D13C098',\n 'P02866': 'CRC-0F2F7DBBCF547E42',\n 'P02870': 'CRC-194756B9F1A069C5',\n 'P02925': 'CRC-E5FA305A64EF3ACE',\n 'P03073': 'CRC-34E00D0612BA7E93',\n 'P03169': 'CRC-E6041928A91A5867',\n 'P03211': 'CRC-4D161653E16FC341',\n 'P03244': 'CRC-D6665B27183720CC',\n 'P03255': 'CRC-8C5997A3908C40D7',\n 'P03372': 'CRC-5455C57AB0CCCAA7',\n 'P03393': 'CRC-407F56F769863D74',\n 'P03495': 'CRC-14D0308795627E5E',\n 'P03682': 'CRC-DF8407CC27886120',\n 'P03966': 'CRC-E7AFD3DCBCABF290',\n 'P03969': 'CRC-BE6CE70FA6107129',\n 'P03973': 'CRC-B62F3221E0903D90',\n 'P03995': 'CRC-C0FB500AE1588377',\n 'P04003': 'CRC-67E03F2EA85A16DD',\n 'P04049': 'CRC-EF821B5349711BC3',\n 'P04141': 'CRC-75D1E50506BCA7A8',\n 'P04150': 'CRC-C5C90C9A5DD16AAB',\n 'P04156': 'CRC-43DB596BAAA66484',\n 'P04163': 'CRC-AE03A6E7DD7A8D65',\n 'P04202': 'CRC-4381A51B711D689E',\n 'P04233': 'CRC-27A13F252D5FB91D',\n 'P04234': 'CRC-6C1F248150186D21',\n 'P04275': 'CRC-D5C1C78360917C29',\n 'P04351': 'CRC-B3B17644F6EF83CA',\n 'P04401': 'CRC-C6DC091682452AF4',\n 'P04406': 'CRC-C9C135E8AE3E8744',\n 'P04578': 'CRC-6FAB16AF85107FE0',\n 'P04601': 'CRC-5A26976E95483E9C',\n 'P04608': 'CRC-4DDC56D979769115',\n 'P04626': 'CRC-39E9DFDA04DCF962',\n 'P04628': 'CRC-F7E8111DA12E173F',\n 'P04637': 'CRC-AD5C149FD8106131',\n 'P04792': 'CRC-1B4DC44A6F6606D5',\n 'P04840': 'CRC-C99D03711AF9B54D',\n 'P05017': 'CRC-967596AEAC0CA387',\n 'P05067': 'CRC-A12EE761403740F5',\n 'P05111': 'CRC-0E03D2AB12BF8E57',\n 'P05112': 'CRC-8725BF64B34D45F7',\n 'P05121': 'CRC-A2E181ED28DD6082',\n 'P05132': 'CRC-02F85D66EB21A1FA',\n 'P05161': 'CRC-B6858A15AB0FFFDE',\n 'P05230': 'CRC-F586E8BFB09F1580',\n 'P05412': 'CRC-0695E23AC4D33561',\n 'P05532': 'CRC-03FB4D672248585E',\n 'P05549': 'CRC-FB8FA33C3AEED71F',\n 'P05627': 'CRC-2BE0E4025B8B1CA3',\n 'P05696': 'CRC-94889E7339C17719',\n 'P05712': 'CRC-B68AAFF894DBE819',\n 'P05771': 'CRC-3937E7B667108C68',\n 'P05783': 'CRC-1E5604C6BCC7A17A',\n 'P05814': 'CRC-2619C524EA1358E8',\n 'P05943': 'CRC-EC12960C177F1BBC',\n 'P06136': 'CRC-839A3D34B948CEAB',\n 'P06213': 'CRC-709A955660739066',\n 'P06241': 'CRC-4A1E443A4B5A0977',\n 'P06400': 'CRC-C8E746111E19CC32',\n 'P06493': 'CRC-942D79448EFE490A',\n 'P06537': 'CRC-528730BD2C517554',\n 'P06685': 'CRC-85E98233EE6C18E9',\n 'P06703': 'CRC-860CBB1416ACBCA1',\n 'P06729': 'CRC-A03D853C3B618917',\n 'P06730': 'CRC-B869B8DE615E699D',\n 'P06750': 'CRC-D455F2A72F609759',\n 'P06753': 'CRC-99EAD24C45460A14',\n 'P06876': 'CRC-0C6308E584726D01',\n 'P07196': 'CRC-98C1712D8ACFF33A',\n 'P07200': 'CRC-A9FC32859BA6AF06',\n 'P07203': 'CRC-5DB11579C66FE8E5',\n 'P07249': 'CRC-1F46C5C53ED88EE6',\n 'P07321': 'CRC-65F94E214E0DEF2E',\n 'P07384': 'CRC-1CB6D7C56D063498',\n 'P07437': 'CRC-1E6CD0A36773A103',\n 'P07522': 'CRC-C224A302E9578031',\n 'P07620': 'CRC-9CB45EB82B8ADBCE',\n 'P07621': 'CRC-B93E53570955882D',\n 'P07766': 'CRC-A1603D01CE9957D7',\n 'P07900': 'CRC-969F65FCC0BC86FD',\n 'P07911': 'CRC-D26A07A76353AE48',\n 'P07948': 'CRC-408D3D461204E378',\n 'P07949': 'CRC-A3DA0CE01A19A441',\n 'P08047': 'CRC-43893DBF6518B9EA',\n 'P08069': 'CRC-AE8A735F87F745C8',\n 'P08081': 'CRC-C939E85B0FD2E124',\n 'P08107': 'CRC-78F513118C96DE66',\n 'P08133': 'CRC-90F47474F7F6D7B6',\n 'P08174': 'CRC-C1CBE5300F60C176',\n 'P08238': 'CRC-A93118C214D03810',\n 'P08476': 'CRC-201CDEDF99CB6919',\n 'P08553': 'CRC-0783F50558A7D4C3',\n 'P08588': 'CRC-0950F2684E4721B8',\n 'P08603-2': 'CRC-3C26D62A2BF9BFEE',\n 'P08621': 'CRC-F1020BF5C40CF97D',\n 'P08646': 'CRC-14236DCD65EACCD2',\n 'P08670': 'CRC-BAB54026665B015A',\n 'P08700': 'CRC-BB46F23FAC1259A4',\n 'P08752': 'CRC-90AC64AFA713493E',\n 'P08956': 'CRC-C5B90A799C455318',\n 'P08957': 'CRC-D41C02203747C965',\n 'P09038': 'CRC-EAE98552A39D5E19',\n 'P09056': 'CRC-F5C65EF11A67A835',\n 'P09225': 'CRC-F496F83C685950D3',\n 'P09326': 'CRC-9E46D76FC36A512C',\n 'P09341': 'CRC-17048A6B4D765CA2',\n 'P09382': 'CRC-2FBB8D7A1FC0F1F9',\n 'P09471': 'CRC-4F182926A8106E3E',\n 'P09529': 'CRC-90316C83597BA6B4',\n 'P09693': 'CRC-EE65C0186FB9872B',\n 'P09712': 'CRC-671753C1AA75920D',\n 'P09728': 'CRC-43B67DA189A5EF93',\n 'P09729': 'CRC-D8B0EBA23A8B7067',\n 'P09731': 'CRC-D7F033C8009502BC',\n 'P09793': 'CRC-5318FAAF416F4685',\n 'P09803': 'CRC-7A6444148D3D5983',\n 'P09866': 'CRC-0CE81B6E7DEFDB5E',\n 'P09874': 'CRC-6A5FC01EB91C046B',\n 'P09917': 'CRC-36F38C0A9E86BB21',\n 'P09951': 'CRC-65799FEF7CFE18B5',\n 'P0A6A8': 'CRC-41FCFC39D45BFEA1',\n 'P0A6F5': 'CRC-CD3A0FB505F74AD1',\n 'P0A6S5': 'CRC-9B50A7EF637809D7',\n 'P0A9A6': 'CRC-B3A53340367DBBA0',\n 'P0A9H1': 'CRC-F1CD9B2E2030D6A7',\n 'P0A9X4': 'CRC-1393696D8CDAEF93',\n 'P0ABG4': 'CRC-7935EC952AD9A1F3',\n 'P0ABH0': 'CRC-C2475377A229B982',\n 'P0AC30': 'CRC-C006ED56043739AE',\n 'P0AD68': 'CRC-C89A403D5980B2CD',\n 'P0AEN4': 'CRC-6DD5DF7B2ECB7090',\n 'P0AFS3': 'CRC-73B942EE144E2CC3',\n 'P0AG20': 'CRC-FA269709F15E1F25',\n 'P0AG74': 'CRC-38401669E8819EA6',\n 'P0AG86': 'CRC-00514C5F393A643D',\n 'P0AGE0': 'CRC-F0AF43B6DC8D02FC',\n 'P0C605': 'CRC-51878E2D27F26A22',\n 'P0C746': 'CRC-B47598ABCE66EE71',\n 'P0C8E7': 'CRC-1CDFB331167EE2CF',\n 'P0CL52': 'CRC-86B1602D4B5DB56F',\n 'P10145': 'CRC-15C649996E89319F',\n 'P10147': 'CRC-517865D5D6776CA8',\n 'P10166': 'CRC-9174F6FD7C03321E',\n 'P10242': 'CRC-FD5E6694020426ED',\n 'P10276': 'CRC-E8D1CF9A1E57CB99',\n 'P10398': 'CRC-D23E5711304AA468',\n 'P10415': 'CRC-3C49F2B714DC9CCB',\n 'P10636': 'CRC-D46C66CDBCD196E8',\n 'P10745': 'CRC-6C1841411E012E0F',\n 'P10747': 'CRC-1D9B6552A5878D0F',\n 'P10809': 'CRC-E51E1BAD9615899C',\n 'P10827': 'CRC-C87C7D2F67B1AE49',\n 'P10828': 'CRC-6770BB0D372A7CAA',\n 'P10855': 'CRC-8BFF2DE7C6DEDD38',\n 'P10909': 'CRC-9583DE4CCECC169F',\n 'P10993': 'CRC-2DFCD4954AFFB2F3',\n 'P10999': 'CRC-6BDBD1CF25ACEE92',\n 'P11021': 'CRC-59B7D8D85BC32A00',\n 'P11084': 'CRC-364A1641F8B22B41',\n 'P11103': 'CRC-5E54C3E5F60BB922',\n 'P11276': 'CRC-24A207BE67F85585',\n 'P11473': 'CRC-F95F300D042C4CB7',\n 'P11505': 'CRC-29BD18FC2B024746',\n 'P11627': 'CRC-22BE57001CB2A538',\n 'P11632': 'CRC-A227296A12D440D8',\n 'P11655': 'CRC-DD4CEED041E776C3',\n 'P11799-3': 'CRC-AD7D8A3B69EE3363',\n 'P11802': 'CRC-0916A0C07403A33A',\n 'P12004': 'CRC-E6F08E7EDBC48B00',\n 'P12259': 'CRC-24AEF3FEA7332E37',\n 'P12465': 'CRC-631E52784742B06B',\n 'P12643': 'CRC-20653A3987B25E60',\n 'P12645': 'CRC-2809B7EF5E37596A',\n 'P12757': 'CRC-6A04D4ECEC214CF1',\n 'P12931': 'CRC-C1908084683E5DE8',\n 'P12956': 'CRC-BBD3CD434526DFCB',\n 'P12962': 'CRC-870CA17343798805',\n 'P12978': 'CRC-DEF40D7F8ED61D1A',\n 'P13010': 'CRC-2363CA84834E74A3',\n 'P13213': 'CRC-BD54FA0F727054D5',\n 'P13236': 'CRC-F2EA7CF341B0E258',\n 'P13264': 'CRC-4B2524A45D3678CA',\n 'P13405': 'CRC-AE81D35A07ADB493',\n 'P13501': 'CRC-FB0BFAF9A87C620F',\n 'P13569': 'CRC-8D082AA2E768C065',\n 'P13574': 'CRC-EE7371F18BBC0337',\n 'P13595': 'CRC-78AF831BABD23918',\n 'P13631': 'CRC-1EE27B22772D4AFD',\n 'P13647': 'CRC-E9D5318E01F55145',\n 'P13725': 'CRC-A5BE281175D101B9',\n 'P13808': 'CRC-1A0782C0071782EE',\n 'P13861': 'CRC-C7D6E8E476E1DB65',\n 'P13987': 'CRC-2F0D29CBE3C28505',\n 'P14097': 'CRC-8853FD58FDE61BAC',\n 'P14136': 'CRC-E6C3B3454C3F1250',\n 'P14151': 'CRC-6EA9918ECA2D3643',\n 'P14270-1': 'CRC-13E28B257556496D',\n 'P14270-5': 'CRC-13E28B257556496D',\n 'P14373': 'CRC-6F963D9048D8A731',\n 'P14619': 'CRC-51389502A5E5FBD2',\n 'P14625': 'CRC-9BF6705A7A2ED0D0',\n 'P14646-1': 'CRC-C48F576EFA8DF498',\n 'P14646-2': 'CRC-C48F576EFA8DF498',\n 'P14753': 'CRC-067657A2E26451CA',\n 'P14921': 'CRC-3B66BCC464B393FB',\n 'P14923': 'CRC-3519A0973748BCF4',\n 'P15018': 'CRC-634CD10BFF67A217',\n 'P15153': 'CRC-2A1F1266B07C3210',\n 'P15172': 'CRC-75E624D2ED5B0B33',\n 'P15205': 'CRC-B9E2ED2B5F3742A4',\n 'P15207': 'CRC-43F4064759FDCBED',\n 'P15208': 'CRC-B0FA7DBD2AD4646A',\n 'P15247': 'CRC-ECD944632CE837C7',\n 'P15307': 'CRC-98FC237B6D140416',\n 'P15311': 'CRC-F1B592CF49A7CC46',\n 'P15331': 'CRC-777300B08A312953',\n 'P15337': 'CRC-D6D715DEED679FF2',\n 'P15385': 'CRC-40AEF2F901A05F43',\n 'P15498': 'CRC-AC3BC9736FD2F138',\n 'P15499': 'CRC-F9B80C14F2867BDE',\n 'P15509': 'CRC-D9025B981E41311D',\n 'P15514': 'CRC-68C1FA6BCD4D2BED',\n 'P15531': 'CRC-AAE9C0DF63CB70A1',\n 'P15559': 'CRC-A4010462AD00F3FE',\n 'P15655': 'CRC-689F677416274388',\n 'P15692': 'CRC-FB49F364446F4D01',\n 'P15692-8': 'CRC-FB49F364446F4D01',\n 'P15976': 'CRC-822BD2DE14B908AD',\n 'P16054': 'CRC-7AEBB8CC10C99F57',\n 'P16070': 'CRC-BB9B66B19B970349',\n 'P16086': 'CRC-08DDF01A2871278A',\n 'P16092': 'CRC-D5A4695FA680926B',\n 'P16104': 'CRC-D4683775C2E6C3A9',\n 'P16157': 'CRC-49466F6F915019EC',\n 'P16333': 'CRC-554E9B1A936AEF30',\n 'P16410': 'CRC-6F9466FB2E139A5A',\n 'P16471': 'CRC-DB7FD0328608C787',\n 'P16520': 'CRC-896E706A61B8D74F',\n 'P16757': 'CRC-B72F2C241C569967',\n 'P16778': 'CRC-FA39A37C51FFB4A3',\n 'P17036': 'CRC-EEF50906695779A6',\n 'P17141': 'CRC-D873AEEB2547F809',\n 'P17252': 'CRC-9EB157789A062349',\n 'P17480': 'CRC-D4F0F8BB180E757D',\n 'P17560': 'CRC-B8914E76CA4716A6',\n 'P17612': 'CRC-BF6D3ECD2614E5AB',\n 'P17661': 'CRC-1B5D9EA93C3BB319',\n 'P17679': 'CRC-BB627A92700D557A',\n 'P17706': 'CRC-0207694A4F058E68',\n 'P17839': 'CRC-4E7591AD85654C1C',\n 'P17918': 'CRC-F705CCBDD3205986',\n 'P17948': 'CRC-FF3381EEFAF0787C',\n 'P17980': 'CRC-0E443465DDDEBB0B',\n 'P18064': 'CRC-46BF8650E067F968',\n 'P18113': 'CRC-16705C200E02995B',\n 'P18206': 'CRC-BFBD687DA836B0FA',\n 'P18508': 'CRC-3C60B66E0D23072F',\n 'P18576': 'CRC-3332DB595D67B3A8',\n 'P18627': 'CRC-5E0BDEF20E9E36D2',\n 'P18653': 'CRC-A5D8E5E5FDBCE4BF',\n 'P18847': 'CRC-EC5D8F065EEE2D9C',\n 'P18848': 'CRC-3BBB7379DC3B0D07',\n 'P18901': 'CRC-0380042E8590F470',\n 'P19366': 'CRC-174F4B075E7D57E3',\n 'P19419': 'CRC-68F71F8ADB9D38CA',\n 'P19490': 'CRC-2D4CFA7CCD532838',\n 'P19491': 'CRC-DEFA817027C1CCD1',\n 'P19544': 'CRC-11C7FA3D485096B2',\n 'P19632': 'CRC-5CA621610401D550',\n 'P19784': 'CRC-3ECB92F6BD3DD7F1',\n 'P19793': 'CRC-7F952B580AD84C42',\n 'P19838': 'CRC-2A7C8FF86A10D1A8',\n 'P19934': 'CRC-8B2F52B4B97C655E',\n 'P19940': 'CRC-FC4040ED31EB47D2',\n 'P20023': 'CRC-7D89DB4A07847E9A',\n 'P20153': 'CRC-58BA37A9FD9EBE80',\n 'P20226': 'CRC-A61A578D972B970B',\n 'P20338': 'CRC-983D65E1162741B0',\n 'P20396': 'CRC-8C0F9D915B32F29F',\n 'P20700': 'CRC-73292877745722C4',\n 'P20917': 'CRC-54E7D53096010905',\n 'P20942': 'CRC-3C48ABCB4E5E3D04',\n 'P20963': 'CRC-9408260374856EE9',\n 'P21109': 'CRC-EFE49ACB9D1E0F21',\n 'P21183': 'CRC-A4326D2922571C08',\n 'P21237': 'CRC-90CE1F16BB235C97',\n 'P21246': 'CRC-0359C08B6497B579',\n 'P21274': 'CRC-D0C03B63B1D5C4E2',\n 'P21675': 'CRC-93BE3D181A72ABEB',\n 'P21707': 'CRC-06CE28F04C97A722',\n 'P21731': 'CRC-114A7C3F3F0D35F1',\n 'P21781': 'CRC-B19192474E6049E2',\n 'P21796': 'CRC-89BA3378B04020D5',\n 'P21803': 'CRC-FCDB28ADD61F4414',\n 'P21836': 'CRC-66E2512463C21172',\n 'P21917': 'CRC-34CBE8320302008E',\n 'P21981': 'CRC-9B64B074D3F837DE',\n 'P22003': 'CRC-631277413CCC22EE',\n 'P22004': 'CRC-3F19155B36049278',\n 'P22087': 'CRC-2123F41E01EC557A',\n 'P22298': 'CRC-0390D3DE28A9655C',\n 'P22303': 'CRC-B9AA84C77831C302',\n 'P22455': 'CRC-B22B259831BB889F',\n 'P22561': 'CRC-962381E9C8D7A380',\n 'P22607-3': 'CRC-BC5EA75EA46F447E',\n 'P22681': 'CRC-1AA6BF67377322CA',\n 'P22736': 'CRC-41DAAEA7C25FDA22',\n 'P22897': 'CRC-264E5AF3C576A5E3',\n 'P23297': 'CRC-AD5E53AF326B25D2',\n 'P23299': 'CRC-E66DF4742300E839',\n 'P23510': 'CRC-0D5604AD29D529CF',\n 'P23511': 'CRC-D00BE17041EB1A9E',\n 'P23514': 'CRC-FB44C55D13A9B101',\n 'P23588': 'CRC-31CEFEA865FB10D2',\n 'P23634': 'CRC-568544103CD5F494',\n 'P23769': 'CRC-C879CC932C355E6A',\n 'P23804-2': 'CRC-4ABF489A82038DF4',\n 'P23818': 'CRC-F0FF7031DADD7CEB',\n 'P24230': 'CRC-7826143A8F4292A2',\n 'P24385': 'CRC-3CC00C9905F58D3A',\n 'P24394': 'CRC-9F886DF5612297F8',\n 'P24588': 'CRC-D2A86298EAF1BE32',\n 'P24666': 'CRC-46617BD799313EED',\n 'P24786': 'CRC-A3C6716B10D28540',\n 'P24864': 'CRC-424DF0B253B7047E',\n 'P24941': 'CRC-F90A0F4E70910B51',\n 'P25054': 'CRC-77E194AE4A91DC5A',\n 'P25100': 'CRC-EBEB134CF20A4988',\n 'P25205': 'CRC-C967C068B7090558',\n 'P25206': 'CRC-3C8653CF13D0F140',\n 'P25311': 'CRC-006A153A8E32A0B1',\n 'P25445': 'CRC-0139942535111410',\n 'P25446': 'CRC-D8DA95CA525CED56',\n 'P25490': 'CRC-058C05A0AD2D04E6',\n 'P25697': 'CRC-4660A92EF7E39BC6',\n 'P25815': 'CRC-786E6E3F3EACC6C1',\n 'P25822': 'CRC-0A343220BB1F0B27',\n 'P25856': 'CRC-FFD7FD662FB222FC',\n 'P25916': 'CRC-AD7DECDB6B29DCE5',\n 'P25942': 'CRC-BC8776EC2C4A5680',\n 'P25963': 'CRC-088B313226786395',\n 'P25976': 'CRC-006A20A7F968DB6A',\n 'P26038': 'CRC-865A6C5CB14AE586',\n 'P26039': 'CRC-78832388E2392B8E',\n 'P26151': 'CRC-1C4F0033842767E7',\n 'P26368': 'CRC-26AD271CD8FC6211',\n 'P26450': 'CRC-9975D7AD8BABBA9C',\n 'P26641': 'CRC-A6110663110CF3FC',\n 'P26951': 'CRC-716CE1803F2E5FC0',\n 'P26955': 'CRC-8E30ECB42C67F89A',\n 'P27037': 'CRC-A89822E880979618',\n 'P27348': 'CRC-175534325E9E37C4',\n 'P27361': 'CRC-E6020CE413EC41F7',\n 'P27487': 'CRC-5FB4A2C6662D6117',\n 'P27512': 'CRC-C7970DAD2FEA534A',\n 'P27548': 'CRC-7E1AC117473672AD',\n 'P27584': 'CRC-1841026C8BDCC0E6',\n 'P27601': 'CRC-45A6A6DB47C707BB',\n 'P27699': 'CRC-0B387B7247113088',\n 'P27701': 'CRC-FC379855BD1CABDE',\n 'P27815': 'CRC-92BB9B98BED711E7',\n 'P27815-1': 'CRC-92BB9B98BED711E7',\n 'P27882': 'CRC-83DADA0DB1DF17CC',\n 'P27918': 'CRC-5EB42B63F0283917',\n 'P27986': 'CRC-B9DAD8416C33140F',\n 'P28033': 'CRC-827AC4AFC209AE89',\n 'P28069': 'CRC-0866777E3E425873',\n 'P28328': 'CRC-F624F93C613FF2DB',\n 'P28360': 'CRC-1B5F01B35920E64F',\n 'P28482': 'CRC-E85D0B2A5D2D724E',\n 'P28494': 'CRC-8FEEAA55D4AD068B',\n 'P28574': 'CRC-86D133137727A57A',\n 'P28651': 'CRC-FAA2B1678A9AEF54',\n 'P28652': 'CRC-8A7962A6495FD0D0',\n 'P28738': 'CRC-A36BC903603D8748',\n 'P28749': 'CRC-2BC4876EA04BDB31',\n 'P28799': 'CRC-4E5947F1B4EDE619',\n 'P29131': 'CRC-21CEA5771FF3FB66',\n 'P29150': 'CRC-2D8EF928E58DBC89',\n 'P29351': 'CRC-CF17300D032638D2',\n 'P29353': 'CRC-7EFA5CB185A548D1',\n 'P29476-3': 'CRC-7255C5AE165200F5',\n 'P29590': 'CRC-D50968A977E34287',\n 'P29965': 'CRC-16F5CEB093BCC2BB',\n 'P30117': 'CRC-B18B6ED5B613D9C6',\n 'P30153': 'CRC-5174EBE94D537836',\n 'P30154': 'CRC-86AB20D7505210B0',\n 'P30260': 'CRC-E6C8F59C1EF1DCBA',\n 'P30533': 'CRC-D56A7DA754125CFA',\n 'P30560': 'CRC-4F452C8DF7B4C900',\n 'P30658': 'CRC-F89EF3CEF14ACA72',\n 'P30882': 'CRC-5DFD66F4684FE1C8',\n 'P31007-7': 'CRC-544D1E1AD03B0674',\n 'P31016': 'CRC-7922D4E8E0F9AD85',\n 'P31041': 'CRC-C8E1339DD7E53CA6',\n 'P31150': 'CRC-BC283A445E50A652',\n 'P31269': 'CRC-823A1A22BB07A881',\n 'P31273': 'CRC-30C1FD06228833FC',\n 'P31324': 'CRC-24196C3037789827',\n 'P31695': 'CRC-53D7F86394FC40BD',\n 'P31749': 'CRC-6EAFF4F8AD436714',\n 'P31750': 'CRC-98DF28E5EFE03730',\n 'P31786': 'CRC-86F725C998785675',\n 'P31946': 'CRC-6BE1A9BF97468017',\n 'P31947': 'CRC-7F4B44E3AA59ECE6',\n 'P31949': 'CRC-1729ED680290CFE4',\n 'P32298-2': 'CRC-72FCF94ED551F2D0',\n 'P32298-3': 'CRC-72FCF94ED551F2D0',\n 'P32298-4': 'CRC-72FCF94ED551F2D0',\n 'P32481': 'CRC-D498AE62BC3E81CD',\n 'P32494': 'CRC-489016BFD1C095D4',\n 'P32851': 'CRC-8F929F489E323CAA',\n 'P32927': 'CRC-3398E37FDB8F393A',\n 'P32970': 'CRC-9265856E33BE4D50',\n 'P32971': 'CRC-C653615682305B1B',\n 'P32972': 'CRC-29003157DD425159',\n 'P33175': 'CRC-419AD8C2D747DA0A',\n 'P33176': 'CRC-A1FE5760C3250C8B',\n 'P33991': 'CRC-96D9CA2A7D88D015',\n 'P34021': 'CRC-B48D610D722F014F',\n 'P34741': 'CRC-7DA4159D54741054',\n 'P34925': 'CRC-3AFAE21A2680F400',\n 'P34932': 'CRC-8B690A52A0729C2A',\n 'P35213': 'CRC-B663D1F2182F9C43',\n 'P35221': 'CRC-7AAE6F5DDBAF5099',\n 'P35222': 'CRC-CB78F165A3EEF86E',\n 'P35225': 'CRC-BE2D46CCF913D129',\n 'P35240': 'CRC-B1A1BF2BD5DA561C',\n 'P35240-1': 'CRC-B1A1BF2BD5DA561C',\n 'P35241': 'CRC-889687E1D675FFE7',\n 'P35279': 'CRC-DD08CC2914668FD4',\n 'P35285': 'CRC-1799B676CA9091F7',\n 'P35288': 'CRC-AA1F2B25BAECD3E6',\n 'P35292': 'CRC-11052D3EC730EFAB',\n 'P35293': 'CRC-D1B0F48666999B77',\n 'P35295': 'CRC-3A2E70A18D5280A9',\n 'P35348': 'CRC-1A50487531DECDF0',\n 'P35367': 'CRC-E5DB418A4C17A985',\n 'P35368': 'CRC-F081A23D2F943F7F',\n 'P35396': 'CRC-58E0F595DD193FDA',\n 'P35439': 'CRC-613D36E38F05BC73',\n 'P35452': 'CRC-224D53783405A162',\n 'P35523': 'CRC-CA838BCD2AF3CA68',\n 'P35548': 'CRC-5B61B75F4A7C4AFD',\n 'P35570': 'CRC-A274BC7540CA85C5',\n 'P35590': 'CRC-3B42BE33678C58A1',\n 'P35606': 'CRC-824BB63BEFAA53F6',\n 'P35609': 'CRC-7F612C1C3B3E2299',\n 'P35638': 'CRC-31905293FB1FBBE2',\n 'P35872': 'CRC-1F9406B9EFDF9C0E',\n 'P35916': 'CRC-B1473AAAC95E7E93',\n 'P35917': 'CRC-F1BF8A2BDEF99BE9',\n 'P35918': 'CRC-11859F8A58A33A39',\n 'P35968': 'CRC-59E7C44B05CFEBB3',\n 'P36046': 'CRC-5904E8D0213D6EFA',\n 'P36871': 'CRC-61A26C19107D467A',\n 'P36888': 'CRC-6C1995718F352ECE',\n 'P36894': 'CRC-00CE2DDDA3A44170',\n 'P36897': 'CRC-179F11404725DDCB',\n 'P36915': 'CRC-F8EBB4EDBB73D929',\n 'P37231': 'CRC-3933EFF36A0E4CAF',\n 'P37238': 'CRC-AB8F3F6086E2A10A',\n 'P37275': 'CRC-0A2714CC37C848D1',\n 'P37397': 'CRC-428226594E10BA05',\n 'P37455': 'CRC-C170025FBDACDC5D',\n 'P37840': 'CRC-6BB2F12128931663',\n 'P37889': 'CRC-F74113CD292FF51C',\n 'P38431': 'CRC-1A1DA563B4ED1B1F',\n 'P38532': 'CRC-DCB6418FC12F5F43',\n 'P38936': 'CRC-98D1E7C519ADFCA9',\n 'P39052': 'CRC-3802DBAFA3ABBE98',\n 'P39060': 'CRC-23A327DCBD3B328D',\n 'P39429': 'CRC-043B391180365F10',\n 'P39447': 'CRC-002B96F5A998B5CD',\n 'P40424': 'CRC-AD3FFACBC5A9E715',\n 'P40425': 'CRC-EF2FFA158C4DAF68',\n 'P40879': 'CRC-694C5BC2D4121F6D',\n 'P40933': 'CRC-0CE0520C1D8379E2',\n 'P41047': 'CRC-37972E2728E0A1CA',\n 'P41155': 'CRC-B7D276AB84A22549',\n 'P41220': 'CRC-EFFE4AE47EF9AD8F',\n 'P41240': 'CRC-431023A88C54E00C',\n 'P41273': 'CRC-827551F34563E508',\n 'P41274': 'CRC-2A425829AD6B89C0',\n 'P41350': 'CRC-55E8F6ABC7514FD2',\n 'P41587': 'CRC-265A43A70BE09699',\n 'P41593': 'CRC-C2E6CCAF2ABAFEEF',\n 'P42208': 'CRC-C4BFFB3F1815E081',\n 'P42212': 'CRC-EA5A6F21FBFB6E05',\n 'P42224': 'CRC-054A813522364BA6',\n 'P42225': 'CRC-249D919952BE65F1',\n 'P42226': 'CRC-F35075F1C1F2A677',\n 'P42229': 'CRC-C64237295F88CFBE',\n 'P42285': 'CRC-49F47BEC753FBEE7',\n 'P42586': 'CRC-1F3DBB8127667F19',\n 'P42702': 'CRC-C8602897E359FCE5',\n 'P42771': 'CRC-E59C0E6174B48255',\n 'P42858': 'CRC-A267509E84D52F0D',\n 'P43004': 'CRC-C8104E6727979435',\n 'P43146': 'CRC-BC17EA0E93DE8768',\n 'P43351': 'CRC-7E1BBCAF0B9CD4AF',\n 'P43403': 'CRC-D1E1A8EC66FA116F',\n 'P43407': 'CRC-C213D1B64D88376F',\n 'P43488': 'CRC-F4B23A7CC0590459',\n 'P43489': 'CRC-49F15525941550BF',\n 'P45481': 'CRC-D89AF52B7BD33347',\n 'P45983': 'CRC-94FB6BE0358B9B60',\n 'P46063': 'CRC-F616DC3191F79391',\n 'P46108': 'CRC-4CFBFB65BFC2E265',\n 'P46414': 'CRC-BAC30D648B9BA3D6',\n 'P46527': 'CRC-1118D58901CDF3FC',\n 'P46531': 'CRC-E173C872D195F028',\n 'P46630': 'CRC-B323311CBD40013D',\n 'P46662': 'CRC-8D06F557E3435851',\n 'P46934': 'CRC-D56EBBC50A34F13B',\n 'P46939': 'CRC-C72CADE8CD666993',\n 'P47224': 'CRC-78E98395FAE10257',\n 'P47708': 'CRC-D09F8D8D2CBB271E',\n 'P47709': 'CRC-05838BC3C7A86444',\n 'P47825': 'CRC-27E6852859872767',\n 'P48023': 'CRC-A8A6EB358246E9BB',\n 'P48415': 'CRC-757B7A7231BEE6F0',\n 'P48540': 'CRC-B6731C767A3A95B7',\n 'P48552': 'CRC-81FC424968E9A5F6',\n 'P48616': 'CRC-8722F645FED23BDC',\n 'P48729': 'CRC-1B2085AE33CAFAC2',\n 'P48730': 'CRC-B97F1717A52466D2',\n 'P48736': 'CRC-EF2B1A0E1CBEF406',\n 'P48995': 'CRC-F4CC57ADDFA320AE',\n 'P49023': 'CRC-ABF6C0BE5939623F',\n 'P49069': 'CRC-22DCD8CF022FEF09',\n 'P49116': 'CRC-5180BDC3F3C8BD79',\n 'P49177': 'CRC-06673A2F707A2F44',\n 'P49185': 'CRC-04E388B4F94633D4',\n 'P49207': 'CRC-FC09D00B98CB770C',\n 'P49459': 'CRC-0AAEB5B7770E47E2',\n 'P49597': 'CRC-4A4C54F04195F572',\n 'P49674': 'CRC-EE1B1698AE914324',\n 'P49717': 'CRC-516ACC1A3C6FB16E',\n 'P49736': 'CRC-52C6DC61F128B404',\n 'P49763': 'CRC-D364C6A73C1C6987',\n 'P49765': 'CRC-EDE4B1C0DFDAD6BC',\n 'P49767': 'CRC-9F598719DB3E014F',\n 'P49768': 'CRC-5E0F451EF82BCF20',\n 'P49799': 'CRC-9647C0EC909D0F6F',\n 'P49815': 'CRC-7B915C46970D7D31',\n 'P49841': 'CRC-4ACC24D00CDBB9C3',\n 'P49848': 'CRC-06C6BFA563580823',\n 'P50148': 'CRC-6F69C4F617DFA7C7',\n 'P50462': 'CRC-E35CF30CA17CB227',\n 'P50538': 'CRC-92736F1C72E419FC',\n 'P50540': 'CRC-7B5D4ACAEF97C4F1',\n 'P50570': 'CRC-2F4567B75980935D',\n 'P50591': 'CRC-DDAAAF78DAAB2F6D',\n 'P50592': 'CRC-3FEACAB9F0D7D802',\n 'P50750': 'CRC-69E851CC6F7A0388',\n 'P51111': 'CRC-33C357E8FC141550',\n 'P51141': 'CRC-FA21ACAC48FF71E0',\n 'P51149': 'CRC-A2AF33B16A672971',\n 'P51150': 'CRC-A2AF33B16A672971',\n 'P51167': 'CRC-B771519A8A601031',\n 'P51449': 'CRC-7F423140BD7922BE',\n 'P51452': 'CRC-C1045DD9B226FD94',\n 'P51531': 'CRC-CE69BBB287D35AB5',\n 'P51572': 'CRC-D34367F870D6EB00',\n 'P51677': 'CRC-E95DCD7A6C643874',\n 'P51679': 'CRC-51EBE12AD1FAFABF',\n 'P51680': 'CRC-8FA760951BE2002B',\n 'P51693': 'CRC-B95F0F4D1C5CBAC7',\n 'P51812': 'CRC-486AE8357CEAB6C8',\n 'P51843': 'CRC-214E237097DF9786',\n 'P51965': 'CRC-2FBC50BE2A6A0008',\n 'P52205': 'CRC-7E82B59B7CD0E02D',\n 'P52332': 'CRC-0B9816AEA5B3868B',\n 'P52603': 'CRC-9835588E26B8BA60',\n 'P52735': 'CRC-C186911605FD5B73',\n 'P53566': 'CRC-1E6CC09A330BEFEF',\n 'P53667': 'CRC-9838BEFBE7006447',\n 'P53762': 'CRC-BDEC0991CD57D402',\n 'P53986': 'CRC-8B6DAB7741340DD7',\n 'P53994': 'CRC-58231E3F9EF007A5',\n 'P54130': 'CRC-4A3CE894DFF643EB',\n 'P54256': 'CRC-C23C5CB57520B574',\n 'P54258': 'CRC-7FB9928DCADF9B1F',\n 'P54274': 'CRC-AB548E7D3124A211',\n 'P54282': 'CRC-DFBD7A0F553AFA52',\n 'P54394': 'CRC-5E2DE3531C18A8C4',\n 'P54645': 'CRC-A869C340A85785ED',\n 'P54748-1': 'CRC-1A5F5101E4DBF1B6',\n 'P54748-2': 'CRC-1A5F5101E4DBF1B6',\n 'P54826': 'CRC-31A0CBEEC3632F82',\n 'P54921': 'CRC-662356859DF0BA3F',\n 'P55002': 'CRC-1F193F2BE2EF1D05',\n 'P55072': 'CRC-501B721D3A77BA8A',\n 'P55196': 'CRC-51486232F183A3BA',\n 'P55209': 'CRC-E5B2EAA4EAE551D2',\n 'P55258': 'CRC-AC89DC85588FB8F8',\n 'P55854': 'CRC-E337E34CB5B3B187',\n 'P55957': 'CRC-B17A07334C1AFBEF',\n 'P56277': 'CRC-0646725C35A915D9',\n 'P56279': 'CRC-90D55ABC97C36D04',\n 'P56371': 'CRC-E471820A506CDA01',\n 'P56524': 'CRC-BB7FD37652D12398',\n 'P56546': 'CRC-5A81B9D75A9E493B',\n 'P56589': 'CRC-3515A1F29656B7CC',\n 'P56597': 'CRC-9D37CD80338159A1',\n 'P57730': 'CRC-7E74C74263367101',\n 'P57776': 'CRC-FD55F872FDA06819',\n 'P58772': 'CRC-E25609F597A72F4D',\n 'P59190': 'CRC-D16A0C71797ED782',\n 'P60042': 'CRC-D48B5454C4490375',\n 'P60228': 'CRC-A5368651DD0DDD0C',\n 'P60484': 'CRC-75F97C3DD6802BA9',\n 'P60568': 'CRC-59E2F40F25860F84',\n 'P60709': 'CRC-6AFD05CA94E360E2',\n 'P60763': 'CRC-560BBC26BB7CDF4A',\n 'P60766': 'CRC-51A437E22A4D8FFF',\n 'P60842': 'CRC-6EF89939F3045420',\n 'P60881': 'CRC-FBED2B082A4CB6A6',\n 'P60891': 'CRC-46D017E969908BA0',\n 'P60953': 'CRC-51A437E22A4D8FFF',\n 'P60981': 'CRC-8868A3167924100E',\n 'P61019': 'CRC-F8731E3F8FB399A3',\n 'P61027': 'CRC-7F02B8E8E46EE1E8',\n 'P61073': 'CRC-8C8476A186786B83',\n 'P61586': 'CRC-C4DA2DC31FF858BC',\n 'P61587': 'CRC-DD2D4021CD42BACC',\n 'P61588': 'CRC-DD2D4021CD42BACC',\n 'P61626': 'CRC-8ECFD276BEB2678A',\n 'P61765': 'CRC-2DD0715F875CE0F3',\n 'P61769': 'CRC-AFD2DBEF07DCEF27',\n 'P62136': 'CRC-60C37E1AD9831DAC',\n 'P62149': 'CRC-6B4BC3FCDE10727B',\n 'P62157': 'CRC-6B4BC3FCDE10727B',\n 'P62158': 'CRC-6B4BC3FCDE10727B',\n 'P62160': 'CRC-6B4BC3FCDE10727B',\n 'P62161': 'CRC-6B4BC3FCDE10727B',\n 'P62199': 'CRC-EB2B188A90AD508D',\n 'P62258': 'CRC-07817CCBD1F75B26',\n 'P62259': 'CRC-07817CCBD1F75B26',\n 'P62310': 'CRC-206B0DF0D95CD4D2',\n 'P62312': 'CRC-21167891FDE804F1',\n 'P62331': 'CRC-49E38E59AEA52B98',\n 'P62491': 'CRC-76FC1E113A29B269',\n 'P62492': 'CRC-76FC1E113A29B269',\n 'P62500': 'CRC-35749C0C1CA1E1B6',\n 'P62630': 'CRC-71072871DE7405DC',\n 'P62813': 'CRC-A270B43423B4086E',\n 'P62821': 'CRC-B2A8F4E3B0FB17D6',\n 'P62826': 'CRC-D5C9B7275C34BCE0',\n 'P62834': 'CRC-42C39290C98E0A92',\n 'P62873': 'CRC-896CBD32D2686598',\n 'P62879': 'CRC-5D08FFA240ADEEE6',\n 'P62880': 'CRC-5D08FFA240ADEEE6',\n 'P62937': 'CRC-9B2E637A555E4434',\n 'P62960': 'CRC-C6667CF7CA10D45D',\n 'P62988': 'CRC-617BC63DF3A904F7',\n 'P62994': 'CRC-83A4B0BA1B248DC4',\n 'P62995': 'CRC-60B310C8BA443E28',\n 'P63001': 'CRC-ACEDF83A45E5EA67',\n 'P63006': 'CRC-CC8637984998ADAF',\n 'P63011': 'CRC-1A3E9F8C9D09EB40',\n 'P63045': 'CRC-4A0D0D56B5409D0A',\n 'P63059': 'CRC-0B0411F51F614A01',\n 'P63079': 'CRC-6A5ABD8A9143FE45',\n 'P63092': 'CRC-CD541181FC4412EF',\n 'P63095': 'CRC-20341187BE4412ED',\n 'P63096': 'CRC-9F88311B46E62DE3',\n 'P63101': 'CRC-2164DF3793B45B7A',\n 'P63104': 'CRC-D464DF2286BBFE60',\n 'P63140': 'CRC-1ADFB4B04A3CFC22',\n 'P63146': 'CRC-CFDEEEE7E06840BE',\n 'P63162': 'CRC-9A176D043561474C',\n 'P63165': 'CRC-89BE97D2D054FB33',\n 'P63167': 'CRC-F5E7647D092BEB3A',\n 'P63170': 'CRC-F5E7647D092BEB3A',\n 'P63213': 'CRC-EDB74E4135E7A37A',\n 'P63239': 'CRC-04239C7B6385382E',\n 'P63244': 'CRC-257F91E369ED2044',\n 'P63279': 'CRC-E2C826E9C8D0683D',\n 'P63300': 'CRC-03E297B668D3D7E0',\n 'P63329': 'CRC-16530C27DDBF1F05',\n 'P63330': 'CRC-8DC11276E6DF9E33',\n 'P67775': 'CRC-C602291F78F34555',\n 'P67930': 'CRC-77EC37A102584429',\n 'P68254': 'CRC-E30471260E8B366E',\n 'P68400': 'CRC-D3B6F5D13FF7422D',\n 'P69908': 'CRC-86F963E710553E22',\n 'P70188': 'CRC-38EBC7FD5312DAAB',\n 'P70196': 'CRC-F8389250425E4E2D',\n 'P70217': 'CRC-C1BD2FAF6D56E533',\n 'P70323': 'CRC-F6FE34621B2E7164',\n 'P70336': 'CRC-7A4F331165038161',\n 'P70339': 'CRC-1C0482997EA95323',\n 'P70371': 'CRC-3F648F18C3ECF20A',\n 'P70434': 'CRC-30B102C668F56142',\n 'P70452': 'CRC-FCD1477E1126CEC1',\n 'P70644': 'CRC-60B08E60EABA9F77',\n 'P70671': 'CRC-1FF67C4E0FC7F027',\n 'P78347': 'CRC-4CFA2C19002869B9',\n 'P78352': 'CRC-7922D3F220F9A101',\n 'P78364': 'CRC-D53764F80931A938',\n 'P78396': 'CRC-C9C023EEA1CF036D',\n 'P79348': 'CRC-23B39C2DC4A0617F',\n 'P80370': 'CRC-9A2813B2801A98BD',\n 'P80385': 'CRC-36031E526C1F1E97',\n 'P82471': 'CRC-33569BEE7BFF42BF',\n 'P83436': 'CRC-14DAC431B291582C',\n 'P83876': 'CRC-EDDDAD7ADAEE87F3',\n 'P84022': 'CRC-46DF5E8B371321AC',\n 'P84103': 'CRC-02F0A5EE33FF28A0',\n 'P92973': 'CRC-083C963EE6DD53A6',\n 'P97287': 'CRC-E4FD369DB0EC6723',\n 'P97428': 'CRC-AE3D798F15787392',\n 'P97454': 'CRC-D66B638DA76BC20B',\n 'P97465': 'CRC-C999C9FE0DA58EA3',\n 'P97471': 'CRC-4FBDF5DED4442F86',\n 'P97503': 'CRC-D089523714C86BA6',\n 'P97797': 'CRC-F3C483B0DC99BD9A',\n 'P97879': 'CRC-2EFFFFE0D8609C59',\n 'P97946': 'CRC-6636B17FBF07037C',\n 'P98066': 'CRC-E2B3AEB76353A782',\n 'P98078-3': 'CRC-856C946BD43C4B07',\n 'P98086': 'CRC-41C2066D49592020',\n 'P98170': 'CRC-9D394C16D45EB635',\n 'Q00262': 'CRC-9D82330D0F5CA2F4',\n 'Q00322': 'CRC-151F765946CDB275',\n 'Q00526': 'CRC-1128BE0096EA262A',\n 'Q00597': 'CRC-C9DDFFAC725D050C',\n 'Q00688': 'CRC-C144C5AAB7EA9522',\n 'Q00731': 'CRC-B5540B51E4BB6E17',\n 'Q00960': 'CRC-AEF8B9DF3C1B0D5D',\n 'Q00987': 'CRC-F37CE163876BC983',\n 'Q01081': 'CRC-3DA130DCE0B953F6',\n 'Q01094': 'CRC-003B3F654F0C60DF',\n 'Q01105': 'CRC-F4664118171EF230',\n 'Q01130': 'CRC-68121AC4D35714FA',\n 'Q01147': 'CRC-00D1F26B00D48442',\n 'Q01279': 'CRC-690E20D46DF2D2F5',\n 'Q01593': 'CRC-D6A0F740D733060F',\n 'Q01705': 'CRC-97C91F69BABF02BF',\n 'Q01728': 'CRC-EC456CFE3AFC6A69',\n 'Q01814': 'CRC-7F10221B7B9AC3A2',\n 'Q01831': 'CRC-2F8C80D43FAA1256',\n 'Q02040': 'CRC-639E88ECA8006CF2',\n 'Q02242': 'CRC-4AD3C5F0F9D4200A',\n 'Q02248': 'CRC-D708F170A3FBED6E',\n ...}"
     },
     "execution_count": 25,
     "metadata": {},
     "output_type": "execute_result"
    }
   ],
   "source": [
    "hlookup"
   ],
   "metadata": {
    "collapsed": false
   }
  },
  {
   "cell_type": "code",
   "execution_count": 20,
   "outputs": [
    {
     "data": {
      "text/plain": "1932"
     },
     "execution_count": 20,
     "metadata": {},
     "output_type": "execute_result"
    }
   ],
   "source": [
    "hash_negatome = extract.ppis_to_hashes(\n",
    "    negatome, npath / 'manual_stringent.json')\n",
    "len(hash_negatome)"
   ],
   "metadata": {
    "collapsed": false
   }
  },
  {
   "cell_type": "code",
   "execution_count": 21,
   "outputs": [
    {
     "data": {
      "text/plain": "                    hash_A                hash_B\n1730  CRC-002B96F5A998B5CD  CRC-530D84854E943CD4\n1546  CRC-003B3F654F0C60DF  CRC-1AF2ABBBC79191DD\n1255  CRC-003B3F654F0C60DF  CRC-46DF5E8B371321AC\n1524  CRC-003B3F654F0C60DF  CRC-723D63962FB29BD9\n1395  CRC-003B3F654F0C60DF  CRC-95406DB5FC0AA4C9",
      "text/html": "<div>\n<style scoped>\n    .dataframe tbody tr th:only-of-type {\n        vertical-align: middle;\n    }\n\n    .dataframe tbody tr th {\n        vertical-align: top;\n    }\n\n    .dataframe thead th {\n        text-align: right;\n    }\n</style>\n<table border=\"1\" class=\"dataframe\">\n  <thead>\n    <tr style=\"text-align: right;\">\n      <th></th>\n      <th>hash_A</th>\n      <th>hash_B</th>\n    </tr>\n  </thead>\n  <tbody>\n    <tr>\n      <th>1730</th>\n      <td>CRC-002B96F5A998B5CD</td>\n      <td>CRC-530D84854E943CD4</td>\n    </tr>\n    <tr>\n      <th>1546</th>\n      <td>CRC-003B3F654F0C60DF</td>\n      <td>CRC-1AF2ABBBC79191DD</td>\n    </tr>\n    <tr>\n      <th>1255</th>\n      <td>CRC-003B3F654F0C60DF</td>\n      <td>CRC-46DF5E8B371321AC</td>\n    </tr>\n    <tr>\n      <th>1524</th>\n      <td>CRC-003B3F654F0C60DF</td>\n      <td>CRC-723D63962FB29BD9</td>\n    </tr>\n    <tr>\n      <th>1395</th>\n      <td>CRC-003B3F654F0C60DF</td>\n      <td>CRC-95406DB5FC0AA4C9</td>\n    </tr>\n  </tbody>\n</table>\n</div>"
     },
     "execution_count": 21,
     "metadata": {},
     "output_type": "execute_result"
    }
   ],
   "source": [
    "hash_negatome.head()"
   ],
   "metadata": {
    "collapsed": false
   }
  },
  {
   "cell_type": "code",
   "execution_count": 22,
   "outputs": [
    {
     "data": {
      "text/plain": "1932"
     },
     "execution_count": 22,
     "metadata": {},
     "output_type": "execute_result"
    }
   ],
   "source": [
    "len(reduce.dedup_pairs(hash_negatome))"
   ],
   "metadata": {
    "collapsed": false
   }
  },
  {
   "cell_type": "code",
   "execution_count": 26,
   "outputs": [],
   "source": [
    "fasta |= {r.id: str(r.seq) for r in SeqIO.parse(\n",
    "    npath / 'manual_stringent.hash.fasta', 'fasta')}"
   ],
   "metadata": {
    "collapsed": false
   }
  },
  {
   "cell_type": "code",
   "execution_count": 27,
   "outputs": [
    {
     "data": {
      "text/plain": "                    hash_A                hash_B\n1730  CRC-002B96F5A998B5CD  CRC-530D84854E943CD4\n1546  CRC-003B3F654F0C60DF  CRC-1AF2ABBBC79191DD\n1255  CRC-003B3F654F0C60DF  CRC-46DF5E8B371321AC\n1524  CRC-003B3F654F0C60DF  CRC-723D63962FB29BD9\n1395  CRC-003B3F654F0C60DF  CRC-95406DB5FC0AA4C9",
      "text/html": "<div>\n<style scoped>\n    .dataframe tbody tr th:only-of-type {\n        vertical-align: middle;\n    }\n\n    .dataframe tbody tr th {\n        vertical-align: top;\n    }\n\n    .dataframe thead th {\n        text-align: right;\n    }\n</style>\n<table border=\"1\" class=\"dataframe\">\n  <thead>\n    <tr style=\"text-align: right;\">\n      <th></th>\n      <th>hash_A</th>\n      <th>hash_B</th>\n    </tr>\n  </thead>\n  <tbody>\n    <tr>\n      <th>1730</th>\n      <td>CRC-002B96F5A998B5CD</td>\n      <td>CRC-530D84854E943CD4</td>\n    </tr>\n    <tr>\n      <th>1546</th>\n      <td>CRC-003B3F654F0C60DF</td>\n      <td>CRC-1AF2ABBBC79191DD</td>\n    </tr>\n    <tr>\n      <th>1255</th>\n      <td>CRC-003B3F654F0C60DF</td>\n      <td>CRC-46DF5E8B371321AC</td>\n    </tr>\n    <tr>\n      <th>1524</th>\n      <td>CRC-003B3F654F0C60DF</td>\n      <td>CRC-723D63962FB29BD9</td>\n    </tr>\n    <tr>\n      <th>1395</th>\n      <td>CRC-003B3F654F0C60DF</td>\n      <td>CRC-95406DB5FC0AA4C9</td>\n    </tr>\n  </tbody>\n</table>\n</div>"
     },
     "execution_count": 27,
     "metadata": {},
     "output_type": "execute_result"
    }
   ],
   "source": [
    "hash_negatome.head()"
   ],
   "metadata": {
    "collapsed": false
   }
  },
  {
   "cell_type": "markdown",
   "source": [
    "## cut in: write a combined TSV for Horia"
   ],
   "metadata": {
    "collapsed": false
   }
  },
  {
   "cell_type": "code",
   "execution_count": 44,
   "outputs": [
    {
     "data": {
      "text/plain": "      ida     idb\n0  Q6ZNK6  Q9Y4K3\n1  Q9NR31  Q15797\n2  P11627  P53986\n3  P33176  Q96EK5\n4  Q9NPY3  P02745",
      "text/html": "<div>\n<style scoped>\n    .dataframe tbody tr th:only-of-type {\n        vertical-align: middle;\n    }\n\n    .dataframe tbody tr th {\n        vertical-align: top;\n    }\n\n    .dataframe thead th {\n        text-align: right;\n    }\n</style>\n<table border=\"1\" class=\"dataframe\">\n  <thead>\n    <tr style=\"text-align: right;\">\n      <th></th>\n      <th>ida</th>\n      <th>idb</th>\n    </tr>\n  </thead>\n  <tbody>\n    <tr>\n      <th>0</th>\n      <td>Q6ZNK6</td>\n      <td>Q9Y4K3</td>\n    </tr>\n    <tr>\n      <th>1</th>\n      <td>Q9NR31</td>\n      <td>Q15797</td>\n    </tr>\n    <tr>\n      <th>2</th>\n      <td>P11627</td>\n      <td>P53986</td>\n    </tr>\n    <tr>\n      <th>3</th>\n      <td>P33176</td>\n      <td>Q96EK5</td>\n    </tr>\n    <tr>\n      <th>4</th>\n      <td>Q9NPY3</td>\n      <td>P02745</td>\n    </tr>\n  </tbody>\n</table>\n</div>"
     },
     "execution_count": 44,
     "metadata": {},
     "output_type": "execute_result"
    }
   ],
   "source": [
    "unn = negatome.copy()\n",
    "unn.columns = ['ida', 'idb']\n",
    "unn.head()"
   ],
   "metadata": {
    "collapsed": false
   }
  },
  {
   "cell_type": "code",
   "execution_count": 45,
   "outputs": [
    {
     "data": {
      "text/plain": "      ida     idb                  crca                  crcb pdockq  label  \\\n0  Q6ZNK6  Q9Y4K3  CRC-FE37A8C33F60BB42  CRC-5AB9C255CCFEE749   <NA>      0   \n1  Q9NR31  Q15797  CRC-38A869175CBA54F3  CRC-2DD34B7F434DBC7E   <NA>      0   \n2  P11627  P53986  CRC-22BE57001CB2A538  CRC-8B6DAB7741340DD7   <NA>      0   \n3  P33176  Q96EK5  CRC-A1FE5760C3250C8B  CRC-DA86308364D31335   <NA>      0   \n4  Q9NPY3  P02745  CRC-EECA0FEAC55FCAC2  CRC-8FF6B6AE02D49C4C   <NA>      0   \n\n    dataset  \n0  negatome  \n1  negatome  \n2  negatome  \n3  negatome  \n4  negatome  ",
      "text/html": "<div>\n<style scoped>\n    .dataframe tbody tr th:only-of-type {\n        vertical-align: middle;\n    }\n\n    .dataframe tbody tr th {\n        vertical-align: top;\n    }\n\n    .dataframe thead th {\n        text-align: right;\n    }\n</style>\n<table border=\"1\" class=\"dataframe\">\n  <thead>\n    <tr style=\"text-align: right;\">\n      <th></th>\n      <th>ida</th>\n      <th>idb</th>\n      <th>crca</th>\n      <th>crcb</th>\n      <th>pdockq</th>\n      <th>label</th>\n      <th>dataset</th>\n    </tr>\n  </thead>\n  <tbody>\n    <tr>\n      <th>0</th>\n      <td>Q6ZNK6</td>\n      <td>Q9Y4K3</td>\n      <td>CRC-FE37A8C33F60BB42</td>\n      <td>CRC-5AB9C255CCFEE749</td>\n      <td>&lt;NA&gt;</td>\n      <td>0</td>\n      <td>negatome</td>\n    </tr>\n    <tr>\n      <th>1</th>\n      <td>Q9NR31</td>\n      <td>Q15797</td>\n      <td>CRC-38A869175CBA54F3</td>\n      <td>CRC-2DD34B7F434DBC7E</td>\n      <td>&lt;NA&gt;</td>\n      <td>0</td>\n      <td>negatome</td>\n    </tr>\n    <tr>\n      <th>2</th>\n      <td>P11627</td>\n      <td>P53986</td>\n      <td>CRC-22BE57001CB2A538</td>\n      <td>CRC-8B6DAB7741340DD7</td>\n      <td>&lt;NA&gt;</td>\n      <td>0</td>\n      <td>negatome</td>\n    </tr>\n    <tr>\n      <th>3</th>\n      <td>P33176</td>\n      <td>Q96EK5</td>\n      <td>CRC-A1FE5760C3250C8B</td>\n      <td>CRC-DA86308364D31335</td>\n      <td>&lt;NA&gt;</td>\n      <td>0</td>\n      <td>negatome</td>\n    </tr>\n    <tr>\n      <th>4</th>\n      <td>Q9NPY3</td>\n      <td>P02745</td>\n      <td>CRC-EECA0FEAC55FCAC2</td>\n      <td>CRC-8FF6B6AE02D49C4C</td>\n      <td>&lt;NA&gt;</td>\n      <td>0</td>\n      <td>negatome</td>\n    </tr>\n  </tbody>\n</table>\n</div>"
     },
     "execution_count": 45,
     "metadata": {},
     "output_type": "execute_result"
    }
   ],
   "source": [
    "unn['crca'] = unn.ida.apply(hlookup.get)\n",
    "unn['crcb'] = unn.idb.apply(hlookup.get)\n",
    "unn[['pdockq', 'label', 'dataset']] = pd.NA, 0, 'negatome'\n",
    "unn.head()"
   ],
   "metadata": {
    "collapsed": false
   }
  },
  {
   "cell_type": "code",
   "execution_count": 46,
   "outputs": [],
   "source": [
    "# now sort horizontally by the crc64 hash\n",
    "unn.loc[unn.ida > unn.idb, ['ida', 'idb', 'crca', 'crcb']] = unn.loc[unn.ida > unn.idb, ['idb', 'ida', 'crcb', 'crca']].values\n",
    "unn = unn.sort_values(by=['dataset', 'crca', 'crcb', 'ida', 'idb'])"
   ],
   "metadata": {
    "collapsed": false
   }
  },
  {
   "cell_type": "code",
   "execution_count": 47,
   "outputs": [
    {
     "data": {
      "text/plain": "         ida     idb                  crca                  crcb pdockq  \\\n1730  P39447  Q8VHG2  CRC-002B96F5A998B5CD  CRC-530D84854E943CD4   <NA>   \n1546  Q01094  Q06546  CRC-003B3F654F0C60DF  CRC-1AF2ABBBC79191DD   <NA>   \n1524  Q01094  Q06547  CRC-003B3F654F0C60DF  CRC-723D63962FB29BD9   <NA>   \n1395  Q01094  Q15796  CRC-003B3F654F0C60DF  CRC-95406DB5FC0AA4C9   <NA>   \n806   P25311  P61769  CRC-006A153A8E32A0B1  CRC-AFD2DBEF07DCEF27   <NA>   \n\n      label   dataset  \n1730      0  negatome  \n1546      0  negatome  \n1524      0  negatome  \n1395      0  negatome  \n806       0  negatome  ",
      "text/html": "<div>\n<style scoped>\n    .dataframe tbody tr th:only-of-type {\n        vertical-align: middle;\n    }\n\n    .dataframe tbody tr th {\n        vertical-align: top;\n    }\n\n    .dataframe thead th {\n        text-align: right;\n    }\n</style>\n<table border=\"1\" class=\"dataframe\">\n  <thead>\n    <tr style=\"text-align: right;\">\n      <th></th>\n      <th>ida</th>\n      <th>idb</th>\n      <th>crca</th>\n      <th>crcb</th>\n      <th>pdockq</th>\n      <th>label</th>\n      <th>dataset</th>\n    </tr>\n  </thead>\n  <tbody>\n    <tr>\n      <th>1730</th>\n      <td>P39447</td>\n      <td>Q8VHG2</td>\n      <td>CRC-002B96F5A998B5CD</td>\n      <td>CRC-530D84854E943CD4</td>\n      <td>&lt;NA&gt;</td>\n      <td>0</td>\n      <td>negatome</td>\n    </tr>\n    <tr>\n      <th>1546</th>\n      <td>Q01094</td>\n      <td>Q06546</td>\n      <td>CRC-003B3F654F0C60DF</td>\n      <td>CRC-1AF2ABBBC79191DD</td>\n      <td>&lt;NA&gt;</td>\n      <td>0</td>\n      <td>negatome</td>\n    </tr>\n    <tr>\n      <th>1524</th>\n      <td>Q01094</td>\n      <td>Q06547</td>\n      <td>CRC-003B3F654F0C60DF</td>\n      <td>CRC-723D63962FB29BD9</td>\n      <td>&lt;NA&gt;</td>\n      <td>0</td>\n      <td>negatome</td>\n    </tr>\n    <tr>\n      <th>1395</th>\n      <td>Q01094</td>\n      <td>Q15796</td>\n      <td>CRC-003B3F654F0C60DF</td>\n      <td>CRC-95406DB5FC0AA4C9</td>\n      <td>&lt;NA&gt;</td>\n      <td>0</td>\n      <td>negatome</td>\n    </tr>\n    <tr>\n      <th>806</th>\n      <td>P25311</td>\n      <td>P61769</td>\n      <td>CRC-006A153A8E32A0B1</td>\n      <td>CRC-AFD2DBEF07DCEF27</td>\n      <td>&lt;NA&gt;</td>\n      <td>0</td>\n      <td>negatome</td>\n    </tr>\n  </tbody>\n</table>\n</div>"
     },
     "execution_count": 47,
     "metadata": {},
     "output_type": "execute_result"
    }
   ],
   "source": [
    "unn.head()"
   ],
   "metadata": {
    "collapsed": false
   }
  },
  {
   "cell_type": "code",
   "execution_count": 49,
   "outputs": [],
   "source": [
    "unn.to_csv('negatome_scores.tsv', sep='\\t', header=True, index=False)"
   ],
   "metadata": {
    "collapsed": false
   }
  },
  {
   "cell_type": "markdown",
   "source": [
    "### continue as if nothing happened"
   ],
   "metadata": {
    "collapsed": false
   }
  },
  {
   "cell_type": "code",
   "execution_count": null,
   "outputs": [],
   "source": [
    "hash_negatome['len'] = hash_negatome.hash_A.apply(lambda ha: len(fasta[ha])) + hash_negatome.hash_B.apply(lambda ha: len(fasta[ha]))\n",
    "hash_negatome"
   ],
   "metadata": {
    "collapsed": false,
    "pycharm": {
     "is_executing": true
    }
   }
  },
  {
   "cell_type": "code",
   "execution_count": 61,
   "outputs": [
    {
     "data": {
      "text/plain": "                    hash_A                hash_B  len  label\n1877  CRC-21167891FDE804F1  CRC-21167891FDE804F1  160      0\n1695  CRC-21167891FDE804F1  CRC-623591A09A6ABACE  175      0\n1468  CRC-82B5C8830E64C992  CRC-82B5C8830E64C992  182      0\n1797  CRC-860CBB1416ACBCA1  CRC-AD5E53AF326B25D2  184      0",
      "text/html": "<div>\n<style scoped>\n    .dataframe tbody tr th:only-of-type {\n        vertical-align: middle;\n    }\n\n    .dataframe tbody tr th {\n        vertical-align: top;\n    }\n\n    .dataframe thead th {\n        text-align: right;\n    }\n</style>\n<table border=\"1\" class=\"dataframe\">\n  <thead>\n    <tr style=\"text-align: right;\">\n      <th></th>\n      <th>hash_A</th>\n      <th>hash_B</th>\n      <th>len</th>\n      <th>label</th>\n    </tr>\n  </thead>\n  <tbody>\n    <tr>\n      <th>1877</th>\n      <td>CRC-21167891FDE804F1</td>\n      <td>CRC-21167891FDE804F1</td>\n      <td>160</td>\n      <td>0</td>\n    </tr>\n    <tr>\n      <th>1695</th>\n      <td>CRC-21167891FDE804F1</td>\n      <td>CRC-623591A09A6ABACE</td>\n      <td>175</td>\n      <td>0</td>\n    </tr>\n    <tr>\n      <th>1468</th>\n      <td>CRC-82B5C8830E64C992</td>\n      <td>CRC-82B5C8830E64C992</td>\n      <td>182</td>\n      <td>0</td>\n    </tr>\n    <tr>\n      <th>1797</th>\n      <td>CRC-860CBB1416ACBCA1</td>\n      <td>CRC-AD5E53AF326B25D2</td>\n      <td>184</td>\n      <td>0</td>\n    </tr>\n  </tbody>\n</table>\n</div>"
     },
     "execution_count": 61,
     "metadata": {},
     "output_type": "execute_result"
    }
   ],
   "source": [
    "nega = hash_negatome.sort_values(by='len').head(sample_size).copy()\n",
    "nega['label'] = 0\n",
    "nega"
   ],
   "metadata": {
    "collapsed": false
   }
  },
  {
   "cell_type": "code",
   "execution_count": 29,
   "outputs": [
    {
     "data": {
      "text/plain": "                    hash_A                hash_B   len\n246   CRC-3AB8269966FDB513  CRC-D93C88E3C26D64B9   288\n1970  CRC-408C59F0CCAA6781  CRC-F073C2BA91FE0059   353\n1246  CRC-6B4BC3FCDE10727B  CRC-9FD56ACB878FBCCA   381\n365   CRC-4874D6CC0B1646F5  CRC-E660843361C28EBA   425\n547   CRC-44AE51967C58DDFF  CRC-C3F2A3E71D972E2D   434\n...                    ...                   ...   ...\n57    CRC-6DDD0F49C4E490D3  CRC-CE69BBB287D35AB5  2323\n1676  CRC-8D082AA2E768C065  CRC-CA838BCD2AF3CA68  2468\n446   CRC-6C436A7A5FEE6DEB  CRC-A2E181ED28DD6082  2879\n313   CRC-3B66BCC464B393FB  CRC-3BEA9B8558BA1A5E  2883\n840   CRC-70A89C9A19612AAD  CRC-B71E2D55A444C360  2939\n\n[100 rows x 3 columns]",
      "text/html": "<div>\n<style scoped>\n    .dataframe tbody tr th:only-of-type {\n        vertical-align: middle;\n    }\n\n    .dataframe tbody tr th {\n        vertical-align: top;\n    }\n\n    .dataframe thead th {\n        text-align: right;\n    }\n</style>\n<table border=\"1\" class=\"dataframe\">\n  <thead>\n    <tr style=\"text-align: right;\">\n      <th></th>\n      <th>hash_A</th>\n      <th>hash_B</th>\n      <th>len</th>\n    </tr>\n  </thead>\n  <tbody>\n    <tr>\n      <th>246</th>\n      <td>CRC-3AB8269966FDB513</td>\n      <td>CRC-D93C88E3C26D64B9</td>\n      <td>288</td>\n    </tr>\n    <tr>\n      <th>1970</th>\n      <td>CRC-408C59F0CCAA6781</td>\n      <td>CRC-F073C2BA91FE0059</td>\n      <td>353</td>\n    </tr>\n    <tr>\n      <th>1246</th>\n      <td>CRC-6B4BC3FCDE10727B</td>\n      <td>CRC-9FD56ACB878FBCCA</td>\n      <td>381</td>\n    </tr>\n    <tr>\n      <th>365</th>\n      <td>CRC-4874D6CC0B1646F5</td>\n      <td>CRC-E660843361C28EBA</td>\n      <td>425</td>\n    </tr>\n    <tr>\n      <th>547</th>\n      <td>CRC-44AE51967C58DDFF</td>\n      <td>CRC-C3F2A3E71D972E2D</td>\n      <td>434</td>\n    </tr>\n    <tr>\n      <th>...</th>\n      <td>...</td>\n      <td>...</td>\n      <td>...</td>\n    </tr>\n    <tr>\n      <th>57</th>\n      <td>CRC-6DDD0F49C4E490D3</td>\n      <td>CRC-CE69BBB287D35AB5</td>\n      <td>2323</td>\n    </tr>\n    <tr>\n      <th>1676</th>\n      <td>CRC-8D082AA2E768C065</td>\n      <td>CRC-CA838BCD2AF3CA68</td>\n      <td>2468</td>\n    </tr>\n    <tr>\n      <th>446</th>\n      <td>CRC-6C436A7A5FEE6DEB</td>\n      <td>CRC-A2E181ED28DD6082</td>\n      <td>2879</td>\n    </tr>\n    <tr>\n      <th>313</th>\n      <td>CRC-3B66BCC464B393FB</td>\n      <td>CRC-3BEA9B8558BA1A5E</td>\n      <td>2883</td>\n    </tr>\n    <tr>\n      <th>840</th>\n      <td>CRC-70A89C9A19612AAD</td>\n      <td>CRC-B71E2D55A444C360</td>\n      <td>2939</td>\n    </tr>\n  </tbody>\n</table>\n<p>100 rows × 3 columns</p>\n</div>"
     },
     "execution_count": 29,
     "metadata": {},
     "output_type": "execute_result"
    }
   ],
   "source": [
    "# 100 not-too-long ones for colabfold\n",
    "n_negatome_pairs = 100\n",
    "\n",
    "crop = hash_negatome.loc[hash_negatome.len < 3000]\n",
    "\n",
    "rng = np.random.default_rng(42)\n",
    "chc = rng.choice(len(crop), size=100,\n",
    "                 replace=True, shuffle=True)\n",
    "crop = crop.iloc[sorted(chc)].sort_values(by='len')\n",
    "crop"
   ],
   "metadata": {
    "collapsed": false
   }
  },
  {
   "cell_type": "code",
   "execution_count": 167,
   "outputs": [],
   "source": [
    "with (npath / f'negatome_{n_negatome_pairs}'\n",
    "           f'_colabfold.fasta').open('w') as out_fasta:\n",
    "    for _, (ida, idb) in crop.iloc[:, [0, 1]].T.items():\n",
    "        to_fasta(f'{ida}_{idb}', f'{fasta[ida]}:{fasta[idb]}', out_fasta)"
   ],
   "metadata": {
    "collapsed": false
   }
  },
  {
   "cell_type": "code",
   "execution_count": 167,
   "outputs": [],
   "source": [],
   "metadata": {
    "collapsed": false
   }
  },
  {
   "cell_type": "code",
   "execution_count": 48,
   "outputs": [
    {
     "data": {
      "text/plain": "                    hash_A                hash_B  len\n1877  CRC-21167891FDE804F1  CRC-21167891FDE804F1  160\n1695  CRC-21167891FDE804F1  CRC-623591A09A6ABACE  175\n1468  CRC-82B5C8830E64C992  CRC-82B5C8830E64C992  182\n1797  CRC-860CBB1416ACBCA1  CRC-AD5E53AF326B25D2  184\n961   CRC-623591A09A6ABACE  CRC-82B5C8830E64C992  186\n1539  CRC-15D26E6B75AA2EE1  CRC-82B5C8830E64C992  187\n1359  CRC-623591A09A6ABACE  CRC-623591A09A6ABACE  190\n1379  CRC-15D26E6B75AA2EE1  CRC-15D26E6B75AA2EE1  192\n1156  CRC-1729ED680290CFE4  CRC-AD5E53AF326B25D2  199\n1754  CRC-206B0DF0D95CD4D2  CRC-206B0DF0D95CD4D2  204\n742   CRC-1CDFB331167EE2CF  CRC-FB0BFAF9A87C620F  205\n1593  CRC-E337E34CB5B3B187  CRC-E337E34CB5B3B187  206\n1525  CRC-7429DC0FB365C9C8  CRC-7429DC0FB365C9C8  206\n743   CRC-15C649996E89319F  CRC-1CDFB331167EE2CF  213\n902   CRC-21167891FDE804F1  CRC-BCEFB20247335A1B  219\n1052  CRC-82B5C8830E64C992  CRC-FF798CDA9447037A  224\n1159  CRC-15D26E6B75AA2EE1  CRC-FF798CDA9447037A  229\n1635  CRC-82B5C8830E64C992  CRC-BCEFB20247335A1B  230\n93    CRC-92E7C8C2284A8804  CRC-E66DF4742300E839  232\n1108  CRC-623591A09A6ABACE  CRC-BCEFB20247335A1B  234",
      "text/html": "<div>\n<style scoped>\n    .dataframe tbody tr th:only-of-type {\n        vertical-align: middle;\n    }\n\n    .dataframe tbody tr th {\n        vertical-align: top;\n    }\n\n    .dataframe thead th {\n        text-align: right;\n    }\n</style>\n<table border=\"1\" class=\"dataframe\">\n  <thead>\n    <tr style=\"text-align: right;\">\n      <th></th>\n      <th>hash_A</th>\n      <th>hash_B</th>\n      <th>len</th>\n    </tr>\n  </thead>\n  <tbody>\n    <tr>\n      <th>1877</th>\n      <td>CRC-21167891FDE804F1</td>\n      <td>CRC-21167891FDE804F1</td>\n      <td>160</td>\n    </tr>\n    <tr>\n      <th>1695</th>\n      <td>CRC-21167891FDE804F1</td>\n      <td>CRC-623591A09A6ABACE</td>\n      <td>175</td>\n    </tr>\n    <tr>\n      <th>1468</th>\n      <td>CRC-82B5C8830E64C992</td>\n      <td>CRC-82B5C8830E64C992</td>\n      <td>182</td>\n    </tr>\n    <tr>\n      <th>1797</th>\n      <td>CRC-860CBB1416ACBCA1</td>\n      <td>CRC-AD5E53AF326B25D2</td>\n      <td>184</td>\n    </tr>\n    <tr>\n      <th>961</th>\n      <td>CRC-623591A09A6ABACE</td>\n      <td>CRC-82B5C8830E64C992</td>\n      <td>186</td>\n    </tr>\n    <tr>\n      <th>1539</th>\n      <td>CRC-15D26E6B75AA2EE1</td>\n      <td>CRC-82B5C8830E64C992</td>\n      <td>187</td>\n    </tr>\n    <tr>\n      <th>1359</th>\n      <td>CRC-623591A09A6ABACE</td>\n      <td>CRC-623591A09A6ABACE</td>\n      <td>190</td>\n    </tr>\n    <tr>\n      <th>1379</th>\n      <td>CRC-15D26E6B75AA2EE1</td>\n      <td>CRC-15D26E6B75AA2EE1</td>\n      <td>192</td>\n    </tr>\n    <tr>\n      <th>1156</th>\n      <td>CRC-1729ED680290CFE4</td>\n      <td>CRC-AD5E53AF326B25D2</td>\n      <td>199</td>\n    </tr>\n    <tr>\n      <th>1754</th>\n      <td>CRC-206B0DF0D95CD4D2</td>\n      <td>CRC-206B0DF0D95CD4D2</td>\n      <td>204</td>\n    </tr>\n    <tr>\n      <th>742</th>\n      <td>CRC-1CDFB331167EE2CF</td>\n      <td>CRC-FB0BFAF9A87C620F</td>\n      <td>205</td>\n    </tr>\n    <tr>\n      <th>1593</th>\n      <td>CRC-E337E34CB5B3B187</td>\n      <td>CRC-E337E34CB5B3B187</td>\n      <td>206</td>\n    </tr>\n    <tr>\n      <th>1525</th>\n      <td>CRC-7429DC0FB365C9C8</td>\n      <td>CRC-7429DC0FB365C9C8</td>\n      <td>206</td>\n    </tr>\n    <tr>\n      <th>743</th>\n      <td>CRC-15C649996E89319F</td>\n      <td>CRC-1CDFB331167EE2CF</td>\n      <td>213</td>\n    </tr>\n    <tr>\n      <th>902</th>\n      <td>CRC-21167891FDE804F1</td>\n      <td>CRC-BCEFB20247335A1B</td>\n      <td>219</td>\n    </tr>\n    <tr>\n      <th>1052</th>\n      <td>CRC-82B5C8830E64C992</td>\n      <td>CRC-FF798CDA9447037A</td>\n      <td>224</td>\n    </tr>\n    <tr>\n      <th>1159</th>\n      <td>CRC-15D26E6B75AA2EE1</td>\n      <td>CRC-FF798CDA9447037A</td>\n      <td>229</td>\n    </tr>\n    <tr>\n      <th>1635</th>\n      <td>CRC-82B5C8830E64C992</td>\n      <td>CRC-BCEFB20247335A1B</td>\n      <td>230</td>\n    </tr>\n    <tr>\n      <th>93</th>\n      <td>CRC-92E7C8C2284A8804</td>\n      <td>CRC-E66DF4742300E839</td>\n      <td>232</td>\n    </tr>\n    <tr>\n      <th>1108</th>\n      <td>CRC-623591A09A6ABACE</td>\n      <td>CRC-BCEFB20247335A1B</td>\n      <td>234</td>\n    </tr>\n  </tbody>\n</table>\n</div>"
     },
     "execution_count": 48,
     "metadata": {},
     "output_type": "execute_result"
    }
   ],
   "source": [
    "# the 10 shortest for EMBER3D\n",
    "n_negatome_pairs = 20\n",
    "\n",
    "ngts = hash_negatome.sort_values(by='len').head(n_negatome_pairs)\n",
    "ngts"
   ],
   "metadata": {
    "collapsed": false
   }
  },
  {
   "cell_type": "code",
   "execution_count": 49,
   "outputs": [],
   "source": [
    "from Bio.Seq import reverse_complement"
   ],
   "metadata": {
    "collapsed": false
   }
  },
  {
   "cell_type": "code",
   "execution_count": 50,
   "outputs": [
    {
     "data": {
      "text/plain": "'LLHTHS'"
     },
     "execution_count": 50,
     "metadata": {},
     "output_type": "execute_result"
    }
   ],
   "source": [
    "reverse_complement('SDADLL')"
   ],
   "metadata": {
    "collapsed": false
   }
  },
  {
   "cell_type": "code",
   "execution_count": 51,
   "outputs": [],
   "source": [
    "def orient(seq: str, direction: str) -> str:\n",
    "    if direction == 'fw':\n",
    "        return seq\n",
    "    elif direction == 'rev':\n",
    "        return seq[::-1]\n",
    "    elif direction == 'rc':\n",
    "        return reverse_complement(seq)\n",
    "    assert False, 'illegal orientation'"
   ],
   "metadata": {
    "collapsed": false
   }
  },
  {
   "cell_type": "code",
   "execution_count": 47,
   "outputs": [],
   "source": [
    "with (ember_dir / 'experi' / f'negatome_{n_negatome_pairs}_ember'\n",
    "                             '.fasta').open('w') as out_fasta:\n",
    "    for _, (ida, idb) in ngts[[\n",
    "        'hash_A', 'hash_B']].T.items():\n",
    "        for spacer_len in [0, 10, 20, 60, 200]:\n",
    "            for direction in ['fw', 'rev']:\n",
    "                to_fasta(\n",
    "                    f'{ida}_{idb}_{spacer_len}_ni_{direction}',\n",
    "                    f'{fasta[ida]}{\"N\" * spacer_len}{orient(fasta[idb], direction)}',\n",
    "                    out_fasta)"
   ],
   "metadata": {
    "collapsed": false
   }
  },
  {
   "cell_type": "code",
   "execution_count": 40,
   "outputs": [
    {
     "name": "stdout",
     "output_type": "stream",
     "text": [
      "python: can't open file '/home/quirin/PYTHON/ppi/colabfold/predict.py': [Errno 2] No such file or directory\r\n"
     ]
    }
   ],
   "source": [
    "!python predict.py --output-2d --no-pdb --save-distance-array --t5-dir \"/mnt/project/kaindl/ppi/embed_data/t5_xl_weights\" -i \"experi/five.fasta\" -o \"experi/five\""
   ],
   "metadata": {
    "collapsed": false
   }
  },
  {
   "cell_type": "markdown",
   "source": [
    "## re-try without idiotic reversing, but literature linkers"
   ],
   "metadata": {
    "collapsed": false
   }
  },
  {
   "cell_type": "code",
   "execution_count": 65,
   "outputs": [],
   "source": [
    "with (ember_dir / 'experi' / 'six.fasta').open('w') as out_fasta:\n",
    "    for df in [ppis, negs, hd_ppis, hd_negs, nega]:\n",
    "        for _, (ida, idb, label) in df[[\n",
    "            'hash_A', 'hash_B', 'label']].T.items():\n",
    "            for spacer_name, spacer in zip(\n",
    "                    ['20n', '200n', '50g', 'ggs'],\n",
    "                    ['N' * 20, 'N' * 200, 'G' * 50, 'GGS' * 7]):\n",
    "                to_fasta(\n",
    "                    f'{ida}_{idb}_{spacer_name}'\n",
    "                    f'{\"_i\" if label else \"_ni\"}',\n",
    "                    f'{fasta[ida]}{spacer}{fasta[idb]}',\n",
    "                    out_fasta)"
   ],
   "metadata": {
    "collapsed": false
   }
  },
  {
   "cell_type": "code",
   "execution_count": 83,
   "outputs": [],
   "source": [
    "with (ember_dir / 'experi' / 'seven.fasta').open('w') as out_fasta, (\n",
    "        ember_dir / 'experi' / 'seven.tsv').open('w') as out_tsv:\n",
    "    written = set()\n",
    "    out_tsv.write('hash_A\\thash_B\\tlabel\\n')\n",
    "    for df in [ppis, negs, hd_ppis, hd_negs, nega]:\n",
    "        for _, (ida, idb, label) in df[[\n",
    "            'hash_A', 'hash_B', 'label']].T.items():\n",
    "            out_tsv.write(f'{ida}\\t{idb}\\t{label}\\n')\n",
    "            for i in [ida, idb]:\n",
    "                if i not in written:\n",
    "                    to_fasta(i, fasta[i], out_fasta)\n",
    "                    written.add(i)"
   ],
   "metadata": {
    "collapsed": false
   }
  },
  {
   "cell_type": "code",
   "execution_count": null,
   "outputs": [],
   "source": [],
   "metadata": {
    "collapsed": false
   }
  }
 ],
 "metadata": {
  "kernelspec": {
   "display_name": "Python 3",
   "language": "python",
   "name": "python3"
  },
  "language_info": {
   "codemirror_mode": {
    "name": "ipython",
    "version": 2
   },
   "file_extension": ".py",
   "mimetype": "text/x-python",
   "name": "python",
   "nbconvert_exporter": "python",
   "pygments_lexer": "ipython2",
   "version": "2.7.6"
  }
 },
 "nbformat": 4,
 "nbformat_minor": 0
}
